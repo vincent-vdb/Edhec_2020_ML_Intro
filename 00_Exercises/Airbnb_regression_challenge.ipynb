{
 "cells": [
  {
   "cell_type": "markdown",
   "metadata": {
    "slideshow": {
     "slide_type": "-"
    }
   },
   "source": [
    "# Airbnb regression challenge"
   ]
  },
  {
   "cell_type": "markdown",
   "metadata": {},
   "source": [
    "In this challenge, you will make a regression on the Airbnb dataset. The airbnb dataset for Paris can be downloaded [here](http://data.insideairbnb.com/france/ile-de-france/paris/2020-08-22/data/listings.csv.gz).\n",
    "\n",
    "The aim of this challenge will be to predict the `price` column of the dataset."
   ]
  },
  {
   "cell_type": "markdown",
   "metadata": {
    "slideshow": {
     "slide_type": "-"
    }
   },
   "source": [
    "# I. Data Exploration & Data Preparation"
   ]
  },
  {
   "cell_type": "markdown",
   "metadata": {
    "slideshow": {
     "slide_type": "-"
    }
   },
   "source": [
    "First, you will explore and prepare the data.\n",
    "\n",
    "Follow at least the following steps:\n",
    "- load the data with pandas\n",
    "- have a look at some of the features, the missing data, the kind of data (categorical, quantitative, unstructured...)\n",
    "- Are there duplicates?\n",
    "\n",
    "Also display some plots, e.g.:\n",
    "- Plot the distribution of the prices (warning, the data format might need some processing with pandas)\n",
    "- Plot a heatmap (or a bubble chart) of the geolocation of apartments with price in false color (or bubble size) using `plt.scatter()`.\n",
    "- Plot correlation of the price to the number of beds: do you see any outlier?\n",
    "\n",
    "Prepare your data:\n",
    "- Choose the features you want to use\n",
    "- Split the data\n",
    "- Prepare the data (both categorical and quantitative features)"
   ]
  },
  {
   "cell_type": "markdown",
   "metadata": {},
   "source": [
    "# II. Model Training and Optimization"
   ]
  },
  {
   "cell_type": "markdown",
   "metadata": {},
   "source": [
    "First, you have to select an evaluation metric. Pick one among the regression metrics you know."
   ]
  },
  {
   "cell_type": "markdown",
   "metadata": {},
   "source": [
    "Select a model and train it. Do not forget to use gridsearch with cross validation to optimize the hyperparameters of your model.\n",
    "\n",
    "There are several regression models available on scikit-learn, among them:\n",
    "- linear regression\n",
    "- ridge regression\n",
    "- LASSO\n",
    "- PLS regression (not seen in the course, but you can have a look)\n",
    "\n",
    "Feel free to try all the models you want."
   ]
  },
  {
   "cell_type": "markdown",
   "metadata": {},
   "source": [
    "# III. Evaluate your model"
   ]
  },
  {
   "cell_type": "markdown",
   "metadata": {},
   "source": [
    "Finally evaluate your model on the test dataset."
   ]
  }
 ],
 "metadata": {
  "celltoolbar": "Slideshow",
  "kernelspec": {
   "display_name": "Python 3",
   "language": "python",
   "name": "python3"
  },
  "language_info": {
   "codemirror_mode": {
    "name": "ipython",
    "version": 3
   },
   "file_extension": ".py",
   "mimetype": "text/x-python",
   "name": "python",
   "nbconvert_exporter": "python",
   "pygments_lexer": "ipython3",
   "version": "3.7.4"
  }
 },
 "nbformat": 4,
 "nbformat_minor": 2
}
