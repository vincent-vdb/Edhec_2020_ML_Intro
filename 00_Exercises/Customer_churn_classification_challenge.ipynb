{
 "cells": [
  {
   "cell_type": "markdown",
   "metadata": {
    "slideshow": {
     "slide_type": "-"
    }
   },
   "source": [
    "# Customer churn classification challenge"
   ]
  },
  {
   "cell_type": "markdown",
   "metadata": {},
   "source": [
    "You will perform a classification task on a telecom dataset, in order to predict customer churn. You will use the `telecom.csv` dataset. The goal is to predict the `Churn?` column.\n",
    "\n",
    "Customer churn was one of the first widely adopted machine learning applications. It helps predicting customers that might leave (e.g. for competitors), in order to make an offer and retain them for example."
   ]
  },
  {
   "cell_type": "markdown",
   "metadata": {
    "slideshow": {
     "slide_type": "-"
    }
   },
   "source": [
    "# I. Data Exploration & Data Preparation"
   ]
  },
  {
   "cell_type": "markdown",
   "metadata": {
    "slideshow": {
     "slide_type": "-"
    }
   },
   "source": [
    "First, you will explore and prepare the data.\n",
    "\n",
    "Follow at least the following steps:\n",
    "- load the data with pandas\n",
    "- have a look at the features, the kind of data: what is categorical, what is not?\n",
    "- Are there duplicates? Are there missing data?\n",
    "\n",
    "Have a look at the data and try to understand their meaning, for example:\n",
    "- Plot the `Day Mins` as a function of the `Day Charge`\n",
    "- Is there a correlation between `VMail Plan` and `VMail Message`?\n",
    "- What is the churner balance?\n",
    "\n",
    "Prepare your data:\n",
    "- Choose the features you want to use based on the previous analysis\n",
    "- Split the data\n",
    "- Prepare the data (both categorical and quantitative features)"
   ]
  },
  {
   "cell_type": "markdown",
   "metadata": {},
   "source": [
    "# II. Model Training and Optimization"
   ]
  },
  {
   "cell_type": "markdown",
   "metadata": {},
   "source": [
    "You first have to choose an evaluation metric. List all the classification metrics you know, and pick one that seems well suited for your application."
   ]
  },
  {
   "cell_type": "markdown",
   "metadata": {},
   "source": [
    "Select the models you want to test among the classification models you know.\n",
    "\n",
    "Do not forget to optimize hyperparameters using grid search (or randomized search) with cross validation."
   ]
  },
  {
   "cell_type": "markdown",
   "metadata": {},
   "source": [
    "# III. Evaluate your model"
   ]
  },
  {
   "cell_type": "markdown",
   "metadata": {},
   "source": [
    "Finally evaluate your model on the test dataset, using your metric."
   ]
  }
 ],
 "metadata": {
  "celltoolbar": "Slideshow",
  "kernelspec": {
   "display_name": "Python 3",
   "language": "python",
   "name": "python3"
  },
  "language_info": {
   "codemirror_mode": {
    "name": "ipython",
    "version": 3
   },
   "file_extension": ".py",
   "mimetype": "text/x-python",
   "name": "python",
   "nbconvert_exporter": "python",
   "pygments_lexer": "ipython3",
   "version": "3.7.4"
  }
 },
 "nbformat": 4,
 "nbformat_minor": 2
}
