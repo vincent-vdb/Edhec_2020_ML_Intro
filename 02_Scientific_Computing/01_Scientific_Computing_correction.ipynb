{
 "cells": [
  {
   "cell_type": "markdown",
   "metadata": {
    "slideshow": {
     "slide_type": "subslide"
    }
   },
   "source": [
    "**Exercise:**\n",
    "\n",
    "Generate a 5x5 matrix, with values 1, 2, 3, 4, 5 on the diagonal, 0 elsewhere, in **one line of code**."
   ]
  },
  {
   "cell_type": "code",
   "execution_count": 1,
   "metadata": {
    "slideshow": {
     "slide_type": "-"
    }
   },
   "outputs": [
    {
     "data": {
      "text/plain": [
       "array([[1., 0., 0., 0., 0.],\n",
       "       [0., 2., 0., 0., 0.],\n",
       "       [0., 0., 3., 0., 0.],\n",
       "       [0., 0., 0., 4., 0.],\n",
       "       [0., 0., 0., 0., 5.]])"
      ]
     },
     "execution_count": 1,
     "metadata": {},
     "output_type": "execute_result"
    }
   ],
   "source": [
    "import numpy as np\n",
    "\n",
    "np.arange(1, 6)*np.eye(5)"
   ]
  },
  {
   "cell_type": "markdown",
   "metadata": {
    "slideshow": {
     "slide_type": "subslide"
    }
   },
   "source": [
    "**Exercise:**\n",
    "    \n",
    "- Generate an array with values from 0 to 8.\n",
    "- Display values 1 to 6.\n",
    "- Set values 6 to 8 to 22 and display the array."
   ]
  },
  {
   "cell_type": "code",
   "execution_count": 2,
   "metadata": {
    "slideshow": {
     "slide_type": "-"
    }
   },
   "outputs": [
    {
     "name": "stdout",
     "output_type": "stream",
     "text": [
      "[1 2 3 4 5 6]\n"
     ]
    }
   ],
   "source": [
    "arr = np.arange(9)\n",
    "print(arr[1:7])"
   ]
  },
  {
   "cell_type": "code",
   "execution_count": 4,
   "metadata": {},
   "outputs": [
    {
     "name": "stdout",
     "output_type": "stream",
     "text": [
      "[ 0  1  2  3  4  5 22 22 22]\n"
     ]
    }
   ],
   "source": [
    "arr[6:] = 22\n",
    "print(arr)"
   ]
  },
  {
   "cell_type": "markdown",
   "metadata": {
    "slideshow": {
     "slide_type": "subslide"
    }
   },
   "source": [
    "**Exercise:**\n",
    "    \n",
    "Create a 5x5 matrix with values ranging from 0 to 24. Display the 3x3 inside submatrix."
   ]
  },
  {
   "cell_type": "code",
   "execution_count": 5,
   "metadata": {
    "slideshow": {
     "slide_type": "-"
    }
   },
   "outputs": [
    {
     "name": "stdout",
     "output_type": "stream",
     "text": [
      "[[ 0  1  2  3  4]\n",
      " [ 5  6  7  8  9]\n",
      " [10 11 12 13 14]\n",
      " [15 16 17 18 19]\n",
      " [20 21 22 23 24]]\n"
     ]
    }
   ],
   "source": [
    "matrix = np.arange(25).reshape(5, 5)\n",
    "print(matrix)"
   ]
  },
  {
   "cell_type": "code",
   "execution_count": 6,
   "metadata": {},
   "outputs": [
    {
     "name": "stdout",
     "output_type": "stream",
     "text": [
      "[[ 6  7  8]\n",
      " [11 12 13]\n",
      " [16 17 18]]\n"
     ]
    }
   ],
   "source": [
    "sub_matrix = matrix[1:-1, 1:-1]\n",
    "print(sub_matrix)"
   ]
  },
  {
   "cell_type": "markdown",
   "metadata": {
    "slideshow": {
     "slide_type": "subslide"
    }
   },
   "source": [
    "**Exercise:**\n",
    "\n",
    "Filter the movies in the imdb dataset with a star rating above 8. Then display the number of movies for each movie genre.\n",
    "\n",
    "Conclude what movie genre should you produce to have a good rating."
   ]
  },
  {
   "cell_type": "code",
   "execution_count": 8,
   "metadata": {},
   "outputs": [
    {
     "data": {
      "text/plain": [
       "Drama        92\n",
       "Crime        43\n",
       "Comedy       38\n",
       "Action       37\n",
       "Adventure    25\n",
       "Biography    20\n",
       "Animation    18\n",
       "Mystery       9\n",
       "Western       7\n",
       "Horror        5\n",
       "Film-Noir     2\n",
       "Sci-Fi        1\n",
       "Name: genre, dtype: int64"
      ]
     },
     "execution_count": 8,
     "metadata": {},
     "output_type": "execute_result"
    }
   ],
   "source": [
    "import pandas as pd\n",
    "\n",
    "movies = pd.read_csv('imdb_1000.csv')\n",
    "\n",
    "good_rated_movies = movies[movies['star_rating']>8]\n",
    "good_rated_movies['genre'].value_counts()"
   ]
  },
  {
   "cell_type": "markdown",
   "metadata": {},
   "source": [
    "This suggests drama movies are the best rated.\n",
    "\n",
    "But a better indicator would be the ratio of each genre that are rated above 8:"
   ]
  },
  {
   "cell_type": "code",
   "execution_count": 11,
   "metadata": {},
   "outputs": [
    {
     "data": {
      "text/plain": [
       "Western      0.777778\n",
       "Film-Noir    0.666667\n",
       "Mystery      0.562500\n",
       "Crime        0.346774\n",
       "Adventure    0.333333\n",
       "Drama        0.330935\n",
       "Animation    0.290323\n",
       "Action       0.272059\n",
       "Biography    0.259740\n",
       "Comedy       0.243590\n",
       "Sci-Fi       0.200000\n",
       "Horror       0.172414\n",
       "Family            NaN\n",
       "Fantasy           NaN\n",
       "History           NaN\n",
       "Thriller          NaN\n",
       "Name: genre, dtype: float64"
      ]
     },
     "execution_count": 11,
     "metadata": {},
     "output_type": "execute_result"
    }
   ],
   "source": [
    "(good_rated_movies['genre'].value_counts() / movies['genre'].value_counts()).sort_values(ascending=False)"
   ]
  },
  {
   "cell_type": "markdown",
   "metadata": {},
   "source": [
    "Now it seems Western movies are most likely to have good rating, while Family, Fantasy, History and Thriller movies never have a rating above 8 in our dataset."
   ]
  }
 ],
 "metadata": {
  "celltoolbar": "Slideshow",
  "kernelspec": {
   "display_name": "Python 3",
   "language": "python",
   "name": "python3"
  },
  "language_info": {
   "codemirror_mode": {
    "name": "ipython",
    "version": 3
   },
   "file_extension": ".py",
   "mimetype": "text/x-python",
   "name": "python",
   "nbconvert_exporter": "python",
   "pygments_lexer": "ipython3",
   "version": "3.7.4"
  }
 },
 "nbformat": 4,
 "nbformat_minor": 2
}
