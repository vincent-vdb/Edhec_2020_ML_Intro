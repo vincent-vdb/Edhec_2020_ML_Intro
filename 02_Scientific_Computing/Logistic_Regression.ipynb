{
 "cells": [
  {
   "cell_type": "markdown",
   "metadata": {
    "slideshow": {
     "slide_type": "-"
    }
   },
   "source": [
    "# Classification basics"
   ]
  },
  {
   "cell_type": "markdown",
   "metadata": {
    "slideshow": {
     "slide_type": "fragment"
    }
   },
   "source": [
    "Here we will focus on **Classification** problems - which means:\n",
    "- **supervised** learning (with labeled data)\n",
    "- with **categorical data** (as opposed to Regression problems which work on quantitative data)"
   ]
  },
  {
   "cell_type": "markdown",
   "metadata": {
    "slideshow": {
     "slide_type": "-"
    }
   },
   "source": [
    "___"
   ]
  },
  {
   "cell_type": "markdown",
   "metadata": {
    "slideshow": {
     "slide_type": "slide"
    }
   },
   "source": [
    "# A Classification Problem"
   ]
  },
  {
   "cell_type": "markdown",
   "metadata": {},
   "source": [
    "Suppose you want to classify data points between 2 labels, e.g. predict a customer churn for Netflix. A churner is a customer who resigned his subscription.\n",
    "\n",
    "Netflix already has a large database of users with past churners."
   ]
  },
  {
   "cell_type": "markdown",
   "metadata": {},
   "source": [
    "We would have what we call our **features X** for many customers, e.g.:\n",
    "- The subscrition plan\n",
    "- The number of profiles\n",
    "- The number of watched movies in the past month\n",
    "- The average number of watched movies per month in the past year\n",
    "- The subscription date\n",
    "- ...\n",
    "\n",
    "And we would have **labels y**:\n",
    "- The churn status of the customer, we here have **two classes**: True or False"
   ]
  },
  {
   "cell_type": "markdown",
   "metadata": {},
   "source": [
    "This is a typical **binary classification** problem.\n",
    "\n",
    "We would like to use machine learning to solve it efficiently."
   ]
  },
  {
   "cell_type": "markdown",
   "metadata": {
    "slideshow": {
     "slide_type": "subslide"
    }
   },
   "source": [
    "## There are many ML classification models - with specificities"
   ]
  },
  {
   "cell_type": "markdown",
   "metadata": {
    "slideshow": {
     "slide_type": "fragment"
    }
   },
   "source": [
    "Suppose you want to classify data points between 2 labels, e.g. predict a customer churn.\n",
    "\n",
    "There are various Machine Learning **models**. They all have differences and may output different prediction.\n",
    "\n",
    "Suppose we visualize all emails as points on a 2D charts : they will all draw different separation boundaries.\n",
    "\n",
    "<img src=\"https://cdn-images-1.medium.com/max/2000/1*M6djHnMzmTu4c0CN58Dxpg.png\" width=\"900px\" align=\"center\"/>\n",
    "\n",
    "Let's explore one of the most classical ML classification models: the **logistic Regression**"
   ]
  },
  {
   "cell_type": "markdown",
   "metadata": {
    "slideshow": {
     "slide_type": "subslide"
    }
   },
   "source": [
    "## Logistic Regression: Prediction"
   ]
  },
  {
   "cell_type": "markdown",
   "metadata": {},
   "source": [
    "How does the logistic regression works?"
   ]
  },
  {
   "cell_type": "markdown",
   "metadata": {},
   "source": [
    "Just like a linear regression, it will apply a **parameter $\\theta$** to each feature X as a weighted sum (or a scalar product). Those parameters $\\theta$ can be seen as the **weights** of each feature $i$:\n",
    "$$\n",
    "\\theta \\cdot X = \\sum \\theta_i \\times x_i\n",
    "$$"
   ]
  },
  {
   "cell_type": "markdown",
   "metadata": {},
   "source": [
    "Then the **logistic function** (a.k.a. sigmoid) is applied, such as:\n",
    "$$\n",
    "h_{\\theta}(x) = \\frac{1}{1+exp(-\\theta X)}\n",
    "$$"
   ]
  },
  {
   "cell_type": "markdown",
   "metadata": {},
   "source": [
    "Just to give an idea, the logisitic function looks like that:\n",
    "![](logistic_curve.png)"
   ]
  },
  {
   "cell_type": "markdown",
   "metadata": {},
   "source": [
    "As a consequence, the values of $h(x)$ are between 0 and 1. Even better, it can be interpreted as a probability.\n",
    "\n",
    "We will then apply a threshold to predict a class $\\hat{y}$ (churner or not churner):\n",
    "\n",
    "$$\n",
    "\\hat{y} = 1 \\text{ if } h_{\\theta}(x) > 0.5 \\text{ (i.e. Churner)}\n",
    "$$\n",
    "\n",
    "$$\n",
    "\\hat{y} = 0 \\text{ otherwise (i.e. Not churner)}\n",
    "$$"
   ]
  },
  {
   "cell_type": "markdown",
   "metadata": {},
   "source": [
    "This allows to predict a class $\\hat{y}$ with a given set of features X.\n",
    "\n",
    "But how to find the right parameters $\\theta$ that allow the right prediction?"
   ]
  },
  {
   "cell_type": "markdown",
   "metadata": {},
   "source": [
    "## Cross entropy loss"
   ]
  },
  {
   "cell_type": "markdown",
   "metadata": {},
   "source": [
    "How to train a logistic regression?\n",
    "\n",
    "Meaning, how to find the parameters $\\theta$ that give the best prediction?\n",
    "\n",
    "First, we have to define a **loss** $\\mathcal{L}$ to minimize.\n",
    "\n",
    "The loss is also called error, or cost function depending on the context."
   ]
  },
  {
   "cell_type": "markdown",
   "metadata": {},
   "source": [
    "The most usual loss for binary classification is the **binary cross entropy**:\n",
    "\n",
    "$$\n",
    "\\mathcal{L} = - y\\,\\log(h_{\\theta}(x))\\,-\\,(1-y)\\log (1 - h_{\\theta}(x))\n",
    "$$"
   ]
  },
  {
   "cell_type": "markdown",
   "metadata": {},
   "source": [
    "Basically, we can split it in 4 extreme cases:\n",
    "- if y = 0 and $h_{\\theta}(x) \\simeq 0$ : $\\mathcal{L} << 1$\n",
    "- if y = 0 and $h_{\\theta}(x) \\simeq 1$ : $\\mathcal{L} >> 1$\n",
    "- if y = 1 and $h_{\\theta}(x) \\simeq 0$ : $\\mathcal{L} >> 1$\n",
    "- if y = 1 and $h_{\\theta}(x) \\simeq 1$ : $\\mathcal{L} << 1$\n",
    "\n",
    "![](BCE.jpg)"
   ]
  },
  {
   "cell_type": "markdown",
   "metadata": {},
   "source": [
    "Thus, minimizing this loss function will ensure a good classification.\n",
    "\n",
    "In real life, we have not one, but many **samples** (a.k.a. **observations**), meaning our loss will actually be written as:\n",
    "$$\n",
    "\\mathcal{L} = -\\frac{1}{m} \\sum_{i=1}^m y^{(i)}\\,\\log(h(x^{(i)}))\\,+\\,(1-y^{(i)})\\log (1 - h(x^{(i)}))\n",
    "$$\n",
    "\n",
    "Where $^{(i)}$ is just a sample: in our **customer churn example, a sample is just a customer** in our database.\n",
    "\n",
    "And $m$ is the number of samples, so the number of customers we would have in our database."
   ]
  },
  {
   "cell_type": "markdown",
   "metadata": {},
   "source": [
    "## Gradient descent"
   ]
  },
  {
   "cell_type": "markdown",
   "metadata": {
    "slideshow": {
     "slide_type": "fragment"
    }
   },
   "source": [
    "Finally, we want to find the $\\theta$ parameters that minimize our loss:\n",
    "\n",
    "$$\n",
    "\\displaystyle \\min_{\\theta} \\mathcal{L} = \\min_{\\theta}-\\frac{1}{m} \\sum_{i=1}^m y^{(i)}\\,\\log(h(x^{(i)}))\\,+\\,(1-y^{(i)})\\log (1 - h(x^{(i)}))\n",
    "$$"
   ]
  },
  {
   "cell_type": "markdown",
   "metadata": {
    "slideshow": {
     "slide_type": "fragment"
    }
   },
   "source": [
    "A visual representation would be to try to go down a valley, the valley being our loss function:\n",
    "\n",
    "<p align=\"center\">\n",
    "  <img src=\"https://drive.google.com/uc?export=view&id=1Q0NwocOMQUKV2uOl08bRAZupMfaD8y6V\">\n",
    "</p>\n",
    "\n",
    "> How would find those optimal parameters $\\theta$ that minimize our loss?"
   ]
  },
  {
   "cell_type": "markdown",
   "metadata": {
    "slideshow": {
     "slide_type": "subslide"
    }
   },
   "source": [
    "We can do it iteratively:\n",
    "\n",
    "Imagine you are in a mountain with heavy fog around you. How can you try to get to the bottom of the valley?\n",
    "\n",
    "Just look around you at each step and **go each step in the direction that makes you go down the most**.\n",
    "\n",
    "Here we can do the same:\n",
    "- We observe around us which direction makes us go down the most\n",
    "- We take a step towards this direction and update our model with the new parameters\n",
    "- Then we iterate until convergence or max iteration\n",
    "\n",
    "<p align=\"center\">\n",
    "  <img src=\"https://drive.google.com/uc?export=view&id=1KW7E9OIDoHYTxrsuTso7Vng0Eky_Q7Tg\">\n",
    "</p>\n",
    "\n",
    "This is called the **Gradient Descent** algorithm."
   ]
  },
  {
   "cell_type": "markdown",
   "metadata": {},
   "source": [
    "Mathematically, this just means that we compute the partial derivative of the function for a given $\\theta_i$:\n",
    "\n",
    "$$\n",
    "d\\theta_i =\\frac{\\partial}{\\partial\\theta_i}\\mathcal{L} = (y - h_{\\theta}(x)) x_i\n",
    "$$\n",
    "This will show us the direction that goes down the most.\n",
    "\n",
    "Then we update our model parameters:\n",
    "$$\n",
    "\\displaystyle \\theta_i = \\theta_i - \\alpha\\frac{\\partial}{\\partial\\theta_i}\\mathcal{L} = \\theta_i - \\alpha d\\theta_i\n",
    "$$\n",
    "\n",
    "Meaning, we take a step toward this direction and update our model accordingly.\n",
    "\n",
    "\n",
    "The new parameter $\\alpha$ is called the **learning rate**. The learning rate will control the size of the steps.\n",
    "\n",
    "Finally, step by step, we eventually may reach the global minimum of our loss function."
   ]
  },
  {
   "cell_type": "markdown",
   "metadata": {
    "slideshow": {
     "slide_type": "subslide"
    }
   },
   "source": [
    "# Multiclass Classification with Logistic Regression"
   ]
  },
  {
   "cell_type": "markdown",
   "metadata": {
    "slideshow": {
     "slide_type": "fragment"
    }
   },
   "source": [
    "The logistic regression allows to perform **binary classification**. This is useful for problems such as customer churn, or tumor detection. \n",
    "\n",
    "But what if we have more than 2 classes, e.g. predicting an email category among 3 classes:\n",
    "- Spam\n",
    "- Work\n",
    "- Personal"
   ]
  },
  {
   "cell_type": "markdown",
   "metadata": {
    "slideshow": {
     "slide_type": "fragment"
    }
   },
   "source": [
    "How would you do that using logistic regression?"
   ]
  },
  {
   "cell_type": "markdown",
   "metadata": {},
   "source": [
    "We can train three models, classifying the following:\n",
    "- **model S**: Spam against Work and Personal\n",
    "- **model W**: Work against Spam and Personal\n",
    "- **model P**: Personal against Spam and Work\n",
    "\n",
    "Then we would keep the highest score of the three models as the prediction.\n",
    "\n",
    "For example:\n",
    "- model S: $\\hat{y}$ = 0.4\n",
    "- model W: $\\hat{y}$ = 0.2\n",
    "- model P: $\\hat{y}$ = 0.3\n",
    "\n",
    "Then we would predict Personal email. This technical is called **One versus Rest** classification, sometimes just called OvR."
   ]
  },
  {
   "cell_type": "markdown",
   "metadata": {
    "slideshow": {
     "slide_type": "subslide"
    }
   },
   "source": [
    "## Example of Iris classification"
   ]
  },
  {
   "cell_type": "markdown",
   "metadata": {
    "slideshow": {
     "slide_type": "fragment"
    }
   },
   "source": [
    "Iris dataset is a very standard and famous dataset for training.\n",
    "\n",
    "It has 4 features about flowers:\n",
    "- Sepal length\n",
    "- Sepal width\n",
    "- Petal length\n",
    "- Petal width\n",
    "\n",
    "And 3 classes, types of flowers:\n",
    "- Setosa\n",
    "- Virginica\n",
    "- Versicolor\n",
    "\n",
    "So this is a **multiclass classification**."
   ]
  },
  {
   "cell_type": "markdown",
   "metadata": {
    "slideshow": {
     "slide_type": "subslide"
    }
   },
   "source": [
    "![](iris_dataset.jpeg)"
   ]
  },
  {
   "cell_type": "markdown",
   "metadata": {},
   "source": [
    "We first load the dataset:"
   ]
  },
  {
   "cell_type": "code",
   "execution_count": 4,
   "metadata": {},
   "outputs": [
    {
     "data": {
      "text/plain": [
       "{'data': array([[5.1, 3.5, 1.4, 0.2],\n",
       "        [4.9, 3. , 1.4, 0.2],\n",
       "        [4.7, 3.2, 1.3, 0.2],\n",
       "        [4.6, 3.1, 1.5, 0.2],\n",
       "        [5. , 3.6, 1.4, 0.2],\n",
       "        [5.4, 3.9, 1.7, 0.4],\n",
       "        [4.6, 3.4, 1.4, 0.3],\n",
       "        [5. , 3.4, 1.5, 0.2],\n",
       "        [4.4, 2.9, 1.4, 0.2],\n",
       "        [4.9, 3.1, 1.5, 0.1],\n",
       "        [5.4, 3.7, 1.5, 0.2],\n",
       "        [4.8, 3.4, 1.6, 0.2],\n",
       "        [4.8, 3. , 1.4, 0.1],\n",
       "        [4.3, 3. , 1.1, 0.1],\n",
       "        [5.8, 4. , 1.2, 0.2],\n",
       "        [5.7, 4.4, 1.5, 0.4],\n",
       "        [5.4, 3.9, 1.3, 0.4],\n",
       "        [5.1, 3.5, 1.4, 0.3],\n",
       "        [5.7, 3.8, 1.7, 0.3],\n",
       "        [5.1, 3.8, 1.5, 0.3],\n",
       "        [5.4, 3.4, 1.7, 0.2],\n",
       "        [5.1, 3.7, 1.5, 0.4],\n",
       "        [4.6, 3.6, 1. , 0.2],\n",
       "        [5.1, 3.3, 1.7, 0.5],\n",
       "        [4.8, 3.4, 1.9, 0.2],\n",
       "        [5. , 3. , 1.6, 0.2],\n",
       "        [5. , 3.4, 1.6, 0.4],\n",
       "        [5.2, 3.5, 1.5, 0.2],\n",
       "        [5.2, 3.4, 1.4, 0.2],\n",
       "        [4.7, 3.2, 1.6, 0.2],\n",
       "        [4.8, 3.1, 1.6, 0.2],\n",
       "        [5.4, 3.4, 1.5, 0.4],\n",
       "        [5.2, 4.1, 1.5, 0.1],\n",
       "        [5.5, 4.2, 1.4, 0.2],\n",
       "        [4.9, 3.1, 1.5, 0.2],\n",
       "        [5. , 3.2, 1.2, 0.2],\n",
       "        [5.5, 3.5, 1.3, 0.2],\n",
       "        [4.9, 3.6, 1.4, 0.1],\n",
       "        [4.4, 3. , 1.3, 0.2],\n",
       "        [5.1, 3.4, 1.5, 0.2],\n",
       "        [5. , 3.5, 1.3, 0.3],\n",
       "        [4.5, 2.3, 1.3, 0.3],\n",
       "        [4.4, 3.2, 1.3, 0.2],\n",
       "        [5. , 3.5, 1.6, 0.6],\n",
       "        [5.1, 3.8, 1.9, 0.4],\n",
       "        [4.8, 3. , 1.4, 0.3],\n",
       "        [5.1, 3.8, 1.6, 0.2],\n",
       "        [4.6, 3.2, 1.4, 0.2],\n",
       "        [5.3, 3.7, 1.5, 0.2],\n",
       "        [5. , 3.3, 1.4, 0.2],\n",
       "        [7. , 3.2, 4.7, 1.4],\n",
       "        [6.4, 3.2, 4.5, 1.5],\n",
       "        [6.9, 3.1, 4.9, 1.5],\n",
       "        [5.5, 2.3, 4. , 1.3],\n",
       "        [6.5, 2.8, 4.6, 1.5],\n",
       "        [5.7, 2.8, 4.5, 1.3],\n",
       "        [6.3, 3.3, 4.7, 1.6],\n",
       "        [4.9, 2.4, 3.3, 1. ],\n",
       "        [6.6, 2.9, 4.6, 1.3],\n",
       "        [5.2, 2.7, 3.9, 1.4],\n",
       "        [5. , 2. , 3.5, 1. ],\n",
       "        [5.9, 3. , 4.2, 1.5],\n",
       "        [6. , 2.2, 4. , 1. ],\n",
       "        [6.1, 2.9, 4.7, 1.4],\n",
       "        [5.6, 2.9, 3.6, 1.3],\n",
       "        [6.7, 3.1, 4.4, 1.4],\n",
       "        [5.6, 3. , 4.5, 1.5],\n",
       "        [5.8, 2.7, 4.1, 1. ],\n",
       "        [6.2, 2.2, 4.5, 1.5],\n",
       "        [5.6, 2.5, 3.9, 1.1],\n",
       "        [5.9, 3.2, 4.8, 1.8],\n",
       "        [6.1, 2.8, 4. , 1.3],\n",
       "        [6.3, 2.5, 4.9, 1.5],\n",
       "        [6.1, 2.8, 4.7, 1.2],\n",
       "        [6.4, 2.9, 4.3, 1.3],\n",
       "        [6.6, 3. , 4.4, 1.4],\n",
       "        [6.8, 2.8, 4.8, 1.4],\n",
       "        [6.7, 3. , 5. , 1.7],\n",
       "        [6. , 2.9, 4.5, 1.5],\n",
       "        [5.7, 2.6, 3.5, 1. ],\n",
       "        [5.5, 2.4, 3.8, 1.1],\n",
       "        [5.5, 2.4, 3.7, 1. ],\n",
       "        [5.8, 2.7, 3.9, 1.2],\n",
       "        [6. , 2.7, 5.1, 1.6],\n",
       "        [5.4, 3. , 4.5, 1.5],\n",
       "        [6. , 3.4, 4.5, 1.6],\n",
       "        [6.7, 3.1, 4.7, 1.5],\n",
       "        [6.3, 2.3, 4.4, 1.3],\n",
       "        [5.6, 3. , 4.1, 1.3],\n",
       "        [5.5, 2.5, 4. , 1.3],\n",
       "        [5.5, 2.6, 4.4, 1.2],\n",
       "        [6.1, 3. , 4.6, 1.4],\n",
       "        [5.8, 2.6, 4. , 1.2],\n",
       "        [5. , 2.3, 3.3, 1. ],\n",
       "        [5.6, 2.7, 4.2, 1.3],\n",
       "        [5.7, 3. , 4.2, 1.2],\n",
       "        [5.7, 2.9, 4.2, 1.3],\n",
       "        [6.2, 2.9, 4.3, 1.3],\n",
       "        [5.1, 2.5, 3. , 1.1],\n",
       "        [5.7, 2.8, 4.1, 1.3],\n",
       "        [6.3, 3.3, 6. , 2.5],\n",
       "        [5.8, 2.7, 5.1, 1.9],\n",
       "        [7.1, 3. , 5.9, 2.1],\n",
       "        [6.3, 2.9, 5.6, 1.8],\n",
       "        [6.5, 3. , 5.8, 2.2],\n",
       "        [7.6, 3. , 6.6, 2.1],\n",
       "        [4.9, 2.5, 4.5, 1.7],\n",
       "        [7.3, 2.9, 6.3, 1.8],\n",
       "        [6.7, 2.5, 5.8, 1.8],\n",
       "        [7.2, 3.6, 6.1, 2.5],\n",
       "        [6.5, 3.2, 5.1, 2. ],\n",
       "        [6.4, 2.7, 5.3, 1.9],\n",
       "        [6.8, 3. , 5.5, 2.1],\n",
       "        [5.7, 2.5, 5. , 2. ],\n",
       "        [5.8, 2.8, 5.1, 2.4],\n",
       "        [6.4, 3.2, 5.3, 2.3],\n",
       "        [6.5, 3. , 5.5, 1.8],\n",
       "        [7.7, 3.8, 6.7, 2.2],\n",
       "        [7.7, 2.6, 6.9, 2.3],\n",
       "        [6. , 2.2, 5. , 1.5],\n",
       "        [6.9, 3.2, 5.7, 2.3],\n",
       "        [5.6, 2.8, 4.9, 2. ],\n",
       "        [7.7, 2.8, 6.7, 2. ],\n",
       "        [6.3, 2.7, 4.9, 1.8],\n",
       "        [6.7, 3.3, 5.7, 2.1],\n",
       "        [7.2, 3.2, 6. , 1.8],\n",
       "        [6.2, 2.8, 4.8, 1.8],\n",
       "        [6.1, 3. , 4.9, 1.8],\n",
       "        [6.4, 2.8, 5.6, 2.1],\n",
       "        [7.2, 3. , 5.8, 1.6],\n",
       "        [7.4, 2.8, 6.1, 1.9],\n",
       "        [7.9, 3.8, 6.4, 2. ],\n",
       "        [6.4, 2.8, 5.6, 2.2],\n",
       "        [6.3, 2.8, 5.1, 1.5],\n",
       "        [6.1, 2.6, 5.6, 1.4],\n",
       "        [7.7, 3. , 6.1, 2.3],\n",
       "        [6.3, 3.4, 5.6, 2.4],\n",
       "        [6.4, 3.1, 5.5, 1.8],\n",
       "        [6. , 3. , 4.8, 1.8],\n",
       "        [6.9, 3.1, 5.4, 2.1],\n",
       "        [6.7, 3.1, 5.6, 2.4],\n",
       "        [6.9, 3.1, 5.1, 2.3],\n",
       "        [5.8, 2.7, 5.1, 1.9],\n",
       "        [6.8, 3.2, 5.9, 2.3],\n",
       "        [6.7, 3.3, 5.7, 2.5],\n",
       "        [6.7, 3. , 5.2, 2.3],\n",
       "        [6.3, 2.5, 5. , 1.9],\n",
       "        [6.5, 3. , 5.2, 2. ],\n",
       "        [6.2, 3.4, 5.4, 2.3],\n",
       "        [5.9, 3. , 5.1, 1.8]]),\n",
       " 'target': array([0, 0, 0, 0, 0, 0, 0, 0, 0, 0, 0, 0, 0, 0, 0, 0, 0, 0, 0, 0, 0, 0,\n",
       "        0, 0, 0, 0, 0, 0, 0, 0, 0, 0, 0, 0, 0, 0, 0, 0, 0, 0, 0, 0, 0, 0,\n",
       "        0, 0, 0, 0, 0, 0, 1, 1, 1, 1, 1, 1, 1, 1, 1, 1, 1, 1, 1, 1, 1, 1,\n",
       "        1, 1, 1, 1, 1, 1, 1, 1, 1, 1, 1, 1, 1, 1, 1, 1, 1, 1, 1, 1, 1, 1,\n",
       "        1, 1, 1, 1, 1, 1, 1, 1, 1, 1, 1, 1, 2, 2, 2, 2, 2, 2, 2, 2, 2, 2,\n",
       "        2, 2, 2, 2, 2, 2, 2, 2, 2, 2, 2, 2, 2, 2, 2, 2, 2, 2, 2, 2, 2, 2,\n",
       "        2, 2, 2, 2, 2, 2, 2, 2, 2, 2, 2, 2, 2, 2, 2, 2, 2, 2]),\n",
       " 'target_names': array(['setosa', 'versicolor', 'virginica'], dtype='<U10'),\n",
       " 'DESCR': '.. _iris_dataset:\\n\\nIris plants dataset\\n--------------------\\n\\n**Data Set Characteristics:**\\n\\n    :Number of Instances: 150 (50 in each of three classes)\\n    :Number of Attributes: 4 numeric, predictive attributes and the class\\n    :Attribute Information:\\n        - sepal length in cm\\n        - sepal width in cm\\n        - petal length in cm\\n        - petal width in cm\\n        - class:\\n                - Iris-Setosa\\n                - Iris-Versicolour\\n                - Iris-Virginica\\n                \\n    :Summary Statistics:\\n\\n    ============== ==== ==== ======= ===== ====================\\n                    Min  Max   Mean    SD   Class Correlation\\n    ============== ==== ==== ======= ===== ====================\\n    sepal length:   4.3  7.9   5.84   0.83    0.7826\\n    sepal width:    2.0  4.4   3.05   0.43   -0.4194\\n    petal length:   1.0  6.9   3.76   1.76    0.9490  (high!)\\n    petal width:    0.1  2.5   1.20   0.76    0.9565  (high!)\\n    ============== ==== ==== ======= ===== ====================\\n\\n    :Missing Attribute Values: None\\n    :Class Distribution: 33.3% for each of 3 classes.\\n    :Creator: R.A. Fisher\\n    :Donor: Michael Marshall (MARSHALL%PLU@io.arc.nasa.gov)\\n    :Date: July, 1988\\n\\nThe famous Iris database, first used by Sir R.A. Fisher. The dataset is taken\\nfrom Fisher\\'s paper. Note that it\\'s the same as in R, but not as in the UCI\\nMachine Learning Repository, which has two wrong data points.\\n\\nThis is perhaps the best known database to be found in the\\npattern recognition literature.  Fisher\\'s paper is a classic in the field and\\nis referenced frequently to this day.  (See Duda & Hart, for example.)  The\\ndata set contains 3 classes of 50 instances each, where each class refers to a\\ntype of iris plant.  One class is linearly separable from the other 2; the\\nlatter are NOT linearly separable from each other.\\n\\n.. topic:: References\\n\\n   - Fisher, R.A. \"The use of multiple measurements in taxonomic problems\"\\n     Annual Eugenics, 7, Part II, 179-188 (1936); also in \"Contributions to\\n     Mathematical Statistics\" (John Wiley, NY, 1950).\\n   - Duda, R.O., & Hart, P.E. (1973) Pattern Classification and Scene Analysis.\\n     (Q327.D83) John Wiley & Sons.  ISBN 0-471-22361-1.  See page 218.\\n   - Dasarathy, B.V. (1980) \"Nosing Around the Neighborhood: A New System\\n     Structure and Classification Rule for Recognition in Partially Exposed\\n     Environments\".  IEEE Transactions on Pattern Analysis and Machine\\n     Intelligence, Vol. PAMI-2, No. 1, 67-71.\\n   - Gates, G.W. (1972) \"The Reduced Nearest Neighbor Rule\".  IEEE Transactions\\n     on Information Theory, May 1972, 431-433.\\n   - See also: 1988 MLC Proceedings, 54-64.  Cheeseman et al\"s AUTOCLASS II\\n     conceptual clustering system finds 3 classes in the data.\\n   - Many, many more ...',\n",
       " 'feature_names': ['sepal length (cm)',\n",
       "  'sepal width (cm)',\n",
       "  'petal length (cm)',\n",
       "  'petal width (cm)'],\n",
       " 'filename': '/home/vince/anaconda3/lib/python3.7/site-packages/sklearn/datasets/data/iris.csv'}"
      ]
     },
     "execution_count": 4,
     "metadata": {},
     "output_type": "execute_result"
    }
   ],
   "source": [
    "load_iris()"
   ]
  },
  {
   "cell_type": "code",
   "execution_count": 10,
   "metadata": {
    "ExecuteTime": {
     "end_time": "2019-07-11T09:41:41.348551Z",
     "start_time": "2019-07-11T09:41:38.517651Z"
    },
    "slideshow": {
     "slide_type": "fragment"
    }
   },
   "outputs": [
    {
     "name": "stdout",
     "output_type": "stream",
     "text": [
      "X features: ['sepal length (cm)', 'sepal width (cm)', 'petal length (cm)', 'petal width (cm)']\n",
      "y labels: ['setosa' 'versicolor' 'virginica']\n"
     ]
    }
   ],
   "source": [
    "from sklearn.datasets import load_iris\n",
    "data = load_iris()\n",
    "X = data['data']\n",
    "y = data['target']\n",
    "print('X features:', data['feature_names'])\n",
    "print('y labels:', data['target_names'])"
   ]
  },
  {
   "cell_type": "markdown",
   "metadata": {},
   "source": [
    "How many features and samples do we have?"
   ]
  },
  {
   "cell_type": "code",
   "execution_count": 12,
   "metadata": {
    "ExecuteTime": {
     "end_time": "2019-07-11T09:41:42.260768Z",
     "start_time": "2019-07-11T09:41:42.255930Z"
    },
    "slideshow": {
     "slide_type": "fragment"
    }
   },
   "outputs": [
    {
     "data": {
      "text/plain": [
       "(150, 4)"
      ]
     },
     "execution_count": 12,
     "metadata": {},
     "output_type": "execute_result"
    }
   ],
   "source": [
    "X.shape"
   ]
  },
  {
   "cell_type": "markdown",
   "metadata": {},
   "source": [
    "We have 150 samples and 4 features."
   ]
  },
  {
   "cell_type": "markdown",
   "metadata": {
    "slideshow": {
     "slide_type": "subslide"
    }
   },
   "source": [
    "We can visualize the data if needed:"
   ]
  },
  {
   "cell_type": "code",
   "execution_count": 14,
   "metadata": {
    "slideshow": {
     "slide_type": "skip"
    }
   },
   "outputs": [],
   "source": [
    "from matplotlib import pyplot as plt"
   ]
  },
  {
   "cell_type": "code",
   "execution_count": 17,
   "metadata": {
    "ExecuteTime": {
     "end_time": "2019-07-11T09:41:46.034762Z",
     "start_time": "2019-07-11T09:41:45.911756Z"
    },
    "slideshow": {
     "slide_type": "subslide"
    }
   },
   "outputs": [
    {
     "data": {
      "image/png": "[encoded data removed]",
      "text/plain": [
       "<Figure size 432x288 with 1 Axes>"
      ]
     },
     "metadata": {},
     "output_type": "display_data"
    }
   ],
   "source": [
    "# Plot the training points\n",
    "plt.scatter(X[:, 0], X[:, 1], c=y)\n",
    "# Format chart\n",
    "plt.xlabel('Sepal length')\n",
    "plt.ylabel('Sepal width')\n",
    "plt.xticks(())\n",
    "plt.yticks(())\n",
    "plt.show()"
   ]
  },
  {
   "cell_type": "markdown",
   "metadata": {
    "slideshow": {
     "slide_type": "subslide"
    }
   },
   "source": [
    "## Train a logistic regression model"
   ]
  },
  {
   "cell_type": "code",
   "execution_count": 18,
   "metadata": {
    "ExecuteTime": {
     "end_time": "2019-07-11T09:42:39.160786Z",
     "start_time": "2019-07-11T09:42:39.030320Z"
    },
    "slideshow": {
     "slide_type": "fragment"
    }
   },
   "outputs": [],
   "source": [
    "# We import and instantiate the model\n",
    "from sklearn.linear_model import LogisticRegression\n",
    "lr = LogisticRegression()"
   ]
  },
  {
   "cell_type": "markdown",
   "metadata": {
    "slideshow": {
     "slide_type": "subslide"
    }
   },
   "source": [
    "Then we fit the model to our data X and y with the `.fit(X, y)` method:"
   ]
  },
  {
   "cell_type": "code",
   "execution_count": 20,
   "metadata": {
    "ExecuteTime": {
     "end_time": "2019-07-11T09:42:40.256716Z",
     "start_time": "2019-07-11T09:42:40.241943Z"
    },
    "slideshow": {
     "slide_type": "fragment"
    }
   },
   "outputs": [
    {
     "name": "stderr",
     "output_type": "stream",
     "text": [
      "/home/vince/anaconda3/lib/python3.7/site-packages/sklearn/linear_model/_logistic.py:939: ConvergenceWarning: lbfgs failed to converge (status=1):\n",
      "STOP: TOTAL NO. of ITERATIONS REACHED LIMIT.\n",
      "\n",
      "Increase the number of iterations (max_iter) or scale the data as shown in:\n",
      "    https://scikit-learn.org/stable/modules/preprocessing.html.\n",
      "Please also refer to the documentation for alternative solver options:\n",
      "    https://scikit-learn.org/stable/modules/linear_model.html#logistic-regression\n",
      "  extra_warning_msg=_LOGISTIC_SOLVER_CONVERGENCE_MSG)\n"
     ]
    },
    {
     "data": {
      "text/plain": [
       "LogisticRegression(C=1.0, class_weight=None, dual=False, fit_intercept=True,\n",
       "                   intercept_scaling=1, l1_ratio=None, max_iter=100,\n",
       "                   multi_class='auto', n_jobs=None, penalty='l2',\n",
       "                   random_state=None, solver='lbfgs', tol=0.0001, verbose=0,\n",
       "                   warm_start=False)"
      ]
     },
     "execution_count": 20,
     "metadata": {},
     "output_type": "execute_result"
    }
   ],
   "source": [
    "lr.fit(X, y)"
   ]
  },
  {
   "cell_type": "markdown",
   "metadata": {
    "slideshow": {
     "slide_type": "subslide"
    }
   },
   "source": [
    "We can then get predictions from our model with the `.predict(X)` method:"
   ]
  },
  {
   "cell_type": "code",
   "execution_count": 22,
   "metadata": {
    "ExecuteTime": {
     "end_time": "2019-07-11T09:42:41.311444Z",
     "start_time": "2019-07-11T09:42:41.305177Z"
    },
    "slideshow": {
     "slide_type": "fragment"
    }
   },
   "outputs": [
    {
     "data": {
      "text/plain": [
       "array([0, 0, 0, 0, 0, 0, 0, 0, 0, 0, 0, 0, 0, 0, 0, 0, 0, 0, 0, 0, 0, 0,\n",
       "       0, 0, 0, 0, 0, 0, 0, 0, 0, 0, 0, 0, 0, 0, 0, 0, 0, 0, 0, 0, 0, 0,\n",
       "       0, 0, 0, 0, 0, 0, 1, 1, 1, 1, 1, 1, 1, 1, 1, 1, 1, 1, 1, 1, 1, 1,\n",
       "       1, 1, 1, 1, 2, 1, 1, 1, 1, 1, 1, 2, 1, 1, 1, 1, 1, 2, 1, 1, 1, 1,\n",
       "       1, 1, 1, 1, 1, 1, 1, 1, 1, 1, 1, 1, 2, 2, 2, 2, 2, 2, 1, 2, 2, 2,\n",
       "       2, 2, 2, 2, 2, 2, 2, 2, 2, 2, 2, 2, 2, 2, 2, 2, 2, 2, 2, 2, 2, 2,\n",
       "       2, 2, 2, 2, 2, 2, 2, 2, 2, 2, 2, 2, 2, 2, 2, 2, 2, 2])"
      ]
     },
     "execution_count": 22,
     "metadata": {},
     "output_type": "execute_result"
    }
   ],
   "source": [
    "y_pred = lr.predict(X)\n",
    "y_pred"
   ]
  },
  {
   "cell_type": "markdown",
   "metadata": {
    "slideshow": {
     "slide_type": "subslide"
    }
   },
   "source": [
    "And finally we can evaluate the **accuracy** of our model: this is just the number of good predictions over total number of predictions"
   ]
  },
  {
   "cell_type": "code",
   "execution_count": 24,
   "metadata": {
    "ExecuteTime": {
     "end_time": "2019-07-10T15:30:00.335885Z",
     "start_time": "2019-07-10T15:30:00.327397Z"
    },
    "scrolled": true,
    "slideshow": {
     "slide_type": "fragment"
    }
   },
   "outputs": [
    {
     "name": "stdout",
     "output_type": "stream",
     "text": [
      "Model has an accuracy of 97.0%\n"
     ]
    }
   ],
   "source": [
    "from sklearn.metrics import accuracy_score\n",
    "\n",
    "acc = accuracy_score(y, y_pred)\n",
    "\n",
    "print(\"Model has an accuracy of {}%\".format(round(acc*100), 2))"
   ]
  },
  {
   "cell_type": "markdown",
   "metadata": {
    "slideshow": {
     "slide_type": "-"
    }
   },
   "source": [
    "___"
   ]
  },
  {
   "cell_type": "code",
   "execution_count": null,
   "metadata": {},
   "outputs": [],
   "source": []
  },
  {
   "cell_type": "code",
   "execution_count": null,
   "metadata": {},
   "outputs": [],
   "source": []
  },
  {
   "cell_type": "code",
   "execution_count": 4,
   "metadata": {},
   "outputs": [
    {
     "data": {
      "text/html": [
       "<table>\n",
       "<caption>A data.frame: 6 × 5</caption>\n",
       "<thead>\n",
       "\t<tr><th></th><th scope=col>Sepal.Length</th><th scope=col>Sepal.Width</th><th scope=col>Petal.Length</th><th scope=col>Petal.Width</th><th scope=col>Species</th></tr>\n",
       "\t<tr><th></th><th scope=col>&lt;dbl&gt;</th><th scope=col>&lt;dbl&gt;</th><th scope=col>&lt;dbl&gt;</th><th scope=col>&lt;dbl&gt;</th><th scope=col>&lt;fct&gt;</th></tr>\n",
       "</thead>\n",
       "<tbody>\n",
       "\t<tr><th scope=row>1</th><td>5.1</td><td>3.5</td><td>1.4</td><td>0.2</td><td>setosa</td></tr>\n",
       "\t<tr><th scope=row>2</th><td>4.9</td><td>3.0</td><td>1.4</td><td>0.2</td><td>setosa</td></tr>\n",
       "\t<tr><th scope=row>3</th><td>4.7</td><td>3.2</td><td>1.3</td><td>0.2</td><td>setosa</td></tr>\n",
       "\t<tr><th scope=row>4</th><td>4.6</td><td>3.1</td><td>1.5</td><td>0.2</td><td>setosa</td></tr>\n",
       "\t<tr><th scope=row>5</th><td>5.0</td><td>3.6</td><td>1.4</td><td>0.2</td><td>setosa</td></tr>\n",
       "\t<tr><th scope=row>6</th><td>5.4</td><td>3.9</td><td>1.7</td><td>0.4</td><td>setosa</td></tr>\n",
       "</tbody>\n",
       "</table>\n"
      ],
      "text/latex": [
       "A data.frame: 6 × 5\n",
       "\\begin{tabular}{r|lllll}\n",
       "  & Sepal.Length & Sepal.Width & Petal.Length & Petal.Width & Species\\\\\n",
       "  & <dbl> & <dbl> & <dbl> & <dbl> & <fct>\\\\\n",
       "\\hline\n",
       "\t1 & 5.1 & 3.5 & 1.4 & 0.2 & setosa\\\\\n",
       "\t2 & 4.9 & 3.0 & 1.4 & 0.2 & setosa\\\\\n",
       "\t3 & 4.7 & 3.2 & 1.3 & 0.2 & setosa\\\\\n",
       "\t4 & 4.6 & 3.1 & 1.5 & 0.2 & setosa\\\\\n",
       "\t5 & 5.0 & 3.6 & 1.4 & 0.2 & setosa\\\\\n",
       "\t6 & 5.4 & 3.9 & 1.7 & 0.4 & setosa\\\\\n",
       "\\end{tabular}\n"
      ],
      "text/markdown": [
       "\n",
       "A data.frame: 6 × 5\n",
       "\n",
       "| <!--/--> | Sepal.Length &lt;dbl&gt; | Sepal.Width &lt;dbl&gt; | Petal.Length &lt;dbl&gt; | Petal.Width &lt;dbl&gt; | Species &lt;fct&gt; |\n",
       "|---|---|---|---|---|---|\n",
       "| 1 | 5.1 | 3.5 | 1.4 | 0.2 | setosa |\n",
       "| 2 | 4.9 | 3.0 | 1.4 | 0.2 | setosa |\n",
       "| 3 | 4.7 | 3.2 | 1.3 | 0.2 | setosa |\n",
       "| 4 | 4.6 | 3.1 | 1.5 | 0.2 | setosa |\n",
       "| 5 | 5.0 | 3.6 | 1.4 | 0.2 | setosa |\n",
       "| 6 | 5.4 | 3.9 | 1.7 | 0.4 | setosa |\n",
       "\n"
      ],
      "text/plain": [
       "  Sepal.Length Sepal.Width Petal.Length Petal.Width Species\n",
       "1 5.1          3.5         1.4          0.2         setosa \n",
       "2 4.9          3.0         1.4          0.2         setosa \n",
       "3 4.7          3.2         1.3          0.2         setosa \n",
       "4 4.6          3.1         1.5          0.2         setosa \n",
       "5 5.0          3.6         1.4          0.2         setosa \n",
       "6 5.4          3.9         1.7          0.4         setosa "
      ]
     },
     "metadata": {},
     "output_type": "display_data"
    }
   ],
   "source": [
    "# Attach the dataset to the environment\n",
    "data(iris)\n",
    "# Rename the data\n",
    "iris_dataset<-iris\n",
    "# View the data\n",
    "head(iris_dataset)"
   ]
  },
  {
   "cell_type": "markdown",
   "metadata": {
    "slideshow": {
     "slide_type": "subslide"
    }
   },
   "source": [
    "How many samples do we have?"
   ]
  },
  {
   "cell_type": "code",
   "execution_count": 7,
   "metadata": {
    "slideshow": {
     "slide_type": "fragment"
    }
   },
   "outputs": [
    {
     "data": {
      "text/html": [
       "<style>\n",
       ".list-inline {list-style: none; margin:0; padding: 0}\n",
       ".list-inline>li {display: inline-block}\n",
       ".list-inline>li:not(:last-child)::after {content: \"\\00b7\"; padding: 0 .5ex}\n",
       "</style>\n",
       "<ol class=list-inline><li>150</li><li>5</li></ol>\n"
      ],
      "text/latex": [
       "\\begin{enumerate*}\n",
       "\\item 150\n",
       "\\item 5\n",
       "\\end{enumerate*}\n"
      ],
      "text/markdown": [
       "1. 150\n",
       "2. 5\n",
       "\n",
       "\n"
      ],
      "text/plain": [
       "[1] 150   5"
      ]
     },
     "metadata": {},
     "output_type": "display_data"
    }
   ],
   "source": [
    "dim(iris_dataset)"
   ]
  },
  {
   "cell_type": "markdown",
   "metadata": {
    "slideshow": {
     "slide_type": "fragment"
    }
   },
   "source": [
    "We have 150 samples."
   ]
  },
  {
   "cell_type": "code",
   "execution_count": 16,
   "metadata": {},
   "outputs": [
    {
     "data": {
      "image/png": "[encoded data removed]",
      "text/plain": [
       "plot without title"
      ]
     },
     "metadata": {
      "image/png": {
       "height": 420,
       "width": 420
      }
     },
     "output_type": "display_data"
    }
   ],
   "source": [
    "library(ggplot2)\n",
    "g <- ggplot(data=iris_dataset, aes(x = Petal.Length, y = Petal.Width))\n",
    "g <-g + \n",
    "    geom_point(aes(color=Species, shape=Species)) +\n",
    "    xlab(\"Petal Length\") +\n",
    "    ylab(\"Petal Width\") +\n",
    "    ggtitle(\"Petal Length-Width\")\n",
    "print(g)"
   ]
  },
  {
   "cell_type": "markdown",
   "metadata": {},
   "source": [
    "Let's **train our model** on the data:"
   ]
  },
  {
   "cell_type": "code",
   "execution_count": 25,
   "metadata": {},
   "outputs": [
    {
     "name": "stderr",
     "output_type": "stream",
     "text": [
      "Warning message:\n",
      "“glm.fit: algorithm did not converge”\n",
      "Warning message:\n",
      "“glm.fit: fitted probabilities numerically 0 or 1 occurred”\n"
     ]
    }
   ],
   "source": [
    "model <- glm(Species ~ Sepal.Length + Sepal.Width + Petal.Length + Petal.Width,\n",
    "             data = iris_dataset,\n",
    "             family = binomial)"
   ]
  },
  {
   "cell_type": "markdown",
   "metadata": {},
   "source": [
    "Have a look at the model:"
   ]
  },
  {
   "cell_type": "code",
   "execution_count": 26,
   "metadata": {},
   "outputs": [
    {
     "data": {
      "text/plain": [
       "\n",
       "Call:  glm(formula = Species ~ Sepal.Length + Sepal.Width + Petal.Length + \n",
       "    Petal.Width, family = binomial, data = iris_dataset)\n",
       "\n",
       "Coefficients:\n",
       " (Intercept)  Sepal.Length   Sepal.Width  Petal.Length   Petal.Width  \n",
       "      16.946       -11.759        -7.842        20.088        21.608  \n",
       "\n",
       "Degrees of Freedom: 149 Total (i.e. Null);  145 Residual\n",
       "Null Deviance:\t    191 \n",
       "Residual Deviance: 3.294e-09 \tAIC: 10"
      ]
     },
     "metadata": {},
     "output_type": "display_data"
    }
   ],
   "source": [
    "model"
   ]
  },
  {
   "cell_type": "code",
   "execution_count": 28,
   "metadata": {},
   "outputs": [
    {
     "data": {
      "text/html": [
       "<style>\n",
       ".dl-inline {width: auto; margin:0; padding: 0}\n",
       ".dl-inline>dt, .dl-inline>dd {float: none; width: auto; display: inline-block}\n",
       ".dl-inline>dt::after {content: \":\\0020\"; padding-right: .5ex}\n",
       ".dl-inline>dt:not(:first-of-type) {padding-left: .5ex}\n",
       "</style><dl class=dl-inline><dt>1</dt><dd>2.22044604925031e-16</dd><dt>2</dt><dd>2.22044604925031e-16</dd><dt>3</dt><dd>2.22044604925031e-16</dd><dt>4</dt><dd>1.87568640202696e-12</dd><dt>5</dt><dd>2.22044604925031e-16</dd><dt>6</dt><dd>2.22044604925031e-16</dd><dt>7</dt><dd>2.07726180376937e-13</dd><dt>8</dt><dd>2.22044604925031e-16</dd><dt>9</dt><dd>1.26838895134906e-11</dd><dt>10</dt><dd>2.22044604925031e-16</dd><dt>11</dt><dd>2.22044604925031e-16</dd><dt>12</dt><dd>1.2662301128147e-13</dd><dt>13</dt><dd>2.22044604925031e-16</dd><dt>14</dt><dd>2.22044604925031e-16</dd><dt>15</dt><dd>2.22044604925031e-16</dd><dt>16</dt><dd>2.22044604925031e-16</dd><dt>17</dt><dd>2.22044604925031e-16</dd><dt>18</dt><dd>2.22044604925031e-16</dd><dt>19</dt><dd>2.22044604925031e-16</dd><dt>20</dt><dd>2.22044604925031e-16</dd><dt>21</dt><dd>2.22044604925031e-16</dd><dt>22</dt><dd>2.22044604925031e-16</dd><dt>23</dt><dd>2.22044604925031e-16</dd><dt>24</dt><dd>3.96839557472467e-11</dd><dt>25</dt><dd>5.24500603502836e-11</dd><dt>26</dt><dd>2.77550191662254e-13</dd><dt>27</dt><dd>9.07687852483163e-13</dd><dt>28</dt><dd>2.22044604925031e-16</dd><dt>29</dt><dd>2.22044604925031e-16</dd><dt>30</dt><dd>1.96933536023274e-12</dd><dt>31</dt><dd>1.33100214030188e-12</dd><dt>32</dt><dd>2.22044604925031e-16</dd><dt>33</dt><dd>2.22044604925031e-16</dd><dt>34</dt><dd>2.22044604925031e-16</dd><dt>35</dt><dd>2.22044604925031e-16</dd><dt>36</dt><dd>2.22044604925031e-16</dd><dt>37</dt><dd>2.22044604925031e-16</dd><dt>38</dt><dd>2.22044604925031e-16</dd><dt>39</dt><dd>7.76758402611653e-13</dd><dt>40</dt><dd>2.22044604925031e-16</dd><dt>41</dt><dd>2.22044604925031e-16</dd><dt>42</dt><dd>5.03367889096066e-10</dd><dt>43</dt><dd>1.61873298223043e-13</dd><dt>44</dt><dd>3.12030919936427e-11</dd><dt>45</dt><dd>5.03792957776896e-12</dd><dt>46</dt><dd>4.55323567125741e-13</dd><dt>47</dt><dd>2.22044604925031e-16</dd><dt>48</dt><dd>1.14866592922815e-13</dd><dt>49</dt><dd>2.22044604925031e-16</dd><dt>50</dt><dd>2.22044604925031e-16</dd><dt>51</dt><dd>1</dd><dt>52</dt><dd>1</dd><dt>53</dt><dd>1</dd><dt>54</dt><dd>1</dd><dt>55</dt><dd>1</dd><dt>56</dt><dd>1</dd><dt>57</dt><dd>1</dd><dt>58</dt><dd>0.999999999999538</dd><dt>59</dt><dd>1</dd><dt>60</dt><dd>1</dd><dt>61</dt><dd>1</dd><dt>62</dt><dd>1</dd><dt>63</dt><dd>1</dd><dt>64</dt><dd>1</dd><dt>65</dt><dd>0.999999999999677</dd><dt>66</dt><dd>1</dd><dt>67</dt><dd>1</dd><dt>68</dt><dd>1</dd><dt>69</dt><dd>1</dd><dt>70</dt><dd>1</dd><dt>71</dt><dd>1</dd><dt>72</dt><dd>1</dd><dt>73</dt><dd>1</dd><dt>74</dt><dd>1</dd><dt>75</dt><dd>1</dd><dt>76</dt><dd>1</dd><dt>77</dt><dd>1</dd><dt>78</dt><dd>1</dd><dt>79</dt><dd>1</dd><dt>80</dt><dd>0.99999999951445</dd><dt>81</dt><dd>1</dd><dt>82</dt><dd>0.999999999999827</dd><dt>83</dt><dd>1</dd><dt>84</dt><dd>1</dd><dt>85</dt><dd>1</dd><dt>86</dt><dd>1</dd><dt>87</dt><dd>1</dd><dt>88</dt><dd>1</dd><dt>89</dt><dd>1</dd><dt>90</dt><dd>1</dd><dt>91</dt><dd>1</dd><dt>92</dt><dd>1</dd><dt>93</dt><dd>1</dd><dt>94</dt><dd>0.999999999999317</dd><dt>95</dt><dd>1</dd><dt>96</dt><dd>1</dd><dt>97</dt><dd>1</dd><dt>98</dt><dd>1</dd><dt>99</dt><dd>0.999999999492836</dd><dt>100</dt><dd>1</dd><dt>101</dt><dd>1</dd><dt>102</dt><dd>1</dd><dt>103</dt><dd>1</dd><dt>104</dt><dd>1</dd><dt>105</dt><dd>1</dd><dt>106</dt><dd>1</dd><dt>107</dt><dd>1</dd><dt>108</dt><dd>1</dd><dt>109</dt><dd>1</dd><dt>110</dt><dd>1</dd><dt>111</dt><dd>1</dd><dt>112</dt><dd>1</dd><dt>113</dt><dd>1</dd><dt>114</dt><dd>1</dd><dt>115</dt><dd>1</dd><dt>116</dt><dd>1</dd><dt>117</dt><dd>1</dd><dt>118</dt><dd>1</dd><dt>119</dt><dd>1</dd><dt>120</dt><dd>1</dd><dt>121</dt><dd>1</dd><dt>122</dt><dd>1</dd><dt>123</dt><dd>1</dd><dt>124</dt><dd>1</dd><dt>125</dt><dd>1</dd><dt>126</dt><dd>1</dd><dt>127</dt><dd>1</dd><dt>128</dt><dd>1</dd><dt>129</dt><dd>1</dd><dt>130</dt><dd>1</dd><dt>131</dt><dd>1</dd><dt>132</dt><dd>1</dd><dt>133</dt><dd>1</dd><dt>134</dt><dd>1</dd><dt>135</dt><dd>1</dd><dt>136</dt><dd>1</dd><dt>137</dt><dd>1</dd><dt>138</dt><dd>1</dd><dt>139</dt><dd>1</dd><dt>140</dt><dd>1</dd><dt>141</dt><dd>1</dd><dt>142</dt><dd>1</dd><dt>143</dt><dd>1</dd><dt>144</dt><dd>1</dd><dt>145</dt><dd>1</dd><dt>146</dt><dd>1</dd><dt>147</dt><dd>1</dd><dt>148</dt><dd>1</dd><dt>149</dt><dd>1</dd><dt>150</dt><dd>1</dd></dl>\n"
      ],
      "text/latex": [
       "\\begin{description*}\n",
       "\\item[1] 2.22044604925031e-16\n",
       "\\item[2] 2.22044604925031e-16\n",
       "\\item[3] 2.22044604925031e-16\n",
       "\\item[4] 1.87568640202696e-12\n",
       "\\item[5] 2.22044604925031e-16\n",
       "\\item[6] 2.22044604925031e-16\n",
       "\\item[7] 2.07726180376937e-13\n",
       "\\item[8] 2.22044604925031e-16\n",
       "\\item[9] 1.26838895134906e-11\n",
       "\\item[10] 2.22044604925031e-16\n",
       "\\item[11] 2.22044604925031e-16\n",
       "\\item[12] 1.2662301128147e-13\n",
       "\\item[13] 2.22044604925031e-16\n",
       "\\item[14] 2.22044604925031e-16\n",
       "\\item[15] 2.22044604925031e-16\n",
       "\\item[16] 2.22044604925031e-16\n",
       "\\item[17] 2.22044604925031e-16\n",
       "\\item[18] 2.22044604925031e-16\n",
       "\\item[19] 2.22044604925031e-16\n",
       "\\item[20] 2.22044604925031e-16\n",
       "\\item[21] 2.22044604925031e-16\n",
       "\\item[22] 2.22044604925031e-16\n",
       "\\item[23] 2.22044604925031e-16\n",
       "\\item[24] 3.96839557472467e-11\n",
       "\\item[25] 5.24500603502836e-11\n",
       "\\item[26] 2.77550191662254e-13\n",
       "\\item[27] 9.07687852483163e-13\n",
       "\\item[28] 2.22044604925031e-16\n",
       "\\item[29] 2.22044604925031e-16\n",
       "\\item[30] 1.96933536023274e-12\n",
       "\\item[31] 1.33100214030188e-12\n",
       "\\item[32] 2.22044604925031e-16\n",
       "\\item[33] 2.22044604925031e-16\n",
       "\\item[34] 2.22044604925031e-16\n",
       "\\item[35] 2.22044604925031e-16\n",
       "\\item[36] 2.22044604925031e-16\n",
       "\\item[37] 2.22044604925031e-16\n",
       "\\item[38] 2.22044604925031e-16\n",
       "\\item[39] 7.76758402611653e-13\n",
       "\\item[40] 2.22044604925031e-16\n",
       "\\item[41] 2.22044604925031e-16\n",
       "\\item[42] 5.03367889096066e-10\n",
       "\\item[43] 1.61873298223043e-13\n",
       "\\item[44] 3.12030919936427e-11\n",
       "\\item[45] 5.03792957776896e-12\n",
       "\\item[46] 4.55323567125741e-13\n",
       "\\item[47] 2.22044604925031e-16\n",
       "\\item[48] 1.14866592922815e-13\n",
       "\\item[49] 2.22044604925031e-16\n",
       "\\item[50] 2.22044604925031e-16\n",
       "\\item[51] 1\n",
       "\\item[52] 1\n",
       "\\item[53] 1\n",
       "\\item[54] 1\n",
       "\\item[55] 1\n",
       "\\item[56] 1\n",
       "\\item[57] 1\n",
       "\\item[58] 0.999999999999538\n",
       "\\item[59] 1\n",
       "\\item[60] 1\n",
       "\\item[61] 1\n",
       "\\item[62] 1\n",
       "\\item[63] 1\n",
       "\\item[64] 1\n",
       "\\item[65] 0.999999999999677\n",
       "\\item[66] 1\n",
       "\\item[67] 1\n",
       "\\item[68] 1\n",
       "\\item[69] 1\n",
       "\\item[70] 1\n",
       "\\item[71] 1\n",
       "\\item[72] 1\n",
       "\\item[73] 1\n",
       "\\item[74] 1\n",
       "\\item[75] 1\n",
       "\\item[76] 1\n",
       "\\item[77] 1\n",
       "\\item[78] 1\n",
       "\\item[79] 1\n",
       "\\item[80] 0.99999999951445\n",
       "\\item[81] 1\n",
       "\\item[82] 0.999999999999827\n",
       "\\item[83] 1\n",
       "\\item[84] 1\n",
       "\\item[85] 1\n",
       "\\item[86] 1\n",
       "\\item[87] 1\n",
       "\\item[88] 1\n",
       "\\item[89] 1\n",
       "\\item[90] 1\n",
       "\\item[91] 1\n",
       "\\item[92] 1\n",
       "\\item[93] 1\n",
       "\\item[94] 0.999999999999317\n",
       "\\item[95] 1\n",
       "\\item[96] 1\n",
       "\\item[97] 1\n",
       "\\item[98] 1\n",
       "\\item[99] 0.999999999492836\n",
       "\\item[100] 1\n",
       "\\item[101] 1\n",
       "\\item[102] 1\n",
       "\\item[103] 1\n",
       "\\item[104] 1\n",
       "\\item[105] 1\n",
       "\\item[106] 1\n",
       "\\item[107] 1\n",
       "\\item[108] 1\n",
       "\\item[109] 1\n",
       "\\item[110] 1\n",
       "\\item[111] 1\n",
       "\\item[112] 1\n",
       "\\item[113] 1\n",
       "\\item[114] 1\n",
       "\\item[115] 1\n",
       "\\item[116] 1\n",
       "\\item[117] 1\n",
       "\\item[118] 1\n",
       "\\item[119] 1\n",
       "\\item[120] 1\n",
       "\\item[121] 1\n",
       "\\item[122] 1\n",
       "\\item[123] 1\n",
       "\\item[124] 1\n",
       "\\item[125] 1\n",
       "\\item[126] 1\n",
       "\\item[127] 1\n",
       "\\item[128] 1\n",
       "\\item[129] 1\n",
       "\\item[130] 1\n",
       "\\item[131] 1\n",
       "\\item[132] 1\n",
       "\\item[133] 1\n",
       "\\item[134] 1\n",
       "\\item[135] 1\n",
       "\\item[136] 1\n",
       "\\item[137] 1\n",
       "\\item[138] 1\n",
       "\\item[139] 1\n",
       "\\item[140] 1\n",
       "\\item[141] 1\n",
       "\\item[142] 1\n",
       "\\item[143] 1\n",
       "\\item[144] 1\n",
       "\\item[145] 1\n",
       "\\item[146] 1\n",
       "\\item[147] 1\n",
       "\\item[148] 1\n",
       "\\item[149] 1\n",
       "\\item[150] 1\n",
       "\\end{description*}\n"
      ],
      "text/markdown": [
       "1\n",
       ":   2.22044604925031e-162\n",
       ":   2.22044604925031e-163\n",
       ":   2.22044604925031e-164\n",
       ":   1.87568640202696e-125\n",
       ":   2.22044604925031e-166\n",
       ":   2.22044604925031e-167\n",
       ":   2.07726180376937e-138\n",
       ":   2.22044604925031e-169\n",
       ":   1.26838895134906e-1110\n",
       ":   2.22044604925031e-1611\n",
       ":   2.22044604925031e-1612\n",
       ":   1.2662301128147e-1313\n",
       ":   2.22044604925031e-1614\n",
       ":   2.22044604925031e-1615\n",
       ":   2.22044604925031e-1616\n",
       ":   2.22044604925031e-1617\n",
       ":   2.22044604925031e-1618\n",
       ":   2.22044604925031e-1619\n",
       ":   2.22044604925031e-1620\n",
       ":   2.22044604925031e-1621\n",
       ":   2.22044604925031e-1622\n",
       ":   2.22044604925031e-1623\n",
       ":   2.22044604925031e-1624\n",
       ":   3.96839557472467e-1125\n",
       ":   5.24500603502836e-1126\n",
       ":   2.77550191662254e-1327\n",
       ":   9.07687852483163e-1328\n",
       ":   2.22044604925031e-1629\n",
       ":   2.22044604925031e-1630\n",
       ":   1.96933536023274e-1231\n",
       ":   1.33100214030188e-1232\n",
       ":   2.22044604925031e-1633\n",
       ":   2.22044604925031e-1634\n",
       ":   2.22044604925031e-1635\n",
       ":   2.22044604925031e-1636\n",
       ":   2.22044604925031e-1637\n",
       ":   2.22044604925031e-1638\n",
       ":   2.22044604925031e-1639\n",
       ":   7.76758402611653e-1340\n",
       ":   2.22044604925031e-1641\n",
       ":   2.22044604925031e-1642\n",
       ":   5.03367889096066e-1043\n",
       ":   1.61873298223043e-1344\n",
       ":   3.12030919936427e-1145\n",
       ":   5.03792957776896e-1246\n",
       ":   4.55323567125741e-1347\n",
       ":   2.22044604925031e-1648\n",
       ":   1.14866592922815e-1349\n",
       ":   2.22044604925031e-1650\n",
       ":   2.22044604925031e-1651\n",
       ":   152\n",
       ":   153\n",
       ":   154\n",
       ":   155\n",
       ":   156\n",
       ":   157\n",
       ":   158\n",
       ":   0.99999999999953859\n",
       ":   160\n",
       ":   161\n",
       ":   162\n",
       ":   163\n",
       ":   164\n",
       ":   165\n",
       ":   0.99999999999967766\n",
       ":   167\n",
       ":   168\n",
       ":   169\n",
       ":   170\n",
       ":   171\n",
       ":   172\n",
       ":   173\n",
       ":   174\n",
       ":   175\n",
       ":   176\n",
       ":   177\n",
       ":   178\n",
       ":   179\n",
       ":   180\n",
       ":   0.9999999995144581\n",
       ":   182\n",
       ":   0.99999999999982783\n",
       ":   184\n",
       ":   185\n",
       ":   186\n",
       ":   187\n",
       ":   188\n",
       ":   189\n",
       ":   190\n",
       ":   191\n",
       ":   192\n",
       ":   193\n",
       ":   194\n",
       ":   0.99999999999931795\n",
       ":   196\n",
       ":   197\n",
       ":   198\n",
       ":   199\n",
       ":   0.999999999492836100\n",
       ":   1101\n",
       ":   1102\n",
       ":   1103\n",
       ":   1104\n",
       ":   1105\n",
       ":   1106\n",
       ":   1107\n",
       ":   1108\n",
       ":   1109\n",
       ":   1110\n",
       ":   1111\n",
       ":   1112\n",
       ":   1113\n",
       ":   1114\n",
       ":   1115\n",
       ":   1116\n",
       ":   1117\n",
       ":   1118\n",
       ":   1119\n",
       ":   1120\n",
       ":   1121\n",
       ":   1122\n",
       ":   1123\n",
       ":   1124\n",
       ":   1125\n",
       ":   1126\n",
       ":   1127\n",
       ":   1128\n",
       ":   1129\n",
       ":   1130\n",
       ":   1131\n",
       ":   1132\n",
       ":   1133\n",
       ":   1134\n",
       ":   1135\n",
       ":   1136\n",
       ":   1137\n",
       ":   1138\n",
       ":   1139\n",
       ":   1140\n",
       ":   1141\n",
       ":   1142\n",
       ":   1143\n",
       ":   1144\n",
       ":   1145\n",
       ":   1146\n",
       ":   1147\n",
       ":   1148\n",
       ":   1149\n",
       ":   1150\n",
       ":   1\n",
       "\n"
      ],
      "text/plain": [
       "           1            2            3            4            5            6 \n",
       "2.220446e-16 2.220446e-16 2.220446e-16 1.875686e-12 2.220446e-16 2.220446e-16 \n",
       "           7            8            9           10           11           12 \n",
       "2.077262e-13 2.220446e-16 1.268389e-11 2.220446e-16 2.220446e-16 1.266230e-13 \n",
       "          13           14           15           16           17           18 \n",
       "2.220446e-16 2.220446e-16 2.220446e-16 2.220446e-16 2.220446e-16 2.220446e-16 \n",
       "          19           20           21           22           23           24 \n",
       "2.220446e-16 2.220446e-16 2.220446e-16 2.220446e-16 2.220446e-16 3.968396e-11 \n",
       "          25           26           27           28           29           30 \n",
       "5.245006e-11 2.775502e-13 9.076879e-13 2.220446e-16 2.220446e-16 1.969335e-12 \n",
       "          31           32           33           34           35           36 \n",
       "1.331002e-12 2.220446e-16 2.220446e-16 2.220446e-16 2.220446e-16 2.220446e-16 \n",
       "          37           38           39           40           41           42 \n",
       "2.220446e-16 2.220446e-16 7.767584e-13 2.220446e-16 2.220446e-16 5.033679e-10 \n",
       "          43           44           45           46           47           48 \n",
       "1.618733e-13 3.120309e-11 5.037930e-12 4.553236e-13 2.220446e-16 1.148666e-13 \n",
       "          49           50           51           52           53           54 \n",
       "2.220446e-16 2.220446e-16 1.000000e+00 1.000000e+00 1.000000e+00 1.000000e+00 \n",
       "          55           56           57           58           59           60 \n",
       "1.000000e+00 1.000000e+00 1.000000e+00 1.000000e+00 1.000000e+00 1.000000e+00 \n",
       "          61           62           63           64           65           66 \n",
       "1.000000e+00 1.000000e+00 1.000000e+00 1.000000e+00 1.000000e+00 1.000000e+00 \n",
       "          67           68           69           70           71           72 \n",
       "1.000000e+00 1.000000e+00 1.000000e+00 1.000000e+00 1.000000e+00 1.000000e+00 \n",
       "          73           74           75           76           77           78 \n",
       "1.000000e+00 1.000000e+00 1.000000e+00 1.000000e+00 1.000000e+00 1.000000e+00 \n",
       "          79           80           81           82           83           84 \n",
       "1.000000e+00 1.000000e+00 1.000000e+00 1.000000e+00 1.000000e+00 1.000000e+00 \n",
       "          85           86           87           88           89           90 \n",
       "1.000000e+00 1.000000e+00 1.000000e+00 1.000000e+00 1.000000e+00 1.000000e+00 \n",
       "          91           92           93           94           95           96 \n",
       "1.000000e+00 1.000000e+00 1.000000e+00 1.000000e+00 1.000000e+00 1.000000e+00 \n",
       "          97           98           99          100          101          102 \n",
       "1.000000e+00 1.000000e+00 1.000000e+00 1.000000e+00 1.000000e+00 1.000000e+00 \n",
       "         103          104          105          106          107          108 \n",
       "1.000000e+00 1.000000e+00 1.000000e+00 1.000000e+00 1.000000e+00 1.000000e+00 \n",
       "         109          110          111          112          113          114 \n",
       "1.000000e+00 1.000000e+00 1.000000e+00 1.000000e+00 1.000000e+00 1.000000e+00 \n",
       "         115          116          117          118          119          120 \n",
       "1.000000e+00 1.000000e+00 1.000000e+00 1.000000e+00 1.000000e+00 1.000000e+00 \n",
       "         121          122          123          124          125          126 \n",
       "1.000000e+00 1.000000e+00 1.000000e+00 1.000000e+00 1.000000e+00 1.000000e+00 \n",
       "         127          128          129          130          131          132 \n",
       "1.000000e+00 1.000000e+00 1.000000e+00 1.000000e+00 1.000000e+00 1.000000e+00 \n",
       "         133          134          135          136          137          138 \n",
       "1.000000e+00 1.000000e+00 1.000000e+00 1.000000e+00 1.000000e+00 1.000000e+00 \n",
       "         139          140          141          142          143          144 \n",
       "1.000000e+00 1.000000e+00 1.000000e+00 1.000000e+00 1.000000e+00 1.000000e+00 \n",
       "         145          146          147          148          149          150 \n",
       "1.000000e+00 1.000000e+00 1.000000e+00 1.000000e+00 1.000000e+00 1.000000e+00 "
      ]
     },
     "metadata": {},
     "output_type": "display_data"
    }
   ],
   "source": [
    "predict(model, type='response')"
   ]
  },
  {
   "cell_type": "code",
   "execution_count": null,
   "metadata": {},
   "outputs": [],
   "source": [
    "glfit<-glm(y~x, family = 'binomial')"
   ]
  }
 ],
 "metadata": {
  "celltoolbar": "Slideshow",
  "kernelspec": {
   "display_name": "Python 3",
   "language": "python",
   "name": "python3"
  },
  "language_info": {
   "codemirror_mode": {
    "name": "ipython",
    "version": 3
   },
   "file_extension": ".py",
   "mimetype": "text/x-python",
   "name": "python",
   "nbconvert_exporter": "python",
   "pygments_lexer": "ipython3",
   "version": "3.7.4"
  }
 },
 "nbformat": 4,
 "nbformat_minor": 2
}
