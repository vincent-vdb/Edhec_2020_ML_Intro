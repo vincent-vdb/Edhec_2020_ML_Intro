{
 "cells": [
  {
   "cell_type": "code",
   "execution_count": 1,
   "metadata": {
    "ExecuteTime": {
     "end_time": "2019-07-23T14:39:12.996861Z",
     "start_time": "2019-07-23T14:39:12.464941Z"
    },
    "slideshow": {
     "slide_type": "skip"
    }
   },
   "outputs": [],
   "source": [
    "import numpy as np\n",
    "import matplotlib.pyplot as plt\n",
    "\n",
    "import warnings\n",
    "warnings.filterwarnings('ignore')"
   ]
  },
  {
   "cell_type": "markdown",
   "metadata": {
    "slideshow": {
     "slide_type": "slide"
    }
   },
   "source": [
    "# Regularization"
   ]
  },
  {
   "cell_type": "markdown",
   "metadata": {
    "slideshow": {
     "slide_type": "fragment"
    }
   },
   "source": [
    "In this course, we will speak about bias and variance, and the related issues of over and underfitting.\n",
    "\n",
    "Then we will talk about how to handle these issues with regularization"
   ]
  },
  {
   "cell_type": "markdown",
   "metadata": {
    "slideshow": {
     "slide_type": "subslide"
    }
   },
   "source": [
    "# I. Bias & Variance introduction"
   ]
  },
  {
   "cell_type": "markdown",
   "metadata": {
    "slideshow": {
     "slide_type": "fragment"
    }
   },
   "source": [
    "<center>\n",
    "    <img src=\"https://drive.google.com/uc?export=view&id=1yHalKWkEF-h-HIOf3l7V7kFBWDQy1zXt\" width=\"600\">\n",
    "<center/>"
   ]
  },
  {
   "cell_type": "markdown",
   "metadata": {
    "slideshow": {
     "slide_type": "subslide"
    }
   },
   "source": [
    "A good model is a model able to **generalize** to new data (and therefore to generalize some solution)."
   ]
  },
  {
   "cell_type": "markdown",
   "metadata": {
    "slideshow": {
     "slide_type": "fragment"
    }
   },
   "source": [
    "<center>\n",
    "<img src=\"https://drive.google.com/uc?export=view&id=1zp3-OvgyEEkXhpNV_qIbeZrns7vGOBWq\" width=\"700\">\n",
    "<center/>"
   ]
  },
  {
   "cell_type": "markdown",
   "metadata": {
    "slideshow": {
     "slide_type": "subslide"
    }
   },
   "source": [
    "Bias and variance can be seen differently depending on whether the model is a **classification** or a **regression**, even though this is the same mechanism."
   ]
  },
  {
   "cell_type": "markdown",
   "metadata": {
    "slideshow": {
     "slide_type": "fragment"
    }
   },
   "source": [
    "- In a **classification problem** :\n",
    "<center>\n",
    "<img src=\"https://drive.google.com/uc?export=view&id=1MQD5UZigevDU4542iMpPJZWardglwQyO\" width=\"700\">\n",
    "<center/>"
   ]
  },
  {
   "cell_type": "markdown",
   "metadata": {
    "slideshow": {
     "slide_type": "subslide"
    }
   },
   "source": [
    "- In a **regression problem** :\n",
    "<center>\n",
    "<img src=\"https://drive.google.com/uc?export=view&id=1yT0bXLUs0fJvVLjhWumndL2FPaRSv2zk\" width=\"700\">\n",
    "<center/>"
   ]
  },
  {
   "cell_type": "markdown",
   "metadata": {
    "slideshow": {
     "slide_type": "subslide"
    }
   },
   "source": [
    "## I.1. The Bias-Variance compromise"
   ]
  },
  {
   "cell_type": "markdown",
   "metadata": {
    "slideshow": {
     "slide_type": "fragment"
    }
   },
   "source": [
    "Another way of seeing it, would be to look at this chart:\n",
    "\n",
    "<p align=\"center\">\n",
    "<img src=\"https://drive.google.com/uc?export=view&id=1cRT8QaY8kWWauZJ9iWCVRk6CkfBhv7Xr\" width=\"600\">\n",
    "</p>"
   ]
  },
  {
   "cell_type": "markdown",
   "metadata": {
    "slideshow": {
     "slide_type": "subslide"
    }
   },
   "source": [
    "But why is it called **Bias** and **Variance**? Let's consider an archer aiming for a target 🎯\n",
    "\n",
    "<p align=\"center\">\n",
    "<img src=\"https://drive.google.com/uc?export=view&id=1KD2aWehs1RpHxnYlwbi0ghwykSZqJYiy\" width=\"500\">\n",
    "</p>"
   ]
  },
  {
   "cell_type": "markdown",
   "metadata": {
    "slideshow": {
     "slide_type": "subslide"
    }
   },
   "source": [
    "## I.2. Underfitting & Overfitting"
   ]
  },
  {
   "cell_type": "markdown",
   "metadata": {
    "slideshow": {
     "slide_type": "fragment"
    }
   },
   "source": [
    "- **High variance** means you **overfit**: basically your are too close to the training data, you won't be able to generalize well.\n",
    "\n",
    "- **High bias** means your model **does not fit your data**. No matter how hard you try, you won't be able to perform good predictions."
   ]
  },
  {
   "cell_type": "markdown",
   "metadata": {
    "slideshow": {
     "slide_type": "subslide"
    }
   },
   "source": [
    "### How to diagnose it?"
   ]
  },
  {
   "cell_type": "markdown",
   "metadata": {
    "slideshow": {
     "slide_type": "fragment"
    }
   },
   "source": [
    "High variance has to be diagnosed by looking at the performance of your model on the train and the validation dataset.\n",
    "\n",
    "This is another reason why we have to split data."
   ]
  },
  {
   "cell_type": "markdown",
   "metadata": {
    "slideshow": {
     "slide_type": "subslide"
    }
   },
   "source": [
    "Let's say we want to perform a binary classification for customer churn.\n",
    "Let's assume we have the following results with one of our models:\n",
    "\n",
    "|  Split  | Accuracy |\n",
    "|---------|----------|\n",
    "|  Train  |   99 %   |\n",
    "|  Validation  |   65 %   |"
   ]
  },
  {
   "cell_type": "markdown",
   "metadata": {
    "slideshow": {
     "slide_type": "fragment"
    }
   },
   "source": [
    "What do you say?\n",
    "- High variance\n",
    "- High bias\n",
    "- Just right"
   ]
  },
  {
   "cell_type": "markdown",
   "metadata": {
    "slideshow": {
     "slide_type": "fragment"
    }
   },
   "source": [
    "This is a **high variance** case: the model is pretty good on train dataset, but **does not generalize well** at all."
   ]
  },
  {
   "cell_type": "markdown",
   "metadata": {
    "slideshow": {
     "slide_type": "subslide"
    }
   },
   "source": [
    "Now with another model we have those results:\n",
    "\n",
    "\n",
    "|  Split  | Accuracy |\n",
    "|---------|----------|\n",
    "|  Train  |   68 %   |\n",
    "|  Validation  |   67 %   |\n",
    "\n",
    "What do you say?\n",
    "- High variance\n",
    "- High bias\n",
    "- Just right"
   ]
  },
  {
   "cell_type": "markdown",
   "metadata": {
    "slideshow": {
     "slide_type": "fragment"
    }
   },
   "source": [
    "This time, depending on the task, this might be a high bias case.\n",
    "\n",
    "It actually requires more knowledge of the problem and data to conclude, but let's assume it."
   ]
  },
  {
   "cell_type": "markdown",
   "metadata": {
    "slideshow": {
     "slide_type": "subslide"
    }
   },
   "source": [
    "Finally, we have a really good working model with the following results:\n",
    "\n",
    "|  Split  | Accuracy |\n",
    "|---------|----------|\n",
    "|  Train  |   93 %   |\n",
    "|  Valid  |   92 %   |\n",
    "\n",
    "This seems to be 'just right'."
   ]
  },
  {
   "cell_type": "markdown",
   "metadata": {
    "slideshow": {
     "slide_type": "subslide"
    }
   },
   "source": [
    "### The problem of high bias\n",
    "\n",
    "As mentioned earlier, without knowledge of the problem and expected performances, this might be hard to detect a high bias case. \n",
    "\n",
    "Several ways to handle this:\n",
    "- Always think about human performances: a model should be able to reach human performances on basic tasks\n",
    "- Think about the data: is there enough features to give an answer?\n",
    "- Try to improve: do not stop at the first result, try to optimize"
   ]
  },
  {
   "cell_type": "markdown",
   "metadata": {
    "slideshow": {
     "slide_type": "subslide"
    }
   },
   "source": [
    "## I.3 How to handle underfitting?"
   ]
  },
  {
   "cell_type": "markdown",
   "metadata": {
    "slideshow": {
     "slide_type": "fragment"
    }
   },
   "source": [
    "Here is a list of possible options :\n",
    "- Add more features (e.g. feature engineering, more data collection...)\n",
    "- Try a more complex model\n",
    "- Less regularization (if possible)"
   ]
  },
  {
   "cell_type": "markdown",
   "metadata": {
    "slideshow": {
     "slide_type": "subslide"
    }
   },
   "source": [
    "## I.4. How to handle overfitting?"
   ]
  },
  {
   "cell_type": "markdown",
   "metadata": {
    "slideshow": {
     "slide_type": "fragment"
    }
   },
   "source": [
    "To fix high variance, on the other hand, here are the main leads:\n",
    "- Add more training data\n",
    "- Remove extra features (if possible)\n",
    "- Try a less complex model\n",
    "- Add regularization"
   ]
  },
  {
   "cell_type": "markdown",
   "metadata": {
    "slideshow": {
     "slide_type": "slide"
    }
   },
   "source": [
    "# II. Regularization"
   ]
  },
  {
   "cell_type": "markdown",
   "metadata": {},
   "source": [
    "Regularization is a way to help the models generalize better.\n",
    "\n",
    "It is a quite general concept: depending on the model, there might better different ways of regularization.\n",
    "\n",
    "Regularization **won't improve the training performances**, but might **improve the generalization** performance in test."
   ]
  },
  {
   "cell_type": "markdown",
   "metadata": {
    "slideshow": {
     "slide_type": "subslide"
    }
   },
   "source": [
    "## II.1 Ridge regression"
   ]
  },
  {
   "cell_type": "markdown",
   "metadata": {
    "slideshow": {
     "slide_type": "fragment"
    }
   },
   "source": [
    "Regularization is a way to have a grasp on the bias and variance of our models.\n",
    "\n",
    "In many models we know, we will only need to play with one positive parameter. \n",
    "\n",
    "The idea is to optimize our model by adding a **global weight** to the cost function, leading to **decrease parameters values** of the model."
   ]
  },
  {
   "cell_type": "markdown",
   "metadata": {
    "slideshow": {
     "slide_type": "subslide"
    }
   },
   "source": [
    "Ridge Regression penalizes high parameters values by smoothly reducing them.\n",
    "\n",
    "How does it do that? By modifying the loss function.\n",
    "\n",
    "As a reminder, here is the MSE, the typical loss function of a regression model:\n",
    "\n",
    "$$ \n",
    "\\mathcal{L}_{MSE} = \\frac{1}{2m}\\sum_i (y^{(i)} - h_\\theta(x^{(i)}))^2\n",
    "$$\n",
    "\n",
    "Where:\n",
    "$$\n",
    "h_\\theta(x) = \\sum_j \\theta_j X_j\n",
    "$$\n",
    "\n",
    "And:\n",
    "- $(i)$ is the sample index\n",
    "- $m$ is the number of sample\n",
    "- $j$ is the feature index"
   ]
  },
  {
   "cell_type": "markdown",
   "metadata": {
    "slideshow": {
     "slide_type": "subslide"
    }
   },
   "source": [
    "In Ridge regression, we will just add a factor to this loss:\n",
    "$$\n",
    "\\mathcal{L}_{Ridge} = \\mathcal{L}_{MSE} + \\lambda |\\theta|^2 \n",
    "$$\n",
    "\n",
    "With $|\\theta|^2$ being the L2 norm of $\\theta$:\n",
    "$$\n",
    "|\\theta|^2 = \\sum_j \\theta_j^2\n",
    "$$\n",
    "\n",
    "And $\\lambda$ is the so called **regularization parameter**, or sometimes **penalization parameter**:\n",
    "- A large $\\lambda$ means large regularization: it will add bias to the model\n",
    "- A small $\\lambda$ means small regularization\n",
    "\n",
    "Ridge regression is just a classical regression with **L2 regularization**."
   ]
  },
  {
   "cell_type": "markdown",
   "metadata": {
    "slideshow": {
     "slide_type": "fragment"
    }
   },
   "source": [
    "With such a loss function, one can guess that the parameters **$\\theta$ will be less likely to have large values**.\n",
    "\n",
    "Therefore, by forcing the parameters $\\theta$ to small values, our model might be more robust and less likely to overfit."
   ]
  },
  {
   "cell_type": "markdown",
   "metadata": {
    "slideshow": {
     "slide_type": "subslide"
    }
   },
   "source": [
    "<p align=\"center\">\n",
    "<img src=\"https://drive.google.com/uc?export=view&id=1fomvSycAtYnIVpEinfZvUioYz4ZjIRy5\">\n",
    "</p> "
   ]
  },
  {
   "cell_type": "markdown",
   "metadata": {
    "slideshow": {
     "slide_type": "subslide"
    }
   },
   "source": [
    "The Ridge regression can easily be implemented in `scikit-learn`, with the following signature:\n",
    "\n",
    "```python\n",
    "class sklearn.linear_model.Ridge(alpha=1.0, fit_intercept=True, normalize=False, copy_X=True, max_iter=None, tol=0.001, solver=’auto’, random_state=None)\n",
    "```\n",
    "\n",
    " > the parameter `alpha` is the regularization parameter here"
   ]
  },
  {
   "cell_type": "markdown",
   "metadata": {
    "slideshow": {
     "slide_type": "subslide"
    }
   },
   "source": [
    "## II.2 LASSO Regression"
   ]
  },
  {
   "cell_type": "markdown",
   "metadata": {
    "slideshow": {
     "slide_type": "fragment"
    }
   },
   "source": [
    "The **LASSO Regression** stands for Least Absolute Shrinkage and Selection Operator.\n",
    "\n",
    "Unlike Ridge regression, it does not add **quadratic** (square) values to the cost function, but **absolute** values: $\\lambda |\\theta|$."
   ]
  },
  {
   "cell_type": "markdown",
   "metadata": {
    "slideshow": {
     "slide_type": "fragment"
    }
   },
   "source": [
    "Thus, the loss of LASSO will be the following:\n",
    "$$\n",
    "\\mathcal{L}_{Ridge} = \\mathcal{L}_{MSE} + \\lambda |\\theta|\n",
    "$$\n",
    "\n",
    "with $|\\theta|$ being the L1 norm of $\\theta$:\n",
    "$$\n",
    "|\\theta| = \\sum_j |\\theta_j|\n",
    "$$\n",
    "\n",
    "This is thus a regression with **L1 regularization**. The effect of L1 regularization is to regularize less smoothly, and set parameters close to 0 much faster.\n",
    "\n",
    "Thus, by setting some parameters to 0, it allows feature selection."
   ]
  },
  {
   "cell_type": "markdown",
   "metadata": {
    "slideshow": {
     "slide_type": "subslide"
    }
   },
   "source": [
    "<p align=\"center\">\n",
    "<img src=\"https://drive.google.com/uc?export=view&id=1w0aMoRPntloGzNXTfE1vmd9W_m1Hd7Lx\">\n",
    "</p>\n"
   ]
  },
  {
   "cell_type": "markdown",
   "metadata": {
    "slideshow": {
     "slide_type": "subslide"
    }
   },
   "source": [
    "The LASSO regression can easily be implemented in `scikit-learn`, with the following signature:\n",
    "\n",
    "```python\n",
    "class sklearn.linear_model.Lasso(alpha=1.0, fit_intercept=True, normalize=False, precompute=False, copy_X=True, max_iter=1000, tol=0.0001, warm_start=False, positive=False, random_state=None, selection=’cyclic’)\n",
    "```\n",
    "\n",
    "Again, the parameter `alpha` is the regularization parameter."
   ]
  },
  {
   "cell_type": "markdown",
   "metadata": {
    "slideshow": {
     "slide_type": "fragment"
    }
   },
   "source": [
    "Intuitively:\n",
    "* if $\\lambda$ = 0: there is no regularization, too complex models may overfit\n",
    "* if $\\lambda$ is large: high regularization, all $\\theta$ values will tend to 0, models may have a high bias"
   ]
  },
  {
   "cell_type": "markdown",
   "metadata": {
    "slideshow": {
     "slide_type": "subslide"
    }
   },
   "source": [
    "## II.3. Elastic Net"
   ]
  },
  {
   "cell_type": "markdown",
   "metadata": {
    "slideshow": {
     "slide_type": "fragment"
    }
   },
   "source": [
    "One last regularization model is the so called **Elastic Net**. Besides its fancy name, this method is just adding **both L1 and L2 regularization**.\n"
   ]
  },
  {
   "cell_type": "markdown",
   "metadata": {
    "slideshow": {
     "slide_type": "fragment"
    }
   },
   "source": [
    "Then the loss of Elastic Net will be the following:\n",
    "$$\n",
    "\\mathcal{L}_{ElasticNet} = \\mathcal{L}_{MSE} + \\lambda_1 |\\theta| + \\lambda_2 |\\theta|^2\n",
    "$$\n",
    "\n",
    "We now have two hyperparameters:\n",
    "- $\\lambda_1$ for the L1 regularization\n",
    "- $\\lambda_2$ for the L2 regularization"
   ]
  },
  {
   "cell_type": "markdown",
   "metadata": {
    "slideshow": {
     "slide_type": "subslide"
    }
   },
   "source": [
    "The Elastic Net regression is in `scikit-learn`, with the following signature:\n",
    "```python\n",
    "class sklearn.linear_model.ElasticNet(alpha=1.0, *, l1_ratio=0.5, fit_intercept=True, normalize=False, precompute=False, max_iter=1000, copy_X=True, tol=0.0001, warm_start=False, positive=False, random_state=None, selection='cyclic')\n",
    "```\n",
    "\n",
    "This time the two hyperparameters for regularization are the following:\n",
    "- `alpha` is the global regularization \n",
    "- `l1_ratio` sets the level of L1 and L2 regularization, 0.5 for both, 1 for only L1, 0 for only L2 regularization"
   ]
  },
  {
   "cell_type": "markdown",
   "metadata": {
    "slideshow": {
     "slide_type": "subslide"
    }
   },
   "source": [
    "## II.4. Logistic Regression and regularization"
   ]
  },
  {
   "cell_type": "markdown",
   "metadata": {
    "slideshow": {
     "slide_type": "fragment"
    }
   },
   "source": [
    "Regularization can also be used with a Logistic Regression.\n",
    "In the signature of the Logistic Regression on `scikit-learn`, the regularization parameter is called `C`:\n",
    "\n",
    "```python\n",
    "class sklearn.linear_model.LogisticRegression(penalty=’l2’, dual=False, tol=0.0001, C=1.0, fit_intercept=True, intercept_scaling=1, class_weight=None, random_state=None, solver=’warn’, max_iter=100, multi_class=’warn’, verbose=0, warm_start=False, n_jobs=None)\n",
    "```\n",
    "\n",
    "Like for the linear regression, one can choose the penalty type:\n",
    "- either `penalty=’l2’` for Ridge-like, L2 regularization\n",
    "- or `penalty=’l1’` for LASSO like, L1 regularization\n",
    "\n",
    "> Warning: Lower the `C`, higher the regularization"
   ]
  },
  {
   "cell_type": "markdown",
   "metadata": {
    "slideshow": {
     "slide_type": "subslide"
    }
   },
   "source": [
    "## II.5. SVM and regularization"
   ]
  },
  {
   "cell_type": "markdown",
   "metadata": {
    "slideshow": {
     "slide_type": "fragment"
    }
   },
   "source": [
    "Regularization is also available with SVM. Just like logistic regression, the parameter name is `C`:\n",
    "\n",
    "```python\n",
    "class sklearn.svm.SVC(C=1.0, kernel=’rbf’, degree=3, gamma=’auto_deprecated’, coef0=0.0, shrinking=True, probability=False, tol=0.001, cache_size=200, class_weight=None, verbose=False, max_iter=-1, decision_function_shape=’ovr’, random_state=None)\n",
    "```\n",
    "\n",
    "> Same warning: `C<<1` means high regularization"
   ]
  },
  {
   "cell_type": "markdown",
   "metadata": {
    "slideshow": {
     "slide_type": "slide"
    }
   },
   "source": [
    "# III. Visual example"
   ]
  },
  {
   "cell_type": "markdown",
   "metadata": {
    "slideshow": {
     "slide_type": "fragment"
    }
   },
   "source": [
    "## III.1 Input data"
   ]
  },
  {
   "cell_type": "markdown",
   "metadata": {
    "slideshow": {
     "slide_type": "fragment"
    }
   },
   "source": [
    "We will see how to apply regularization methods on an example.\n",
    "\n",
    "Let's use the following data:"
   ]
  },
  {
   "cell_type": "code",
   "execution_count": 2,
   "metadata": {
    "ExecuteTime": {
     "end_time": "2019-07-23T14:43:43.363822Z",
     "start_time": "2019-07-23T14:43:41.133821Z"
    },
    "scrolled": false,
    "slideshow": {
     "slide_type": "subslide"
    }
   },
   "outputs": [
    {
     "data": {
      "text/plain": [
       "[]"
      ]
     },
     "execution_count": 2,
     "metadata": {},
     "output_type": "execute_result"
    },
    {
     "data": {
      "image/png": "[encoded data removed]",
      "text/plain": [
       "<Figure size 432x288 with 1 Axes>"
      ]
     },
     "metadata": {
      "needs_background": "light"
     },
     "output_type": "display_data"
    }
   ],
   "source": [
    "import numpy as np\n",
    "import matplotlib.pyplot as plt\n",
    "from sklearn.model_selection import train_test_split\n",
    "np.random.seed(42)\n",
    "\n",
    "# Let's create the data\n",
    "X = np.arange(0, 15, 0.3)\n",
    "y = 4*np.sqrt(X) - 2*X + 0.1*X*X + np.random.normal(0, .5, len(X))\n",
    "\n",
    "# Split train and test\n",
    "X_train, X_test, y_train, y_test = train_test_split(X, y, test_size=0.3, random_state=0)\n",
    "\n",
    "# Plot the data\n",
    "plt.scatter(X_train, y_train)\n",
    "plt.plot()"
   ]
  },
  {
   "cell_type": "markdown",
   "metadata": {
    "slideshow": {
     "slide_type": "subslide"
    }
   },
   "source": [
    "## III.2 High bias"
   ]
  },
  {
   "cell_type": "markdown",
   "metadata": {
    "slideshow": {
     "slide_type": "fragment"
    }
   },
   "source": [
    "Let's first try to use a normal linear regression."
   ]
  },
  {
   "cell_type": "code",
   "execution_count": 3,
   "metadata": {
    "ExecuteTime": {
     "end_time": "2019-07-23T14:45:08.173915Z",
     "start_time": "2019-07-23T14:45:08.015416Z"
    },
    "scrolled": true,
    "slideshow": {
     "slide_type": "subslide"
    }
   },
   "outputs": [
    {
     "data": {
      "image/png": "[encoded data removed]",
      "text/plain": [
       "<Figure size 432x288 with 1 Axes>"
      ]
     },
     "metadata": {
      "needs_background": "light"
     },
     "output_type": "display_data"
    }
   ],
   "source": [
    "from sklearn.linear_model import LinearRegression\n",
    "\n",
    "reg = LinearRegression()\n",
    "reg.fit(X_train.reshape(-1, 1), y_train)\n",
    "\n",
    "y_train_pred = reg.predict(X_train.reshape(-1, 1))\n",
    "\n",
    "plt.scatter(X_train, y_train)\n",
    "plt.plot(X_train, y_train_pred, color='red')\n",
    "plt.show()"
   ]
  },
  {
   "cell_type": "markdown",
   "metadata": {
    "slideshow": {
     "slide_type": "subslide"
    }
   },
   "source": [
    "This is a good example of high bias: as you can see, the results are not very good.\n",
    "\n",
    "Let's check the mean squared error on the train and test sets:"
   ]
  },
  {
   "cell_type": "code",
   "execution_count": 4,
   "metadata": {
    "ExecuteTime": {
     "end_time": "2019-07-23T14:45:08.970880Z",
     "start_time": "2019-07-23T14:45:08.959189Z"
    },
    "slideshow": {
     "slide_type": "fragment"
    }
   },
   "outputs": [
    {
     "name": "stdout",
     "output_type": "stream",
     "text": [
      "MSE on train: 1.4580509955479881\n",
      "MSE on test: 1.4109194023707592\n"
     ]
    }
   ],
   "source": [
    "from sklearn.metrics import mean_squared_error\n",
    "\n",
    "print('MSE on train:', mean_squared_error(y_train, y_train_pred))\n",
    "print('MSE on test:', mean_squared_error(y_test, reg.predict(X_test.reshape(-1, 1))))"
   ]
  },
  {
   "cell_type": "markdown",
   "metadata": {
    "slideshow": {
     "slide_type": "fragment"
    }
   },
   "source": [
    "As you can see, the Mean Squared Error (MSE) is the same on both sets, and pretty bad (though it depends on the project).\n",
    "\n",
    "Let's now try to add more features to reduce the bias."
   ]
  },
  {
   "cell_type": "markdown",
   "metadata": {
    "slideshow": {
     "slide_type": "subslide"
    }
   },
   "source": [
    "## III.3 High variance"
   ]
  },
  {
   "cell_type": "markdown",
   "metadata": {
    "slideshow": {
     "slide_type": "fragment"
    }
   },
   "source": [
    "Instead of trying to fit only on X, we will fit on X, X$^2$, X$^3$, X$^4$, X$^5$, X$^6$, X$^7$, X$^8$, X$^9$ and see how it works!\n",
    "\n",
    "This is an extreme feature engineering, just for the sake of the example:"
   ]
  },
  {
   "cell_type": "code",
   "execution_count": 5,
   "metadata": {
    "ExecuteTime": {
     "end_time": "2019-07-23T15:34:13.044452Z",
     "start_time": "2019-07-23T15:34:12.890233Z"
    },
    "slideshow": {
     "slide_type": "subslide"
    }
   },
   "outputs": [
    {
     "data": {
      "image/png": "[encoded data removed]",
      "text/plain": [
       "<Figure size 432x288 with 1 Axes>"
      ]
     },
     "metadata": {
      "needs_background": "light"
     },
     "output_type": "display_data"
    }
   ],
   "source": [
    "X_train, X_test, y_train, y_test = train_test_split(X, y, test_size=0.3, random_state=0)\n",
    "\n",
    "def powerize(X_train):\n",
    "    return np.transpose(np.array([X_train, np.power(X_train, 2), np.power(X_train, 3), \n",
    "                        np.power(X_train, 4), np.power(X_train, 5), np.power(X_train, 6),\n",
    "                        np.power(X_train, 7), np.power(X_train, 8), np.power(X_train, 9)]))\n",
    "\n",
    "reg.fit(powerize(X_train), y_train)\n",
    "\n",
    "y_train_pred = reg.predict(powerize(np.sort(X_train)))\n",
    "\n",
    "plt.scatter(X_train, y_train)\n",
    "plt.plot(np.sort(X_train), y_train_pred, color='red')\n",
    "plt.show()"
   ]
  },
  {
   "cell_type": "markdown",
   "metadata": {
    "slideshow": {
     "slide_type": "subslide"
    }
   },
   "source": [
    "Okay it seems better this way, at least there is not much bias!\n",
    "\n",
    "Let's check how it performs on the test set:"
   ]
  },
  {
   "cell_type": "code",
   "execution_count": 6,
   "metadata": {
    "ExecuteTime": {
     "end_time": "2019-07-23T15:34:21.390741Z",
     "start_time": "2019-07-23T15:34:21.382439Z"
    },
    "scrolled": true,
    "slideshow": {
     "slide_type": "fragment"
    }
   },
   "outputs": [
    {
     "name": "stdout",
     "output_type": "stream",
     "text": [
      "MSE on train: 0.15614406160150252\n",
      "MSE on test: 0.2313511920282517\n"
     ]
    }
   ],
   "source": [
    "print('MSE on train:', mean_squared_error(y_train, reg.predict(powerize(X_train))))\n",
    "print('MSE on test:', mean_squared_error(y_test, reg.predict(powerize(X_test))))"
   ]
  },
  {
   "cell_type": "markdown",
   "metadata": {
    "slideshow": {
     "slide_type": "fragment"
    }
   },
   "source": [
    "A huge improvement has been reached compared to previous example:\n",
    "- MSE on train decreased from 1.45 to 0.16\n",
    "\n",
    "**But** there is overfitting:\n",
    "- The MSE on test is 50% greater than on train"
   ]
  },
  {
   "cell_type": "markdown",
   "metadata": {
    "slideshow": {
     "slide_type": "subslide"
    }
   },
   "source": [
    "## III.4. Regularization"
   ]
  },
  {
   "cell_type": "markdown",
   "metadata": {
    "slideshow": {
     "slide_type": "fragment"
    }
   },
   "source": [
    "For the sake of the exercise, we will try to add regularization (although here, we could clearly reduce the number of features...).\n",
    "\n",
    "Let's try the Ridge and LASSO regressions!"
   ]
  },
  {
   "cell_type": "code",
   "execution_count": 7,
   "metadata": {
    "ExecuteTime": {
     "end_time": "2019-07-23T15:34:55.199819Z",
     "start_time": "2019-07-23T15:34:55.038180Z"
    },
    "scrolled": true,
    "slideshow": {
     "slide_type": "subslide"
    }
   },
   "outputs": [
    {
     "name": "stdout",
     "output_type": "stream",
     "text": [
      "MSE on train: 0.36569829319022423\n",
      "MSE on test: 0.24623662729079845\n"
     ]
    },
    {
     "data": {
      "image/png": "[encoded data removed]",
      "text/plain": [
       "<Figure size 432x288 with 1 Axes>"
      ]
     },
     "metadata": {
      "needs_background": "light"
     },
     "output_type": "display_data"
    }
   ],
   "source": [
    "from sklearn.linear_model import Ridge\n",
    "\n",
    "# Let's try first with a very large regularization and see what it does\n",
    "ridge = Ridge(alpha=1000000000)\n",
    "\n",
    "ridge.fit(powerize(X_train), y_train)\n",
    "\n",
    "y_train_pred = ridge.predict(powerize(np.sort(X_train)))\n",
    "\n",
    "print('MSE on train:', mean_squared_error(y_train, ridge.predict(powerize(X_train))))\n",
    "print('MSE on test:', mean_squared_error(y_test, ridge.predict(powerize(X_test))))\n",
    "\n",
    "plt.scatter(X_train, y_train)\n",
    "plt.plot(np.sort(X_train), y_train_pred, color='red')\n",
    "plt.show()"
   ]
  },
  {
   "cell_type": "markdown",
   "metadata": {
    "slideshow": {
     "slide_type": "subslide"
    }
   },
   "source": [
    "Too much regularization: we actually added bias here by regularization: we miss the pattern at low X values.\n",
    "\n",
    "Let's try a much lower value now:"
   ]
  },
  {
   "cell_type": "code",
   "execution_count": 8,
   "metadata": {
    "ExecuteTime": {
     "end_time": "2019-07-23T14:46:15.245081Z",
     "start_time": "2019-07-23T14:46:15.087105Z"
    },
    "slideshow": {
     "slide_type": "subslide"
    }
   },
   "outputs": [
    {
     "name": "stdout",
     "output_type": "stream",
     "text": [
      "MSE on train: 0.19469757190148054\n",
      "MSE on test: 0.1858791917534245\n"
     ]
    },
    {
     "data": {
      "image/png": "[encoded data removed]",
      "text/plain": [
       "<Figure size 432x288 with 1 Axes>"
      ]
     },
     "metadata": {
      "needs_background": "light"
     },
     "output_type": "display_data"
    }
   ],
   "source": [
    "# Let's try with a much lower regularization and see what it does\n",
    "ridge = Ridge(alpha=0.5)\n",
    "\n",
    "ridge.fit(powerize(X_train), y_train)\n",
    "\n",
    "y_train_pred = ridge.predict(powerize(np.sort(X_train)))\n",
    "\n",
    "print('MSE on train:', mean_squared_error(y_train, ridge.predict(powerize(X_train))))\n",
    "print('MSE on test:', mean_squared_error(y_test, ridge.predict(powerize(X_test))))\n",
    "\n",
    "plt.scatter(X_train, y_train)\n",
    "plt.plot(np.sort(X_train), y_train_pred, color='red')\n",
    "plt.show()"
   ]
  },
  {
   "cell_type": "markdown",
   "metadata": {
    "slideshow": {
     "slide_type": "subslide"
    }
   },
   "source": [
    "That looks much better: now the MSE on test is as low as 0.186, compared to our previous best of about 0.23!"
   ]
  },
  {
   "cell_type": "markdown",
   "metadata": {
    "slideshow": {
     "slide_type": "fragment"
    }
   },
   "source": [
    "Just out of curiosity, let's try now to do the same with LASSO regularization:"
   ]
  },
  {
   "cell_type": "code",
   "execution_count": 9,
   "metadata": {
    "ExecuteTime": {
     "end_time": "2019-07-23T15:35:53.525208Z",
     "start_time": "2019-07-23T15:35:53.354015Z"
    },
    "slideshow": {
     "slide_type": "subslide"
    }
   },
   "outputs": [
    {
     "name": "stdout",
     "output_type": "stream",
     "text": [
      "MSE on train: 0.3285433988517019\n",
      "MSE on test: 0.20624203217927584\n"
     ]
    },
    {
     "data": {
      "image/png": "[encoded data removed]",
      "text/plain": [
       "<Figure size 432x288 with 1 Axes>"
      ]
     },
     "metadata": {
      "needs_background": "light"
     },
     "output_type": "display_data"
    }
   ],
   "source": [
    "from sklearn.linear_model import Lasso\n",
    "\n",
    "lasso = Lasso(alpha=0.5)\n",
    "\n",
    "lasso.fit(powerize(X_train), y_train)\n",
    "\n",
    "y_train_pred = lasso.predict(powerize(np.sort(X_train)))\n",
    "\n",
    "print('MSE on train:', mean_squared_error(y_train, lasso.predict(powerize(X_train))))\n",
    "print('MSE on test:', mean_squared_error(y_test, lasso.predict(powerize(X_test))))\n",
    "\n",
    "plt.scatter(X_train, y_train)\n",
    "plt.plot(np.sort(X_train), y_train_pred, color='red')\n",
    "plt.show()"
   ]
  },
  {
   "cell_type": "markdown",
   "metadata": {
    "slideshow": {
     "slide_type": "subslide"
    }
   },
   "source": [
    "Well, not as good as the Ridge regression. But to compare properly we would need to optimize the regularization parameter."
   ]
  },
  {
   "cell_type": "markdown",
   "metadata": {
    "slideshow": {
     "slide_type": "subslide"
    }
   },
   "source": [
    "## Conclusion\n",
    "\n",
    "Just a summary table as conclusion:\n",
    "\n",
    "<center>\n",
    "<img src=\"https://drive.google.com/uc?export=view&id=118s1aYXhuptWpf1KPyOxmR9PZLv_6TNr\" width=\"500\">\n",
    "<center/>"
   ]
  }
 ],
 "metadata": {
  "celltoolbar": "Slideshow",
  "kernelspec": {
   "display_name": "Python 3",
   "language": "python",
   "name": "python3"
  },
  "language_info": {
   "codemirror_mode": {
    "name": "ipython",
    "version": 3
   },
   "file_extension": ".py",
   "mimetype": "text/x-python",
   "name": "python",
   "nbconvert_exporter": "python",
   "pygments_lexer": "ipython3",
   "version": "3.7.4"
  }
 },
 "nbformat": 4,
 "nbformat_minor": 2
}
