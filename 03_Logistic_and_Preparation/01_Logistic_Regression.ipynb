{
 "cells": [
  {
   "cell_type": "code",
   "execution_count": 1,
   "metadata": {
    "slideshow": {
     "slide_type": "skip"
    }
   },
   "outputs": [],
   "source": [
    "import warnings\n",
    "warnings.filterwarnings('ignore')"
   ]
  },
  {
   "cell_type": "markdown",
   "metadata": {
    "slideshow": {
     "slide_type": "slide"
    }
   },
   "source": [
    "# Classification basics"
   ]
  },
  {
   "cell_type": "markdown",
   "metadata": {
    "slideshow": {
     "slide_type": "fragment"
    }
   },
   "source": [
    "Here we will focus on **Classification** problems - which means:\n",
    "- **supervised** learning (with labeled data)\n",
    "- with **categorical data** (as opposed to Regression problems which work on quantitative data)"
   ]
  },
  {
   "cell_type": "markdown",
   "metadata": {
    "slideshow": {
     "slide_type": "subslide"
    }
   },
   "source": [
    "# I. A Classification Problem"
   ]
  },
  {
   "cell_type": "markdown",
   "metadata": {
    "slideshow": {
     "slide_type": "fragment"
    }
   },
   "source": [
    "Suppose you want to classify data points between 2 labels, e.g. predict a customer churn for Netflix. A churner is a customer who resigned his subscription.\n",
    "\n",
    "Netflix already has a large database of users with past churners."
   ]
  },
  {
   "cell_type": "markdown",
   "metadata": {
    "slideshow": {
     "slide_type": "subslide"
    }
   },
   "source": [
    "We would have what we call our **features $X = (x_1, x_2...)$** for many customers, e.g.:\n",
    "- $x_1$: The subscrition plan\n",
    "- $x_2$: The number of profiles\n",
    "- $x_3$: The number of watched movies in the past month\n",
    "- $x_4$: The average number of watched movies per month in the past year\n",
    "- $x_5$: The subscription date\n",
    "- ...\n",
    "\n",
    "And we would have **labels y**, sometimes called **target** or **ground truth**:\n",
    "- The churn status of the customer, we here have **two classes**: True or False, (i.e. 1 or 0)"
   ]
  },
  {
   "cell_type": "markdown",
   "metadata": {
    "slideshow": {
     "slide_type": "fragment"
    }
   },
   "source": [
    "This is a typical **binary classification** problem.\n",
    "\n",
    "We would like to use machine learning to solve it efficiently."
   ]
  },
  {
   "cell_type": "markdown",
   "metadata": {
    "slideshow": {
     "slide_type": "subslide"
    }
   },
   "source": [
    "### Notation\n",
    "\n",
    "We will need at some point to have a notation for our customers, let's use the superscript $^{(i)}$ for a customer $i$:\n",
    "\n",
    "- $X^{(i)}$ are all the features of client $i$\n",
    "- $y^{(i)}$ is the label of client $i$\n",
    "- $x^{(i)}_j$ is the feature $j$ or client $i$\n",
    "\n",
    "A set a features $X^{(i)}$ is commonly called a **sample** or an **observation**."
   ]
  },
  {
   "cell_type": "markdown",
   "metadata": {
    "slideshow": {
     "slide_type": "subslide"
    }
   },
   "source": [
    "## There are many ML classification models - with specificities"
   ]
  },
  {
   "cell_type": "markdown",
   "metadata": {
    "slideshow": {
     "slide_type": "fragment"
    }
   },
   "source": [
    "Suppose you want to classify data points between 2 labels, e.g. predict a customer churn.\n",
    "\n",
    "There are various Machine Learning **models**. They all have differences and may output different prediction.\n",
    "\n",
    "Suppose we visualize all emails as points on a 2D charts : they will all draw different separation boundaries.\n",
    "\n",
    "<img src=\"https://cdn-images-1.medium.com/max/2000/1*M6djHnMzmTu4c0CN58Dxpg.png\" width=\"900px\" align=\"center\"/>\n",
    "\n",
    "Let's explore one of the most classical ML classification models: the **Logistic Regression**"
   ]
  },
  {
   "cell_type": "markdown",
   "metadata": {
    "slideshow": {
     "slide_type": "slide"
    }
   },
   "source": [
    "# II. Logistic Regression"
   ]
  },
  {
   "cell_type": "markdown",
   "metadata": {
    "slideshow": {
     "slide_type": "fragment"
    }
   },
   "source": [
    "How does the logistic regression works?"
   ]
  },
  {
   "cell_type": "markdown",
   "metadata": {
    "slideshow": {
     "slide_type": "fragment"
    }
   },
   "source": [
    "Just like a linear regression, it will apply **parameters $\\theta = (\\theta_1, \\theta_2...)$** to each feature $(x_1, x_2...)$ as a **weighted sum** (or a scalar product). Those parameters $\\theta$ can be seen as the **weights** of each feature $i$:\n",
    "\n",
    "$$\n",
    "\\theta \\cdot X = \\sum_i \\theta_i \\times x_i\n",
    "$$"
   ]
  },
  {
   "cell_type": "markdown",
   "metadata": {
    "slideshow": {
     "slide_type": "fragment"
    }
   },
   "source": [
    "We will then just add one more parameter, a **bias $b$**, sometimes noted $\\theta_0$, so that we have the following formula:\n",
    "\n",
    "$$\n",
    "z = \\sum_i \\theta_i \\times x_i + b = \\theta \\cdot X + b\n",
    "$$"
   ]
  },
  {
   "cell_type": "markdown",
   "metadata": {
    "slideshow": {
     "slide_type": "subslide"
    }
   },
   "source": [
    "Then the **logistic function** (a.k.a. sigmoid) is applied to $z$, such that:\n",
    "\n",
    "$$\n",
    "h_{\\theta}(x) = \\frac{1}{1+e^{-z}} = \\frac{1}{1+e^{-(\\theta \\cdot X + b)}}\n",
    "$$"
   ]
  },
  {
   "cell_type": "markdown",
   "metadata": {
    "slideshow": {
     "slide_type": "fragment"
    }
   },
   "source": [
    "Just to give an idea, the logisitic function looks like that:\n",
    "\n",
    "<center><img src=\"images/logistic_curve.png\" width=\"600\"></center>\n"
   ]
  },
  {
   "cell_type": "markdown",
   "metadata": {
    "slideshow": {
     "slide_type": "subslide"
    }
   },
   "source": [
    "As a consequence, the values of $h_{\\theta}(x)$ are between 0 and 1. Even better, it can be **interpreted as a probability**.\n",
    "\n",
    "We can then apply a threshold to perform a class prediction $\\hat{y}$ (churner or not churner):\n",
    "\n",
    "$$\n",
    "\\hat{y} = 1 \\text{ if } h_{\\theta}(x) > 0.5 \\text{ (i.e. Churner)}\n",
    "$$\n",
    "\n",
    "$$\n",
    "\\hat{y} = 0 \\text{ otherwise (i.e. Not churner)}\n",
    "$$"
   ]
  },
  {
   "cell_type": "markdown",
   "metadata": {
    "slideshow": {
     "slide_type": "fragment"
    }
   },
   "source": [
    "This allows to predict a class $\\hat{y}$ from a given set of features X."
   ]
  },
  {
   "cell_type": "markdown",
   "metadata": {
    "slideshow": {
     "slide_type": "fragment"
    }
   },
   "source": [
    "But how to find the right parameters $\\theta$ making the right prediction?"
   ]
  },
  {
   "cell_type": "markdown",
   "metadata": {
    "slideshow": {
     "slide_type": "subslide"
    }
   },
   "source": [
    "## Cross entropy loss"
   ]
  },
  {
   "cell_type": "markdown",
   "metadata": {
    "slideshow": {
     "slide_type": "fragment"
    }
   },
   "source": [
    "How to train a logistic regression?\n",
    "\n",
    "Meaning, how to find the parameters $\\theta$ that give the best prediction?\n",
    "\n",
    "First, we have to define a **loss** $\\mathcal{L}$ to minimize.\n",
    "\n",
    "The loss is also called the **error**, or **cost function** depending on the context."
   ]
  },
  {
   "cell_type": "markdown",
   "metadata": {
    "slideshow": {
     "slide_type": "subslide"
    }
   },
   "source": [
    "The most usual loss for binary classification is the **binary cross entropy** loss:\n",
    "\n",
    "$$\n",
    "\\large \\mathcal{L} = - y\\,\\log(h_{\\theta}(x))\\,-\\,(1-y)\\log (1 - h_{\\theta}(x))\n",
    "$$"
   ]
  },
  {
   "cell_type": "markdown",
   "metadata": {
    "slideshow": {
     "slide_type": "fragment"
    }
   },
   "source": [
    "Basically, we can split it in 4 extreme cases:\n",
    "- if y = 0 and $h_{\\theta}(x) \\simeq 0$ : $\\mathcal{L} << 1$\n",
    "- if y = 0 and $h_{\\theta}(x) \\simeq 1$ : $\\mathcal{L} >> 1$\n",
    "- if y = 1 and $h_{\\theta}(x) \\simeq 0$ : $\\mathcal{L} >> 1$\n",
    "- if y = 1 and $h_{\\theta}(x) \\simeq 1$ : $\\mathcal{L} << 1$"
   ]
  },
  {
   "cell_type": "markdown",
   "metadata": {
    "slideshow": {
     "slide_type": "subslide"
    }
   },
   "source": [
    "![](images/BCE.jpg)"
   ]
  },
  {
   "cell_type": "markdown",
   "metadata": {
    "slideshow": {
     "slide_type": "subslide"
    }
   },
   "source": [
    "Thus, minimizing this loss function will ensure a good classification.\n",
    "\n",
    "In real life, we have not one, but many **samples** on which we want to optimize our classification.\n",
    "\n",
    "The loss will will then be written as:\n",
    "\n",
    "$$\n",
    "\\mathcal{L} = -\\frac{1}{m} \\sum_{i=1}^m y^{(i)}\\,\\log(h(x^{(i)}))\\,+\\,(1-y^{(i)})\\log (1 - h(x^{(i)}))\n",
    "$$\n",
    "\n",
    "Where:\n",
    "- $^{(i)}$ is a sample: in our customer churn example, **a sample is just a customer** in the database.\n",
    "- $m$ is the number of samples, so the number of customers in the database."
   ]
  },
  {
   "cell_type": "markdown",
   "metadata": {
    "slideshow": {
     "slide_type": "subslide"
    }
   },
   "source": [
    "## Gradient descent"
   ]
  },
  {
   "cell_type": "markdown",
   "metadata": {
    "slideshow": {
     "slide_type": "fragment"
    }
   },
   "source": [
    "Finally, we want to find the $\\theta$ parameters that minimize our loss:\n",
    "\n",
    "$$\n",
    "\\displaystyle \\min_{\\theta} \\mathcal{L} = \\min_{\\theta}-\\frac{1}{m} \\sum_{i=1}^m y^{(i)}\\,\\log(h(x^{(i)}))\\,+\\,(1-y^{(i)})\\log (1 - h(x^{(i)}))\n",
    "$$"
   ]
  },
  {
   "cell_type": "markdown",
   "metadata": {
    "slideshow": {
     "slide_type": "fragment"
    }
   },
   "source": [
    "A visual representation would be to try to go down a valley, the valley being our loss function:\n",
    "\n",
    "<center><img src=\"https://drive.google.com/uc?export=view&id=1Q0NwocOMQUKV2uOl08bRAZupMfaD8y6V\"></center>\n"
   ]
  },
  {
   "cell_type": "markdown",
   "metadata": {
    "slideshow": {
     "slide_type": "subslide"
    }
   },
   "source": [
    "> How would find those optimal parameters $\\theta$ that minimize our loss?"
   ]
  },
  {
   "cell_type": "markdown",
   "metadata": {
    "slideshow": {
     "slide_type": "fragment"
    }
   },
   "source": [
    "We can do it iteratively:\n",
    "\n",
    "Imagine you are hiking in a mountain with heavy fog around you. How can you try to get to the bottom of the valley?\n",
    "\n",
    "At each step, just look around you and **go in the direction that makes you go down the most**."
   ]
  },
  {
   "cell_type": "markdown",
   "metadata": {
    "slideshow": {
     "slide_type": "subslide"
    }
   },
   "source": [
    "Here we can do the same:\n",
    "- We observe around us which direction makes us go down the most\n",
    "- We take a step towards this direction and update our model with the new parameters\n",
    "- Then we iterate until convergence or a max iteration number is reached"
   ]
  },
  {
   "cell_type": "markdown",
   "metadata": {
    "slideshow": {
     "slide_type": "fragment"
    }
   },
   "source": [
    "<center>\n",
    "  <img src=\"https://drive.google.com/uc?export=view&id=1KW7E9OIDoHYTxrsuTso7Vng0Eky_Q7Tg\" width=\"300\"/>\n",
    "</center>\n",
    "\n",
    "This is called the **Gradient Descent** algorithm."
   ]
  },
  {
   "cell_type": "markdown",
   "metadata": {
    "slideshow": {
     "slide_type": "subslide"
    }
   },
   "source": [
    "Mathematically, this just means that we compute the partial derivative of the function for all $\\theta_i$:\n",
    "\n",
    "$$\n",
    "d\\theta_i =\\frac{\\partial}{\\partial\\theta_i}\\mathcal{L} = (y - h_{\\theta}(x)) x_i\n",
    "$$\n",
    "\n",
    "This will show us the direction that goes down the most."
   ]
  },
  {
   "cell_type": "markdown",
   "metadata": {
    "slideshow": {
     "slide_type": "fragment"
    }
   },
   "source": [
    "Then we update our model parameters:\n",
    "$$\n",
    "\\displaystyle \\theta_i = \\theta_i - \\alpha\\frac{\\partial}{\\partial\\theta_i}\\mathcal{L} = \\theta_i - \\alpha d\\theta_i\n",
    "$$\n",
    "\n",
    "Meaning, we take a step toward this direction and update our model accordingly.\n",
    "\n",
    "\n",
    "The newly introduced parameter $\\alpha$ is called the **learning rate**. The learning rate will control the size of the steps.\n",
    "\n",
    "Finally, step by step, we may eventually reach the global minimum of our loss function."
   ]
  },
  {
   "cell_type": "markdown",
   "metadata": {
    "slideshow": {
     "slide_type": "subslide"
    }
   },
   "source": [
    "## Learning Curve"
   ]
  },
  {
   "cell_type": "markdown",
   "metadata": {
    "slideshow": {
     "slide_type": "fragment"
    }
   },
   "source": [
    "We expect the loss the decrease step by step. A way to check if the model is learning well, is to plot the **learning curve**.\n",
    "\n",
    "The learning curve is a plot with the **loss as a function of the iteration** in the gradient descent.\n",
    "\n",
    "> N.B.: There actually exist several forms of learning curves"
   ]
  },
  {
   "cell_type": "markdown",
   "metadata": {
    "slideshow": {
     "slide_type": "subslide"
    }
   },
   "source": [
    "Here is a learning curve on a real dataset, with logistic regression:\n",
    "\n",
    "<center><img src=\"images/learning_curve.png\" width=\"400\"></center>"
   ]
  },
  {
   "cell_type": "markdown",
   "metadata": {
    "slideshow": {
     "slide_type": "fragment"
    }
   },
   "source": [
    "The loss decreases strongly in the first ~30 iterations (with some bumps), and then reaches a plateau.\n",
    "\n",
    "> Not all learning curves have this shape, some decreases slowly, some are very noisy..."
   ]
  },
  {
   "cell_type": "markdown",
   "metadata": {
    "slideshow": {
     "slide_type": "slide"
    }
   },
   "source": [
    "# III. Multiclass Classification"
   ]
  },
  {
   "cell_type": "markdown",
   "metadata": {
    "slideshow": {
     "slide_type": "fragment"
    }
   },
   "source": [
    "The logistic regression allows to perform **binary classification**. This is useful for problems such as customer churn, or tumor detection. \n",
    "\n",
    "But what if we have more than 2 classes, e.g. predicting an email category among 3 classes:\n",
    "- Spam\n",
    "- Work\n",
    "- Personal"
   ]
  },
  {
   "cell_type": "markdown",
   "metadata": {
    "slideshow": {
     "slide_type": "fragment"
    }
   },
   "source": [
    "How would you do that using logistic regression?"
   ]
  },
  {
   "cell_type": "markdown",
   "metadata": {
    "slideshow": {
     "slide_type": "subslide"
    }
   },
   "source": [
    "We can train three models, classifying the following:\n",
    "- **model S**: Spam against Work and Personal\n",
    "- **model W**: Work against Spam and Personal\n",
    "- **model P**: Personal against Spam and Work\n",
    "\n",
    "Then we would keep the highest score of the three models as the prediction."
   ]
  },
  {
   "cell_type": "markdown",
   "metadata": {
    "slideshow": {
     "slide_type": "fragment"
    }
   },
   "source": [
    "For example:\n",
    "- model S: $\\hat{y}$ = 0.4\n",
    "- model W: $\\hat{y}$ = 0.2\n",
    "- model P: $\\hat{y}$ = 0.3\n",
    "\n",
    "Then we would predict Personal email. This technical is called **One versus Rest** classification, sometimes just called OvR."
   ]
  },
  {
   "cell_type": "markdown",
   "metadata": {
    "slideshow": {
     "slide_type": "slide"
    }
   },
   "source": [
    "# IV. Example of Iris classification"
   ]
  },
  {
   "cell_type": "markdown",
   "metadata": {
    "slideshow": {
     "slide_type": "fragment"
    }
   },
   "source": [
    "Iris dataset is a very standard and famous dataset for training.\n",
    "\n",
    "It has 4 features about flowers:\n",
    "- Sepal length\n",
    "- Sepal width\n",
    "- Petal length\n",
    "- Petal width"
   ]
  },
  {
   "cell_type": "markdown",
   "metadata": {
    "slideshow": {
     "slide_type": "fragment"
    }
   },
   "source": [
    "And 3 classes, types of flowers:\n",
    "- Setosa\n",
    "- Virginica\n",
    "- Versicolor\n",
    "\n",
    "So this is a **multiclass classification**."
   ]
  },
  {
   "cell_type": "markdown",
   "metadata": {
    "slideshow": {
     "slide_type": "subslide"
    }
   },
   "source": [
    "![](images/iris_dataset.jpeg)"
   ]
  },
  {
   "cell_type": "markdown",
   "metadata": {
    "slideshow": {
     "slide_type": "subslide"
    }
   },
   "source": [
    "We first load the dataset:"
   ]
  },
  {
   "cell_type": "code",
   "execution_count": 2,
   "metadata": {
    "ExecuteTime": {
     "end_time": "2019-07-11T09:41:41.348551Z",
     "start_time": "2019-07-11T09:41:38.517651Z"
    },
    "slideshow": {
     "slide_type": "fragment"
    }
   },
   "outputs": [
    {
     "name": "stdout",
     "output_type": "stream",
     "text": [
      "X features: ['sepal length (cm)', 'sepal width (cm)', 'petal length (cm)', 'petal width (cm)']\n",
      "y labels: ['setosa' 'versicolor' 'virginica']\n"
     ]
    }
   ],
   "source": [
    "from sklearn.datasets import load_iris\n",
    "data = load_iris()\n",
    "X = data['data']\n",
    "y = data['target']\n",
    "print('X features:', data['feature_names'])\n",
    "print('y labels:', data['target_names'])"
   ]
  },
  {
   "cell_type": "markdown",
   "metadata": {
    "slideshow": {
     "slide_type": "subslide"
    }
   },
   "source": [
    "How many features and samples do we have?"
   ]
  },
  {
   "cell_type": "code",
   "execution_count": 3,
   "metadata": {
    "ExecuteTime": {
     "end_time": "2019-07-11T09:41:42.260768Z",
     "start_time": "2019-07-11T09:41:42.255930Z"
    },
    "slideshow": {
     "slide_type": "fragment"
    }
   },
   "outputs": [
    {
     "data": {
      "text/plain": [
       "(150, 4)"
      ]
     },
     "execution_count": 3,
     "metadata": {},
     "output_type": "execute_result"
    }
   ],
   "source": [
    "X.shape"
   ]
  },
  {
   "cell_type": "markdown",
   "metadata": {
    "slideshow": {
     "slide_type": "fragment"
    }
   },
   "source": [
    "> We have 150 samples and 4 features."
   ]
  },
  {
   "cell_type": "markdown",
   "metadata": {
    "slideshow": {
     "slide_type": "subslide"
    }
   },
   "source": [
    "We can visualize the data if needed:"
   ]
  },
  {
   "cell_type": "code",
   "execution_count": 4,
   "metadata": {
    "ExecuteTime": {
     "end_time": "2019-07-11T09:41:46.034762Z",
     "start_time": "2019-07-11T09:41:45.911756Z"
    },
    "slideshow": {
     "slide_type": "fragment"
    }
   },
   "outputs": [
    {
     "data": {
      "image/png": "[encoded data removed]",
      "text/plain": [
       "<Figure size 432x288 with 1 Axes>"
      ]
     },
     "metadata": {},
     "output_type": "display_data"
    }
   ],
   "source": [
    "from matplotlib import pyplot as plt\n",
    "# Plot the training points\n",
    "plt.scatter(X[:, 0], X[:, 1], c=y)\n",
    "# Format chart\n",
    "plt.xlabel('Sepal length')\n",
    "plt.ylabel('Sepal width')\n",
    "plt.xticks(())\n",
    "plt.yticks(())\n",
    "plt.show()"
   ]
  },
  {
   "cell_type": "markdown",
   "metadata": {
    "slideshow": {
     "slide_type": "subslide"
    }
   },
   "source": [
    "## IV.1. Train a logistic regression model with scikit-learn"
   ]
  },
  {
   "cell_type": "markdown",
   "metadata": {
    "slideshow": {
     "slide_type": "fragment"
    }
   },
   "source": [
    "The logistic regression model is available in scikit-learn. \n",
    "\n",
    "Scikit-learn is probably the most widely used machine learning library at the moment. Most machine learning algorithms are available, well documented, and really easy to use.\n",
    "\n",
    "The logistic regression model is available with the following signature:\n",
    "```python\n",
    "sklearn.linear_model.LogisticRegression()\n",
    "```"
   ]
  },
  {
   "cell_type": "markdown",
   "metadata": {
    "slideshow": {
     "slide_type": "subslide"
    }
   },
   "source": [
    "Then the code is always the same:\n",
    "- Import the model: `from sklearn.linear_model import LogisticRegression`\n",
    "- Instantiate a model, e.g.: `lr_model = LogisticRegression()`\n",
    "- Fit the model on data, e.g.: `lr_model.fit(X, y)`\n",
    "- Predict, e.g.: `lr_model.predict(X)`"
   ]
  },
  {
   "cell_type": "code",
   "execution_count": 5,
   "metadata": {
    "ExecuteTime": {
     "end_time": "2019-07-11T09:42:39.160786Z",
     "start_time": "2019-07-11T09:42:39.030320Z"
    },
    "slideshow": {
     "slide_type": "fragment"
    }
   },
   "outputs": [],
   "source": [
    "# We import and instantiate the model\n",
    "from sklearn.linear_model import LogisticRegression\n",
    "lr = LogisticRegression()"
   ]
  },
  {
   "cell_type": "markdown",
   "metadata": {
    "slideshow": {
     "slide_type": "subslide"
    }
   },
   "source": [
    "Then we fit the model to our data X and y with the `.fit(X, y)` method:"
   ]
  },
  {
   "cell_type": "code",
   "execution_count": 6,
   "metadata": {
    "ExecuteTime": {
     "end_time": "2019-07-11T09:42:40.256716Z",
     "start_time": "2019-07-11T09:42:40.241943Z"
    },
    "slideshow": {
     "slide_type": "fragment"
    }
   },
   "outputs": [
    {
     "data": {
      "text/plain": [
       "LogisticRegression(C=1.0, class_weight=None, dual=False, fit_intercept=True,\n",
       "                   intercept_scaling=1, l1_ratio=None, max_iter=100,\n",
       "                   multi_class='auto', n_jobs=None, penalty='l2',\n",
       "                   random_state=None, solver='lbfgs', tol=0.0001, verbose=0,\n",
       "                   warm_start=False)"
      ]
     },
     "execution_count": 6,
     "metadata": {},
     "output_type": "execute_result"
    }
   ],
   "source": [
    "lr.fit(X, y)"
   ]
  },
  {
   "cell_type": "markdown",
   "metadata": {
    "slideshow": {
     "slide_type": "subslide"
    }
   },
   "source": [
    "We can then get predictions from our model with the `.predict(X)` method:"
   ]
  },
  {
   "cell_type": "code",
   "execution_count": 7,
   "metadata": {
    "ExecuteTime": {
     "end_time": "2019-07-11T09:42:41.311444Z",
     "start_time": "2019-07-11T09:42:41.305177Z"
    },
    "slideshow": {
     "slide_type": "fragment"
    }
   },
   "outputs": [
    {
     "data": {
      "text/plain": [
       "array([0, 0, 0, 0, 0, 0, 0, 0, 0, 0, 0, 0, 0, 0, 0, 0, 0, 0, 0, 0, 0, 0,\n",
       "       0, 0, 0, 0, 0, 0, 0, 0, 0, 0, 0, 0, 0, 0, 0, 0, 0, 0, 0, 0, 0, 0,\n",
       "       0, 0, 0, 0, 0, 0, 1, 1, 1, 1, 1, 1, 1, 1, 1, 1, 1, 1, 1, 1, 1, 1,\n",
       "       1, 1, 1, 1, 2, 1, 1, 1, 1, 1, 1, 2, 1, 1, 1, 1, 1, 2, 1, 1, 1, 1,\n",
       "       1, 1, 1, 1, 1, 1, 1, 1, 1, 1, 1, 1, 2, 2, 2, 2, 2, 2, 1, 2, 2, 2,\n",
       "       2, 2, 2, 2, 2, 2, 2, 2, 2, 2, 2, 2, 2, 2, 2, 2, 2, 2, 2, 2, 2, 2,\n",
       "       2, 2, 2, 2, 2, 2, 2, 2, 2, 2, 2, 2, 2, 2, 2, 2, 2, 2])"
      ]
     },
     "execution_count": 7,
     "metadata": {},
     "output_type": "execute_result"
    }
   ],
   "source": [
    "y_pred = lr.predict(X)\n",
    "y_pred"
   ]
  },
  {
   "cell_type": "markdown",
   "metadata": {
    "slideshow": {
     "slide_type": "subslide"
    }
   },
   "source": [
    "And finally we can evaluate the **accuracy** of our model: this is just the number of good predictions over total number of predictions"
   ]
  },
  {
   "cell_type": "code",
   "execution_count": 8,
   "metadata": {
    "ExecuteTime": {
     "end_time": "2019-07-10T15:30:00.335885Z",
     "start_time": "2019-07-10T15:30:00.327397Z"
    },
    "scrolled": true,
    "slideshow": {
     "slide_type": "fragment"
    }
   },
   "outputs": [
    {
     "name": "stdout",
     "output_type": "stream",
     "text": [
      "Logistic regression accuracy: 0.9733333333333334\n"
     ]
    }
   ],
   "source": [
    "accuracy = lr.score(X, y)\n",
    "\n",
    "print(\"Logistic regression accuracy:\", accuracy)"
   ]
  },
  {
   "cell_type": "markdown",
   "metadata": {
    "slideshow": {
     "slide_type": "subslide"
    }
   },
   "source": [
    "## IV.2. Interpretation"
   ]
  },
  {
   "cell_type": "markdown",
   "metadata": {
    "slideshow": {
     "slide_type": "fragment"
    }
   },
   "source": [
    "Having a good model is important: the main goal of a model is most of the time to perform well.\n",
    "\n",
    "But having a model that we **can explain** is even better. How to make an interpretation of our model? "
   ]
  },
  {
   "cell_type": "markdown",
   "metadata": {
    "slideshow": {
     "slide_type": "fragment"
    }
   },
   "source": [
    "We can use the parameters $\\theta_i$, associated to our features $x_i$.\n",
    "\n",
    "Indeed, the parameters $\\theta$ are just weights, applied to each feature:\n",
    "- a very small weight would mean a feature of low importance\n",
    "- a large, positive weight would mean a strong, positive correlation between the feature and the label\n",
    "- a large, negative weight would mean a strong, negative correlation between the feature and the label"
   ]
  },
  {
   "cell_type": "markdown",
   "metadata": {
    "slideshow": {
     "slide_type": "subslide"
    }
   },
   "source": [
    "Those weights are available in scikit-learn, after training the `LogisticRegression` model, with the attribute `.coef_`.\n",
    "\n",
    "Since we have a 3-class classification, we have a list of weights for each of those class (remember the *One versus Rest* method).\n",
    "\n",
    "For predicting class `setosa`, we have the following values:"
   ]
  },
  {
   "cell_type": "code",
   "execution_count": 9,
   "metadata": {
    "scrolled": true,
    "slideshow": {
     "slide_type": "fragment"
    }
   },
   "outputs": [
    {
     "data": {
      "text/html": [
       "<div>\n",
       "<style scoped>\n",
       "    .dataframe tbody tr th:only-of-type {\n",
       "        vertical-align: middle;\n",
       "    }\n",
       "\n",
       "    .dataframe tbody tr th {\n",
       "        vertical-align: top;\n",
       "    }\n",
       "\n",
       "    .dataframe thead th {\n",
       "        text-align: right;\n",
       "    }\n",
       "</style>\n",
       "<table border=\"1\" class=\"dataframe\">\n",
       "  <thead>\n",
       "    <tr style=\"text-align: right;\">\n",
       "      <th></th>\n",
       "      <th>sepal length (cm)</th>\n",
       "      <th>sepal width (cm)</th>\n",
       "      <th>petal length (cm)</th>\n",
       "      <th>petal width (cm)</th>\n",
       "    </tr>\n",
       "  </thead>\n",
       "  <tbody>\n",
       "    <tr>\n",
       "      <th>0</th>\n",
       "      <td>-0.41821</td>\n",
       "      <td>0.966365</td>\n",
       "      <td>-2.520913</td>\n",
       "      <td>-1.084117</td>\n",
       "    </tr>\n",
       "  </tbody>\n",
       "</table>\n",
       "</div>"
      ],
      "text/plain": [
       "   sepal length (cm)  sepal width (cm)  petal length (cm)  petal width (cm)\n",
       "0           -0.41821          0.966365          -2.520913         -1.084117"
      ]
     },
     "execution_count": 9,
     "metadata": {},
     "output_type": "execute_result"
    }
   ],
   "source": [
    "import pandas as pd\n",
    "\n",
    "pd.DataFrame([lr.coef_[0]], columns=data['feature_names'])"
   ]
  },
  {
   "cell_type": "markdown",
   "metadata": {
    "slideshow": {
     "slide_type": "fragment"
    }
   },
   "source": [
    "Meaning that the most important feature for this task, with this model, is `petal length`.\n",
    "\n",
    "The less important feature here would be `sepal length`."
   ]
  },
  {
   "cell_type": "markdown",
   "metadata": {
    "slideshow": {
     "slide_type": "subslide"
    }
   },
   "source": [
    "## IV.3. [Optional] Learning curve"
   ]
  },
  {
   "cell_type": "markdown",
   "metadata": {
    "slideshow": {
     "slide_type": "fragment"
    }
   },
   "source": [
    "We can actually plot the learning curve we saw above in the course, with the following code:"
   ]
  },
  {
   "cell_type": "code",
   "execution_count": 10,
   "metadata": {
    "slideshow": {
     "slide_type": "fragment"
    }
   },
   "outputs": [],
   "source": [
    "from sklearn.metrics import log_loss\n",
    "\n",
    "# Save the loss in a list\n",
    "loss = []\n",
    "# Look for 100 iterations\n",
    "for i in range(100):\n",
    "    lr = LogisticRegression(max_iter=i+1)\n",
    "    lr.fit(X, y)\n",
    "    y_pred_prob = lr.predict_proba(X)\n",
    "    loss.append(log_loss(y, y_pred_prob))"
   ]
  },
  {
   "cell_type": "code",
   "execution_count": 11,
   "metadata": {
    "slideshow": {
     "slide_type": "subslide"
    }
   },
   "outputs": [
    {
     "data": {
      "image/png": "[encoded data removed]",
      "text/plain": [
       "<Figure size 432x288 with 1 Axes>"
      ]
     },
     "metadata": {
      "needs_background": "light"
     },
     "output_type": "display_data"
    }
   ],
   "source": [
    "import matplotlib.pyplot as plt\n",
    "# Plot the loss\n",
    "plt.plot(loss)\n",
    "plt.title('Learning curve')\n",
    "plt.xlabel('Iteration')\n",
    "plt.ylabel('Loss')\n",
    "plt.show()"
   ]
  },
  {
   "cell_type": "markdown",
   "metadata": {
    "slideshow": {
     "slide_type": "slide"
    }
   },
   "source": [
    "# V. Other classification models"
   ]
  },
  {
   "cell_type": "markdown",
   "metadata": {
    "slideshow": {
     "slide_type": "fragment"
    }
   },
   "source": [
    "There exist many classification models. Here are some of the most frequently used and their scikit-learn class:\n",
    "- k-NN: using k closest neighbors to define the class\n",
    "```python\n",
    "sklearn.neighbors.KNeighborsClassifier\n",
    "```"
   ]
  },
  {
   "cell_type": "markdown",
   "metadata": {
    "slideshow": {
     "slide_type": "fragment"
    }
   },
   "source": [
    "- Support Vector Machine (SVM): maximizing margin, can use kernel for non linearity\n",
    "```python\n",
    "sklearn.svm.SVC\n",
    "```"
   ]
  },
  {
   "cell_type": "markdown",
   "metadata": {
    "slideshow": {
     "slide_type": "fragment"
    }
   },
   "source": [
    "- Naive Bayes: based on Bayes theorem\n",
    "```python\n",
    "sklearn.naive_bayes.GaussianNB\n",
    "```"
   ]
  },
  {
   "cell_type": "markdown",
   "metadata": {
    "slideshow": {
     "slide_type": "subslide"
    }
   },
   "source": [
    "If I want, for example, to use k-NN, the code would be extremely similar to logistic regression:"
   ]
  },
  {
   "cell_type": "code",
   "execution_count": 12,
   "metadata": {
    "slideshow": {
     "slide_type": "fragment"
    }
   },
   "outputs": [
    {
     "name": "stdout",
     "output_type": "stream",
     "text": [
      "k-NN accuracy: 0.9666666666666667\n"
     ]
    }
   ],
   "source": [
    "# We import and instantiate the model\n",
    "from sklearn.neighbors import KNeighborsClassifier\n",
    "knn = KNeighborsClassifier()\n",
    "# Fit the model\n",
    "knn.fit(X, y)\n",
    "# Evaluate the model\n",
    "print('k-NN accuracy:', knn.score(X, y))"
   ]
  },
  {
   "cell_type": "markdown",
   "metadata": {
    "slideshow": {
     "slide_type": "skip"
    }
   },
   "source": [
    "___"
   ]
  },
  {
   "cell_type": "code",
   "execution_count": null,
   "metadata": {
    "slideshow": {
     "slide_type": "skip"
    }
   },
   "outputs": [],
   "source": []
  },
  {
   "cell_type": "code",
   "execution_count": 13,
   "metadata": {
    "slideshow": {
     "slide_type": "skip"
    }
   },
   "outputs": [
    {
     "ename": "NameError",
     "evalue": "name 'iris' is not defined",
     "output_type": "error",
     "traceback": [
      "\u001b[0;31m---------------------------------------------------------------------------\u001b[0m",
      "\u001b[0;31mNameError\u001b[0m                                 Traceback (most recent call last)",
      "\u001b[0;32m<ipython-input-13-c51609572c8f>\u001b[0m in \u001b[0;36m<module>\u001b[0;34m\u001b[0m\n\u001b[1;32m      1\u001b[0m \u001b[0;31m# Attach the dataset to the environment\u001b[0m\u001b[0;34m\u001b[0m\u001b[0;34m\u001b[0m\u001b[0;34m\u001b[0m\u001b[0m\n\u001b[0;32m----> 2\u001b[0;31m \u001b[0mdata\u001b[0m\u001b[0;34m(\u001b[0m\u001b[0miris\u001b[0m\u001b[0;34m)\u001b[0m\u001b[0;34m\u001b[0m\u001b[0;34m\u001b[0m\u001b[0m\n\u001b[0m\u001b[1;32m      3\u001b[0m \u001b[0;31m# Rename the data\u001b[0m\u001b[0;34m\u001b[0m\u001b[0;34m\u001b[0m\u001b[0;34m\u001b[0m\u001b[0m\n\u001b[1;32m      4\u001b[0m \u001b[0miris_dataset\u001b[0m\u001b[0;34m<\u001b[0m\u001b[0;34m-\u001b[0m\u001b[0miris\u001b[0m\u001b[0;34m\u001b[0m\u001b[0;34m\u001b[0m\u001b[0m\n\u001b[1;32m      5\u001b[0m \u001b[0;31m# View the data\u001b[0m\u001b[0;34m\u001b[0m\u001b[0;34m\u001b[0m\u001b[0;34m\u001b[0m\u001b[0m\n",
      "\u001b[0;31mNameError\u001b[0m: name 'iris' is not defined"
     ]
    }
   ],
   "source": [
    "# Attach the dataset to the environment\n",
    "data(iris)\n",
    "# Rename the data\n",
    "iris_dataset<-iris\n",
    "# View the data\n",
    "head(iris_dataset)"
   ]
  },
  {
   "cell_type": "markdown",
   "metadata": {
    "slideshow": {
     "slide_type": "skip"
    }
   },
   "source": [
    "How many samples do we have?"
   ]
  },
  {
   "cell_type": "code",
   "execution_count": null,
   "metadata": {
    "slideshow": {
     "slide_type": "skip"
    }
   },
   "outputs": [],
   "source": [
    "dim(iris_dataset)"
   ]
  },
  {
   "cell_type": "markdown",
   "metadata": {
    "slideshow": {
     "slide_type": "skip"
    }
   },
   "source": [
    "We have 150 samples."
   ]
  },
  {
   "cell_type": "code",
   "execution_count": null,
   "metadata": {
    "slideshow": {
     "slide_type": "skip"
    }
   },
   "outputs": [],
   "source": [
    "library(ggplot2)\n",
    "g <- ggplot(data=iris_dataset, aes(x = Petal.Length, y = Petal.Width))\n",
    "g <-g + \n",
    "    geom_point(aes(color=Species, shape=Species)) +\n",
    "    xlab(\"Petal Length\") +\n",
    "    ylab(\"Petal Width\") +\n",
    "    ggtitle(\"Petal Length-Width\")\n",
    "print(g)"
   ]
  },
  {
   "cell_type": "markdown",
   "metadata": {
    "slideshow": {
     "slide_type": "skip"
    }
   },
   "source": [
    "Let's **train our model** on the data:"
   ]
  },
  {
   "cell_type": "code",
   "execution_count": null,
   "metadata": {
    "slideshow": {
     "slide_type": "skip"
    }
   },
   "outputs": [],
   "source": [
    "model <- glm(Species ~ Sepal.Length + Sepal.Width + Petal.Length + Petal.Width,\n",
    "             data = iris_dataset,\n",
    "             family = binomial)"
   ]
  },
  {
   "cell_type": "markdown",
   "metadata": {
    "slideshow": {
     "slide_type": "skip"
    }
   },
   "source": [
    "Have a look at the model:"
   ]
  },
  {
   "cell_type": "code",
   "execution_count": null,
   "metadata": {
    "slideshow": {
     "slide_type": "skip"
    }
   },
   "outputs": [],
   "source": [
    "model"
   ]
  },
  {
   "cell_type": "code",
   "execution_count": null,
   "metadata": {
    "slideshow": {
     "slide_type": "skip"
    }
   },
   "outputs": [],
   "source": [
    "predict(model, type='response')"
   ]
  },
  {
   "cell_type": "code",
   "execution_count": null,
   "metadata": {
    "slideshow": {
     "slide_type": "skip"
    }
   },
   "outputs": [],
   "source": [
    "glfit<-glm(y~x, family = 'binomial')"
   ]
  }
 ],
 "metadata": {
  "celltoolbar": "Slideshow",
  "kernelspec": {
   "display_name": "Python 3",
   "language": "python",
   "name": "python3"
  },
  "language_info": {
   "codemirror_mode": {
    "name": "ipython",
    "version": 3
   },
   "file_extension": ".py",
   "mimetype": "text/x-python",
   "name": "python",
   "nbconvert_exporter": "python",
   "pygments_lexer": "ipython3",
   "version": "3.7.4"
  }
 },
 "nbformat": 4,
 "nbformat_minor": 2
}
