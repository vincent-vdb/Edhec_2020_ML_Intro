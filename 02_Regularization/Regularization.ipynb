{
 "cells": [
  {
   "cell_type": "markdown",
   "metadata": {},
   "source": [
    "- bias variance tradeoff\n",
    "- over and underfitting\n",
    "- regularization on regression: Ridge, Lasso, ElasticNet"
   ]
  },
  {
   "cell_type": "code",
   "execution_count": null,
   "metadata": {},
   "outputs": [],
   "source": []
  },
  {
   "cell_type": "markdown",
   "metadata": {
    "slideshow": {
     "slide_type": "slide"
    }
   },
   "source": [
    "## Regularization"
   ]
  },
  {
   "cell_type": "markdown",
   "metadata": {},
   "source": [
    "![](https://images.unsplash.com/photo-1528056956515-10faa96ba227?ixlib=rb-1.2.1&ixid=eyJhcHBfaWQiOjEyMDd9&auto=format&fit=crop&w=1052&q=80)\n",
    "Picture by [Mel Poole](https://unsplash.com/photos/ToI01Apo4Pk)"
   ]
  },
  {
   "cell_type": "markdown",
   "metadata": {
    "slideshow": {
     "slide_type": "skip"
    }
   },
   "source": [
    "___"
   ]
  },
  {
   "cell_type": "markdown",
   "metadata": {
    "slideshow": {
     "slide_type": "fragment"
    }
   },
   "source": [
    "Today we will talk about bias and variance, and how to improve the performances of our algorithms using these concepts."
   ]
  },
  {
   "cell_type": "code",
   "execution_count": 1,
   "metadata": {
    "ExecuteTime": {
     "end_time": "2019-07-23T14:39:12.996861Z",
     "start_time": "2019-07-23T14:39:12.464941Z"
    },
    "slideshow": {
     "slide_type": "skip"
    }
   },
   "outputs": [],
   "source": [
    "import numpy as np\n",
    "import matplotlib.pyplot as plt\n",
    "\n",
    "import warnings\n",
    "warnings.filterwarnings('ignore')"
   ]
  },
  {
   "cell_type": "markdown",
   "metadata": {
    "slideshow": {
     "slide_type": "slide"
    }
   },
   "source": [
    "# I. Bias vs Variance"
   ]
  },
  {
   "cell_type": "markdown",
   "metadata": {},
   "source": [
    "## I.1. The intuition\n",
    "\n",
    "> 📚 **Resources**: For a more in-depth explanation of the topic, I recommend [this on-point explanation](https://dziganto.github.io/cross-validation/data%20science/machine%20learning/model%20tuning/python/Model-Tuning-with-Validation-and-Cross-Validation/)\n",
    "\n",
    "> 🏆 **Quizz**\n",
    "\n",
    "<img src=\"https://drive.google.com/uc?export=view&id=1yHalKWkEF-h-HIOf3l7V7kFBWDQy1zXt\" width=\"700px\">\n",
    "\n",
    "> ✅ **Answer**: A good model is a model capable of **generalizing** the problem (and therefore to generalize some solution)\n",
    ">\n",
    "> If we continue the student/exam methaphor, **overfitting** would be like **cramming**, and **underfitting** would be like **giving too broad answers at the exam** (bullshitting 🙄).\n",
    ">\n",
    "> <img src=\"https://drive.google.com/uc?export=view&id=1zp3-OvgyEEkXhpNV_qIbeZrns7vGOBWq\" width=\"800px\" align=\"center\"/>"
   ]
  },
  {
   "cell_type": "markdown",
   "metadata": {},
   "source": [
    "Bias and variance manifest a little differently depending on wether the task at hand is a **classification** or a **regression**, but the underlying causes are the same.\n",
    "\n",
    "- In a **classification problem** :\n",
    "<p align=\"center\">\n",
    "<img src=\"https://drive.google.com/uc?export=view&id=1MQD5UZigevDU4542iMpPJZWardglwQyO\">\n",
    "</p>\n",
    "\n",
    "- In a **regression problem** :\n",
    "<p align=\"center\">\n",
    "<img src=\"https://drive.google.com/uc?export=view&id=1yT0bXLUs0fJvVLjhWumndL2FPaRSv2zk\">\n",
    "</p>"
   ]
  },
  {
   "cell_type": "markdown",
   "metadata": {},
   "source": [
    "## I.2. The Bias-Variance compromise"
   ]
  },
  {
   "cell_type": "markdown",
   "metadata": {},
   "source": [
    "Another way of seeing it, would be to look at this chart:\n",
    "\n",
    "<p align=\"center\">\n",
    "<img src=\"https://drive.google.com/uc?export=view&id=1cRT8QaY8kWWauZJ9iWCVRk6CkfBhv7Xr\" width=\"600\">\n",
    "</p>\n",
    "\n",
    "But why is it called **Bias** and **Variance**? Let's consider an archer aiming for a target 🎯\n",
    "\n",
    "<p align=\"center\">\n",
    "<img src=\"https://drive.google.com/uc?export=view&id=1KD2aWehs1RpHxnYlwbi0ghwykSZqJYiy\" width=\"500\">\n",
    "</p>"
   ]
  },
  {
   "cell_type": "markdown",
   "metadata": {},
   "source": [
    "## I.3. Underfitting vs Overfitting"
   ]
  },
  {
   "cell_type": "markdown",
   "metadata": {},
   "source": [
    "- **High variance** means you **overfit**: basically your are too close to the training data, you won't be able to generalize well.\n",
    "\n",
    "- **High bias** means your model **does not fit your data**. No matter how hard you try, you won't be able to perform good predictions."
   ]
  },
  {
   "cell_type": "markdown",
   "metadata": {
    "slideshow": {
     "slide_type": "subslide"
    }
   },
   "source": [
    "## I.4. How to diagnose it?"
   ]
  },
  {
   "cell_type": "markdown",
   "metadata": {
    "slideshow": {
     "slide_type": "fragment"
    }
   },
   "source": [
    "High variance has to be diagnosed by looking at the performance of your model on the train and the validation dataset (one more reason to split your data!)."
   ]
  },
  {
   "cell_type": "markdown",
   "metadata": {
    "slideshow": {
     "slide_type": "fragment"
    }
   },
   "source": [
    "➡️ Let's say we want to perform a binary classification between images of dogs and cats.\n",
    "Let's assume we have the following results with one of our models:\n",
    "\n",
    "|  Split  | Accuracy |\n",
    "|---------|----------|\n",
    "|  Train  |   98 %   |\n",
    "|  Validation  |   73 %   |\n",
    "\n",
    "> Here, we clearly have a **high variance**. So no, it's not good at all! Our results are really good on the training set, but do not generalize, and thus give poor results on the validation set."
   ]
  },
  {
   "cell_type": "markdown",
   "metadata": {
    "slideshow": {
     "slide_type": "subslide"
    }
   },
   "source": [
    "➡️ Now we have made some changes, and we have those new results:\n",
    "\n",
    "\n",
    "|  Split  | Accuracy |\n",
    "|---------|----------|\n",
    "|  Train  |   76 %   |\n",
    "|  Validation  |   75 %   |\n",
    "\n",
    "\n",
    "> This time, we most likely have a **high bias**. Both training and validation datasets provide poor results."
   ]
  },
  {
   "cell_type": "markdown",
   "metadata": {
    "slideshow": {
     "slide_type": "subslide"
    }
   },
   "source": [
    "➡️ Finally, we use one of the best possible model, with an optimized set of hyperparameters, and we get the following results :\n",
    "\n",
    "|  Split  | Accuracy |\n",
    "|---------|----------|\n",
    "|  Train  |   96 %   |\n",
    "|  Valid  |   95 %   |\n",
    "\n",
    "> This time, our model seems to be good!\n",
    "\n",
    "⚠️ Note: as you can see, without any knowledge of the expected performances, you may think the high bias results are good enough. You must **always try to improve your model** after the first result."
   ]
  },
  {
   "cell_type": "markdown",
   "metadata": {
    "slideshow": {
     "slide_type": "subslide"
    }
   },
   "source": [
    "## I.5 How to fix it ?"
   ]
  },
  {
   "cell_type": "markdown",
   "metadata": {},
   "source": [
    "### I.5.A. Fixing underfitting (e.g. fixing high bias)"
   ]
  },
  {
   "cell_type": "markdown",
   "metadata": {
    "slideshow": {
     "slide_type": "fragment"
    }
   },
   "source": [
    "What can you do to fix a high bias ?"
   ]
  },
  {
   "cell_type": "markdown",
   "metadata": {
    "slideshow": {
     "slide_type": "fragment"
    }
   },
   "source": [
    "Here is a list of possible options :\n",
    "* **Add more features** (e.g. square of input features, combination of features...), through feature engineering or by collecting new informations on our data through scrapping or APIs.\n",
    "* Try a **more complex model**.\n",
    "* **Reduce regularization** (if any)"
   ]
  },
  {
   "cell_type": "markdown",
   "metadata": {
    "slideshow": {
     "slide_type": "subslide"
    }
   },
   "source": [
    "### I.5.B. Fixing overfitting (e.g. fixing high variance)"
   ]
  },
  {
   "cell_type": "markdown",
   "metadata": {
    "slideshow": {
     "slide_type": "fragment"
    }
   },
   "source": [
    "To fix high variance, on the other hand, here are the main leads:\n",
    "* **Add more training data**\n",
    "* **Remove extra features** (if any)\n",
    "* **Decrease complexity of your model**\n",
    "* **Add regularization**"
   ]
  },
  {
   "cell_type": "markdown",
   "metadata": {
    "slideshow": {
     "slide_type": "slide"
    }
   },
   "source": [
    "# II. Regularization"
   ]
  },
  {
   "cell_type": "markdown",
   "metadata": {},
   "source": [
    "Regularization **does NOT** improve the **training** performance. However, it can improve the **generalization** performance in test."
   ]
  },
  {
   "cell_type": "markdown",
   "metadata": {
    "slideshow": {
     "slide_type": "subslide"
    }
   },
   "source": [
    "## II.1 Ridge regression"
   ]
  },
  {
   "cell_type": "markdown",
   "metadata": {
    "slideshow": {
     "slide_type": "fragment"
    }
   },
   "source": [
    "Regularization is a way to modify the bias and variance of our models. In most of the models, we will only need to play with a positive parameter. The idea is to optimize our model by adding a **global weight** to the cost function, which effect is to **lower** the values of the model **parameters**.\n",
    "\n",
    "> *Ridge Regression* penalizes high parameter values and reduces parameter values. Therefore, our end model is more robust and less likely to overfit."
   ]
  },
  {
   "cell_type": "markdown",
   "metadata": {
    "slideshow": {
     "slide_type": "fragment"
    }
   },
   "source": [
    "For example, here is the cost function of a linear regression $h_\\theta(x) = \\theta_0 + \\theta_1 x$ over *m* points:\n",
    "\n",
    "$$ J = \\frac{1}{2m}\\sum_i (h_\\theta(x^i) - y^i)^2 = \\frac{1}{2m}\\sum_i (\\theta_0 + \\theta_1 x^i - y^i)^2$$"
   ]
  },
  {
   "cell_type": "markdown",
   "metadata": {
    "slideshow": {
     "slide_type": "fragment"
    }
   },
   "source": [
    "To perform some regularization, the term $\\lambda |\\theta|^2$ is added at the end:\n",
    "\n",
    "$$ J = \\frac{1}{2m}\\sum_i (h_\\theta(x^i) - y^i)^2 + \\lambda |\\theta|^2 = \\frac{1}{2m}\\sum_i (\\theta_0 + \\theta_1 x^i - y^i)^2 + \\lambda(\\theta_0^2 + \\theta_1^2)$$\n",
    "\n",
    "This is called a **Ridge Regression** (or **L2** regularization) and $\\lambda$ is our regularization parameter."
   ]
  },
  {
   "cell_type": "markdown",
   "metadata": {},
   "source": [
    "<p align=\"center\">\n",
    "<img src=\"https://drive.google.com/uc?export=view&id=1fomvSycAtYnIVpEinfZvUioYz4ZjIRy5\">\n",
    "</p> "
   ]
  },
  {
   "cell_type": "markdown",
   "metadata": {},
   "source": [
    "The Ridge regression can easily be implemented in `scikit-learn`, with the following signature:\n",
    "\n",
    "`class sklearn.linear_model.Ridge(alpha=1.0, fit_intercept=True, normalize=False, copy_X=True, max_iter=None, tol=0.001, solver=’auto’, random_state=None)`\n",
    "\n",
    "(here, the parameter `alpha` is the regularization parameter)."
   ]
  },
  {
   "cell_type": "markdown",
   "metadata": {
    "slideshow": {
     "slide_type": "subslide"
    }
   },
   "source": [
    "## II.2 LASSO Regression"
   ]
  },
  {
   "cell_type": "markdown",
   "metadata": {
    "slideshow": {
     "slide_type": "fragment"
    }
   },
   "source": [
    "The **LASSO Regression** (*Least Absolute Shrinkage and Selection Operator*) does not add **quadratic** (square) values to the cost function, but **absolute** values: $\\lambda |\\theta|$.\n",
    "\n",
    "Following our previous example of linear regression $h_\\theta(x) = \\theta_0 + \\theta_1 x$, the cost function is now:\n",
    "\n",
    "$$ J = \\frac{1}{2m}\\sum_i (h_\\theta(x^i) - y^i)^2 + \\lambda |\\theta| = \\frac{1}{2m}\\sum_i (\\theta_0 + \\theta_1 x^i - y^i)^2 + \\lambda(|\\theta_0| + |\\theta_1|)$$\n",
    "\n",
    "This is called a **LASSO Regression** (or **L1** regularization) and $\\lambda$ is our regularization parameter."
   ]
  },
  {
   "cell_type": "markdown",
   "metadata": {},
   "source": [
    "> *Lasso Regression* sets parameters to 0 much more quickly. It is used for feature selection too."
   ]
  },
  {
   "cell_type": "markdown",
   "metadata": {},
   "source": [
    "<p align=\"center\">\n",
    "<img src=\"https://drive.google.com/uc?export=view&id=1w0aMoRPntloGzNXTfE1vmd9W_m1Hd7Lx\">\n",
    "</p>\n"
   ]
  },
  {
   "cell_type": "markdown",
   "metadata": {},
   "source": [
    "The LASSO regression can easily be implemented in `scikit-learn`, with the following signature:\n",
    "\n",
    "`class sklearn.linear_model.Lasso(alpha=1.0, fit_intercept=True, normalize=False, precompute=False, copy_X=True, max_iter=1000, tol=0.0001, warm_start=False, positive=False, random_state=None, selection=’cyclic’)`\n",
    "\n",
    "(here, the parameter `alpha` is the regularization parameter)."
   ]
  },
  {
   "cell_type": "markdown",
   "metadata": {},
   "source": [
    "Intuitively:\n",
    "* if $\\lambda$ = 0: there is no regularization, too complex models may overfit\n",
    "* if $\\lambda$ is large: high regularization, all $\\theta$ values will tend to 0, models may have a high bias"
   ]
  },
  {
   "cell_type": "markdown",
   "metadata": {},
   "source": [
    "## II.3 SVM and regularization"
   ]
  },
  {
   "cell_type": "markdown",
   "metadata": {},
   "source": [
    "Regularization is also available with SVM, some of you probably already used it in hyperparameters optimization. The regularization parameter (lambda) reflects the importance that is given to miss-classified examples.\n",
    "\n",
    "In the signature of the SVM classifier on `scikit-learn`, the regularization parameter is called `C`:\n",
    "\n",
    "`class sklearn.svm.SVC(C=1.0, kernel=’rbf’, degree=3, gamma=’auto_deprecated’, coef0=0.0, shrinking=True, probability=False, tol=0.001, cache_size=200, class_weight=None, verbose=False, max_iter=-1, decision_function_shape=’ovr’, random_state=None)`\n",
    "\n",
    "Warning: in the SVM classifier, `C=1.0` means no regularization, while `C<<1` means high regularization."
   ]
  },
  {
   "cell_type": "markdown",
   "metadata": {},
   "source": [
    "<p align=\"center\">\n",
    "<img src=\"https://drive.google.com/uc?export=view&id=1kp1gLJYlDlkQ6R60zyES1A_QVEgl3d56\">\n",
    "</p>"
   ]
  },
  {
   "cell_type": "markdown",
   "metadata": {},
   "source": [
    "## II.4. Logistic Regression and regularization"
   ]
  },
  {
   "cell_type": "markdown",
   "metadata": {},
   "source": [
    "Regularization can also be used with a Logistic Regression.\n",
    "In the signature of the Logistic Regression on `scikit-learn`, the regularization parameter is called `C`, like the SVM:\n",
    "\n",
    "`class sklearn.linear_model.LogisticRegression(penalty=’l2’, dual=False, tol=0.0001, C=1.0, fit_intercept=True, intercept_scaling=1, class_weight=None, random_state=None, solver=’warn’, max_iter=100, multi_class=’warn’, verbose=0, warm_start=False, n_jobs=None)[source]`\n",
    "\n",
    "Unlike the SVM, you can choose the penalty type: either `penalty=’l2’` or `penalty=’l1’`, meaning the regularization is done either on squared parameters (like in Ridge) or on absolute values (like in LASSO).\n",
    "\n",
    "Again, warning: `C=1.0` means no regularization, while `C<<1` means high regularization."
   ]
  },
  {
   "cell_type": "markdown",
   "metadata": {},
   "source": [
    "## II.5. Random Forest"
   ]
  },
  {
   "cell_type": "markdown",
   "metadata": {
    "slideshow": {
     "slide_type": "subslide"
    }
   },
   "source": [
    "Random Forest does not have a regularization parameter such as the ones for SVM and regression, but you can play with the parameters to reduce the variance, especially the `max_depth`."
   ]
  },
  {
   "cell_type": "markdown",
   "metadata": {
    "slideshow": {
     "slide_type": "slide"
    }
   },
   "source": [
    "# III. Application"
   ]
  },
  {
   "cell_type": "markdown",
   "metadata": {
    "slideshow": {
     "slide_type": "subslide"
    }
   },
   "source": [
    "## III.1 Input data"
   ]
  },
  {
   "cell_type": "markdown",
   "metadata": {
    "slideshow": {
     "slide_type": "fragment"
    }
   },
   "source": [
    "We will see how to apply regularization methods on an example.\n",
    "\n",
    "Let's use the following data:"
   ]
  },
  {
   "cell_type": "code",
   "execution_count": 2,
   "metadata": {
    "ExecuteTime": {
     "end_time": "2019-07-23T14:43:43.363822Z",
     "start_time": "2019-07-23T14:43:41.133821Z"
    },
    "scrolled": false,
    "slideshow": {
     "slide_type": "subslide"
    }
   },
   "outputs": [
    {
     "data": {
      "text/plain": [
       "[]"
      ]
     },
     "execution_count": 2,
     "metadata": {},
     "output_type": "execute_result"
    },
    {
     "data": {
      "image/png": "[encoded data removed]",
      "text/plain": [
       "<Figure size 432x288 with 1 Axes>"
      ]
     },
     "metadata": {
      "needs_background": "light"
     },
     "output_type": "display_data"
    }
   ],
   "source": [
    "import numpy as np\n",
    "import matplotlib.pyplot as plt\n",
    "from sklearn.model_selection import train_test_split\n",
    "np.random.seed(42)\n",
    "\n",
    "# Let's create the data\n",
    "X = np.arange(0, 15, 0.3)\n",
    "y = 4*np.sqrt(X) - 2*X + 0.1*X*X + np.random.normal(0, .5, len(X))\n",
    "\n",
    "# Split train and test\n",
    "X_train, X_test, y_train, y_test = train_test_split(X, y, test_size=0.3, random_state=0)\n",
    "\n",
    "# Plot the data\n",
    "plt.scatter(X_train, y_train)\n",
    "plt.plot()"
   ]
  },
  {
   "cell_type": "markdown",
   "metadata": {
    "slideshow": {
     "slide_type": "subslide"
    }
   },
   "source": [
    "## III.2 High bias"
   ]
  },
  {
   "cell_type": "markdown",
   "metadata": {
    "slideshow": {
     "slide_type": "fragment"
    }
   },
   "source": [
    "Let's first try to use a normal linear regression."
   ]
  },
  {
   "cell_type": "code",
   "execution_count": 7,
   "metadata": {
    "ExecuteTime": {
     "end_time": "2019-07-23T14:45:08.173915Z",
     "start_time": "2019-07-23T14:45:08.015416Z"
    },
    "scrolled": true,
    "slideshow": {
     "slide_type": "subslide"
    }
   },
   "outputs": [
    {
     "data": {
      "image/png": "[encoded data removed]",
      "text/plain": [
       "<Figure size 432x288 with 1 Axes>"
      ]
     },
     "metadata": {
      "needs_background": "light"
     },
     "output_type": "display_data"
    }
   ],
   "source": [
    "from sklearn.linear_model import LinearRegression\n",
    "\n",
    "reg = LinearRegression()\n",
    "reg.fit(X_train.reshape(-1, 1), y_train)\n",
    "\n",
    "y_train_pred = reg.predict(X_train.reshape(-1, 1))\n",
    "\n",
    "plt.scatter(X_train, y_train)\n",
    "plt.plot(X_train, y_train_pred, color='red')\n",
    "plt.show()"
   ]
  },
  {
   "cell_type": "markdown",
   "metadata": {
    "slideshow": {
     "slide_type": "subslide"
    }
   },
   "source": [
    "This is a good example of high bias: as you can see, the results are not very good.\n",
    "\n",
    "Let's check the mean squared error on the train and test sets:"
   ]
  },
  {
   "cell_type": "code",
   "execution_count": 8,
   "metadata": {
    "ExecuteTime": {
     "end_time": "2019-07-23T14:45:08.970880Z",
     "start_time": "2019-07-23T14:45:08.959189Z"
    },
    "slideshow": {
     "slide_type": "fragment"
    }
   },
   "outputs": [
    {
     "name": "stdout",
     "output_type": "stream",
     "text": [
      "MSE on train: 1.4580509955479881\n",
      "MSE on test: 1.4109194023707592\n"
     ]
    }
   ],
   "source": [
    "from sklearn.metrics import mean_squared_error\n",
    "\n",
    "print('MSE on train:', mean_squared_error(y_train, y_train_pred))\n",
    "print('MSE on test:', mean_squared_error(y_test, reg.predict(X_test.reshape(-1, 1))))"
   ]
  },
  {
   "cell_type": "markdown",
   "metadata": {
    "slideshow": {
     "slide_type": "fragment"
    }
   },
   "source": [
    "As you can see, the Mean Squared Error (MSE) is the same on both sets, and pretty bad.\n",
    "\n",
    "Let's now try to add more features to reduce the bias."
   ]
  },
  {
   "cell_type": "markdown",
   "metadata": {
    "slideshow": {
     "slide_type": "subslide"
    }
   },
   "source": [
    "## III.3 High variance"
   ]
  },
  {
   "cell_type": "markdown",
   "metadata": {
    "slideshow": {
     "slide_type": "fragment"
    }
   },
   "source": [
    "Instead of trying to fit only on X, we will fit on X, X$^2$, X$^3$, X$^4$, X$^5$, X$^6$, X$^7$, X$^8$, X$^9$ and see how it works!"
   ]
  },
  {
   "cell_type": "code",
   "execution_count": 24,
   "metadata": {
    "ExecuteTime": {
     "end_time": "2019-07-23T15:34:13.044452Z",
     "start_time": "2019-07-23T15:34:12.890233Z"
    },
    "slideshow": {
     "slide_type": "subslide"
    }
   },
   "outputs": [
    {
     "data": {
      "image/png": "[encoded data removed]",
      "text/plain": [
       "<Figure size 432x288 with 1 Axes>"
      ]
     },
     "metadata": {
      "needs_background": "light"
     },
     "output_type": "display_data"
    }
   ],
   "source": [
    "X_train, X_test, y_train, y_test = train_test_split(X, y, test_size=0.3, random_state=0)\n",
    "\n",
    "def powerize(X_train):\n",
    "    return np.transpose(np.array([X_train, np.power(X_train, 2), np.power(X_train, 3), \n",
    "                        np.power(X_train, 4), np.power(X_train, 5), np.power(X_train, 6),\n",
    "                        np.power(X_train, 7), np.power(X_train, 8), np.power(X_train, 9)]))\n",
    "\n",
    "reg.fit(powerize(X_train), y_train)\n",
    "\n",
    "y_train_pred = reg.predict(powerize(np.sort(X_train)))\n",
    "\n",
    "plt.scatter(X_train, y_train)\n",
    "plt.plot(np.sort(X_train), y_train_pred, color='red')\n",
    "plt.show()"
   ]
  },
  {
   "cell_type": "markdown",
   "metadata": {
    "slideshow": {
     "slide_type": "subslide"
    }
   },
   "source": [
    "Okay it seems better this way, at least there is no bias! Let's check how it performs on the test set:"
   ]
  },
  {
   "cell_type": "code",
   "execution_count": 25,
   "metadata": {
    "ExecuteTime": {
     "end_time": "2019-07-23T15:34:21.390741Z",
     "start_time": "2019-07-23T15:34:21.382439Z"
    },
    "scrolled": true,
    "slideshow": {
     "slide_type": "fragment"
    }
   },
   "outputs": [
    {
     "name": "stdout",
     "output_type": "stream",
     "text": [
      "MSE on train: 0.15614406160150252\n",
      "MSE on test: 0.2313511920283571\n"
     ]
    }
   ],
   "source": [
    "print('MSE on train:', mean_squared_error(y_train, reg.predict(powerize(X_train))))\n",
    "print('MSE on test:', mean_squared_error(y_test, reg.predict(powerize(X_test))))"
   ]
  },
  {
   "cell_type": "markdown",
   "metadata": {
    "slideshow": {
     "slide_type": "fragment"
    }
   },
   "source": [
    "Okay we reached a huge improvement compared to previously on both train and test, meaning we were clearly having a high bias.\n",
    "\n",
    "Still, the MSE is close to 50 % higher on our test set, we should improve that. For the sake of the exercise, we will try to add regularization (although here, we could clearly reduce the number of features...).\n",
    "\n",
    "Let's try the Ridge and LASSO regressions!"
   ]
  },
  {
   "cell_type": "code",
   "execution_count": 26,
   "metadata": {
    "ExecuteTime": {
     "end_time": "2019-07-23T15:34:55.199819Z",
     "start_time": "2019-07-23T15:34:55.038180Z"
    },
    "scrolled": true,
    "slideshow": {
     "slide_type": "subslide"
    }
   },
   "outputs": [
    {
     "data": {
      "image/png": "[encoded data removed]",
      "text/plain": [
       "<Figure size 432x288 with 1 Axes>"
      ]
     },
     "metadata": {
      "needs_background": "light"
     },
     "output_type": "display_data"
    }
   ],
   "source": [
    "from sklearn.linear_model import Ridge\n",
    "\n",
    "# Let's try first with a very large regularization and see what it does\n",
    "ridge = Ridge(alpha=1000000000)\n",
    "\n",
    "ridge.fit(powerize(X_train), y_train)\n",
    "\n",
    "y_train_pred = ridge.predict(powerize(np.sort(X_train)))\n",
    "\n",
    "plt.scatter(X_train, y_train)\n",
    "plt.plot(np.sort(X_train), y_train_pred, color='red')\n",
    "plt.show()"
   ]
  },
  {
   "cell_type": "markdown",
   "metadata": {
    "slideshow": {
     "slide_type": "fragment"
    }
   },
   "source": [
    "Okay, too much regularization: we actually added bias here by regularization!\n",
    "Let's try a much lower value now:"
   ]
  },
  {
   "cell_type": "code",
   "execution_count": 12,
   "metadata": {
    "ExecuteTime": {
     "end_time": "2019-07-23T14:46:15.245081Z",
     "start_time": "2019-07-23T14:46:15.087105Z"
    },
    "slideshow": {
     "slide_type": "subslide"
    }
   },
   "outputs": [
    {
     "data": {
      "image/png": "[encoded data removed]",
      "text/plain": [
       "<Figure size 432x288 with 1 Axes>"
      ]
     },
     "metadata": {
      "needs_background": "light"
     },
     "output_type": "display_data"
    }
   ],
   "source": [
    "# Let's try with a much lower regularization and see what it does\n",
    "ridge = Ridge(alpha=0.5)\n",
    "\n",
    "ridge.fit(powerize(X_train), y_train)\n",
    "\n",
    "y_train_pred = ridge.predict(powerize(np.sort(X_train)))\n",
    "\n",
    "plt.scatter(X_train, y_train)\n",
    "plt.plot(np.sort(X_train), y_train_pred, color='red')\n",
    "plt.show()"
   ]
  },
  {
   "cell_type": "markdown",
   "metadata": {
    "slideshow": {
     "slide_type": "subslide"
    }
   },
   "source": [
    "That looks better, let's see if it helped decreasing the MSE of the test dataset:"
   ]
  },
  {
   "cell_type": "code",
   "execution_count": 14,
   "metadata": {
    "ExecuteTime": {
     "end_time": "2019-07-23T14:46:27.506533Z",
     "start_time": "2019-07-23T14:46:27.494920Z"
    },
    "slideshow": {
     "slide_type": "fragment"
    }
   },
   "outputs": [
    {
     "name": "stdout",
     "output_type": "stream",
     "text": [
      "MSE on train: 0.19469757190148054\n",
      "MSE on test: 0.18587919175346215\n"
     ]
    }
   ],
   "source": [
    "print('MSE on train:', mean_squared_error(y_train, ridge.predict(powerize(X_train))))\n",
    "print('MSE on test:', mean_squared_error(y_test, ridge.predict(powerize(X_test))))"
   ]
  },
  {
   "cell_type": "markdown",
   "metadata": {
    "slideshow": {
     "slide_type": "fragment"
    }
   },
   "source": [
    "Quite an improvement, right?\n",
    "\n",
    "Just out of curiosity, let's try now to do the same with LASSO regularization:"
   ]
  },
  {
   "cell_type": "code",
   "execution_count": 27,
   "metadata": {
    "ExecuteTime": {
     "end_time": "2019-07-23T15:35:53.525208Z",
     "start_time": "2019-07-23T15:35:53.354015Z"
    },
    "slideshow": {
     "slide_type": "subslide"
    }
   },
   "outputs": [
    {
     "data": {
      "image/png": "[encoded data removed]",
      "text/plain": [
       "<Figure size 432x288 with 1 Axes>"
      ]
     },
     "metadata": {
      "needs_background": "light"
     },
     "output_type": "display_data"
    }
   ],
   "source": [
    "from sklearn.linear_model import Lasso\n",
    "\n",
    "lasso = Lasso(alpha=0.5)\n",
    "\n",
    "lasso.fit(powerize(X_train), y_train)\n",
    "\n",
    "y_train_pred = lasso.predict(powerize(np.sort(X_train)))\n",
    "\n",
    "plt.scatter(X_train, y_train)\n",
    "plt.plot(np.sort(X_train), y_train_pred, color='red')\n",
    "plt.show()"
   ]
  },
  {
   "cell_type": "code",
   "execution_count": 28,
   "metadata": {
    "ExecuteTime": {
     "end_time": "2019-07-23T15:35:55.389863Z",
     "start_time": "2019-07-23T15:35:55.380972Z"
    },
    "slideshow": {
     "slide_type": "fragment"
    }
   },
   "outputs": [
    {
     "name": "stdout",
     "output_type": "stream",
     "text": [
      "MSE on train: 0.3285433988517019\n",
      "MSE on test: 0.20624203217927584\n"
     ]
    }
   ],
   "source": [
    "print('MSE on train:', mean_squared_error(y_train, lasso.predict(powerize(X_train))))\n",
    "print('MSE on test:', mean_squared_error(y_test, lasso.predict(powerize(X_test))))"
   ]
  },
  {
   "cell_type": "markdown",
   "metadata": {
    "slideshow": {
     "slide_type": "fragment"
    }
   },
   "source": [
    "Well, not as good as the Ridge regression. But actually, to do it right, we should have conducted an hyperparamer optimization using a `GridSearchCV` or `RandomizedSearchCV` on more than one hyperparameter."
   ]
  },
  {
   "cell_type": "markdown",
   "metadata": {},
   "source": [
    "---\n",
    "In a nutshell : \n",
    "\n",
    "<p align=\"center\">\n",
    "<img src=\"https://drive.google.com/uc?export=view&id=1fxb48WwVmZsBEr-MEJRUF0YdZvK-o5zA\">\n",
    "</p>"
   ]
  },
  {
   "cell_type": "markdown",
   "metadata": {},
   "source": [
    "Or, in a more visual way :\n",
    "\n",
    "<p align=\"center\">\n",
    "<img src=\"https://drive.google.com/uc?export=view&id=118s1aYXhuptWpf1KPyOxmR9PZLv_6TNr\" width=\"600\">\n",
    "</p>"
   ]
  },
  {
   "cell_type": "code",
   "execution_count": null,
   "metadata": {},
   "outputs": [],
   "source": []
  },
  {
   "cell_type": "code",
   "execution_count": null,
   "metadata": {},
   "outputs": [],
   "source": []
  },
  {
   "cell_type": "code",
   "execution_count": null,
   "metadata": {},
   "outputs": [],
   "source": []
  },
  {
   "cell_type": "markdown",
   "metadata": {
    "slideshow": {
     "slide_type": "-"
    }
   },
   "source": [
    "## Regression 🏡"
   ]
  },
  {
   "cell_type": "markdown",
   "metadata": {
    "slideshow": {
     "slide_type": "fragment"
    }
   },
   "source": [
    "Today we will focus on **Regression** problems - which means **Supervised** (with labeled data) and for **continuous data** (as opposed to Classification problems which work with labeled and discrete data)"
   ]
  },
  {
   "cell_type": "markdown",
   "metadata": {
    "slideshow": {
     "slide_type": "-"
    }
   },
   "source": [
    "---"
   ]
  },
  {
   "cell_type": "markdown",
   "metadata": {},
   "source": [
    "![](https://drive.google.com/uc?export=view&id=1WzJHRSddrqk-9yVtBqOXramV8BYhV9O7)"
   ]
  },
  {
   "cell_type": "markdown",
   "metadata": {
    "slideshow": {
     "slide_type": "-"
    }
   },
   "source": [
    "---"
   ]
  },
  {
   "cell_type": "markdown",
   "metadata": {
    "slideshow": {
     "slide_type": "slide"
    }
   },
   "source": [
    "# I. Intuition"
   ]
  },
  {
   "cell_type": "markdown",
   "metadata": {
    "slideshow": {
     "slide_type": "subslide"
    }
   },
   "source": [
    "## I.1. Regression problems apply to *continuous* data"
   ]
  },
  {
   "cell_type": "markdown",
   "metadata": {
    "slideshow": {
     "slide_type": "fragment"
    }
   },
   "source": [
    "Regression problems apply to **continuous** data.\n",
    "\n",
    "Let's do a quiz and explore different problems to understand what we mean by **continuous** data.\n",
    "\n",
    "> 🏆 **Quiz**: \n",
    "> 1. In ML, we always have input variable(s) and output variable(s). Does **continuous** refers to the input or the output?\n",
    "> 2. If we want to predict the **age** of somebody, is the data **continuous** or **discrete**?\n",
    "> 3. If we want to predict the **weather** tomorrow, is the data **continuous** or **discrete**?\n",
    "> 4. If we want to predict the **phone number** of someone, is the data **continuous** or **discrete**?"
   ]
  },
  {
   "cell_type": "markdown",
   "metadata": {
    "slideshow": {
     "slide_type": "subslide"
    }
   },
   "source": [
    "## I.2. Linear Regression"
   ]
  },
  {
   "cell_type": "markdown",
   "metadata": {
    "slideshow": {
     "slide_type": "fragment"
    }
   },
   "source": [
    "Suppose we draw some points representing the price of a house along the Y-axis, and the surface of that house along the X-axis."
   ]
  },
  {
   "cell_type": "markdown",
   "metadata": {},
   "source": [
    "![](https://drive.google.com/uc?export=view&id=1CacbYF-z8em8owaXGtr1mv_FYS2pP86R)"
   ]
  },
  {
   "cell_type": "markdown",
   "metadata": {
    "slideshow": {
     "slide_type": "fragment"
    }
   },
   "source": [
    "> 🏆 **Quiz**:\n",
    "> - What would be the \"best line\" to represent this data?\n",
    "> - What would be the equation representing this line?"
   ]
  },
  {
   "cell_type": "markdown",
   "metadata": {
    "slideshow": {
     "slide_type": "subslide"
    }
   },
   "source": [
    "House Price = 10000 * Surface + 5000\n",
    "\n",
    "- `House Price` is the **target**\n",
    "- `Surface` is the **input**\n",
    "- `10000` is the **slope**\n",
    "- `5000` is the **intercept**\n",
    "\n",
    "The **slope** and the **intercept** are called the **parameters** of our model. They are the values that the model **learns** during training (iteratively)."
   ]
  },
  {
   "cell_type": "markdown",
   "metadata": {
    "slideshow": {
     "slide_type": "subslide"
    }
   },
   "source": [
    "Or, if you want to write it mathematically:\n",
    "$$y = \\theta_1 \\times x + \\theta_0$$\n",
    "\n",
    "\n",
    "<p align=\"center\">\n",
    "  <img src=\"https://drive.google.com/uc?export=view&id=1Fvj1gx40E0M4mJOuC_SGFa427DCrtnL9\">\n",
    "</p>"
   ]
  },
  {
   "cell_type": "markdown",
   "metadata": {
    "slideshow": {
     "slide_type": "subslide"
    }
   },
   "source": [
    "## I.3. Now, it's time for predictions! 🔮"
   ]
  },
  {
   "cell_type": "markdown",
   "metadata": {
    "slideshow": {
     "slide_type": "fragment"
    }
   },
   "source": [
    "Imagine we are a house agent, listing properties and we need to price a new house that someone wants to sell.\n",
    "\n",
    "Based on the previous \"best line\" drawed, how much would we price a flat of 50m2? "
   ]
  },
  {
   "cell_type": "markdown",
   "metadata": {
    "slideshow": {
     "slide_type": "slide"
    }
   },
   "source": [
    "Congratulations! You just discovered **Linear Regression**, a super powerful yet simple algorithm for Regression models. Let's now implement it in `scikit-learn`."
   ]
  },
  {
   "cell_type": "markdown",
   "metadata": {
    "slideshow": {
     "slide_type": "-"
    }
   },
   "source": [
    "---"
   ]
  },
  {
   "cell_type": "markdown",
   "metadata": {
    "slideshow": {
     "slide_type": "slide"
    }
   },
   "source": [
    "# II. Easy to implement with [`scikit-learn`](https://scikit-learn.org)"
   ]
  },
  {
   "cell_type": "markdown",
   "metadata": {
    "slideshow": {
     "slide_type": "slide"
    }
   },
   "source": [
    "Again, `scikit-learn` makes it very easy to create and train a Regression model in Python.\n",
    "\n",
    "Lucky us! `scikit-learn` comes with a standard dataset containing real estate data (house characteristics and prices in Boston). 🏡\n",
    "\n",
    "Let's load this dataset and visualize it on a 2D chart."
   ]
  },
  {
   "cell_type": "code",
   "execution_count": 1,
   "metadata": {
    "ExecuteTime": {
     "end_time": "2019-07-14T10:47:21.728510Z",
     "start_time": "2019-07-14T10:47:21.717065Z"
    },
    "slideshow": {
     "slide_type": "fragment"
    }
   },
   "outputs": [],
   "source": [
    "# We load Boston house prices\n",
    "# Reference https://scikit-learn.org/stable/modules/generated/sklearn.datasets.load_boston.html\n",
    "from sklearn.datasets import load_boston\n",
    "X, y = load_boston(return_X_y=True)\n",
    "\n",
    "# We keep only the feature at index 5 (corresponds to the \"Average Number of Rooms\")\n",
    "# for visualisation purposes\n",
    "i = 5\n",
    "X = X[:,i:i+1]"
   ]
  },
  {
   "cell_type": "code",
   "execution_count": 4,
   "metadata": {
    "ExecuteTime": {
     "end_time": "2019-07-14T10:47:23.068494Z",
     "start_time": "2019-07-14T10:47:23.064111Z"
    },
    "scrolled": true,
    "slideshow": {
     "slide_type": "fragment"
    }
   },
   "outputs": [
    {
     "name": "stdout",
     "output_type": "stream",
     "text": [
      "X.shape=(506, 1)\n",
      "y.shape=(506,)\n"
     ]
    }
   ],
   "source": [
    "print(\"X.shape={}\".format(X.shape))\n",
    "print(\"y.shape={}\".format(y.shape))"
   ]
  },
  {
   "cell_type": "code",
   "execution_count": 5,
   "metadata": {
    "ExecuteTime": {
     "end_time": "2019-07-14T10:47:35.518937Z",
     "start_time": "2019-07-14T10:47:35.317012Z"
    },
    "slideshow": {
     "slide_type": "subslide"
    }
   },
   "outputs": [
    {
     "data": {
      "text/plain": [
       "<Figure size 1000x800 with 1 Axes>"
      ]
     },
     "metadata": {},
     "output_type": "display_data"
    }
   ],
   "source": [
    "from matplotlib import pyplot as plt\n",
    "\n",
    "# Create figure to draw chart\n",
    "plt.figure(figsize=(10, 8))\n",
    "\n",
    "# Plot the training points\n",
    "plt.scatter(X, y)\n",
    "\n",
    "# Format chart\n",
    "plt.xlabel('Average Number of Rooms')\n",
    "plt.ylabel('Price')\n",
    "plt.show()"
   ]
  },
  {
   "cell_type": "code",
   "execution_count": 6,
   "metadata": {
    "ExecuteTime": {
     "end_time": "2019-07-14T10:47:56.833851Z",
     "start_time": "2019-07-14T10:47:56.618125Z"
    },
    "slideshow": {
     "slide_type": "subslide"
    }
   },
   "outputs": [],
   "source": [
    "from sklearn.linear_model import LinearRegression \n",
    "\n",
    "# Create linear regression object\n",
    "lr = LinearRegression()"
   ]
  },
  {
   "cell_type": "code",
   "execution_count": 7,
   "metadata": {
    "ExecuteTime": {
     "end_time": "2019-07-14T10:47:57.247168Z",
     "start_time": "2019-07-14T10:47:57.219324Z"
    },
    "slideshow": {
     "slide_type": "fragment"
    }
   },
   "outputs": [
    {
     "data": {
      "text/plain": [
       "LinearRegression(copy_X=True, fit_intercept=True, n_jobs=None, normalize=False)"
      ]
     },
     "execution_count": 7,
     "metadata": {},
     "output_type": "execute_result"
    }
   ],
   "source": [
    "# Train the model using only the first feature of X (Surface)\n",
    "lr.fit(X, y)"
   ]
  },
  {
   "cell_type": "code",
   "execution_count": 8,
   "metadata": {
    "ExecuteTime": {
     "end_time": "2019-07-14T10:48:05.608264Z",
     "start_time": "2019-07-14T10:48:05.600293Z"
    },
    "slideshow": {
     "slide_type": "fragment"
    }
   },
   "outputs": [
    {
     "name": "stdout",
     "output_type": "stream",
     "text": [
      "Coefficients:  [9.10210898]\n",
      "Intercept:  -34.67062077643857\n"
     ]
    }
   ],
   "source": [
    "# Make predictions based on train model\n",
    "y_pred = lr.predict(X)\n",
    "\n",
    "# Display coefficient and intercept\n",
    "print('Coefficients: ', lr.coef_) # See how coefficients are in a list, as there can be multiple values for them\n",
    "print('Intercept: ', lr.intercept_) # Intercept is a single value (always)"
   ]
  },
  {
   "cell_type": "markdown",
   "metadata": {
    "slideshow": {
     "slide_type": "subslide"
    }
   },
   "source": [
    "Let's now plot both the points used for training and the linear regression"
   ]
  },
  {
   "cell_type": "code",
   "execution_count": 9,
   "metadata": {
    "ExecuteTime": {
     "end_time": "2019-07-14T10:49:05.098695Z",
     "start_time": "2019-07-14T10:49:04.900847Z"
    },
    "slideshow": {
     "slide_type": "fragment"
    }
   },
   "outputs": [
    {
     "data": {
      "image/png": "[encoded data removed]",
      "text/plain": [
       "<Figure size 720x576 with 1 Axes>"
      ]
     },
     "metadata": {
      "needs_background": "light"
     },
     "output_type": "display_data"
    }
   ],
   "source": [
    "# Create figure to draw chart\n",
    "plt.figure(2, figsize=(10, 8))\n",
    "\n",
    "# Plot the training points\n",
    "plt.scatter(X[:, 0], y)\n",
    "plt.plot(X[:, 0], y_pred, color='red', linewidth=3)\n",
    "\n",
    "plt.xlabel('Average Number of Rooms')\n",
    "plt.ylabel('Price')\n",
    "\n",
    "plt.show()"
   ]
  },
  {
   "cell_type": "code",
   "execution_count": 10,
   "metadata": {},
   "outputs": [
    {
     "name": "stdout",
     "output_type": "stream",
     "text": [
      "43.60055177116956\n"
     ]
    }
   ],
   "source": [
    "#We import from scikit learn the mean_squared_error\n",
    "from sklearn.metrics import mean_squared_error\n",
    "#we use it to measure the mean squared error betweenthe target and our predictions\n",
    "mse = mean_squared_error(y, y_pred)\n",
    "#The smaller the model is, the better the model is\n",
    "print(mse)"
   ]
  },
  {
   "cell_type": "markdown",
   "metadata": {
    "slideshow": {
     "slide_type": "-"
    }
   },
   "source": [
    "---"
   ]
  },
  {
   "cell_type": "code",
   "execution_count": null,
   "metadata": {},
   "outputs": [],
   "source": []
  },
  {
   "cell_type": "code",
   "execution_count": null,
   "metadata": {},
   "outputs": [],
   "source": []
  },
  {
   "cell_type": "code",
   "execution_count": null,
   "metadata": {},
   "outputs": [],
   "source": []
  }
 ],
 "metadata": {
  "kernelspec": {
   "display_name": "Python 3",
   "language": "python",
   "name": "python3"
  },
  "language_info": {
   "codemirror_mode": {
    "name": "ipython",
    "version": 3
   },
   "file_extension": ".py",
   "mimetype": "text/x-python",
   "name": "python",
   "nbconvert_exporter": "python",
   "pygments_lexer": "ipython3",
   "version": "3.7.4"
  }
 },
 "nbformat": 4,
 "nbformat_minor": 2
}
