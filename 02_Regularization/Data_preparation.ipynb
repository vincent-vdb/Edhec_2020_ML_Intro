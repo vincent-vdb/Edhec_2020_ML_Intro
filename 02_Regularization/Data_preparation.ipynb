{
 "cells": [
  {
   "cell_type": "markdown",
   "metadata": {},
   "source": [
    "- Importance of data in any model\n",
    "- Data cleaning: NA, duplicates, outliers\n",
    "- Types of data: quantitative and qualitative, continuous and discrete, structured and unstructured...\n",
    "- Preparation of quantitative: MinMax, standard, centering...\n",
    "- Preparation of qualitative: one hot encoding, hashing..."
   ]
  },
  {
   "cell_type": "markdown",
   "metadata": {
    "slideshow": {
     "slide_type": "-"
    }
   },
   "source": [
    "# Data Preparation "
   ]
  },
  {
   "cell_type": "markdown",
   "metadata": {},
   "source": [
    "___"
   ]
  },
  {
   "cell_type": "markdown",
   "metadata": {},
   "source": [
    "## The importance of data in machine learning"
   ]
  },
  {
   "cell_type": "markdown",
   "metadata": {},
   "source": [
    "A good predictive power should come first from the data, not the model"
   ]
  },
  {
   "cell_type": "markdown",
   "metadata": {},
   "source": [
    "___"
   ]
  },
  {
   "cell_type": "markdown",
   "metadata": {
    "slideshow": {
     "slide_type": "slide"
    }
   },
   "source": [
    "## Data Cleaning"
   ]
  },
  {
   "cell_type": "markdown",
   "metadata": {},
   "source": [
    "Let's work again with our now beloved Titanic dataset 🚢"
   ]
  },
  {
   "cell_type": "code",
   "execution_count": 1,
   "metadata": {
    "scrolled": true
   },
   "outputs": [
    {
     "name": "stderr",
     "output_type": "stream",
     "text": [
      "\n",
      "Attaching package: ‘dplyr’\n",
      "\n",
      "\n",
      "The following objects are masked from ‘package:stats’:\n",
      "\n",
      "    filter, lag\n",
      "\n",
      "\n",
      "The following objects are masked from ‘package:base’:\n",
      "\n",
      "    intersect, setdiff, setequal, union\n",
      "\n",
      "\n",
      "randomForest 4.6-14\n",
      "\n",
      "Type rfNews() to see new features/changes/bug fixes.\n",
      "\n",
      "\n",
      "Attaching package: ‘randomForest’\n",
      "\n",
      "\n",
      "The following object is masked from ‘package:dplyr’:\n",
      "\n",
      "    combine\n",
      "\n",
      "\n",
      "The following object is masked from ‘package:ggplot2’:\n",
      "\n",
      "    margin\n",
      "\n",
      "\n"
     ]
    }
   ],
   "source": [
    "library(ggplot2)\n",
    "library(dplyr)\n",
    "library(GGally)\n",
    "library(rpart)\n",
    "library(rpart.plot)\n",
    "library(randomForest)"
   ]
  },
  {
   "cell_type": "code",
   "execution_count": 2,
   "metadata": {},
   "outputs": [
    {
     "data": {
      "text/html": [
       "<table>\n",
       "<caption>A data.frame: 891 × 12</caption>\n",
       "<thead>\n",
       "\t<tr><th scope=col>PassengerId</th><th scope=col>Survived</th><th scope=col>Pclass</th><th scope=col>Name</th><th scope=col>Sex</th><th scope=col>Age</th><th scope=col>SibSp</th><th scope=col>Parch</th><th scope=col>Ticket</th><th scope=col>Fare</th><th scope=col>Cabin</th><th scope=col>Embarked</th></tr>\n",
       "\t<tr><th scope=col>&lt;int&gt;</th><th scope=col>&lt;int&gt;</th><th scope=col>&lt;int&gt;</th><th scope=col>&lt;chr&gt;</th><th scope=col>&lt;chr&gt;</th><th scope=col>&lt;dbl&gt;</th><th scope=col>&lt;int&gt;</th><th scope=col>&lt;int&gt;</th><th scope=col>&lt;chr&gt;</th><th scope=col>&lt;dbl&gt;</th><th scope=col>&lt;chr&gt;</th><th scope=col>&lt;chr&gt;</th></tr>\n",
       "</thead>\n",
       "<tbody>\n",
       "\t<tr><td> 1</td><td>0</td><td>3</td><td>Braund, Mr. Owen Harris                                  </td><td>male  </td><td>22</td><td>1</td><td>0</td><td>A/5 21171       </td><td>  7.2500</td><td>           </td><td>S</td></tr>\n",
       "\t<tr><td> 2</td><td>1</td><td>1</td><td>Cumings, Mrs. John Bradley (Florence Briggs Thayer)      </td><td>female</td><td>38</td><td>1</td><td>0</td><td>PC 17599        </td><td> 71.2833</td><td>C85        </td><td>C</td></tr>\n",
       "\t<tr><td> 3</td><td>1</td><td>3</td><td>Heikkinen, Miss. Laina                                   </td><td>female</td><td>26</td><td>0</td><td>0</td><td>STON/O2. 3101282</td><td>  7.9250</td><td>           </td><td>S</td></tr>\n",
       "\t<tr><td> 4</td><td>1</td><td>1</td><td>Futrelle, Mrs. Jacques Heath (Lily May Peel)             </td><td>female</td><td>35</td><td>1</td><td>0</td><td>113803          </td><td> 53.1000</td><td>C123       </td><td>S</td></tr>\n",
       "\t<tr><td> 5</td><td>0</td><td>3</td><td>Allen, Mr. William Henry                                 </td><td>male  </td><td>35</td><td>0</td><td>0</td><td>373450          </td><td>  8.0500</td><td>           </td><td>S</td></tr>\n",
       "\t<tr><td> 6</td><td>0</td><td>3</td><td>Moran, Mr. James                                         </td><td>male  </td><td>NA</td><td>0</td><td>0</td><td>330877          </td><td>  8.4583</td><td>           </td><td>Q</td></tr>\n",
       "\t<tr><td> 7</td><td>0</td><td>1</td><td>McCarthy, Mr. Timothy J                                  </td><td>male  </td><td>54</td><td>0</td><td>0</td><td>17463           </td><td> 51.8625</td><td>E46        </td><td>S</td></tr>\n",
       "\t<tr><td> 8</td><td>0</td><td>3</td><td>Palsson, Master. Gosta Leonard                           </td><td>male  </td><td> 2</td><td>3</td><td>1</td><td>349909          </td><td> 21.0750</td><td>           </td><td>S</td></tr>\n",
       "\t<tr><td> 9</td><td>1</td><td>3</td><td>Johnson, Mrs. Oscar W (Elisabeth Vilhelmina Berg)        </td><td>female</td><td>27</td><td>0</td><td>2</td><td>347742          </td><td> 11.1333</td><td>           </td><td>S</td></tr>\n",
       "\t<tr><td>10</td><td>1</td><td>2</td><td>Nasser, Mrs. Nicholas (Adele Achem)                      </td><td>female</td><td>14</td><td>1</td><td>0</td><td>237736          </td><td> 30.0708</td><td>           </td><td>C</td></tr>\n",
       "\t<tr><td>11</td><td>1</td><td>3</td><td>Sandstrom, Miss. Marguerite Rut                          </td><td>female</td><td> 4</td><td>1</td><td>1</td><td>PP 9549         </td><td> 16.7000</td><td>G6         </td><td>S</td></tr>\n",
       "\t<tr><td>12</td><td>1</td><td>1</td><td>Bonnell, Miss. Elizabeth                                 </td><td>female</td><td>58</td><td>0</td><td>0</td><td>113783          </td><td> 26.5500</td><td>C103       </td><td>S</td></tr>\n",
       "\t<tr><td>13</td><td>0</td><td>3</td><td>Saundercock, Mr. William Henry                           </td><td>male  </td><td>20</td><td>0</td><td>0</td><td>A/5. 2151       </td><td>  8.0500</td><td>           </td><td>S</td></tr>\n",
       "\t<tr><td>14</td><td>0</td><td>3</td><td>Andersson, Mr. Anders Johan                              </td><td>male  </td><td>39</td><td>1</td><td>5</td><td>347082          </td><td> 31.2750</td><td>           </td><td>S</td></tr>\n",
       "\t<tr><td>15</td><td>0</td><td>3</td><td>Vestrom, Miss. Hulda Amanda Adolfina                     </td><td>female</td><td>14</td><td>0</td><td>0</td><td>350406          </td><td>  7.8542</td><td>           </td><td>S</td></tr>\n",
       "\t<tr><td>16</td><td>1</td><td>2</td><td>Hewlett, Mrs. (Mary D Kingcome)                          </td><td>female</td><td>55</td><td>0</td><td>0</td><td>248706          </td><td> 16.0000</td><td>           </td><td>S</td></tr>\n",
       "\t<tr><td>17</td><td>0</td><td>3</td><td>Rice, Master. Eugene                                     </td><td>male  </td><td> 2</td><td>4</td><td>1</td><td>382652          </td><td> 29.1250</td><td>           </td><td>Q</td></tr>\n",
       "\t<tr><td>18</td><td>1</td><td>2</td><td>Williams, Mr. Charles Eugene                             </td><td>male  </td><td>NA</td><td>0</td><td>0</td><td>244373          </td><td> 13.0000</td><td>           </td><td>S</td></tr>\n",
       "\t<tr><td>19</td><td>0</td><td>3</td><td>Vander Planke, Mrs. Julius (Emelia Maria Vandemoortele)  </td><td>female</td><td>31</td><td>1</td><td>0</td><td>345763          </td><td> 18.0000</td><td>           </td><td>S</td></tr>\n",
       "\t<tr><td>20</td><td>1</td><td>3</td><td>Masselmani, Mrs. Fatima                                  </td><td>female</td><td>NA</td><td>0</td><td>0</td><td>2649            </td><td>  7.2250</td><td>           </td><td>C</td></tr>\n",
       "\t<tr><td>21</td><td>0</td><td>2</td><td>Fynney, Mr. Joseph J                                     </td><td>male  </td><td>35</td><td>0</td><td>0</td><td>239865          </td><td> 26.0000</td><td>           </td><td>S</td></tr>\n",
       "\t<tr><td>22</td><td>1</td><td>2</td><td>Beesley, Mr. Lawrence                                    </td><td>male  </td><td>34</td><td>0</td><td>0</td><td>248698          </td><td> 13.0000</td><td>D56        </td><td>S</td></tr>\n",
       "\t<tr><td>23</td><td>1</td><td>3</td><td>McGowan, Miss. Anna \"Annie\"                              </td><td>female</td><td>15</td><td>0</td><td>0</td><td>330923          </td><td>  8.0292</td><td>           </td><td>Q</td></tr>\n",
       "\t<tr><td>24</td><td>1</td><td>1</td><td>Sloper, Mr. William Thompson                             </td><td>male  </td><td>28</td><td>0</td><td>0</td><td>113788          </td><td> 35.5000</td><td>A6         </td><td>S</td></tr>\n",
       "\t<tr><td>25</td><td>0</td><td>3</td><td>Palsson, Miss. Torborg Danira                            </td><td>female</td><td> 8</td><td>3</td><td>1</td><td>349909          </td><td> 21.0750</td><td>           </td><td>S</td></tr>\n",
       "\t<tr><td>26</td><td>1</td><td>3</td><td>Asplund, Mrs. Carl Oscar (Selma Augusta Emilia Johansson)</td><td>female</td><td>38</td><td>1</td><td>5</td><td>347077          </td><td> 31.3875</td><td>           </td><td>S</td></tr>\n",
       "\t<tr><td>27</td><td>0</td><td>3</td><td>Emir, Mr. Farred Chehab                                  </td><td>male  </td><td>NA</td><td>0</td><td>0</td><td>2631            </td><td>  7.2250</td><td>           </td><td>C</td></tr>\n",
       "\t<tr><td>28</td><td>0</td><td>1</td><td>Fortune, Mr. Charles Alexander                           </td><td>male  </td><td>19</td><td>3</td><td>2</td><td>19950           </td><td>263.0000</td><td>C23 C25 C27</td><td>S</td></tr>\n",
       "\t<tr><td>29</td><td>1</td><td>3</td><td>O'Dwyer, Miss. Ellen \"Nellie\"                            </td><td>female</td><td>NA</td><td>0</td><td>0</td><td>330959          </td><td>  7.8792</td><td>           </td><td>Q</td></tr>\n",
       "\t<tr><td>30</td><td>0</td><td>3</td><td>Todoroff, Mr. Lalio                                      </td><td>male  </td><td>NA</td><td>0</td><td>0</td><td>349216          </td><td>  7.8958</td><td>           </td><td>S</td></tr>\n",
       "\t<tr><td>⋮</td><td>⋮</td><td>⋮</td><td>⋮</td><td>⋮</td><td>⋮</td><td>⋮</td><td>⋮</td><td>⋮</td><td>⋮</td><td>⋮</td><td>⋮</td></tr>\n",
       "\t<tr><td>862</td><td>0</td><td>2</td><td>Giles, Mr. Frederick Edward                        </td><td>male  </td><td>21</td><td>1</td><td>0</td><td>28134           </td><td>11.5000</td><td>           </td><td>S</td></tr>\n",
       "\t<tr><td>863</td><td>1</td><td>1</td><td>Swift, Mrs. Frederick Joel (Margaret Welles Barron)</td><td>female</td><td>48</td><td>0</td><td>0</td><td>17466           </td><td>25.9292</td><td>D17        </td><td>S</td></tr>\n",
       "\t<tr><td>864</td><td>0</td><td>3</td><td>Sage, Miss. Dorothy Edith \"Dolly\"                  </td><td>female</td><td>NA</td><td>8</td><td>2</td><td>CA. 2343        </td><td>69.5500</td><td>           </td><td>S</td></tr>\n",
       "\t<tr><td>865</td><td>0</td><td>2</td><td>Gill, Mr. John William                             </td><td>male  </td><td>24</td><td>0</td><td>0</td><td>233866          </td><td>13.0000</td><td>           </td><td>S</td></tr>\n",
       "\t<tr><td>866</td><td>1</td><td>2</td><td>Bystrom, Mrs. (Karolina)                           </td><td>female</td><td>42</td><td>0</td><td>0</td><td>236852          </td><td>13.0000</td><td>           </td><td>S</td></tr>\n",
       "\t<tr><td>867</td><td>1</td><td>2</td><td>Duran y More, Miss. Asuncion                       </td><td>female</td><td>27</td><td>1</td><td>0</td><td>SC/PARIS 2149   </td><td>13.8583</td><td>           </td><td>C</td></tr>\n",
       "\t<tr><td>868</td><td>0</td><td>1</td><td>Roebling, Mr. Washington Augustus II               </td><td>male  </td><td>31</td><td>0</td><td>0</td><td>PC 17590        </td><td>50.4958</td><td>A24        </td><td>S</td></tr>\n",
       "\t<tr><td>869</td><td>0</td><td>3</td><td>van Melkebeke, Mr. Philemon                        </td><td>male  </td><td>NA</td><td>0</td><td>0</td><td>345777          </td><td> 9.5000</td><td>           </td><td>S</td></tr>\n",
       "\t<tr><td>870</td><td>1</td><td>3</td><td>Johnson, Master. Harold Theodor                    </td><td>male  </td><td> 4</td><td>1</td><td>1</td><td>347742          </td><td>11.1333</td><td>           </td><td>S</td></tr>\n",
       "\t<tr><td>871</td><td>0</td><td>3</td><td>Balkic, Mr. Cerin                                  </td><td>male  </td><td>26</td><td>0</td><td>0</td><td>349248          </td><td> 7.8958</td><td>           </td><td>S</td></tr>\n",
       "\t<tr><td>872</td><td>1</td><td>1</td><td>Beckwith, Mrs. Richard Leonard (Sallie Monypeny)   </td><td>female</td><td>47</td><td>1</td><td>1</td><td>11751           </td><td>52.5542</td><td>D35        </td><td>S</td></tr>\n",
       "\t<tr><td>873</td><td>0</td><td>1</td><td>Carlsson, Mr. Frans Olof                           </td><td>male  </td><td>33</td><td>0</td><td>0</td><td>695             </td><td> 5.0000</td><td>B51 B53 B55</td><td>S</td></tr>\n",
       "\t<tr><td>874</td><td>0</td><td>3</td><td>Vander Cruyssen, Mr. Victor                        </td><td>male  </td><td>47</td><td>0</td><td>0</td><td>345765          </td><td> 9.0000</td><td>           </td><td>S</td></tr>\n",
       "\t<tr><td>875</td><td>1</td><td>2</td><td>Abelson, Mrs. Samuel (Hannah Wizosky)              </td><td>female</td><td>28</td><td>1</td><td>0</td><td>P/PP 3381       </td><td>24.0000</td><td>           </td><td>C</td></tr>\n",
       "\t<tr><td>876</td><td>1</td><td>3</td><td>Najib, Miss. Adele Kiamie \"Jane\"                   </td><td>female</td><td>15</td><td>0</td><td>0</td><td>2667            </td><td> 7.2250</td><td>           </td><td>C</td></tr>\n",
       "\t<tr><td>877</td><td>0</td><td>3</td><td>Gustafsson, Mr. Alfred Ossian                      </td><td>male  </td><td>20</td><td>0</td><td>0</td><td>7534            </td><td> 9.8458</td><td>           </td><td>S</td></tr>\n",
       "\t<tr><td>878</td><td>0</td><td>3</td><td>Petroff, Mr. Nedelio                               </td><td>male  </td><td>19</td><td>0</td><td>0</td><td>349212          </td><td> 7.8958</td><td>           </td><td>S</td></tr>\n",
       "\t<tr><td>879</td><td>0</td><td>3</td><td>Laleff, Mr. Kristo                                 </td><td>male  </td><td>NA</td><td>0</td><td>0</td><td>349217          </td><td> 7.8958</td><td>           </td><td>S</td></tr>\n",
       "\t<tr><td>880</td><td>1</td><td>1</td><td>Potter, Mrs. Thomas Jr (Lily Alexenia Wilson)      </td><td>female</td><td>56</td><td>0</td><td>1</td><td>11767           </td><td>83.1583</td><td>C50        </td><td>C</td></tr>\n",
       "\t<tr><td>881</td><td>1</td><td>2</td><td>Shelley, Mrs. William (Imanita Parrish Hall)       </td><td>female</td><td>25</td><td>0</td><td>1</td><td>230433          </td><td>26.0000</td><td>           </td><td>S</td></tr>\n",
       "\t<tr><td>882</td><td>0</td><td>3</td><td>Markun, Mr. Johann                                 </td><td>male  </td><td>33</td><td>0</td><td>0</td><td>349257          </td><td> 7.8958</td><td>           </td><td>S</td></tr>\n",
       "\t<tr><td>883</td><td>0</td><td>3</td><td>Dahlberg, Miss. Gerda Ulrika                       </td><td>female</td><td>22</td><td>0</td><td>0</td><td>7552            </td><td>10.5167</td><td>           </td><td>S</td></tr>\n",
       "\t<tr><td>884</td><td>0</td><td>2</td><td>Banfield, Mr. Frederick James                      </td><td>male  </td><td>28</td><td>0</td><td>0</td><td>C.A./SOTON 34068</td><td>10.5000</td><td>           </td><td>S</td></tr>\n",
       "\t<tr><td>885</td><td>0</td><td>3</td><td>Sutehall, Mr. Henry Jr                             </td><td>male  </td><td>25</td><td>0</td><td>0</td><td>SOTON/OQ 392076 </td><td> 7.0500</td><td>           </td><td>S</td></tr>\n",
       "\t<tr><td>886</td><td>0</td><td>3</td><td>Rice, Mrs. William (Margaret Norton)               </td><td>female</td><td>39</td><td>0</td><td>5</td><td>382652          </td><td>29.1250</td><td>           </td><td>Q</td></tr>\n",
       "\t<tr><td>887</td><td>0</td><td>2</td><td>Montvila, Rev. Juozas                              </td><td>male  </td><td>27</td><td>0</td><td>0</td><td>211536          </td><td>13.0000</td><td>           </td><td>S</td></tr>\n",
       "\t<tr><td>888</td><td>1</td><td>1</td><td>Graham, Miss. Margaret Edith                       </td><td>female</td><td>19</td><td>0</td><td>0</td><td>112053          </td><td>30.0000</td><td>B42        </td><td>S</td></tr>\n",
       "\t<tr><td>889</td><td>0</td><td>3</td><td>Johnston, Miss. Catherine Helen \"Carrie\"           </td><td>female</td><td>NA</td><td>1</td><td>2</td><td>W./C. 6607      </td><td>23.4500</td><td>           </td><td>S</td></tr>\n",
       "\t<tr><td>890</td><td>1</td><td>1</td><td>Behr, Mr. Karl Howell                              </td><td>male  </td><td>26</td><td>0</td><td>0</td><td>111369          </td><td>30.0000</td><td>C148       </td><td>C</td></tr>\n",
       "\t<tr><td>891</td><td>0</td><td>3</td><td>Dooley, Mr. Patrick                                </td><td>male  </td><td>32</td><td>0</td><td>0</td><td>370376          </td><td> 7.7500</td><td>           </td><td>Q</td></tr>\n",
       "</tbody>\n",
       "</table>\n"
      ],
      "text/latex": [
       "A data.frame: 891 × 12\n",
       "\\begin{tabular}{llllllllllll}\n",
       " PassengerId & Survived & Pclass & Name & Sex & Age & SibSp & Parch & Ticket & Fare & Cabin & Embarked\\\\\n",
       " <int> & <int> & <int> & <chr> & <chr> & <dbl> & <int> & <int> & <chr> & <dbl> & <chr> & <chr>\\\\\n",
       "\\hline\n",
       "\t  1 & 0 & 3 & Braund, Mr. Owen Harris                                   & male   & 22 & 1 & 0 & A/5 21171        &   7.2500 &             & S\\\\\n",
       "\t  2 & 1 & 1 & Cumings, Mrs. John Bradley (Florence Briggs Thayer)       & female & 38 & 1 & 0 & PC 17599         &  71.2833 & C85         & C\\\\\n",
       "\t  3 & 1 & 3 & Heikkinen, Miss. Laina                                    & female & 26 & 0 & 0 & STON/O2. 3101282 &   7.9250 &             & S\\\\\n",
       "\t  4 & 1 & 1 & Futrelle, Mrs. Jacques Heath (Lily May Peel)              & female & 35 & 1 & 0 & 113803           &  53.1000 & C123        & S\\\\\n",
       "\t  5 & 0 & 3 & Allen, Mr. William Henry                                  & male   & 35 & 0 & 0 & 373450           &   8.0500 &             & S\\\\\n",
       "\t  6 & 0 & 3 & Moran, Mr. James                                          & male   & NA & 0 & 0 & 330877           &   8.4583 &             & Q\\\\\n",
       "\t  7 & 0 & 1 & McCarthy, Mr. Timothy J                                   & male   & 54 & 0 & 0 & 17463            &  51.8625 & E46         & S\\\\\n",
       "\t  8 & 0 & 3 & Palsson, Master. Gosta Leonard                            & male   &  2 & 3 & 1 & 349909           &  21.0750 &             & S\\\\\n",
       "\t  9 & 1 & 3 & Johnson, Mrs. Oscar W (Elisabeth Vilhelmina Berg)         & female & 27 & 0 & 2 & 347742           &  11.1333 &             & S\\\\\n",
       "\t 10 & 1 & 2 & Nasser, Mrs. Nicholas (Adele Achem)                       & female & 14 & 1 & 0 & 237736           &  30.0708 &             & C\\\\\n",
       "\t 11 & 1 & 3 & Sandstrom, Miss. Marguerite Rut                           & female &  4 & 1 & 1 & PP 9549          &  16.7000 & G6          & S\\\\\n",
       "\t 12 & 1 & 1 & Bonnell, Miss. Elizabeth                                  & female & 58 & 0 & 0 & 113783           &  26.5500 & C103        & S\\\\\n",
       "\t 13 & 0 & 3 & Saundercock, Mr. William Henry                            & male   & 20 & 0 & 0 & A/5. 2151        &   8.0500 &             & S\\\\\n",
       "\t 14 & 0 & 3 & Andersson, Mr. Anders Johan                               & male   & 39 & 1 & 5 & 347082           &  31.2750 &             & S\\\\\n",
       "\t 15 & 0 & 3 & Vestrom, Miss. Hulda Amanda Adolfina                      & female & 14 & 0 & 0 & 350406           &   7.8542 &             & S\\\\\n",
       "\t 16 & 1 & 2 & Hewlett, Mrs. (Mary D Kingcome)                           & female & 55 & 0 & 0 & 248706           &  16.0000 &             & S\\\\\n",
       "\t 17 & 0 & 3 & Rice, Master. Eugene                                      & male   &  2 & 4 & 1 & 382652           &  29.1250 &             & Q\\\\\n",
       "\t 18 & 1 & 2 & Williams, Mr. Charles Eugene                              & male   & NA & 0 & 0 & 244373           &  13.0000 &             & S\\\\\n",
       "\t 19 & 0 & 3 & Vander Planke, Mrs. Julius (Emelia Maria Vandemoortele)   & female & 31 & 1 & 0 & 345763           &  18.0000 &             & S\\\\\n",
       "\t 20 & 1 & 3 & Masselmani, Mrs. Fatima                                   & female & NA & 0 & 0 & 2649             &   7.2250 &             & C\\\\\n",
       "\t 21 & 0 & 2 & Fynney, Mr. Joseph J                                      & male   & 35 & 0 & 0 & 239865           &  26.0000 &             & S\\\\\n",
       "\t 22 & 1 & 2 & Beesley, Mr. Lawrence                                     & male   & 34 & 0 & 0 & 248698           &  13.0000 & D56         & S\\\\\n",
       "\t 23 & 1 & 3 & McGowan, Miss. Anna \"Annie\"                               & female & 15 & 0 & 0 & 330923           &   8.0292 &             & Q\\\\\n",
       "\t 24 & 1 & 1 & Sloper, Mr. William Thompson                              & male   & 28 & 0 & 0 & 113788           &  35.5000 & A6          & S\\\\\n",
       "\t 25 & 0 & 3 & Palsson, Miss. Torborg Danira                             & female &  8 & 3 & 1 & 349909           &  21.0750 &             & S\\\\\n",
       "\t 26 & 1 & 3 & Asplund, Mrs. Carl Oscar (Selma Augusta Emilia Johansson) & female & 38 & 1 & 5 & 347077           &  31.3875 &             & S\\\\\n",
       "\t 27 & 0 & 3 & Emir, Mr. Farred Chehab                                   & male   & NA & 0 & 0 & 2631             &   7.2250 &             & C\\\\\n",
       "\t 28 & 0 & 1 & Fortune, Mr. Charles Alexander                            & male   & 19 & 3 & 2 & 19950            & 263.0000 & C23 C25 C27 & S\\\\\n",
       "\t 29 & 1 & 3 & O'Dwyer, Miss. Ellen \"Nellie\"                             & female & NA & 0 & 0 & 330959           &   7.8792 &             & Q\\\\\n",
       "\t 30 & 0 & 3 & Todoroff, Mr. Lalio                                       & male   & NA & 0 & 0 & 349216           &   7.8958 &             & S\\\\\n",
       "\t ⋮ & ⋮ & ⋮ & ⋮ & ⋮ & ⋮ & ⋮ & ⋮ & ⋮ & ⋮ & ⋮ & ⋮\\\\\n",
       "\t 862 & 0 & 2 & Giles, Mr. Frederick Edward                         & male   & 21 & 1 & 0 & 28134            & 11.5000 &             & S\\\\\n",
       "\t 863 & 1 & 1 & Swift, Mrs. Frederick Joel (Margaret Welles Barron) & female & 48 & 0 & 0 & 17466            & 25.9292 & D17         & S\\\\\n",
       "\t 864 & 0 & 3 & Sage, Miss. Dorothy Edith \"Dolly\"                   & female & NA & 8 & 2 & CA. 2343         & 69.5500 &             & S\\\\\n",
       "\t 865 & 0 & 2 & Gill, Mr. John William                              & male   & 24 & 0 & 0 & 233866           & 13.0000 &             & S\\\\\n",
       "\t 866 & 1 & 2 & Bystrom, Mrs. (Karolina)                            & female & 42 & 0 & 0 & 236852           & 13.0000 &             & S\\\\\n",
       "\t 867 & 1 & 2 & Duran y More, Miss. Asuncion                        & female & 27 & 1 & 0 & SC/PARIS 2149    & 13.8583 &             & C\\\\\n",
       "\t 868 & 0 & 1 & Roebling, Mr. Washington Augustus II                & male   & 31 & 0 & 0 & PC 17590         & 50.4958 & A24         & S\\\\\n",
       "\t 869 & 0 & 3 & van Melkebeke, Mr. Philemon                         & male   & NA & 0 & 0 & 345777           &  9.5000 &             & S\\\\\n",
       "\t 870 & 1 & 3 & Johnson, Master. Harold Theodor                     & male   &  4 & 1 & 1 & 347742           & 11.1333 &             & S\\\\\n",
       "\t 871 & 0 & 3 & Balkic, Mr. Cerin                                   & male   & 26 & 0 & 0 & 349248           &  7.8958 &             & S\\\\\n",
       "\t 872 & 1 & 1 & Beckwith, Mrs. Richard Leonard (Sallie Monypeny)    & female & 47 & 1 & 1 & 11751            & 52.5542 & D35         & S\\\\\n",
       "\t 873 & 0 & 1 & Carlsson, Mr. Frans Olof                            & male   & 33 & 0 & 0 & 695              &  5.0000 & B51 B53 B55 & S\\\\\n",
       "\t 874 & 0 & 3 & Vander Cruyssen, Mr. Victor                         & male   & 47 & 0 & 0 & 345765           &  9.0000 &             & S\\\\\n",
       "\t 875 & 1 & 2 & Abelson, Mrs. Samuel (Hannah Wizosky)               & female & 28 & 1 & 0 & P/PP 3381        & 24.0000 &             & C\\\\\n",
       "\t 876 & 1 & 3 & Najib, Miss. Adele Kiamie \"Jane\"                    & female & 15 & 0 & 0 & 2667             &  7.2250 &             & C\\\\\n",
       "\t 877 & 0 & 3 & Gustafsson, Mr. Alfred Ossian                       & male   & 20 & 0 & 0 & 7534             &  9.8458 &             & S\\\\\n",
       "\t 878 & 0 & 3 & Petroff, Mr. Nedelio                                & male   & 19 & 0 & 0 & 349212           &  7.8958 &             & S\\\\\n",
       "\t 879 & 0 & 3 & Laleff, Mr. Kristo                                  & male   & NA & 0 & 0 & 349217           &  7.8958 &             & S\\\\\n",
       "\t 880 & 1 & 1 & Potter, Mrs. Thomas Jr (Lily Alexenia Wilson)       & female & 56 & 0 & 1 & 11767            & 83.1583 & C50         & C\\\\\n",
       "\t 881 & 1 & 2 & Shelley, Mrs. William (Imanita Parrish Hall)        & female & 25 & 0 & 1 & 230433           & 26.0000 &             & S\\\\\n",
       "\t 882 & 0 & 3 & Markun, Mr. Johann                                  & male   & 33 & 0 & 0 & 349257           &  7.8958 &             & S\\\\\n",
       "\t 883 & 0 & 3 & Dahlberg, Miss. Gerda Ulrika                        & female & 22 & 0 & 0 & 7552             & 10.5167 &             & S\\\\\n",
       "\t 884 & 0 & 2 & Banfield, Mr. Frederick James                       & male   & 28 & 0 & 0 & C.A./SOTON 34068 & 10.5000 &             & S\\\\\n",
       "\t 885 & 0 & 3 & Sutehall, Mr. Henry Jr                              & male   & 25 & 0 & 0 & SOTON/OQ 392076  &  7.0500 &             & S\\\\\n",
       "\t 886 & 0 & 3 & Rice, Mrs. William (Margaret Norton)                & female & 39 & 0 & 5 & 382652           & 29.1250 &             & Q\\\\\n",
       "\t 887 & 0 & 2 & Montvila, Rev. Juozas                               & male   & 27 & 0 & 0 & 211536           & 13.0000 &             & S\\\\\n",
       "\t 888 & 1 & 1 & Graham, Miss. Margaret Edith                        & female & 19 & 0 & 0 & 112053           & 30.0000 & B42         & S\\\\\n",
       "\t 889 & 0 & 3 & Johnston, Miss. Catherine Helen \"Carrie\"            & female & NA & 1 & 2 & W./C. 6607       & 23.4500 &             & S\\\\\n",
       "\t 890 & 1 & 1 & Behr, Mr. Karl Howell                               & male   & 26 & 0 & 0 & 111369           & 30.0000 & C148        & C\\\\\n",
       "\t 891 & 0 & 3 & Dooley, Mr. Patrick                                 & male   & 32 & 0 & 0 & 370376           &  7.7500 &             & Q\\\\\n",
       "\\end{tabular}\n"
      ],
      "text/markdown": [
       "\n",
       "A data.frame: 891 × 12\n",
       "\n",
       "| PassengerId &lt;int&gt; | Survived &lt;int&gt; | Pclass &lt;int&gt; | Name &lt;chr&gt; | Sex &lt;chr&gt; | Age &lt;dbl&gt; | SibSp &lt;int&gt; | Parch &lt;int&gt; | Ticket &lt;chr&gt; | Fare &lt;dbl&gt; | Cabin &lt;chr&gt; | Embarked &lt;chr&gt; |\n",
       "|---|---|---|---|---|---|---|---|---|---|---|---|\n",
       "|  1 | 0 | 3 | Braund, Mr. Owen Harris                                   | male   | 22 | 1 | 0 | A/5 21171        |   7.2500 | <!----> | S |\n",
       "|  2 | 1 | 1 | Cumings, Mrs. John Bradley (Florence Briggs Thayer)       | female | 38 | 1 | 0 | PC 17599         |  71.2833 | C85         | C |\n",
       "|  3 | 1 | 3 | Heikkinen, Miss. Laina                                    | female | 26 | 0 | 0 | STON/O2. 3101282 |   7.9250 | <!----> | S |\n",
       "|  4 | 1 | 1 | Futrelle, Mrs. Jacques Heath (Lily May Peel)              | female | 35 | 1 | 0 | 113803           |  53.1000 | C123        | S |\n",
       "|  5 | 0 | 3 | Allen, Mr. William Henry                                  | male   | 35 | 0 | 0 | 373450           |   8.0500 | <!----> | S |\n",
       "|  6 | 0 | 3 | Moran, Mr. James                                          | male   | NA | 0 | 0 | 330877           |   8.4583 | <!----> | Q |\n",
       "|  7 | 0 | 1 | McCarthy, Mr. Timothy J                                   | male   | 54 | 0 | 0 | 17463            |  51.8625 | E46         | S |\n",
       "|  8 | 0 | 3 | Palsson, Master. Gosta Leonard                            | male   |  2 | 3 | 1 | 349909           |  21.0750 | <!----> | S |\n",
       "|  9 | 1 | 3 | Johnson, Mrs. Oscar W (Elisabeth Vilhelmina Berg)         | female | 27 | 0 | 2 | 347742           |  11.1333 | <!----> | S |\n",
       "| 10 | 1 | 2 | Nasser, Mrs. Nicholas (Adele Achem)                       | female | 14 | 1 | 0 | 237736           |  30.0708 | <!----> | C |\n",
       "| 11 | 1 | 3 | Sandstrom, Miss. Marguerite Rut                           | female |  4 | 1 | 1 | PP 9549          |  16.7000 | G6          | S |\n",
       "| 12 | 1 | 1 | Bonnell, Miss. Elizabeth                                  | female | 58 | 0 | 0 | 113783           |  26.5500 | C103        | S |\n",
       "| 13 | 0 | 3 | Saundercock, Mr. William Henry                            | male   | 20 | 0 | 0 | A/5. 2151        |   8.0500 | <!----> | S |\n",
       "| 14 | 0 | 3 | Andersson, Mr. Anders Johan                               | male   | 39 | 1 | 5 | 347082           |  31.2750 | <!----> | S |\n",
       "| 15 | 0 | 3 | Vestrom, Miss. Hulda Amanda Adolfina                      | female | 14 | 0 | 0 | 350406           |   7.8542 | <!----> | S |\n",
       "| 16 | 1 | 2 | Hewlett, Mrs. (Mary D Kingcome)                           | female | 55 | 0 | 0 | 248706           |  16.0000 | <!----> | S |\n",
       "| 17 | 0 | 3 | Rice, Master. Eugene                                      | male   |  2 | 4 | 1 | 382652           |  29.1250 | <!----> | Q |\n",
       "| 18 | 1 | 2 | Williams, Mr. Charles Eugene                              | male   | NA | 0 | 0 | 244373           |  13.0000 | <!----> | S |\n",
       "| 19 | 0 | 3 | Vander Planke, Mrs. Julius (Emelia Maria Vandemoortele)   | female | 31 | 1 | 0 | 345763           |  18.0000 | <!----> | S |\n",
       "| 20 | 1 | 3 | Masselmani, Mrs. Fatima                                   | female | NA | 0 | 0 | 2649             |   7.2250 | <!----> | C |\n",
       "| 21 | 0 | 2 | Fynney, Mr. Joseph J                                      | male   | 35 | 0 | 0 | 239865           |  26.0000 | <!----> | S |\n",
       "| 22 | 1 | 2 | Beesley, Mr. Lawrence                                     | male   | 34 | 0 | 0 | 248698           |  13.0000 | D56         | S |\n",
       "| 23 | 1 | 3 | McGowan, Miss. Anna \"Annie\"                               | female | 15 | 0 | 0 | 330923           |   8.0292 | <!----> | Q |\n",
       "| 24 | 1 | 1 | Sloper, Mr. William Thompson                              | male   | 28 | 0 | 0 | 113788           |  35.5000 | A6          | S |\n",
       "| 25 | 0 | 3 | Palsson, Miss. Torborg Danira                             | female |  8 | 3 | 1 | 349909           |  21.0750 | <!----> | S |\n",
       "| 26 | 1 | 3 | Asplund, Mrs. Carl Oscar (Selma Augusta Emilia Johansson) | female | 38 | 1 | 5 | 347077           |  31.3875 | <!----> | S |\n",
       "| 27 | 0 | 3 | Emir, Mr. Farred Chehab                                   | male   | NA | 0 | 0 | 2631             |   7.2250 | <!----> | C |\n",
       "| 28 | 0 | 1 | Fortune, Mr. Charles Alexander                            | male   | 19 | 3 | 2 | 19950            | 263.0000 | C23 C25 C27 | S |\n",
       "| 29 | 1 | 3 | O'Dwyer, Miss. Ellen \"Nellie\"                             | female | NA | 0 | 0 | 330959           |   7.8792 | <!----> | Q |\n",
       "| 30 | 0 | 3 | Todoroff, Mr. Lalio                                       | male   | NA | 0 | 0 | 349216           |   7.8958 | <!----> | S |\n",
       "| ⋮ | ⋮ | ⋮ | ⋮ | ⋮ | ⋮ | ⋮ | ⋮ | ⋮ | ⋮ | ⋮ | ⋮ |\n",
       "| 862 | 0 | 2 | Giles, Mr. Frederick Edward                         | male   | 21 | 1 | 0 | 28134            | 11.5000 | <!----> | S |\n",
       "| 863 | 1 | 1 | Swift, Mrs. Frederick Joel (Margaret Welles Barron) | female | 48 | 0 | 0 | 17466            | 25.9292 | D17         | S |\n",
       "| 864 | 0 | 3 | Sage, Miss. Dorothy Edith \"Dolly\"                   | female | NA | 8 | 2 | CA. 2343         | 69.5500 | <!----> | S |\n",
       "| 865 | 0 | 2 | Gill, Mr. John William                              | male   | 24 | 0 | 0 | 233866           | 13.0000 | <!----> | S |\n",
       "| 866 | 1 | 2 | Bystrom, Mrs. (Karolina)                            | female | 42 | 0 | 0 | 236852           | 13.0000 | <!----> | S |\n",
       "| 867 | 1 | 2 | Duran y More, Miss. Asuncion                        | female | 27 | 1 | 0 | SC/PARIS 2149    | 13.8583 | <!----> | C |\n",
       "| 868 | 0 | 1 | Roebling, Mr. Washington Augustus II                | male   | 31 | 0 | 0 | PC 17590         | 50.4958 | A24         | S |\n",
       "| 869 | 0 | 3 | van Melkebeke, Mr. Philemon                         | male   | NA | 0 | 0 | 345777           |  9.5000 | <!----> | S |\n",
       "| 870 | 1 | 3 | Johnson, Master. Harold Theodor                     | male   |  4 | 1 | 1 | 347742           | 11.1333 | <!----> | S |\n",
       "| 871 | 0 | 3 | Balkic, Mr. Cerin                                   | male   | 26 | 0 | 0 | 349248           |  7.8958 | <!----> | S |\n",
       "| 872 | 1 | 1 | Beckwith, Mrs. Richard Leonard (Sallie Monypeny)    | female | 47 | 1 | 1 | 11751            | 52.5542 | D35         | S |\n",
       "| 873 | 0 | 1 | Carlsson, Mr. Frans Olof                            | male   | 33 | 0 | 0 | 695              |  5.0000 | B51 B53 B55 | S |\n",
       "| 874 | 0 | 3 | Vander Cruyssen, Mr. Victor                         | male   | 47 | 0 | 0 | 345765           |  9.0000 | <!----> | S |\n",
       "| 875 | 1 | 2 | Abelson, Mrs. Samuel (Hannah Wizosky)               | female | 28 | 1 | 0 | P/PP 3381        | 24.0000 | <!----> | C |\n",
       "| 876 | 1 | 3 | Najib, Miss. Adele Kiamie \"Jane\"                    | female | 15 | 0 | 0 | 2667             |  7.2250 | <!----> | C |\n",
       "| 877 | 0 | 3 | Gustafsson, Mr. Alfred Ossian                       | male   | 20 | 0 | 0 | 7534             |  9.8458 | <!----> | S |\n",
       "| 878 | 0 | 3 | Petroff, Mr. Nedelio                                | male   | 19 | 0 | 0 | 349212           |  7.8958 | <!----> | S |\n",
       "| 879 | 0 | 3 | Laleff, Mr. Kristo                                  | male   | NA | 0 | 0 | 349217           |  7.8958 | <!----> | S |\n",
       "| 880 | 1 | 1 | Potter, Mrs. Thomas Jr (Lily Alexenia Wilson)       | female | 56 | 0 | 1 | 11767            | 83.1583 | C50         | C |\n",
       "| 881 | 1 | 2 | Shelley, Mrs. William (Imanita Parrish Hall)        | female | 25 | 0 | 1 | 230433           | 26.0000 | <!----> | S |\n",
       "| 882 | 0 | 3 | Markun, Mr. Johann                                  | male   | 33 | 0 | 0 | 349257           |  7.8958 | <!----> | S |\n",
       "| 883 | 0 | 3 | Dahlberg, Miss. Gerda Ulrika                        | female | 22 | 0 | 0 | 7552             | 10.5167 | <!----> | S |\n",
       "| 884 | 0 | 2 | Banfield, Mr. Frederick James                       | male   | 28 | 0 | 0 | C.A./SOTON 34068 | 10.5000 | <!----> | S |\n",
       "| 885 | 0 | 3 | Sutehall, Mr. Henry Jr                              | male   | 25 | 0 | 0 | SOTON/OQ 392076  |  7.0500 | <!----> | S |\n",
       "| 886 | 0 | 3 | Rice, Mrs. William (Margaret Norton)                | female | 39 | 0 | 5 | 382652           | 29.1250 | <!----> | Q |\n",
       "| 887 | 0 | 2 | Montvila, Rev. Juozas                               | male   | 27 | 0 | 0 | 211536           | 13.0000 | <!----> | S |\n",
       "| 888 | 1 | 1 | Graham, Miss. Margaret Edith                        | female | 19 | 0 | 0 | 112053           | 30.0000 | B42         | S |\n",
       "| 889 | 0 | 3 | Johnston, Miss. Catherine Helen \"Carrie\"            | female | NA | 1 | 2 | W./C. 6607       | 23.4500 | <!----> | S |\n",
       "| 890 | 1 | 1 | Behr, Mr. Karl Howell                               | male   | 26 | 0 | 0 | 111369           | 30.0000 | C148        | C |\n",
       "| 891 | 0 | 3 | Dooley, Mr. Patrick                                 | male   | 32 | 0 | 0 | 370376           |  7.7500 | <!----> | Q |\n",
       "\n"
      ],
      "text/plain": [
       "    PassengerId Survived Pclass\n",
       "1    1          0        3     \n",
       "2    2          1        1     \n",
       "3    3          1        3     \n",
       "4    4          1        1     \n",
       "5    5          0        3     \n",
       "6    6          0        3     \n",
       "7    7          0        1     \n",
       "8    8          0        3     \n",
       "9    9          1        3     \n",
       "10  10          1        2     \n",
       "11  11          1        3     \n",
       "12  12          1        1     \n",
       "13  13          0        3     \n",
       "14  14          0        3     \n",
       "15  15          0        3     \n",
       "16  16          1        2     \n",
       "17  17          0        3     \n",
       "18  18          1        2     \n",
       "19  19          0        3     \n",
       "20  20          1        3     \n",
       "21  21          0        2     \n",
       "22  22          1        2     \n",
       "23  23          1        3     \n",
       "24  24          1        1     \n",
       "25  25          0        3     \n",
       "26  26          1        3     \n",
       "27  27          0        3     \n",
       "28  28          0        1     \n",
       "29  29          1        3     \n",
       "30  30          0        3     \n",
       "⋮   ⋮           ⋮        ⋮     \n",
       "862 862         0        2     \n",
       "863 863         1        1     \n",
       "864 864         0        3     \n",
       "865 865         0        2     \n",
       "866 866         1        2     \n",
       "867 867         1        2     \n",
       "868 868         0        1     \n",
       "869 869         0        3     \n",
       "870 870         1        3     \n",
       "871 871         0        3     \n",
       "872 872         1        1     \n",
       "873 873         0        1     \n",
       "874 874         0        3     \n",
       "875 875         1        2     \n",
       "876 876         1        3     \n",
       "877 877         0        3     \n",
       "878 878         0        3     \n",
       "879 879         0        3     \n",
       "880 880         1        1     \n",
       "881 881         1        2     \n",
       "882 882         0        3     \n",
       "883 883         0        3     \n",
       "884 884         0        2     \n",
       "885 885         0        3     \n",
       "886 886         0        3     \n",
       "887 887         0        2     \n",
       "888 888         1        1     \n",
       "889 889         0        3     \n",
       "890 890         1        1     \n",
       "891 891         0        3     \n",
       "    Name                                                      Sex    Age SibSp\n",
       "1   Braund, Mr. Owen Harris                                   male   22  1    \n",
       "2   Cumings, Mrs. John Bradley (Florence Briggs Thayer)       female 38  1    \n",
       "3   Heikkinen, Miss. Laina                                    female 26  0    \n",
       "4   Futrelle, Mrs. Jacques Heath (Lily May Peel)              female 35  1    \n",
       "5   Allen, Mr. William Henry                                  male   35  0    \n",
       "6   Moran, Mr. James                                          male   NA  0    \n",
       "7   McCarthy, Mr. Timothy J                                   male   54  0    \n",
       "8   Palsson, Master. Gosta Leonard                            male    2  3    \n",
       "9   Johnson, Mrs. Oscar W (Elisabeth Vilhelmina Berg)         female 27  0    \n",
       "10  Nasser, Mrs. Nicholas (Adele Achem)                       female 14  1    \n",
       "11  Sandstrom, Miss. Marguerite Rut                           female  4  1    \n",
       "12  Bonnell, Miss. Elizabeth                                  female 58  0    \n",
       "13  Saundercock, Mr. William Henry                            male   20  0    \n",
       "14  Andersson, Mr. Anders Johan                               male   39  1    \n",
       "15  Vestrom, Miss. Hulda Amanda Adolfina                      female 14  0    \n",
       "16  Hewlett, Mrs. (Mary D Kingcome)                           female 55  0    \n",
       "17  Rice, Master. Eugene                                      male    2  4    \n",
       "18  Williams, Mr. Charles Eugene                              male   NA  0    \n",
       "19  Vander Planke, Mrs. Julius (Emelia Maria Vandemoortele)   female 31  1    \n",
       "20  Masselmani, Mrs. Fatima                                   female NA  0    \n",
       "21  Fynney, Mr. Joseph J                                      male   35  0    \n",
       "22  Beesley, Mr. Lawrence                                     male   34  0    \n",
       "23  McGowan, Miss. Anna \"Annie\"                               female 15  0    \n",
       "24  Sloper, Mr. William Thompson                              male   28  0    \n",
       "25  Palsson, Miss. Torborg Danira                             female  8  3    \n",
       "26  Asplund, Mrs. Carl Oscar (Selma Augusta Emilia Johansson) female 38  1    \n",
       "27  Emir, Mr. Farred Chehab                                   male   NA  0    \n",
       "28  Fortune, Mr. Charles Alexander                            male   19  3    \n",
       "29  O'Dwyer, Miss. Ellen \"Nellie\"                             female NA  0    \n",
       "30  Todoroff, Mr. Lalio                                       male   NA  0    \n",
       "⋮   ⋮                                                         ⋮      ⋮   ⋮    \n",
       "862 Giles, Mr. Frederick Edward                               male   21  1    \n",
       "863 Swift, Mrs. Frederick Joel (Margaret Welles Barron)       female 48  0    \n",
       "864 Sage, Miss. Dorothy Edith \"Dolly\"                         female NA  8    \n",
       "865 Gill, Mr. John William                                    male   24  0    \n",
       "866 Bystrom, Mrs. (Karolina)                                  female 42  0    \n",
       "867 Duran y More, Miss. Asuncion                              female 27  1    \n",
       "868 Roebling, Mr. Washington Augustus II                      male   31  0    \n",
       "869 van Melkebeke, Mr. Philemon                               male   NA  0    \n",
       "870 Johnson, Master. Harold Theodor                           male    4  1    \n",
       "871 Balkic, Mr. Cerin                                         male   26  0    \n",
       "872 Beckwith, Mrs. Richard Leonard (Sallie Monypeny)          female 47  1    \n",
       "873 Carlsson, Mr. Frans Olof                                  male   33  0    \n",
       "874 Vander Cruyssen, Mr. Victor                               male   47  0    \n",
       "875 Abelson, Mrs. Samuel (Hannah Wizosky)                     female 28  1    \n",
       "876 Najib, Miss. Adele Kiamie \"Jane\"                          female 15  0    \n",
       "877 Gustafsson, Mr. Alfred Ossian                             male   20  0    \n",
       "878 Petroff, Mr. Nedelio                                      male   19  0    \n",
       "879 Laleff, Mr. Kristo                                        male   NA  0    \n",
       "880 Potter, Mrs. Thomas Jr (Lily Alexenia Wilson)             female 56  0    \n",
       "881 Shelley, Mrs. William (Imanita Parrish Hall)              female 25  0    \n",
       "882 Markun, Mr. Johann                                        male   33  0    \n",
       "883 Dahlberg, Miss. Gerda Ulrika                              female 22  0    \n",
       "884 Banfield, Mr. Frederick James                             male   28  0    \n",
       "885 Sutehall, Mr. Henry Jr                                    male   25  0    \n",
       "886 Rice, Mrs. William (Margaret Norton)                      female 39  0    \n",
       "887 Montvila, Rev. Juozas                                     male   27  0    \n",
       "888 Graham, Miss. Margaret Edith                              female 19  0    \n",
       "889 Johnston, Miss. Catherine Helen \"Carrie\"                  female NA  1    \n",
       "890 Behr, Mr. Karl Howell                                     male   26  0    \n",
       "891 Dooley, Mr. Patrick                                       male   32  0    \n",
       "    Parch Ticket           Fare     Cabin       Embarked\n",
       "1   0     A/5 21171          7.2500             S       \n",
       "2   0     PC 17599          71.2833 C85         C       \n",
       "3   0     STON/O2. 3101282   7.9250             S       \n",
       "4   0     113803            53.1000 C123        S       \n",
       "5   0     373450             8.0500             S       \n",
       "6   0     330877             8.4583             Q       \n",
       "7   0     17463             51.8625 E46         S       \n",
       "8   1     349909            21.0750             S       \n",
       "9   2     347742            11.1333             S       \n",
       "10  0     237736            30.0708             C       \n",
       "11  1     PP 9549           16.7000 G6          S       \n",
       "12  0     113783            26.5500 C103        S       \n",
       "13  0     A/5. 2151          8.0500             S       \n",
       "14  5     347082            31.2750             S       \n",
       "15  0     350406             7.8542             S       \n",
       "16  0     248706            16.0000             S       \n",
       "17  1     382652            29.1250             Q       \n",
       "18  0     244373            13.0000             S       \n",
       "19  0     345763            18.0000             S       \n",
       "20  0     2649               7.2250             C       \n",
       "21  0     239865            26.0000             S       \n",
       "22  0     248698            13.0000 D56         S       \n",
       "23  0     330923             8.0292             Q       \n",
       "24  0     113788            35.5000 A6          S       \n",
       "25  1     349909            21.0750             S       \n",
       "26  5     347077            31.3875             S       \n",
       "27  0     2631               7.2250             C       \n",
       "28  2     19950            263.0000 C23 C25 C27 S       \n",
       "29  0     330959             7.8792             Q       \n",
       "30  0     349216             7.8958             S       \n",
       "⋮   ⋮     ⋮                ⋮        ⋮           ⋮       \n",
       "862 0     28134            11.5000              S       \n",
       "863 0     17466            25.9292  D17         S       \n",
       "864 2     CA. 2343         69.5500              S       \n",
       "865 0     233866           13.0000              S       \n",
       "866 0     236852           13.0000              S       \n",
       "867 0     SC/PARIS 2149    13.8583              C       \n",
       "868 0     PC 17590         50.4958  A24         S       \n",
       "869 0     345777            9.5000              S       \n",
       "870 1     347742           11.1333              S       \n",
       "871 0     349248            7.8958              S       \n",
       "872 1     11751            52.5542  D35         S       \n",
       "873 0     695               5.0000  B51 B53 B55 S       \n",
       "874 0     345765            9.0000              S       \n",
       "875 0     P/PP 3381        24.0000              C       \n",
       "876 0     2667              7.2250              C       \n",
       "877 0     7534              9.8458              S       \n",
       "878 0     349212            7.8958              S       \n",
       "879 0     349217            7.8958              S       \n",
       "880 1     11767            83.1583  C50         C       \n",
       "881 1     230433           26.0000              S       \n",
       "882 0     349257            7.8958              S       \n",
       "883 0     7552             10.5167              S       \n",
       "884 0     C.A./SOTON 34068 10.5000              S       \n",
       "885 0     SOTON/OQ 392076   7.0500              S       \n",
       "886 5     382652           29.1250              Q       \n",
       "887 0     211536           13.0000              S       \n",
       "888 0     112053           30.0000  B42         S       \n",
       "889 2     W./C. 6607       23.4500              S       \n",
       "890 0     111369           30.0000  C148        C       \n",
       "891 0     370376            7.7500              Q       "
      ]
     },
     "metadata": {},
     "output_type": "display_data"
    }
   ],
   "source": [
    "df <- read.csv('titanic.csv',stringsAsFactors = FALSE)\n",
    "df"
   ]
  },
  {
   "cell_type": "markdown",
   "metadata": {},
   "source": [
    "Suppose we want to fit a classifier to our Titanic data in order to predict who is going to survive. \n",
    "\n",
    "Let's we define a function `fit_lr_with_selected_features` that will fit a Logistic Regression based on a list of selected features and print the **score** of the model.\n",
    "\n",
    "We will try to improve iteratively our model performance by **choosing carefully the features we use**."
   ]
  },
  {
   "cell_type": "code",
   "execution_count": null,
   "metadata": {
    "ExecuteTime": {
     "end_time": "2019-10-21T08:52:39.124542Z",
     "start_time": "2019-10-21T08:52:38.588386Z"
    }
   },
   "outputs": [],
   "source": [
    "from sklearn.model_selection import train_test_split\n",
    "from sklearn.linear_model import LogisticRegression\n",
    "\n",
    "def fit_lr_with_selected_features(data, features_to_use):\n",
    "    lr = LogisticRegression()\n",
    "    X_train, X_test, y_train, y_test = train_test_split(data[features_to_use],\n",
    "                                                        data[\"Survived\"],\n",
    "                                                        test_size=0.2, \n",
    "                                                        random_state=0)\n",
    "\n",
    "    lr.fit(X_train, y_train)\n",
    "    lr_score = lr.score(X_test, y_test)\n",
    "    print(\"Score={}\".format(lr_score))\n",
    "    return lr"
   ]
  },
  {
   "cell_type": "markdown",
   "metadata": {},
   "source": [
    "___"
   ]
  },
  {
   "cell_type": "markdown",
   "metadata": {
    "slideshow": {
     "slide_type": "slide"
    }
   },
   "source": [
    "# I. Data Cleaning"
   ]
  },
  {
   "cell_type": "markdown",
   "metadata": {
    "slideshow": {
     "slide_type": "subslide"
    }
   },
   "source": [
    "## I.1. Missing values"
   ]
  },
  {
   "cell_type": "markdown",
   "metadata": {},
   "source": [
    "We have already seen that we must first:\n",
    "- drop or replace missing/NaN values\n",
    "- remove duplicated lines"
   ]
  },
  {
   "cell_type": "code",
   "execution_count": null,
   "metadata": {},
   "outputs": [],
   "source": [
    "colSums(is.na(df))"
   ]
  },
  {
   "cell_type": "code",
   "execution_count": null,
   "metadata": {},
   "outputs": [],
   "source": [
    "colSums(df==\"\")"
   ]
  },
  {
   "cell_type": "code",
   "execution_count": null,
   "metadata": {},
   "outputs": [],
   "source": [
    "count(df, vars=Embarked, sort=TRUE)"
   ]
  },
  {
   "cell_type": "code",
   "execution_count": 3,
   "metadata": {},
   "outputs": [
    {
     "data": {
      "text/html": [
       "<table>\n",
       "<caption>A data.frame: 891 × 11</caption>\n",
       "<thead>\n",
       "\t<tr><th></th><th scope=col>PassengerId</th><th scope=col>Survived</th><th scope=col>Pclass</th><th scope=col>Name</th><th scope=col>Sex</th><th scope=col>Age</th><th scope=col>SibSp</th><th scope=col>Parch</th><th scope=col>Ticket</th><th scope=col>Fare</th><th scope=col>Cabin</th></tr>\n",
       "\t<tr><th></th><th scope=col>&lt;int&gt;</th><th scope=col>&lt;int&gt;</th><th scope=col>&lt;int&gt;</th><th scope=col>&lt;chr&gt;</th><th scope=col>&lt;chr&gt;</th><th scope=col>&lt;dbl&gt;</th><th scope=col>&lt;int&gt;</th><th scope=col>&lt;int&gt;</th><th scope=col>&lt;chr&gt;</th><th scope=col>&lt;dbl&gt;</th><th scope=col>&lt;chr&gt;</th></tr>\n",
       "</thead>\n",
       "<tbody>\n",
       "\t<tr><th scope=row>1</th><td> 1</td><td>0</td><td>3</td><td>Braund, Mr. Owen Harris                                  </td><td>male  </td><td>22</td><td>1</td><td>0</td><td>A/5 21171       </td><td>  7.2500</td><td>           </td></tr>\n",
       "\t<tr><th scope=row>2</th><td> 2</td><td>1</td><td>1</td><td>Cumings, Mrs. John Bradley (Florence Briggs Thayer)      </td><td>female</td><td>38</td><td>1</td><td>0</td><td>PC 17599        </td><td> 71.2833</td><td>C85        </td></tr>\n",
       "\t<tr><th scope=row>3</th><td> 3</td><td>1</td><td>3</td><td>Heikkinen, Miss. Laina                                   </td><td>female</td><td>26</td><td>0</td><td>0</td><td>STON/O2. 3101282</td><td>  7.9250</td><td>           </td></tr>\n",
       "\t<tr><th scope=row>4</th><td> 4</td><td>1</td><td>1</td><td>Futrelle, Mrs. Jacques Heath (Lily May Peel)             </td><td>female</td><td>35</td><td>1</td><td>0</td><td>113803          </td><td> 53.1000</td><td>C123       </td></tr>\n",
       "\t<tr><th scope=row>5</th><td> 5</td><td>0</td><td>3</td><td>Allen, Mr. William Henry                                 </td><td>male  </td><td>35</td><td>0</td><td>0</td><td>373450          </td><td>  8.0500</td><td>           </td></tr>\n",
       "\t<tr><th scope=row>6</th><td> 6</td><td>0</td><td>3</td><td>Moran, Mr. James                                         </td><td>male  </td><td>NA</td><td>0</td><td>0</td><td>330877          </td><td>  8.4583</td><td>           </td></tr>\n",
       "\t<tr><th scope=row>7</th><td> 7</td><td>0</td><td>1</td><td>McCarthy, Mr. Timothy J                                  </td><td>male  </td><td>54</td><td>0</td><td>0</td><td>17463           </td><td> 51.8625</td><td>E46        </td></tr>\n",
       "\t<tr><th scope=row>8</th><td> 8</td><td>0</td><td>3</td><td>Palsson, Master. Gosta Leonard                           </td><td>male  </td><td> 2</td><td>3</td><td>1</td><td>349909          </td><td> 21.0750</td><td>           </td></tr>\n",
       "\t<tr><th scope=row>9</th><td> 9</td><td>1</td><td>3</td><td>Johnson, Mrs. Oscar W (Elisabeth Vilhelmina Berg)        </td><td>female</td><td>27</td><td>0</td><td>2</td><td>347742          </td><td> 11.1333</td><td>           </td></tr>\n",
       "\t<tr><th scope=row>10</th><td>10</td><td>1</td><td>2</td><td>Nasser, Mrs. Nicholas (Adele Achem)                      </td><td>female</td><td>14</td><td>1</td><td>0</td><td>237736          </td><td> 30.0708</td><td>           </td></tr>\n",
       "\t<tr><th scope=row>11</th><td>11</td><td>1</td><td>3</td><td>Sandstrom, Miss. Marguerite Rut                          </td><td>female</td><td> 4</td><td>1</td><td>1</td><td>PP 9549         </td><td> 16.7000</td><td>G6         </td></tr>\n",
       "\t<tr><th scope=row>12</th><td>12</td><td>1</td><td>1</td><td>Bonnell, Miss. Elizabeth                                 </td><td>female</td><td>58</td><td>0</td><td>0</td><td>113783          </td><td> 26.5500</td><td>C103       </td></tr>\n",
       "\t<tr><th scope=row>13</th><td>13</td><td>0</td><td>3</td><td>Saundercock, Mr. William Henry                           </td><td>male  </td><td>20</td><td>0</td><td>0</td><td>A/5. 2151       </td><td>  8.0500</td><td>           </td></tr>\n",
       "\t<tr><th scope=row>14</th><td>14</td><td>0</td><td>3</td><td>Andersson, Mr. Anders Johan                              </td><td>male  </td><td>39</td><td>1</td><td>5</td><td>347082          </td><td> 31.2750</td><td>           </td></tr>\n",
       "\t<tr><th scope=row>15</th><td>15</td><td>0</td><td>3</td><td>Vestrom, Miss. Hulda Amanda Adolfina                     </td><td>female</td><td>14</td><td>0</td><td>0</td><td>350406          </td><td>  7.8542</td><td>           </td></tr>\n",
       "\t<tr><th scope=row>16</th><td>16</td><td>1</td><td>2</td><td>Hewlett, Mrs. (Mary D Kingcome)                          </td><td>female</td><td>55</td><td>0</td><td>0</td><td>248706          </td><td> 16.0000</td><td>           </td></tr>\n",
       "\t<tr><th scope=row>17</th><td>17</td><td>0</td><td>3</td><td>Rice, Master. Eugene                                     </td><td>male  </td><td> 2</td><td>4</td><td>1</td><td>382652          </td><td> 29.1250</td><td>           </td></tr>\n",
       "\t<tr><th scope=row>18</th><td>18</td><td>1</td><td>2</td><td>Williams, Mr. Charles Eugene                             </td><td>male  </td><td>NA</td><td>0</td><td>0</td><td>244373          </td><td> 13.0000</td><td>           </td></tr>\n",
       "\t<tr><th scope=row>19</th><td>19</td><td>0</td><td>3</td><td>Vander Planke, Mrs. Julius (Emelia Maria Vandemoortele)  </td><td>female</td><td>31</td><td>1</td><td>0</td><td>345763          </td><td> 18.0000</td><td>           </td></tr>\n",
       "\t<tr><th scope=row>20</th><td>20</td><td>1</td><td>3</td><td>Masselmani, Mrs. Fatima                                  </td><td>female</td><td>NA</td><td>0</td><td>0</td><td>2649            </td><td>  7.2250</td><td>           </td></tr>\n",
       "\t<tr><th scope=row>21</th><td>21</td><td>0</td><td>2</td><td>Fynney, Mr. Joseph J                                     </td><td>male  </td><td>35</td><td>0</td><td>0</td><td>239865          </td><td> 26.0000</td><td>           </td></tr>\n",
       "\t<tr><th scope=row>22</th><td>22</td><td>1</td><td>2</td><td>Beesley, Mr. Lawrence                                    </td><td>male  </td><td>34</td><td>0</td><td>0</td><td>248698          </td><td> 13.0000</td><td>D56        </td></tr>\n",
       "\t<tr><th scope=row>23</th><td>23</td><td>1</td><td>3</td><td>McGowan, Miss. Anna \"Annie\"                              </td><td>female</td><td>15</td><td>0</td><td>0</td><td>330923          </td><td>  8.0292</td><td>           </td></tr>\n",
       "\t<tr><th scope=row>24</th><td>24</td><td>1</td><td>1</td><td>Sloper, Mr. William Thompson                             </td><td>male  </td><td>28</td><td>0</td><td>0</td><td>113788          </td><td> 35.5000</td><td>A6         </td></tr>\n",
       "\t<tr><th scope=row>25</th><td>25</td><td>0</td><td>3</td><td>Palsson, Miss. Torborg Danira                            </td><td>female</td><td> 8</td><td>3</td><td>1</td><td>349909          </td><td> 21.0750</td><td>           </td></tr>\n",
       "\t<tr><th scope=row>26</th><td>26</td><td>1</td><td>3</td><td>Asplund, Mrs. Carl Oscar (Selma Augusta Emilia Johansson)</td><td>female</td><td>38</td><td>1</td><td>5</td><td>347077          </td><td> 31.3875</td><td>           </td></tr>\n",
       "\t<tr><th scope=row>27</th><td>27</td><td>0</td><td>3</td><td>Emir, Mr. Farred Chehab                                  </td><td>male  </td><td>NA</td><td>0</td><td>0</td><td>2631            </td><td>  7.2250</td><td>           </td></tr>\n",
       "\t<tr><th scope=row>28</th><td>28</td><td>0</td><td>1</td><td>Fortune, Mr. Charles Alexander                           </td><td>male  </td><td>19</td><td>3</td><td>2</td><td>19950           </td><td>263.0000</td><td>C23 C25 C27</td></tr>\n",
       "\t<tr><th scope=row>29</th><td>29</td><td>1</td><td>3</td><td>O'Dwyer, Miss. Ellen \"Nellie\"                            </td><td>female</td><td>NA</td><td>0</td><td>0</td><td>330959          </td><td>  7.8792</td><td>           </td></tr>\n",
       "\t<tr><th scope=row>30</th><td>30</td><td>0</td><td>3</td><td>Todoroff, Mr. Lalio                                      </td><td>male  </td><td>NA</td><td>0</td><td>0</td><td>349216          </td><td>  7.8958</td><td>           </td></tr>\n",
       "\t<tr><th scope=row>⋮</th><td>⋮</td><td>⋮</td><td>⋮</td><td>⋮</td><td>⋮</td><td>⋮</td><td>⋮</td><td>⋮</td><td>⋮</td><td>⋮</td><td>⋮</td></tr>\n",
       "\t<tr><th scope=row>862</th><td>862</td><td>0</td><td>2</td><td>Giles, Mr. Frederick Edward                        </td><td>male  </td><td>21</td><td>1</td><td>0</td><td>28134           </td><td>11.5000</td><td>           </td></tr>\n",
       "\t<tr><th scope=row>863</th><td>863</td><td>1</td><td>1</td><td>Swift, Mrs. Frederick Joel (Margaret Welles Barron)</td><td>female</td><td>48</td><td>0</td><td>0</td><td>17466           </td><td>25.9292</td><td>D17        </td></tr>\n",
       "\t<tr><th scope=row>864</th><td>864</td><td>0</td><td>3</td><td>Sage, Miss. Dorothy Edith \"Dolly\"                  </td><td>female</td><td>NA</td><td>8</td><td>2</td><td>CA. 2343        </td><td>69.5500</td><td>           </td></tr>\n",
       "\t<tr><th scope=row>865</th><td>865</td><td>0</td><td>2</td><td>Gill, Mr. John William                             </td><td>male  </td><td>24</td><td>0</td><td>0</td><td>233866          </td><td>13.0000</td><td>           </td></tr>\n",
       "\t<tr><th scope=row>866</th><td>866</td><td>1</td><td>2</td><td>Bystrom, Mrs. (Karolina)                           </td><td>female</td><td>42</td><td>0</td><td>0</td><td>236852          </td><td>13.0000</td><td>           </td></tr>\n",
       "\t<tr><th scope=row>867</th><td>867</td><td>1</td><td>2</td><td>Duran y More, Miss. Asuncion                       </td><td>female</td><td>27</td><td>1</td><td>0</td><td>SC/PARIS 2149   </td><td>13.8583</td><td>           </td></tr>\n",
       "\t<tr><th scope=row>868</th><td>868</td><td>0</td><td>1</td><td>Roebling, Mr. Washington Augustus II               </td><td>male  </td><td>31</td><td>0</td><td>0</td><td>PC 17590        </td><td>50.4958</td><td>A24        </td></tr>\n",
       "\t<tr><th scope=row>869</th><td>869</td><td>0</td><td>3</td><td>van Melkebeke, Mr. Philemon                        </td><td>male  </td><td>NA</td><td>0</td><td>0</td><td>345777          </td><td> 9.5000</td><td>           </td></tr>\n",
       "\t<tr><th scope=row>870</th><td>870</td><td>1</td><td>3</td><td>Johnson, Master. Harold Theodor                    </td><td>male  </td><td> 4</td><td>1</td><td>1</td><td>347742          </td><td>11.1333</td><td>           </td></tr>\n",
       "\t<tr><th scope=row>871</th><td>871</td><td>0</td><td>3</td><td>Balkic, Mr. Cerin                                  </td><td>male  </td><td>26</td><td>0</td><td>0</td><td>349248          </td><td> 7.8958</td><td>           </td></tr>\n",
       "\t<tr><th scope=row>872</th><td>872</td><td>1</td><td>1</td><td>Beckwith, Mrs. Richard Leonard (Sallie Monypeny)   </td><td>female</td><td>47</td><td>1</td><td>1</td><td>11751           </td><td>52.5542</td><td>D35        </td></tr>\n",
       "\t<tr><th scope=row>873</th><td>873</td><td>0</td><td>1</td><td>Carlsson, Mr. Frans Olof                           </td><td>male  </td><td>33</td><td>0</td><td>0</td><td>695             </td><td> 5.0000</td><td>B51 B53 B55</td></tr>\n",
       "\t<tr><th scope=row>874</th><td>874</td><td>0</td><td>3</td><td>Vander Cruyssen, Mr. Victor                        </td><td>male  </td><td>47</td><td>0</td><td>0</td><td>345765          </td><td> 9.0000</td><td>           </td></tr>\n",
       "\t<tr><th scope=row>875</th><td>875</td><td>1</td><td>2</td><td>Abelson, Mrs. Samuel (Hannah Wizosky)              </td><td>female</td><td>28</td><td>1</td><td>0</td><td>P/PP 3381       </td><td>24.0000</td><td>           </td></tr>\n",
       "\t<tr><th scope=row>876</th><td>876</td><td>1</td><td>3</td><td>Najib, Miss. Adele Kiamie \"Jane\"                   </td><td>female</td><td>15</td><td>0</td><td>0</td><td>2667            </td><td> 7.2250</td><td>           </td></tr>\n",
       "\t<tr><th scope=row>877</th><td>877</td><td>0</td><td>3</td><td>Gustafsson, Mr. Alfred Ossian                      </td><td>male  </td><td>20</td><td>0</td><td>0</td><td>7534            </td><td> 9.8458</td><td>           </td></tr>\n",
       "\t<tr><th scope=row>878</th><td>878</td><td>0</td><td>3</td><td>Petroff, Mr. Nedelio                               </td><td>male  </td><td>19</td><td>0</td><td>0</td><td>349212          </td><td> 7.8958</td><td>           </td></tr>\n",
       "\t<tr><th scope=row>879</th><td>879</td><td>0</td><td>3</td><td>Laleff, Mr. Kristo                                 </td><td>male  </td><td>NA</td><td>0</td><td>0</td><td>349217          </td><td> 7.8958</td><td>           </td></tr>\n",
       "\t<tr><th scope=row>880</th><td>880</td><td>1</td><td>1</td><td>Potter, Mrs. Thomas Jr (Lily Alexenia Wilson)      </td><td>female</td><td>56</td><td>0</td><td>1</td><td>11767           </td><td>83.1583</td><td>C50        </td></tr>\n",
       "\t<tr><th scope=row>881</th><td>881</td><td>1</td><td>2</td><td>Shelley, Mrs. William (Imanita Parrish Hall)       </td><td>female</td><td>25</td><td>0</td><td>1</td><td>230433          </td><td>26.0000</td><td>           </td></tr>\n",
       "\t<tr><th scope=row>882</th><td>882</td><td>0</td><td>3</td><td>Markun, Mr. Johann                                 </td><td>male  </td><td>33</td><td>0</td><td>0</td><td>349257          </td><td> 7.8958</td><td>           </td></tr>\n",
       "\t<tr><th scope=row>883</th><td>883</td><td>0</td><td>3</td><td>Dahlberg, Miss. Gerda Ulrika                       </td><td>female</td><td>22</td><td>0</td><td>0</td><td>7552            </td><td>10.5167</td><td>           </td></tr>\n",
       "\t<tr><th scope=row>884</th><td>884</td><td>0</td><td>2</td><td>Banfield, Mr. Frederick James                      </td><td>male  </td><td>28</td><td>0</td><td>0</td><td>C.A./SOTON 34068</td><td>10.5000</td><td>           </td></tr>\n",
       "\t<tr><th scope=row>885</th><td>885</td><td>0</td><td>3</td><td>Sutehall, Mr. Henry Jr                             </td><td>male  </td><td>25</td><td>0</td><td>0</td><td>SOTON/OQ 392076 </td><td> 7.0500</td><td>           </td></tr>\n",
       "\t<tr><th scope=row>886</th><td>886</td><td>0</td><td>3</td><td>Rice, Mrs. William (Margaret Norton)               </td><td>female</td><td>39</td><td>0</td><td>5</td><td>382652          </td><td>29.1250</td><td>           </td></tr>\n",
       "\t<tr><th scope=row>887</th><td>887</td><td>0</td><td>2</td><td>Montvila, Rev. Juozas                              </td><td>male  </td><td>27</td><td>0</td><td>0</td><td>211536          </td><td>13.0000</td><td>           </td></tr>\n",
       "\t<tr><th scope=row>888</th><td>888</td><td>1</td><td>1</td><td>Graham, Miss. Margaret Edith                       </td><td>female</td><td>19</td><td>0</td><td>0</td><td>112053          </td><td>30.0000</td><td>B42        </td></tr>\n",
       "\t<tr><th scope=row>889</th><td>889</td><td>0</td><td>3</td><td>Johnston, Miss. Catherine Helen \"Carrie\"           </td><td>female</td><td>NA</td><td>1</td><td>2</td><td>W./C. 6607      </td><td>23.4500</td><td>           </td></tr>\n",
       "\t<tr><th scope=row>890</th><td>890</td><td>1</td><td>1</td><td>Behr, Mr. Karl Howell                              </td><td>male  </td><td>26</td><td>0</td><td>0</td><td>111369          </td><td>30.0000</td><td>C148       </td></tr>\n",
       "\t<tr><th scope=row>891</th><td>891</td><td>0</td><td>3</td><td>Dooley, Mr. Patrick                                </td><td>male  </td><td>32</td><td>0</td><td>0</td><td>370376          </td><td> 7.7500</td><td>           </td></tr>\n",
       "</tbody>\n",
       "</table>\n"
      ],
      "text/latex": [
       "A data.frame: 891 × 11\n",
       "\\begin{tabular}{r|lllllllllll}\n",
       "  & PassengerId & Survived & Pclass & Name & Sex & Age & SibSp & Parch & Ticket & Fare & Cabin\\\\\n",
       "  & <int> & <int> & <int> & <chr> & <chr> & <dbl> & <int> & <int> & <chr> & <dbl> & <chr>\\\\\n",
       "\\hline\n",
       "\t1 &  1 & 0 & 3 & Braund, Mr. Owen Harris                                   & male   & 22 & 1 & 0 & A/5 21171        &   7.2500 &            \\\\\n",
       "\t2 &  2 & 1 & 1 & Cumings, Mrs. John Bradley (Florence Briggs Thayer)       & female & 38 & 1 & 0 & PC 17599         &  71.2833 & C85        \\\\\n",
       "\t3 &  3 & 1 & 3 & Heikkinen, Miss. Laina                                    & female & 26 & 0 & 0 & STON/O2. 3101282 &   7.9250 &            \\\\\n",
       "\t4 &  4 & 1 & 1 & Futrelle, Mrs. Jacques Heath (Lily May Peel)              & female & 35 & 1 & 0 & 113803           &  53.1000 & C123       \\\\\n",
       "\t5 &  5 & 0 & 3 & Allen, Mr. William Henry                                  & male   & 35 & 0 & 0 & 373450           &   8.0500 &            \\\\\n",
       "\t6 &  6 & 0 & 3 & Moran, Mr. James                                          & male   & NA & 0 & 0 & 330877           &   8.4583 &            \\\\\n",
       "\t7 &  7 & 0 & 1 & McCarthy, Mr. Timothy J                                   & male   & 54 & 0 & 0 & 17463            &  51.8625 & E46        \\\\\n",
       "\t8 &  8 & 0 & 3 & Palsson, Master. Gosta Leonard                            & male   &  2 & 3 & 1 & 349909           &  21.0750 &            \\\\\n",
       "\t9 &  9 & 1 & 3 & Johnson, Mrs. Oscar W (Elisabeth Vilhelmina Berg)         & female & 27 & 0 & 2 & 347742           &  11.1333 &            \\\\\n",
       "\t10 & 10 & 1 & 2 & Nasser, Mrs. Nicholas (Adele Achem)                       & female & 14 & 1 & 0 & 237736           &  30.0708 &            \\\\\n",
       "\t11 & 11 & 1 & 3 & Sandstrom, Miss. Marguerite Rut                           & female &  4 & 1 & 1 & PP 9549          &  16.7000 & G6         \\\\\n",
       "\t12 & 12 & 1 & 1 & Bonnell, Miss. Elizabeth                                  & female & 58 & 0 & 0 & 113783           &  26.5500 & C103       \\\\\n",
       "\t13 & 13 & 0 & 3 & Saundercock, Mr. William Henry                            & male   & 20 & 0 & 0 & A/5. 2151        &   8.0500 &            \\\\\n",
       "\t14 & 14 & 0 & 3 & Andersson, Mr. Anders Johan                               & male   & 39 & 1 & 5 & 347082           &  31.2750 &            \\\\\n",
       "\t15 & 15 & 0 & 3 & Vestrom, Miss. Hulda Amanda Adolfina                      & female & 14 & 0 & 0 & 350406           &   7.8542 &            \\\\\n",
       "\t16 & 16 & 1 & 2 & Hewlett, Mrs. (Mary D Kingcome)                           & female & 55 & 0 & 0 & 248706           &  16.0000 &            \\\\\n",
       "\t17 & 17 & 0 & 3 & Rice, Master. Eugene                                      & male   &  2 & 4 & 1 & 382652           &  29.1250 &            \\\\\n",
       "\t18 & 18 & 1 & 2 & Williams, Mr. Charles Eugene                              & male   & NA & 0 & 0 & 244373           &  13.0000 &            \\\\\n",
       "\t19 & 19 & 0 & 3 & Vander Planke, Mrs. Julius (Emelia Maria Vandemoortele)   & female & 31 & 1 & 0 & 345763           &  18.0000 &            \\\\\n",
       "\t20 & 20 & 1 & 3 & Masselmani, Mrs. Fatima                                   & female & NA & 0 & 0 & 2649             &   7.2250 &            \\\\\n",
       "\t21 & 21 & 0 & 2 & Fynney, Mr. Joseph J                                      & male   & 35 & 0 & 0 & 239865           &  26.0000 &            \\\\\n",
       "\t22 & 22 & 1 & 2 & Beesley, Mr. Lawrence                                     & male   & 34 & 0 & 0 & 248698           &  13.0000 & D56        \\\\\n",
       "\t23 & 23 & 1 & 3 & McGowan, Miss. Anna \"Annie\"                               & female & 15 & 0 & 0 & 330923           &   8.0292 &            \\\\\n",
       "\t24 & 24 & 1 & 1 & Sloper, Mr. William Thompson                              & male   & 28 & 0 & 0 & 113788           &  35.5000 & A6         \\\\\n",
       "\t25 & 25 & 0 & 3 & Palsson, Miss. Torborg Danira                             & female &  8 & 3 & 1 & 349909           &  21.0750 &            \\\\\n",
       "\t26 & 26 & 1 & 3 & Asplund, Mrs. Carl Oscar (Selma Augusta Emilia Johansson) & female & 38 & 1 & 5 & 347077           &  31.3875 &            \\\\\n",
       "\t27 & 27 & 0 & 3 & Emir, Mr. Farred Chehab                                   & male   & NA & 0 & 0 & 2631             &   7.2250 &            \\\\\n",
       "\t28 & 28 & 0 & 1 & Fortune, Mr. Charles Alexander                            & male   & 19 & 3 & 2 & 19950            & 263.0000 & C23 C25 C27\\\\\n",
       "\t29 & 29 & 1 & 3 & O'Dwyer, Miss. Ellen \"Nellie\"                             & female & NA & 0 & 0 & 330959           &   7.8792 &            \\\\\n",
       "\t30 & 30 & 0 & 3 & Todoroff, Mr. Lalio                                       & male   & NA & 0 & 0 & 349216           &   7.8958 &            \\\\\n",
       "\t⋮ & ⋮ & ⋮ & ⋮ & ⋮ & ⋮ & ⋮ & ⋮ & ⋮ & ⋮ & ⋮ & ⋮\\\\\n",
       "\t862 & 862 & 0 & 2 & Giles, Mr. Frederick Edward                         & male   & 21 & 1 & 0 & 28134            & 11.5000 &            \\\\\n",
       "\t863 & 863 & 1 & 1 & Swift, Mrs. Frederick Joel (Margaret Welles Barron) & female & 48 & 0 & 0 & 17466            & 25.9292 & D17        \\\\\n",
       "\t864 & 864 & 0 & 3 & Sage, Miss. Dorothy Edith \"Dolly\"                   & female & NA & 8 & 2 & CA. 2343         & 69.5500 &            \\\\\n",
       "\t865 & 865 & 0 & 2 & Gill, Mr. John William                              & male   & 24 & 0 & 0 & 233866           & 13.0000 &            \\\\\n",
       "\t866 & 866 & 1 & 2 & Bystrom, Mrs. (Karolina)                            & female & 42 & 0 & 0 & 236852           & 13.0000 &            \\\\\n",
       "\t867 & 867 & 1 & 2 & Duran y More, Miss. Asuncion                        & female & 27 & 1 & 0 & SC/PARIS 2149    & 13.8583 &            \\\\\n",
       "\t868 & 868 & 0 & 1 & Roebling, Mr. Washington Augustus II                & male   & 31 & 0 & 0 & PC 17590         & 50.4958 & A24        \\\\\n",
       "\t869 & 869 & 0 & 3 & van Melkebeke, Mr. Philemon                         & male   & NA & 0 & 0 & 345777           &  9.5000 &            \\\\\n",
       "\t870 & 870 & 1 & 3 & Johnson, Master. Harold Theodor                     & male   &  4 & 1 & 1 & 347742           & 11.1333 &            \\\\\n",
       "\t871 & 871 & 0 & 3 & Balkic, Mr. Cerin                                   & male   & 26 & 0 & 0 & 349248           &  7.8958 &            \\\\\n",
       "\t872 & 872 & 1 & 1 & Beckwith, Mrs. Richard Leonard (Sallie Monypeny)    & female & 47 & 1 & 1 & 11751            & 52.5542 & D35        \\\\\n",
       "\t873 & 873 & 0 & 1 & Carlsson, Mr. Frans Olof                            & male   & 33 & 0 & 0 & 695              &  5.0000 & B51 B53 B55\\\\\n",
       "\t874 & 874 & 0 & 3 & Vander Cruyssen, Mr. Victor                         & male   & 47 & 0 & 0 & 345765           &  9.0000 &            \\\\\n",
       "\t875 & 875 & 1 & 2 & Abelson, Mrs. Samuel (Hannah Wizosky)               & female & 28 & 1 & 0 & P/PP 3381        & 24.0000 &            \\\\\n",
       "\t876 & 876 & 1 & 3 & Najib, Miss. Adele Kiamie \"Jane\"                    & female & 15 & 0 & 0 & 2667             &  7.2250 &            \\\\\n",
       "\t877 & 877 & 0 & 3 & Gustafsson, Mr. Alfred Ossian                       & male   & 20 & 0 & 0 & 7534             &  9.8458 &            \\\\\n",
       "\t878 & 878 & 0 & 3 & Petroff, Mr. Nedelio                                & male   & 19 & 0 & 0 & 349212           &  7.8958 &            \\\\\n",
       "\t879 & 879 & 0 & 3 & Laleff, Mr. Kristo                                  & male   & NA & 0 & 0 & 349217           &  7.8958 &            \\\\\n",
       "\t880 & 880 & 1 & 1 & Potter, Mrs. Thomas Jr (Lily Alexenia Wilson)       & female & 56 & 0 & 1 & 11767            & 83.1583 & C50        \\\\\n",
       "\t881 & 881 & 1 & 2 & Shelley, Mrs. William (Imanita Parrish Hall)        & female & 25 & 0 & 1 & 230433           & 26.0000 &            \\\\\n",
       "\t882 & 882 & 0 & 3 & Markun, Mr. Johann                                  & male   & 33 & 0 & 0 & 349257           &  7.8958 &            \\\\\n",
       "\t883 & 883 & 0 & 3 & Dahlberg, Miss. Gerda Ulrika                        & female & 22 & 0 & 0 & 7552             & 10.5167 &            \\\\\n",
       "\t884 & 884 & 0 & 2 & Banfield, Mr. Frederick James                       & male   & 28 & 0 & 0 & C.A./SOTON 34068 & 10.5000 &            \\\\\n",
       "\t885 & 885 & 0 & 3 & Sutehall, Mr. Henry Jr                              & male   & 25 & 0 & 0 & SOTON/OQ 392076  &  7.0500 &            \\\\\n",
       "\t886 & 886 & 0 & 3 & Rice, Mrs. William (Margaret Norton)                & female & 39 & 0 & 5 & 382652           & 29.1250 &            \\\\\n",
       "\t887 & 887 & 0 & 2 & Montvila, Rev. Juozas                               & male   & 27 & 0 & 0 & 211536           & 13.0000 &            \\\\\n",
       "\t888 & 888 & 1 & 1 & Graham, Miss. Margaret Edith                        & female & 19 & 0 & 0 & 112053           & 30.0000 & B42        \\\\\n",
       "\t889 & 889 & 0 & 3 & Johnston, Miss. Catherine Helen \"Carrie\"            & female & NA & 1 & 2 & W./C. 6607       & 23.4500 &            \\\\\n",
       "\t890 & 890 & 1 & 1 & Behr, Mr. Karl Howell                               & male   & 26 & 0 & 0 & 111369           & 30.0000 & C148       \\\\\n",
       "\t891 & 891 & 0 & 3 & Dooley, Mr. Patrick                                 & male   & 32 & 0 & 0 & 370376           &  7.7500 &            \\\\\n",
       "\\end{tabular}\n"
      ],
      "text/markdown": [
       "\n",
       "A data.frame: 891 × 11\n",
       "\n",
       "| <!--/--> | PassengerId &lt;int&gt; | Survived &lt;int&gt; | Pclass &lt;int&gt; | Name &lt;chr&gt; | Sex &lt;chr&gt; | Age &lt;dbl&gt; | SibSp &lt;int&gt; | Parch &lt;int&gt; | Ticket &lt;chr&gt; | Fare &lt;dbl&gt; | Cabin &lt;chr&gt; |\n",
       "|---|---|---|---|---|---|---|---|---|---|---|---|\n",
       "| 1 |  1 | 0 | 3 | Braund, Mr. Owen Harris                                   | male   | 22 | 1 | 0 | A/5 21171        |   7.2500 | <!----> |\n",
       "| 2 |  2 | 1 | 1 | Cumings, Mrs. John Bradley (Florence Briggs Thayer)       | female | 38 | 1 | 0 | PC 17599         |  71.2833 | C85         |\n",
       "| 3 |  3 | 1 | 3 | Heikkinen, Miss. Laina                                    | female | 26 | 0 | 0 | STON/O2. 3101282 |   7.9250 | <!----> |\n",
       "| 4 |  4 | 1 | 1 | Futrelle, Mrs. Jacques Heath (Lily May Peel)              | female | 35 | 1 | 0 | 113803           |  53.1000 | C123        |\n",
       "| 5 |  5 | 0 | 3 | Allen, Mr. William Henry                                  | male   | 35 | 0 | 0 | 373450           |   8.0500 | <!----> |\n",
       "| 6 |  6 | 0 | 3 | Moran, Mr. James                                          | male   | NA | 0 | 0 | 330877           |   8.4583 | <!----> |\n",
       "| 7 |  7 | 0 | 1 | McCarthy, Mr. Timothy J                                   | male   | 54 | 0 | 0 | 17463            |  51.8625 | E46         |\n",
       "| 8 |  8 | 0 | 3 | Palsson, Master. Gosta Leonard                            | male   |  2 | 3 | 1 | 349909           |  21.0750 | <!----> |\n",
       "| 9 |  9 | 1 | 3 | Johnson, Mrs. Oscar W (Elisabeth Vilhelmina Berg)         | female | 27 | 0 | 2 | 347742           |  11.1333 | <!----> |\n",
       "| 10 | 10 | 1 | 2 | Nasser, Mrs. Nicholas (Adele Achem)                       | female | 14 | 1 | 0 | 237736           |  30.0708 | <!----> |\n",
       "| 11 | 11 | 1 | 3 | Sandstrom, Miss. Marguerite Rut                           | female |  4 | 1 | 1 | PP 9549          |  16.7000 | G6          |\n",
       "| 12 | 12 | 1 | 1 | Bonnell, Miss. Elizabeth                                  | female | 58 | 0 | 0 | 113783           |  26.5500 | C103        |\n",
       "| 13 | 13 | 0 | 3 | Saundercock, Mr. William Henry                            | male   | 20 | 0 | 0 | A/5. 2151        |   8.0500 | <!----> |\n",
       "| 14 | 14 | 0 | 3 | Andersson, Mr. Anders Johan                               | male   | 39 | 1 | 5 | 347082           |  31.2750 | <!----> |\n",
       "| 15 | 15 | 0 | 3 | Vestrom, Miss. Hulda Amanda Adolfina                      | female | 14 | 0 | 0 | 350406           |   7.8542 | <!----> |\n",
       "| 16 | 16 | 1 | 2 | Hewlett, Mrs. (Mary D Kingcome)                           | female | 55 | 0 | 0 | 248706           |  16.0000 | <!----> |\n",
       "| 17 | 17 | 0 | 3 | Rice, Master. Eugene                                      | male   |  2 | 4 | 1 | 382652           |  29.1250 | <!----> |\n",
       "| 18 | 18 | 1 | 2 | Williams, Mr. Charles Eugene                              | male   | NA | 0 | 0 | 244373           |  13.0000 | <!----> |\n",
       "| 19 | 19 | 0 | 3 | Vander Planke, Mrs. Julius (Emelia Maria Vandemoortele)   | female | 31 | 1 | 0 | 345763           |  18.0000 | <!----> |\n",
       "| 20 | 20 | 1 | 3 | Masselmani, Mrs. Fatima                                   | female | NA | 0 | 0 | 2649             |   7.2250 | <!----> |\n",
       "| 21 | 21 | 0 | 2 | Fynney, Mr. Joseph J                                      | male   | 35 | 0 | 0 | 239865           |  26.0000 | <!----> |\n",
       "| 22 | 22 | 1 | 2 | Beesley, Mr. Lawrence                                     | male   | 34 | 0 | 0 | 248698           |  13.0000 | D56         |\n",
       "| 23 | 23 | 1 | 3 | McGowan, Miss. Anna \"Annie\"                               | female | 15 | 0 | 0 | 330923           |   8.0292 | <!----> |\n",
       "| 24 | 24 | 1 | 1 | Sloper, Mr. William Thompson                              | male   | 28 | 0 | 0 | 113788           |  35.5000 | A6          |\n",
       "| 25 | 25 | 0 | 3 | Palsson, Miss. Torborg Danira                             | female |  8 | 3 | 1 | 349909           |  21.0750 | <!----> |\n",
       "| 26 | 26 | 1 | 3 | Asplund, Mrs. Carl Oscar (Selma Augusta Emilia Johansson) | female | 38 | 1 | 5 | 347077           |  31.3875 | <!----> |\n",
       "| 27 | 27 | 0 | 3 | Emir, Mr. Farred Chehab                                   | male   | NA | 0 | 0 | 2631             |   7.2250 | <!----> |\n",
       "| 28 | 28 | 0 | 1 | Fortune, Mr. Charles Alexander                            | male   | 19 | 3 | 2 | 19950            | 263.0000 | C23 C25 C27 |\n",
       "| 29 | 29 | 1 | 3 | O'Dwyer, Miss. Ellen \"Nellie\"                             | female | NA | 0 | 0 | 330959           |   7.8792 | <!----> |\n",
       "| 30 | 30 | 0 | 3 | Todoroff, Mr. Lalio                                       | male   | NA | 0 | 0 | 349216           |   7.8958 | <!----> |\n",
       "| ⋮ | ⋮ | ⋮ | ⋮ | ⋮ | ⋮ | ⋮ | ⋮ | ⋮ | ⋮ | ⋮ | ⋮ |\n",
       "| 862 | 862 | 0 | 2 | Giles, Mr. Frederick Edward                         | male   | 21 | 1 | 0 | 28134            | 11.5000 | <!----> |\n",
       "| 863 | 863 | 1 | 1 | Swift, Mrs. Frederick Joel (Margaret Welles Barron) | female | 48 | 0 | 0 | 17466            | 25.9292 | D17         |\n",
       "| 864 | 864 | 0 | 3 | Sage, Miss. Dorothy Edith \"Dolly\"                   | female | NA | 8 | 2 | CA. 2343         | 69.5500 | <!----> |\n",
       "| 865 | 865 | 0 | 2 | Gill, Mr. John William                              | male   | 24 | 0 | 0 | 233866           | 13.0000 | <!----> |\n",
       "| 866 | 866 | 1 | 2 | Bystrom, Mrs. (Karolina)                            | female | 42 | 0 | 0 | 236852           | 13.0000 | <!----> |\n",
       "| 867 | 867 | 1 | 2 | Duran y More, Miss. Asuncion                        | female | 27 | 1 | 0 | SC/PARIS 2149    | 13.8583 | <!----> |\n",
       "| 868 | 868 | 0 | 1 | Roebling, Mr. Washington Augustus II                | male   | 31 | 0 | 0 | PC 17590         | 50.4958 | A24         |\n",
       "| 869 | 869 | 0 | 3 | van Melkebeke, Mr. Philemon                         | male   | NA | 0 | 0 | 345777           |  9.5000 | <!----> |\n",
       "| 870 | 870 | 1 | 3 | Johnson, Master. Harold Theodor                     | male   |  4 | 1 | 1 | 347742           | 11.1333 | <!----> |\n",
       "| 871 | 871 | 0 | 3 | Balkic, Mr. Cerin                                   | male   | 26 | 0 | 0 | 349248           |  7.8958 | <!----> |\n",
       "| 872 | 872 | 1 | 1 | Beckwith, Mrs. Richard Leonard (Sallie Monypeny)    | female | 47 | 1 | 1 | 11751            | 52.5542 | D35         |\n",
       "| 873 | 873 | 0 | 1 | Carlsson, Mr. Frans Olof                            | male   | 33 | 0 | 0 | 695              |  5.0000 | B51 B53 B55 |\n",
       "| 874 | 874 | 0 | 3 | Vander Cruyssen, Mr. Victor                         | male   | 47 | 0 | 0 | 345765           |  9.0000 | <!----> |\n",
       "| 875 | 875 | 1 | 2 | Abelson, Mrs. Samuel (Hannah Wizosky)               | female | 28 | 1 | 0 | P/PP 3381        | 24.0000 | <!----> |\n",
       "| 876 | 876 | 1 | 3 | Najib, Miss. Adele Kiamie \"Jane\"                    | female | 15 | 0 | 0 | 2667             |  7.2250 | <!----> |\n",
       "| 877 | 877 | 0 | 3 | Gustafsson, Mr. Alfred Ossian                       | male   | 20 | 0 | 0 | 7534             |  9.8458 | <!----> |\n",
       "| 878 | 878 | 0 | 3 | Petroff, Mr. Nedelio                                | male   | 19 | 0 | 0 | 349212           |  7.8958 | <!----> |\n",
       "| 879 | 879 | 0 | 3 | Laleff, Mr. Kristo                                  | male   | NA | 0 | 0 | 349217           |  7.8958 | <!----> |\n",
       "| 880 | 880 | 1 | 1 | Potter, Mrs. Thomas Jr (Lily Alexenia Wilson)       | female | 56 | 0 | 1 | 11767            | 83.1583 | C50         |\n",
       "| 881 | 881 | 1 | 2 | Shelley, Mrs. William (Imanita Parrish Hall)        | female | 25 | 0 | 1 | 230433           | 26.0000 | <!----> |\n",
       "| 882 | 882 | 0 | 3 | Markun, Mr. Johann                                  | male   | 33 | 0 | 0 | 349257           |  7.8958 | <!----> |\n",
       "| 883 | 883 | 0 | 3 | Dahlberg, Miss. Gerda Ulrika                        | female | 22 | 0 | 0 | 7552             | 10.5167 | <!----> |\n",
       "| 884 | 884 | 0 | 2 | Banfield, Mr. Frederick James                       | male   | 28 | 0 | 0 | C.A./SOTON 34068 | 10.5000 | <!----> |\n",
       "| 885 | 885 | 0 | 3 | Sutehall, Mr. Henry Jr                              | male   | 25 | 0 | 0 | SOTON/OQ 392076  |  7.0500 | <!----> |\n",
       "| 886 | 886 | 0 | 3 | Rice, Mrs. William (Margaret Norton)                | female | 39 | 0 | 5 | 382652           | 29.1250 | <!----> |\n",
       "| 887 | 887 | 0 | 2 | Montvila, Rev. Juozas                               | male   | 27 | 0 | 0 | 211536           | 13.0000 | <!----> |\n",
       "| 888 | 888 | 1 | 1 | Graham, Miss. Margaret Edith                        | female | 19 | 0 | 0 | 112053           | 30.0000 | B42         |\n",
       "| 889 | 889 | 0 | 3 | Johnston, Miss. Catherine Helen \"Carrie\"            | female | NA | 1 | 2 | W./C. 6607       | 23.4500 | <!----> |\n",
       "| 890 | 890 | 1 | 1 | Behr, Mr. Karl Howell                               | male   | 26 | 0 | 0 | 111369           | 30.0000 | C148        |\n",
       "| 891 | 891 | 0 | 3 | Dooley, Mr. Patrick                                 | male   | 32 | 0 | 0 | 370376           |  7.7500 | <!----> |\n",
       "\n"
      ],
      "text/plain": [
       "    PassengerId Survived Pclass\n",
       "1    1          0        3     \n",
       "2    2          1        1     \n",
       "3    3          1        3     \n",
       "4    4          1        1     \n",
       "5    5          0        3     \n",
       "6    6          0        3     \n",
       "7    7          0        1     \n",
       "8    8          0        3     \n",
       "9    9          1        3     \n",
       "10  10          1        2     \n",
       "11  11          1        3     \n",
       "12  12          1        1     \n",
       "13  13          0        3     \n",
       "14  14          0        3     \n",
       "15  15          0        3     \n",
       "16  16          1        2     \n",
       "17  17          0        3     \n",
       "18  18          1        2     \n",
       "19  19          0        3     \n",
       "20  20          1        3     \n",
       "21  21          0        2     \n",
       "22  22          1        2     \n",
       "23  23          1        3     \n",
       "24  24          1        1     \n",
       "25  25          0        3     \n",
       "26  26          1        3     \n",
       "27  27          0        3     \n",
       "28  28          0        1     \n",
       "29  29          1        3     \n",
       "30  30          0        3     \n",
       "⋮   ⋮           ⋮        ⋮     \n",
       "862 862         0        2     \n",
       "863 863         1        1     \n",
       "864 864         0        3     \n",
       "865 865         0        2     \n",
       "866 866         1        2     \n",
       "867 867         1        2     \n",
       "868 868         0        1     \n",
       "869 869         0        3     \n",
       "870 870         1        3     \n",
       "871 871         0        3     \n",
       "872 872         1        1     \n",
       "873 873         0        1     \n",
       "874 874         0        3     \n",
       "875 875         1        2     \n",
       "876 876         1        3     \n",
       "877 877         0        3     \n",
       "878 878         0        3     \n",
       "879 879         0        3     \n",
       "880 880         1        1     \n",
       "881 881         1        2     \n",
       "882 882         0        3     \n",
       "883 883         0        3     \n",
       "884 884         0        2     \n",
       "885 885         0        3     \n",
       "886 886         0        3     \n",
       "887 887         0        2     \n",
       "888 888         1        1     \n",
       "889 889         0        3     \n",
       "890 890         1        1     \n",
       "891 891         0        3     \n",
       "    Name                                                      Sex    Age SibSp\n",
       "1   Braund, Mr. Owen Harris                                   male   22  1    \n",
       "2   Cumings, Mrs. John Bradley (Florence Briggs Thayer)       female 38  1    \n",
       "3   Heikkinen, Miss. Laina                                    female 26  0    \n",
       "4   Futrelle, Mrs. Jacques Heath (Lily May Peel)              female 35  1    \n",
       "5   Allen, Mr. William Henry                                  male   35  0    \n",
       "6   Moran, Mr. James                                          male   NA  0    \n",
       "7   McCarthy, Mr. Timothy J                                   male   54  0    \n",
       "8   Palsson, Master. Gosta Leonard                            male    2  3    \n",
       "9   Johnson, Mrs. Oscar W (Elisabeth Vilhelmina Berg)         female 27  0    \n",
       "10  Nasser, Mrs. Nicholas (Adele Achem)                       female 14  1    \n",
       "11  Sandstrom, Miss. Marguerite Rut                           female  4  1    \n",
       "12  Bonnell, Miss. Elizabeth                                  female 58  0    \n",
       "13  Saundercock, Mr. William Henry                            male   20  0    \n",
       "14  Andersson, Mr. Anders Johan                               male   39  1    \n",
       "15  Vestrom, Miss. Hulda Amanda Adolfina                      female 14  0    \n",
       "16  Hewlett, Mrs. (Mary D Kingcome)                           female 55  0    \n",
       "17  Rice, Master. Eugene                                      male    2  4    \n",
       "18  Williams, Mr. Charles Eugene                              male   NA  0    \n",
       "19  Vander Planke, Mrs. Julius (Emelia Maria Vandemoortele)   female 31  1    \n",
       "20  Masselmani, Mrs. Fatima                                   female NA  0    \n",
       "21  Fynney, Mr. Joseph J                                      male   35  0    \n",
       "22  Beesley, Mr. Lawrence                                     male   34  0    \n",
       "23  McGowan, Miss. Anna \"Annie\"                               female 15  0    \n",
       "24  Sloper, Mr. William Thompson                              male   28  0    \n",
       "25  Palsson, Miss. Torborg Danira                             female  8  3    \n",
       "26  Asplund, Mrs. Carl Oscar (Selma Augusta Emilia Johansson) female 38  1    \n",
       "27  Emir, Mr. Farred Chehab                                   male   NA  0    \n",
       "28  Fortune, Mr. Charles Alexander                            male   19  3    \n",
       "29  O'Dwyer, Miss. Ellen \"Nellie\"                             female NA  0    \n",
       "30  Todoroff, Mr. Lalio                                       male   NA  0    \n",
       "⋮   ⋮                                                         ⋮      ⋮   ⋮    \n",
       "862 Giles, Mr. Frederick Edward                               male   21  1    \n",
       "863 Swift, Mrs. Frederick Joel (Margaret Welles Barron)       female 48  0    \n",
       "864 Sage, Miss. Dorothy Edith \"Dolly\"                         female NA  8    \n",
       "865 Gill, Mr. John William                                    male   24  0    \n",
       "866 Bystrom, Mrs. (Karolina)                                  female 42  0    \n",
       "867 Duran y More, Miss. Asuncion                              female 27  1    \n",
       "868 Roebling, Mr. Washington Augustus II                      male   31  0    \n",
       "869 van Melkebeke, Mr. Philemon                               male   NA  0    \n",
       "870 Johnson, Master. Harold Theodor                           male    4  1    \n",
       "871 Balkic, Mr. Cerin                                         male   26  0    \n",
       "872 Beckwith, Mrs. Richard Leonard (Sallie Monypeny)          female 47  1    \n",
       "873 Carlsson, Mr. Frans Olof                                  male   33  0    \n",
       "874 Vander Cruyssen, Mr. Victor                               male   47  0    \n",
       "875 Abelson, Mrs. Samuel (Hannah Wizosky)                     female 28  1    \n",
       "876 Najib, Miss. Adele Kiamie \"Jane\"                          female 15  0    \n",
       "877 Gustafsson, Mr. Alfred Ossian                             male   20  0    \n",
       "878 Petroff, Mr. Nedelio                                      male   19  0    \n",
       "879 Laleff, Mr. Kristo                                        male   NA  0    \n",
       "880 Potter, Mrs. Thomas Jr (Lily Alexenia Wilson)             female 56  0    \n",
       "881 Shelley, Mrs. William (Imanita Parrish Hall)              female 25  0    \n",
       "882 Markun, Mr. Johann                                        male   33  0    \n",
       "883 Dahlberg, Miss. Gerda Ulrika                              female 22  0    \n",
       "884 Banfield, Mr. Frederick James                             male   28  0    \n",
       "885 Sutehall, Mr. Henry Jr                                    male   25  0    \n",
       "886 Rice, Mrs. William (Margaret Norton)                      female 39  0    \n",
       "887 Montvila, Rev. Juozas                                     male   27  0    \n",
       "888 Graham, Miss. Margaret Edith                              female 19  0    \n",
       "889 Johnston, Miss. Catherine Helen \"Carrie\"                  female NA  1    \n",
       "890 Behr, Mr. Karl Howell                                     male   26  0    \n",
       "891 Dooley, Mr. Patrick                                       male   32  0    \n",
       "    Parch Ticket           Fare     Cabin      \n",
       "1   0     A/5 21171          7.2500            \n",
       "2   0     PC 17599          71.2833 C85        \n",
       "3   0     STON/O2. 3101282   7.9250            \n",
       "4   0     113803            53.1000 C123       \n",
       "5   0     373450             8.0500            \n",
       "6   0     330877             8.4583            \n",
       "7   0     17463             51.8625 E46        \n",
       "8   1     349909            21.0750            \n",
       "9   2     347742            11.1333            \n",
       "10  0     237736            30.0708            \n",
       "11  1     PP 9549           16.7000 G6         \n",
       "12  0     113783            26.5500 C103       \n",
       "13  0     A/5. 2151          8.0500            \n",
       "14  5     347082            31.2750            \n",
       "15  0     350406             7.8542            \n",
       "16  0     248706            16.0000            \n",
       "17  1     382652            29.1250            \n",
       "18  0     244373            13.0000            \n",
       "19  0     345763            18.0000            \n",
       "20  0     2649               7.2250            \n",
       "21  0     239865            26.0000            \n",
       "22  0     248698            13.0000 D56        \n",
       "23  0     330923             8.0292            \n",
       "24  0     113788            35.5000 A6         \n",
       "25  1     349909            21.0750            \n",
       "26  5     347077            31.3875            \n",
       "27  0     2631               7.2250            \n",
       "28  2     19950            263.0000 C23 C25 C27\n",
       "29  0     330959             7.8792            \n",
       "30  0     349216             7.8958            \n",
       "⋮   ⋮     ⋮                ⋮        ⋮          \n",
       "862 0     28134            11.5000             \n",
       "863 0     17466            25.9292  D17        \n",
       "864 2     CA. 2343         69.5500             \n",
       "865 0     233866           13.0000             \n",
       "866 0     236852           13.0000             \n",
       "867 0     SC/PARIS 2149    13.8583             \n",
       "868 0     PC 17590         50.4958  A24        \n",
       "869 0     345777            9.5000             \n",
       "870 1     347742           11.1333             \n",
       "871 0     349248            7.8958             \n",
       "872 1     11751            52.5542  D35        \n",
       "873 0     695               5.0000  B51 B53 B55\n",
       "874 0     345765            9.0000             \n",
       "875 0     P/PP 3381        24.0000             \n",
       "876 0     2667              7.2250             \n",
       "877 0     7534              9.8458             \n",
       "878 0     349212            7.8958             \n",
       "879 0     349217            7.8958             \n",
       "880 1     11767            83.1583  C50        \n",
       "881 1     230433           26.0000             \n",
       "882 0     349257            7.8958             \n",
       "883 0     7552             10.5167             \n",
       "884 0     C.A./SOTON 34068 10.5000             \n",
       "885 0     SOTON/OQ 392076   7.0500             \n",
       "886 5     382652           29.1250             \n",
       "887 0     211536           13.0000             \n",
       "888 0     112053           30.0000  B42        \n",
       "889 2     W./C. 6607       23.4500             \n",
       "890 0     111369           30.0000  C148       \n",
       "891 0     370376            7.7500             "
      ]
     },
     "metadata": {},
     "output_type": "display_data"
    }
   ],
   "source": [
    "subset(df, select = -c(Embarked) )"
   ]
  },
  {
   "cell_type": "code",
   "execution_count": null,
   "metadata": {
    "ExecuteTime": {
     "end_time": "2019-10-21T08:52:41.656417Z",
     "start_time": "2019-10-21T08:52:41.645027Z"
    }
   },
   "outputs": [],
   "source": [
    "# Cleaning Cabin - removing column\n",
    "data_cleaned = data.drop(['Cabin'], axis=1)\n",
    "\n",
    "# Cleaning Embarked - removing rows with missing values\n",
    "data_cleaned.dropna(subset=[\"Embarked\"], inplace=True)\n",
    "\n",
    "# Cleaning Age - replacing by mean value\n",
    "data_cleaned[\"Age\"] = data[\"Age\"].fillna(data[\"Age\"].mean())"
   ]
  },
  {
   "cell_type": "markdown",
   "metadata": {
    "slideshow": {
     "slide_type": "subslide"
    }
   },
   "source": [
    "## I.2. Outliers"
   ]
  },
  {
   "cell_type": "markdown",
   "metadata": {},
   "source": [
    "Sometimes, it makes sense to remove some data points that are very far from your data distribution. \n",
    "\n",
    "This can be due to measurement error (broken sensor? bad manipulation? etc.) for example. \n",
    "\n",
    "<p align=\"center\">\n",
    "<img src=\"https://drive.google.com/uc?export=view&id=1_Ek5PqlAQIeX8Kk0GxNBS85PSaZXJ1SG\" width=\"300\">\n",
    "</p>\n",
    "\n",
    "> ⚠️ **Warning**: Of course, do not remove every data points that you think could be outliers just because \"it's more convenient\" and it gives better results. This is cheating. 🙃"
   ]
  },
  {
   "cell_type": "code",
   "execution_count": null,
   "metadata": {
    "ExecuteTime": {
     "end_time": "2019-10-21T08:52:42.958473Z",
     "start_time": "2019-10-21T08:52:42.943811Z"
    },
    "slideshow": {
     "slide_type": "slide"
    }
   },
   "outputs": [],
   "source": [
    "# We can already fit a model based on some of the existing features\n",
    "# Quiz: which features can you use?\n",
    "# SibSp = # of siblings / spouses aboard the Titanic\n",
    "# Parch = # of parents / children aboard the Titanic\n",
    "\n",
    "data_cleaned.head(n=2)"
   ]
  },
  {
   "cell_type": "code",
   "execution_count": null,
   "metadata": {
    "ExecuteTime": {
     "end_time": "2019-10-21T08:52:43.469947Z",
     "start_time": "2019-10-21T08:52:43.436685Z"
    },
    "scrolled": true
   },
   "outputs": [],
   "source": [
    "fit_lr_with_selected_features(data_cleaned, [\"Pclass\", \"Age\", \"Fare\", \"SibSp\", \"Parch\"])\n",
    "print(\"We have already an 67.4% accuracy by just using a few features.\\n\\\n",
    "It is better than random!\")"
   ]
  },
  {
   "cell_type": "markdown",
   "metadata": {},
   "source": [
    "## I.3. Duplicated data"
   ]
  },
  {
   "cell_type": "markdown",
   "metadata": {},
   "source": [
    "Sometimes, there are duplicated data. You want to remove those data, they can alter the performances of your model.\n",
    "\n",
    "You have the method `.duplicated()` that gives you the duplicates, and `drop_duplicates()` to remove them."
   ]
  },
  {
   "cell_type": "code",
   "execution_count": null,
   "metadata": {
    "ExecuteTime": {
     "end_time": "2019-10-21T08:50:21.734060Z",
     "start_time": "2019-10-21T08:50:21.717377Z"
    }
   },
   "outputs": [],
   "source": [
    "print(data_cleaned.duplicated().sum())"
   ]
  },
  {
   "cell_type": "markdown",
   "metadata": {},
   "source": [
    "Well, zero duplicates, so nothing to do! But always nice to check!"
   ]
  },
  {
   "cell_type": "markdown",
   "metadata": {
    "slideshow": {
     "slide_type": "subslide"
    }
   },
   "source": [
    "## I.4. Categorical data: Binary variables"
   ]
  },
  {
   "cell_type": "markdown",
   "metadata": {
    "slideshow": {
     "slide_type": "subslide"
    }
   },
   "source": [
    "How can we incorporate the `Sex` (string `M` of `S`) into the features X of our model?"
   ]
  },
  {
   "cell_type": "code",
   "execution_count": null,
   "metadata": {
    "ExecuteTime": {
     "end_time": "2019-07-16T11:10:05.187004Z",
     "start_time": "2019-07-16T11:10:05.159137Z"
    },
    "scrolled": true
   },
   "outputs": [],
   "source": [
    "# Adding `Sex` in the features will not work as it is a categorical data\n",
    "fit_lr_with_selected_features(data_cleaned, [\"Pclass\", \"Age\", \"Fare\", \"SibSp\", \"Parch\", \"Sex\"])"
   ]
  },
  {
   "cell_type": "markdown",
   "metadata": {},
   "source": [
    "#### Dealing with binary variables\n",
    "\n",
    "Our model needs to deal with figures in order to compute distances between data points."
   ]
  },
  {
   "cell_type": "markdown",
   "metadata": {},
   "source": [
    "##### Different ways to encode the `Sex` column\n",
    "\n",
    "- **Using `.loc`**"
   ]
  },
  {
   "cell_type": "code",
   "execution_count": null,
   "metadata": {
    "ExecuteTime": {
     "end_time": "2019-10-21T08:53:02.608358Z",
     "start_time": "2019-10-21T08:53:02.596860Z"
    }
   },
   "outputs": [],
   "source": [
    "# Using `.loc`\n",
    "data_cleaned['Sex'].loc[data_cleaned['Sex'] == 'male'] = 1\n",
    "data_cleaned['Sex'].loc[data_cleaned['Sex'] == 'female'] = 0"
   ]
  },
  {
   "cell_type": "markdown",
   "metadata": {},
   "source": [
    "- **Using `.apply()`**"
   ]
  },
  {
   "cell_type": "code",
   "execution_count": null,
   "metadata": {
    "ExecuteTime": {
     "end_time": "2019-07-16T11:09:08.188067Z",
     "start_time": "2019-07-16T11:09:03.954Z"
    }
   },
   "outputs": [],
   "source": [
    "def encode_sex(x):\n",
    "    if x == 'male':\n",
    "        return 1\n",
    "    else:\n",
    "        return 0"
   ]
  },
  {
   "cell_type": "code",
   "execution_count": null,
   "metadata": {
    "ExecuteTime": {
     "end_time": "2019-07-16T11:09:08.189995Z",
     "start_time": "2019-07-16T11:09:03.957Z"
    }
   },
   "outputs": [],
   "source": [
    "data_cleaned['Sex'] = data_cleaned['Sex'].apply(encode_sex)"
   ]
  },
  {
   "cell_type": "markdown",
   "metadata": {},
   "source": [
    "- **Using `.map()`**: we can map the binary variables to numbers: 0 for M and 1 for S for example (or the other way around)."
   ]
  },
  {
   "cell_type": "code",
   "execution_count": null,
   "metadata": {
    "ExecuteTime": {
     "end_time": "2019-07-16T11:09:08.192125Z",
     "start_time": "2019-07-16T11:09:03.961Z"
    }
   },
   "outputs": [],
   "source": [
    "genders = sorted(data_cleaned['Sex'].unique())\n",
    "genders"
   ]
  },
  {
   "cell_type": "code",
   "execution_count": null,
   "metadata": {
    "ExecuteTime": {
     "end_time": "2019-07-16T11:09:08.194178Z",
     "start_time": "2019-07-16T11:09:03.964Z"
    }
   },
   "outputs": [],
   "source": [
    "genders_mapping = dict(zip(genders, range(0, len(genders))))\n",
    "genders_mapping"
   ]
  },
  {
   "cell_type": "code",
   "execution_count": null,
   "metadata": {
    "ExecuteTime": {
     "end_time": "2019-07-16T11:09:08.196454Z",
     "start_time": "2019-07-16T11:09:03.968Z"
    }
   },
   "outputs": [],
   "source": [
    "data_cleaned[\"Sex\"] = data_cleaned['Sex'].map(genders_mapping).astype(int)"
   ]
  },
  {
   "cell_type": "markdown",
   "metadata": {},
   "source": [
    "We have now replaced the strings \"female\" and \"male\" in the `Sex` column with `0` and `1`."
   ]
  },
  {
   "cell_type": "code",
   "execution_count": null,
   "metadata": {
    "ExecuteTime": {
     "end_time": "2019-07-16T11:10:36.817554Z",
     "start_time": "2019-07-16T11:10:36.798717Z"
    }
   },
   "outputs": [],
   "source": [
    "data_cleaned.head()"
   ]
  },
  {
   "cell_type": "markdown",
   "metadata": {},
   "source": [
    "**Now we can use the newly encoded column `Sex` as a feature in our model !**"
   ]
  },
  {
   "cell_type": "code",
   "execution_count": null,
   "metadata": {
    "ExecuteTime": {
     "end_time": "2019-07-16T11:17:07.065687Z",
     "start_time": "2019-07-16T11:17:07.052158Z"
    },
    "scrolled": true
   },
   "outputs": [],
   "source": [
    "# Adding the encoded column `Sex` in the features\n",
    "fit_lr_with_selected_features(data_cleaned, [\"Pclass\", \"Age\", \"Fare\", \"SibSp\", \"Parch\", \"Sex\"])\n",
    "print(\"Yeah! 🎉 By adding the gender in the proper way, we went from 67% to 71% !\")"
   ]
  },
  {
   "cell_type": "markdown",
   "metadata": {},
   "source": [
    "## 1.5. Categorical data: dealing with polytomous variables with `pd.get_dummies()`"
   ]
  },
  {
   "cell_type": "markdown",
   "metadata": {},
   "source": [
    "Now suppose we want to incorporate the variable `Embarked` which corresponds to the harbour where the passenger embarked (C = Cherbourg, Q = Queenstown, S = Southampton)."
   ]
  },
  {
   "cell_type": "markdown",
   "metadata": {},
   "source": [
    "This time, we cannot say we will map C to 0, Q to 1 and S to 2, because it would mean: embarking at S has 2 times the effect of embarking at Q.\n",
    "\n",
    "This is ok for continuous variables (`Age`, `Fare`, etc.) as it can be seen as distance metrics.\n",
    "\n",
    "We will do what we call **dummy variables**: we simply add binary columns saying if yes (1) or no (0) the passenger embarked at the corresponding harbour."
   ]
  },
  {
   "cell_type": "code",
   "execution_count": null,
   "metadata": {
    "ExecuteTime": {
     "end_time": "2019-10-21T08:53:12.008505Z",
     "start_time": "2019-10-21T08:53:11.981683Z"
    }
   },
   "outputs": [],
   "source": [
    "# Transform Embarked from a string to dummy variables\n",
    "data_cleaned = pd.concat([data_cleaned,\n",
    "                          pd.get_dummies(data_cleaned['Embarked'],\n",
    "                                         prefix='Embarked_Val')], axis=1)\n",
    "data_cleaned.head(n=2)"
   ]
  },
  {
   "cell_type": "code",
   "execution_count": null,
   "metadata": {
    "ExecuteTime": {
     "end_time": "2019-07-16T11:17:23.341454Z",
     "start_time": "2019-07-16T11:17:23.324820Z"
    }
   },
   "outputs": [],
   "source": [
    "# Adding `Embarked_Val_C`, `Embarked_Val_Q`, `Embarked_Val_S` in the features\n",
    "fit_lr_with_selected_features(data_cleaned, [\"Pclass\", \"Age\", \"Fare\", \"SibSp\", \"Parch\", \"Sex\",\n",
    "                                             \"Embarked_Val_C\", \"Embarked_Val_Q\", \"Embarked_Val_S\"])\n",
    "print(\"Doh! 😓 This time the accuracy went down. We did nothing wrong but it can happen and \\\n",
    "we will see later why.\")"
   ]
  },
  {
   "cell_type": "markdown",
   "metadata": {},
   "source": [
    "___"
   ]
  },
  {
   "cell_type": "markdown",
   "metadata": {
    "slideshow": {
     "slide_type": "slide"
    }
   },
   "source": [
    "# II. Features"
   ]
  },
  {
   "cell_type": "markdown",
   "metadata": {},
   "source": [
    "Let's now talk about features (the columns/variables that you are going to feed to the model so that it can learn patterns).\n",
    "\n",
    "Most of the time, you are the one selecting the features and you need to select them carefully (the more the better, but beware of traps...) !"
   ]
  },
  {
   "cell_type": "markdown",
   "metadata": {
    "slideshow": {
     "slide_type": "subslide"
    }
   },
   "source": [
    "## II.1. Features can be redundant"
   ]
  },
  {
   "cell_type": "markdown",
   "metadata": {},
   "source": [
    "Remember the dummy variables `Embarked`? \n",
    "\n",
    "Do you think we need the 3 columns (`Embarked_Val_C`, `Embarked_Val_Q`, `Embarked_Val_S`) in our classifier?\n",
    "\n",
    "Nope! Knowing only two of them (no matter which two), we can get the value of the last one so keeping the 3 will not be more useful than keeping only 2."
   ]
  },
  {
   "cell_type": "code",
   "execution_count": null,
   "metadata": {
    "ExecuteTime": {
     "end_time": "2019-07-16T11:17:28.690298Z",
     "start_time": "2019-07-16T11:17:28.672446Z"
    },
    "scrolled": true
   },
   "outputs": [],
   "source": [
    "# If we remove one of the `Embarked_Val`, accuracy should not go down\n",
    "# (as a matter of fact, it even goes up !)\n",
    "fit_lr_with_selected_features(data_cleaned, [\"Pclass\", \"Age\", \"Fare\", \"SibSp\", \"Parch\", \"Sex\",\n",
    "                                             \"Embarked_Val_C\", \"Embarked_Val_Q\"])"
   ]
  },
  {
   "cell_type": "markdown",
   "metadata": {},
   "source": [
    ">**Hint** : Even better, you can automatically remove one column when using `get_dummies()` with the option `drop_first=True`"
   ]
  },
  {
   "cell_type": "markdown",
   "metadata": {
    "slideshow": {
     "slide_type": "subslide"
    }
   },
   "source": [
    "## II.2. Beware of traps! ⚠️"
   ]
  },
  {
   "cell_type": "markdown",
   "metadata": {},
   "source": [
    "What if you add `PassengerId` to the list of features to select?"
   ]
  },
  {
   "cell_type": "code",
   "execution_count": null,
   "metadata": {
    "ExecuteTime": {
     "end_time": "2019-07-16T11:17:41.253026Z",
     "start_time": "2019-07-16T11:17:41.237112Z"
    }
   },
   "outputs": [],
   "source": [
    "fit_lr_with_selected_features(data_cleaned, [\"PassengerId\", \"Pclass\", \"Age\", \"Fare\", \"SibSp\", \"Parch\",\n",
    "                                             \"Sex\", \"Embarked_Val_C\", \"Embarked_Val_Q\"])\n",
    "print(\"Accuracy improved...\\n⚠️ But we shouldn't use PassengerId, it is just an index of the table \\\n",
    "and should not be fed as info to the model\")"
   ]
  },
  {
   "cell_type": "markdown",
   "metadata": {
    "slideshow": {
     "slide_type": "slide"
    }
   },
   "source": [
    "## II.3. Feature Engineering"
   ]
  },
  {
   "cell_type": "markdown",
   "metadata": {},
   "source": [
    "Now, suppose we incoporated all possible features from the dataset that made sense. \n",
    "\n",
    "How can we even improve the performance of our model?"
   ]
  },
  {
   "cell_type": "markdown",
   "metadata": {
    "slideshow": {
     "slide_type": "subslide"
    }
   },
   "source": [
    "### II.3.A. Create new \"smart\" features"
   ]
  },
  {
   "cell_type": "markdown",
   "metadata": {},
   "source": [
    "We can enrich our dataset with new \"smart\" features that we create."
   ]
  },
  {
   "cell_type": "code",
   "execution_count": null,
   "metadata": {
    "ExecuteTime": {
     "end_time": "2019-07-16T11:17:45.144848Z",
     "start_time": "2019-07-16T11:17:45.125312Z"
    },
    "scrolled": true
   },
   "outputs": [],
   "source": [
    "# Quiz: what smart features can we create based on this data?\n",
    "data_cleaned.tail(n=3)"
   ]
  },
  {
   "cell_type": "markdown",
   "metadata": {},
   "source": [
    "> **Reminder**:\n",
    "- the python operator **`and`** is written with the **`&`** symbol in pandas and numpy.\n",
    "- the python operator **`or`** is written with the **`|`** symbol in pandas and numpy."
   ]
  },
  {
   "cell_type": "code",
   "execution_count": null,
   "metadata": {
    "ExecuteTime": {
     "end_time": "2019-10-21T08:53:21.300528Z",
     "start_time": "2019-10-21T08:53:21.277096Z"
    }
   },
   "outputs": [],
   "source": [
    "# What about we create a new binary feature, `isAlone`, equals to 1 if the passenger is alone on the ship\n",
    "data_cleaned['isAlone'] = ((data_cleaned['SibSp'] == 0) & (data_cleaned['Parch'] == 0)).astype(int)\n",
    "data_cleaned.head(n=3)"
   ]
  },
  {
   "cell_type": "code",
   "execution_count": null,
   "metadata": {
    "ExecuteTime": {
     "end_time": "2019-07-16T11:17:58.813452Z",
     "start_time": "2019-07-16T11:17:58.796827Z"
    },
    "scrolled": true
   },
   "outputs": [],
   "source": [
    "# What if we use this new feature? \n",
    "fit_lr_with_selected_features(data_cleaned, [\"Pclass\", \"Age\", \"Fare\", \"SibSp\", \"Parch\",\n",
    "                                             \"Sex\", \"Embarked_Val_C\", \"Embarked_Val_Q\",\n",
    "                                             \"isAlone\"])\n",
    "print(\"Accuracy decreased again.. Do not worry too much yet.\")"
   ]
  },
  {
   "cell_type": "code",
   "execution_count": null,
   "metadata": {
    "ExecuteTime": {
     "end_time": "2019-10-21T08:53:47.827455Z",
     "start_time": "2019-10-21T08:53:47.817416Z"
    }
   },
   "outputs": [],
   "source": [
    "# What if we create a new feature, categorizing the `Title` of the passenger (\"Mr.\", \"Mrs\", \"Miss\", )\n",
    "data_cleaned['Title'] = data_cleaned['Name'].str.split(' ').str[1]\n",
    "\n",
    "print(data_cleaned['Title'].value_counts())"
   ]
  },
  {
   "cell_type": "markdown",
   "metadata": {},
   "source": [
    "Let's put all titles that are not either Mr., Mrs. Miss. or Master. as a rare title and use that afterward"
   ]
  },
  {
   "cell_type": "code",
   "execution_count": null,
   "metadata": {
    "ExecuteTime": {
     "end_time": "2019-10-21T08:53:48.709811Z",
     "start_time": "2019-10-21T08:53:48.700707Z"
    }
   },
   "outputs": [],
   "source": [
    "data_cleaned.loc[~data_cleaned['Title'].isin(['Mr.', 'Mrs.', 'Miss.', 'Master.']), \"Title\"] = \"Rare_Title\""
   ]
  },
  {
   "cell_type": "code",
   "execution_count": null,
   "metadata": {
    "ExecuteTime": {
     "end_time": "2019-10-21T08:53:49.208477Z",
     "start_time": "2019-10-21T08:53:49.175122Z"
    }
   },
   "outputs": [],
   "source": [
    "data_cleaned = pd.concat([data_cleaned, pd.get_dummies(data_cleaned['Title'],\n",
    "                                                       prefix='Title_val')], axis=1)\n",
    "data_cleaned.tail(n=3)"
   ]
  },
  {
   "cell_type": "code",
   "execution_count": null,
   "metadata": {
    "ExecuteTime": {
     "end_time": "2019-10-21T08:53:49.720182Z",
     "start_time": "2019-10-21T08:53:49.698939Z"
    }
   },
   "outputs": [],
   "source": [
    "# What if we use this new feature? \n",
    "fit_lr_with_selected_features(data_cleaned, [\"Pclass\", \"Age\", \"Fare\", \"SibSp\", \"Parch\",\n",
    "                                             \"Sex\", \"Embarked_Val_C\", \"Embarked_Val_Q\",\n",
    "                                             \"isAlone\", \"Title_val_Mr.\", \"Title_val_Mrs.\",\n",
    "                                             \"Title_val_Rare_Title\", \"Title_val_Miss.\"])\n",
    "print(\"Accuracy increased this time!\")"
   ]
  },
  {
   "cell_type": "markdown",
   "metadata": {
    "slideshow": {
     "slide_type": "subslide"
    }
   },
   "source": [
    "### II.3.B. Enrich data with new features"
   ]
  },
  {
   "cell_type": "markdown",
   "metadata": {},
   "source": [
    "Sometimes, it can be really clever to enrich your data with **external** data in order to enrich your set of features.\n",
    "\n",
    "For example with open datasets, or API calls, etc."
   ]
  },
  {
   "cell_type": "markdown",
   "metadata": {},
   "source": [
    "___"
   ]
  },
  {
   "cell_type": "markdown",
   "metadata": {
    "slideshow": {
     "slide_type": "slide"
    }
   },
   "source": [
    "# III. Data scaling"
   ]
  },
  {
   "cell_type": "markdown",
   "metadata": {},
   "source": [
    "What do you think when you compare variables `Sex` vs variable `Fare`?"
   ]
  },
  {
   "cell_type": "code",
   "execution_count": null,
   "metadata": {
    "ExecuteTime": {
     "end_time": "2019-10-21T08:53:51.774790Z",
     "start_time": "2019-10-21T08:53:51.754754Z"
    }
   },
   "outputs": [],
   "source": [
    "features_to_use = [\"Pclass\", \"Age\", \"Fare\", \"SibSp\", \"Parch\",\n",
    "                   \"Sex\", \"Embarked_Val_C\", \"Embarked_Val_Q\",\n",
    "                   \"isAlone\", \"Title_val_Mr.\", \"Title_val_Mrs.\",\n",
    "                   \"Title_val_Rare_Title\", \"Title_val_Miss.\"] \n",
    "X = data_cleaned[features_to_use]\n",
    "X.head(n=2)"
   ]
  },
  {
   "cell_type": "markdown",
   "metadata": {},
   "source": [
    "`Age` has a **much bigger impact** during model's learning compared to `Sex`, because its values can vary between 0 and 80+ (while `Sex` is just 0 or 1).\n",
    "\n",
    "It is important to always **scale** your data, otherwise one might have too much weight compared to another."
   ]
  },
  {
   "cell_type": "code",
   "execution_count": null,
   "metadata": {
    "ExecuteTime": {
     "end_time": "2019-10-21T08:54:01.256963Z",
     "start_time": "2019-10-21T08:54:01.229876Z"
    },
    "scrolled": true
   },
   "outputs": [],
   "source": [
    "from sklearn.preprocessing import StandardScaler\n",
    "scaler = StandardScaler()\n",
    "scaler.fit(X)\n",
    "X_scaled = scaler.transform(X)\n",
    "print(X_scaled)"
   ]
  },
  {
   "cell_type": "code",
   "execution_count": null,
   "metadata": {
    "ExecuteTime": {
     "end_time": "2019-07-16T11:26:04.391201Z",
     "start_time": "2019-07-16T11:26:04.379739Z"
    }
   },
   "outputs": [],
   "source": [
    "lr = LogisticRegression()\n",
    "X_train, X_test, y_train, y_test = train_test_split(X_scaled,\n",
    "                                                    data_cleaned[\"Survived\"],\n",
    "                                                    test_size=0.2, \n",
    "                                                    random_state=0)\n",
    "lr.fit(X_train, y_train)\n",
    "lr_score = lr.score(X_test, y_test)\n",
    "print(lr_score)\n",
    "print(\"Accuracy slightly decreased... It can happen, you still need to scale your data.\")"
   ]
  },
  {
   "cell_type": "code",
   "execution_count": null,
   "metadata": {
    "ExecuteTime": {
     "end_time": "2019-07-16T11:26:50.958207Z",
     "start_time": "2019-07-16T11:26:50.898386Z"
    }
   },
   "outputs": [],
   "source": [
    "from sklearn.svm import SVC\n",
    "clf = SVC()\n",
    "\n",
    "# Fitting a SVM on unscaled data\n",
    "X_train, X_test, y_train, y_test = train_test_split(X,\n",
    "                                                    data_cleaned[\"Survived\"],\n",
    "                                                    test_size=0.2, \n",
    "                                                    random_state=0)\n",
    "\n",
    "clf.fit(X_train, y_train)\n",
    "clf_score = clf.score(X_test, y_test)\n",
    "print('SVC score with no scaling : ', clf_score)\n",
    "\n",
    "# Fitting a SVM on scaled data\n",
    "X_train, X_test, y_train, y_test = train_test_split(X_scaled,\n",
    "                                                    data_cleaned[\"Survived\"],\n",
    "                                                    test_size=0.2, \n",
    "                                                    random_state=0)\n",
    "\n",
    "clf.fit(X_train, y_train)\n",
    "clf_score = clf.score(X_test, y_test)\n",
    "print('SVC score with scaling : ', clf_score, '\\nWith a SVM, the accuracy increase following scaling of the data is much more obvious !')"
   ]
  },
  {
   "cell_type": "markdown",
   "metadata": {},
   "source": [
    "___"
   ]
  },
  {
   "cell_type": "markdown",
   "metadata": {
    "slideshow": {
     "slide_type": "slide"
    }
   },
   "source": [
    "# IV. Saving data"
   ]
  },
  {
   "cell_type": "markdown",
   "metadata": {},
   "source": [
    "What if you work on some data in a notebook and you want to load it somewhere else (in your source code, in another notebook, send it somewhere, etc.)?\n",
    "\n",
    "For now it only lives in Jupyter memory - and when you close it, you lose it."
   ]
  },
  {
   "cell_type": "markdown",
   "metadata": {},
   "source": [
    "**Pickle** to the rescue! 🥗\n",
    "\n",
    "2 functions you must know:\n",
    "- `pickle.dump(obj, file)`\n",
    "- `obj = pickle.load(file)`\n",
    "\n",
    "> ⚠️ **Warning**: `file` does not refer to the path but to the the opened file (for example: `open(path_to_file, \"wb\")`) "
   ]
  },
  {
   "cell_type": "markdown",
   "metadata": {
    "slideshow": {
     "slide_type": "slide"
    }
   },
   "source": [
    "## IV.1. Saving pickle"
   ]
  },
  {
   "cell_type": "code",
   "execution_count": null,
   "metadata": {
    "ExecuteTime": {
     "end_time": "2019-07-16T11:24:22.609936Z",
     "start_time": "2019-07-16T11:24:22.475306Z"
    }
   },
   "outputs": [],
   "source": [
    "!ls"
   ]
  },
  {
   "cell_type": "code",
   "execution_count": null,
   "metadata": {
    "ExecuteTime": {
     "end_time": "2019-10-21T08:54:07.897744Z",
     "start_time": "2019-10-21T08:54:07.890995Z"
    }
   },
   "outputs": [],
   "source": [
    "import pickle\n",
    "\n",
    "with open('data_cleaned.pkl', 'wb') as f:\n",
    "    pickle.dump(data_cleaned, f)\n",
    "\n",
    "# > 🔦 Hint: In \"wb\", w means that you allow \"write\" access to the file\n",
    "# and b refers to binary mode. This means that the data will be written in byte objects"
   ]
  },
  {
   "cell_type": "code",
   "execution_count": null,
   "metadata": {
    "ExecuteTime": {
     "end_time": "2019-07-16T11:24:24.941016Z",
     "start_time": "2019-07-16T11:24:24.812140Z"
    }
   },
   "outputs": [],
   "source": [
    "!ls"
   ]
  },
  {
   "cell_type": "markdown",
   "metadata": {
    "slideshow": {
     "slide_type": "slide"
    }
   },
   "source": [
    "## IV.2. Loading pickle"
   ]
  },
  {
   "cell_type": "code",
   "execution_count": null,
   "metadata": {
    "ExecuteTime": {
     "end_time": "2019-10-21T08:54:10.272452Z",
     "start_time": "2019-10-21T08:54:10.239060Z"
    },
    "scrolled": false
   },
   "outputs": [],
   "source": [
    "with open(\"data_cleaned.pkl\", \"rb\") as f:\n",
    "    data_pickle = pickle.load(f)\n",
    "\n",
    "data_pickle.head()"
   ]
  },
  {
   "cell_type": "code",
   "execution_count": null,
   "metadata": {},
   "outputs": [],
   "source": []
  },
  {
   "cell_type": "code",
   "execution_count": null,
   "metadata": {},
   "outputs": [],
   "source": []
  }
 ],
 "metadata": {
  "kernelspec": {
   "display_name": "R",
   "language": "R",
   "name": "ir"
  },
  "language_info": {
   "codemirror_mode": "r",
   "file_extension": ".r",
   "mimetype": "text/x-r-source",
   "name": "R",
   "pygments_lexer": "r",
   "version": "3.4.4"
  }
 },
 "nbformat": 4,
 "nbformat_minor": 2
}
