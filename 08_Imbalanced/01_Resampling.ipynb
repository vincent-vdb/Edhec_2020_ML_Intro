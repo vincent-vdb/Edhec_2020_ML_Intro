{
 "cells": [
  {
   "cell_type": "markdown",
   "metadata": {
    "slideshow": {
     "slide_type": "slide"
    }
   },
   "source": [
    "# Resampling methods"
   ]
  },
  {
   "cell_type": "markdown",
   "metadata": {
    "slideshow": {
     "slide_type": "slide"
    }
   },
   "source": [
    "# I. Imbalanced datasets"
   ]
  },
  {
   "cell_type": "markdown",
   "metadata": {},
   "source": [
    "For customer churn, as well as for many other problems, datasets might be **imbalanced**.\n",
    "\n",
    "Imbalanced datasets need a special treatment."
   ]
  },
  {
   "cell_type": "markdown",
   "metadata": {
    "slideshow": {
     "slide_type": "subslide"
    }
   },
   "source": [
    "## I.1. Reminder: Imbalanced data and the accuracy paradox"
   ]
  },
  {
   "cell_type": "markdown",
   "metadata": {
    "slideshow": {
     "slide_type": "subslide"
    }
   },
   "source": [
    "Let's start with an example. Imagine a rare disease that occurs only for 2 over 100 tested patients. We have a set of features to predict whether a patient is infected or not.\n",
    "\n",
    "This is a basic binary classification problem with the following data:\n",
    "- class 0: the patient is not infected (98% of the whole dataset)\n",
    "- class 1: the patient is infected (2% of the whole dataset)\n",
    "\n",
    "Therefore, a machine learning model that **always** predicts **class 0** would have an **accuracy of 98%** 😱.\n",
    "\n",
    ">⚠️ This is called the **accuracy paradox**: with highly **imbalanced dataset** (i.e. most of the samples belong to the same class), the accuracy is not a good evaluation metric.\n",
    "\n",
    "What can we use? What other metrics do we know?"
   ]
  },
  {
   "cell_type": "markdown",
   "metadata": {
    "slideshow": {
     "slide_type": "subslide"
    }
   },
   "source": [
    "## I.2. Reminder : Performance measurement with imbalanced dataset"
   ]
  },
  {
   "cell_type": "markdown",
   "metadata": {
    "slideshow": {
     "slide_type": "fragment"
    }
   },
   "source": [
    "Well, we also know the following metrics:\n",
    "- Precision\n",
    "- Recall\n",
    "- F1-score\n",
    "- ROC\n",
    "- ROC AUC\n",
    "\n",
    "➡️ Let's see how these metrics would work on our example :"
   ]
  },
  {
   "cell_type": "markdown",
   "metadata": {
    "slideshow": {
     "slide_type": "subslide"
    }
   },
   "source": [
    "<p align=\"center\">\n",
    "<img src=\"https://drive.google.com/uc?export=view&id=1l9qPad4Cngz2EO7ODykHvfgjsbY1hxU0\">\n",
    "</p>"
   ]
  },
  {
   "cell_type": "markdown",
   "metadata": {
    "slideshow": {
     "slide_type": "subslide"
    }
   },
   "source": [
    "- **Accuracy:**\n",
    "\n",
    "$$Accuracy = \\frac{TP + TN}{TP + TN + FN + FP} = \\frac{980}{1000} = \\text{98% (too good = irrelevant ? 👎)}$$"
   ]
  },
  {
   "cell_type": "markdown",
   "metadata": {
    "slideshow": {
     "slide_type": "subslide"
    }
   },
   "source": [
    "- **Precision**\n",
    "\n",
    "$$Precision = \\frac{TP}{TP + FP} = \\frac{1}{12} = \\text{8.3%  (not good 👎)}$$  "
   ]
  },
  {
   "cell_type": "markdown",
   "metadata": {
    "slideshow": {
     "slide_type": "subslide"
    }
   },
   "source": [
    "- **Recall**\n",
    "\n",
    "$$Recall = \\frac{TP}{P} = \\frac{TP}{TP + FN} = \\frac{1}{10} = \\text{10%  (not good either 👎)}$$  "
   ]
  },
  {
   "cell_type": "markdown",
   "metadata": {
    "slideshow": {
     "slide_type": "subslide"
    }
   },
   "source": [
    "- **F1-score**\n",
    "\n",
    "$$F1\\_score = \\frac{2 * (Precision * Recall)}{Precision + Recall} = \\frac{1.66}{0.183} = \\text{9.1%  (not good either 👎)}$$  \n",
    "\n",
    "> ⚠️What do you think about this model? Even with an accuracy of 98%, would you use it in real life?"
   ]
  },
  {
   "cell_type": "markdown",
   "metadata": {},
   "source": [
    "- **ROC Curve** and **ROC AUC score** : it is not very relevant on this very simple dataset because we only have one point to plot (*see plot below* 👇🏻)"
   ]
  },
  {
   "cell_type": "markdown",
   "metadata": {
    "slideshow": {
     "slide_type": "subslide"
    }
   },
   "source": [
    "➡️ Just as a reminder, we can compute all those metrics using **`sklearn`**:"
   ]
  },
  {
   "cell_type": "code",
   "execution_count": 1,
   "metadata": {
    "slideshow": {
     "slide_type": "fragment"
    }
   },
   "outputs": [
    {
     "name": "stdout",
     "output_type": "stream",
     "text": [
      "accuracy: 0.98\n",
      "precision: 0.08333333333333333\n",
      "recall: 0.1\n",
      "F1-score: 0.0909090909090909\n",
      "ROC AUC score: 0.5444444444444445\n",
      "\n",
      "Classification report\n",
      "              precision    recall  f1-score   support\n",
      "\n",
      "         0.0       0.99      0.99      0.99       990\n",
      "         1.0       0.08      0.10      0.09        10\n",
      "\n",
      "    accuracy                           0.98      1000\n",
      "   macro avg       0.54      0.54      0.54      1000\n",
      "weighted avg       0.98      0.98      0.98      1000\n",
      "\n"
     ]
    }
   ],
   "source": [
    "# imports\n",
    "import numpy as np\n",
    "import matplotlib.pyplot as plt\n",
    "from sklearn.metrics import precision_score, accuracy_score, recall_score, f1_score, roc_curve, roc_auc_score, classification_report\n",
    "\n",
    "# recreate the dataset above\n",
    "y_true = np.zeros(1000)\n",
    "y_true[-10:]=1\n",
    "y_pred = np.zeros(1000)\n",
    "y_pred[:11]=1\n",
    "y_pred[-1:] = 1\n",
    "\n",
    "# compute the scores\n",
    "print('accuracy:', accuracy_score(y_true, y_pred))\n",
    "print('precision:', precision_score(y_true, y_pred))\n",
    "print('recall:', recall_score(y_true, y_pred))\n",
    "print('F1-score:', f1_score(y_true, y_pred))\n",
    "print('ROC AUC score:', roc_auc_score(y_true, y_pred))\n",
    "\n",
    "# Or directly with a classification report\n",
    "print()\n",
    "print(\"Classification report\")\n",
    "print(classification_report(y_true, y_pred))\n"
   ]
  },
  {
   "cell_type": "code",
   "execution_count": 2,
   "metadata": {
    "scrolled": true
   },
   "outputs": [
    {
     "data": {
      "image/png": "[encoded data removed]",
      "text/plain": [
       "<Figure size 432x288 with 1 Axes>"
      ]
     },
     "metadata": {
      "needs_background": "light"
     },
     "output_type": "display_data"
    }
   ],
   "source": [
    "# ROC Curve\n",
    "fpr, tpr, thresholds = roc_curve(y_true, y_pred)\n",
    "\n",
    "plt.figure()\n",
    "plt.plot(fpr, tpr)\n",
    "plt.title(\"ROC curve\")\n",
    "plt.xlabel(\"False positive rate\")\n",
    "plt.ylabel(\"True positive rate\")\n",
    "plt.show()"
   ]
  },
  {
   "cell_type": "markdown",
   "metadata": {},
   "source": [
    "# II. Undersampling"
   ]
  },
  {
   "cell_type": "markdown",
   "metadata": {},
   "source": [
    "The first possible approach is to undersample the initial dataset : we keep **all the observations from underrepresented class** (here *infected*) and only **a subsample of the overrepresented class**.\n",
    "\n",
    "\n",
    "➡️ Let's look again at our example.\n",
    "\n",
    "- Initially, we only have $\\frac{10}{1000} = 1\\%$ of infected samples.\n",
    "\n",
    "<p align=\"center\">\n",
    "<img src=\"https://drive.google.com/uc?export=view&id=1km6oDS-w_n619uh95oHR93VxFuz7DuTl\">\n",
    "</p>\n",
    "\n",
    "- We apply a **Random Undersampling** : we keep the 10 infected samples and select randomly 90 not infected samples.\n",
    " \n",
    "<p align=\"center\">\n",
    "<img src=\"https://drive.google.com/uc?export=view&id=1kf4FeJvjFJ6-rz3n-KBtrF12-bV2RRIs\">\n",
    "</p>\n",
    " \n",
    "- We now have $\\frac{10}{100} = 10\\%$ of infected samples:  our dataset is **much less imbalanced** !"
   ]
  },
  {
   "cell_type": "markdown",
   "metadata": {},
   "source": [
    "> ⚠️ The drawback is that we **loose many potentially useful samples** and we **may not keep the original distribution shape** of our data."
   ]
  },
  {
   "cell_type": "markdown",
   "metadata": {},
   "source": [
    "###  Implementation with `imblearn`\n",
    "This method can be applied using the **`imbalanced-learn`** library. If needed, you can install it with :\n",
    "```bash\n",
    "conda install imbalanced-learn\n",
    "```\n",
    "\n",
    "In particular, you may use the following class:\n",
    "\n",
    "```python\n",
    "class imblearn.under_sampling.RandomUnderSampler(sampling_strategy='auto', return_indices=False, random_state=None, replacement=False, ratio=None)\n",
    "```\n",
    "\n",
    "You can find an example and more details about undersampling implementation [on the Imbalanced Learn website](https://imbalanced-learn.readthedocs.io/en/stable/under_sampling.html)."
   ]
  },
  {
   "cell_type": "markdown",
   "metadata": {},
   "source": [
    "## III. Oversampling"
   ]
  },
  {
   "cell_type": "markdown",
   "metadata": {},
   "source": [
    "## III.1. Random oversampling"
   ]
  },
  {
   "cell_type": "markdown",
   "metadata": {},
   "source": [
    "This is the exact opposite approach : instead of removing some overrepresented class samples (here *not infected*), we would **artificially add some underrepresented class samples** (here *infected*).\n",
    "- The **most naive way** of doing this would be to **duplicate underrepresented labels**. For example in our example you would duplicate the 10 *infected* samples 10 times, thus having 100 *infected* labels. This technique has drawbacks, it does not create new information and **may lead to overfitting on the duplicated data**."
   ]
  },
  {
   "cell_type": "markdown",
   "metadata": {},
   "source": [
    "## III.2. SMOTE"
   ]
  },
  {
   "cell_type": "markdown",
   "metadata": {},
   "source": [
    "- A **smarter way** of oversampling is the *Synthetic Minority Oversampling Technique* (SMOTE). \n",
    "\n",
    "The idea is to **create new samples** using a **`k-NN`** on original data. To do so, a new sample $x_{new}$ will be computed based on the *k* nearest neighboors of an already existing sample $x_i$ with the following formula:\n",
    "\n",
    "$$\n",
    "x_{new} = x_i + \\lambda \\times (x_{zi} - x_i)\n",
    "$$\n",
    "\n",
    "Where:\n",
    "- $x_{zi}$ is one of the $k$ nearest neighboors of $x_i$ \n",
    "- $\\lambda$ is a random value between 0 and 1"
   ]
  },
  {
   "cell_type": "markdown",
   "metadata": {},
   "source": [
    "<p align=\"center\">\n",
    "<img src=\"https://drive.google.com/uc?export=view&id=1S7iiSzQxlajEPPRX_rwgf-TKeeT4uGmt\">\n",
    "</p>"
   ]
  },
  {
   "cell_type": "markdown",
   "metadata": {},
   "source": [
    "### Implementation with `imblearn`\n",
    "\n",
    "SMOTE can also be computed using the **`imbalanced-learn`** library, with the following class:\n",
    "\n",
    "```python\n",
    "class imblearn.over_sampling.SMOTE(sampling_strategy='auto', random_state=None, k_neighbors=5, m_neighbors='deprecated', out_step='deprecated', kind='deprecated', svm_estimator='deprecated', n_jobs=1, ratio=None)\n",
    "```\n",
    "\n",
    "You can see great examples and implementations [on the Imbalanced Learn website](https://imbalanced-learn.readthedocs.io/en/stable/over_sampling.html#a-practical-guide)."
   ]
  },
  {
   "cell_type": "markdown",
   "metadata": {},
   "source": [
    "## IV. More advanced techniques"
   ]
  },
  {
   "cell_type": "markdown",
   "metadata": {},
   "source": [
    "Just for information, there are other more advanced techniques, we will just mention some of them here :\n",
    "* Ensemble learning with different resampled data and always keeping the underrepresented class\n",
    "* Clustering the overrepresented class and keep only the clusters centers"
   ]
  }
 ],
 "metadata": {
  "celltoolbar": "Slideshow",
  "kernelspec": {
   "display_name": "Python 3",
   "language": "python",
   "name": "python3"
  },
  "language_info": {
   "codemirror_mode": {
    "name": "ipython",
    "version": 3
   },
   "file_extension": ".py",
   "mimetype": "text/x-python",
   "name": "python",
   "nbconvert_exporter": "python",
   "pygments_lexer": "ipython3",
   "version": "3.7.4"
  },
  "toc": {
   "base_numbering": 1,
   "nav_menu": {},
   "number_sections": false,
   "sideBar": true,
   "skip_h1_title": false,
   "title_cell": "Table of Contents",
   "title_sidebar": "Contents",
   "toc_cell": false,
   "toc_position": {},
   "toc_section_display": true,
   "toc_window_display": true
  },
  "varInspector": {
   "cols": {
    "lenName": 16,
    "lenType": 16,
    "lenVar": 40
   },
   "kernels_config": {
    "python": {
     "delete_cmd_postfix": "",
     "delete_cmd_prefix": "del ",
     "library": "var_list.py",
     "varRefreshCmd": "print(var_dic_list())"
    },
    "r": {
     "delete_cmd_postfix": ") ",
     "delete_cmd_prefix": "rm(",
     "library": "var_list.r",
     "varRefreshCmd": "cat(var_dic_list()) "
    }
   },
   "types_to_exclude": [
    "module",
    "function",
    "builtin_function_or_method",
    "instance",
    "_Feature"
   ],
   "window_display": false
  }
 },
 "nbformat": 4,
 "nbformat_minor": 2
}
