{
 "cells": [
  {
   "cell_type": "markdown",
   "metadata": {
    "slideshow": {
     "slide_type": "slide"
    }
   },
   "source": [
    "# Machine Learning Introduction"
   ]
  },
  {
   "cell_type": "markdown",
   "metadata": {},
   "source": [
    "Vincent Vandenbussche\n",
    "\n",
    "- PhD in Physics defended in 2014\n",
    "- Experience in large companies: GE Healthcare, Renault, L'Oréal\n",
    "- Experience in academic research: CNRS, CEA\n",
    "- Experience in startups: Easyrecrue, Suricog, Adventure Conseil...\n",
    "- Founded a startup: Vivadata, a data science bootcamp"
   ]
  },
  {
   "cell_type": "markdown",
   "metadata": {
    "slideshow": {
     "slide_type": "subslide"
    }
   },
   "source": [
    "## Course overview"
   ]
  },
  {
   "cell_type": "markdown",
   "metadata": {
    "slideshow": {
     "slide_type": "fragment"
    }
   },
   "source": [
    "Introduction to Machine Learning:\n",
    "- ML Intro and classification reminders\n",
    "- Data preparation and Model Evaluation\n",
    "- Regularization & Optimization\n",
    "- Decisions Trees and Random Forest\n",
    "- Boosting and Gradient Boosting\n",
    "\n",
    "If we have enough time:\n",
    "- Imbalanced Datasets and anomaly detection\n",
    "- Dimensionality Reduction and clustering\n",
    "- More classification with SVMs, k-NNs, Naive Bayes"
   ]
  },
  {
   "cell_type": "markdown",
   "metadata": {
    "slideshow": {
     "slide_type": "slide"
    }
   },
   "source": [
    "# What is ML?"
   ]
  },
  {
   "cell_type": "markdown",
   "metadata": {
    "slideshow": {
     "slide_type": "subslide"
    }
   },
   "source": [
    "## ML or not ML?"
   ]
  },
  {
   "cell_type": "markdown",
   "metadata": {
    "slideshow": {
     "slide_type": "fragment"
    }
   },
   "source": [
    "Let's have a quizz: ML or not ML?\n",
    "- Google Translate\n",
    "- Netflix movie recommendation\n",
    "- Snapchat/TikTok filters\n",
    "- Uber driver selection\n",
    "- Face recognition\n",
    "- Siri / Google Home / Amazon Alexa...\n",
    "- Chatbots\n",
    "- Google research\n",
    "- Auto correct word\n",
    "- Google Maps\n",
    "- Flight booking\n",
    "- Fraud detection"
   ]
  },
  {
   "cell_type": "markdown",
   "metadata": {
    "slideshow": {
     "slide_type": "subslide"
    }
   },
   "source": [
    "## A.I vs Machine Learning vs Deep Learning"
   ]
  },
  {
   "cell_type": "markdown",
   "metadata": {
    "slideshow": {
     "slide_type": "fragment"
    }
   },
   "source": [
    "![](ai_ml_dl.png)"
   ]
  },
  {
   "cell_type": "markdown",
   "metadata": {
    "slideshow": {
     "slide_type": "subslide"
    }
   },
   "source": [
    "## A brief history of Machine Learning"
   ]
  },
  {
   "cell_type": "markdown",
   "metadata": {
    "slideshow": {
     "slide_type": "fragment"
    }
   },
   "source": [
    "A non exhaustive timeline:\n",
    "\n",
    "### Alan Turing\n",
    "\n",
    "<p align=\"center\">\n",
    "<img src=\"https://drive.google.com/uc?export=view&id=16I3OtO2dgcy7zHW0nvcRYQNyLWewAWXm\">\n",
    "</p>\n",
    "\n",
    "Turing is widely considered to be the **father of theoretical computer science and artificial intelligence**.\n",
    "\n",
    "In 1950 Alan Turing published a landmark paper in which he speculated about the possibility of creating machines that think. If a machine could carry on a conversation that was indistinguishable from a conversation with a human being, then it was reasonable to say that the machine was \"thinking\".\n",
    "\n",
    "The [Turing Test](https://en.wikipedia.org/wiki/Turing_test) was the first serious proposal in the **philosophy of artificial intelligence**. \n",
    "\n",
    "> “I do not see why it (the machine) should not enter any one of the fields normally covered by the human intellect, and eventually compete on equal terms. I do not think you even draw the line about sonnets, though the comparison is perhaps a little bit unfair because a sonnet written by a machine will be better appreciated by another machine.”\n",
    "> \n",
    "> Alan Turing, _The London Times_, 1949"
   ]
  },
  {
   "cell_type": "markdown",
   "metadata": {
    "slideshow": {
     "slide_type": "subslide"
    }
   },
   "source": [
    "### Walter Pitts & Warren McCulloch\n",
    "\n",
    "<p align=\"center\">\n",
    "<img src=\"https://drive.google.com/uc?export=view&id=1bD4ITkBz0y69JXppGhCZ42lgxDp-oxo5\" width=\"400\">\n",
    "</p>\n",
    "\n",
    "Inspired by work in neurology, **Walter Pitts** and **Warren McCulloch** analyzed networks of idealized artificial neurons and showed how they might perform simple logical functions.\n",
    "\n",
    "They were the first to describe what later researchers would call a **neural network**."
   ]
  },
  {
   "cell_type": "markdown",
   "metadata": {
    "slideshow": {
     "slide_type": "subslide"
    }
   },
   "source": [
    "### Marvin Minsky\n",
    "\n",
    "<p align=\"center\">\n",
    "<img src=\"https://drive.google.com/uc?export=view&id=1_4Yg4RPJqqfNIIy7hfSeWH1De1TgYUZ8\" width=\"200\">\n",
    "</p>\n",
    "\n",
    "One of the students inspired by Pitts and McCulloch was a young **Marvin Minsky**, then a 24-year-old graduate student.\n",
    "\n",
    "In 1951 (with Dean Edmonds) he built the first **neural net machine**, the SNARC. With the SNARC, Minksky built a  first ANN (Artificial Neural Network) that could simulate a rat finding its way through a maze.\n",
    "\n",
    "At that time, Minsky’s work and theory went largely unnoticed by the public and was rejected by most AI researchers until computing power had reached a level where results could be clearly demonstrated.\n",
    "\n",
    "> *Within our lifetime, machines may surpass us in general intelligence.*\n",
    ">\n",
    "> Marvin Minsky, 1951"
   ]
  },
  {
   "cell_type": "markdown",
   "metadata": {
    "slideshow": {
     "slide_type": "subslide"
    }
   },
   "source": [
    "But also many more names like:\n",
    "- Arthur Samuel\n",
    "- Geoffrey Hinton\n",
    "- Frank Rosenblatt\n",
    "- ..."
   ]
  },
  {
   "cell_type": "markdown",
   "metadata": {
    "slideshow": {
     "slide_type": "subslide"
    }
   },
   "source": [
    "### A brief timeline of the A.I. field\n",
    "\n",
    "A.I. has a long history behind it, with a series of successes and of failures and disappointments (see [A.I. winter](https://en.wikipedia.org/wiki/AI_winter) for example). \n",
    "\n",
    "> 📚 **Resources**: The history behind A.I. is long and fascinating. Check [History of AI on Wikipedia](https://en.wikipedia.org/wiki/History_of_artificial_intelligence) to dig deeper.\n",
    "\n",
    "![](https://drive.google.com/uc?export=view&id=1kUh0wO82soPDiXzGo8TEevfgzSkGZlto)"
   ]
  },
  {
   "cell_type": "markdown",
   "metadata": {},
   "source": [
    "> Most ideas are pretty old, so why is everybody using ML now?"
   ]
  },
  {
   "cell_type": "markdown",
   "metadata": {
    "slideshow": {
     "slide_type": "subslide"
    }
   },
   "source": [
    "## The current AI hype\n",
    "\n",
    "Probably several main reasons:\n",
    "- Increase of computing power\n",
    "- Exponential increase of the data available\n",
    "\n",
    "![](data_amount_evolution.png)\n",
    "\n",
    "- Active research field with exponential [increase of papers](https://web.media.mit.edu/~mrfrank/papers/nmi2019.pdf)\n",
    "![](ai_paper_evol.png)\n",
    "\n",
    "- Better and wider access to knowledge and tools\n",
    "\n"
   ]
  },
  {
   "cell_type": "markdown",
   "metadata": {
    "slideshow": {
     "slide_type": "subslide"
    }
   },
   "source": [
    "## Some examples of ML applications"
   ]
  },
  {
   "cell_type": "markdown",
   "metadata": {
    "slideshow": {
     "slide_type": "subslide"
    }
   },
   "source": [
    "### 🚙 Autonomous driving\n",
    "\n",
    "![](https://drive.google.com/uc?export=view&id=1lDltwLk02Am5bsINiqk4u33oABQfawcA)"
   ]
  },
  {
   "cell_type": "markdown",
   "metadata": {
    "slideshow": {
     "slide_type": "subslide"
    }
   },
   "source": [
    "### 🚙 Autonomous driving\n",
    "\n",
    "![](https://drive.google.com/uc?export=view&id=1gdJKYzGMtA3KSOD2JS8s53Wp3pzfDwVr)"
   ]
  },
  {
   "cell_type": "markdown",
   "metadata": {
    "slideshow": {
     "slide_type": "subslide"
    }
   },
   "source": [
    "### 🌆 Smart City\n",
    "\n",
    "<p align=\"center\">\n",
    "<img src=\"https://drive.google.com/uc?export=view&id=1D7JgBRhPLk-83ozMeDVh30mxWlsV3RnT\">\n",
    "</p>"
   ]
  },
  {
   "cell_type": "markdown",
   "metadata": {
    "slideshow": {
     "slide_type": "subslide"
    }
   },
   "source": [
    "### 🔬 Health\n",
    "\n",
    "<p align=\"center\">\n",
    "<img src=\"https://drive.google.com/uc?export=view&id=1hn0rFBFMpE1PqpjTrl61xMnbbGmQ8hss\" width=\"70%\">\n",
    "</p>"
   ]
  },
  {
   "cell_type": "markdown",
   "metadata": {
    "slideshow": {
     "slide_type": "subslide"
    }
   },
   "source": [
    "### 🏪 Amazon cashierless stores\n",
    "\n",
    "<p align=\"center\">\n",
    "<img src=\"https://drive.google.com/uc?export=view&id=1RQ1rBiICTtyRTvsAHMcj_0Zu-xb4CKrL\">\n",
    "</p>"
   ]
  },
  {
   "cell_type": "markdown",
   "metadata": {
    "slideshow": {
     "slide_type": "subslide"
    }
   },
   "source": [
    "### 🎙 Home Assistants\n",
    "\n",
    "![](https://drive.google.com/uc?export=view&id=1RpkMLUsAyIgzJvdGnUi7d5UUEcajEY4G)"
   ]
  },
  {
   "cell_type": "markdown",
   "metadata": {
    "slideshow": {
     "slide_type": "fragment"
    }
   },
   "source": [
    "..."
   ]
  },
  {
   "cell_type": "markdown",
   "metadata": {
    "slideshow": {
     "slide_type": "-"
    }
   },
   "source": [
    "___"
   ]
  },
  {
   "cell_type": "markdown",
   "metadata": {
    "slideshow": {
     "slide_type": "slide"
    }
   },
   "source": [
    "# The ML paradigm"
   ]
  },
  {
   "cell_type": "markdown",
   "metadata": {
    "slideshow": {
     "slide_type": "subslide"
    }
   },
   "source": [
    "## Think like a ML algorithm"
   ]
  },
  {
   "cell_type": "markdown",
   "metadata": {
    "slideshow": {
     "slide_type": "subslide"
    }
   },
   "source": [
    "Let's play a game and think like a ML algorithm:\n",
    "\n",
    "![](Famous-Logos.jpg)"
   ]
  },
  {
   "cell_type": "markdown",
   "metadata": {},
   "source": [
    "Using Machine Learning is a change of paradigm:"
   ]
  },
  {
   "cell_type": "markdown",
   "metadata": {},
   "source": [
    "![](ml_paradigm.png)"
   ]
  },
  {
   "cell_type": "markdown",
   "metadata": {
    "slideshow": {
     "slide_type": "subslide"
    }
   },
   "source": [
    "## How to use a Machine Learning model"
   ]
  },
  {
   "cell_type": "markdown",
   "metadata": {
    "slideshow": {
     "slide_type": "fragment"
    }
   },
   "source": [
    "![](https://drive.google.com/uc?export=view&id=1EMSRYv8KcKuUSIZEtUl8b0pN41amLIBx)"
   ]
  },
  {
   "cell_type": "markdown",
   "metadata": {
    "slideshow": {
     "slide_type": "subslide"
    }
   },
   "source": [
    "## There are many Machine Learning problems "
   ]
  },
  {
   "cell_type": "markdown",
   "metadata": {
    "slideshow": {
     "slide_type": "fragment"
    }
   },
   "source": [
    "### There are *different types* of Machine Learning problems\n",
    "\n",
    "Machine Learning problems can be categorized in different categories. \n",
    "\n",
    "In general, a machine learning problem considers a set of n samples of data and then tries to predict properties of unknown data. If each sample is more than a single number and, for instance, a multi-dimensional entry (aka multivariate data), it is said to have several **attributes** or **features**.\n",
    "\n",
    "Learning problems fall into a few categories:\n",
    "\n",
    "- **Supervised learning**: the data comes with additional attributes (called **labels**) that we want to predict. A supervised learning problem can be either:\n",
    " \n",
    " \n",
    " - **Classification**: samples belong to two or more classes and we want to learn from already labelled data how to predict the class of unlabelled data.\n",
    " \n",
    " > An example of a classification problem would be handwritten digit recognition, in which the aim is to assign each input vector to one of a finite number of discrete categories. Another way to think of classification is as a discrete (as opposed to continuous) form of supervised learning where one has a limited number of categories and for each of the n samples provided, one is trying to label them with the correct category or class.\n",
    " \n",
    " - **Regression**: if the desired output consists of one or more continuous variables, then the task is called regression.\n",
    " \n",
    " > An example of a regression problem would be the prediction of the length of a salmon as a function of its age and weight.\n",
    " \n",
    "- **Unsupervised Learning**: here, the training data consists of a set of input vectors x without any corresponding target values. The goal in such problems may be to discover groups of similar examples within the data, where it is called **clustering**, or to project the data from a high-dimensional space down to two or three dimensions for the purpose of visualization, called **dimensionality reduction**.\n"
   ]
  },
  {
   "cell_type": "markdown",
   "metadata": {
    "slideshow": {
     "slide_type": "fragment"
    }
   },
   "source": [
    "![](https://drive.google.com/uc?export=view&id=1YW1fZEV-a3n4EavCf4EwjQiEaqoG5IZX)"
   ]
  },
  {
   "cell_type": "markdown",
   "metadata": {},
   "source": [
    "> 📚 **Resources**: What about **Reinforcement Learning**?\n",
    ">\n",
    "> An additional branch of machine learning is **reinforcement learning (RL)**. Reinforcement learning differs from other types of machine learning. In RL you don't collect examples with labels. Imagine you want to teach a machine to play a very basic video game and never lose. You set up the model (often called an **agent** in RL) with the game, and you tell the model not to get a \"game over\" screen. During training, the agent receives a **reward** when it performs this task, which is called a **reward function**. With reinforcement learning, the agent can learn very quickly how to outperform humans.\n",
    ">\n",
    "> The lack of a data requirement makes RL a tempting approach. However, designing a good reward function is difficult, and RL models are less stable and predictable than supervised approaches. Additionally, you need to provide a way for the agent to interact with the game to produce data, which means either building a physical agent that can interact with the real world or a virtual agent and a virtual world, either of which is a big challenge.\n",
    ">\n",
    ">Reinforcement learning is an active field of ML research, but in this course we'll focus on the problems detailed above because they're a better known problem, more stable, and result in a simpler system.\n",
    ">\n",
    "> For comprehensive information on RL, check out [Reinforcement Learning: An Introduction by Sutton and Barto](http://incompleteideas.net/book/RLbook2018.pdf)."
   ]
  },
  {
   "cell_type": "markdown",
   "metadata": {
    "slideshow": {
     "slide_type": "slide"
    }
   },
   "source": [
    "## How to run a ML Project"
   ]
  },
  {
   "cell_type": "markdown",
   "metadata": {
    "slideshow": {
     "slide_type": "fragment"
    }
   },
   "source": [
    "A machine learning problem - or product - is quite different than a regular one.\n",
    "\n",
    "There are at least several necessary steps, let's review them now."
   ]
  },
  {
   "cell_type": "markdown",
   "metadata": {
    "slideshow": {
     "slide_type": "subslide"
    }
   },
   "source": [
    "### 1. Define objective and constraints"
   ]
  },
  {
   "cell_type": "markdown",
   "metadata": {
    "slideshow": {
     "slide_type": "fragment"
    }
   },
   "source": [
    "- Which question do we want to answer?\n",
    "- Which hypothesis can we formulate?\n",
    "- What data is required? Labeled or not?\n",
    "- Do we have the data?\n",
    "\n",
    "**Example**: \n",
    "- We want to build a SPAM detector\n",
    "- We can assume we don't expect attachment with the emails\n",
    "- We want it to be accurate for 85 % of the received emails\n",
    "- We need it to be fast (real time)\n",
    "- We do not have any labelled data"
   ]
  },
  {
   "cell_type": "markdown",
   "metadata": {
    "slideshow": {
     "slide_type": "subslide"
    }
   },
   "source": [
    "### 2. Collect data"
   ]
  },
  {
   "cell_type": "markdown",
   "metadata": {
    "slideshow": {
     "slide_type": "fragment"
    }
   },
   "source": [
    "Data is what brings power to models. If you don't have good data, don't expect to build a great ML models.\n",
    "\n",
    "There are many ways to collect data:\n",
    "- Open data: [Kaggle datasets](https://www.kaggle.com/datasets), [Google dataset research](datasetsearch.research.google.com)...\n",
    "- APIs \n",
    "- Scrapping (With tools such as Beautiful Soup, Scrapy, etc...)\n",
    "- Internal databases (SQL, NoSQL...)"
   ]
  },
  {
   "cell_type": "markdown",
   "metadata": {
    "slideshow": {
     "slide_type": "subslide"
    }
   },
   "source": [
    "### 3. Understand and prepare data"
   ]
  },
  {
   "cell_type": "markdown",
   "metadata": {
    "slideshow": {
     "slide_type": "fragment"
    }
   },
   "source": [
    "- How to deal with incorrect or missing data?\n",
    "- What are the relevant features of your data?\n",
    "- Is your data correlated?\n",
    "- Can you create new features?\n",
    "- ..."
   ]
  },
  {
   "cell_type": "markdown",
   "metadata": {
    "slideshow": {
     "slide_type": "subslide"
    }
   },
   "source": [
    "### 4. Train and optimize your ML model"
   ]
  },
  {
   "cell_type": "markdown",
   "metadata": {
    "slideshow": {
     "slide_type": "fragment"
    }
   },
   "source": [
    "- Train several models\n",
    "- Optimize them"
   ]
  },
  {
   "cell_type": "markdown",
   "metadata": {
    "slideshow": {
     "slide_type": "subslide"
    }
   },
   "source": [
    "### 5. Evaluate your model"
   ]
  },
  {
   "cell_type": "markdown",
   "metadata": {
    "slideshow": {
     "slide_type": "fragment"
    }
   },
   "source": [
    "- Evaluate and pick the best in your constraints\n",
    "- If the evaluation is not good enough, iterate!"
   ]
  },
  {
   "cell_type": "markdown",
   "metadata": {
    "slideshow": {
     "slide_type": "subslide"
    }
   },
   "source": [
    "### 6. Deploy your model"
   ]
  },
  {
   "cell_type": "markdown",
   "metadata": {
    "slideshow": {
     "slide_type": "fragment"
    }
   },
   "source": [
    "Deploy your model for your customers. There are many ways to deploy a model:\n",
    "- Locally\n",
    "- On servers\n",
    "- Serverless architecture"
   ]
  },
  {
   "cell_type": "markdown",
   "metadata": {
    "slideshow": {
     "slide_type": "subslide"
    }
   },
   "source": [
    "## How much time does it take?"
   ]
  },
  {
   "cell_type": "markdown",
   "metadata": {},
   "source": [
    "According to you, how much time would be spent on each task:\n",
    "- defining the problem\n",
    "- collecting data\n",
    "- cleaning/preparing data\n",
    "- training and optimizing model\n",
    "- model evaluation\n",
    "- model deployment"
   ]
  },
  {
   "cell_type": "markdown",
   "metadata": {
    "slideshow": {
     "slide_type": "fragment"
    }
   },
   "source": [
    "Time spent on each task estimation:\n",
    "- defining the problem ~ 15 %\n",
    "- collecting data ~ 25 %\n",
    "- cleaning/preparing data ~ 25 %\n",
    "- training model ~ 15 %\n",
    "- model evaluation ~ 5 %\n",
    "- model deployment ~ 5 %"
   ]
  },
  {
   "cell_type": "markdown",
   "metadata": {
    "slideshow": {
     "slide_type": "fragment"
    }
   },
   "source": [
    "- Bonus: explaining what you do ~ 10 %"
   ]
  },
  {
   "cell_type": "markdown",
   "metadata": {
    "slideshow": {
     "slide_type": "slide"
    }
   },
   "source": [
    "## Current status of Machine Learning and limits"
   ]
  },
  {
   "cell_type": "markdown",
   "metadata": {
    "slideshow": {
     "slide_type": "fragment"
    }
   },
   "source": [
    "ML is pretty everywhere... but almost never alone!"
   ]
  },
  {
   "cell_type": "markdown",
   "metadata": {
    "slideshow": {
     "slide_type": "fragment"
    }
   },
   "source": [
    "What ML can do:\n",
    "- Outperform humans on very specific tasks (with enough data)\n",
    "- Automatize many painful, repetitive tasks\n",
    "- Define rules for a given problem\n",
    "- ..."
   ]
  },
  {
   "cell_type": "markdown",
   "metadata": {
    "slideshow": {
     "slide_type": "fragment"
    }
   },
   "source": [
    "What ML can not do:\n",
    "- Generalize well\n",
    "- Learn from only a few examples\n",
    "- Give the reason of its decisions (interpretability)\n",
    "- Work for various tasks\n",
    "- ..."
   ]
  }
 ],
 "metadata": {
  "celltoolbar": "Slideshow",
  "kernelspec": {
   "display_name": "R",
   "language": "R",
   "name": "ir"
  },
  "language_info": {
   "codemirror_mode": "r",
   "file_extension": ".r",
   "mimetype": "text/x-r-source",
   "name": "R",
   "pygments_lexer": "r",
   "version": "3.4.4"
  }
 },
 "nbformat": 4,
 "nbformat_minor": 2
}
