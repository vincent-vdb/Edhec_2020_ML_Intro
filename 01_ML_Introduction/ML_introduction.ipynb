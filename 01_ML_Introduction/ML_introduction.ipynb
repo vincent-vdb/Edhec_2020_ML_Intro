{
 "cells": [
  {
   "cell_type": "markdown",
   "metadata": {},
   "source": [
    "- Presentation\n",
    "- Course overview\n",
    "- AI/ML/DL/DS/RL...\n",
    "- History of ML\n",
    "- **ML paradigm: X+rule = y vs X+y = rule**\n",
    "- Supervised/unsupervised\n",
    "- Current status and limits of AI\n",
    "- How a ML project looks?"
   ]
  },
  {
   "cell_type": "markdown",
   "metadata": {
    "slideshow": {
     "slide_type": "slide"
    }
   },
   "source": [
    "# Machine Learning Introduction"
   ]
  },
  {
   "cell_type": "markdown",
   "metadata": {},
   "source": [
    "Vincent Vandenbussche\n",
    "\n",
    "- PhD in Physics defended in 2014\n",
    "- Experience in large companies: GE Healthcare, Renault, L'Oréal\n",
    "- Experience in research: CNRS, CEA\n",
    "- Experience in startups: Easyrecrue, Suricog, Sweesp\n",
    "- Founded startup: Vivadata, a data science bootcamp"
   ]
  },
  {
   "cell_type": "markdown",
   "metadata": {
    "slideshow": {
     "slide_type": "subslide"
    }
   },
   "source": [
    "## Course overview"
   ]
  },
  {
   "cell_type": "markdown",
   "metadata": {
    "slideshow": {
     "slide_type": "fragment"
    }
   },
   "source": [
    "Introduction to Machine Learning:\n",
    "- Big picture introduction to Machine Learning\n",
    "- Reminders of Linear Regression and Logistic Regression\n",
    "- Regularization and bias/variance tradeoff\n",
    "- Classification with SVMs, k-NNs, Naive Bayes\n",
    "- Data Preparation\n",
    "- Model Evaluation\n",
    "- Model Optimization\n",
    "- Imbalanced Datasets\n",
    "- Dimensionality Reduction\n",
    "- Decisions Trees and Random Forest\n",
    "- Boosting and Gradient Boosting\n",
    "- Anomaly Detection"
   ]
  },
  {
   "cell_type": "markdown",
   "metadata": {
    "slideshow": {
     "slide_type": "slide"
    }
   },
   "source": [
    "# What is ML?"
   ]
  },
  {
   "cell_type": "markdown",
   "metadata": {},
   "source": [
    "Let's have a quizz: ML or not ML?\n",
    "- Google Translate\n",
    "- Netflix movie recommendation\n",
    "- Snapchat/TikTok filters\n",
    "- Uber driver selection\n",
    "- Face recognition\n",
    "- Siri / Google Home / Amazon Alexa...\n",
    "- "
   ]
  },
  {
   "cell_type": "markdown",
   "metadata": {},
   "source": []
  },
  {
   "cell_type": "markdown",
   "metadata": {},
   "source": [
    "\n",
    "\n",
    "\n",
    "> 🏆 **Quizz**: Which **type of ML problem** do those examples correspond to? Supervised (Classification / Regression) or Unsupervised?\n",
    ">\n",
    "> - Photo tagging on Facebook 📸\n",
    "> - Loan approvals 🏦\n",
    "> - Targeted online ads 👗\n",
    "> - Paypal fraud detection 💰\n",
    "> - Speech recognition (ex: Siri) 🎙\n",
    "> - Market segmentation 👪\n",
    "> - Preventive maintenance 🔧"
   ]
  },
  {
   "cell_type": "code",
   "execution_count": null,
   "metadata": {},
   "outputs": [],
   "source": []
  },
  {
   "cell_type": "code",
   "execution_count": null,
   "metadata": {},
   "outputs": [],
   "source": []
  },
  {
   "cell_type": "markdown",
   "metadata": {
    "slideshow": {
     "slide_type": "fragment"
    }
   },
   "source": [
    "What are the differences between:\n",
    "- Artificial intelligence\n",
    "- Machine Learning\n",
    "- Deep Learning\n",
    "- Data Science"
   ]
  },
  {
   "cell_type": "markdown",
   "metadata": {},
   "source": [
    "# "
   ]
  },
  {
   "cell_type": "code",
   "execution_count": null,
   "metadata": {},
   "outputs": [],
   "source": []
  },
  {
   "cell_type": "code",
   "execution_count": null,
   "metadata": {},
   "outputs": [],
   "source": []
  },
  {
   "cell_type": "markdown",
   "metadata": {
    "slideshow": {
     "slide_type": "-"
    }
   },
   "source": [
    "## Introduction to Machine Learning 🤖"
   ]
  },
  {
   "cell_type": "markdown",
   "metadata": {
    "slideshow": {
     "slide_type": "-"
    }
   },
   "source": [
    "___"
   ]
  },
  {
   "cell_type": "markdown",
   "metadata": {
    "slideshow": {
     "slide_type": "slide"
    }
   },
   "source": [
    "Today, we will **unveil** the hype behind **Machine Learning**. Especially, we will define most of the terms surrounding the field (and sometimes misused), and grasp the intuition behind ML algorithms.\n",
    "\n",
    "Here we go!"
   ]
  },
  {
   "cell_type": "markdown",
   "metadata": {},
   "source": [
    "![](https://drive.google.com/uc?export=view&id=1WXxaPikcf5u76j5cg1dLDvZK3fQPI9qr)"
   ]
  },
  {
   "cell_type": "markdown",
   "metadata": {
    "slideshow": {
     "slide_type": "-"
    }
   },
   "source": [
    "___"
   ]
  },
  {
   "cell_type": "markdown",
   "metadata": {
    "slideshow": {
     "slide_type": "slide"
    }
   },
   "source": [
    "# I. What is Machine Learning?"
   ]
  },
  {
   "cell_type": "markdown",
   "metadata": {
    "slideshow": {
     "slide_type": "subslide"
    }
   },
   "source": [
    "## I.1. A.I vs Machine Learning vs Deep Learning"
   ]
  },
  {
   "cell_type": "markdown",
   "metadata": {
    "slideshow": {
     "slide_type": "subslide"
    }
   },
   "source": [
    "### Welcome to A.I...\n",
    "\n",
    "![](https://drive.google.com/uc?export=view&id=1wkrks6AXOG2bNaX1vUq82C_cIoE7GcHs)\n",
    "\n",
    "A lot of hype, for a lot of buzzwords. But what does it mean exactly?\n",
    "\n",
    "Especially, what is the difference between **Artifical Intelligence**, **Machine Learning** and **Deep Learning**?"
   ]
  },
  {
   "cell_type": "markdown",
   "metadata": {
    "slideshow": {
     "slide_type": "subslide"
    }
   },
   "source": [
    "### A.I vs Machine Learning vs Deep Learning\n",
    "\n",
    "![](https://drive.google.com/uc?export=view&id=1jij9_VDnCAKts-D0qu7vP3hwT6k5Lk99)"
   ]
  },
  {
   "cell_type": "markdown",
   "metadata": {
    "slideshow": {
     "slide_type": "subslide"
    }
   },
   "source": [
    "## I.2. Why does it matter now?"
   ]
  },
  {
   "cell_type": "markdown",
   "metadata": {},
   "source": [
    "It all started with these guys...\n",
    "\n",
    "### Alan Turing\n",
    "\n",
    "<p align=\"center\">\n",
    "<img src=\"https://drive.google.com/uc?export=view&id=16I3OtO2dgcy7zHW0nvcRYQNyLWewAWXm\">\n",
    "</p>\n",
    "\n",
    "Turing is widely considered to be the **father of theoretical computer science and artificial intelligence**.\n",
    "\n",
    "In 1950 Alan Turing published a landmark paper in which he speculated about the possibility of creating machines that think. If a machine could carry on a conversation that was indistinguishable from a conversation with a human being, then it was reasonable to say that the machine was \"thinking\".\n",
    "\n",
    "The [Turing Test](https://en.wikipedia.org/wiki/Turing_test) was the first serious proposal in the **philosophy of artificial intelligence**. \n",
    "\n",
    "> “I do not see why it (the machine) should not enter any one of the fields normally covered by the human intellect, and eventually compete on equal terms. I do not think you even draw the line about sonnets, though the comparison is perhaps a little bit unfair because a sonnet written by a machine will be better appreciated by another machine.”\n",
    "> \n",
    "> Alan Turing, _The London Times_, 1949\n",
    "\n",
    "\n",
    "### Walter Pitts & Warren McCulloch\n",
    "\n",
    "<p align=\"center\">\n",
    "<img src=\"https://drive.google.com/uc?export=view&id=1bD4ITkBz0y69JXppGhCZ42lgxDp-oxo5\" width=\"400\">\n",
    "</p>\n",
    "\n",
    "Inspired by work in neurology, **Walter Pitts** and **Warren McCulloch** analyzed networks of idealized artificial neurons and showed how they might perform simple logical functions.\n",
    "\n",
    "They were the first to describe what later researchers would call a **neural network**.\n",
    "\n",
    "\n",
    "### Marvin Minsky\n",
    "\n",
    "<p align=\"center\">\n",
    "<img src=\"https://drive.google.com/uc?export=view&id=1_4Yg4RPJqqfNIIy7hfSeWH1De1TgYUZ8\" width=\"200\">\n",
    "</p>\n",
    "\n",
    "One of the students inspired by Pitts and McCulloch was a young **Marvin Minsky**, then a 24-year-old graduate student.\n",
    "\n",
    "In 1951 (with Dean Edmonds) he built the first **neural net machine**, the SNARC. With the SNARC, Minksky built a  first ANN (Artificial Neural Network) that could simulate a rat finding its way through a maze.\n",
    "\n",
    "At that time, Minsky’s work and theory went largely unnoticed by the public and was rejected by most AI researchers until computing power had reached a level where results could be clearly demonstrated.\n",
    "\n",
    "> *Within our lifetime, machines may surpass us in general intelligence.*\n",
    ">\n",
    "> Marvin Minsky, 1951"
   ]
  },
  {
   "cell_type": "markdown",
   "metadata": {
    "slideshow": {
     "slide_type": "subslide"
    }
   },
   "source": [
    "### A brief timeline of the A.I. field\n",
    "\n",
    "A.I. has a long history behind it, with a series of successes and of failures and disappointments (see [A.I. winter](https://en.wikipedia.org/wiki/AI_winter) for example). \n",
    "\n",
    "> 📚 **Resources**: The history behind A.I. is long and fascinating. Check [History of AI on Wikipedia](https://en.wikipedia.org/wiki/History_of_artificial_intelligence) to dig deeper.\n",
    "\n",
    "![](https://drive.google.com/uc?export=view&id=1kUh0wO82soPDiXzGo8TEevfgzSkGZlto)"
   ]
  },
  {
   "cell_type": "markdown",
   "metadata": {},
   "source": [
    "We have seen that most algorithms are not new, so why are we observing such a boom in the recent years?"
   ]
  },
  {
   "cell_type": "markdown",
   "metadata": {
    "slideshow": {
     "slide_type": "subslide"
    }
   },
   "source": [
    "### Reasons for the current A.I. revolution\n",
    "\n",
    "Two main reasons for this current boom:\n",
    "- Increase of computing power ([GPU](https://en.wikipedia.org/wiki/Graphics_processing_unit) - thanks to gamers who want good graphics 🎮)\n",
    "- Exponential **increase of the volume of data collected**\n",
    "\n",
    "<p align=\"center\">\n",
    "<img src=\"https://drive.google.com/uc?export=view&id=1ZYyfHa4IvLt6O_Kvl3Y1rMZQFZKzDFqd\" width=\"50%\">\n",
    "</p>"
   ]
  },
  {
   "cell_type": "markdown",
   "metadata": {
    "slideshow": {
     "slide_type": "fragment"
    }
   },
   "source": [
    "### Reasons for the continuation of this boom\n",
    "\n",
    "- Highly **active** and **exposed** research field\n",
    "- Better access to the **knowledge** ([Thanks Vivadata 🙏🏻](https://vivadata.org/)) and **tools**\n",
    "\n",
    "![](https://drive.google.com/uc?export=view&id=18oVX21ZazQKzWuzHQwIu9KmiVwnBuaca)"
   ]
  },
  {
   "cell_type": "markdown",
   "metadata": {
    "slideshow": {
     "slide_type": "subslide"
    }
   },
   "source": [
    "## I.3. Examples of application"
   ]
  },
  {
   "cell_type": "markdown",
   "metadata": {
    "slideshow": {
     "slide_type": "subslide"
    }
   },
   "source": [
    "### 🚙 Autonomous driving\n",
    "\n",
    "![](https://drive.google.com/uc?export=view&id=1lDltwLk02Am5bsINiqk4u33oABQfawcA)"
   ]
  },
  {
   "cell_type": "markdown",
   "metadata": {
    "slideshow": {
     "slide_type": "subslide"
    }
   },
   "source": [
    "### 🚙 Autonomous driving\n",
    "\n",
    "![](https://drive.google.com/uc?export=view&id=1gdJKYzGMtA3KSOD2JS8s53Wp3pzfDwVr)"
   ]
  },
  {
   "cell_type": "markdown",
   "metadata": {
    "slideshow": {
     "slide_type": "subslide"
    }
   },
   "source": [
    "### 🌆 Smart City\n",
    "\n",
    "<p align=\"center\">\n",
    "<img src=\"https://drive.google.com/uc?export=view&id=1D7JgBRhPLk-83ozMeDVh30mxWlsV3RnT\">\n",
    "</p>"
   ]
  },
  {
   "cell_type": "markdown",
   "metadata": {
    "slideshow": {
     "slide_type": "subslide"
    }
   },
   "source": [
    "### 🔬 Health\n",
    "\n",
    "<p align=\"center\">\n",
    "<img src=\"https://drive.google.com/uc?export=view&id=1hn0rFBFMpE1PqpjTrl61xMnbbGmQ8hss\" width=\"70%\">\n",
    "</p>"
   ]
  },
  {
   "cell_type": "markdown",
   "metadata": {
    "slideshow": {
     "slide_type": "subslide"
    }
   },
   "source": [
    "### 🏪 Casherless stores\n",
    "\n",
    "<p align=\"center\">\n",
    "<img src=\"https://drive.google.com/uc?export=view&id=1RQ1rBiICTtyRTvsAHMcj_0Zu-xb4CKrL\">\n",
    "</p>"
   ]
  },
  {
   "cell_type": "markdown",
   "metadata": {
    "slideshow": {
     "slide_type": "subslide"
    }
   },
   "source": [
    "### 🎙 Home Assistants\n",
    "\n",
    "![](https://drive.google.com/uc?export=view&id=1RpkMLUsAyIgzJvdGnUi7d5UUEcajEY4G)"
   ]
  },
  {
   "cell_type": "markdown",
   "metadata": {
    "slideshow": {
     "slide_type": "fragment"
    }
   },
   "source": [
    "Etcetera, etcetera. I could carry on, but as you read/hear in the press, all fields are impacted and should, one day or another, be disrupted by Artifical Intelligence.\n",
    "\n",
    "But how does it work exactly? To answer that question, we first need to understand how **Machine Learning (ML)** algorithms work."
   ]
  },
  {
   "cell_type": "markdown",
   "metadata": {
    "slideshow": {
     "slide_type": "-"
    }
   },
   "source": [
    "___"
   ]
  },
  {
   "cell_type": "markdown",
   "metadata": {
    "slideshow": {
     "slide_type": "slide"
    }
   },
   "source": [
    "# II. The ML problem"
   ]
  },
  {
   "cell_type": "markdown",
   "metadata": {
    "slideshow": {
     "slide_type": "subslide"
    }
   },
   "source": [
    "## II.0. Let's play a game 🦁"
   ]
  },
  {
   "cell_type": "markdown",
   "metadata": {
    "slideshow": {
     "slide_type": "subslide"
    }
   },
   "source": [
    "Machine Learning is all about **learning from example**.\n",
    "\n",
    "Let's illustrate that by looking at which animal is `acerous` or not..."
   ]
  },
  {
   "cell_type": "markdown",
   "metadata": {
    "slideshow": {
     "slide_type": "subslide"
    }
   },
   "source": [
    "![](https://drive.google.com/uc?export=view&id=16HRksBF0rt8W5dHnzvsfQjzgcXBB2FGU)"
   ]
  },
  {
   "cell_type": "markdown",
   "metadata": {
    "slideshow": {
     "slide_type": "subslide"
    }
   },
   "source": [
    "## II.1. The intuition behind Machine Learning"
   ]
  },
  {
   "cell_type": "markdown",
   "metadata": {
    "slideshow": {
     "slide_type": "subslide"
    }
   },
   "source": [
    "Historically, computers were given algorithms that follow some sets of rules (for example in a chess game, \"if chess pieces in this position on the board, play this move\", or \"launch this rocket with this given speed and angle\").\n",
    "\n",
    "But those programs were really bad at some given task (for example in computer vision, recognizing an image as a cat appeared tricky for traditional algorithms - as cats can have a lot of difference appearances, colors, positions, etc.).\n",
    "\n",
    "Then came ML, with a completely different mindset: in ML, you feed **data** to a piece of software, and by going through the process of **training** this code (called **model**), you can then use it to make **predictions** on a data set (especially on previously unseen data).\n",
    "\n",
    "![](https://drive.google.com/uc?export=view&id=1EMSRYv8KcKuUSIZEtUl8b0pN41amLIBx)"
   ]
  },
  {
   "cell_type": "markdown",
   "metadata": {
    "slideshow": {
     "slide_type": "subslide"
    }
   },
   "source": [
    "## II.2. Different types of ML problems "
   ]
  },
  {
   "cell_type": "markdown",
   "metadata": {},
   "source": [
    "### There are *different types* of Machine Learning problems\n",
    "\n",
    "Machine Learning problems can be categorized in different categories. \n",
    "\n",
    "In general, a machine learning problem considers a set of n samples of data and then tries to predict properties of unknown data. If each sample is more than a single number and, for instance, a multi-dimensional entry (aka multivariate data), it is said to have several **attributes** or **features**.\n",
    "\n",
    "Learning problems fall into a few categories:\n",
    "\n",
    "- **Supervised learning**: the data comes with additional attributes (called **labels**) that we want to predict. A supervised learning problem can be either:\n",
    " \n",
    " \n",
    " - **Classification**: samples belong to two or more classes and we want to learn from already labelled data how to predict the class of unlabelled data.\n",
    " \n",
    " > An example of a classification problem would be handwritten digit recognition, in which the aim is to assign each input vector to one of a finite number of discrete categories. Another way to think of classification is as a discrete (as opposed to continuous) form of supervised learning where one has a limited number of categories and for each of the n samples provided, one is trying to label them with the correct category or class.\n",
    " \n",
    " - **Regression**: if the desired output consists of one or more continuous variables, then the task is called regression.\n",
    " \n",
    " > An example of a regression problem would be the prediction of the length of a salmon as a function of its age and weight.\n",
    " \n",
    "- **Unsupervised Learning**: here, the training data consists of a set of input vectors x without any corresponding target values. The goal in such problems may be to discover groups of similar examples within the data, where it is called **clustering**, or to project the data from a high-dimensional space down to two or three dimensions for the purpose of visualization, called **dimensionality reduction**.\n"
   ]
  },
  {
   "cell_type": "markdown",
   "metadata": {
    "slideshow": {
     "slide_type": "fragment"
    }
   },
   "source": [
    "![](https://drive.google.com/uc?export=view&id=1YW1fZEV-a3n4EavCf4EwjQiEaqoG5IZX)"
   ]
  },
  {
   "cell_type": "markdown",
   "metadata": {},
   "source": [
    "> 📚 **Resources**: What about **Reinforcement Learning**?\n",
    ">\n",
    "> An additional branch of machine learning is **reinforcement learning (RL)**. Reinforcement learning differs from other types of machine learning. In RL you don't collect examples with labels. Imagine you want to teach a machine to play a very basic video game and never lose. You set up the model (often called an **agent** in RL) with the game, and you tell the model not to get a \"game over\" screen. During training, the agent receives a **reward** when it performs this task, which is called a **reward function**. With reinforcement learning, the agent can learn very quickly how to outperform humans.\n",
    ">\n",
    "> The lack of a data requirement makes RL a tempting approach. However, designing a good reward function is difficult, and RL models are less stable and predictable than supervised approaches. Additionally, you need to provide a way for the agent to interact with the game to produce data, which means either building a physical agent that can interact with the real world or a virtual agent and a virtual world, either of which is a big challenge.\n",
    ">\n",
    ">Reinforcement learning is an active field of ML research, but in this course we'll focus on the problems detailed above because they're a better known problem, more stable, and result in a simpler system.\n",
    ">\n",
    "> For comprehensive information on RL, check out [Reinforcement Learning: An Introduction by Sutton and Barto](http://incompleteideas.net/book/RLbook2018.pdf)."
   ]
  },
  {
   "cell_type": "markdown",
   "metadata": {
    "slideshow": {
     "slide_type": "subslide"
    }
   },
   "source": [
    "## II.3. Identifying the type of problem"
   ]
  },
  {
   "cell_type": "markdown",
   "metadata": {
    "slideshow": {
     "slide_type": "fragment"
    }
   },
   "source": [
    "> 🏆 **Quizz**: Which **type of ML problem** do those examples correspond to? Supervised (Classification / Regression) or Unsupervised?\n",
    ">\n",
    "> - Photo tagging on Facebook 📸\n",
    "> - Loan approvals 🏦\n",
    "> - Targeted online ads 👗\n",
    "> - Paypal fraud detection 💰\n",
    "> - Speech recognition (ex: Siri) 🎙\n",
    "> - Market segmentation 👪\n",
    "> - Preventive maintenance 🔧"
   ]
  },
  {
   "cell_type": "markdown",
   "metadata": {
    "slideshow": {
     "slide_type": "-"
    }
   },
   "source": [
    "___"
   ]
  },
  {
   "cell_type": "markdown",
   "metadata": {
    "slideshow": {
     "slide_type": "slide"
    }
   },
   "source": [
    "# III. The ML framework"
   ]
  },
  {
   "cell_type": "markdown",
   "metadata": {
    "slideshow": {
     "slide_type": "fragment"
    }
   },
   "source": [
    "Solving a Machine Learning problem implies having a completely different mindset when addressing it.\n",
    "\n",
    "Let's see what is this mindset and what could be a **good framework** when solving a ML problem.\n",
    "\n",
    "Let's follow a **series of 5 steps**."
   ]
  },
  {
   "cell_type": "markdown",
   "metadata": {
    "slideshow": {
     "slide_type": "subslide"
    }
   },
   "source": [
    "## III.1. Define objective/hypothesis/data required"
   ]
  },
  {
   "cell_type": "markdown",
   "metadata": {
    "slideshow": {
     "slide_type": "fragment"
    }
   },
   "source": [
    "- Which question do we want to answer? What is the objective of our application?\n",
    "- Which hypothesis can we formulate?\n",
    "- What data is required? Labeled or not?\n",
    "\n",
    "**Example**: We want to build a SPAM engine 📩"
   ]
  },
  {
   "cell_type": "markdown",
   "metadata": {
    "slideshow": {
     "slide_type": "subslide"
    }
   },
   "source": [
    "## III.2. Collect data"
   ]
  },
  {
   "cell_type": "markdown",
   "metadata": {
    "slideshow": {
     "slide_type": "fragment"
    }
   },
   "source": [
    "**Data is the sinews of war**. Think about clever way to collect it. Some ideas:\n",
    "\n",
    "- Open data: [Kaggle datasets](https://www.kaggle.com/datasets), [Awesome Public Datasets](https://github.com/caesar0301/awesome-public-datasets), [datahub.io](http://datahub.io/), etc.)\n",
    "- APIs (cf. Cambridge Analytica 👀)\n",
    "- Scrapping (Beautiful Soup, Scrapy, etc.)\n",
    "- Internal databases (SQL & SQL Alchemy, NoSQL, etc.)\n",
    "- Other creative ideas :\n",
    "\n",
    "<p align=\"center\">\n",
    "<img src=\"https://drive.google.com/uc?export=view&id=1ZDmkv-SFcJH6M4FCN337qNqBf6MvuuWo\" width=\"60%\">\n",
    "</p>"
   ]
  },
  {
   "cell_type": "markdown",
   "metadata": {
    "slideshow": {
     "slide_type": "subslide"
    }
   },
   "source": [
    "## III.3. Clean, enrich, transform, explore & visualize data"
   ]
  },
  {
   "cell_type": "markdown",
   "metadata": {
    "slideshow": {
     "slide_type": "fragment"
    }
   },
   "source": [
    "- What to do with missing/incorrect/duplicate values? \n",
    "- Which columns (features) should you use to train your model? Can you create new interesting features?\n",
    "- Explore your data and collect insights\n",
    "- Visualize your data to understand it better"
   ]
  },
  {
   "cell_type": "markdown",
   "metadata": {
    "slideshow": {
     "slide_type": "subslide"
    }
   },
   "source": [
    "## III.4. Choose and train one (or several) model(s)"
   ]
  },
  {
   "cell_type": "markdown",
   "metadata": {
    "slideshow": {
     "slide_type": "fragment"
    }
   },
   "source": [
    "We will learn about classical ML and how to train them really soon 🤖"
   ]
  },
  {
   "cell_type": "markdown",
   "metadata": {
    "slideshow": {
     "slide_type": "subslide"
    }
   },
   "source": [
    "## III.5. Evaluate performances - conclude & iterate"
   ]
  },
  {
   "cell_type": "markdown",
   "metadata": {
    "slideshow": {
     "slide_type": "fragment"
    }
   },
   "source": [
    "Evaluate your model: is your model performing well at the task he has been trained to do?\n",
    "\n",
    "If no, inspect why - go back to first step and iterate! 🔄"
   ]
  },
  {
   "cell_type": "markdown",
   "metadata": {
    "slideshow": {
     "slide_type": "-"
    }
   },
   "source": [
    "___"
   ]
  },
  {
   "cell_type": "markdown",
   "metadata": {
    "slideshow": {
     "slide_type": "slide"
    }
   },
   "source": [
    "# IV. Example of ML classification algorithm : the k-Nearest Neighbor"
   ]
  },
  {
   "cell_type": "markdown",
   "metadata": {},
   "source": [
    "#### Nearest Neighbors\n",
    "\n",
    "The **Nearest Neighbors** model is very rarely used in practice, but it will allow us to get an idea about the basic approach to a **classification** problem.\n",
    "\n",
    "The idea is very simple: for one test data point, we find the closest point in our training dataset and we use this label as the prediciton label for our test data point.\n",
    "\n",
    "For example, suppose we want to classify an image in 1 out of 3 classes (ex: cat, dog or horse). The nearest neighbor classifier will take a test image, compare it to every single one of the training images, and predict the label of the closest training image.\n",
    "\n",
    "If we visualize our training data points on a 2-dimension charts, we can plot **decision boundaries** which will indicate the **prediction label** of any new test data point we choose."
   ]
  },
  {
   "cell_type": "markdown",
   "metadata": {},
   "source": [
    "#### k-Nearest Neighbors\n",
    "\n",
    "<p align=\"center\">\n",
    "<img src=\"https://drive.google.com/uc?export=view&id=1N6_QZd5aKFQ0m0OhS2x9CW0vC0JN_oXx\">\n",
    "</p>\n",
    "\n",
    "\n",
    "k-Nearest-Neighbors is a classical Machine Learning algorithm that is a *generalization* of the Nearest Neighbors algorithm: \n",
    "\n",
    "This time, for one test data point, we find the **top-k closest points**, and have them **vote on the label** of the test data point.\n",
    "\n",
    "<p align=\"center\">\n",
    "<img src=\"https://drive.google.com/uc?export=view&id=1h9gHU9tb6BTegXM8-Da0zXnVjBxrvYPc\">\n",
    "</p>\n",
    "\n",
    "\n",
    "> 🔦 **Hint**: In particular, when k = 1, we recover the Nearest Neighbor classifier. Intuitively, higher values of k have a smoothing effect that makes the classifier more resistant to outliers.\n",
    "\n",
    "\n",
    "> 📚 *Resources*: [Live visualization of k-NN algorithm](http://vision.stanford.edu/teaching/cs231n-demos/knn/)"
   ]
  },
  {
   "cell_type": "markdown",
   "metadata": {},
   "source": [
    "Now it is time for the challenge! 🚀\n",
    "\n",
    "And guess what? Today, your goal is to **rebuild from scratch the kNN algorithm**."
   ]
  },
  {
   "cell_type": "code",
   "execution_count": null,
   "metadata": {},
   "outputs": [],
   "source": []
  }
 ],
 "metadata": {
  "celltoolbar": "Slideshow",
  "kernelspec": {
   "display_name": "Python 3",
   "language": "python",
   "name": "python3"
  },
  "language_info": {
   "codemirror_mode": {
    "name": "ipython",
    "version": 3
   },
   "file_extension": ".py",
   "mimetype": "text/x-python",
   "name": "python",
   "nbconvert_exporter": "python",
   "pygments_lexer": "ipython3",
   "version": "3.7.4"
  }
 },
 "nbformat": 4,
 "nbformat_minor": 2
}
