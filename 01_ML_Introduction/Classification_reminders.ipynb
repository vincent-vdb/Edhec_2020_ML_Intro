{
 "cells": [
  {
   "cell_type": "markdown",
   "metadata": {
    "slideshow": {
     "slide_type": "-"
    }
   },
   "source": [
    "# Classification basics"
   ]
  },
  {
   "cell_type": "markdown",
   "metadata": {
    "slideshow": {
     "slide_type": "fragment"
    }
   },
   "source": [
    "Today we will focus on **Classification** problems - which means:\n",
    "- **supervised** learning (with labeled data)\n",
    "- with **categorical (also called discrete) data** (as opposed to Regression problems which work on continuous data)"
   ]
  },
  {
   "cell_type": "markdown",
   "metadata": {
    "slideshow": {
     "slide_type": "-"
    }
   },
   "source": [
    "___"
   ]
  },
  {
   "cell_type": "markdown",
   "metadata": {
    "slideshow": {
     "slide_type": "slide"
    }
   },
   "source": [
    "# A Classification Problem"
   ]
  },
  {
   "cell_type": "markdown",
   "metadata": {},
   "source": [
    "Suppose you want to classify data points between 2 labels, e.g. predict a customer churn for Netflix. A churner is a customer who resigned his subscription.\n",
    "\n",
    "Netflix already has a large database of users with past churners."
   ]
  },
  {
   "cell_type": "markdown",
   "metadata": {},
   "source": [
    "We would have what we call our **features X** for many customers, e.g.:\n",
    "- The subscrition plan\n",
    "- The number of profiles\n",
    "- The number of watched movies in the past month\n",
    "- The average number of watched movies per month in the past year\n",
    "- The subscription date\n",
    "- ...\n",
    "\n",
    "And we would have **labels y**:\n",
    "- The churn status of the customer, we here have **two classes**: True or False"
   ]
  },
  {
   "cell_type": "markdown",
   "metadata": {},
   "source": [
    "This is a typical **binary classification** problem.\n",
    "\n",
    "We would like to use machine learning to solve it efficiently."
   ]
  },
  {
   "cell_type": "markdown",
   "metadata": {
    "slideshow": {
     "slide_type": "subslide"
    }
   },
   "source": [
    "## There are many ML classification models - with specificities"
   ]
  },
  {
   "cell_type": "markdown",
   "metadata": {
    "slideshow": {
     "slide_type": "fragment"
    }
   },
   "source": [
    "Suppose you want to classify data points between 2 labels, e.g. predict a customer churn.\n",
    "\n",
    "There are various Machine Learning **models**. They all have differences and may output different prediction.\n",
    "\n",
    "Suppose we visualize all emails as points on a 2D charts : they will all draw different separation boundaries.\n",
    "\n",
    "<img src=\"https://cdn-images-1.medium.com/max/2000/1*M6djHnMzmTu4c0CN58Dxpg.png\" width=\"900px\" align=\"center\"/>\n",
    "\n",
    "Let's explore one of the most classical ML classification models: the **logistic Regression**"
   ]
  },
  {
   "cell_type": "markdown",
   "metadata": {
    "slideshow": {
     "slide_type": "subslide"
    }
   },
   "source": [
    "## Logistic Regression: Prediction"
   ]
  },
  {
   "cell_type": "markdown",
   "metadata": {},
   "source": [
    "How does the logistic regression works?"
   ]
  },
  {
   "cell_type": "markdown",
   "metadata": {},
   "source": [
    "Just like a linear regression, it will apply a **parameter $\\theta$** to each feature X as a weighted sum (or a scalar product). Those parameters $\\theta$ can be seen as the **weights** of each feature $i$:\n",
    "$$\n",
    "\\theta \\cdot X = \\sum \\theta_i \\times x_i\n",
    "$$"
   ]
  },
  {
   "cell_type": "markdown",
   "metadata": {},
   "source": [
    "Then the **logistic function** (a.k.a. sigmoid) is applied, such as:\n",
    "$$\n",
    "h_{\\theta}(x) = \\frac{1}{1+exp(-\\theta X)}\n",
    "$$"
   ]
  },
  {
   "cell_type": "markdown",
   "metadata": {},
   "source": [
    "Just to give an idea, the logisitic function looks like that:\n",
    "![](logistic_curve.png)"
   ]
  },
  {
   "cell_type": "markdown",
   "metadata": {},
   "source": [
    "As a consequence, the values of $h(x)$ are between 0 and 1. Even better, it can be interpreted as a probability.\n",
    "\n",
    "We will then apply a threshold to predict a class $\\hat{y}$ (churner or not churner):\n",
    "\n",
    "$$\n",
    "\\hat{y} = 1 \\text{ if } h_{\\theta}(x) > 0.5 \\text{ (i.e. Churner)}\n",
    "$$\n",
    "\n",
    "$$\n",
    "\\hat{y} = 0 \\text{ otherwise (i.e. Not churner)}\n",
    "$$"
   ]
  },
  {
   "cell_type": "markdown",
   "metadata": {},
   "source": [
    "This allows to predict a class $\\hat{y}$ with a given set of features X.\n",
    "\n",
    "But how to find the right parameters $\\theta$ that allow the right prediction?"
   ]
  },
  {
   "cell_type": "markdown",
   "metadata": {},
   "source": [
    "## Cross entropy loss"
   ]
  },
  {
   "cell_type": "markdown",
   "metadata": {},
   "source": [
    "How to train a logistic regression?\n",
    "\n",
    "Meaning, how to find the parameters $\\theta$ that give the best prediction?\n",
    "\n",
    "First, we have to define a **loss** $\\mathcal{L}$ to minimize.\n",
    "\n",
    "The loss is also called error, or cost function depending on the context."
   ]
  },
  {
   "cell_type": "markdown",
   "metadata": {},
   "source": [
    "The most usual loss for binary classification is the **binary cross entropy**:\n",
    "\n",
    "$$\n",
    "\\mathcal{L} = - y\\,\\log(h_{\\theta}(x))\\,-\\,(1-y)\\log (1 - h_{\\theta}(x))\n",
    "$$"
   ]
  },
  {
   "cell_type": "markdown",
   "metadata": {},
   "source": [
    "Basically, we can split it in 4 extreme cases:\n",
    "- if y = 0 and $h_{\\theta}(x) \\simeq 0$ : $\\mathcal{L} << 1$\n",
    "- if y = 0 and $h_{\\theta}(x) \\simeq 1$ : $\\mathcal{L} >> 1$\n",
    "- if y = 1 and $h_{\\theta}(x) \\simeq 0$ : $\\mathcal{L} >> 1$\n",
    "- if y = 1 and $h_{\\theta}(x) \\simeq 1$ : $\\mathcal{L} << 1$\n",
    "\n",
    "![](BCE.jpg)"
   ]
  },
  {
   "cell_type": "markdown",
   "metadata": {},
   "source": [
    "Thus, minimizing this loss function will ensure a good classification.\n",
    "\n",
    "In real life, we have not one, but many **samples** (a.k.a. **observations**), meaning our loss will actually be written as:\n",
    "$$\n",
    "\\mathcal{L} = -\\frac{1}{m} \\sum_{i=1}^m y^{(i)}\\,\\log(h(x^{(i)}))\\,+\\,(1-y^{(i)})\\log (1 - h(x^{(i)}))\n",
    "$$\n",
    "\n",
    "Where $(i)$ is just a sample: in our **customer churn example, a sample is just a customer** in our database.\n",
    "\n",
    "And $m$ is the number of samples, so the number of customers we would have in our database."
   ]
  },
  {
   "cell_type": "markdown",
   "metadata": {},
   "source": [
    "## Gradient descent"
   ]
  },
  {
   "cell_type": "markdown",
   "metadata": {
    "slideshow": {
     "slide_type": "fragment"
    }
   },
   "source": [
    "Finally, we want to find the $\\theta$ parameters that minimize our loss:\n",
    "\n",
    "$$\n",
    "\\displaystyle \\min_{\\theta} \\mathcal{L} = \\min_{\\theta}-\\frac{1}{m} \\sum_{i=1}^m y^{(i)}\\,\\log(h(x^{(i)}))\\,+\\,(1-y^{(i)})\\log (1 - h(x^{(i)}))\n",
    "$$"
   ]
  },
  {
   "cell_type": "markdown",
   "metadata": {
    "slideshow": {
     "slide_type": "fragment"
    }
   },
   "source": [
    "A visual representation would be to try to go down a valley, the valley being our loss function:\n",
    "\n",
    "<p align=\"center\">\n",
    "  <img src=\"https://drive.google.com/uc?export=view&id=1Q0NwocOMQUKV2uOl08bRAZupMfaD8y6V\">\n",
    "</p>\n",
    "\n",
    "> 📚 **Resources**: We can demonstrate our Cost Function is \"a bowl\" be proving that the function is **[Convex](https://en.wikipedia.org/wiki/Convex_function)**\n",
    "\n",
    "> **Quiz**: How would find those optimal parameters $\\theta$ that minimize our loss?"
   ]
  },
  {
   "cell_type": "markdown",
   "metadata": {
    "slideshow": {
     "slide_type": "subslide"
    }
   },
   "source": [
    "We can do it iteratively:\n",
    "\n",
    "Imagine you are in a mountain with heavy fog around you. How can you try to get to the bottom of the valley?\n",
    "\n",
    "Just look around you at each step and **go each step in the direction that makes you go down the most**.\n",
    "\n",
    "Here we can do the same:\n",
    "- We observe around us which direction makes us go down the most\n",
    "- We take a step towards this direction\n",
    "- We update our model with the new updated parameters\n",
    "- And we iterate 🔄\n",
    "\n",
    "<p align=\"center\">\n",
    "  <img src=\"https://drive.google.com/uc?export=view&id=1KW7E9OIDoHYTxrsuTso7Vng0Eky_Q7Tg\">\n",
    "</p>\n",
    "\n",
    "This is called **Gradient Descent**"
   ]
  },
  {
   "cell_type": "markdown",
   "metadata": {},
   "source": [
    "Mathematically, this just means that we compute the partial derivative of the function for a given $\\theta_i$:\n",
    "\n",
    "$$\n",
    "\\displaystyle \\theta_i = \\theta_i - \\alpha\\frac{\\partial}{\\partial\\theta_i}\\mathcal{L} = \\theta_i - d\\theta_i\n",
    "$$\n",
    "\n",
    "With:\n",
    "$$\n",
    "d\\theta_i = \\alpha\\frac{\\partial}{\\partial\\theta_i}\\mathcal{L} = (y - h_{\\theta}(x)) x_i\n",
    "$$\n",
    "\n",
    "Where $\\alpha$ is called the **learning rate**. The learning rate will control the size of the steps.\n",
    "\n",
    "And thus step by step, we eventually may reach the global minimum of our loss function."
   ]
  },
  {
   "cell_type": "markdown",
   "metadata": {
    "slideshow": {
     "slide_type": "subslide"
    }
   },
   "source": [
    "Here is an example of visualization of the evolution of our linear regression iteratively.\n",
    "\n",
    "![](https://drive.google.com/uc?export=view&id=1_l5TDRJMBhHY-_GNehBD4d27aElKQJq1)\n",
    "\n",
    "- On the left: our Cost Function and our position based on the chosen parameters (m and b)\n",
    "- On the right: our data points and our linear regression model with updated parameters (m and b)\n",
    "\n",
    "As you can see, on the left **at each iteration, we update the model parameters (intercept and slope)**, and this creates a **new line** even more fitted to our data. \n",
    "\n",
    "As we iterate on the model parameters, we go down our Cost Function until the **minimum error value**. \n",
    "\n",
    "This is **done automatically** when calling the **`fit`** method from scikit-learn! 🎩"
   ]
  },
  {
   "cell_type": "code",
   "execution_count": null,
   "metadata": {},
   "outputs": [],
   "source": []
  },
  {
   "cell_type": "code",
   "execution_count": null,
   "metadata": {},
   "outputs": [],
   "source": []
  },
  {
   "cell_type": "markdown",
   "metadata": {
    "slideshow": {
     "slide_type": "fragment"
    }
   },
   "source": [
    "**Logistic Regression** is also a classical Machine Learning algorithm.\n",
    "\n",
    "It is a **must-have** in your toolbox as it is very **effective and simple** to implement.\n",
    "\n",
    "> 🔦 **Hint**: when approaching a ML problem, you can always start by implementing a simple algorithm to have a first benchmark of performance.\n",
    "\n",
    "<img src=\"https://drive.google.com/uc?export=view&id=1D4zZjM11aZCsPWJJIR6JTP_0lMCxqTJH\" width=\"900\">"
   ]
  },
  {
   "cell_type": "markdown",
   "metadata": {
    "slideshow": {
     "slide_type": "slide"
    }
   },
   "source": [
    "# III. The learning process"
   ]
  },
  {
   "cell_type": "markdown",
   "metadata": {
    "slideshow": {
     "slide_type": "slide"
    }
   },
   "source": [
    "This Linear Regression seems magical, we fit the scikit-learn object and automatically we retrieve the **best line** representing our data.\n",
    "\n",
    "But what is happening under the hood?"
   ]
  },
  {
   "cell_type": "markdown",
   "metadata": {
    "slideshow": {
     "slide_type": "subslide"
    }
   },
   "source": [
    "## III.1. Intuition"
   ]
  },
  {
   "cell_type": "markdown",
   "metadata": {
    "slideshow": {
     "slide_type": "fragment"
    }
   },
   "source": [
    "![](https://drive.google.com/uc?export=view&id=1h2TSkkuFBTIw9c8CyKZNCnwnbZLMI0Kf)"
   ]
  },
  {
   "cell_type": "markdown",
   "metadata": {
    "slideshow": {
     "slide_type": "fragment"
    }
   },
   "source": [
    "We search for the **parameters of the model $\\theta$** (here the slope and intersect) that minimize the **error** (also called **Cost Function** and noted $J(\\theta)$).\n",
    "\n",
    "> 🔦 **Hint**: The distances (small bars) are called **residuals**, but in practice we prefer to sum the squares of residuals (so that it's always positive + the larger the distance the larger the error). \n",
    ">\n",
    "> $${RSS=\\sum _{i=1}^{n}(h_\\theta(x_i})-y_{i})^{2}$$\n",
    ">\n",
    "> We call this sum the **[Residual Sum of Squares (RSS)](https://en.wikipedia.org/wiki/Residual_sum_of_squares)**\n",
    "\n",
    "In practical, we define the **Cost Function J as the Mean Squared Error**, which corresponds to the mean of the RSS on the training set (𝑚 is the number of training examples):\n",
    "\n",
    "$${J(\\theta)=\\frac{1}{m}\\sum _{i=1}^{n}(h_\\theta(x_i})-y_{i})^{2}$$\n"
   ]
  },
  {
   "cell_type": "markdown",
   "metadata": {
    "slideshow": {
     "slide_type": "subslide"
    }
   },
   "source": [
    "## III.2. Gradient Descent"
   ]
  },
  {
   "cell_type": "markdown",
   "metadata": {
    "slideshow": {
     "slide_type": "fragment"
    }
   },
   "source": [
    "We have a **Cost Function** (or **error**) that happens to be a bowl (how convenient) and we want to minimize it.\n",
    "\n",
    "- Mathematically, it means we want to solve the following equation:\n",
    "\n",
    "$$\\displaystyle \\min_{\\theta_0,\\theta_1}\\frac{1}{2m}\\sum_{i=1}^{m} \\left(h_{\\theta}(x^{(i)})-y^{(i)}\\right)^2$$\n",
    "\n",
    "- Visually, it means we want to get to the bottom of our bowl:\n",
    "\n",
    "<p align=\"center\">\n",
    "  <img src=\"https://drive.google.com/uc?export=view&id=1Q0NwocOMQUKV2uOl08bRAZupMfaD8y6V\">\n",
    "</p>\n",
    "\n",
    "> 📚 **Resources**: We can demonstrate our Cost Function is \"a bowl\" be proving that the function is **[Convex](https://en.wikipedia.org/wiki/Convex_function)**\n",
    "\n",
    "> 🏆 **Quiz**: How do we find those optimal parameters that minimize the Cost Function?"
   ]
  },
  {
   "cell_type": "code",
   "execution_count": null,
   "metadata": {},
   "outputs": [],
   "source": []
  },
  {
   "cell_type": "markdown",
   "metadata": {},
   "source": [
    "# Multiclass Classification with Logistic Regression"
   ]
  },
  {
   "cell_type": "markdown",
   "metadata": {},
   "source": [
    "How to deal with multiclass classification?\n",
    "\n",
    "Example of Iris dataset."
   ]
  },
  {
   "cell_type": "markdown",
   "metadata": {},
   "source": [
    "=> One vs All"
   ]
  },
  {
   "cell_type": "markdown",
   "metadata": {
    "slideshow": {
     "slide_type": "subslide"
    }
   },
   "source": [
    "## Example of Iris classification"
   ]
  },
  {
   "cell_type": "markdown",
   "metadata": {},
   "source": [
    "`scikit-learn` comes with a few standard (and famous) datasets.\n",
    "\n",
    "For instance the **Iris** dataset:\n",
    "\n",
    "This dataset consists of 3 different types of flowers: *Setosa, Versicolour, and Virginica*. This corresponds to the **label** (also called **class**) we aim to predict.\n",
    "\n",
    "Each row corresponds to one flower observation.\n",
    "\n",
    "The columns contain the **features** (or characteristics) of the observerd flower: *Sepal Length, Sepal Width, Petal Length and Petal Width*.\n",
    "\n",
    "<p align=\"center\">\n",
    "<img src=\"https://cdn-images-1.medium.com/max/1600/0*7H_gF1KnslexnJ3s\" width=\"500px\"/>\n",
    "</p>\n",
    "\n",
    "This dataset is really famous and serves as benchmark for various classification algorithms.\n",
    "\n",
    "Let's load this example dataset and visualize our data."
   ]
  },
  {
   "cell_type": "code",
   "execution_count": 2,
   "metadata": {
    "ExecuteTime": {
     "end_time": "2019-07-11T09:41:41.348551Z",
     "start_time": "2019-07-11T09:41:38.517651Z"
    },
    "slideshow": {
     "slide_type": "fragment"
    }
   },
   "outputs": [],
   "source": [
    "#  Let's visualize this dataset on a 2-dimension chart using 2 first features\n",
    "from sklearn.datasets import load_iris\n",
    "X, y = load_iris(return_X_y=True)\n",
    "X = X[:,:2] # We keep only 2 features for visualisation purposes"
   ]
  },
  {
   "cell_type": "code",
   "execution_count": 3,
   "metadata": {
    "ExecuteTime": {
     "end_time": "2019-07-11T09:41:42.260768Z",
     "start_time": "2019-07-11T09:41:42.255930Z"
    },
    "slideshow": {
     "slide_type": "fragment"
    }
   },
   "outputs": [
    {
     "name": "stdout",
     "output_type": "stream",
     "text": [
      "X.shape=(150, 2)\n",
      "y.shape=(150,)\n"
     ]
    }
   ],
   "source": [
    "print(\"X.shape={}\".format(X.shape))\n",
    "print(\"y.shape={}\".format(y.shape))"
   ]
  },
  {
   "cell_type": "code",
   "execution_count": 5,
   "metadata": {
    "ExecuteTime": {
     "end_time": "2019-07-11T09:41:46.034762Z",
     "start_time": "2019-07-11T09:41:45.911756Z"
    },
    "slideshow": {
     "slide_type": "subslide"
    }
   },
   "outputs": [
    {
     "data": {
      "image/png": "[encoded data removed]",
      "text/plain": [
       "<Figure size 720x576 with 1 Axes>"
      ]
     },
     "metadata": {},
     "output_type": "display_data"
    }
   ],
   "source": [
    "from matplotlib import pyplot as plt\n",
    "\n",
    "# Create figure to draw chart\n",
    "plt.figure(2, figsize=(10, 8))\n",
    "\n",
    "# Plot the training points\n",
    "plt.scatter(X[:, 0], X[:, 1], c=y, cmap=plt.cm.Set1)\n",
    "\n",
    "# Format chart\n",
    "plt.xlabel('Sepal length')\n",
    "plt.ylabel('Sepal width')\n",
    "plt.xticks(())\n",
    "plt.yticks(())\n",
    "plt.show()"
   ]
  },
  {
   "cell_type": "markdown",
   "metadata": {
    "slideshow": {
     "slide_type": "subslide"
    }
   },
   "source": [
    "## II.2. Training a Machine Learning algorithm"
   ]
  },
  {
   "cell_type": "markdown",
   "metadata": {
    "slideshow": {
     "slide_type": "subslide"
    }
   },
   "source": [
    "In our case of the iris dataset, the task is to predict, given a flower observation (and the characteristics we collected on this flower - sepal lenght, etc.), which kind of flower it is.\n",
    "\n",
    "We are given samples of each of the 3 possible flowers (Setosa, Versicolour, and Virginica), on which we fit a model to predict the classes to which unseen samples belong.\n",
    "\n",
    "For now, it is ok to consider our model as a black box.\n",
    "\n",
    "The machine learning process is done in 3 simple steps:\n",
    "\n",
    "1. First we instanciate a model using scikit-learn library, for example a `KNeighborsClassifier`.\n",
    "2. Then we **fit** our model on our training data\n",
    "3. Finally we retrieve the **prediction** of our trained model on all our data. We will see later that we will want to test our model on **data unseen during training**."
   ]
  },
  {
   "cell_type": "code",
   "execution_count": 6,
   "metadata": {
    "ExecuteTime": {
     "end_time": "2019-07-11T09:41:51.051630Z",
     "start_time": "2019-07-11T09:41:50.920540Z"
    },
    "slideshow": {
     "slide_type": "fragment"
    }
   },
   "outputs": [],
   "source": [
    "# 1 - We instanciate the model\n",
    "from sklearn.neighbors import KNeighborsClassifier\n",
    "knn = KNeighborsClassifier(n_neighbors=3) # We specify k=3 (number of neighbors)"
   ]
  },
  {
   "cell_type": "code",
   "execution_count": 7,
   "metadata": {
    "ExecuteTime": {
     "end_time": "2019-07-11T09:41:52.036733Z",
     "start_time": "2019-07-11T09:41:52.023328Z"
    },
    "slideshow": {
     "slide_type": "fragment"
    }
   },
   "outputs": [
    {
     "data": {
      "text/plain": [
       "KNeighborsClassifier(algorithm='auto', leaf_size=30, metric='minkowski',\n",
       "           metric_params=None, n_jobs=None, n_neighbors=3, p=2,\n",
       "           weights='uniform')"
      ]
     },
     "execution_count": 7,
     "metadata": {},
     "output_type": "execute_result"
    }
   ],
   "source": [
    "# 2 - Then we train our model using the `fit` method`\n",
    "knn.fit(X=X, y=y)"
   ]
  },
  {
   "cell_type": "code",
   "execution_count": 8,
   "metadata": {
    "ExecuteTime": {
     "end_time": "2019-07-11T09:41:53.054768Z",
     "start_time": "2019-07-11T09:41:53.043873Z"
    },
    "slideshow": {
     "slide_type": "fragment"
    }
   },
   "outputs": [],
   "source": [
    "# 3 - Finally we retrieve a prediction on our data using only the features columns\n",
    "y_pred = knn.predict(X)"
   ]
  },
  {
   "cell_type": "markdown",
   "metadata": {
    "slideshow": {
     "slide_type": "subslide"
    }
   },
   "source": [
    "We can get a better understanding of our model by plotting the decision boundaries"
   ]
  },
  {
   "cell_type": "code",
   "execution_count": 10,
   "metadata": {
    "ExecuteTime": {
     "end_time": "2019-07-11T09:42:27.181874Z",
     "start_time": "2019-07-11T09:42:26.959404Z"
    },
    "code_folding": [],
    "slideshow": {
     "slide_type": "fragment"
    }
   },
   "outputs": [
    {
     "data": {
      "image/png": "[encoded data removed]",
      "text/plain": [
       "<Figure size 720x576 with 1 Axes>"
      ]
     },
     "metadata": {},
     "output_type": "display_data"
    }
   ],
   "source": [
    "import numpy as np\n",
    "\n",
    "# Create figure to draw chart\n",
    "plt.figure(figsize=(10, 8))\n",
    "\n",
    "# We create a grid of points contained within [x_min, x_max], [y_min, y_max] with step h=0.02\n",
    "x_min, x_max = X[:, 0].min() - .5, X[:, 0].max() + .5\n",
    "y_min, y_max = X[:, 1].min() - .5, X[:, 1].max() + .5\n",
    "h = .02  # step size of the grid\n",
    "xx, yy = np.meshgrid(np.arange(x_min, x_max, h), np.arange(y_min, y_max, h))\n",
    "\n",
    "# Retrieve predictions for each point of the grid\n",
    "Z_knn = knn.predict(np.c_[xx.ravel(), yy.ravel()])\n",
    "Z_knn = Z_knn.reshape(xx.shape)\n",
    "\n",
    "# Plot the decision boundary (label predicted assigned to a color)\n",
    "plt.pcolormesh(xx, yy, Z_knn, cmap=plt.cm.Paired)\n",
    "\n",
    "# Plot the data points color-coded by their class\n",
    "plt.scatter(X[:, 0], X[:, 1], c=y, cmap=plt.cm.Set1, alpha=0.8, edgecolor='k', s=40)\n",
    "# Format chart\n",
    "plt.title(\"Decision boundaries with 3-NN algorithm\")\n",
    "plt.xlabel('Sepal length')\n",
    "plt.ylabel('Sepal width')\n",
    "plt.xticks(())\n",
    "plt.yticks(())\n",
    "\n",
    "plt.show()"
   ]
  },
  {
   "cell_type": "markdown",
   "metadata": {
    "slideshow": {
     "slide_type": "subslide"
    }
   },
   "source": [
    "And finally we can evaluate our model by computing the score (accuracy) of our model. It corresponds to the **percentage of good predictions** (we compare y_pred with y)."
   ]
  },
  {
   "cell_type": "code",
   "execution_count": 11,
   "metadata": {
    "ExecuteTime": {
     "end_time": "2019-07-11T09:42:36.120265Z",
     "start_time": "2019-07-11T09:42:36.113048Z"
    },
    "slideshow": {
     "slide_type": "fragment"
    }
   },
   "outputs": [
    {
     "name": "stdout",
     "output_type": "stream",
     "text": [
      "Model has an accuracy of 85.0%\n"
     ]
    }
   ],
   "source": [
    "from sklearn.metrics import accuracy_score\n",
    "\n",
    "acc = accuracy_score(y, y_pred)\n",
    "\n",
    "print(\"Model has an accuracy of {}%\".format(round(acc*100), 2))"
   ]
  },
  {
   "cell_type": "markdown",
   "metadata": {
    "slideshow": {
     "slide_type": "subslide"
    }
   },
   "source": [
    "## II.3. Let's solve it with another algorithm: Logistic Regression"
   ]
  },
  {
   "cell_type": "markdown",
   "metadata": {
    "slideshow": {
     "slide_type": "subslide"
    }
   },
   "source": [
    "Again, we instanciate a `LogisticRegression` model"
   ]
  },
  {
   "cell_type": "code",
   "execution_count": 12,
   "metadata": {
    "ExecuteTime": {
     "end_time": "2019-07-11T09:42:39.160786Z",
     "start_time": "2019-07-11T09:42:39.030320Z"
    },
    "slideshow": {
     "slide_type": "fragment"
    }
   },
   "outputs": [],
   "source": [
    "from sklearn.linear_model import LogisticRegression\n",
    "lr = LogisticRegression()"
   ]
  },
  {
   "cell_type": "markdown",
   "metadata": {
    "slideshow": {
     "slide_type": "subslide"
    }
   },
   "source": [
    "Then we fit the model to our data"
   ]
  },
  {
   "cell_type": "code",
   "execution_count": 13,
   "metadata": {
    "ExecuteTime": {
     "end_time": "2019-07-11T09:42:40.256716Z",
     "start_time": "2019-07-11T09:42:40.241943Z"
    },
    "slideshow": {
     "slide_type": "fragment"
    }
   },
   "outputs": [
    {
     "data": {
      "text/plain": [
       "LogisticRegression(C=1.0, class_weight=None, dual=False, fit_intercept=True,\n",
       "          intercept_scaling=1, max_iter=100, multi_class='warn',\n",
       "          n_jobs=None, penalty='l2', random_state=None, solver='warn',\n",
       "          tol=0.0001, verbose=0, warm_start=False)"
      ]
     },
     "execution_count": 13,
     "metadata": {},
     "output_type": "execute_result"
    }
   ],
   "source": [
    "lr.fit(X, y)"
   ]
  },
  {
   "cell_type": "markdown",
   "metadata": {
    "slideshow": {
     "slide_type": "subslide"
    }
   },
   "source": [
    "Finally we can retrieve predictions based on our model"
   ]
  },
  {
   "cell_type": "code",
   "execution_count": 14,
   "metadata": {
    "ExecuteTime": {
     "end_time": "2019-07-11T09:42:41.311444Z",
     "start_time": "2019-07-11T09:42:41.305177Z"
    },
    "slideshow": {
     "slide_type": "fragment"
    }
   },
   "outputs": [],
   "source": [
    "y_pred = lr.predict(X)"
   ]
  },
  {
   "cell_type": "markdown",
   "metadata": {
    "slideshow": {
     "slide_type": "subslide"
    }
   },
   "source": [
    "We can get a better understanding of our model by plotting the decision boundaries"
   ]
  },
  {
   "cell_type": "code",
   "execution_count": 15,
   "metadata": {
    "ExecuteTime": {
     "end_time": "2019-07-11T09:42:54.891528Z",
     "start_time": "2019-07-11T09:42:54.689198Z"
    },
    "slideshow": {
     "slide_type": "fragment"
    }
   },
   "outputs": [
    {
     "data": {
      "image/png": "[encoded data removed]",
      "text/plain": [
       "<Figure size 720x576 with 1 Axes>"
      ]
     },
     "metadata": {},
     "output_type": "display_data"
    }
   ],
   "source": [
    "import numpy as np\n",
    "\n",
    "# Create figure to draw chart\n",
    "plt.figure(figsize=(10, 8))\n",
    "\n",
    "# We create a grid of points contained within [x_min, x_max]x[y_min, y_max] with step h=0.02\n",
    "x_min, x_max = X[:, 0].min() - .5, X[:, 0].max() + .5\n",
    "y_min, y_max = X[:, 1].min() - .5, X[:, 1].max() + .5\n",
    "h = .02  # step size of the grid\n",
    "xx, yy = np.meshgrid(np.arange(x_min, x_max, h), np.arange(y_min, y_max, h))\n",
    "\n",
    "# Retrieve predictions for each point of the grid\n",
    "Z_lr = lr.predict(np.c_[xx.ravel(), yy.ravel()])\n",
    "Z_lr = Z_lr.reshape(xx.shape)\n",
    "\n",
    "# Plot the decision boundary (label predicted assigned to a color)\n",
    "plt.pcolormesh(xx, yy, Z_lr, cmap=plt.cm.Paired)\n",
    "\n",
    "# And plot the testing point in white\n",
    "plt.scatter(X[:, 0], X[:, 1], c=y,\n",
    "            edgecolors='k',cmap=plt.cm.Paired, alpha=0.8, s=40)\n",
    "\n",
    "\n",
    "# Format chart\n",
    "plt.title(\"Decision boundaries with Logistic Regression\")\n",
    "plt.xlabel('Sepal length')\n",
    "plt.ylabel('Sepal width')\n",
    "plt.xticks(())\n",
    "plt.yticks(())\n",
    "plt.show()"
   ]
  },
  {
   "cell_type": "markdown",
   "metadata": {
    "slideshow": {
     "slide_type": "subslide"
    }
   },
   "source": [
    "And finally we can evaluate the global **accuracy** of our model by computing the **score** (number of good predictions over total number of predictions)."
   ]
  },
  {
   "cell_type": "code",
   "execution_count": 20,
   "metadata": {
    "ExecuteTime": {
     "end_time": "2019-07-10T15:30:00.335885Z",
     "start_time": "2019-07-10T15:30:00.327397Z"
    },
    "slideshow": {
     "slide_type": "fragment"
    }
   },
   "outputs": [
    {
     "name": "stdout",
     "output_type": "stream",
     "text": [
      "Model has an accuracy of 77.0%\n"
     ]
    }
   ],
   "source": [
    "from sklearn.metrics import accuracy_score\n",
    "\n",
    "acc = accuracy_score(y, y_pred)\n",
    "\n",
    "print(\"Model has an accuracy of {}%\".format(round(acc*100), 2))"
   ]
  },
  {
   "cell_type": "markdown",
   "metadata": {
    "slideshow": {
     "slide_type": "-"
    }
   },
   "source": [
    "___"
   ]
  },
  {
   "cell_type": "code",
   "execution_count": null,
   "metadata": {},
   "outputs": [],
   "source": []
  },
  {
   "cell_type": "code",
   "execution_count": null,
   "metadata": {},
   "outputs": [],
   "source": []
  },
  {
   "cell_type": "markdown",
   "metadata": {
    "slideshow": {
     "slide_type": "slide"
    }
   },
   "source": [
    "# III. The learning process"
   ]
  },
  {
   "cell_type": "markdown",
   "metadata": {
    "slideshow": {
     "slide_type": "slide"
    }
   },
   "source": [
    "This Linear Regression seems magical, we fit the scikit-learn object and automatically we retrieve the **best line** representing our data.\n",
    "\n",
    "But what is happening under the hood?"
   ]
  },
  {
   "cell_type": "markdown",
   "metadata": {
    "slideshow": {
     "slide_type": "subslide"
    }
   },
   "source": [
    "## III.1. Intuition"
   ]
  },
  {
   "cell_type": "markdown",
   "metadata": {
    "slideshow": {
     "slide_type": "fragment"
    }
   },
   "source": [
    "![](https://drive.google.com/uc?export=view&id=1h2TSkkuFBTIw9c8CyKZNCnwnbZLMI0Kf)"
   ]
  },
  {
   "cell_type": "markdown",
   "metadata": {
    "slideshow": {
     "slide_type": "fragment"
    }
   },
   "source": [
    "We search for the **parameters of the model $\\theta$** (here the slope and intersect) that minimize the **error** (also called **Cost Function** and noted $J(\\theta)$).\n",
    "\n",
    "> 🔦 **Hint**: The distances (small bars) are called **residuals**, but in practice we prefer to sum the squares of residuals (so that it's always positive + the larger the distance the larger the error). \n",
    ">\n",
    "> $${RSS=\\sum _{i=1}^{n}(h_\\theta(x_i})-y_{i})^{2}$$\n",
    ">\n",
    "> We call this sum the **[Residual Sum of Squares (RSS)](https://en.wikipedia.org/wiki/Residual_sum_of_squares)**\n",
    "\n",
    "In practical, we define the **Cost Function J as the Mean Squared Error**, which corresponds to the mean of the RSS on the training set (𝑚 is the number of training examples):\n",
    "\n",
    "$${J(\\theta)=\\frac{1}{m}\\sum _{i=1}^{n}(h_\\theta(x_i})-y_{i})^{2}$$\n"
   ]
  }
 ],
 "metadata": {
  "celltoolbar": "Slideshow",
  "kernelspec": {
   "display_name": "Python 3",
   "language": "python",
   "name": "python3"
  },
  "language_info": {
   "codemirror_mode": {
    "name": "ipython",
    "version": 3
   },
   "file_extension": ".py",
   "mimetype": "text/x-python",
   "name": "python",
   "nbconvert_exporter": "python",
   "pygments_lexer": "ipython3",
   "version": "3.7.4"
  }
 },
 "nbformat": 4,
 "nbformat_minor": 2
}
