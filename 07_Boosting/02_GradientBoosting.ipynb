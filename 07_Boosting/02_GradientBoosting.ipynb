{
 "cells": [
  {
   "cell_type": "markdown",
   "metadata": {
    "slideshow": {
     "slide_type": "slide"
    }
   },
   "source": [
    "# Gradient Boosting"
   ]
  },
  {
   "cell_type": "markdown",
   "metadata": {
    "slideshow": {
     "slide_type": "fragment"
    }
   },
   "source": [
    "Gradient Boosting is probably one the most widely machine learning algorithms.\n",
    "\n",
    "For pedagogical reasons, we will speak first about the regression methods, and then explain how it works with classification."
   ]
  },
  {
   "cell_type": "markdown",
   "metadata": {
    "slideshow": {
     "slide_type": "subslide"
    }
   },
   "source": [
    "## I. Regression with Gradient Boosting"
   ]
  },
  {
   "cell_type": "markdown",
   "metadata": {
    "slideshow": {
     "slide_type": "fragment"
    }
   },
   "source": [
    "Gradient Boosting is close to AdaBoost:\n",
    "- Trees are grown on the errors of the previous one\n",
    "- Each tree has a weight\n",
    "\n",
    "But there are some differences:\n",
    "- We start by predicting the average value of the $y$ column, and then only build a decision tree based on that prediction\n",
    "- The decision trees are not stumps, but real trees\n",
    "- A scale factor is applied to all the trees"
   ]
  },
  {
   "cell_type": "markdown",
   "metadata": {
    "slideshow": {
     "slide_type": "subslide"
    }
   },
   "source": [
    "## I.1. Step by step training"
   ]
  },
  {
   "cell_type": "markdown",
   "metadata": {
    "slideshow": {
     "slide_type": "fragment"
    }
   },
   "source": [
    "Let's dive into the algorithm, by having a step by step description. Just like we did with adaboost."
   ]
  },
  {
   "cell_type": "markdown",
   "metadata": {
    "slideshow": {
     "slide_type": "subslide"
    }
   },
   "source": [
    "Let's consider a simple dataset in which we have several features, $x_1, x_2, x_3, x_4$ and a label $y$."
   ]
  },
  {
   "cell_type": "markdown",
   "metadata": {
    "slideshow": {
     "slide_type": "fragment"
    }
   },
   "source": [
    "![](images/step0.png)"
   ]
  },
  {
   "cell_type": "markdown",
   "metadata": {
    "slideshow": {
     "slide_type": "subslide"
    }
   },
   "source": [
    "**Step 1**: Make the first guess with mean\n",
    "\n",
    "The initial guess of the Gradient Boosting algorithm is **the average value $\\hat{y}$ of the target $y$**. This will be considered as the first level prediction.\n",
    "\n",
    "Here the average value is $\\hat{y} = 16.9$:"
   ]
  },
  {
   "cell_type": "markdown",
   "metadata": {
    "slideshow": {
     "slide_type": "fragment"
    }
   },
   "source": [
    "![](images/step1.png)"
   ]
  },
  {
   "cell_type": "markdown",
   "metadata": {
    "slideshow": {
     "slide_type": "subslide"
    }
   },
   "source": [
    "**Step 2**: Compute the pseudo-residuals\n",
    "\n",
    "We then compute the difference between the labels and the predictions we made: $y - \\hat{y}$.\n",
    "\n",
    "This is called the pseudo-residuals:"
   ]
  },
  {
   "cell_type": "markdown",
   "metadata": {
    "slideshow": {
     "slide_type": "fragment"
    }
   },
   "source": [
    "![](images/step2.png)"
   ]
  },
  {
   "cell_type": "markdown",
   "metadata": {
    "slideshow": {
     "slide_type": "subslide"
    }
   },
   "source": [
    "**Step 3**: Train a decision tree to predict the pseudo-residuals\n",
    "\n",
    "We will finally train the first decision tree. That tree will use the features $x_1, x_2, x_3, x_4$, and predict as label the *pseudo residuals*. This would mean having the following dataset:"
   ]
  },
  {
   "cell_type": "markdown",
   "metadata": {
    "ExecuteTime": {
     "end_time": "2019-04-24T18:00:01.397746Z",
     "start_time": "2019-04-24T18:00:01.390222Z"
    },
    "slideshow": {
     "slide_type": "fragment"
    }
   },
   "source": [
    "![](images/step3.png)"
   ]
  },
  {
   "cell_type": "markdown",
   "metadata": {
    "slideshow": {
     "slide_type": "subslide"
    }
   },
   "source": [
    "We can now predict the pseudo-residuals $\\text{res_pred}_1$ using a tree, like for example the following:\n",
    "\n",
    "> For pedagogical reasons, the values will not be optimal here"
   ]
  },
  {
   "cell_type": "markdown",
   "metadata": {
    "slideshow": {
     "slide_type": "fragment"
    }
   },
   "source": [
    "![](images/step3_tree.png)"
   ]
  },
  {
   "cell_type": "markdown",
   "metadata": {
    "slideshow": {
     "slide_type": "subslide"
    }
   },
   "source": [
    "Finally, let's assume the results are the following:"
   ]
  },
  {
   "cell_type": "markdown",
   "metadata": {
    "slideshow": {
     "slide_type": "fragment"
    }
   },
   "source": [
    "![](images/step3_results.png)"
   ]
  },
  {
   "cell_type": "markdown",
   "metadata": {
    "slideshow": {
     "slide_type": "subslide"
    }
   },
   "source": [
    "**Step 4**: Perform a prediction and compute the new residuals\n",
    "\n",
    "\n",
    "We can now perform the prediction of the first decision tree.\n",
    "\n",
    "This prediction will be the following:\n",
    "\n",
    "$$\n",
    "\\hat{y}_1 = \\hat{y} + \\alpha \\times \\text{res_pred_1}\n",
    "$$\n",
    "\n",
    "Where:\n",
    "- $\\hat{y}$ is the first prediction (the average $y$)\n",
    "- $\\text{res_pred_1}$ is the residual prediction of the first decision tree\n",
    "- $\\alpha$ is the learning rate, between 0 and 1, typically smaller than 1"
   ]
  },
  {
   "cell_type": "markdown",
   "metadata": {
    "slideshow": {
     "slide_type": "fragment"
    }
   },
   "source": [
    "This $\\alpha$ will allow not to overshoot the optimal value, and learn more gently."
   ]
  },
  {
   "cell_type": "markdown",
   "metadata": {
    "slideshow": {
     "slide_type": "subslide"
    }
   },
   "source": [
    "We will then compute the new pseudo residuals $y - \\hat{y}_1$. The results could be the following with a learning $\\alpha = 0.5$:"
   ]
  },
  {
   "cell_type": "markdown",
   "metadata": {
    "slideshow": {
     "slide_type": "fragment"
    }
   },
   "source": [
    "![](images/step4.png)"
   ]
  },
  {
   "cell_type": "markdown",
   "metadata": {
    "slideshow": {
     "slide_type": "fragment"
    }
   },
   "source": [
    "Notice how our pseudo residuals decreased, meaning our model is learning."
   ]
  },
  {
   "cell_type": "markdown",
   "metadata": {
    "slideshow": {
     "slide_type": "subslide"
    }
   },
   "source": [
    "**Step 5**: Iterate with another prediction\n",
    "\n",
    "The next steps are to iterate over:\n",
    "- build another tree\n",
    "- compute the predictions of pseudo residuals of previous tree\n",
    "- compute the pseudo residuals according to the prediction\n",
    "\n",
    "Until either:\n",
    "- a maximum number of iteration is reached\n",
    "- the improvement from a tree to the next is below a given threshold"
   ]
  },
  {
   "cell_type": "markdown",
   "metadata": {
    "slideshow": {
     "slide_type": "subslide"
    }
   },
   "source": [
    "## I.2. Prediction"
   ]
  },
  {
   "cell_type": "markdown",
   "metadata": {
    "slideshow": {
     "slide_type": "fragment"
    }
   },
   "source": [
    "Finally we can compute a prediction, using:\n",
    "- The features $x_1, x_2, x_3, x_4$\n",
    "- The average first guess $\\hat{y}$ (computed on the train set!)\n",
    "- The pseudo residual prediction of each decision tree $i$: $\\text{res_pred_i}$\n",
    "- The learning rate $\\alpha$\n",
    "\n",
    "The final prediction will then be:\n",
    "\n",
    "$$\n",
    "y_{pred} = \\hat{y} + \\alpha \\sum_i \\text{res_pred_i}\n",
    "$$\n",
    "\n",
    "Notice that we apply the same learning rate $\\alpha$ to each decision tree."
   ]
  },
  {
   "cell_type": "markdown",
   "metadata": {
    "slideshow": {
     "slide_type": "subslide"
    }
   },
   "source": [
    "## I.3. Illustration"
   ]
  },
  {
   "cell_type": "markdown",
   "metadata": {
    "slideshow": {
     "slide_type": "subslide"
    }
   },
   "source": [
    "Below are some displays of a gradient boosting algorithm, at several number of iterations:\n",
    "- the blue dots are the labels $y$\n",
    "- the red line is the model prediction"
   ]
  },
  {
   "cell_type": "markdown",
   "metadata": {
    "slideshow": {
     "slide_type": "subslide"
    }
   },
   "source": [
    "<p align=\"center\">\n",
    "<img src=\"images/boosting_steps.png\">\n",
    "</p>"
   ]
  },
  {
   "cell_type": "markdown",
   "metadata": {
    "slideshow": {
     "slide_type": "subslide"
    }
   },
   "source": [
    "## I.4. [Optional] Pseudo-code"
   ]
  },
  {
   "cell_type": "markdown",
   "metadata": {
    "slideshow": {
     "slide_type": "fragment"
    }
   },
   "source": [
    "### Pseudo-Code :\n",
    "\n",
    "The algorithm can be then described as the following, on a dataset $(x,y)$ with $x$ the features and $y$ the targets, with a differentiable loss function $\\cal{L}$:\n",
    "\n",
    "$\\cal{L} = \\frac {1} {2} (Obs - Pred)^2$, called the Squared Residuals. Notice that since the function is differentiable, we have :\n",
    "\n",
    "$$ \\frac { \\delta } {\\delta Pred} \\cal{L} = - 1 \\times (Obs - Pred) $$"
   ]
  },
  {
   "cell_type": "markdown",
   "metadata": {
    "ExecuteTime": {
     "end_time": "2019-04-24T18:39:53.658544Z",
     "start_time": "2019-04-24T18:39:53.650531Z"
    },
    "slideshow": {
     "slide_type": "subslide"
    }
   },
   "source": [
    "**Step 1** : Initialize the model with a constant value : $F_0(x) = argmin_{\\gamma} \\sum_i \\cal{L}(y_i, \\gamma)$. We simply want to minimize the sum of the squared residuals (SSR) by choosing the best prediction $\\gamma$.\n",
    "    \n",
    "If we derive the optimal value for  $\\gamma$ :\n",
    "\n",
    "$$ \\frac { \\delta } {\\delta \\gamma } \\sum_i \\cal{L}(y_i, \\gamma) = -(y_1 - \\gamma) + -(y_2 - \\gamma) + -(y_3 - \\gamma) + ... = 0 $$\n",
    "\n",
    "$$ \\sum_i y_i - n * \\gamma = 0 $$\n",
    "\n",
    "$$ \\gamma = \\frac{ \\sum_i y_i }{n} = \\bar{y} $$\n",
    "\n",
    "This is simply the average of the observations. This justifies our previous constant initialization. In other words, we created a leaf that predicts all samples will weight the average of the samples."
   ]
  },
  {
   "cell_type": "markdown",
   "metadata": {
    "slideshow": {
     "slide_type": "subslide"
    }
   },
   "source": [
    "**Step 2** : For m = 1 to M (the maximum number of trees specified, e.g 100) \n",
    "\n",
    "- a) Compute the pseudo-residuals for every sample :\n",
    "    \n",
    "    $$ r_{im} = - \\frac {\\delta \\cal{L} (y_i, F(x_i)) } {\\delta F(x_i)} = - ( - 1 \\times (Obs - F_{m-1}(x)) ) = (Obs - F_{m-1}(x)) = (Obs - Pred) $$\n",
    "    \n",
    "This derivative is called the Gradient. The Gradient Boost is named after this.\n",
    "\n",
    "- b) Fit a regression tree to the $r_{im}$ values and create terminal regions $R_{jm}$ for j = 1, ... , $J_m$, i.e create the leaves of the tree. At that point, we still need to compute the output value of each leaf.\n",
    "\n",
    "- c) For each leaf j = 1... $J_m$, compute the output value that minimized the SSR : $\\gamma_{jm} = argmin_{\\gamma} \\sum_{x_i \\in R_{ij}} \\cal{L}(y_i, F_{m-1} + \\gamma)$. In other words, we will simply predict the output of all the samples stored in a certain leaf.\n",
    "\n",
    "- d) Make a new prediction for each sample by updating, accoridng to a learning rate $lr \\in (0,1)$ :\n",
    "$F_m(x) = F_{m-1}(x) + lr \\times \\sum_j \\gamma_{jm} I(x \\in R_{jm} )$. We compute the new value by summing the previous prediction and all the predictions $\\gamma$ into which our sample falls."
   ]
  },
  {
   "cell_type": "markdown",
   "metadata": {
    "slideshow": {
     "slide_type": "slide"
    }
   },
   "source": [
    "# II. Classification with gradient boosting"
   ]
  },
  {
   "cell_type": "markdown",
   "metadata": {
    "slideshow": {
     "slide_type": "fragment"
    }
   },
   "source": [
    "We covered the Gradient Boost techniques for regression.\n",
    "\n",
    "But how does it work for classification?"
   ]
  },
  {
   "cell_type": "markdown",
   "metadata": {
    "slideshow": {
     "slide_type": "fragment"
    }
   },
   "source": [
    "Actually, as you will see, there is just a small trick to transform a classification problem to a regression one."
   ]
  },
  {
   "cell_type": "markdown",
   "metadata": {
    "slideshow": {
     "slide_type": "subslide"
    }
   },
   "source": [
    "Let's assume our dataset is the following, for a binary classification (either `0` or `1`):"
   ]
  },
  {
   "cell_type": "markdown",
   "metadata": {
    "slideshow": {
     "slide_type": "fragment"
    }
   },
   "source": [
    "<p align=\"center\">\n",
    "<img src=\"https://drive.google.com/uc?export=view&id=1Lj_6kV2QCtfI2WySwXIqltS_Jq378E9_\">\n",
    "</p>"
   ]
  },
  {
   "cell_type": "markdown",
   "metadata": {
    "slideshow": {
     "slide_type": "subslide"
    }
   },
   "source": [
    "**Step 1**: compute the first prediction\n",
    "\n",
    "In the first step, instead of computing the average of $y$, we compute the what we can call the log of the odds $\\gamma$, which is just the log of the ratio of positive over negative samples:\n",
    "\n",
    "$$ \\gamma = log( \\frac {P(Y=1)} {P(Y=0)} ) = log( \\frac {3} {1} ) = log(3) $$"
   ]
  },
  {
   "cell_type": "markdown",
   "metadata": {
    "slideshow": {
     "slide_type": "fragment"
    }
   },
   "source": [
    "Then to have a probability prediction from this value, the only thing to do is to apply a logistic function:\n",
    "\n",
    "$$ P(Y=1) = \\frac {e^{\\gamma}} {1 + e^{\\gamma}} = \\frac {3} {4} = 0.75 $$\n",
    "\n",
    "This is our prediction.\n",
    "\n",
    "As for logistic regression, if this probability is greater than 0.5, we classify as 1. Else, we classify as 0."
   ]
  },
  {
   "cell_type": "markdown",
   "metadata": {
    "slideshow": {
     "slide_type": "subslide"
    }
   },
   "source": [
    "**Step 2**: compute the pseudo residuals\n",
    "\n",
    "We have now predicted a unique value for all samples: 0.75.\n",
    "\n",
    "This is exactly what we did for regression, when computing the average value $\\hat{y}$.\n",
    "\n",
    "Then, we can compute the pseudo residuals using this prediction:"
   ]
  },
  {
   "cell_type": "markdown",
   "metadata": {
    "slideshow": {
     "slide_type": "fragment"
    }
   },
   "source": [
    "<p align=\"center\">\n",
    "<img src=\"https://drive.google.com/uc?export=view&id=1_w0T67OihTb5Dpfa2HoinOOEyJ7zfrGR\">\n",
    "</p>"
   ]
  },
  {
   "cell_type": "markdown",
   "metadata": {
    "slideshow": {
     "slide_type": "subslide"
    }
   },
   "source": [
    "**Step 3**: Train a decision tree to predict the pseudo-residuals\n",
    "\n",
    "As previously, we use the features to predict the residuals. Suppose that we build the classification tree to predict the output value of the tree, having the following results:"
   ]
  },
  {
   "cell_type": "markdown",
   "metadata": {
    "slideshow": {
     "slide_type": "fragment"
    }
   },
   "source": [
    "<p align=\"center\">\n",
    "<img src=\"https://drive.google.com/uc?export=view&id=1nPbIi-mQGzXl-Kw08pZqVzkIBtiQvnAn\">\n",
    "</p>"
   ]
  },
  {
   "cell_type": "markdown",
   "metadata": {
    "slideshow": {
     "slide_type": "subslide"
    }
   },
   "source": [
    "**Step 4**: Perform a prediction and compute the new residuals\n",
    "\n",
    "There is one more trick here.\n",
    "\n",
    "In that case, we cannot use the output of a leaf as the predicted value directly, since we applied a transformation at first."
   ]
  },
  {
   "cell_type": "markdown",
   "metadata": {
    "slideshow": {
     "slide_type": "fragment"
    }
   },
   "source": [
    "We need to apply another transformation :\n",
    "\n",
    "$$ \\gamma_{i+1} = \\frac { \\sum_i Residuals_i } { \\sum(Residuals_i \\times (1-Residuals_i))} $$"
   ]
  },
  {
   "cell_type": "markdown",
   "metadata": {
    "slideshow": {
     "slide_type": "fragment"
    }
   },
   "source": [
    "For example, take the leaf in which we have 2 samples that falls into a leaf, having residuals `0.25` and `-0.75`.\n",
    "\n",
    "In that case, the output predicted residual of the branch is :\n",
    "\n",
    "$$ \\text{res_pred} = \\frac {0.25 - 0.75} { 0.75 * (1-0.75) + 0.75*(1-0.75)} = -1.33 $$"
   ]
  },
  {
   "cell_type": "markdown",
   "metadata": {
    "slideshow": {
     "slide_type": "subslide"
    }
   },
   "source": [
    "We can finally compute the new log odds prediction $\\gamma_1$ for that leaf using the following formula (assuming a learning rate $\\alpha = 0.1$:\n",
    "\n",
    "$$\n",
    "\\gamma_1 = \\gamma + \\alpha \\times \\text{res_pred} = log(3) + 0.1 * -1.33 = 0.9656\n",
    "$$\n",
    "\n",
    "And convert the new log odds prediction into a probability using the logistic function:\n",
    "\n",
    "$$ P(Y=1) = \\frac {e^{\\gamma_1}} {1 + e^{\\gamma_1}} = \\frac {e^{0.9656}} {1 + e^{0.9656}} = 0.7242 $$"
   ]
  },
  {
   "cell_type": "markdown",
   "metadata": {
    "slideshow": {
     "slide_type": "subslide"
    }
   },
   "source": [
    "**Step 5**: iterate\n",
    "\n",
    "Iterate until reaching the maximum number of iterations, or a tree to tree improvement below a given threshold."
   ]
  },
  {
   "cell_type": "markdown",
   "metadata": {
    "slideshow": {
     "slide_type": "slide"
    }
   },
   "source": [
    "# III. Implementation"
   ]
  },
  {
   "cell_type": "markdown",
   "metadata": {
    "slideshow": {
     "slide_type": "fragment"
    }
   },
   "source": [
    "Gradient boosting model is very popular. Thus, there exist several great implementations of this model, with some differences.\n",
    "\n",
    "We will just have a quick look here at the most used ones:\n",
    "- Extrement Gradient Boost\n",
    "- Light Gradient Boosting Model\n",
    "- Cat Boost"
   ]
  },
  {
   "cell_type": "markdown",
   "metadata": {
    "ExecuteTime": {
     "end_time": "2019-04-24T20:24:49.916209Z",
     "start_time": "2019-04-24T20:24:49.910609Z"
    },
    "slideshow": {
     "slide_type": "fragment"
    }
   },
   "source": [
    "<p align=\"center\">\n",
    "<img src=\"https://drive.google.com/uc?export=view&id=1XKdG62SAMVLPNeR3usTcyRfgvlWDtYUa\">\n",
    "</p>"
   ]
  },
  {
   "cell_type": "markdown",
   "metadata": {
    "slideshow": {
     "slide_type": "subslide"
    }
   },
   "source": [
    "## III.1. XGBoost"
   ]
  },
  {
   "cell_type": "markdown",
   "metadata": {
    "slideshow": {
     "slide_type": "fragment"
    }
   },
   "source": [
    "XGBoost stands for Extreme Gradient Boosting and is one of the *fastest implementations* of Gradient Boosted Trees. It is written in C++ and offers many useful wrappers in higher-level languages."
   ]
  },
  {
   "cell_type": "markdown",
   "metadata": {
    "slideshow": {
     "slide_type": "subslide"
    }
   },
   "source": [
    "Instead of considering the potential loss for all possible splits to create a new branch, it looks at the distribution of features across all data points in a leaf and uses this information to reduce the search space of possible feature splits.\n",
    "\n",
    "The way the best features are identified implies 2 main concepts:\n",
    "- Pre-sorting algorithm\n",
    "- Histogram-based algorithm"
   ]
  },
  {
   "cell_type": "markdown",
   "metadata": {
    "slideshow": {
     "slide_type": "fragment"
    }
   },
   "source": [
    "Pre-sorting splitting works this way:\n",
    "- For each node, enumerate over all features\n",
    "- For each feature, sort the instances by feature value\n",
    "- Use a linear scan to decide the best split along that feature basis information gain\n",
    "- Take the best split solution along all the features\n",
    "\n",
    "This might still be long to compute, so XGBoost uses the concept of Histogram-based split, which splits all the data points for a feature into discrete bins and uses these bins to find the split value of histogram.\n",
    "   "
   ]
  },
  {
   "cell_type": "markdown",
   "metadata": {
    "slideshow": {
     "slide_type": "subslide"
    }
   },
   "source": [
    "Keep in mind the XGBoost grows the trees \"level-wise\" due to the splitting methods detailed above:"
   ]
  },
  {
   "cell_type": "markdown",
   "metadata": {
    "slideshow": {
     "slide_type": "fragment"
    }
   },
   "source": [
    "<p align=\"center\">\n",
    "<img src=\"https://drive.google.com/uc?export=view&id=1l-WZRgA8YjqknnoQiwCfS5_6c58RvEWs\">\n",
    "</p>"
   ]
  },
  {
   "cell_type": "markdown",
   "metadata": {
    "slideshow": {
     "slide_type": "subslide"
    }
   },
   "source": [
    "## III.2. LGBM"
   ]
  },
  {
   "cell_type": "markdown",
   "metadata": {
    "slideshow": {
     "slide_type": "fragment"
    }
   },
   "source": [
    "LightGBM uses a novel technique of Gradient-based One-Side Sampling (GOSS) to filter out the samples for finding a split value.\n",
    "\n",
    "Gradient-based One-Side Sampling keeps all the instances with large gradients and performs random sampling on the instances with small gradients. For example, let’s say we have 500K rows of data where 10k rows have higher gradients. So the algorithm will choose (10k rows of higher gradient+ x% of remaining 490k rows chosen randomly).\n",
    "\n",
    "A leaf with higher gradient/error is used for growing further. This is what we call a leaf-wise growth."
   ]
  },
  {
   "cell_type": "markdown",
   "metadata": {
    "slideshow": {
     "slide_type": "fragment"
    }
   },
   "source": [
    "<center>\n",
    "<img src=\"https://drive.google.com/uc?export=view&id=1_M0F5XOUSSvbhypERNGovZqiX_JJnPsx\" width=600>\n",
    "</center>"
   ]
  },
  {
   "cell_type": "markdown",
   "metadata": {
    "slideshow": {
     "slide_type": "subslide"
    }
   },
   "source": [
    "LightGBM has the huge advantage to be parallelized: it means it can be optimized on multiple processors and then decrease largely the computing time. But on the other hand, LightGBM is really sensitive to overfitting. This is an algorithm that performs poorly on small datasets.\n",
    "\n",
    "This is then well suited for large datasets (at least 10000 samples), when overfitting is less likely and high speed is needed.\n",
    "\n",
    "More information can be found in the original documentation if you ever need to use it: https://lightgbm.readthedocs.io/en/latest/\n"
   ]
  },
  {
   "cell_type": "markdown",
   "metadata": {
    "slideshow": {
     "slide_type": "subslide"
    }
   },
   "source": [
    "## III.3. CatBoost"
   ]
  },
  {
   "cell_type": "markdown",
   "metadata": {},
   "source": [
    "CatBoost is a fast, scalable, high performance open-source gradient boosting on decision trees library developed by Yandex. The main features of CatBoost are the following:\n",
    "- Categorical features support (even text categories)\n",
    "- Fast and scalable GPU version\n",
    "- User-friendly APIs...\n",
    "\n",
    "If you'd like to know more: https://catboost.ai/"
   ]
  },
  {
   "cell_type": "markdown",
   "metadata": {
    "slideshow": {
     "slide_type": "slide"
    }
   },
   "source": [
    "# IV. Application example"
   ]
  },
  {
   "cell_type": "markdown",
   "metadata": {
    "slideshow": {
     "slide_type": "fragment"
    }
   },
   "source": [
    "We will just have a simple application example, and compare for each boosting method we know:\n",
    "- the decision boundaries\n",
    "- the computation time\n",
    "- the accuracy"
   ]
  },
  {
   "cell_type": "code",
   "execution_count": 11,
   "metadata": {
    "ExecuteTime": {
     "end_time": "2019-05-03T06:48:43.005467Z",
     "start_time": "2019-05-03T06:48:40.007376Z"
    },
    "slideshow": {
     "slide_type": "subslide"
    }
   },
   "outputs": [
    {
     "data": {
      "image/png": "[encoded data removed]",
      "text/plain": [
       "<Figure size 432x288 with 1 Axes>"
      ]
     },
     "metadata": {
      "needs_background": "light"
     },
     "output_type": "display_data"
    }
   ],
   "source": [
    "import numpy as np\n",
    "import matplotlib.pyplot as plt\n",
    "from sklearn.datasets import load_iris\n",
    "from sklearn.model_selection import train_test_split\n",
    "\n",
    "iris = load_iris()\n",
    "X = iris.data[:, :2]\n",
    "y = iris.target\n",
    "\n",
    "X_train, X_test, y_train, y_test = train_test_split(X, y, test_size=0.2, random_state=0)\n",
    "\n",
    "plt.scatter(X[y==0,0], X[y==0, 1])\n",
    "plt.scatter(X[y==1,0], X[y==1, 1])\n",
    "plt.scatter(X[y==2,0], X[y==2, 1])\n",
    "plt.show()"
   ]
  },
  {
   "cell_type": "code",
   "execution_count": 12,
   "metadata": {
    "ExecuteTime": {
     "end_time": "2019-05-03T06:48:43.336338Z",
     "start_time": "2019-05-03T06:48:43.313727Z"
    },
    "slideshow": {
     "slide_type": "skip"
    }
   },
   "outputs": [],
   "source": [
    "def plot_figure(model) : \n",
    "    # Make a decision boundary plot\n",
    "    # Create figure to draw chart\n",
    "    plt.figure(2, figsize=(10, 8))\n",
    "\n",
    "    # We create a grid of points contained within [x_min, x_max]x[y_min, y_max] with step h=0.02\n",
    "    x_min, x_max = X[:, 0].min() - .5, X[:, 0].max() + .5\n",
    "    y_min, y_max = X[:, 1].min() - .5, X[:, 1].max() + .5\n",
    "    h = .02  # step size of the grid\n",
    "    xx, yy = np.meshgrid(np.arange(x_min, x_max, h), np.arange(y_min, y_max, h))\n",
    "        \n",
    "    # Retrieve predictions for each point of the grid\n",
    "    Z_GBC = model.predict(np.c_[xx.ravel(), yy.ravel()])\n",
    "    Z_GBC = Z_GBC.reshape(xx.shape)\n",
    "\n",
    "    # Plot the decision boundary (label predicted assigned to a color)\n",
    "    plt.pcolormesh(xx, yy, Z_GBC, cmap=plt.cm.Paired)\n",
    "\n",
    "    # Plot also the training points\n",
    "    plt.scatter(X[:, 0], X[:, 1], c=y, edgecolors='k', cmap=plt.cm.Paired)\n",
    "\n",
    "    # Format chart\n",
    "    plt.xlabel('Sepal length')\n",
    "    plt.ylabel('Sepal width')\n",
    "    plt.xticks(())\n",
    "    plt.yticks(())\n",
    "    plt.show()"
   ]
  },
  {
   "cell_type": "markdown",
   "metadata": {
    "slideshow": {
     "slide_type": "subslide"
    }
   },
   "source": [
    "## IV.1. Decision Tree"
   ]
  },
  {
   "cell_type": "code",
   "execution_count": 13,
   "metadata": {
    "ExecuteTime": {
     "end_time": "2019-05-03T06:48:43.478916Z",
     "start_time": "2019-05-03T06:48:43.340499Z"
    },
    "slideshow": {
     "slide_type": "fragment"
    }
   },
   "outputs": [
    {
     "name": "stdout",
     "output_type": "stream",
     "text": [
      "CPU times: user 2.24 ms, sys: 305 µs, total: 2.54 ms\n",
      "Wall time: 1.7 ms\n",
      "accuracy: 0.6666666666666666\n"
     ]
    }
   ],
   "source": [
    "from sklearn.tree import DecisionTreeClassifier\n",
    "\n",
    "dt = DecisionTreeClassifier()\n",
    "%time dt.fit(X_train, y_train)\n",
    "\n",
    "print('accuracy:', dt.score(X_test, y_test))"
   ]
  },
  {
   "cell_type": "code",
   "execution_count": 14,
   "metadata": {
    "ExecuteTime": {
     "end_time": "2019-05-03T06:48:43.863796Z",
     "start_time": "2019-05-03T06:48:43.511112Z"
    },
    "slideshow": {
     "slide_type": "subslide"
    }
   },
   "outputs": [
    {
     "data": {
      "image/png": "[encoded data removed]",
      "text/plain": [
       "<Figure size 720x576 with 1 Axes>"
      ]
     },
     "metadata": {},
     "output_type": "display_data"
    }
   ],
   "source": [
    "# Plot the figure\n",
    "plot_figure(dt)"
   ]
  },
  {
   "cell_type": "markdown",
   "metadata": {
    "slideshow": {
     "slide_type": "subslide"
    }
   },
   "source": [
    "## IV.2. AdaBoost"
   ]
  },
  {
   "cell_type": "code",
   "execution_count": 15,
   "metadata": {
    "ExecuteTime": {
     "end_time": "2019-05-03T06:48:43.956925Z",
     "start_time": "2019-05-03T06:48:43.866772Z"
    },
    "slideshow": {
     "slide_type": "fragment"
    }
   },
   "outputs": [
    {
     "name": "stdout",
     "output_type": "stream",
     "text": [
      "CPU times: user 136 ms, sys: 0 ns, total: 136 ms\n",
      "Wall time: 136 ms\n",
      "accuracy: 0.6\n"
     ]
    }
   ],
   "source": [
    "from sklearn.ensemble import AdaBoostClassifier\n",
    "\n",
    "ada = AdaBoostClassifier(n_estimators=100)\n",
    "%time ada.fit(X_train, y_train)\n",
    "\n",
    "print('accuracy:', ada.score(X_test, y_test))"
   ]
  },
  {
   "cell_type": "code",
   "execution_count": 16,
   "metadata": {
    "ExecuteTime": {
     "end_time": "2019-05-03T06:48:44.865500Z",
     "start_time": "2019-05-03T06:48:44.113353Z"
    },
    "slideshow": {
     "slide_type": "subslide"
    }
   },
   "outputs": [
    {
     "data": {
      "image/png": "[encoded data removed]",
      "text/plain": [
       "<Figure size 720x576 with 1 Axes>"
      ]
     },
     "metadata": {},
     "output_type": "display_data"
    }
   ],
   "source": [
    "# Plot the figure\n",
    "plot_figure(ada)"
   ]
  },
  {
   "cell_type": "markdown",
   "metadata": {
    "slideshow": {
     "slide_type": "subslide"
    }
   },
   "source": [
    "## IV.3. Gradient Boosting"
   ]
  },
  {
   "cell_type": "code",
   "execution_count": 19,
   "metadata": {
    "ExecuteTime": {
     "end_time": "2019-05-03T06:48:44.873532Z",
     "start_time": "2019-05-03T06:48:44.869234Z"
    },
    "slideshow": {
     "slide_type": "fragment"
    }
   },
   "outputs": [
    {
     "name": "stdout",
     "output_type": "stream",
     "text": [
      "CPU times: user 48.3 ms, sys: 4.04 ms, total: 52.4 ms\n",
      "Wall time: 51.8 ms\n",
      "accuracy: 0.6666666666666666\n"
     ]
    }
   ],
   "source": [
    "# Import the library\n",
    "from sklearn.ensemble import GradientBoostingClassifier\n",
    "\n",
    "GBC = GradientBoostingClassifier(n_estimators=10, max_depth=5)\n",
    "%time GBC.fit(X_train, y_train)\n",
    "\n",
    "print('accuracy:', GBC.score(X_test, y_test))"
   ]
  },
  {
   "cell_type": "code",
   "execution_count": 20,
   "metadata": {
    "ExecuteTime": {
     "end_time": "2019-05-03T06:48:45.528838Z",
     "start_time": "2019-05-03T06:48:45.099767Z"
    },
    "scrolled": false,
    "slideshow": {
     "slide_type": "subslide"
    }
   },
   "outputs": [
    {
     "data": {
      "image/png": "[encoded data removed]",
      "text/plain": [
       "<Figure size 720x576 with 1 Axes>"
      ]
     },
     "metadata": {},
     "output_type": "display_data"
    }
   ],
   "source": [
    "# Plot the figure\n",
    "plot_figure(GBC)"
   ]
  },
  {
   "cell_type": "markdown",
   "metadata": {
    "slideshow": {
     "slide_type": "subslide"
    }
   },
   "source": [
    "As you can see, Gradient Boosting may overfit. The following hyperparameters can be used to reduce variance:\n",
    "- `subsample`: percentage of samples used per tree, by setting it lower than 1 may reduce variance and add bias\n",
    "- `max_features`: the max number of features to use per split, by setting it to a smaller value it takes a subspace of the features, helping reduce variance\n",
    "- `n_iter_no_change`: early stopping, it stops the algorithm after the given number of iteration without change to the loss function\n",
    "- `max_depth`: the maximum depth of the decision trees"
   ]
  },
  {
   "cell_type": "markdown",
   "metadata": {
    "slideshow": {
     "slide_type": "fragment"
    }
   },
   "source": [
    "Of course, an hyperparameter random or grid search is necessary to optimize properly the hyperparameters."
   ]
  },
  {
   "cell_type": "markdown",
   "metadata": {
    "slideshow": {
     "slide_type": "subslide"
    }
   },
   "source": [
    "## IV.4. XGBoost"
   ]
  },
  {
   "cell_type": "markdown",
   "metadata": {
    "slideshow": {
     "slide_type": "fragment"
    }
   },
   "source": [
    "You may have to install it, for example with the command:\n",
    "\n",
    "`conda install xgboost`\n",
    "\n",
    "The API is very similar to the one of scikit-learn, with:\n",
    "- object instantiation\n",
    "- model fit with `.fit(X_train, y_train)`\n",
    "- prediction with `.predict(X_test)`"
   ]
  },
  {
   "cell_type": "code",
   "execution_count": 22,
   "metadata": {
    "ExecuteTime": {
     "end_time": "2019-05-03T06:48:46.719548Z",
     "start_time": "2019-05-03T06:48:46.045589Z"
    },
    "slideshow": {
     "slide_type": "subslide"
    }
   },
   "outputs": [
    {
     "name": "stdout",
     "output_type": "stream",
     "text": [
      "CPU times: user 29.9 ms, sys: 77 µs, total: 30 ms\n",
      "Wall time: 28.1 ms\n",
      "accuracy: 0.7666666666666667\n"
     ]
    }
   ],
   "source": [
    "# Import the library\n",
    "import xgboost as xgb\n",
    "\n",
    "# Instantiate the object\n",
    "xg = xgb.XGBClassifier()\n",
    "# Fit on the data\n",
    "%time xg.fit(X_train, y_train)\n",
    "print('accuracy:', xg.score(X_test, y_test))"
   ]
  },
  {
   "cell_type": "code",
   "execution_count": 23,
   "metadata": {
    "ExecuteTime": {
     "end_time": "2019-05-03T06:48:47.321005Z",
     "start_time": "2019-05-03T06:48:46.767053Z"
    },
    "slideshow": {
     "slide_type": "subslide"
    }
   },
   "outputs": [
    {
     "data": {
      "image/png": "[encoded data removed]",
      "text/plain": [
       "<Figure size 720x576 with 1 Axes>"
      ]
     },
     "metadata": {},
     "output_type": "display_data"
    }
   ],
   "source": [
    "# Plot the figure\n",
    "plot_figure(xg)"
   ]
  },
  {
   "cell_type": "markdown",
   "metadata": {
    "slideshow": {
     "slide_type": "subslide"
    }
   },
   "source": [
    "## IV.4. LightGBM"
   ]
  },
  {
   "cell_type": "markdown",
   "metadata": {
    "slideshow": {
     "slide_type": "fragment"
    }
   },
   "source": [
    "To install it, one can type:\n",
    "\n",
    "`pip install lightgbm`"
   ]
  },
  {
   "cell_type": "code",
   "execution_count": 24,
   "metadata": {
    "ExecuteTime": {
     "end_time": "2019-10-21T09:55:25.336685Z",
     "start_time": "2019-10-21T09:55:22.891451Z"
    },
    "slideshow": {
     "slide_type": "fragment"
    }
   },
   "outputs": [
    {
     "name": "stdout",
     "output_type": "stream",
     "text": [
      "CPU times: user 31.1 ms, sys: 0 ns, total: 31.1 ms\n",
      "Wall time: 33.6 ms\n",
      "accuracy: 0.6333333333333333\n"
     ]
    }
   ],
   "source": [
    "import lightgbm as lgb\n",
    "\n",
    "lg = lgb.LGBMClassifier(silent=False)\n",
    "%time lg.fit(X_train, y_train)\n",
    "print('accuracy:', lg.score(X_test, y_test))"
   ]
  },
  {
   "cell_type": "code",
   "execution_count": 25,
   "metadata": {
    "ExecuteTime": {
     "end_time": "2019-05-03T06:48:49.732497Z",
     "start_time": "2019-05-03T06:48:49.164614Z"
    },
    "slideshow": {
     "slide_type": "subslide"
    }
   },
   "outputs": [
    {
     "data": {
      "image/png": "[encoded data removed]",
      "text/plain": [
       "<Figure size 720x576 with 1 Axes>"
      ]
     },
     "metadata": {},
     "output_type": "display_data"
    }
   ],
   "source": [
    "# Plot the figure\n",
    "plot_figure(lg)"
   ]
  },
  {
   "cell_type": "markdown",
   "metadata": {
    "slideshow": {
     "slide_type": "subslide"
    }
   },
   "source": [
    "## IV.5. CatBoost"
   ]
  },
  {
   "cell_type": "markdown",
   "metadata": {
    "slideshow": {
     "slide_type": "fragment"
    }
   },
   "source": [
    "To install catboost:\n",
    "    \n",
    "`conda install catboost`"
   ]
  },
  {
   "cell_type": "code",
   "execution_count": 26,
   "metadata": {
    "ExecuteTime": {
     "end_time": "2019-05-03T06:48:49.831617Z",
     "start_time": "2019-05-03T06:48:49.737309Z"
    },
    "slideshow": {
     "slide_type": "subslide"
    }
   },
   "outputs": [
    {
     "name": "stdout",
     "output_type": "stream",
     "text": [
      "0:\tlearn: 1.0783315\ttotal: 50.5ms\tremaining: 959ms\n",
      "1:\tlearn: 1.0600054\ttotal: 51.9ms\tremaining: 467ms\n",
      "2:\tlearn: 1.0419733\ttotal: 53.1ms\tremaining: 301ms\n",
      "3:\tlearn: 1.0237406\ttotal: 54.3ms\tremaining: 217ms\n",
      "4:\tlearn: 1.0060854\ttotal: 55.5ms\tremaining: 167ms\n",
      "5:\tlearn: 0.9880642\ttotal: 56.7ms\tremaining: 132ms\n",
      "6:\tlearn: 0.9705925\ttotal: 57.8ms\tremaining: 107ms\n",
      "7:\tlearn: 0.9540200\ttotal: 59.1ms\tremaining: 88.6ms\n",
      "8:\tlearn: 0.9389742\ttotal: 60.2ms\tremaining: 73.6ms\n",
      "9:\tlearn: 0.9237246\ttotal: 61.4ms\tremaining: 61.4ms\n",
      "10:\tlearn: 0.9105866\ttotal: 62.6ms\tremaining: 51.2ms\n",
      "11:\tlearn: 0.8958291\ttotal: 63.4ms\tremaining: 42.3ms\n",
      "12:\tlearn: 0.8820254\ttotal: 64.5ms\tremaining: 34.7ms\n",
      "13:\tlearn: 0.8695045\ttotal: 65.7ms\tremaining: 28.2ms\n",
      "14:\tlearn: 0.8575453\ttotal: 66.9ms\tremaining: 22.3ms\n",
      "15:\tlearn: 0.8460796\ttotal: 67.8ms\tremaining: 17ms\n",
      "16:\tlearn: 0.8351274\ttotal: 68.7ms\tremaining: 12.1ms\n",
      "17:\tlearn: 0.8239845\ttotal: 69.6ms\tremaining: 7.74ms\n",
      "18:\tlearn: 0.8137926\ttotal: 70.5ms\tremaining: 3.71ms\n",
      "19:\tlearn: 0.8031361\ttotal: 71.4ms\tremaining: 0us\n",
      "CPU times: user 243 ms, sys: 3.89 ms, total: 246 ms\n",
      "Wall time: 110 ms\n",
      "accuracy: 0.7333333333333333\n"
     ]
    }
   ],
   "source": [
    "import catboost as cb\n",
    "\n",
    "cb = cb.CatBoostClassifier(iterations=20, loss_function='MultiClass')\n",
    "%time cb.fit(X,y)\n",
    "print('accuracy:', cb.score(X_test, y_test))"
   ]
  },
  {
   "cell_type": "code",
   "execution_count": 27,
   "metadata": {
    "ExecuteTime": {
     "end_time": "2019-05-03T06:48:50.823120Z",
     "start_time": "2019-05-03T06:48:50.290983Z"
    },
    "slideshow": {
     "slide_type": "subslide"
    }
   },
   "outputs": [
    {
     "data": {
      "image/png": "[encoded data removed]",
      "text/plain": [
       "<Figure size 720x576 with 1 Axes>"
      ]
     },
     "metadata": {},
     "output_type": "display_data"
    }
   ],
   "source": [
    "# Plot the figure\n",
    "plot_figure(cb)"
   ]
  },
  {
   "cell_type": "markdown",
   "metadata": {
    "slideshow": {
     "slide_type": "slide"
    }
   },
   "source": [
    "# V. Summary"
   ]
  },
  {
   "cell_type": "markdown",
   "metadata": {
    "slideshow": {
     "slide_type": "fragment"
    }
   },
   "source": [
    "*Random Forest:*\n",
    "- is a Bagging algorithm\n",
    "- that makes a forest of decision trees\n",
    "- gives the same weight to each decision tree\n",
    "- grows trees independently\n",
    "\n",
    "*Adaboost:*\n",
    "- is a Boosting algorithm\n",
    "- combines weak learners (most often stumps)\n",
    "- gives a different weight to each stump depending on their performance\n",
    "- each stump depends on the mistakes of the previous ones"
   ]
  },
  {
   "cell_type": "markdown",
   "metadata": {
    "slideshow": {
     "slide_type": "subslide"
    }
   },
   "source": [
    "*Gradient Boosting Regression:*\n",
    "- is a Boosting algorithm\n",
    "- combines trees\n",
    "- computes the residuals of the previous step\n",
    "- attaches a learning rate to each model\n",
    "\n",
    "*Gradient Boosting Classification:*\n",
    "- same as regression\n",
    "- applies as transformation to allow for classification"
   ]
  },
  {
   "cell_type": "markdown",
   "metadata": {
    "slideshow": {
     "slide_type": "subslide"
    }
   },
   "source": [
    "*XGBoost:*\n",
    "- super fast implementation\n",
    "- Histogram-based split to build trees\n",
    "\n",
    "*LGBM:*\n",
    "- developed by Microsoft\n",
    "- leaf-wise development depending of gradient\n",
    "\n",
    "*Catboost:*\n",
    "- developed by Yandex\n",
    "- supports categorical features\n",
    "- supports GPU natively"
   ]
  }
 ],
 "metadata": {
  "celltoolbar": "Slideshow",
  "kernelspec": {
   "display_name": "Python 3",
   "language": "python",
   "name": "python3"
  },
  "language_info": {
   "codemirror_mode": {
    "name": "ipython",
    "version": 3
   },
   "file_extension": ".py",
   "mimetype": "text/x-python",
   "name": "python",
   "nbconvert_exporter": "python",
   "pygments_lexer": "ipython3",
   "version": "3.7.4"
  }
 },
 "nbformat": 4,
 "nbformat_minor": 2
}
