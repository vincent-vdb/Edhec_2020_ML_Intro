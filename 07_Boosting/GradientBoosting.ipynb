{
 "cells": [
  {
   "cell_type": "markdown",
   "metadata": {},
   "source": [
    "- Bagging vs boosting\n",
    "- Stumps and adaboost\n",
    "- Gradient boosting for classification\n",
    "- Gradient boosting for regression\n",
    "- Implementations of gradient boosting"
   ]
  },
  {
   "cell_type": "code",
   "execution_count": null,
   "metadata": {},
   "outputs": [],
   "source": []
  },
  {
   "cell_type": "markdown",
   "metadata": {
    "slideshow": {
     "slide_type": "slide"
    }
   },
   "source": [
    "## Boosting, Adaptative Boosting, Gradient Boosting"
   ]
  },
  {
   "cell_type": "markdown",
   "metadata": {},
   "source": [
    "![](https://images.unsplash.com/photo-1508796079212-a4b83cbf734d?ixlib=rb-1.2.1&ixid=eyJhcHBfaWQiOjEyMDd9&auto=format&fit=crop&w=1050&q=80)\n",
    "\n",
    "Photo by [César Couto](https://unsplash.com/photos/hNZ6WOOnQpk)"
   ]
  },
  {
   "cell_type": "markdown",
   "metadata": {
    "slideshow": {
     "slide_type": "fragment"
    }
   },
   "source": [
    "Today's lesson is about Gradient Boosting, a powerful Machine Learning algorithm. Like Random Forest, it can be used either for regression or classification! We will start off with a gentle reminder on Decision Trees and Bagging techniques, before moving on to Adaptative Boosting, Gradient Boosting and XGBoost/LGMB/Catboost."
   ]
  },
  {
   "cell_type": "markdown",
   "metadata": {
    "slideshow": {
     "slide_type": "slide"
    }
   },
   "source": [
    "# I. Reminder : Decision Trees and Random Forests"
   ]
  },
  {
   "cell_type": "markdown",
   "metadata": {},
   "source": [
    "## I.1 Decision Trees"
   ]
  },
  {
   "cell_type": "markdown",
   "metadata": {},
   "source": [
    "Reminder that in a Decision Tree, we perform binary classifications and can grow the depth of a tree to make the resulting decision frontier more complex."
   ]
  },
  {
   "cell_type": "markdown",
   "metadata": {},
   "source": [
    "<p align=\"center\">\n",
    "<img src=\"https://drive.google.com/uc?export=view&id=1GxvuU-RU8afLzYZc2eegZnRtyUzoL4AF\">\n",
    "</p>"
   ]
  },
  {
   "cell_type": "markdown",
   "metadata": {},
   "source": [
    "To build the tree, we choose each time the feature that splits our data the best way possible. How do we measure the qualitiy of a split ?\n",
    "- crossed-entropy\n",
    "- Gini impurity\n",
    "- classification error\n",
    "\n",
    "Note that in order to grow a decision tree for numeric data, we usually order the data by value of each feature, compute the average between every successive pair of values, and compute the split quality measure (e.g Gini) using this average.\n",
    "\n",
    "We stop the development of the tree when splitting a node does not lower the impurity."
   ]
  },
  {
   "cell_type": "markdown",
   "metadata": {},
   "source": [
    "Recall that the Gini impurity can be defined as follows. Let $p_{i}$ be the fraction of items labeled with class i in the set :\n",
    "$$ I_G = 1 - \\sum_{i = 1...J} {p_i}^2 $$"
   ]
  },
  {
   "cell_type": "markdown",
   "metadata": {},
   "source": [
    "## I.2 Random Forest"
   ]
  },
  {
   "cell_type": "markdown",
   "metadata": {},
   "source": [
    "In Random Forests, we build forests of Decision Trees in several key steps :"
   ]
  },
  {
   "cell_type": "markdown",
   "metadata": {},
   "source": [
    "**Step 1** : Boostrap Sampling\n",
    "\n",
    "Pick *n* data points randomly. We are allowed to pick the same point more than 1 time for each bootstrap sample. We will build several bootstrap samples, say K."
   ]
  },
  {
   "cell_type": "markdown",
   "metadata": {},
   "source": [
    "<p align=\"center\">\n",
    "<img src=\"https://drive.google.com/uc?export=view&id=1Cmh0STP2ZmfEnfe-BXuMLOjFgTeUKZDu\">\n",
    "</p>"
   ]
  },
  {
   "cell_type": "markdown",
   "metadata": {},
   "source": [
    "**Step 2** : Decision Tree\n",
    "\n",
    "Then, we build a desicison tree for each bootstrap sample, and use only a subset of the variables each time.  This builds a wide variety of trees."
   ]
  },
  {
   "cell_type": "markdown",
   "metadata": {},
   "source": [
    "<p align=\"center\">\n",
    "<img src=\"https://drive.google.com/uc?export=view&id=10bRgs3x9O4CoGXhQ0r_teSGzXPq15-2C\">\n",
    "</p>"
   ]
  },
  {
   "cell_type": "markdown",
   "metadata": {},
   "source": [
    "**Step 3** : Majority Vote\n",
    "\n",
    "Finally, in prediction, we get a new sample, run it through all the decision trees, and apply a majority vote on the output of each tree."
   ]
  },
  {
   "cell_type": "markdown",
   "metadata": {},
   "source": [
    "We first **bootstraped** the data, and then **aggregated** the results. This is called Bagging, and stands for Bootstrap Aggregating."
   ]
  },
  {
   "cell_type": "markdown",
   "metadata": {
    "slideshow": {
     "slide_type": "slide"
    }
   },
   "source": [
    "# II. The limits of Bagging"
   ]
  },
  {
   "cell_type": "markdown",
   "metadata": {},
   "source": [
    "## II.1 Same region, same mistake"
   ]
  },
  {
   "cell_type": "markdown",
   "metadata": {
    "slideshow": {
     "slide_type": "fragment"
    }
   },
   "source": [
    "For what comes next, consider a binary classification problem. We are either classifying an observation as 0 or as 1. This is not the purpose of the lesson, but for the sake of clarity, let’s recall the concept of bagging.\n",
    "\n",
    "Bagging is a technique that stands for “Bootstrap Aggregating”. The essence is to select T bootstrap samples, fit a classifier on each of these samples, and train the models in parallel. Typically, in a Random Forest, decision trees are trained in parallel. The results of all classifiers are then averaged into a bagging classifier (i.e. we select the majority vote).\n",
    "\n",
    "$$ H_T(x) = sign(1/T \\sum_t {h_t(x)}) $$"
   ]
  },
  {
   "cell_type": "markdown",
   "metadata": {
    "slideshow": {
     "slide_type": "fragment"
    }
   },
   "source": [
    "This process can be illustrated the following way. Let’s consider 3 classifiers which produce a classification result and can be either right or wrong. If we plot the results of the 3 classifiers, there are regions in which the classifiers will be wrong. These regions are represented in red.\n",
    "\n"
   ]
  },
  {
   "cell_type": "markdown",
   "metadata": {
    "slideshow": {
     "slide_type": "fragment"
    }
   },
   "source": [
    "<p align=\"center\">\n",
    "<img src=\"https://drive.google.com/uc?export=view&id=1iF2nzHrwnMTXw7IDOh-l_UHvC80aF9jK\">\n",
    "</p>"
   ]
  },
  {
   "cell_type": "markdown",
   "metadata": {
    "slideshow": {
     "slide_type": "slide"
    }
   },
   "source": [
    "This example works perfectly, since when one classifier is wrong, the two others are correct. By voting classifier, you achieve a great accuracy ! But as you might guess, there’s also cases in which Bagging does not work properly, when all classifiers are mistaken in the same region."
   ]
  },
  {
   "cell_type": "markdown",
   "metadata": {
    "ExecuteTime": {
     "end_time": "2019-02-08T17:31:41.943476Z",
     "start_time": "2019-02-08T17:31:41.937887Z"
    },
    "slideshow": {
     "slide_type": "fragment"
    }
   },
   "source": [
    "<p align=\"center\">\n",
    "<img src=\"https://drive.google.com/uc?export=view&id=1AXptTl3qP2HmaScqFpkXXME_V0dutUP9\">\n",
    "</p>"
   ]
  },
  {
   "cell_type": "markdown",
   "metadata": {
    "slideshow": {
     "slide_type": "fragment"
    }
   },
   "source": [
    "For this reason, the intuition behind the discovery of Boosting was the following :\n",
    "\n",
    "- instead of training parallel models, one needs to **train models sequentially**\n",
    "- and **each model should focus on where the previous classifier performed poorly**"
   ]
  },
  {
   "cell_type": "markdown",
   "metadata": {},
   "source": [
    "## II.2 Same voting power"
   ]
  },
  {
   "cell_type": "markdown",
   "metadata": {},
   "source": [
    "You might guess from above that one of the issues of Bagging is essentially that each tree has the same voting power, i.e we take the majority vote without giving more weight to the trees that usually perform better. "
   ]
  },
  {
   "cell_type": "markdown",
   "metadata": {
    "slideshow": {
     "slide_type": "slide"
    }
   },
   "source": [
    "# III. Adaptative Boosting : AdaBoost"
   ]
  },
  {
   "cell_type": "markdown",
   "metadata": {
    "slideshow": {
     "slide_type": "subslide"
    }
   },
   "source": [
    "## III.1 AdaBoost vs. Random Forests"
   ]
  },
  {
   "cell_type": "markdown",
   "metadata": {},
   "source": [
    "There are some key changes between AdaBoost and Random Forests :\n",
    "- The decision trees have now a limited depth. They will be called **stumps**, and must lead to a simple binary classification :"
   ]
  },
  {
   "cell_type": "markdown",
   "metadata": {},
   "source": [
    "<p align=\"center\">\n",
    "<img src=\"https://drive.google.com/uc?export=view&id=1VwcO6eE83eHLzDIDGy8ncdLqUrny2Gq2\">\n",
    "</p>"
   ]
  },
  {
   "cell_type": "markdown",
   "metadata": {},
   "source": [
    "- the stumps are called weak learners. Weak learners are algorithms whose error rate is slightly under 50% as illustrated below :"
   ]
  },
  {
   "cell_type": "markdown",
   "metadata": {
    "slideshow": {
     "slide_type": "slide"
    }
   },
   "source": [
    "<p align=\"center\">\n",
    "<img src=\"https://drive.google.com/uc?export=view&id=17UvX3obE1yj47eAdkZzrZaw7uw_6uLVu\">\n",
    "</p>"
   ]
  },
  {
   "cell_type": "markdown",
   "metadata": {},
   "source": [
    "- the forest of stumps allows for different weights on each stump "
   ]
  },
  {
   "cell_type": "markdown",
   "metadata": {},
   "source": [
    "<p align=\"center\">\n",
    "<img src=\"https://drive.google.com/uc?export=view&id=1hka_fKK0fEA1VyWIfsiTmdmtp3a8kLRB\">\n",
    "</p>"
   ]
  },
  {
   "cell_type": "markdown",
   "metadata": {},
   "source": [
    "- the individual trees are no longer independent. The error of the first stump will influence the way we build the second stump"
   ]
  },
  {
   "cell_type": "markdown",
   "metadata": {
    "slideshow": {
     "slide_type": "subslide"
    }
   },
   "source": [
    "## III.2 How does it work ?"
   ]
  },
  {
   "cell_type": "markdown",
   "metadata": {},
   "source": [
    "Boosting trains a series of low performing algorithms (weak learners) by adjusting the error metric over time. \n",
    "\n",
    "Suppose that we have 2 features $x_1$ and $x_2$ and we want to predict $y$."
   ]
  },
  {
   "cell_type": "markdown",
   "metadata": {},
   "source": [
    "**Step 1** : Initialize the weight given to each observation\n",
    "\n",
    "When we start our AdaBoost algorithm, we should assign a weight $\\frac {1}{n}$ to each of the $n$ observations."
   ]
  },
  {
   "cell_type": "markdown",
   "metadata": {},
   "source": [
    "<p align=\"center\">\n",
    "<img src=\"https://drive.google.com/uc?export=view&id=1ECDQCid0Qj_3IPwuXU5h193Yf2dhynH5\">\n",
    "</p>"
   ]
  },
  {
   "cell_type": "markdown",
   "metadata": {},
   "source": [
    "**Step 2** : Find the best stump\n",
    "\n",
    "Once we initialized our weight, our aim will be to find the best stump, i.e the variable to use and the threshold to use, that minimizes the Gini index. For example, here, we would typically observe something along the $x_1$ variable."
   ]
  },
  {
   "cell_type": "markdown",
   "metadata": {},
   "source": [
    "<p align=\"center\">\n",
    "<img src=\"https://drive.google.com/uc?export=view&id=1otRVrfmOubEzB4N5NRzmQl1NASJHGWtq\">\n",
    "</p>"
   ]
  },
  {
   "cell_type": "markdown",
   "metadata": {},
   "source": [
    "**Step 3** : Assign a weight to the stump\n",
    "\n",
    "Remember that each stump has a different weight in the final vote. For this reason, we must now determine what weight to apply to the stump we just built. \n",
    "\n",
    "The weight will depend on the classification performance of each stump. Indeed, here, we classified incorrectly 1 observation on 12 overall. \n",
    "\n",
    "First, we need to compute the total error. The weight of the observation that was not well classified is ${\\epsilon_{t}} = \\frac {1}{12}$, which is the total error. If we had 2 wrong classified data, the total error would be ${\\epsilon_{t}} = \\frac {2}{12}$.\n",
    "\n",
    "Then, we compute the \"amount of say\", i.e the weight of the stump on the final vote :\n",
    "\n",
    "  \n",
    "$$ \\alpha_t = \\frac {1} {2} ln \\frac {1-\\epsilon_{t}} {\\epsilon_{t}} $$"
   ]
  },
  {
   "cell_type": "markdown",
   "metadata": {
    "ExecuteTime": {
     "end_time": "2019-04-17T12:34:04.706440Z",
     "start_time": "2019-04-17T12:34:04.668185Z"
    }
   },
   "source": [
    "<p align=\"center\">\n",
    "<img src=\"https://drive.google.com/uc?export=view&id=1V2Bo7c6M2rUEs0-6khO452X7gqFrNlcy\">\n",
    "</p>"
   ]
  },
  {
   "cell_type": "markdown",
   "metadata": {},
   "source": [
    "If the stump is not better than a coin and predicts the good classification in 1 case out of 2, its amount of say is 0. Else, if the total error is low, the amount of say is large. A large total error can lead to a negative amount of say."
   ]
  },
  {
   "cell_type": "markdown",
   "metadata": {},
   "source": [
    "**Step 4** : Modify the weights of incorrectly classified samples\n",
    "\n",
    "Now, we need to *modify the weights of the observations that were not well classified* in order for the next stump to take into account the error of the previous stump. How do we do this ?\n",
    "\n",
    "We increase the weight of the incorrectly classified sample\n",
    "\n",
    "$$ w_{t+1}(i) = w_{t}(i) e^{\\alpha_t } $$\n",
    "    \n",
    "What does this mean ? The new weight is the previous weight * $e^{\\text{(amount of say)}}$"
   ]
  },
  {
   "cell_type": "markdown",
   "metadata": {},
   "source": [
    "<p align=\"center\">\n",
    "<img src=\"https://drive.google.com/uc?export=view&id=1cYmpoHcW771OwP7WqQDv1PpCdhn1nDae\">\n",
    "</p>"
   ]
  },
  {
   "cell_type": "markdown",
   "metadata": {},
   "source": [
    "If the amount of say of the previous classifier is large, so the classifier was performing well, then the new weight of the observation will also be really large. We can interpret it the following way. If the classifier was overall good, but misclassified one observation, we'll add much more weight to this observation for the next stump."
   ]
  },
  {
   "cell_type": "markdown",
   "metadata": {},
   "source": [
    "**Step 5** : Modify the weights of correctly classified samples\n",
    "\n",
    "Now, we need to *modify the weights of the observations that were correctly classified*. This is done by adding a minus sign in front of the Amounf of Say in the equation.\n",
    "\n",
    "$$ w_{t+1}(i) = { w_{t}(i) } e ^{ - \\alpha_t } $$\n"
   ]
  },
  {
   "cell_type": "markdown",
   "metadata": {},
   "source": [
    "<p align=\"center\">\n",
    "<img src=\"https://drive.google.com/uc?export=view&id=1jcghhM5RXLevq2zQCy-SO5K0odmrqiLh\">\n",
    "</p>"
   ]
  },
  {
   "cell_type": "markdown",
   "metadata": {},
   "source": [
    "What this means is that if the classifier was good and had a large amount of say, we will reduce the weight of the observations that were well classified. If the amount of say was small, the new sample weight will be just a little smaller than the previous one, i.e we don't attach too much credibility to the job the previous stump did."
   ]
  },
  {
   "cell_type": "markdown",
   "metadata": {},
   "source": [
    "**Step 6** : Normalize the weights\n",
    "\n",
    "The problem is that the weights of the observations do not sum to 1. We simply need to normalize the weights the following way :\n",
    "\n",
    "$$ w_{t+1}(i) = \\frac {w_{t+1}(i)} {\\sum_{w_{t+1}}} = \\frac {w_{t+1}(i)} {Z} $$\n"
   ]
  },
  {
   "cell_type": "markdown",
   "metadata": {},
   "source": [
    "<p align=\"center\">\n",
    "<img src=\"https://drive.google.com/uc?export=view&id=1TQmipTp6cpMk2e1n-1HkT4GwrqstPO3W\">\n",
    "</p>"
   ]
  },
  {
   "cell_type": "markdown",
   "metadata": {},
   "source": [
    "**Step 7** : Rebalance the observations\n",
    "\n",
    "Using the updated observation weights, we are ready to move to fit the next stump ! There are 2 ways to deal with the new unbalanced weights :\n",
    "- apply Weighted Gini Index for example\n",
    "- or create duplicates of the observations by considering the weights as a distribution"
   ]
  },
  {
   "cell_type": "markdown",
   "metadata": {},
   "source": [
    "<p align=\"center\">\n",
    "<img src=\"https://drive.google.com/uc?export=view&id=1-GmuTb_gbkl2aUr8aX00n9EPBqSG4h0S\">\n",
    "</p>"
   ]
  },
  {
   "cell_type": "markdown",
   "metadata": {},
   "source": [
    "We compute the cumulative sum of the weights, pick randomly a number between 0 and 1, and select the corresponding observation. We do this until the new collection is the same size as the original."
   ]
  },
  {
   "cell_type": "markdown",
   "metadata": {},
   "source": [
    "**Step 8** : Compute the new stump\n",
    "\n",
    "The new stump will then be paying much more attention to the way it classifies the large weight observations."
   ]
  },
  {
   "cell_type": "markdown",
   "metadata": {},
   "source": [
    "<p align=\"center\">\n",
    "<img src=\"https://drive.google.com/uc?export=view&id=1X_R3IQjypKHJ3VgnBFSZ947mLdBvJrLh\">\n",
    "</p>"
   ]
  },
  {
   "cell_type": "markdown",
   "metadata": {},
   "source": [
    "**Step 9** : Build a forest of stumps...\n",
    "\n",
    "Iterate this process until the pre-defined `n_iter` has been reached."
   ]
  },
  {
   "cell_type": "markdown",
   "metadata": {},
   "source": [
    "**Step 10** : Make classification with the forest of stumps\n",
    "\n",
    "Alright, we do now have a forest of stumps. How can we use this to make classification ?"
   ]
  },
  {
   "cell_type": "markdown",
   "metadata": {},
   "source": [
    "Well, we'll simply look at the amount of say of each stump :\n",
    "- we sum the amount of say of the stumps that classify the new observation as 1\n",
    "- we then sum the amount of say of the stumps that classify the new observation as 0\n",
    "\n",
    "And attribute the class that has the largest summed amount of say.\n",
    "\n",
    "$$ H(x) = sign(\\alpha^1 h^1(x) + \\alpha^2 h^2(x) + ... + \\alpha^T h^T(x)) $$"
   ]
  },
  {
   "cell_type": "markdown",
   "metadata": {},
   "source": [
    "<p align=\"center\">\n",
    "<img src=\"https://drive.google.com/uc?export=view&id=1FBuu8-rJifE3ubbYGQRFte64nvpA4C0N\">\n",
    "</p>"
   ]
  },
  {
   "cell_type": "markdown",
   "metadata": {
    "slideshow": {
     "slide_type": "fragment"
    }
   },
   "source": [
    "In summary :\n",
    "\n",
    "- Train the stump on the observations → $h_1$\n",
    "- Train the stump with exagerated data on the regions in which $h_1$ performs poorly → $h_2$\n",
    "- Train the stump with exagerated data on the regions in which $h_1$ ≠ $h_2$ → $h_3$\n",
    "- ...\n",
    "\n",
    "Instead of training the models in **parallel**, we can train them **sequentially**. This is the essence of Boosting ! Boosting is also an ensemble technique."
   ]
  },
  {
   "cell_type": "markdown",
   "metadata": {
    "slideshow": {
     "slide_type": "fragment"
    }
   },
   "source": [
    "<p align=\"center\">\n",
    "<img src=\"https://drive.google.com/uc?export=view&id=1zxEJ_AoRCV_lwvLitK0stNSsnJa5ko7_\">\n",
    "</p>"
   ]
  },
  {
   "cell_type": "markdown",
   "metadata": {},
   "source": [
    "### III.3 Pseudo-Code"
   ]
  },
  {
   "cell_type": "markdown",
   "metadata": {
    "slideshow": {
     "slide_type": "fragment"
    }
   },
   "source": [
    "Let's wrap up in a small pseudo-code what we covered so far.\n",
    "\n",
    "*Step 1* : Let $w_{t}(i) = \\frac {1} {N}$ where $N$ denotes the number of training samples, and let $T$ be the chosen number of iterations.\n",
    "\n",
    "*Step 2* : For $t$ in $T$ :\n",
    "\n",
    "  a. Pick $h^t$ the weak classifier that minimizes $\\epsilon_{t}$ , here we implement a weighted error metric :\n",
    "  \n",
    "  $$ \\epsilon_{t} = \\sum _{i=1}^{m} w_{t}(i)[y_{i}\\neq h(x_{i})] $$\n",
    "\n",
    "  b. Compute the weight of the stump :\n",
    "  \n",
    "  $$ \\alpha_t = \\frac {1} {2} ln \\frac {1-\\epsilon_{t}} {\\epsilon_{t}} $$\n",
    " \n",
    " c. Update the weights of the training examples $w_{t+1}^{i}$ :\n",
    " \n",
    " $$ w_{t+1}(i) = \\frac { w_{t}(i) } { Z } e ^{- \\alpha^t h^t(x) y(x)} $$\n",
    " \n",
    " And go back to step a).\n",
    "\n",
    "*Step 3* : $$ H(x) = sign(\\alpha^1 h^1(x) + \\alpha^2 h^2(x) + ... + \\alpha^T h^T(x)) $$\n",
    "\n",
    "And we're done ! This algorithm is called **AdaBoost**. This is the most important algorithm one needs to understand in order to fully understand Gradient Boosting we'll introduce."
   ]
  },
  {
   "cell_type": "markdown",
   "metadata": {
    "slideshow": {
     "slide_type": "fragment"
    }
   },
   "source": [
    "AdaBoost has for a long time been considered as one of the few algorithms that does not overfit. But lately, it has been proven to overfit at some point, and one should be aware of it. AdaBoost is vastly used in face detection to assess whether there is a face in the video or not. AdaBoost can also be used as a regression algorithm.\n",
    "\n",
    "Adaboost can be generalized to regression by simply taking the average output among the forest of stumps."
   ]
  },
  {
   "cell_type": "markdown",
   "metadata": {
    "slideshow": {
     "slide_type": "slide"
    }
   },
   "source": [
    "# IV. Gradient Boosting"
   ]
  },
  {
   "cell_type": "markdown",
   "metadata": {},
   "source": [
    "Gradient Boosting is a widely used boosting algorithm. The approach for classification and regression are quite different, so we'll first focus on regression, and then move to classification !"
   ]
  },
  {
   "cell_type": "markdown",
   "metadata": {},
   "source": [
    "## IV.1 Regression"
   ]
  },
  {
   "cell_type": "markdown",
   "metadata": {
    "slideshow": {
     "slide_type": "fragment"
    }
   },
   "source": [
    "Gradient Boosting can be compared to AdaBoost, but has a few differences : \n",
    "- instead of growing a forest of stumps, we initally predict the average (since it's regression here) of the $y$ column, and build a decision trees based on that value. \n",
    "- Like in AdaBoost, the next tree depends on the error of the previous one. \n",
    "- But unlike AdaBoost, the tree we grow is not only a stump, but a real decision tree.\n",
    "- As in AdaBoost, there is a weight associated to the trees, but the scale factor is applied to all the trees."
   ]
  },
  {
   "cell_type": "markdown",
   "metadata": {},
   "source": [
    "Alright, so far it might still seem confusion. Let's get to the details of the implementation of the Gradient Boosting regression algorithm :"
   ]
  },
  {
   "cell_type": "markdown",
   "metadata": {},
   "source": [
    "Let's consider a simple scenario in which we have several features, $x_1, x_2, x_3, x_4$ and try to predict $y$. "
   ]
  },
  {
   "cell_type": "markdown",
   "metadata": {},
   "source": [
    "<p align=\"center\">\n",
    "<img src=\"https://drive.google.com/uc?export=view&id=1UucmHUYXNF7XXFMNUPKjM2M1l7szpqk4\">\n",
    "</p>"
   ]
  },
  {
   "cell_type": "markdown",
   "metadata": {},
   "source": [
    "**Step 1** : Make a first guess\n",
    "\n",
    "The initial guess of the Gradient Boosting algorithm is to *predict the average value of the target $y$*. For example, if our features are the age $x_1$ and the height $x_2$ of a person... and we want to predict the weight of the person."
   ]
  },
  {
   "cell_type": "markdown",
   "metadata": {},
   "source": [
    "<p align=\"center\">\n",
    "<img src=\"https://drive.google.com/uc?export=view&id=16kStz18ajYteP_HcrE2y_aWczU7q1stj\">\n",
    "</p>"
   ]
  },
  {
   "cell_type": "markdown",
   "metadata": {},
   "source": [
    "**Step 2** : Compute the pseudo-residuals\n",
    "\n",
    "For the variable $x_1$, we compute the difference between the observations and the prediction we made. This is called the pseudo-residuals."
   ]
  },
  {
   "cell_type": "markdown",
   "metadata": {},
   "source": [
    "<p align=\"center\">\n",
    "<img src=\"https://drive.google.com/uc?export=view&id=1AQZCBkqatjqv4L8AqZqoPOI-X-KiNLUw\">\n",
    "</p>"
   ]
  },
  {
   "cell_type": "markdown",
   "metadata": {},
   "source": [
    "We compute the pseudo-residuals with respect to the first feature $x_1$."
   ]
  },
  {
   "cell_type": "markdown",
   "metadata": {},
   "source": [
    "**Step 3** : Predict the pseudo-residuals\n",
    "\n",
    "Then, we will be using the features $x_1, x_2, x_3, x_4$ to predict the pseudo-residuals column."
   ]
  },
  {
   "cell_type": "markdown",
   "metadata": {
    "ExecuteTime": {
     "end_time": "2019-04-24T18:00:01.397746Z",
     "start_time": "2019-04-24T18:00:01.390222Z"
    }
   },
   "source": [
    "<p align=\"center\">\n",
    "<img src=\"https://drive.google.com/uc?export=view&id=1FP1HA8ruFu95nKOC9X-bnzeStvpqDBfl\">\n",
    "</p>"
   ]
  },
  {
   "cell_type": "markdown",
   "metadata": {},
   "source": [
    "We can now predict the pseudo-residuals using a tree, that typically has 8 to 32 leaves (so larger than a stump). By restricting the number of leaves of the tree we build, we obtain less leaves than residuals. Therefore, the outcome of a given branch of the tree is the average of the columns that lead to this leaf, as in a regression tree."
   ]
  },
  {
   "cell_type": "markdown",
   "metadata": {},
   "source": [
    "<p align=\"center\">\n",
    "<img src=\"https://drive.google.com/uc?export=view&id=1fGJTtv4s2HEJhuJLam9hXYgv1W1eUr_H\">\n",
    "</p>"
   ]
  },
  {
   "cell_type": "markdown",
   "metadata": {},
   "source": [
    "<p align=\"center\">\n",
    "<img src=\"https://drive.google.com/uc?export=view&id=1FK10bM25nwIoNdhgo72DSi4tEsPmfANT\" width=\"800px\">\n",
    "</p>"
   ]
  },
  {
   "cell_type": "markdown",
   "metadata": {},
   "source": [
    "**Step 4** : Make a prediction and compute the residuals\n",
    "\n",
    "In order to make a prediction, we say that the average is 13.39. Then, we take our observation, run in through the tree, get the value of the leaf, and add it to 13.39. \n",
    "\n",
    "If we stop here, we will most probably overfit. Gradient Boost applies a learning rate $lr$ to scale the contribution from a new tree, by applying a factor between 0 and 1.\n",
    "\n",
    "$$ y_{pred} = \\bar{y_{train}} + lr \\times res_{pred} $$\n",
    "\n",
    "The idea behind the learning rate is to make a small step towards the right direction. This allows an overall lower variance."
   ]
  },
  {
   "cell_type": "markdown",
   "metadata": {},
   "source": [
    "<p align=\"center\">\n",
    "<img src=\"https://drive.google.com/uc?export=view&id=1Rc3Qm5OWIRslLKay483sR2UFn7TfgZH9\">\n",
    "</p>"
   ]
  },
  {
   "cell_type": "markdown",
   "metadata": {},
   "source": [
    "Notice how all the residuals got smaller now."
   ]
  },
  {
   "cell_type": "markdown",
   "metadata": {},
   "source": [
    "**Step 5** : Make a second prediction\n",
    "\n",
    "Now, we :\n",
    "- build a second tree\n",
    "- compute the prediction using this second tree\n",
    "- compute the residuals according to the prediction\n",
    "- build a third tree\n",
    "- ...\n",
    "\n",
    "\n",
    "Let's just cover how to compute the prediction. We are still using the features $x_1, x_2, x_3, x_4$ to predict the new residuals Pseudo_Res_2. \n",
    "\n",
    "We build a tree to estimate those residuals. Once we have this tree (with a limited number of leaves), we are ready to make the new prediction :\n",
    "\n",
    "$$ y_{pred} = \\bar{y_{train}} + lr \\times res_{pred_1} + lr \\times res_{pred_2} $$\n",
    "\n",
    "The prediction is equal to :\n",
    "- the average value initially computed\n",
    "- plus LR * the predicted residuals at step 1\n",
    "- plus LR * the predicted residuals at step 2\n",
    "\n",
    "Notice how we always apply the same Learning Rate. We are now ready to compute the new residuals, fit a 3rd tree on it, compute the 4th residuals... and so on, until :\n",
    "- we reach the maximum number of trees specified\n",
    "- or we don't learn significantly anymore"
   ]
  },
  {
   "cell_type": "markdown",
   "metadata": {},
   "source": [
    "We are now ready to illustrate the process when there is a single feature :"
   ]
  },
  {
   "cell_type": "markdown",
   "metadata": {
    "slideshow": {
     "slide_type": "fragment"
    }
   },
   "source": [
    "<p align=\"center\">\n",
    "<img src=\"https://drive.google.com/uc?export=view&id=16WHn40yNzvoxM1WE-ak-SNZflxl2R5T0\">\n",
    "</p>"
   ]
  },
  {
   "cell_type": "markdown",
   "metadata": {
    "slideshow": {
     "slide_type": "subslide"
    }
   },
   "source": [
    "### Pseudo-Code :\n",
    "\n",
    "The algorithm can be then described as the following, on a dataset $(x,y)$ with $x$ the features and $y$ the targets, with a differentiable loss function $\\cal{L}$:\n",
    "\n",
    "$\\cal{L} = \\frac {1} {2} (Obs - Pred)^2$, called the Squared Residuals. Notice that since the function is differentiable, we have :\n",
    "\n",
    "$$ \\frac { \\delta } {\\delta Pred} \\cal{L} = - 1 \\times (Obs - Pred) $$"
   ]
  },
  {
   "cell_type": "markdown",
   "metadata": {
    "ExecuteTime": {
     "end_time": "2019-04-24T18:39:53.658544Z",
     "start_time": "2019-04-24T18:39:53.650531Z"
    }
   },
   "source": [
    "**Step 1** : Initialize the model with a constant value : $F_0(x) = argmin_{\\gamma} \\sum_i \\cal{L}(y_i, \\gamma)$. We simply want to minimize the sum of the squared residuals (SSR) by choosing the best prediction $\\gamma$.\n",
    "    \n",
    "If we derive the optimal value for  $\\gamma$ :\n",
    "\n",
    "$$ \\frac { \\delta } {\\delta \\gamma } \\sum_i \\cal{L}(y_i, \\gamma) = -(y_1 - \\gamma) + -(y_2 - \\gamma) + -(y_3 - \\gamma) + ... = 0 $$\n",
    "\n",
    "$$ \\sum_i y_i - n * \\gamma = 0 $$\n",
    "\n",
    "$$ \\gamma = \\frac{ \\sum_i y_i }{n} = \\bar{y} $$\n",
    "\n",
    "This is simply the average of the observations. This justifies our previous constant initialization. In other words, we created a leaf that predicts all samples will weight the average of the samples."
   ]
  },
  {
   "cell_type": "markdown",
   "metadata": {},
   "source": [
    "**Step 2** : For m = 1 to M (the maximum number of trees specified, e.g 100) \n",
    "\n",
    "- a) Compute the pseudo-residuals for every sample :\n",
    "    \n",
    "    $$ r_{im} = - \\frac {\\delta \\cal{L} (y_i, F(x_i)) } {\\delta F(x_i)} = - ( - 1 \\times (Obs - F_{m-1}(x)) ) = (Obs - F_{m-1}(x)) = (Obs - Pred) $$\n",
    "    \n",
    "This derivative is called the Gradient. The Gradient Boost is named after this.\n",
    "\n",
    "- b) Fit a regression tree to the $r_{im}$ values and create terminal regions $R_{jm}$ for j = 1, ... , $J_m$, i.e create the leaves of the tree. At that point, we still need to compute the output value of each leaf.\n",
    "\n",
    "- c) For each leaf j = 1... $J_m$, compute the output value that minimized the SSR : $\\gamma_{jm} = argmin_{\\gamma} \\sum_{x_i \\in R_{ij}} \\cal{L}(y_i, F_{m-1} + \\gamma)$. In other words, we will simply predict the output of all the samples stored in a certain leaf.\n",
    "\n",
    "- d) Make a new prediction for each sample by updating, accoridng to a learning rate $lr \\in (0,1)$ :\n",
    "$F_m(x) = F_{m-1}(x) + lr \\times \\sum_j \\gamma_{jm} I(x \\in R_{jm} )$. We compute the new value by summing the previous prediction and all the predictions $\\gamma$ into which our sample falls."
   ]
  },
  {
   "cell_type": "markdown",
   "metadata": {},
   "source": [
    "## IV.2 Classification"
   ]
  },
  {
   "cell_type": "markdown",
   "metadata": {},
   "source": [
    "So far, we covered the Gradient Boost techniques for regression. But how does is word for classification ?"
   ]
  },
  {
   "cell_type": "markdown",
   "metadata": {},
   "source": [
    "Our dataset might now look something like this :"
   ]
  },
  {
   "cell_type": "markdown",
   "metadata": {},
   "source": [
    "<p align=\"center\">\n",
    "<img src=\"https://drive.google.com/uc?export=view&id=1Lj_6kV2QCtfI2WySwXIqltS_Jq378E9_\">\n",
    "</p>"
   ]
  },
  {
   "cell_type": "markdown",
   "metadata": {},
   "source": [
    "In the first step, instead of computing the average of Y, as in logistic regressions, we compute the log of the odds :\n",
    "\n",
    "$$ odds = log( \\frac {P(Y=1)} {P(Y=0)} ) = log( \\frac {3} {1} ) = log(3) $$"
   ]
  },
  {
   "cell_type": "markdown",
   "metadata": {},
   "source": [
    "This is our initial prediction. But how do we compute a probability to belong to a class or another using this weird ratio ?\n",
    "\n",
    "We apply a softmax / logistic transformation :\n",
    "\n",
    "$$ P(Y=1) = \\frac {e^{odds}} {1 + e^{odds}} = \\frac {3} {4} = 0.75 $$\n",
    "\n",
    "If this probability is greater than 0.5, we classify as 1. Else, we classify as 0."
   ]
  },
  {
   "cell_type": "markdown",
   "metadata": {},
   "source": [
    "We have now predicted a value for every sample, the same value for all of them actually. The next step is to compute the residuals :\n",
    "\n",
    "- 1-0.75 = 0.25\n",
    "- 1-0.75 = 0.25\n",
    "- 1-0.75 = 0.25\n",
    "- 0-0.75 = -0.75"
   ]
  },
  {
   "cell_type": "markdown",
   "metadata": {},
   "source": [
    "<p align=\"center\">\n",
    "<img src=\"https://drive.google.com/uc?export=view&id=1_w0T67OihTb5Dpfa2HoinOOEyJ7zfrGR\">\n",
    "</p>"
   ]
  },
  {
   "cell_type": "markdown",
   "metadata": {},
   "source": [
    "As previously, we use the features 1 to 3 to predict the residuals. Suppose that we build the classification tree to predict the output value of the tree :"
   ]
  },
  {
   "cell_type": "markdown",
   "metadata": {},
   "source": [
    "<p align=\"center\">\n",
    "<img src=\"https://drive.google.com/uc?export=view&id=1stVLXnScLG94Xrlvja8ZfystVlcLhklx\">\n",
    "</p>"
   ]
  },
  {
   "cell_type": "markdown",
   "metadata": {},
   "source": [
    "In that case, we cannot use the output of a leaf (or the average output if we have more observations) as the predicted value, since we applied a transformation initially."
   ]
  },
  {
   "cell_type": "markdown",
   "metadata": {},
   "source": [
    "We need to apply another transformation :\n",
    "\n",
    "$$ \\gamma_{i+1} = \\frac { \\sum_i Residuals_i } { \\sum(\\gamma_i \\times (1-\\gamma_i))} $$\n",
    "\n",
    "For example, take a case in which we have 1 more observation that falls into a leaf :"
   ]
  },
  {
   "cell_type": "markdown",
   "metadata": {},
   "source": [
    "<p align=\"center\">\n",
    "<img src=\"https://drive.google.com/uc?export=view&id=1nPbIi-mQGzXl-Kw08pZqVzkIBtiQvnAn\">\n",
    "</p>"
   ]
  },
  {
   "cell_type": "markdown",
   "metadata": {},
   "source": [
    "In that case, the output value of the branch that contains 0.25 and -0.75 is :\n",
    "\n",
    "$$ \\frac {0.25 - 0.75} { 0.75 * (1-0.75) + 0.75*(1-0.75)} = -1.33 $$"
   ]
  },
  {
   "cell_type": "markdown",
   "metadata": {},
   "source": [
    "We can now compute the new prediction :\n",
    "\n",
    "$$ y_{pred} = odds + lr \\times y_{res} = log(3) + 0.1 * -1.33 = 0.9656 $$\n",
    "\n",
    "We can now convert the new log odds prediction into a probability using the softmax function :\n",
    "\n",
    "$$ P(Y=1) = \\frac {e^{0.9656}} {1 + e^{0.9656}} = 0.7242 $$\n",
    "\n",
    "The probability dimishes compared to before, since we had 1 well classified and 1 uncorrectly classified sample in this leaf.\n",
    "\n",
    "Now, every sample has its own predicted probability. So, we restart the whole process by computing the residuals from this predicted value. The rest is really similar to the regression case.\n",
    "\n",
    "According to the final probability we get, we will classify either 0 or 1."
   ]
  },
  {
   "cell_type": "markdown",
   "metadata": {},
   "source": [
    "Since the development of Gradient Boosting techniques, there has been several major initiatives in the world of Gradient Boosting :\n",
    "- Extrement Gradient Boost\n",
    "- Light Gradient Boosting Model\n",
    "- Cat Boost"
   ]
  },
  {
   "cell_type": "markdown",
   "metadata": {
    "ExecuteTime": {
     "end_time": "2019-04-24T20:24:49.916209Z",
     "start_time": "2019-04-24T20:24:49.910609Z"
    }
   },
   "source": [
    "<p align=\"center\">\n",
    "<img src=\"https://drive.google.com/uc?export=view&id=1XKdG62SAMVLPNeR3usTcyRfgvlWDtYUa\">\n",
    "</p>"
   ]
  },
  {
   "cell_type": "markdown",
   "metadata": {
    "slideshow": {
     "slide_type": "slide"
    }
   },
   "source": [
    "# V. XGBoost"
   ]
  },
  {
   "cell_type": "markdown",
   "metadata": {},
   "source": [
    "XGBoost stands for Extreme Gradient Boosting and is one of the *fastest implementations* of Gradient Boosted Trees. It is written in C++ and offers many useful wrappers in higher-level languages.\n",
    "\n",
    "Instead of considering the potential loss for all possible splits to create a new branch, it looks at the distribution of features across all data points in a leaf and uses this information to reduce the search space of possible feature splits.\n",
    "\n",
    "The way the best features are identified implies 2 main concepts :\n",
    "- Pre-sorting algorithm\n",
    "- Histogram-based algorithm\n",
    "\n",
    "First let's understand how pre-sorting splitting works :\n",
    "- For each node, enumerate over all features\n",
    "- For each feature, sort the instances by feature value\n",
    "- Use a linear scan to decide the best split along that feature basis information gain\n",
    "- Take the best split solution along all the features\n",
    "\n",
    "This might still be long to compute, so XGBoost uses the concept of Histogram-based split, which splits all the data points for a feature into discrete bins and uses these bins to find the split value of histogram.\n",
    "   "
   ]
  },
  {
   "cell_type": "markdown",
   "metadata": {},
   "source": [
    "Keep in mind the XGBoost grows the trees \"level-wise\" due to the splitting methods detailed above :"
   ]
  },
  {
   "cell_type": "markdown",
   "metadata": {
    "slideshow": {
     "slide_type": "fragment"
    }
   },
   "source": [
    "<p align=\"center\">\n",
    "<img src=\"https://drive.google.com/uc?export=view&id=1l-WZRgA8YjqknnoQiwCfS5_6c58RvEWs\">\n",
    "</p>"
   ]
  },
  {
   "cell_type": "markdown",
   "metadata": {
    "slideshow": {
     "slide_type": "slide"
    }
   },
   "source": [
    "# VI. LGBM"
   ]
  },
  {
   "cell_type": "markdown",
   "metadata": {},
   "source": [
    "LightGBM uses a novel technique of Gradient-based One-Side Sampling (GOSS) to filter out the samples for finding a split value.\n",
    "\n",
    "Gradient-based One-Side Sampling keeps all the instances with large gradients and performs random sampling on the instances with small gradients. For example, let’s say we have 500K rows of data where 10k rows have higher gradients. So the algorithm will choose (10k rows of higher gradient+ x% of remaining 490k rows chosen randomly).\n",
    "\n",
    "A leaf with higher gradient/error is used for growing further. This is what we call a leaf-wise growth."
   ]
  },
  {
   "cell_type": "markdown",
   "metadata": {
    "slideshow": {
     "slide_type": "fragment"
    }
   },
   "source": [
    "<p align=\"center\">\n",
    "<img src=\"https://drive.google.com/uc?export=view&id=1_M0F5XOUSSvbhypERNGovZqiX_JJnPsx\">\n",
    "</p>"
   ]
  },
  {
   "cell_type": "markdown",
   "metadata": {},
   "source": [
    "LightGBM has the huge advantage to be parallelized: it means it can be optimized on multiple processors and then decrease largely the computing time. But on the other hand, LightGBM is really sensitive to overfitting. This is an algorithm that performs poorly on small datasets.\n",
    "\n",
    "This is then well suited for large datasets (at least 10000 samples), when overfitting is less likely and high speed is needed.\n",
    "\n",
    "More information can be found in the original documentation if you ever need to use it: https://lightgbm.readthedocs.io/en/latest/\n"
   ]
  },
  {
   "cell_type": "markdown",
   "metadata": {
    "slideshow": {
     "slide_type": "slide"
    }
   },
   "source": [
    "# VII. CatBoost"
   ]
  },
  {
   "cell_type": "markdown",
   "metadata": {},
   "source": [
    "CatBoost is a fast, scalable, high performance open-source gradient boosting on decision trees library developed by Yandex. The main features of CatBoost are the following :\n",
    "- Categorical features support (even text categories)\n",
    "- Fast and scalable GPU version\n",
    "- User-friendly APIs...\n",
    "\n",
    "If you'd like to know more : https://catboost.ai/"
   ]
  },
  {
   "cell_type": "markdown",
   "metadata": {
    "slideshow": {
     "slide_type": "slide"
    }
   },
   "source": [
    "# VIII. Applications"
   ]
  },
  {
   "cell_type": "code",
   "execution_count": 1,
   "metadata": {
    "ExecuteTime": {
     "end_time": "2019-05-03T06:48:43.005467Z",
     "start_time": "2019-05-03T06:48:40.007376Z"
    }
   },
   "outputs": [],
   "source": [
    "import numpy as np\n",
    "import matplotlib.pyplot as plt\n",
    "from sklearn.datasets import load_iris"
   ]
  },
  {
   "cell_type": "code",
   "execution_count": 2,
   "metadata": {
    "ExecuteTime": {
     "end_time": "2019-05-03T06:48:43.309148Z",
     "start_time": "2019-05-03T06:48:43.010060Z"
    },
    "slideshow": {
     "slide_type": "fragment"
    }
   },
   "outputs": [
    {
     "data": {
      "image/png": "[encoded data removed]",
      "text/plain": [
       "<Figure size 432x288 with 1 Axes>"
      ]
     },
     "metadata": {
      "needs_background": "light"
     },
     "output_type": "display_data"
    }
   ],
   "source": [
    "iris = load_iris()\n",
    "X = iris.data[:, :2]\n",
    "y = iris.target\n",
    "\n",
    "plt.scatter(X[y==0,0], X[y==0, 1])\n",
    "plt.scatter(X[y==1,0], X[y==1, 1])\n",
    "plt.scatter(X[y==2,0], X[y==2, 1])\n",
    "plt.show();"
   ]
  },
  {
   "cell_type": "code",
   "execution_count": 3,
   "metadata": {
    "ExecuteTime": {
     "end_time": "2019-05-03T06:48:43.336338Z",
     "start_time": "2019-05-03T06:48:43.313727Z"
    }
   },
   "outputs": [],
   "source": [
    "def plot_figure(model) : \n",
    "    # Make a decision boundary plot\n",
    "    # Create figure to draw chart\n",
    "    plt.figure(2, figsize=(10, 8))\n",
    "\n",
    "    # We create a grid of points contained within [x_min, x_max]x[y_min, y_max] with step h=0.02\n",
    "    x_min, x_max = X[:, 0].min() - .5, X[:, 0].max() + .5\n",
    "    y_min, y_max = X[:, 1].min() - .5, X[:, 1].max() + .5\n",
    "    h = .02  # step size of the grid\n",
    "    xx, yy = np.meshgrid(np.arange(x_min, x_max, h), np.arange(y_min, y_max, h))\n",
    "        \n",
    "    # Retrieve predictions for each point of the grid\n",
    "    Z_GBC = model.predict(np.c_[xx.ravel(), yy.ravel()])\n",
    "    Z_GBC = Z_GBC.reshape(xx.shape)\n",
    "\n",
    "    # Plot the decision boundary (label predicted assigned to a color)\n",
    "    plt.pcolormesh(xx, yy, Z_GBC, cmap=plt.cm.Paired)\n",
    "\n",
    "    # Plot also the training points\n",
    "    plt.scatter(X[:, 0], X[:, 1], c=y, edgecolors='k', cmap=plt.cm.Paired)\n",
    "\n",
    "    # Format chart\n",
    "    plt.xlabel('Sepal length')\n",
    "    plt.ylabel('Sepal width')\n",
    "    plt.xticks(())\n",
    "    plt.yticks(())\n",
    "    plt.show()"
   ]
  },
  {
   "cell_type": "markdown",
   "metadata": {
    "slideshow": {
     "slide_type": "subslide"
    }
   },
   "source": [
    "## VIII.0 Decision Tree"
   ]
  },
  {
   "cell_type": "code",
   "execution_count": 4,
   "metadata": {
    "ExecuteTime": {
     "end_time": "2019-05-03T06:48:43.478916Z",
     "start_time": "2019-05-03T06:48:43.340499Z"
    }
   },
   "outputs": [],
   "source": [
    "from sklearn.tree import DecisionTreeClassifier\n",
    "\n",
    "dt = DecisionTreeClassifier()"
   ]
  },
  {
   "cell_type": "code",
   "execution_count": 5,
   "metadata": {
    "ExecuteTime": {
     "end_time": "2019-05-03T06:48:43.505512Z",
     "start_time": "2019-05-03T06:48:43.487419Z"
    }
   },
   "outputs": [
    {
     "name": "stdout",
     "output_type": "stream",
     "text": [
      "CPU times: user 2.33 ms, sys: 361 µs, total: 2.69 ms\n",
      "Wall time: 1.65 ms\n"
     ]
    },
    {
     "data": {
      "text/plain": [
       "DecisionTreeClassifier(ccp_alpha=0.0, class_weight=None, criterion='gini',\n",
       "                       max_depth=None, max_features=None, max_leaf_nodes=None,\n",
       "                       min_impurity_decrease=0.0, min_impurity_split=None,\n",
       "                       min_samples_leaf=1, min_samples_split=2,\n",
       "                       min_weight_fraction_leaf=0.0, presort='deprecated',\n",
       "                       random_state=None, splitter='best')"
      ]
     },
     "execution_count": 5,
     "metadata": {},
     "output_type": "execute_result"
    }
   ],
   "source": [
    "%%time\n",
    "# Fit on the data\n",
    "dt.fit(X,y)"
   ]
  },
  {
   "cell_type": "code",
   "execution_count": 6,
   "metadata": {
    "ExecuteTime": {
     "end_time": "2019-05-03T06:48:43.863796Z",
     "start_time": "2019-05-03T06:48:43.511112Z"
    }
   },
   "outputs": [
    {
     "data": {
      "image/png": "[encoded data removed]",
      "text/plain": [
       "<Figure size 720x576 with 1 Axes>"
      ]
     },
     "metadata": {},
     "output_type": "display_data"
    }
   ],
   "source": [
    "# Plot the figure\n",
    "plot_figure(dt)"
   ]
  },
  {
   "cell_type": "code",
   "execution_count": 7,
   "metadata": {},
   "outputs": [
    {
     "data": {
      "text/plain": [
       "0.9266666666666666"
      ]
     },
     "execution_count": 7,
     "metadata": {},
     "output_type": "execute_result"
    }
   ],
   "source": [
    "dt.score(X, y)"
   ]
  },
  {
   "cell_type": "markdown",
   "metadata": {
    "slideshow": {
     "slide_type": "subslide"
    }
   },
   "source": [
    "## VIII.1 AdaBoost"
   ]
  },
  {
   "cell_type": "markdown",
   "metadata": {
    "slideshow": {
     "slide_type": "fragment"
    }
   },
   "source": [
    "First here is how to perform AdaBoost using scikit-learn. We will make a pedagogical example to go through the algorithm mechanisms."
   ]
  },
  {
   "cell_type": "code",
   "execution_count": 8,
   "metadata": {
    "ExecuteTime": {
     "end_time": "2019-05-03T06:48:43.956925Z",
     "start_time": "2019-05-03T06:48:43.866772Z"
    }
   },
   "outputs": [],
   "source": [
    "from sklearn.ensemble import AdaBoostClassifier\n",
    "\n",
    "ada = AdaBoostClassifier(n_estimators=100)"
   ]
  },
  {
   "cell_type": "code",
   "execution_count": 9,
   "metadata": {
    "ExecuteTime": {
     "end_time": "2019-05-03T06:48:44.109905Z",
     "start_time": "2019-05-03T06:48:43.961389Z"
    }
   },
   "outputs": [
    {
     "name": "stdout",
     "output_type": "stream",
     "text": [
      "CPU times: user 136 ms, sys: 0 ns, total: 136 ms\n",
      "Wall time: 135 ms\n"
     ]
    },
    {
     "data": {
      "text/plain": [
       "AdaBoostClassifier(algorithm='SAMME.R', base_estimator=None, learning_rate=1.0,\n",
       "                   n_estimators=100, random_state=None)"
      ]
     },
     "execution_count": 9,
     "metadata": {},
     "output_type": "execute_result"
    }
   ],
   "source": [
    "%%time\n",
    "# Fit on the data\n",
    "ada.fit(X,y)"
   ]
  },
  {
   "cell_type": "code",
   "execution_count": 10,
   "metadata": {
    "ExecuteTime": {
     "end_time": "2019-05-03T06:48:44.865500Z",
     "start_time": "2019-05-03T06:48:44.113353Z"
    }
   },
   "outputs": [
    {
     "data": {
      "image/png": "[encoded data removed]",
      "text/plain": [
       "<Figure size 720x576 with 1 Axes>"
      ]
     },
     "metadata": {},
     "output_type": "display_data"
    }
   ],
   "source": [
    "# Plot the figure\n",
    "plot_figure(ada)"
   ]
  },
  {
   "cell_type": "markdown",
   "metadata": {
    "slideshow": {
     "slide_type": "subslide"
    }
   },
   "source": [
    "## VIII.2 Gradient Boosting"
   ]
  },
  {
   "cell_type": "code",
   "execution_count": 20,
   "metadata": {
    "ExecuteTime": {
     "end_time": "2019-05-03T06:48:44.873532Z",
     "start_time": "2019-05-03T06:48:44.869234Z"
    }
   },
   "outputs": [],
   "source": [
    "# Import the library\n",
    "from sklearn.ensemble import GradientBoostingClassifier\n",
    "\n",
    "# Instantiate the object\n",
    "GBC = GradientBoostingClassifier(n_estimators=10, max_depth=2)"
   ]
  },
  {
   "cell_type": "code",
   "execution_count": 21,
   "metadata": {
    "ExecuteTime": {
     "end_time": "2019-05-03T06:48:45.096112Z",
     "start_time": "2019-05-03T06:48:44.876952Z"
    },
    "scrolled": false,
    "slideshow": {
     "slide_type": "fragment"
    }
   },
   "outputs": [
    {
     "name": "stdout",
     "output_type": "stream",
     "text": [
      "CPU times: user 23.7 ms, sys: 4.29 ms, total: 28 ms\n",
      "Wall time: 25.6 ms\n"
     ]
    },
    {
     "data": {
      "text/plain": [
       "GradientBoostingClassifier(ccp_alpha=0.0, criterion='friedman_mse', init=None,\n",
       "                           learning_rate=0.1, loss='deviance', max_depth=2,\n",
       "                           max_features=None, max_leaf_nodes=None,\n",
       "                           min_impurity_decrease=0.0, min_impurity_split=None,\n",
       "                           min_samples_leaf=1, min_samples_split=2,\n",
       "                           min_weight_fraction_leaf=0.0, n_estimators=10,\n",
       "                           n_iter_no_change=None, presort='deprecated',\n",
       "                           random_state=None, subsample=1.0, tol=0.0001,\n",
       "                           validation_fraction=0.1, verbose=0,\n",
       "                           warm_start=False)"
      ]
     },
     "execution_count": 21,
     "metadata": {},
     "output_type": "execute_result"
    }
   ],
   "source": [
    "%%time\n",
    "# Fit on the data\n",
    "GBC.fit(X,y)"
   ]
  },
  {
   "cell_type": "code",
   "execution_count": 22,
   "metadata": {
    "ExecuteTime": {
     "end_time": "2019-05-03T06:48:45.528838Z",
     "start_time": "2019-05-03T06:48:45.099767Z"
    }
   },
   "outputs": [
    {
     "data": {
      "image/png": "[encoded data removed]",
      "text/plain": [
       "<Figure size 720x576 with 1 Axes>"
      ]
     },
     "metadata": {},
     "output_type": "display_data"
    }
   ],
   "source": [
    "# Plot the figure\n",
    "plot_figure(GBC)"
   ]
  },
  {
   "cell_type": "markdown",
   "metadata": {
    "slideshow": {
     "slide_type": "subslide"
    }
   },
   "source": [
    "As you can see, Gradient Boosting may overfit. The following parameters can be used to reduce variance:\n",
    "* *subsample*: percentage of samples used per tree, by setting it lower than 1 may reduce variance and add bias\n",
    "* *max_features*: the max number of features to use per split, by setting it to a smaller value it subsamples the features and helps reduce variance\n",
    "* *n_iter_no_change*: early stopping, it stops the algorithm after the given number of iteration without change to the loss function\n",
    "\n",
    "Let's try on the same example:"
   ]
  },
  {
   "cell_type": "code",
   "execution_count": 23,
   "metadata": {
    "ExecuteTime": {
     "end_time": "2019-05-03T06:48:45.539245Z",
     "start_time": "2019-05-03T06:48:45.533046Z"
    }
   },
   "outputs": [],
   "source": [
    "# Instantiate the object\n",
    "GBC = GradientBoostingClassifier(n_iter_no_change=2) #max_features=1)"
   ]
  },
  {
   "cell_type": "code",
   "execution_count": 24,
   "metadata": {
    "ExecuteTime": {
     "end_time": "2019-05-03T06:48:45.600847Z",
     "start_time": "2019-05-03T06:48:45.544283Z"
    },
    "slideshow": {
     "slide_type": "fragment"
    }
   },
   "outputs": [
    {
     "name": "stdout",
     "output_type": "stream",
     "text": [
      "CPU times: user 65 ms, sys: 0 ns, total: 65 ms\n",
      "Wall time: 64.1 ms\n"
     ]
    },
    {
     "data": {
      "text/plain": [
       "GradientBoostingClassifier(ccp_alpha=0.0, criterion='friedman_mse', init=None,\n",
       "                           learning_rate=0.1, loss='deviance', max_depth=3,\n",
       "                           max_features=None, max_leaf_nodes=None,\n",
       "                           min_impurity_decrease=0.0, min_impurity_split=None,\n",
       "                           min_samples_leaf=1, min_samples_split=2,\n",
       "                           min_weight_fraction_leaf=0.0, n_estimators=100,\n",
       "                           n_iter_no_change=2, presort='deprecated',\n",
       "                           random_state=None, subsample=1.0, tol=0.0001,\n",
       "                           validation_fraction=0.1, verbose=0,\n",
       "                           warm_start=False)"
      ]
     },
     "execution_count": 24,
     "metadata": {},
     "output_type": "execute_result"
    }
   ],
   "source": [
    "%%time\n",
    "# Fit on the data\n",
    "GBC.fit(X,y)"
   ]
  },
  {
   "cell_type": "code",
   "execution_count": 25,
   "metadata": {
    "ExecuteTime": {
     "end_time": "2019-05-03T06:48:46.041670Z",
     "start_time": "2019-05-03T06:48:45.606096Z"
    }
   },
   "outputs": [
    {
     "data": {
      "image/png": "[encoded data removed]",
      "text/plain": [
       "<Figure size 720x576 with 1 Axes>"
      ]
     },
     "metadata": {},
     "output_type": "display_data"
    }
   ],
   "source": [
    "# Plot the figure\n",
    "plot_figure(GBC)"
   ]
  },
  {
   "cell_type": "markdown",
   "metadata": {
    "slideshow": {
     "slide_type": "subslide"
    }
   },
   "source": [
    "## VIII.3 XGBoost"
   ]
  },
  {
   "cell_type": "markdown",
   "metadata": {
    "slideshow": {
     "slide_type": "fragment"
    }
   },
   "source": [
    "To install it, just type in your terminal:\n",
    "\n",
    "`pip install xgboost`"
   ]
  },
  {
   "cell_type": "markdown",
   "metadata": {
    "slideshow": {
     "slide_type": "fragment"
    }
   },
   "source": [
    "Let's show how to use it on our classification example:"
   ]
  },
  {
   "cell_type": "code",
   "execution_count": 29,
   "metadata": {
    "ExecuteTime": {
     "end_time": "2019-05-03T06:48:46.719548Z",
     "start_time": "2019-05-03T06:48:46.045589Z"
    }
   },
   "outputs": [],
   "source": [
    "# Import the library\n",
    "import xgboost as xgb\n",
    "\n",
    "# Instantiate the object\n",
    "xg = xgb.XGBClassifier()"
   ]
  },
  {
   "cell_type": "code",
   "execution_count": 30,
   "metadata": {
    "ExecuteTime": {
     "end_time": "2019-05-03T06:48:46.763920Z",
     "start_time": "2019-05-03T06:48:46.723088Z"
    },
    "slideshow": {
     "slide_type": "fragment"
    }
   },
   "outputs": [
    {
     "name": "stdout",
     "output_type": "stream",
     "text": [
      "CPU times: user 26.7 ms, sys: 81 µs, total: 26.8 ms\n",
      "Wall time: 25.1 ms\n"
     ]
    },
    {
     "data": {
      "text/plain": [
       "XGBClassifier(base_score=0.5, booster='gbtree', colsample_bylevel=1,\n",
       "              colsample_bynode=1, colsample_bytree=1, gamma=0,\n",
       "              learning_rate=0.1, max_delta_step=0, max_depth=3,\n",
       "              min_child_weight=1, missing=None, n_estimators=100, n_jobs=1,\n",
       "              nthread=None, objective='multi:softprob', random_state=0,\n",
       "              reg_alpha=0, reg_lambda=1, scale_pos_weight=1, seed=None,\n",
       "              silent=None, subsample=1, verbosity=1)"
      ]
     },
     "execution_count": 30,
     "metadata": {},
     "output_type": "execute_result"
    }
   ],
   "source": [
    "%%time\n",
    "# Fit on the data\n",
    "xg.fit(X,y)"
   ]
  },
  {
   "cell_type": "code",
   "execution_count": 31,
   "metadata": {
    "ExecuteTime": {
     "end_time": "2019-05-03T06:48:47.321005Z",
     "start_time": "2019-05-03T06:48:46.767053Z"
    }
   },
   "outputs": [
    {
     "data": {
      "image/png": "[encoded data removed]",
      "text/plain": [
       "<Figure size 720x576 with 1 Axes>"
      ]
     },
     "metadata": {},
     "output_type": "display_data"
    }
   ],
   "source": [
    "# Plot the figure\n",
    "plot_figure(xg)"
   ]
  },
  {
   "cell_type": "markdown",
   "metadata": {
    "slideshow": {
     "slide_type": "subslide"
    }
   },
   "source": [
    "The following parameters can be fine tuned in order to improve the efficiency of the algorithm:\n",
    "* subsample: percentage of samples used per tree, a low value can reduce variance and increase bias\n",
    "* colsample_bytree: percentage of features used per tree, a high value can increase variance\n",
    "* n_estimators: number of trees you want to build\n",
    "* alpha: L1 regularization on leaf weights, a large value leads to more regularization\n",
    "* lambda: L2 regularization on leaf weights, smoother than L1 regularization\n",
    "\n",
    "Let's try out:"
   ]
  },
  {
   "cell_type": "code",
   "execution_count": 32,
   "metadata": {
    "ExecuteTime": {
     "end_time": "2019-05-03T06:48:47.384414Z",
     "start_time": "2019-05-03T06:48:47.325643Z"
    }
   },
   "outputs": [],
   "source": [
    "# Instantiate the object\n",
    "xg = xgb.XGBClassifier(subsample=0.8,reg_lambda=10)"
   ]
  },
  {
   "cell_type": "code",
   "execution_count": 33,
   "metadata": {
    "ExecuteTime": {
     "end_time": "2019-05-03T06:48:47.433099Z",
     "start_time": "2019-05-03T06:48:47.388015Z"
    },
    "slideshow": {
     "slide_type": "fragment"
    }
   },
   "outputs": [
    {
     "name": "stdout",
     "output_type": "stream",
     "text": [
      "CPU times: user 27.7 ms, sys: 0 ns, total: 27.7 ms\n",
      "Wall time: 26.6 ms\n"
     ]
    },
    {
     "data": {
      "text/plain": [
       "XGBClassifier(base_score=0.5, booster='gbtree', colsample_bylevel=1,\n",
       "              colsample_bynode=1, colsample_bytree=1, gamma=0,\n",
       "              learning_rate=0.1, max_delta_step=0, max_depth=3,\n",
       "              min_child_weight=1, missing=None, n_estimators=100, n_jobs=1,\n",
       "              nthread=None, objective='multi:softprob', random_state=0,\n",
       "              reg_alpha=0, reg_lambda=10, scale_pos_weight=1, seed=None,\n",
       "              silent=None, subsample=0.8, verbosity=1)"
      ]
     },
     "execution_count": 33,
     "metadata": {},
     "output_type": "execute_result"
    }
   ],
   "source": [
    "%%time\n",
    "\n",
    "# Fit on the data\n",
    "xg.fit(X,y)"
   ]
  },
  {
   "cell_type": "code",
   "execution_count": 21,
   "metadata": {
    "ExecuteTime": {
     "end_time": "2019-05-03T06:48:47.994082Z",
     "start_time": "2019-05-03T06:48:47.443647Z"
    }
   },
   "outputs": [
    {
     "data": {
      "image/png": "[encoded data removed]",
      "text/plain": [
       "<Figure size 720x576 with 1 Axes>"
      ]
     },
     "metadata": {},
     "output_type": "display_data"
    }
   ],
   "source": [
    "# Plot the figure\n",
    "plot_figure(xg)"
   ]
  },
  {
   "cell_type": "markdown",
   "metadata": {
    "slideshow": {
     "slide_type": "fragment"
    }
   },
   "source": [
    "Of course, an hyperparameter random or grid search is necessary to optimize properly the hyperparameters!"
   ]
  },
  {
   "cell_type": "markdown",
   "metadata": {
    "slideshow": {
     "slide_type": "subslide"
    }
   },
   "source": [
    "## VIII.4 LightGBM"
   ]
  },
  {
   "cell_type": "markdown",
   "metadata": {},
   "source": [
    "To install it, run :\n",
    "\n",
    "`pip install lightgbm`"
   ]
  },
  {
   "cell_type": "code",
   "execution_count": 34,
   "metadata": {
    "ExecuteTime": {
     "end_time": "2019-10-21T09:55:25.336685Z",
     "start_time": "2019-10-21T09:55:22.891451Z"
    }
   },
   "outputs": [],
   "source": [
    "import lightgbm as lgb\n",
    "\n",
    "lg = lgb.LGBMClassifier(silent=False)"
   ]
  },
  {
   "cell_type": "code",
   "execution_count": 35,
   "metadata": {
    "ExecuteTime": {
     "end_time": "2019-05-03T06:48:49.159856Z",
     "start_time": "2019-05-03T06:48:48.068149Z"
    }
   },
   "outputs": [
    {
     "name": "stdout",
     "output_type": "stream",
     "text": [
      "CPU times: user 28.8 ms, sys: 0 ns, total: 28.8 ms\n",
      "Wall time: 41.2 ms\n"
     ]
    },
    {
     "data": {
      "text/plain": [
       "LGBMClassifier(boosting_type='gbdt', class_weight=None, colsample_bytree=1.0,\n",
       "               importance_type='split', learning_rate=0.1, max_depth=-1,\n",
       "               min_child_samples=20, min_child_weight=0.001, min_split_gain=0.0,\n",
       "               n_estimators=100, n_jobs=-1, num_leaves=31, objective=None,\n",
       "               random_state=None, reg_alpha=0.0, reg_lambda=0.0, silent=False,\n",
       "               subsample=1.0, subsample_for_bin=200000, subsample_freq=0)"
      ]
     },
     "execution_count": 35,
     "metadata": {},
     "output_type": "execute_result"
    }
   ],
   "source": [
    "%%time\n",
    "lg.fit(X,y)"
   ]
  },
  {
   "cell_type": "code",
   "execution_count": 36,
   "metadata": {
    "ExecuteTime": {
     "end_time": "2019-05-03T06:48:49.732497Z",
     "start_time": "2019-05-03T06:48:49.164614Z"
    }
   },
   "outputs": [
    {
     "data": {
      "image/png": "[encoded data removed]",
      "text/plain": [
       "<Figure size 720x576 with 1 Axes>"
      ]
     },
     "metadata": {},
     "output_type": "display_data"
    }
   ],
   "source": [
    "# Plot the figure\n",
    "plot_figure(lg)"
   ]
  },
  {
   "cell_type": "markdown",
   "metadata": {
    "slideshow": {
     "slide_type": "subslide"
    }
   },
   "source": [
    "## VIII.4 CatBoost"
   ]
  },
  {
   "cell_type": "markdown",
   "metadata": {},
   "source": [
    "To install catboost :\n",
    "    \n",
    "`pip install catboost`"
   ]
  },
  {
   "cell_type": "code",
   "execution_count": 38,
   "metadata": {
    "ExecuteTime": {
     "end_time": "2019-05-03T06:48:49.831617Z",
     "start_time": "2019-05-03T06:48:49.737309Z"
    }
   },
   "outputs": [],
   "source": [
    "import catboost as cb\n",
    "\n",
    "cb = cb.CatBoostClassifier(iterations=20, loss_function='MultiClass')"
   ]
  },
  {
   "cell_type": "code",
   "execution_count": 39,
   "metadata": {
    "ExecuteTime": {
     "end_time": "2019-05-03T06:48:50.285564Z",
     "start_time": "2019-05-03T06:48:49.836543Z"
    }
   },
   "outputs": [
    {
     "name": "stdout",
     "output_type": "stream",
     "text": [
      "0:\tlearn: 1.0783315\ttotal: 48.7ms\tremaining: 924ms\n",
      "1:\tlearn: 1.0600054\ttotal: 50.7ms\tremaining: 456ms\n",
      "2:\tlearn: 1.0419733\ttotal: 51.2ms\tremaining: 290ms\n",
      "3:\tlearn: 1.0237406\ttotal: 52.7ms\tremaining: 211ms\n",
      "4:\tlearn: 1.0060854\ttotal: 61.7ms\tremaining: 185ms\n",
      "5:\tlearn: 0.9880642\ttotal: 62.4ms\tremaining: 146ms\n",
      "6:\tlearn: 0.9705925\ttotal: 63ms\tremaining: 117ms\n",
      "7:\tlearn: 0.9540200\ttotal: 64.1ms\tremaining: 96.2ms\n",
      "8:\tlearn: 0.9389742\ttotal: 65.1ms\tremaining: 79.5ms\n",
      "9:\tlearn: 0.9237246\ttotal: 66.4ms\tremaining: 66.4ms\n",
      "10:\tlearn: 0.9105866\ttotal: 68.8ms\tremaining: 56.3ms\n",
      "11:\tlearn: 0.8958291\ttotal: 69.5ms\tremaining: 46.3ms\n",
      "12:\tlearn: 0.8820254\ttotal: 70.1ms\tremaining: 37.7ms\n",
      "13:\tlearn: 0.8695045\ttotal: 70.6ms\tremaining: 30.3ms\n",
      "14:\tlearn: 0.8575453\ttotal: 71.7ms\tremaining: 23.9ms\n",
      "15:\tlearn: 0.8460796\ttotal: 73.7ms\tremaining: 18.4ms\n",
      "16:\tlearn: 0.8351274\ttotal: 74.2ms\tremaining: 13.1ms\n",
      "17:\tlearn: 0.8239845\ttotal: 74.8ms\tremaining: 8.31ms\n",
      "18:\tlearn: 0.8137926\ttotal: 75.4ms\tremaining: 3.97ms\n",
      "19:\tlearn: 0.8031361\ttotal: 75.9ms\tremaining: 0us\n",
      "CPU times: user 138 ms, sys: 17 ms, total: 155 ms\n",
      "Wall time: 119 ms\n"
     ]
    },
    {
     "data": {
      "text/plain": [
       "<catboost.core.CatBoostClassifier at 0x7ff8e3e0f590>"
      ]
     },
     "execution_count": 39,
     "metadata": {},
     "output_type": "execute_result"
    }
   ],
   "source": [
    "%%time\n",
    "cb.fit(X,y)"
   ]
  },
  {
   "cell_type": "code",
   "execution_count": 40,
   "metadata": {
    "ExecuteTime": {
     "end_time": "2019-05-03T06:48:50.823120Z",
     "start_time": "2019-05-03T06:48:50.290983Z"
    }
   },
   "outputs": [
    {
     "data": {
      "image/png": "[encoded data removed]",
      "text/plain": [
       "<Figure size 720x576 with 1 Axes>"
      ]
     },
     "metadata": {},
     "output_type": "display_data"
    }
   ],
   "source": [
    "# Plot the figure\n",
    "plot_figure(cb)"
   ]
  },
  {
   "cell_type": "markdown",
   "metadata": {
    "slideshow": {
     "slide_type": "slide"
    }
   },
   "source": [
    "# IX. Summary"
   ]
  },
  {
   "cell_type": "markdown",
   "metadata": {},
   "source": [
    "*Random Forest :*\n",
    "- is a Bagging algorithm\n",
    "- that makes a forest of decision trees\n",
    "- gives the same weight to each decision tree\n",
    "- grows trees independently\n",
    "\n",
    "*Adaboost :*\n",
    "- is a Boosting algorithm\n",
    "- combines weak learners (most often stumps)\n",
    "- gives a different weight to each stump depending on their performance\n",
    "- each stump depends on the mistakes of the previous ones\n",
    "\n",
    "*Gradient Boosting Regression :*\n",
    "- is a Boosting algorithm\n",
    "- combines trees\n",
    "- computes the residuals of the previous step\n",
    "- attaches a learning rate to each model\n",
    "\n",
    "*Gradient Boosting Classification :*\n",
    "- same as regression\n",
    "- applies as transformation to allow for classification\n",
    "\n",
    "*XGBoost :*\n",
    "- super fast implementation\n",
    "- Histogram-based split to build trees\n",
    "\n",
    "*LGBM :*\n",
    "- developed by Microsoft\n",
    "- leaf-wise development depending of gradient\n",
    "\n",
    "*Catboost :*\n",
    "- developed by Yandex\n",
    "- supports categorical features\n",
    "- supports GPU natively"
   ]
  },
  {
   "cell_type": "code",
   "execution_count": null,
   "metadata": {},
   "outputs": [],
   "source": []
  },
  {
   "cell_type": "code",
   "execution_count": null,
   "metadata": {},
   "outputs": [],
   "source": []
  }
 ],
 "metadata": {
  "kernelspec": {
   "display_name": "Python 3",
   "language": "python",
   "name": "python3"
  },
  "language_info": {
   "codemirror_mode": {
    "name": "ipython",
    "version": 3
   },
   "file_extension": ".py",
   "mimetype": "text/x-python",
   "name": "python",
   "nbconvert_exporter": "python",
   "pygments_lexer": "ipython3",
   "version": "3.7.4"
  }
 },
 "nbformat": 4,
 "nbformat_minor": 2
}
