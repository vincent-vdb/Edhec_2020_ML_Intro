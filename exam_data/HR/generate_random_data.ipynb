{
 "cells": [
  {
   "cell_type": "code",
   "execution_count": 1,
   "metadata": {},
   "outputs": [],
   "source": [
    "import numpy as np\n",
    "import pandas as pd"
   ]
  },
  {
   "cell_type": "code",
   "execution_count": 2,
   "metadata": {},
   "outputs": [],
   "source": [
    "gender_vals = [\"Male\", \"Male\", \"Male\", \"Male\", \"Male\", \"Female\", \"Female\", \"Female\", \"Non binary\"]\n",
    "degree_vals = ['PhD', \"Master's degree\", \"Master's degree\", \"Master's degree\",\n",
    "               \"MBA\", \"Bachelor\", \"Bachelor\", \"Bachelor\", \"Others\"]\n",
    "#last_title_vals = ['VP', 'Lead', 'Senior', 'Partner', 'Associate', 'Employee']\n",
    "university_vals = ['MIT', 'Stanford', 'Harvard', 'Yale', 'Berkeley', 'University of Pennsylvania', \n",
    "                   'Caltech', 'Princeton', 'UCLA', 'Others', 'Others', 'Others', 'Others',\n",
    "                   'Others', 'Others', 'Others', 'Others', 'Others', 'Others', 'Others']"
   ]
  },
  {
   "cell_type": "code",
   "execution_count": 3,
   "metadata": {},
   "outputs": [],
   "source": [
    "pred_vals = ['Accepted Offer', 'Declined Offer', 'No offer']"
   ]
  },
  {
   "cell_type": "code",
   "execution_count": 4,
   "metadata": {},
   "outputs": [],
   "source": [
    "def compute_prediction(gender, degree, university_title):\n",
    "    \n",
    "\n",
    "    total_factor = 1\n",
    "    \n",
    "    # Apply univ penalty\n",
    "    if university_title == 'Others':\n",
    "        total_factor *= 0.3\n",
    "    else:\n",
    "        total_factor *= 0.9\n",
    "\n",
    "    # Apply gender penalty\n",
    "    if gender == \"Male\":\n",
    "        total_factor *= 0.8\n",
    "    elif gender == \"Female\":\n",
    "        total_factor *= 0.6\n",
    "    else:\n",
    "        total_factor *= 0.3\n",
    "\n",
    "\n",
    "        \n",
    "    \n",
    "    if np.random.random() < total_factor:\n",
    "        pred = pred_vals[np.random.randint(2)]\n",
    "    else:\n",
    "        pred = pred_vals[2]\n",
    "    \n",
    "    return pred, total_factor"
   ]
  },
  {
   "cell_type": "code",
   "execution_count": 5,
   "metadata": {},
   "outputs": [],
   "source": [
    "table = []\n",
    "probas = {\"Female\": [], \"Male\": [], \"Else\": []}\n",
    "\n",
    "for _ in range(80):\n",
    "    gender = gender_vals[np.random.randint(len(gender_vals))]\n",
    "    degree = degree_vals[np.random.randint(len(degree_vals))]\n",
    "    if degree == 'Others':\n",
    "        university_title = 'Others'\n",
    "    else:\n",
    "        university_title = university_vals[np.random.randint(len(university_vals))]\n",
    "    #last_title = last_title_vals[np.random.randint(len(last_title_vals))]\n",
    "    pred, proba = compute_prediction(gender, degree, university_title)\n",
    "    \n",
    "    # Apply gender penalty\n",
    "    if university_title != 'Others':\n",
    "        if gender == \"Male\":\n",
    "            probas['Male'].append(proba)\n",
    "        elif gender == \"Female\":\n",
    "            probas['Female'].append(proba)\n",
    "        else:\n",
    "            probas['Else'].append(proba)\n",
    "        \n",
    "    table.append([gender, degree, university_title, pred])\n",
    "    "
   ]
  },
  {
   "cell_type": "code",
   "execution_count": 6,
   "metadata": {},
   "outputs": [],
   "source": [
    "df = pd.DataFrame(table, columns=['Gender', 'Highest University Degree', 'University', 'Label'])"
   ]
  },
  {
   "cell_type": "code",
   "execution_count": 7,
   "metadata": {},
   "outputs": [],
   "source": [
    "df.to_csv('hr_train.csv')"
   ]
  },
  {
   "cell_type": "code",
   "execution_count": 8,
   "metadata": {},
   "outputs": [
    {
     "name": "stdout",
     "output_type": "stream",
     "text": [
      "mean female 0.54\n",
      "mean male 0.7200000000000001\n",
      "mean non binary 0.27\n"
     ]
    }
   ],
   "source": [
    "print('mean female', np.max(probas['Female']))\n",
    "print('mean male', np.max(probas['Male']))\n",
    "print('mean non binary', np.max(probas['Else']))\n"
   ]
  },
  {
   "cell_type": "code",
   "execution_count": null,
   "metadata": {},
   "outputs": [],
   "source": []
  }
 ],
 "metadata": {
  "kernelspec": {
   "display_name": "Python 3",
   "language": "python",
   "name": "python3"
  },
  "language_info": {
   "codemirror_mode": {
    "name": "ipython",
    "version": 3
   },
   "file_extension": ".py",
   "mimetype": "text/x-python",
   "name": "python",
   "nbconvert_exporter": "python",
   "pygments_lexer": "ipython3",
   "version": "3.7.4"
  }
 },
 "nbformat": 4,
 "nbformat_minor": 2
}
