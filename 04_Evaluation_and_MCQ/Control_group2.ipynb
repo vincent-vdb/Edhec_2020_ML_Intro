{
 "cells": [
  {
   "cell_type": "markdown",
   "metadata": {
    "slideshow": {
     "slide_type": "slide"
    }
   },
   "source": [
    "# First MCQ\n",
    "\n",
    "Group 2"
   ]
  },
  {
   "cell_type": "markdown",
   "metadata": {
    "slideshow": {
     "slide_type": "subslide"
    }
   },
   "source": [
    "### 1. What is the difference between Machine Learning and classical algorithms?\n",
    "\n",
    "- A. Classical algorithms have data and rules as input and outputs predictions, machine learning algorithms have data and labels as input and outputs rules\n",
    "- B. Classical algorithms have labels and rules as input and outputs data, machine learning algorithms have data and labels as input and outputs rules\n",
    "- C. Classical algorithms have data and rules as input and outputs predictions, machine learning algorithms have labels and rules as input and outputs data\n"
   ]
  },
  {
   "cell_type": "markdown",
   "metadata": {
    "slideshow": {
     "slide_type": "subslide"
    }
   },
   "source": [
    "### 1. What is the difference between Machine Learning and classical algorithms?\n",
    "\n",
    "- A. **Classical algorithms have data and rules as input and outputs predictions, machine learning algorithms have data and labels as input and outputs rules**\n",
    "- B. Classical algorithms have labels and rules as input and outputs data, machine learning algorithms have data and labels as input and outputs rules\n",
    "- C. Classical algorithms have data and rules as input and outputs predictions, machine learning algorithms have labels and rules as input and outputs data\n"
   ]
  },
  {
   "cell_type": "markdown",
   "metadata": {
    "slideshow": {
     "slide_type": "subslide"
    }
   },
   "source": [
    "### 2. In the following list, which are actual types of Machine Learning?\n",
    "- A. Supervised learning\n",
    "- B. Reinforcement learning\n",
    "- C. Genetic learning\n"
   ]
  },
  {
   "cell_type": "markdown",
   "metadata": {
    "slideshow": {
     "slide_type": "subslide"
    }
   },
   "source": [
    "### 2. In the following list, which are actual types of Machine Learning?\n",
    "- A. **Supervised learning**\n",
    "- B. **Reinforcement learning**\n",
    "- C. Genetic learning\n"
   ]
  },
  {
   "cell_type": "markdown",
   "metadata": {
    "slideshow": {
     "slide_type": "subslide"
    }
   },
   "source": [
    "### 3. What are examples of unsupervised learning?\n",
    "- A. Classification\n",
    "- B. Clustering\n",
    "- C. Data compression\n"
   ]
  },
  {
   "cell_type": "markdown",
   "metadata": {
    "slideshow": {
     "slide_type": "subslide"
    }
   },
   "source": [
    "### 3. What are examples of unsupervised learning?\n",
    "- A. Classification\n",
    "- B. **Clustering**\n",
    "- C. **Data compression**\n"
   ]
  },
  {
   "cell_type": "markdown",
   "metadata": {
    "slideshow": {
     "slide_type": "subslide"
    }
   },
   "source": [
    "### 4. What is wrong about this data visualization?\n",
    "![](images/bad_dataviz_group2.png)\n",
    "- A. It does not respect the data-ink ratio\n",
    "- B. There are no values on the chart, thus this is not readable\n",
    "- C. A scatter plot would offer a better visualization\n",
    "- D. A bar plot would offer a better visualization\n"
   ]
  },
  {
   "cell_type": "markdown",
   "metadata": {
    "slideshow": {
     "slide_type": "subslide"
    }
   },
   "source": [
    "### 4. What is wrong about this data visualization?\n",
    "![](images/bad_dataviz_group2.png)\n",
    "- A. **It does not respect the data-ink ratio**\n",
    "- B. **There are no values on the chart, thus this is not readable**\n",
    "- C. A scatter plot would offer a better visualization\n",
    "- D. **A bar plot would offer a better visualization**\n"
   ]
  },
  {
   "cell_type": "markdown",
   "metadata": {
    "slideshow": {
     "slide_type": "subslide"
    }
   },
   "source": [
    "Here is the same information on a bar plot:\n",
    "![](images/right_dataviz_group2.png)"
   ]
  },
  {
   "cell_type": "markdown",
   "metadata": {
    "slideshow": {
     "slide_type": "subslide"
    }
   },
   "source": [
    "### 5. What is the common loss of the logistic regression?\n",
    "- A. Cross Entropy\n",
    "- B. Least squares\n",
    "- C. Mean Squared Error\n",
    "- D. Minimum Squared Error\n"
   ]
  },
  {
   "cell_type": "markdown",
   "metadata": {
    "slideshow": {
     "slide_type": "subslide"
    }
   },
   "source": [
    "### 5. What is the common loss of the logistic regression?\n",
    "- A. **Cross Entropy**\n",
    "- B. Least squares\n",
    "- C. Mean Squared Error\n",
    "- D. Minimum Squared Error\n"
   ]
  },
  {
   "cell_type": "markdown",
   "metadata": {
    "slideshow": {
     "slide_type": "subslide"
    }
   },
   "source": [
    "### 6. How can we perform multiclass classification with logistic regression?\n",
    "- A. Logistic regression works natively on multiclass problems\n",
    "- B. Training as many models as classes, and using one versus rest method\n",
    "- C. Training n-1 models for n classes, and using one versus rest method\n",
    "- D. Logistic regression does not allow multiclass classification\n"
   ]
  },
  {
   "cell_type": "markdown",
   "metadata": {
    "slideshow": {
     "slide_type": "subslide"
    }
   },
   "source": [
    "### 6. How can we perform multiclass classification with logistic regression?\n",
    "- A. Logistic regression works natively on multiclass problems\n",
    "- B. **Training as many models as classes, and using one versus rest method**\n",
    "- C. Training n-1 models for n classes, and using one versus rest method\n",
    "- D. Logistic regression does not allow multiclass classification\n"
   ]
  },
  {
   "cell_type": "markdown",
   "metadata": {
    "slideshow": {
     "slide_type": "subslide"
    }
   },
   "source": [
    "### 7. In the following list, which are machine learning classification models other than Logistic Regression?\n",
    "- A. Multivariate Linear Regression\n",
    "- B. k-nearest neighbors\n",
    "- C. Isolation Forest\n"
   ]
  },
  {
   "cell_type": "markdown",
   "metadata": {
    "slideshow": {
     "slide_type": "subslide"
    }
   },
   "source": [
    "### 7. In the following list, which are machine learning classification models other than Logistic Regression?\n",
    "- A. Multivariate Linear Regression\n",
    "- B. **k-nearest neighbors**\n",
    "- C. Isolation Forest\n"
   ]
  },
  {
   "cell_type": "markdown",
   "metadata": {
    "slideshow": {
     "slide_type": "subslide"
    }
   },
   "source": [
    "### 8. How should qualitative data be prepared?\n",
    "- A. It should be encoded, with methods such as one-hot-encoding\n",
    "- B. It should be rescaled, with for example standard scaling\n",
    "- C. Qualitative data does not require specific preparation\n"
   ]
  },
  {
   "cell_type": "markdown",
   "metadata": {
    "slideshow": {
     "slide_type": "subslide"
    }
   },
   "source": [
    "### 8. How should qualitative data be prepared?\n",
    "- A. **It should be encoded, with methods such as one-hot-encoding**\n",
    "- B. It should be rescaled, with for example standard scaling\n",
    "- C. Qualitative data does not require specific preparation\n"
   ]
  },
  {
   "cell_type": "markdown",
   "metadata": {
    "slideshow": {
     "slide_type": "subslide"
    }
   },
   "source": [
    "### 9. Why does quantitative data have to be prepared?\n",
    "- A. To avoid any arbitrary order in the data, such as blue > red\n",
    "- B. To make sure all features are considered the same way by the model\n",
    "- C. To make sure all data is centered on zero, with a controlled variance (e.g. such as 1)\n",
    "- D. Quantitative data does not require specific preparation\n"
   ]
  },
  {
   "cell_type": "markdown",
   "metadata": {
    "slideshow": {
     "slide_type": "subslide"
    }
   },
   "source": [
    "### 9. Why does quantitative data have to be prepared?\n",
    "- A. To avoid any arbitrary order in the data, such as blue > red\n",
    "- B. **To make sure all features are considered the same way by the model**\n",
    "- C. **To make sure all data is centered on zero, with a controlled variance (e.g. such as 1)**\n",
    "- D. Quantitative data does not require specific preparation\n"
   ]
  },
  {
   "cell_type": "markdown",
   "metadata": {
    "slideshow": {
     "slide_type": "subslide"
    }
   },
   "source": [
    "### 10. What are examples of unstructured data?\n",
    "- A. A database of customers with information such as name, subscription plan, birthdate…\n",
    "- B. A Airbnb-like database of apartment descriptions, internal policies, host descriptions\n",
    "- C. A set of pictures of faces of persons with their associated age\n",
    "- D. A dataset of movies, with watched movies and rating information for each customer\n"
   ]
  },
  {
   "cell_type": "markdown",
   "metadata": {
    "slideshow": {
     "slide_type": "subslide"
    }
   },
   "source": [
    "### 10. What are examples of unstructured data?\n",
    "- A. A database of customers with information such as name, subscription plan, birthdate…\n",
    "- B. **A Airbnb-like database of apartment descriptions, internal policies, host descriptions**\n",
    "- C. **A set of pictures of faces of persons with their associated age**\n",
    "- D. A dataset of movies, with watched movies and rating information for each customer\n"
   ]
  },
  {
   "cell_type": "markdown",
   "metadata": {
    "slideshow": {
     "slide_type": "subslide"
    }
   },
   "source": [
    "### 11. How can one handle missing data?\n",
    "- A. Remove the rows or columns with missing values\n",
    "- B. Fill missing values with a statistically meaningful values (e.g. mean or median)\n",
    "- C. Perform machine learning to predict the missing values\n",
    "- D. Missing values do not need special preparation\n"
   ]
  },
  {
   "cell_type": "markdown",
   "metadata": {
    "slideshow": {
     "slide_type": "subslide"
    }
   },
   "source": [
    "### 11. How can one handle missing data?\n",
    "- A. **Remove the rows or columns with missing values**\n",
    "- B. **Fill missing values with a statistically meaningful values (e.g. mean or median)**\n",
    "- C. **Perform machine learning to predict the missing values**\n",
    "- D. Missing values do not need special preparation\n"
   ]
  },
  {
   "cell_type": "markdown",
   "metadata": {
    "slideshow": {
     "slide_type": "subslide"
    }
   },
   "source": [
    "### 12. What are the legally authorized ways to collect more data?\n",
    "- A. Open source datasets, like Kaggle\n",
    "- B. APIs like the ones of Twitter or Instagram\n",
    "- C. Scraping website using specific tools\n",
    "- D. Request specialized companies to label internal data\n"
   ]
  },
  {
   "cell_type": "markdown",
   "metadata": {
    "slideshow": {
     "slide_type": "subslide"
    }
   },
   "source": [
    "### 12. What are the legally authorized ways to collect more data?\n",
    "- A. **Open source datasets, like Kaggle**\n",
    "- B. **APIs like the ones of Twitter or Instagram**\n",
    "- C. Scraping website using specific tools\n",
    "- D. **Request specialized companies to label internal data**\n"
   ]
  },
  {
   "cell_type": "markdown",
   "metadata": {
    "slideshow": {
     "slide_type": "subslide"
    }
   },
   "source": [
    "### 13. What are examples of machine learning solutions?\n",
    "- A. Google translate\n",
    "- B. Netflix movie recommendation\n",
    "- C. TV screen color and sharpness optimization\n"
   ]
  },
  {
   "cell_type": "markdown",
   "metadata": {
    "slideshow": {
     "slide_type": "subslide"
    }
   },
   "source": [
    "### 13. What are examples of machine learning solutions?\n",
    "- A. **Google translate**\n",
    "- B. **Netflix movie recommendation**\n",
    "- C. TV screen color and sharpness optimization\n"
   ]
  },
  {
   "cell_type": "markdown",
   "metadata": {
    "slideshow": {
     "slide_type": "subslide"
    }
   },
   "source": [
    "### 14. Why is Machine Learning currently widely used, while most ideas are decades old?\n",
    "- A. There is more and more data\n",
    "- B. Industry takes time to adopt and deploy research level solutions\n",
    "- C. Many free or low cost courses allow many people to use such solutions\n",
    "- D. Patents were avoiding most industries to use such methods\n"
   ]
  },
  {
   "cell_type": "markdown",
   "metadata": {
    "slideshow": {
     "slide_type": "subslide"
    }
   },
   "source": [
    "### 14. Why is Machine Learning currently widely used, while most ideas are decades old?\n",
    "- A. **There is more and more data**\n",
    "- B. Industry takes time to adopt and deploy research level solutions\n",
    "- C. **Many free or low cost courses allow many people to use such solutions**\n",
    "- D. Patents were avoiding most industries to use such methods\n"
   ]
  },
  {
   "cell_type": "markdown",
   "metadata": {
    "slideshow": {
     "slide_type": "subslide"
    }
   },
   "source": [
    "### 15. Once a model is working, does it need to be retrained on a regular basis?\n",
    "- A. No, a working model has no reason to stop working at some point\n",
    "- B. Yes, a working model can become obsolete because of contextual changes for example, and may need to be retrained\n",
    "- C. Yes, any working model has to be retrained on a regular basis to ensure the best performances\n"
   ]
  },
  {
   "cell_type": "markdown",
   "metadata": {
    "slideshow": {
     "slide_type": "subslide"
    }
   },
   "source": [
    "### 15. Once a model is working, does it need to be retrained on a regular basis?\n",
    "- A. No, a working model has no reason to stop working at some point\n",
    "- B. **Yes, a working model can become obsolete because of contextual changes for example, and may need to be retrained**\n",
    "- C. Yes, any working model has to be retrained on a regular basis to ensure the best performances\n"
   ]
  },
  {
   "cell_type": "markdown",
   "metadata": {
    "slideshow": {
     "slide_type": "subslide"
    }
   },
   "source": [
    "### 16. Is any qualitative data discrete?\n",
    "- A. Yes\n",
    "- B. No\n"
   ]
  },
  {
   "cell_type": "markdown",
   "metadata": {
    "slideshow": {
     "slide_type": "subslide"
    }
   },
   "source": [
    "### 16. Is any qualitative data discrete?\n",
    "- A. **Yes**\n",
    "- B. No\n"
   ]
  },
  {
   "cell_type": "markdown",
   "metadata": {
    "slideshow": {
     "slide_type": "subslide"
    }
   },
   "source": [
    "### 17. Is any quantitative data continuous?\n",
    "- A. Yes\n",
    "- B. No\n"
   ]
  },
  {
   "cell_type": "markdown",
   "metadata": {
    "slideshow": {
     "slide_type": "subslide"
    }
   },
   "source": [
    "### 17. Is any quantitative data continuous?\n",
    "- A. Yes\n",
    "- B. **No**\n"
   ]
  },
  {
   "cell_type": "markdown",
   "metadata": {
    "slideshow": {
     "slide_type": "subslide"
    }
   },
   "source": [
    "### 18. Do all outliers need to be removed?\n",
    "- A. Yes, any outlier is not representative of the real data distribution, thus has to be removed\n",
    "- B. No, some outliers may actually be realistic data, and thus should be kept\n",
    "- C. Yes, even if some outliers may be realistic data, they may alter model performances and should be removed\n",
    "- D. No, models need as much data as possible to be efficient, thus outliers should be kept as much as possible\n"
   ]
  },
  {
   "cell_type": "markdown",
   "metadata": {
    "slideshow": {
     "slide_type": "subslide"
    }
   },
   "source": [
    "### 18. Do all outliers need to be removed?\n",
    "- A. Yes, any outlier is not representative of the real data distribution, thus has to be removed\n",
    "- B. **No, some outliers may actually be realistic data, and thus should be kept**\n",
    "- C. Yes, even if some outliers may be realistic data, they may alter model performances and should be removed\n",
    "- D. No, models need as much data as possible to be efficient, thus outliers should be kept as much as possible\n"
   ]
  },
  {
   "cell_type": "markdown",
   "metadata": {
    "slideshow": {
     "slide_type": "subslide"
    }
   },
   "source": [
    "### 19. What is the formula of the Cross Entropy loss? Assuming (i) being a sample, m the number of samples, y the label, x the features, h(x) the prediction of the model.\n",
    "- A. $$-\\frac{1}{m} \\sum_{i=1}^m y^{(i)}\\,\\log(h_{\\theta}(x^{(i)}))\\,+\\,(1-y^{(i)})\\log (1 - h_{\\theta}(x^{(i)}))$$ \n",
    "- B. $$-\\frac{1}{m} \\sum_{i=1}^m h_{\\theta}(x^{(i)})\\,\\log(y^{(i)})\\,+\\,(1-h_{\\theta}(x^{(i)}))\\log (1 - y^{(i)}) $$\n",
    "- C. $$-\\frac{1}{m} \\sum_{i=1}^m y^{(i)}\\,\\ln(h_{\\theta}(x^{(i)}))\\,+\\,(1-y^{(i)})\\ln (1 - h_{\\theta}(x^{(i)})) $$\n",
    "- D. $$-\\frac{1}{m} \\sum_{i=1}^m h_{\\theta}(x^{(i)})\\,\\ln(y^{(i)})\\,+\\,(1-h_{\\theta}(x^{(i)}))\\ln (1 - y^{(i)}) $$"
   ]
  },
  {
   "cell_type": "markdown",
   "metadata": {
    "slideshow": {
     "slide_type": "subslide"
    }
   },
   "source": [
    "### 19. What is the formula of the Cross Entropy loss? Assuming (i) being a sample, m the number of samples, y the label, x the features, h(x) the prediction of the model.\n",
    "- A. $$\\boldsymbol{ -\\frac{1}{m} \\sum_{i=1}^m y^{(i)}\\,\\log(h_{\\theta}(x^{(i)}))\\,+\\,(1-y^{(i)})\\log (1 - h_{\\theta}(x^{(i)})) }$$ \n",
    "- B. $$-\\frac{1}{m} \\sum_{i=1}^m h_{\\theta}(x^{(i)})\\,\\log(y^{(i)})\\,+\\,(1-h_{\\theta}(x^{(i)}))\\log (1 - y^{(i)}) $$\n",
    "- C. $$-\\frac{1}{m} \\sum_{i=1}^m y^{(i)}\\,\\ln(h_{\\theta}(x^{(i)}))\\,+\\,(1-y^{(i)})\\ln (1 - h_{\\theta}(x^{(i)})) $$\n",
    "- D. $$-\\frac{1}{m} \\sum_{i=1}^m h_{\\theta}(x^{(i)})\\,\\ln(y^{(i)})\\,+\\,(1-h_{\\theta}(x^{(i)}))\\ln (1 - y^{(i)}) $$  "
   ]
  },
  {
   "cell_type": "markdown",
   "metadata": {
    "slideshow": {
     "slide_type": "subslide"
    }
   },
   "source": [
    "### 20. What is the formula of the sigmoid function?\n",
    "- A. $$h(x) = \\frac{1}{1+e^{-z}}$$\n",
    "- B. $$h(x) = \\frac{1}{1+e^{z}}$$\n",
    "- C. $$h(x) = \\frac{1}{1-e^{-z}}$$\n",
    "- D. $$h(x) = \\frac{1}{1-e^{z}}$$"
   ]
  },
  {
   "cell_type": "markdown",
   "metadata": {
    "slideshow": {
     "slide_type": "subslide"
    }
   },
   "source": [
    "### 20. What is the formula of the sigmoid function?\n",
    "- A. $$\\boldsymbol{ h(x) = \\frac{1}{1+e^{-z}} }$$\n",
    "- B. $$h(x) = \\frac{1}{1+e^{z}}$$\n",
    "- C. $$h(x) = \\frac{1}{1-e^{-z}}$$\n",
    "- D. $$h(x) = \\frac{1}{1-e^{z}}$$"
   ]
  }
 ],
 "metadata": {
  "celltoolbar": "Slideshow",
  "kernelspec": {
   "display_name": "Python 3",
   "language": "python",
   "name": "python3"
  },
  "language_info": {
   "codemirror_mode": {
    "name": "ipython",
    "version": 3
   },
   "file_extension": ".py",
   "mimetype": "text/x-python",
   "name": "python",
   "nbconvert_exporter": "python",
   "pygments_lexer": "ipython3",
   "version": "3.7.4"
  }
 },
 "nbformat": 4,
 "nbformat_minor": 2
}
