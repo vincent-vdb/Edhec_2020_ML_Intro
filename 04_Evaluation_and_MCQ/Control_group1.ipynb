{
 "cells": [
  {
   "cell_type": "markdown",
   "metadata": {
    "slideshow": {
     "slide_type": "slide"
    }
   },
   "source": [
    "# First MCQ\n",
    "\n",
    "Group 1"
   ]
  },
  {
   "cell_type": "markdown",
   "metadata": {
    "slideshow": {
     "slide_type": "subslide"
    }
   },
   "source": [
    "### 1. What is the difference between Machine Learning and classical algorithms?\n",
    "\n",
    "- A. Classical algorithms have data and rules as input and outputs predictions, machine learning algorithms have data and labels as input and outputs rules\n",
    "- B. Classical algorithms have labels and rules as input and outputs data, machine learning algorithms have data and labels as input and outputs rules\n",
    "- C. Classical algorithms have data and rules as input and outputs predictions, machine learning algorithms have labels and rules as input and outputs data\n"
   ]
  },
  {
   "cell_type": "markdown",
   "metadata": {
    "slideshow": {
     "slide_type": "subslide"
    }
   },
   "source": [
    "### 1. What is the difference between Machine Learning and classical algorithms?\n",
    "\n",
    "- A. **Classical algorithms have data and rules as input and outputs predictions, machine learning algorithms have data and labels as input and outputs rules**\n",
    "- B. Classical algorithms have labels and rules as input and outputs data, machine learning algorithms have data and labels as input and outputs rules\n",
    "- C. Classical algorithms have data and rules as input and outputs predictions, machine learning algorithms have labels and rules as input and outputs data\n"
   ]
  },
  {
   "cell_type": "markdown",
   "metadata": {
    "slideshow": {
     "slide_type": "subslide"
    }
   },
   "source": [
    "### 2. In the following list, which are actual types of Machine Learning?\n",
    "- A. Unsupervised learning\n",
    "- B. Auto learning\n",
    "- C. Neuro learning\n"
   ]
  },
  {
   "cell_type": "markdown",
   "metadata": {
    "slideshow": {
     "slide_type": "subslide"
    }
   },
   "source": [
    "### 2. In the following list, which are actual types of Machine Learning?\n",
    "- A. **Unsupervised learning**\n",
    "- B. Auto learning\n",
    "- C. Neuro learning\n"
   ]
  },
  {
   "cell_type": "markdown",
   "metadata": {
    "slideshow": {
     "slide_type": "subslide"
    }
   },
   "source": [
    "### 3. What are examples of unsupervised learning?\n",
    "- A. Regression\n",
    "- B. Anomaly detection\n",
    "- C. Dimensionality reduction\n"
   ]
  },
  {
   "cell_type": "markdown",
   "metadata": {
    "slideshow": {
     "slide_type": "subslide"
    }
   },
   "source": [
    "### 3. What are examples of unsupervised learning?\n",
    "- A. Regression\n",
    "- B. **Anomaly detection**\n",
    "- C. **Dimensionality reduction**\n"
   ]
  },
  {
   "cell_type": "markdown",
   "metadata": {
    "slideshow": {
     "slide_type": "subslide"
    }
   },
   "source": [
    "### 4. What is wrong about this data visualization?\n",
    "<center>\n",
    "    <img src=\"images/bad_dataviz_group1.jpg\" width=\"400\">\n",
    "</center>\n",
    "\n",
    "- A. It does not respect the data-ink ratio\n",
    "- B. Values are not readable because of the depth\n",
    "- C. A scatter plot would offer a better visualization\n",
    "- D. A pie chart would offer a better visualization\n"
   ]
  },
  {
   "cell_type": "markdown",
   "metadata": {
    "slideshow": {
     "slide_type": "subslide"
    }
   },
   "source": [
    "### 4. What is wrong about this data visualization?\n",
    "<center>\n",
    "    <img src=\"images/bad_dataviz_group1.jpg\" width=\"400\">\n",
    "</center>\n",
    "\n",
    "- A. **It does not respect the data-ink ratio**\n",
    "- B. **Values are not readable because of the depth**\n",
    "- C. **A scatter plot would offer a better visualization**\n",
    "- D. A pie chart would offer a better visualization\n"
   ]
  },
  {
   "cell_type": "markdown",
   "metadata": {
    "slideshow": {
     "slide_type": "subslide"
    }
   },
   "source": [
    "### 5. What is the common loss of the linear regression?\n",
    "- A. Cross Entropy\n",
    "- B. Least squares\n",
    "- C. Mean Squared Error\n",
    "- D. Minimum Squared Error\n"
   ]
  },
  {
   "cell_type": "markdown",
   "metadata": {
    "slideshow": {
     "slide_type": "subslide"
    }
   },
   "source": [
    "### 5. What is the common loss of the linear regression?\n",
    "- A. Cross Entropy\n",
    "- B. Least squares\n",
    "- C. **Mean Squared Error**\n",
    "- D. Minimum Squared Error\n"
   ]
  },
  {
   "cell_type": "markdown",
   "metadata": {
    "slideshow": {
     "slide_type": "subslide"
    }
   },
   "source": [
    "### 6. What is the name of the algorithm used to fit the logistic regression?\n",
    "- A. Logistic fitting\n",
    "- B. Gradient descent\n",
    "- C. Stochastic descent\n",
    "- D. Batch fitting\n"
   ]
  },
  {
   "cell_type": "markdown",
   "metadata": {
    "slideshow": {
     "slide_type": "subslide"
    }
   },
   "source": [
    "### 6. What is the name of the algorithm used to fit the logistic regression?\n",
    "- A. Logistic fitting\n",
    "- B. **Gradient descent**\n",
    "- C. Stochastic descent\n",
    "- D. Batch fitting\n"
   ]
  },
  {
   "cell_type": "markdown",
   "metadata": {
    "slideshow": {
     "slide_type": "subslide"
    }
   },
   "source": [
    "### 7. In the following list, which are machine learning classification models other than Logistic Regression?\n",
    "- A. PLS Regression\n",
    "- B. Robust Bayes\n",
    "- C. Support Vector Machine\n"
   ]
  },
  {
   "cell_type": "markdown",
   "metadata": {
    "slideshow": {
     "slide_type": "subslide"
    }
   },
   "source": [
    "### 7. In the following list, which are machine learning classification models other than Logistic Regression?\n",
    "- A. PLS Regression\n",
    "- B. Robust Bayes\n",
    "- C. **Support Vector Machine**\n"
   ]
  },
  {
   "cell_type": "markdown",
   "metadata": {
    "slideshow": {
     "slide_type": "subslide"
    }
   },
   "source": [
    "### 8. How should quantitative data be prepared?\n",
    "- A. It should be encoded, with methods such as one-hot-encoding\n",
    "- B. It should be rescaled, with for example standard scaling\n",
    "- C. Quantitative data does not require specific preparation\n"
   ]
  },
  {
   "cell_type": "markdown",
   "metadata": {
    "slideshow": {
     "slide_type": "subslide"
    }
   },
   "source": [
    "### 8. How should quantitative data be prepared?\n",
    "- A. It should be encoded, with methods such as one-hot-encoding\n",
    "- B. **It should be rescaled, with for example standard scaling**\n",
    "- C. Quantitative data does not require specific preparation\n"
   ]
  },
  {
   "cell_type": "markdown",
   "metadata": {
    "slideshow": {
     "slide_type": "subslide"
    }
   },
   "source": [
    "### 9. Why does qualitative data have to be prepared?\n",
    "- A. To avoid any arbitrary order in the data, such as blue > red\n",
    "- B. To make sure all features are considered the same way by the model\n",
    "- C. To make sure all data is centered on zero, with a controlled variance (e.g. such as 1)\n",
    "- D. Qualitative data does not require specific preparation\n"
   ]
  },
  {
   "cell_type": "markdown",
   "metadata": {
    "slideshow": {
     "slide_type": "subslide"
    }
   },
   "source": [
    "### 9. Why does qualitative data have to be prepared?\n",
    "- A. **To avoid any arbitrary order in the data, such as blue > red**\n",
    "- B. **To make sure all features are considered the same way by the model**\n",
    "- C. To make sure all data is centered on zero, with a controlled variance (e.g. such as 1)\n",
    "- D. Qualitative data does not require specific preparation\n"
   ]
  },
  {
   "cell_type": "markdown",
   "metadata": {
    "slideshow": {
     "slide_type": "subslide"
    }
   },
   "source": [
    "### 10. What are examples of structured data?\n",
    "- A. A database of customers with information such as name, subscription plan, birthdate…\n",
    "- B. A Airbnb-like database of apartment descriptions, internal policies, host descriptions\n",
    "- C. A set of pictures of faces of persons with their associated age\n",
    "- D. A dataset of movies, with watched movies and rating information for each customer\n"
   ]
  },
  {
   "cell_type": "markdown",
   "metadata": {
    "slideshow": {
     "slide_type": "subslide"
    }
   },
   "source": [
    "### 10. What are examples of structured data?\n",
    "- A. **A database of customers with information such as name, subscription plan, birthdate…**\n",
    "- B. A Airbnb-like database of apartment descriptions, internal policies, host descriptions\n",
    "- C. A set of pictures of faces of persons with their associated age\n",
    "- D. **A dataset of movies, with watched movies and rating information for each customer**\n"
   ]
  },
  {
   "cell_type": "markdown",
   "metadata": {
    "slideshow": {
     "slide_type": "subslide"
    }
   },
   "source": [
    "### 11. How can one handle duplicated data?\n",
    "- A. Always remove both the original and the duplicated data to avoid any issue\n",
    "- B. Remove only the duplicated data in case of malfunction or unknown issue if possible\n",
    "- C. Keeping all data in case of expected duplicates\n",
    "- D. Perform machine learning to predict whether the duplicate is expected or not\n"
   ]
  },
  {
   "cell_type": "markdown",
   "metadata": {
    "slideshow": {
     "slide_type": "subslide"
    }
   },
   "source": [
    "### 11. How can one handle duplicated data?\n",
    "- A. Always remove both the original and the duplicated data to avoid any issue\n",
    "- B. **Remove only the duplicated data in case of malfunction or unknown issue if possible**\n",
    "- C. **Keeping all data in case of expected duplicates**\n",
    "- D. Perform machine learning to predict whether the duplicate is expected or not\n"
   ]
  },
  {
   "cell_type": "markdown",
   "metadata": {
    "slideshow": {
     "slide_type": "subslide"
    }
   },
   "source": [
    "### 12. A company wants to start a machine learning project. What is among the first things to do?\n",
    "- A. Train a simplistic model, evaluate performances, iterate\n",
    "- B. Define the problem and the expected performances on a given metric\n",
    "- C. Ask for available data the IT department, assess if they might be enough for expected performances\n",
    "- D. Try end to end deep learning\n",
    "- E. Collect massive amount of data\n",
    "- F. Buy massive computing power to launch powerful machine learning models\n"
   ]
  },
  {
   "cell_type": "markdown",
   "metadata": {
    "slideshow": {
     "slide_type": "subslide"
    }
   },
   "source": [
    "### 12. A company wants to start a machine learning project. What is among the first things to do?\n",
    "- A. Train a simplistic model, evaluate performances, iterate\n",
    "- B. **Define the problem and the expected performances on a given metric**\n",
    "- C. **Ask for available data the IT department, assess if they might be enough for expected performances**\n",
    "- D. Try end to end deep learning\n",
    "- E. Collect massive amount of data\n",
    "- F. Buy massive computing power to launch powerful machine learning models\n"
   ]
  },
  {
   "cell_type": "markdown",
   "metadata": {
    "slideshow": {
     "slide_type": "subslide"
    }
   },
   "source": [
    "### 13. What are examples of machine learning solutions?\n",
    "- A. Amazon product recommendation\n",
    "- B. AlphaGo Zero: the software that beats humans at Go\n",
    "- C. Temperature controller in your house/apartment\n"
   ]
  },
  {
   "cell_type": "markdown",
   "metadata": {
    "slideshow": {
     "slide_type": "subslide"
    }
   },
   "source": [
    "### 13. What are examples of machine learning solutions?\n",
    "- A. **Amazon product recommendation**\n",
    "- B. **AlphaGo Zero: the software that beats humans at Go**\n",
    "- C. Temperature controller in your house/apartment\n"
   ]
  },
  {
   "cell_type": "markdown",
   "metadata": {
    "slideshow": {
     "slide_type": "subslide"
    }
   },
   "source": [
    "### 14. Why is Machine Learning currently widely used, while most ideas are decades old?\n",
    "- A. Most concepts went unnoticed at the time they were first proposed\n",
    "- B. The computing power has exponentially increased in the past decades\n",
    "- C. Easy to use, highly efficient tools are now freely available\n",
    "- D. Patents were avoiding most industries to use such methods\n"
   ]
  },
  {
   "cell_type": "markdown",
   "metadata": {
    "slideshow": {
     "slide_type": "subslide"
    }
   },
   "source": [
    "### 14. Why is Machine Learning currently widely used, while most ideas are decades old?\n",
    "- A. Most concepts went unnoticed at the time they were first proposed\n",
    "- B. **The computing power has exponentially increased in the past decades**\n",
    "- C. **Easy to use, highly efficient tools are now freely available**\n",
    "- D. Patents were avoiding most industries to use such methods\n"
   ]
  },
  {
   "cell_type": "markdown",
   "metadata": {
    "slideshow": {
     "slide_type": "subslide"
    }
   },
   "source": [
    "### 15. What are the current limits of Machine Learning?\n",
    "- A. Generalization: it is mostly hard for a ML model to generalize on data it has never seen\n",
    "- B. Outperforming humans: ML models do not outperform humans in terms of performances, even if they are faster\n",
    "- C. Work on various tasks: ML models are good at specific tasks, but have a hard time work on various tasks\n"
   ]
  },
  {
   "cell_type": "markdown",
   "metadata": {
    "slideshow": {
     "slide_type": "subslide"
    }
   },
   "source": [
    "### 15. What are the current limits of Machine Learning?\n",
    "- A. **Generalization: it is mostly hard for a ML model to generalize on data it has never seen**\n",
    "- B. Outperforming humans: ML models do not outperform humans in terms of performances, even if they are faster\n",
    "- C. **Work on various tasks: ML models are good at specific tasks, but have a hard time work on various tasks**\n"
   ]
  },
  {
   "cell_type": "markdown",
   "metadata": {
    "slideshow": {
     "slide_type": "subslide"
    }
   },
   "source": [
    "### 16. Is any discrete data qualitative?\n",
    "- A. Yes\n",
    "- B. No\n"
   ]
  },
  {
   "cell_type": "markdown",
   "metadata": {
    "slideshow": {
     "slide_type": "subslide"
    }
   },
   "source": [
    "### 16. Is any discrete data qualitative?\n",
    "- A. Yes\n",
    "- B. **No**\n"
   ]
  },
  {
   "cell_type": "markdown",
   "metadata": {
    "slideshow": {
     "slide_type": "subslide"
    }
   },
   "source": [
    "### 17. Is any numerical data quantitative?\n",
    "- A. Yes\n",
    "- B. No\n"
   ]
  },
  {
   "cell_type": "markdown",
   "metadata": {
    "slideshow": {
     "slide_type": "subslide"
    }
   },
   "source": [
    "### 17. Is any numerical data quantitative?\n",
    "- A. Yes\n",
    "- B. **No**\n"
   ]
  },
  {
   "cell_type": "markdown",
   "metadata": {
    "slideshow": {
     "slide_type": "subslide"
    }
   },
   "source": [
    "### 18. In the gradient descent, assuming a loss L and a learning rate $\\alpha$, what is the update rule for the parameters $\\theta_i$?\n",
    "- A. $$\\theta_i = \\theta_i + \\alpha \\frac{\\partial}{\\partial\\theta_i}\\mathcal{L}$$\n",
    "- B. $$\\theta_i = \\theta_i - \\alpha \\frac{\\partial}{\\partial\\theta_i}\\mathcal{L}$$\n",
    "- C. $$\\theta_i = \\theta_i + \\frac{1}{\\alpha} \\frac{\\partial}{\\partial\\theta_i}\\mathcal{L}$$\n",
    "- D. $$\\theta_i = \\theta_i - \\frac{1}{\\alpha} \\frac{\\partial}{\\partial\\theta_i}\\mathcal{L}$$"
   ]
  },
  {
   "cell_type": "markdown",
   "metadata": {
    "slideshow": {
     "slide_type": "subslide"
    }
   },
   "source": [
    "### 18. In the gradient descent, assuming a loss L and a learning rate $\\alpha$, what is the update rule for the parameters $\\theta_i$?\n",
    "- A. $$\\theta_i = \\theta_i + \\alpha \\frac{\\partial}{\\partial\\theta_i}\\mathcal{L}$$\n",
    "- B. $$\\boldsymbol{ \\theta_i = \\theta_i - \\alpha \\frac{\\partial}{\\partial\\theta_i}\\mathcal{L} }$$\n",
    "- C. $$\\theta_i = \\theta_i + \\frac{1}{\\alpha} \\frac{\\partial}{\\partial\\theta_i}\\mathcal{L}$$\n",
    "- D. $$\\theta_i = \\theta_i - \\frac{1}{\\alpha} \\frac{\\partial}{\\partial\\theta_i}\\mathcal{L}$$"
   ]
  },
  {
   "cell_type": "markdown",
   "metadata": {
    "slideshow": {
     "slide_type": "subslide"
    }
   },
   "source": [
    "### 19. What is the formula of the Cross Entropy loss? Assuming (i) being a sample, m the number of samples, y the label, x the features, h(x) the prediction of the model.\n",
    "- A. $$-\\frac{1}{m} \\sum_{i=1}^m y^{(i)}\\,\\log(h_{\\theta}(x^{(i)}))\\,+\\,(1-y^{(i)})\\log (1 - h_{\\theta}(x^{(i)})) $$\n",
    "- B. $$-\\frac{1}{m} \\sum_{i=1}^m h_{\\theta}(x^{(i)})\\,\\log(y^{(i)})\\,+\\,(1-h_{\\theta}(x^{(i)}))\\log (1 - y^{(i)}) $$\n",
    "- C. $$\\frac{1}{m} \\sum_{i=1}^m y^{(i)}\\,\\log(h_{\\theta}(x^{(i)}))\\,+\\,(1-y^{(i)})\\log (1 - h_{\\theta}(x^{(i)})) $$\n",
    "- D. $$\\frac{1}{m} \\sum_{i=1}^m h_{\\theta}(x^{(i)})\\,\\log(y^{(i)})\\,+\\,(1-h_{\\theta}(x^{(i)}))\\log (1 - y^{(i)}) $$"
   ]
  },
  {
   "cell_type": "markdown",
   "metadata": {
    "slideshow": {
     "slide_type": "subslide"
    }
   },
   "source": [
    "### 19. What is the formula of the Cross Entropy loss? Assuming (i) being a sample, m the number of samples, y the label, x the features, h(x) the prediction of the model.\n",
    "- A. $$\\boldsymbol{ -\\frac{1}{m} \\sum_{i=1}^m y^{(i)}\\,\\log(h_{\\theta}(x^{(i)}))\\,+\\,(1-y^{(i)})\\log (1 - h_{\\theta}(x^{(i)})) }$$\n",
    "- B. $$-\\frac{1}{m} \\sum_{i=1}^m h_{\\theta}(x^{(i)})\\,\\log(y^{(i)})\\,+\\,(1-h_{\\theta}(x^{(i)}))\\log (1 - y^{(i)}) $$\n",
    "- C. $$\\frac{1}{m} \\sum_{i=1}^m y^{(i)}\\,\\log(h_{\\theta}(x^{(i)}))\\,+\\,(1-y^{(i)})\\log (1 - h_{\\theta}(x^{(i)})) $$\n",
    "- D. $$\\frac{1}{m} \\sum_{i=1}^m h_{\\theta}(x^{(i)})\\,\\log(y^{(i)})\\,+\\,(1-h_{\\theta}(x^{(i)}))\\log (1 - y^{(i)}) $$ "
   ]
  },
  {
   "cell_type": "markdown",
   "metadata": {
    "slideshow": {
     "slide_type": "subslide"
    }
   },
   "source": [
    "### 20. What is the raw output of a logistic regression?\n",
    "- A. A class, either 0 or 1, since the sigmoid function output ranges between 0 and 1\n",
    "- B. A class, either -1 or 1, since the sigmoid function output ranges between -1 and 1\n",
    "- C. A value between 0 and 1, that can be interpreted as the probability of the sample to be the class 1\n"
   ]
  },
  {
   "cell_type": "markdown",
   "metadata": {
    "slideshow": {
     "slide_type": "subslide"
    }
   },
   "source": [
    "### 20. What is the raw output of a logistic regression?\n",
    "- A. A class, either 0 or 1, since the sigmoid function output ranges between 0 and 1\n",
    "- B. A class, either -1 or 1, since the sigmoid function output ranges between -1 and 1\n",
    "- C. **A value between 0 and 1, that can be interpreted as the probability of the sample to be the class 1**\n"
   ]
  }
 ],
 "metadata": {
  "celltoolbar": "Slideshow",
  "kernelspec": {
   "display_name": "Python 3",
   "language": "python",
   "name": "python3"
  },
  "language_info": {
   "codemirror_mode": {
    "name": "ipython",
    "version": 3
   },
   "file_extension": ".py",
   "mimetype": "text/x-python",
   "name": "python",
   "nbconvert_exporter": "python",
   "pygments_lexer": "ipython3",
   "version": "3.7.4"
  }
 },
 "nbformat": 4,
 "nbformat_minor": 2
}
