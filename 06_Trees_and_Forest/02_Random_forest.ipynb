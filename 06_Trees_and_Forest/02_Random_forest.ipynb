{
 "cells": [
  {
   "cell_type": "markdown",
   "metadata": {
    "slideshow": {
     "slide_type": "slide"
    }
   },
   "source": [
    "# Random Forest"
   ]
  },
  {
   "cell_type": "markdown",
   "metadata": {
    "slideshow": {
     "slide_type": "subslide"
    }
   },
   "source": [
    "# I. Ensemble learning"
   ]
  },
  {
   "cell_type": "markdown",
   "metadata": {
    "slideshow": {
     "slide_type": "fragment"
    }
   },
   "source": [
    "Decisions trees, although really interesting models, are quite limited. \n",
    "\n",
    "Most of the time, they will be outperformed by logistic regression and SVM models.\n",
    "\n",
    "But decision trees can be used together to bring a better result.\n"
   ]
  },
  {
   "cell_type": "markdown",
   "metadata": {
    "slideshow": {
     "slide_type": "fragment"
    }
   },
   "source": [
    "Imagine assigning a set of complex tasks to a group of people: most of the times, the average (or consensus) result will outperform the results of any single person in the group. This is sometimes referred as collective intelligence."
   ]
  },
  {
   "cell_type": "markdown",
   "metadata": {
    "slideshow": {
     "slide_type": "subslide"
    }
   },
   "source": [
    "An intuitive way of seeing that is the following experiment:\n",
    "\n",
    "- Imagine a bot that randomly answers any question right 51 % of the time\n",
    "\n",
    "Pretty inefficient..."
   ]
  },
  {
   "cell_type": "markdown",
   "metadata": {
    "slideshow": {
     "slide_type": "fragment"
    }
   },
   "source": [
    "but if we ask that bot the same question:\n",
    "- 1000 times, you will have a majority of right answers about 75 % of the time\n",
    "- 10000 times, you will have a majority of right answers about 97 % of the time"
   ]
  },
  {
   "cell_type": "markdown",
   "metadata": {
    "slideshow": {
     "slide_type": "fragment"
    }
   },
   "source": [
    "> Thanks to the law of large numbers, having a large number of *not so accurate* models can create a powerful model\n",
    "\n",
    "But the models have to be as independant as possible to be true."
   ]
  },
  {
   "cell_type": "markdown",
   "metadata": {
    "slideshow": {
     "slide_type": "subslide"
    }
   },
   "source": [
    "This method can be applied to machine learning models: this is called **ensemble learning**.\n",
    "\n",
    "Still, some details have to be discussed:\n",
    "- How to use the vote of each individual (i.e. model) in our ensemble?\n",
    "- How to ensure the independance of each individual in our ensemble?\n"
   ]
  },
  {
   "cell_type": "markdown",
   "metadata": {
    "slideshow": {
     "slide_type": "subslide"
    }
   },
   "source": [
    "## I.1. Voting system"
   ]
  },
  {
   "cell_type": "markdown",
   "metadata": {
    "slideshow": {
     "slide_type": "fragment"
    }
   },
   "source": [
    "The first thing to define is the voting system in our ensemble.\n",
    "\n",
    "Imagine we have an ensemble of 3 binary classification models, predicting the following results:\n",
    "\n",
    "| | Predicted class | Probability |\n",
    "|:--:|:--:|:--:|\n",
    "| model 1 | 0 | 0.05 |\n",
    "| model 2 | 1 | 0.6 |\n",
    "| model 3 | 1 | 0.55 |\n",
    "\n",
    "Where:\n",
    "- the probability is the result of `.predict_proba()`\n",
    "- the predicted class is `1` if the probability > 0.5, `0` otherwise"
   ]
  },
  {
   "cell_type": "markdown",
   "metadata": {
    "slideshow": {
     "slide_type": "fragment"
    }
   },
   "source": [
    "There could be many ways to define such a system, but we will talk about two:\n",
    "- majoritary vote \n",
    "- soft vote"
   ]
  },
  {
   "cell_type": "markdown",
   "metadata": {
    "slideshow": {
     "slide_type": "subslide"
    }
   },
   "source": [
    "### Majoritary vote"
   ]
  },
  {
   "cell_type": "markdown",
   "metadata": {
    "slideshow": {
     "slide_type": "fragment"
    }
   },
   "source": [
    "This is the majority vote: the class that has the majority of votes is the final prediction.\n",
    "\n",
    "In our exemple, two models out of three predict class 1, then our ensemble will predict class 1."
   ]
  },
  {
   "cell_type": "markdown",
   "metadata": {
    "slideshow": {
     "slide_type": "subslide"
    }
   },
   "source": [
    "### Soft vote"
   ]
  },
  {
   "cell_type": "markdown",
   "metadata": {
    "slideshow": {
     "slide_type": "fragment"
    }
   },
   "source": [
    "Soft vote takes into account the weights of each individual: instead of taking the majority vote, it averages the probabilities, and makes a prediction based on it.\n",
    "\n",
    "In our example, the average probability would be:\n",
    "\n",
    "$$\n",
    "\\text{average proba} = \\frac{0.05 + 0.6 + 0.55}{3} = 0.4\n",
    "$$"
   ]
  },
  {
   "cell_type": "markdown",
   "metadata": {
    "slideshow": {
     "slide_type": "fragment"
    }
   },
   "source": [
    "Then we would apply the same threshold as for any prediction:\n",
    "- if average probability > 0.5: predict class 1\n",
    "- otherwise predict class 0\n",
    "\n",
    "Thus in our case it would predict class 0 with this vote."
   ]
  },
  {
   "cell_type": "markdown",
   "metadata": {
    "slideshow": {
     "slide_type": "subslide"
    }
   },
   "source": [
    "> Soft vote outperforms majoritary vote most of the time, because it takes into account the confidence of the model prediction"
   ]
  },
  {
   "cell_type": "markdown",
   "metadata": {
    "slideshow": {
     "slide_type": "subslide"
    }
   },
   "source": [
    "# I.2. Bagging"
   ]
  },
  {
   "cell_type": "markdown",
   "metadata": {
    "slideshow": {
     "slide_type": "fragment"
    }
   },
   "source": [
    "Bagging is contraction of **bootstrap** and **aggregating**.\n",
    "\n",
    "This is a way of having independant individuals in our ensemble: it allows to have independant models and thus a more powerful ensemble model."
   ]
  },
  {
   "cell_type": "markdown",
   "metadata": {
    "slideshow": {
     "slide_type": "subslide"
    }
   },
   "source": [
    "Bootstrap is just random sampling with replacement.\n",
    "\n",
    "Is other words, we will just randomly select samples in our dataset, *with replacement*. \n",
    "\n",
    "With replacement meaning we may draw several times the same sample from the original dataset.\n",
    "\n",
    "So for example, from an original dataset, we may end up with three, slightly different, subsamples:"
   ]
  },
  {
   "cell_type": "markdown",
   "metadata": {
    "slideshow": {
     "slide_type": "subslide"
    }
   },
   "source": [
    "<center>\n",
    "    <img src=\"images/bootstrap.png\" width=800>\n",
    "</center>"
   ]
  },
  {
   "cell_type": "markdown",
   "metadata": {
    "slideshow": {
     "slide_type": "subslide"
    }
   },
   "source": [
    "For an ensemble method, on each of those subsamples, we will train a model.\n",
    "\n",
    "The results of those models will then be aggregated (throught majoritary or soft vote)."
   ]
  },
  {
   "cell_type": "markdown",
   "metadata": {
    "slideshow": {
     "slide_type": "fragment"
    }
   },
   "source": [
    "<center>\n",
    "    <img src=\"images/bagging.png\" width=800>\n",
    "</center>"
   ]
  },
  {
   "cell_type": "markdown",
   "metadata": {
    "slideshow": {
     "slide_type": "slide"
    }
   },
   "source": [
    "# II. Random Forests"
   ]
  },
  {
   "cell_type": "markdown",
   "metadata": {
    "slideshow": {
     "slide_type": "fragment"
    }
   },
   "source": [
    "A random forest is just a bagging of decision trees.\n",
    "\n",
    "Although this might sounds simple, this is one of the most powerful machine learning models at the moment."
   ]
  },
  {
   "cell_type": "markdown",
   "metadata": {
    "slideshow": {
     "slide_type": "subslide"
    }
   },
   "source": [
    "The implementation in scikit-learn, for a classification random forest, is the following:\n",
    "```python\n",
    "class sklearn.ensemble.RandomForestClassifier(n_estimators=100, *, criterion='gini', max_depth=None, min_samples_split=2, min_samples_leaf=1, min_weight_fraction_leaf=0.0, max_features='auto', max_leaf_nodes=None, min_impurity_decrease=0.0, min_impurity_split=None, bootstrap=True, oob_score=False, n_jobs=None, random_state=None, verbose=0, warm_start=False, class_weight=None, ccp_alpha=0.0, max_samples=None)\n",
    "```"
   ]
  },
  {
   "cell_type": "markdown",
   "metadata": {
    "slideshow": {
     "slide_type": "fragment"
    }
   },
   "source": [
    "You can easily understand most of the hyperparameters:\n",
    "- `n_estimators` is the number of decision trees to grow\n",
    "- `criterion` is either `gini` or `entropy`\n",
    "- `max_depth` is the maximum depth of the trees\n",
    "\n",
    "And there are some new ones that you might guess:\n",
    "- `bootstrap`\n",
    "- `max_samples`\n",
    "- `max_features`"
   ]
  },
  {
   "cell_type": "markdown",
   "metadata": {
    "slideshow": {
     "slide_type": "subslide"
    }
   },
   "source": [
    "## II.1. Bootstrapping of samples, boostrapping of features"
   ]
  },
  {
   "cell_type": "markdown",
   "metadata": {
    "slideshow": {
     "slide_type": "fragment"
    }
   },
   "source": [
    "Up to now, we only spoke about **samples bootstrapping**: we performed random sampling (with replacement) on the samples.\n",
    "\n",
    "This way, we ended up with **subsamples**."
   ]
  },
  {
   "cell_type": "markdown",
   "metadata": {
    "slideshow": {
     "slide_type": "fragment"
    }
   },
   "source": [
    "This is exactly what allows the hyperparameters `bootstrap` and `max_samples`. By default, the values are:\n",
    "- `bootstrap=True` meaning there is bootstrapping on the samples\n",
    "- `max_samples=None` meaning our subsamples will have as much samples as the original dataset"
   ]
  },
  {
   "cell_type": "markdown",
   "metadata": {
    "slideshow": {
     "slide_type": "subslide"
    }
   },
   "source": [
    "But one can also perform **features bootstrapping**: we only select, with replacement, a subset of features for each tree.\n",
    "\n",
    "We then speak about **subspaces** of the original data."
   ]
  },
  {
   "cell_type": "markdown",
   "metadata": {
    "slideshow": {
     "slide_type": "fragment"
    }
   },
   "source": [
    "Scikit-learn allows to do such thing, thanks to the hyperparameter `max_features`:\n",
    "- if `max_features='auto'`: each subspace will have `sqrt(n_features)`\n",
    "- if `max_features=3` for example: each subspace will have 3 features\n",
    "\n",
    "The default value is `'auto'`"
   ]
  },
  {
   "cell_type": "markdown",
   "metadata": {
    "slideshow": {
     "slide_type": "subslide"
    }
   },
   "source": [
    "## II.2. Out of bag evaluation"
   ]
  },
  {
   "cell_type": "markdown",
   "metadata": {
    "slideshow": {
     "slide_type": "fragment"
    }
   },
   "source": [
    "Thanks to samples bootstrapping, any tree is trained on a subsample only of the training dataset.\n",
    "\n",
    "Then samples that are left out are called **out of bag** samples."
   ]
  },
  {
   "cell_type": "markdown",
   "metadata": {
    "slideshow": {
     "slide_type": "fragment"
    }
   },
   "source": [
    "Since the decision tree never saw them during training, one can evaluate the tree on those samples: this is called **out of bag evaluation**.\n",
    "\n",
    "This is implemented in scikit-learn, and can be activated with the hyperparameter `oob_score=True`. Then the score can be retrieved with the attribute `.oob_score_`."
   ]
  },
  {
   "cell_type": "markdown",
   "metadata": {
    "slideshow": {
     "slide_type": "subslide"
    }
   },
   "source": [
    "## II.3. More randomness"
   ]
  },
  {
   "cell_type": "markdown",
   "metadata": {
    "slideshow": {
     "slide_type": "fragment"
    }
   },
   "source": [
    "In order to ensure that all the trees in a random forest are as much independant as possible, one more randomness is added.\n",
    "\n",
    "Instead of choosing the best feature to split a node (as in a classical decision tree), the algorithm will choose the best feature to split **among a random set of available features**.\n"
   ]
  },
  {
   "cell_type": "markdown",
   "metadata": {
    "slideshow": {
     "slide_type": "fragment"
    }
   },
   "source": [
    "Because of that, some trees might not find the optimal split. \n",
    "\n",
    "But thanks to that, the trees are more independant, then the forest might be more robust, and less likely to overfit."
   ]
  },
  {
   "cell_type": "markdown",
   "metadata": {
    "slideshow": {
     "slide_type": "subslide"
    }
   },
   "source": [
    "To summarize, there are 3 levels of randomness in a random forest:\n",
    "- In the bagging of the samples\n",
    "- In the bagging ot the features\n",
    "- In the feature selection in the split of a node"
   ]
  },
  {
   "cell_type": "markdown",
   "metadata": {
    "slideshow": {
     "slide_type": "slide"
    }
   },
   "source": [
    "## III. Implementation example"
   ]
  },
  {
   "cell_type": "markdown",
   "metadata": {
    "slideshow": {
     "slide_type": "fragment"
    }
   },
   "source": [
    "Let's have an example of use on a toy dataset."
   ]
  },
  {
   "cell_type": "code",
   "execution_count": 1,
   "metadata": {
    "slideshow": {
     "slide_type": "fragment"
    }
   },
   "outputs": [],
   "source": [
    "from sklearn.datasets import load_iris\n",
    "from sklearn.model_selection import train_test_split\n",
    "\n",
    "X, y = load_iris(return_X_y=True)\n",
    "\n",
    "X_train, X_test, y_train, y_test = train_test_split(X, y, test_size=0.2, random_state=0)"
   ]
  },
  {
   "cell_type": "markdown",
   "metadata": {
    "slideshow": {
     "slide_type": "subslide"
    }
   },
   "source": [
    "As usual, we just have to:\n",
    "- instantiate the model\n",
    "- train the model on the train dataset\n",
    "- evaluate the model on the test dataset"
   ]
  },
  {
   "cell_type": "code",
   "execution_count": 2,
   "metadata": {
    "ExecuteTime": {
     "end_time": "2019-10-21T09:21:57.971454Z",
     "start_time": "2019-10-21T09:21:57.928358Z"
    },
    "slideshow": {
     "slide_type": "fragment"
    }
   },
   "outputs": [
    {
     "name": "stdout",
     "output_type": "stream",
     "text": [
      "accuracy: 0.9666666666666667\n"
     ]
    }
   ],
   "source": [
    "from sklearn.ensemble import RandomForestClassifier\n",
    "\n",
    "rf = RandomForestClassifier(n_estimators=10)\n",
    "rf.fit(X_train, y_train)\n",
    "print('accuracy:', rf.score(X_test, y_test))"
   ]
  },
  {
   "cell_type": "markdown",
   "metadata": {
    "slideshow": {
     "slide_type": "subslide"
    }
   },
   "source": [
    "### Interpretability"
   ]
  },
  {
   "cell_type": "markdown",
   "metadata": {
    "slideshow": {
     "slide_type": "fragment"
    }
   },
   "source": [
    "Finally, we can have a look at the **importance of our features** for interpretation."
   ]
  },
  {
   "cell_type": "code",
   "execution_count": 3,
   "metadata": {
    "ExecuteTime": {
     "end_time": "2019-10-21T09:22:04.571465Z",
     "start_time": "2019-10-21T09:22:04.564070Z"
    },
    "scrolled": true,
    "slideshow": {
     "slide_type": "fragment"
    }
   },
   "outputs": [
    {
     "data": {
      "text/plain": [
       "Text(0.5, 1.0, 'Features importance')"
      ]
     },
     "execution_count": 3,
     "metadata": {},
     "output_type": "execute_result"
    },
    {
     "data": {
      "image/png": "[encoded data removed]",
      "text/plain": [
       "<Figure size 432x288 with 1 Axes>"
      ]
     },
     "metadata": {
      "needs_background": "light"
     },
     "output_type": "display_data"
    }
   ],
   "source": [
    "import matplotlib.pyplot as plt\n",
    "plt.bar(load_iris().feature_names, rf.feature_importances_)\n",
    "plt.xticks(rotation='vertical')\n",
    "plt.title('Features importance')"
   ]
  }
 ],
 "metadata": {
  "celltoolbar": "Slideshow",
  "kernelspec": {
   "display_name": "Python 3",
   "language": "python",
   "name": "python3"
  },
  "language_info": {
   "codemirror_mode": {
    "name": "ipython",
    "version": 3
   },
   "file_extension": ".py",
   "mimetype": "text/x-python",
   "name": "python",
   "nbconvert_exporter": "python",
   "pygments_lexer": "ipython3",
   "version": "3.7.4"
  }
 },
 "nbformat": 4,
 "nbformat_minor": 2
}
