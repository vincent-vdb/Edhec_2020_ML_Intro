{
 "cells": [
  {
   "cell_type": "markdown",
   "metadata": {},
   "source": [
    "- Trees basics: node, leaf\n",
    "- Entropy and gini\n",
    "- Classification with trees\n",
    "- Limits of trees"
   ]
  },
  {
   "cell_type": "markdown",
   "metadata": {},
   "source": [
    "Missing:\n",
    "\n",
    "- Decision tree implementation for classification, with decision function and display of the tree\n",
    "- decision tree for regression with short example of implementation\n",
    "- Regularization for a tree\n"
   ]
  },
  {
   "cell_type": "markdown",
   "metadata": {
    "slideshow": {
     "slide_type": "-"
    }
   },
   "source": [
    "# Decision Trees"
   ]
  },
  {
   "cell_type": "markdown",
   "metadata": {
    "slideshow": {
     "slide_type": "-"
    }
   },
   "source": [
    "---"
   ]
  },
  {
   "cell_type": "markdown",
   "metadata": {
    "slideshow": {
     "slide_type": "-"
    }
   },
   "source": [
    "---"
   ]
  },
  {
   "cell_type": "markdown",
   "metadata": {
    "slideshow": {
     "slide_type": "slide"
    }
   },
   "source": [
    "Today we will explore a new **classification** machine learning algorithm (supervised for categorical data) called **Decision Trees**. 🌳\n",
    "\n",
    "It is:\n",
    "- one of the oldest ML algorithm\n",
    "- extremely robust\n",
    "- quite intuitive\n",
    "\n",
    "We will also discover an extension of the Decision Trees: the **Random Forests** 🌳🌳🌳\n",
    "\n",
    "Let's dig in!"
   ]
  },
  {
   "cell_type": "markdown",
   "metadata": {
    "slideshow": {
     "slide_type": "-"
    }
   },
   "source": [
    "---"
   ]
  },
  {
   "cell_type": "markdown",
   "metadata": {
    "slideshow": {
     "slide_type": "slide"
    }
   },
   "source": [
    "# I. Trees Intuition"
   ]
  },
  {
   "cell_type": "markdown",
   "metadata": {
    "slideshow": {
     "slide_type": "fragment"
    }
   },
   "source": [
    "## I.1. Trees and linearly separable data"
   ]
  },
  {
   "cell_type": "markdown",
   "metadata": {
    "slideshow": {
     "slide_type": "fragment"
    }
   },
   "source": [
    "Trees can be efficient on non linearly separable data.\n",
    "\n",
    "Let's have a toy example: what would be the conditions to sell a lot of ice creams on the beach?\n",
    "\n",
    "- Warm temperature\n",
    "- Sunny weather"
   ]
  },
  {
   "cell_type": "markdown",
   "metadata": {
    "slideshow": {
     "slide_type": "subslide"
    }
   },
   "source": [
    "We can draw this dataset on a simple scatter plot:\n",
    "\n",
    "![](images/ice_cream_data.png)"
   ]
  },
  {
   "cell_type": "markdown",
   "metadata": {
    "slideshow": {
     "slide_type": "fragment"
    }
   },
   "source": [
    "Would you say this data is linearly separable? And why?"
   ]
  },
  {
   "cell_type": "markdown",
   "metadata": {
    "slideshow": {
     "slide_type": "subslide"
    }
   },
   "source": [
    "Though not linearly separable, this data can be well classified with a sequence of two questions:\n",
    "- is the temperature warm?\n",
    "- is the weather sunny?"
   ]
  },
  {
   "cell_type": "markdown",
   "metadata": {
    "slideshow": {
     "slide_type": "fragment"
    }
   },
   "source": [
    "Another way to represent it is the following:\n",
    "\n",
    "![](images/ice_cream_tree.png)"
   ]
  },
  {
   "cell_type": "markdown",
   "metadata": {
    "slideshow": {
     "slide_type": "subslide"
    }
   },
   "source": [
    "## I.2. Vocabulary"
   ]
  },
  {
   "cell_type": "markdown",
   "metadata": {},
   "source": [
    "On this tree, we can see three different objects:\n",
    "- the **root node** is the first node, here `warm?`\n",
    "- a **decision node** is just any node with two (or sometimes more) branches\n",
    "- a **leaf** is does not contain any split, it contains a final prediction"
   ]
  },
  {
   "cell_type": "markdown",
   "metadata": {
    "slideshow": {
     "slide_type": "subslide"
    }
   },
   "source": [
    "## I.3. An example of more complex tree"
   ]
  },
  {
   "cell_type": "markdown",
   "metadata": {
    "slideshow": {
     "slide_type": "fragment"
    }
   },
   "source": [
    "<img src=\"https://drive.google.com/uc?export=view&id=1am_borVWERNA0BvOgsIy2HPqwJexAdD7\">"
   ]
  },
  {
   "cell_type": "markdown",
   "metadata": {
    "slideshow": {
     "slide_type": "-"
    }
   },
   "source": [
    "---"
   ]
  },
  {
   "cell_type": "markdown",
   "metadata": {
    "slideshow": {
     "slide_type": "slide"
    }
   },
   "source": [
    "# II. Decision trees for classification"
   ]
  },
  {
   "cell_type": "markdown",
   "metadata": {
    "slideshow": {
     "slide_type": "subslide"
    }
   },
   "source": [
    "## II.1. Greedy algorithm"
   ]
  },
  {
   "cell_type": "markdown",
   "metadata": {
    "slideshow": {
     "slide_type": "fragment"
    }
   },
   "source": [
    "Our tree is based on a so called **greedy algorithm**: meaning it only tries to optimize one step at a time.\n",
    "\n",
    "In our case, it means our tree is not optimized globally, but one node at a time.\n",
    "\n",
    "This can be seen as a recursive algorithm:\n",
    "1. take all samples in a node\n",
    "2. find a threshold in a feature that minimizes the disorder\n",
    "3. split this into two new nodes\n",
    "4. go back to 1. until your node is pure, thus becoming a leaf"
   ]
  },
  {
   "cell_type": "markdown",
   "metadata": {
    "slideshow": {
     "slide_type": "fragment"
    }
   },
   "source": [
    "The only question here is: how do we measure disorder?"
   ]
  },
  {
   "cell_type": "markdown",
   "metadata": {
    "slideshow": {
     "slide_type": "subslide"
    }
   },
   "source": [
    "## II.2. Disorder measurement"
   ]
  },
  {
   "cell_type": "markdown",
   "metadata": {
    "slideshow": {
     "slide_type": "fragment"
    }
   },
   "source": [
    "There are several ways to measure disorder. We will here cover two of them, the most used in decision trees:\n",
    "- Entropy\n",
    "- Gini impurity"
   ]
  },
  {
   "cell_type": "markdown",
   "metadata": {
    "slideshow": {
     "slide_type": "subslide"
    }
   },
   "source": [
    "### Entropy"
   ]
  },
  {
   "cell_type": "markdown",
   "metadata": {
    "slideshow": {
     "slide_type": "fragment"
    }
   },
   "source": [
    "One of the most common ways of measuring disorder is using **entropy**.\n",
    "\n",
    "Entropy is a generic word, used in various fields like physics (thermodynamics) or computer science.\n",
    "\n",
    "It always refers to a sort of disorder, and can be expressed as follow:\n",
    "$$\n",
    "E = -\\sum p_i log_2 p_i\n",
    "$$\n",
    "\n",
    "Where $p_i$ is defined as the proportion of element $i$ in a subset."
   ]
  },
  {
   "cell_type": "markdown",
   "metadata": {
    "slideshow": {
     "slide_type": "subslide"
    }
   },
   "source": [
    "Let's consider the following example:\n",
    "\n",
    "![](images/root_node.png)"
   ]
  },
  {
   "cell_type": "markdown",
   "metadata": {
    "slideshow": {
     "slide_type": "fragment"
    }
   },
   "source": [
    "The entropy would be:\n",
    "$$\n",
    "E = - \\frac{3}{10} log_2 \\frac{3}{10} - \\frac{7}{10} log_2 \\frac{7}{10} \\simeq 0.88\n",
    "$$\n",
    "\n",
    "Because we have:\n",
    "- $p_{blue} = \\frac{3}{10}$, since we have 3 blue balls out of 10\n",
    "- $p_{red} = \\frac{7}{10}$, since we have 7 blue balls out of 10"
   ]
  },
  {
   "cell_type": "markdown",
   "metadata": {
    "slideshow": {
     "slide_type": "subslide"
    }
   },
   "source": [
    "This entropy has several interesting properties for disorder measurement:\n",
    "- if $p_{blue} = 0$, then $p_{red} = 1$ and $ E = 0 $\n",
    "- if $p_{blue} = p_{red} = 0.5$, then $ E = 1$\n",
    "\n",
    "![](images/Entropy.png)"
   ]
  },
  {
   "cell_type": "markdown",
   "metadata": {
    "slideshow": {
     "slide_type": "subslide"
    }
   },
   "source": [
    "### Gini impurity"
   ]
  },
  {
   "cell_type": "markdown",
   "metadata": {
    "slideshow": {
     "slide_type": "fragment"
    }
   },
   "source": [
    "Gini impurity is also a disorder measurement. The formula is the following:\n",
    "$$\n",
    "G(f)=\\sum f_{i}(1-f_{i})=\\sum (f_{i}-{f_{i}}^{2})=\\sum f_{i}-\\sum {f_{i}}^{2}=1-\\sum {f_{i}}^{{2}}\n",
    "$$\n",
    "\n",
    "Where this time the proportion of element $i$ is defined by $f_i$."
   ]
  },
  {
   "cell_type": "markdown",
   "metadata": {
    "slideshow": {
     "slide_type": "subslide"
    }
   },
   "source": [
    "On our same example:\n",
    "\n",
    "![](images/root_node.png)"
   ]
  },
  {
   "cell_type": "markdown",
   "metadata": {
    "slideshow": {
     "slide_type": "fragment"
    }
   },
   "source": [
    "The gini impurity would be:\n",
    "$$\n",
    "G = 1 - \\left(\\frac{3}{10}\\right)^2 - \\left(\\frac{7}{10}\\right)^2 = 0.42\n",
    "$$"
   ]
  },
  {
   "cell_type": "code",
   "execution_count": null,
   "metadata": {},
   "outputs": [],
   "source": [
    "1-0.5*0.5-0.5*0.5"
   ]
  },
  {
   "cell_type": "markdown",
   "metadata": {
    "slideshow": {
     "slide_type": "fragment"
    }
   },
   "source": [
    "Once again we have our extreme cases:\n",
    "- if $f_{blue} = 0$, then $f_{red} = 1$ and $ E = 0 $\n",
    "- if $f_{blue} = f_{red} = 0.5$, then $ E = 0.5$"
   ]
  },
  {
   "cell_type": "markdown",
   "metadata": {
    "slideshow": {
     "slide_type": "subslide"
    }
   },
   "source": [
    "## II.3. Loss function"
   ]
  },
  {
   "cell_type": "markdown",
   "metadata": {
    "slideshow": {
     "slide_type": "fragment"
    }
   },
   "source": [
    "Finally, in order to split a node optimally, we need to compute the a loss to minimize is the measure of the **disorder decrease** thanks to our split.\n",
    "\n",
    "To compute this loss, we consider the two children nodes, that we will call *left* and *right*.\n",
    "\n",
    "The formula is the following:\n",
    "$$\n",
    "\\mathcal{L} = \\frac{m_{left}}{m} G_{left} + \\frac{m_{right}}{m}G_{right}\n",
    "$$\n",
    "\n",
    "Where:\n",
    "- $m$, $m_{left}$ and $m_{right}$ are the number of samples in each nodes respectively\n",
    "- $G_{left}$ and $G_{right}$ are the *Gini impurities* of *left* and *right* nodes"
   ]
  },
  {
   "cell_type": "markdown",
   "metadata": {
    "slideshow": {
     "slide_type": "fragment"
    }
   },
   "source": [
    "> Of course, one can use entropy instead of gini impurity"
   ]
  },
  {
   "cell_type": "markdown",
   "metadata": {
    "slideshow": {
     "slide_type": "subslide"
    }
   },
   "source": [
    "Imagine we choose a split decision, we then have a **parent node** and **two children nodes**:\n",
    "![](images/split_nodes.png)"
   ]
  },
  {
   "cell_type": "markdown",
   "metadata": {
    "slideshow": {
     "slide_type": "subslide"
    }
   },
   "source": [
    "Thus here the loss $\\mathcal{L}$ would be:\n",
    "$$\n",
    "\\mathcal{L} = \\frac{3}{10}0.44 + \\frac{7}{10} 0.41 = 0.42\n",
    "$$"
   ]
  },
  {
   "cell_type": "markdown",
   "metadata": {
    "slideshow": {
     "slide_type": "fragment"
    }
   },
   "source": [
    "The algorithm will find the split that minimizes this entropy to create the new nodes.\n",
    "\n",
    "Then, until we reach a limit (pure leaves or any given constraint), it will recursively keep splitting the data:\n",
    "- When the leaf is pure, then the prediction is the only class remaining in the leaf\n",
    "- When the leaf is not pure, then the prediction is the most represented class in the leaf"
   ]
  },
  {
   "cell_type": "markdown",
   "metadata": {},
   "source": [
    "## II.4. Regularization of trees"
   ]
  },
  {
   "cell_type": "markdown",
   "metadata": {
    "slideshow": {
     "slide_type": "fragment"
    }
   },
   "source": [
    "Decision trees are available in scikit-learn, with the following signature:\n",
    "```python\n",
    "\n",
    "class sklearn.tree.DecisionTreeClassifier(*, criterion='gini', splitter='best', max_depth=None, min_samples_split=2, min_samples_leaf=1, min_weight_fraction_leaf=0.0, max_features=None, random_state=None, max_leaf_nodes=None, min_impurity_decrease=0.0, min_impurity_split=None, class_weight=None, presort='deprecated', ccp_alpha=0.0)\n",
    "\n",
    "```"
   ]
  },
  {
   "cell_type": "markdown",
   "metadata": {
    "slideshow": {
     "slide_type": "subslide"
    }
   },
   "source": [
    "Let's have a look at some of the parameters:\n",
    "\n",
    "- **criterion**: The disorder measurement:`gini` or `entropy` \n",
    "\n",
    "- **max_depth**: The maximum depth of the tree: **smaller value leads to greater regularization**\n",
    "\n",
    "- **min_samples_split**: The minimum number of samples required to split a node\n",
    "\n",
    "- **min_samples_leaf**: The minimum number of samples required to be at a leaf node    \n",
    "\n",
    "- **min_impurity_decrease**: A node will be split if this induces a decrease of the impurity\n",
    "    greater than or equal to this value."
   ]
  },
  {
   "cell_type": "markdown",
   "metadata": {
    "slideshow": {
     "slide_type": "subslide"
    }
   },
   "source": [
    "## II.5. Implementation"
   ]
  },
  {
   "cell_type": "markdown",
   "metadata": {
    "slideshow": {
     "slide_type": "fragment"
    }
   },
   "source": [
    "Let's apply a decision tree to the classic Iris dataset:"
   ]
  },
  {
   "cell_type": "code",
   "execution_count": 5,
   "metadata": {
    "ExecuteTime": {
     "end_time": "2019-10-21T09:20:33.180039Z",
     "start_time": "2019-10-21T09:20:33.112411Z"
    },
    "slideshow": {
     "slide_type": "fragment"
    }
   },
   "outputs": [],
   "source": [
    "from sklearn.datasets import load_iris\n",
    "from sklearn.model_selection import train_test_split\n",
    "# Load the dataset\n",
    "X, y = load_iris(return_X_y=True)\n",
    "X_small = X[:,:2] # Keep only 2 features for visualization\n",
    "# Split the dataset\n",
    "X_train, X_test, y_train, y_test = train_test_split(X_small, y, random_state=0)"
   ]
  },
  {
   "cell_type": "code",
   "execution_count": 6,
   "metadata": {
    "ExecuteTime": {
     "end_time": "2019-07-18T13:27:29.298238Z",
     "start_time": "2019-07-18T13:27:29.182069Z"
    },
    "slideshow": {
     "slide_type": "subslide"
    }
   },
   "outputs": [
    {
     "data": {
      "image/png": "[encoded data removed]",
      "text/plain": [
       "<Figure size 432x288 with 1 Axes>"
      ]
     },
     "metadata": {
      "needs_background": "light"
     },
     "output_type": "display_data"
    }
   ],
   "source": [
    "import matplotlib\n",
    "from matplotlib import pyplot as plt\n",
    "\n",
    "# Plot the training points\n",
    "plt.scatter(X_small[:, 0], X_small[:, 1], c=y)\n",
    "plt.xlabel('Sepal length')\n",
    "plt.ylabel('Sepal width')\n",
    "plt.show()"
   ]
  },
  {
   "cell_type": "markdown",
   "metadata": {
    "slideshow": {
     "slide_type": "subslide"
    }
   },
   "source": [
    "The process remains the same:\n",
    "- Import the library from scikit-learn\n",
    "- Instantiate the model with the proper hyperparameters\n",
    "- Fit the model on the training set\n",
    "- Predict on the test set and evaluate"
   ]
  },
  {
   "cell_type": "code",
   "execution_count": 8,
   "metadata": {
    "ExecuteTime": {
     "end_time": "2019-10-21T09:20:37.687187Z",
     "start_time": "2019-10-21T09:20:37.683586Z"
    },
    "slideshow": {
     "slide_type": "fragment"
    }
   },
   "outputs": [
    {
     "name": "stdout",
     "output_type": "stream",
     "text": [
      "accuracy: 0.631578947368421\n"
     ]
    }
   ],
   "source": [
    "from sklearn.tree import DecisionTreeClassifier\n",
    "# Instantiate the model\n",
    "dt = DecisionTreeClassifier()\n",
    "# Fit the model\n",
    "dt.fit(X_train, y_train)\n",
    "# Predict on new data\n",
    "y_pred = dt.predict(X_test)\n",
    "# Compute the accuracy\n",
    "print('accuracy:', dt.score(X_test, y_test))"
   ]
  },
  {
   "cell_type": "markdown",
   "metadata": {
    "slideshow": {
     "slide_type": "subslide"
    }
   },
   "source": [
    "### The decision boundaries"
   ]
  },
  {
   "cell_type": "markdown",
   "metadata": {
    "slideshow": {
     "slide_type": "fragment"
    }
   },
   "source": [
    "We can also plot the decision boundaries of our tree with the following code:\n",
    "\n",
    "> N.B.: you don't have to understand or be able to recode this by yourself"
   ]
  },
  {
   "cell_type": "code",
   "execution_count": 11,
   "metadata": {
    "ExecuteTime": {
     "end_time": "2019-07-18T13:27:36.663849Z",
     "start_time": "2019-07-18T13:27:36.480478Z"
    },
    "scrolled": false,
    "slideshow": {
     "slide_type": "subslide"
    }
   },
   "outputs": [],
   "source": [
    "import numpy as np\n",
    "from matplotlib import pyplot as plt\n",
    "\n",
    "def plot_decision_boundaries(dt):\n",
    "    # Create figure to draw chart\n",
    "    plt.figure(2, figsize=(10, 8))\n",
    "\n",
    "    # We create a grid of points contained within [x_min, x_max]x[y_min, y_max] with step h=0.02\n",
    "    x_min, x_max = X[:, 0].min() - .5, X[:, 0].max() + .5\n",
    "    y_min, y_max = X[:, 1].min() - .5, X[:, 1].max() + .5\n",
    "    h = .02  # step size of the grid\n",
    "    xx, yy = np.meshgrid(np.arange(x_min, x_max, h), np.arange(y_min, y_max, h))\n",
    "\n",
    "    # Retrieve predictions for each point of the grid\n",
    "    Z_dt = dt.predict(np.c_[xx.ravel(), yy.ravel()])\n",
    "    Z_dt = Z_dt.reshape(xx.shape)\n",
    "\n",
    "    # Plot the decision boundary (label predicted assigned to a color)\n",
    "    plt.pcolormesh(xx, yy, Z_dt, cmap=plt.cm.Paired)\n",
    "\n",
    "    # Plot also the training points\n",
    "    plt.scatter(X_train[:, 0], X_train[:, 1], c=y_train, edgecolors='k', cmap=plt.cm.Paired)\n",
    "\n",
    "    # Format chart\n",
    "    plt.xlabel('Sepal length')\n",
    "    plt.ylabel('Sepal width')\n",
    "    plt.xticks(())\n",
    "    plt.yticks(())\n",
    "    plt.show()"
   ]
  },
  {
   "cell_type": "code",
   "execution_count": 12,
   "metadata": {
    "slideshow": {
     "slide_type": "subslide"
    }
   },
   "outputs": [
    {
     "data": {
      "image/png": "[encoded data removed]",
      "text/plain": [
       "<Figure size 720x576 with 1 Axes>"
      ]
     },
     "metadata": {},
     "output_type": "display_data"
    }
   ],
   "source": [
    "plot_decision_boundaries(dt)"
   ]
  },
  {
   "cell_type": "markdown",
   "metadata": {
    "slideshow": {
     "slide_type": "subslide"
    }
   },
   "source": [
    "One can see that our tree seems to overfit: the regions do not seem to be able the generalize well. \n",
    "\n",
    "Let's try to add regularization with the `max_depth` hyperparameter and display the new decision boundaries."
   ]
  },
  {
   "cell_type": "code",
   "execution_count": 16,
   "metadata": {
    "slideshow": {
     "slide_type": "fragment"
    }
   },
   "outputs": [
    {
     "data": {
      "image/png": "[encoded data removed]",
      "text/plain": [
       "<Figure size 720x576 with 1 Axes>"
      ]
     },
     "metadata": {},
     "output_type": "display_data"
    }
   ],
   "source": [
    "# Instantiate the model\n",
    "dt_regul = DecisionTreeClassifier(max_depth=3)\n",
    "# Fit the model\n",
    "dt_regul.fit(X_train, y_train)\n",
    "# Plot the decision boundaries\n",
    "plot_decision_boundaries(dt_regul)"
   ]
  },
  {
   "cell_type": "markdown",
   "metadata": {
    "slideshow": {
     "slide_type": "subslide"
    }
   },
   "source": [
    "We can see here the effects of regularization: The model learns less complicated, thus is more regularized."
   ]
  },
  {
   "cell_type": "markdown",
   "metadata": {
    "slideshow": {
     "slide_type": "subslide"
    }
   },
   "source": [
    "### Displaying the tree"
   ]
  },
  {
   "cell_type": "markdown",
   "metadata": {
    "slideshow": {
     "slide_type": "subslide"
    }
   },
   "source": [
    "`sklearn` even allows us to visualize the tree. By exporting it to graphviz format and opening it with another library called `graphviz` (you may need to install it by running `pip install graphviz`)."
   ]
  },
  {
   "cell_type": "code",
   "execution_count": 18,
   "metadata": {
    "ExecuteTime": {
     "end_time": "2019-07-18T13:27:39.818668Z",
     "start_time": "2019-07-18T13:27:39.681369Z"
    },
    "scrolled": false,
    "slideshow": {
     "slide_type": "fragment"
    }
   },
   "outputs": [
    {
     "data": {
      "image/svg+xml": [
       "<?xml version=\"1.0\" encoding=\"UTF-8\" standalone=\"no\"?>\n",
       "<!DOCTYPE svg PUBLIC \"-//W3C//DTD SVG 1.1//EN\"\n",
       " \"http://www.w3.org/Graphics/SVG/1.1/DTD/svg11.dtd\">\n",
       "<!-- Generated by graphviz version 2.40.1 (20161225.0304)\n",
       " -->\n",
       "<!-- Title: Tree Pages: 1 -->\n",
       "<svg width=\"876pt\" height=\"433pt\"\n",
       " viewBox=\"0.00 0.00 875.50 433.00\" xmlns=\"http://www.w3.org/2000/svg\" xmlns:xlink=\"http://www.w3.org/1999/xlink\">\n",
       "<g id=\"graph0\" class=\"graph\" transform=\"scale(1 1) rotate(0) translate(4 429)\">\n",
       "<title>Tree</title>\n",
       "<polygon fill=\"#ffffff\" stroke=\"transparent\" points=\"-4,4 -4,-429 871.5,-429 871.5,4 -4,4\"/>\n",
       "<!-- 0 -->\n",
       "<g id=\"node1\" class=\"node\">\n",
       "<title>0</title>\n",
       "<path fill=\"#f8f4fe\" stroke=\"#000000\" d=\"M482.5,-425C482.5,-425 335.5,-425 335.5,-425 329.5,-425 323.5,-419 323.5,-413 323.5,-413 323.5,-354 323.5,-354 323.5,-348 329.5,-342 335.5,-342 335.5,-342 482.5,-342 482.5,-342 488.5,-342 494.5,-348 494.5,-354 494.5,-354 494.5,-413 494.5,-413 494.5,-419 488.5,-425 482.5,-425\"/>\n",
       "<text text-anchor=\"middle\" x=\"409\" y=\"-409.8\" font-family=\"Helvetica,sans-Serif\" font-size=\"14.00\" fill=\"#000000\">sepal length (cm) &lt;= 5.45</text>\n",
       "<text text-anchor=\"middle\" x=\"409\" y=\"-394.8\" font-family=\"Helvetica,sans-Serif\" font-size=\"14.00\" fill=\"#000000\">gini = 0.665</text>\n",
       "<text text-anchor=\"middle\" x=\"409\" y=\"-379.8\" font-family=\"Helvetica,sans-Serif\" font-size=\"14.00\" fill=\"#000000\">samples = 112</text>\n",
       "<text text-anchor=\"middle\" x=\"409\" y=\"-364.8\" font-family=\"Helvetica,sans-Serif\" font-size=\"14.00\" fill=\"#000000\">value = [37, 34, 41]</text>\n",
       "<text text-anchor=\"middle\" x=\"409\" y=\"-349.8\" font-family=\"Helvetica,sans-Serif\" font-size=\"14.00\" fill=\"#000000\">class = virginica</text>\n",
       "</g>\n",
       "<!-- 1 -->\n",
       "<g id=\"node2\" class=\"node\">\n",
       "<title>1</title>\n",
       "<path fill=\"#e88f50\" stroke=\"#000000\" d=\"M387,-306C387,-306 245,-306 245,-306 239,-306 233,-300 233,-294 233,-294 233,-235 233,-235 233,-229 239,-223 245,-223 245,-223 387,-223 387,-223 393,-223 399,-229 399,-235 399,-235 399,-294 399,-294 399,-300 393,-306 387,-306\"/>\n",
       "<text text-anchor=\"middle\" x=\"316\" y=\"-290.8\" font-family=\"Helvetica,sans-Serif\" font-size=\"14.00\" fill=\"#000000\">sepal width (cm) &lt;= 2.75</text>\n",
       "<text text-anchor=\"middle\" x=\"316\" y=\"-275.8\" font-family=\"Helvetica,sans-Serif\" font-size=\"14.00\" fill=\"#000000\">gini = 0.193</text>\n",
       "<text text-anchor=\"middle\" x=\"316\" y=\"-260.8\" font-family=\"Helvetica,sans-Serif\" font-size=\"14.00\" fill=\"#000000\">samples = 38</text>\n",
       "<text text-anchor=\"middle\" x=\"316\" y=\"-245.8\" font-family=\"Helvetica,sans-Serif\" font-size=\"14.00\" fill=\"#000000\">value = [34, 3, 1]</text>\n",
       "<text text-anchor=\"middle\" x=\"316\" y=\"-230.8\" font-family=\"Helvetica,sans-Serif\" font-size=\"14.00\" fill=\"#000000\">class = setosa</text>\n",
       "</g>\n",
       "<!-- 0&#45;&gt;1 -->\n",
       "<g id=\"edge1\" class=\"edge\">\n",
       "<title>0&#45;&gt;1</title>\n",
       "<path fill=\"none\" stroke=\"#000000\" d=\"M376.4731,-341.8796C369.5049,-332.9633 362.0753,-323.4565 354.8944,-314.268\"/>\n",
       "<polygon fill=\"#000000\" stroke=\"#000000\" points=\"357.5812,-312.0221 348.6657,-306.2981 352.0657,-316.3326 357.5812,-312.0221\"/>\n",
       "<text text-anchor=\"middle\" x=\"346.2311\" y=\"-322.4493\" font-family=\"Helvetica,sans-Serif\" font-size=\"14.00\" fill=\"#000000\">True</text>\n",
       "</g>\n",
       "<!-- 6 -->\n",
       "<g id=\"node7\" class=\"node\">\n",
       "<title>6</title>\n",
       "<path fill=\"#e5d6fa\" stroke=\"#000000\" d=\"M576.5,-306C576.5,-306 429.5,-306 429.5,-306 423.5,-306 417.5,-300 417.5,-294 417.5,-294 417.5,-235 417.5,-235 417.5,-229 423.5,-223 429.5,-223 429.5,-223 576.5,-223 576.5,-223 582.5,-223 588.5,-229 588.5,-235 588.5,-235 588.5,-294 588.5,-294 588.5,-300 582.5,-306 576.5,-306\"/>\n",
       "<text text-anchor=\"middle\" x=\"503\" y=\"-290.8\" font-family=\"Helvetica,sans-Serif\" font-size=\"14.00\" fill=\"#000000\">sepal length (cm) &lt;= 5.95</text>\n",
       "<text text-anchor=\"middle\" x=\"503\" y=\"-275.8\" font-family=\"Helvetica,sans-Serif\" font-size=\"14.00\" fill=\"#000000\">gini = 0.531</text>\n",
       "<text text-anchor=\"middle\" x=\"503\" y=\"-260.8\" font-family=\"Helvetica,sans-Serif\" font-size=\"14.00\" fill=\"#000000\">samples = 74</text>\n",
       "<text text-anchor=\"middle\" x=\"503\" y=\"-245.8\" font-family=\"Helvetica,sans-Serif\" font-size=\"14.00\" fill=\"#000000\">value = [3, 31, 40]</text>\n",
       "<text text-anchor=\"middle\" x=\"503\" y=\"-230.8\" font-family=\"Helvetica,sans-Serif\" font-size=\"14.00\" fill=\"#000000\">class = virginica</text>\n",
       "</g>\n",
       "<!-- 0&#45;&gt;6 -->\n",
       "<g id=\"edge6\" class=\"edge\">\n",
       "<title>0&#45;&gt;6</title>\n",
       "<path fill=\"none\" stroke=\"#000000\" d=\"M441.8766,-341.8796C448.9197,-332.9633 456.4293,-323.4565 463.6874,-314.268\"/>\n",
       "<polygon fill=\"#000000\" stroke=\"#000000\" points=\"466.5309,-316.3147 469.983,-306.2981 461.0379,-311.9757 466.5309,-316.3147\"/>\n",
       "<text text-anchor=\"middle\" x=\"472.3144\" y=\"-322.4617\" font-family=\"Helvetica,sans-Serif\" font-size=\"14.00\" fill=\"#000000\">False</text>\n",
       "</g>\n",
       "<!-- 2 -->\n",
       "<g id=\"node3\" class=\"node\">\n",
       "<title>2</title>\n",
       "<path fill=\"#9cf2c0\" stroke=\"#000000\" d=\"M234,-187C234,-187 94,-187 94,-187 88,-187 82,-181 82,-175 82,-175 82,-116 82,-116 82,-110 88,-104 94,-104 94,-104 234,-104 234,-104 240,-104 246,-110 246,-116 246,-116 246,-175 246,-175 246,-181 240,-187 234,-187\"/>\n",
       "<text text-anchor=\"middle\" x=\"164\" y=\"-171.8\" font-family=\"Helvetica,sans-Serif\" font-size=\"14.00\" fill=\"#000000\">sepal length (cm) &lt;= 4.7</text>\n",
       "<text text-anchor=\"middle\" x=\"164\" y=\"-156.8\" font-family=\"Helvetica,sans-Serif\" font-size=\"14.00\" fill=\"#000000\">gini = 0.56</text>\n",
       "<text text-anchor=\"middle\" x=\"164\" y=\"-141.8\" font-family=\"Helvetica,sans-Serif\" font-size=\"14.00\" fill=\"#000000\">samples = 5</text>\n",
       "<text text-anchor=\"middle\" x=\"164\" y=\"-126.8\" font-family=\"Helvetica,sans-Serif\" font-size=\"14.00\" fill=\"#000000\">value = [1, 3, 1]</text>\n",
       "<text text-anchor=\"middle\" x=\"164\" y=\"-111.8\" font-family=\"Helvetica,sans-Serif\" font-size=\"14.00\" fill=\"#000000\">class = versicolor</text>\n",
       "</g>\n",
       "<!-- 1&#45;&gt;2 -->\n",
       "<g id=\"edge2\" class=\"edge\">\n",
       "<title>1&#45;&gt;2</title>\n",
       "<path fill=\"none\" stroke=\"#000000\" d=\"M262.8378,-222.8796C250.6885,-213.368 237.6808,-203.1843 225.224,-193.432\"/>\n",
       "<polygon fill=\"#000000\" stroke=\"#000000\" points=\"227.1638,-190.5055 217.1322,-187.0969 222.8486,-196.0173 227.1638,-190.5055\"/>\n",
       "</g>\n",
       "<!-- 5 -->\n",
       "<g id=\"node6\" class=\"node\">\n",
       "<title>5</title>\n",
       "<path fill=\"#e58139\" stroke=\"#000000\" d=\"M369.5,-179.5C369.5,-179.5 276.5,-179.5 276.5,-179.5 270.5,-179.5 264.5,-173.5 264.5,-167.5 264.5,-167.5 264.5,-123.5 264.5,-123.5 264.5,-117.5 270.5,-111.5 276.5,-111.5 276.5,-111.5 369.5,-111.5 369.5,-111.5 375.5,-111.5 381.5,-117.5 381.5,-123.5 381.5,-123.5 381.5,-167.5 381.5,-167.5 381.5,-173.5 375.5,-179.5 369.5,-179.5\"/>\n",
       "<text text-anchor=\"middle\" x=\"323\" y=\"-164.3\" font-family=\"Helvetica,sans-Serif\" font-size=\"14.00\" fill=\"#000000\">gini = 0.0</text>\n",
       "<text text-anchor=\"middle\" x=\"323\" y=\"-149.3\" font-family=\"Helvetica,sans-Serif\" font-size=\"14.00\" fill=\"#000000\">samples = 33</text>\n",
       "<text text-anchor=\"middle\" x=\"323\" y=\"-134.3\" font-family=\"Helvetica,sans-Serif\" font-size=\"14.00\" fill=\"#000000\">value = [33, 0, 0]</text>\n",
       "<text text-anchor=\"middle\" x=\"323\" y=\"-119.3\" font-family=\"Helvetica,sans-Serif\" font-size=\"14.00\" fill=\"#000000\">class = setosa</text>\n",
       "</g>\n",
       "<!-- 1&#45;&gt;5 -->\n",
       "<g id=\"edge5\" class=\"edge\">\n",
       "<title>1&#45;&gt;5</title>\n",
       "<path fill=\"none\" stroke=\"#000000\" d=\"M318.4483,-222.8796C319.0757,-212.2134 319.7528,-200.7021 320.3881,-189.9015\"/>\n",
       "<polygon fill=\"#000000\" stroke=\"#000000\" points=\"323.8881,-190.0032 320.9815,-179.8149 316.9002,-189.5921 323.8881,-190.0032\"/>\n",
       "</g>\n",
       "<!-- 3 -->\n",
       "<g id=\"node4\" class=\"node\">\n",
       "<title>3</title>\n",
       "<path fill=\"#e58139\" stroke=\"#000000\" d=\"M98,-68C98,-68 12,-68 12,-68 6,-68 0,-62 0,-56 0,-56 0,-12 0,-12 0,-6 6,0 12,0 12,0 98,0 98,0 104,0 110,-6 110,-12 110,-12 110,-56 110,-56 110,-62 104,-68 98,-68\"/>\n",
       "<text text-anchor=\"middle\" x=\"55\" y=\"-52.8\" font-family=\"Helvetica,sans-Serif\" font-size=\"14.00\" fill=\"#000000\">gini = 0.0</text>\n",
       "<text text-anchor=\"middle\" x=\"55\" y=\"-37.8\" font-family=\"Helvetica,sans-Serif\" font-size=\"14.00\" fill=\"#000000\">samples = 1</text>\n",
       "<text text-anchor=\"middle\" x=\"55\" y=\"-22.8\" font-family=\"Helvetica,sans-Serif\" font-size=\"14.00\" fill=\"#000000\">value = [1, 0, 0]</text>\n",
       "<text text-anchor=\"middle\" x=\"55\" y=\"-7.8\" font-family=\"Helvetica,sans-Serif\" font-size=\"14.00\" fill=\"#000000\">class = setosa</text>\n",
       "</g>\n",
       "<!-- 2&#45;&gt;3 -->\n",
       "<g id=\"edge3\" class=\"edge\">\n",
       "<title>2&#45;&gt;3</title>\n",
       "<path fill=\"none\" stroke=\"#000000\" d=\"M123.4124,-103.9815C114.338,-94.6989 104.7121,-84.8522 95.6357,-75.5677\"/>\n",
       "<polygon fill=\"#000000\" stroke=\"#000000\" points=\"97.9887,-72.9678 88.4954,-68.2637 92.9831,-77.8611 97.9887,-72.9678\"/>\n",
       "</g>\n",
       "<!-- 4 -->\n",
       "<g id=\"node5\" class=\"node\">\n",
       "<title>4</title>\n",
       "<path fill=\"#7beeab\" stroke=\"#000000\" d=\"M237.5,-68C237.5,-68 140.5,-68 140.5,-68 134.5,-68 128.5,-62 128.5,-56 128.5,-56 128.5,-12 128.5,-12 128.5,-6 134.5,0 140.5,0 140.5,0 237.5,0 237.5,0 243.5,0 249.5,-6 249.5,-12 249.5,-12 249.5,-56 249.5,-56 249.5,-62 243.5,-68 237.5,-68\"/>\n",
       "<text text-anchor=\"middle\" x=\"189\" y=\"-52.8\" font-family=\"Helvetica,sans-Serif\" font-size=\"14.00\" fill=\"#000000\">gini = 0.375</text>\n",
       "<text text-anchor=\"middle\" x=\"189\" y=\"-37.8\" font-family=\"Helvetica,sans-Serif\" font-size=\"14.00\" fill=\"#000000\">samples = 4</text>\n",
       "<text text-anchor=\"middle\" x=\"189\" y=\"-22.8\" font-family=\"Helvetica,sans-Serif\" font-size=\"14.00\" fill=\"#000000\">value = [0, 3, 1]</text>\n",
       "<text text-anchor=\"middle\" x=\"189\" y=\"-7.8\" font-family=\"Helvetica,sans-Serif\" font-size=\"14.00\" fill=\"#000000\">class = versicolor</text>\n",
       "</g>\n",
       "<!-- 2&#45;&gt;4 -->\n",
       "<g id=\"edge4\" class=\"edge\">\n",
       "<title>2&#45;&gt;4</title>\n",
       "<path fill=\"none\" stroke=\"#000000\" d=\"M173.3091,-103.9815C175.2049,-95.5261 177.2057,-86.6026 179.1206,-78.0623\"/>\n",
       "<polygon fill=\"#000000\" stroke=\"#000000\" points=\"182.5449,-78.7872 181.3176,-68.2637 175.7144,-77.2556 182.5449,-78.7872\"/>\n",
       "</g>\n",
       "<!-- 7 -->\n",
       "<g id=\"node8\" class=\"node\">\n",
       "<title>7</title>\n",
       "<path fill=\"#7beeab\" stroke=\"#000000\" d=\"M567,-187C567,-187 425,-187 425,-187 419,-187 413,-181 413,-175 413,-175 413,-116 413,-116 413,-110 419,-104 425,-104 425,-104 567,-104 567,-104 573,-104 579,-110 579,-116 579,-116 579,-175 579,-175 579,-181 573,-187 567,-187\"/>\n",
       "<text text-anchor=\"middle\" x=\"496\" y=\"-171.8\" font-family=\"Helvetica,sans-Serif\" font-size=\"14.00\" fill=\"#000000\">sepal width (cm) &lt;= 3.35</text>\n",
       "<text text-anchor=\"middle\" x=\"496\" y=\"-156.8\" font-family=\"Helvetica,sans-Serif\" font-size=\"14.00\" fill=\"#000000\">gini = 0.442</text>\n",
       "<text text-anchor=\"middle\" x=\"496\" y=\"-141.8\" font-family=\"Helvetica,sans-Serif\" font-size=\"14.00\" fill=\"#000000\">samples = 25</text>\n",
       "<text text-anchor=\"middle\" x=\"496\" y=\"-126.8\" font-family=\"Helvetica,sans-Serif\" font-size=\"14.00\" fill=\"#000000\">value = [3, 18, 4]</text>\n",
       "<text text-anchor=\"middle\" x=\"496\" y=\"-111.8\" font-family=\"Helvetica,sans-Serif\" font-size=\"14.00\" fill=\"#000000\">class = versicolor</text>\n",
       "</g>\n",
       "<!-- 6&#45;&gt;7 -->\n",
       "<g id=\"edge7\" class=\"edge\">\n",
       "<title>6&#45;&gt;7</title>\n",
       "<path fill=\"none\" stroke=\"#000000\" d=\"M500.5517,-222.8796C500.0696,-214.6838 499.5582,-205.9891 499.0589,-197.5013\"/>\n",
       "<polygon fill=\"#000000\" stroke=\"#000000\" points=\"502.54,-197.0753 498.4587,-187.2981 495.5521,-197.4864 502.54,-197.0753\"/>\n",
       "</g>\n",
       "<!-- 10 -->\n",
       "<g id=\"node11\" class=\"node\">\n",
       "<title>10</title>\n",
       "<path fill=\"#ae80ee\" stroke=\"#000000\" d=\"M756.5,-187C756.5,-187 609.5,-187 609.5,-187 603.5,-187 597.5,-181 597.5,-175 597.5,-175 597.5,-116 597.5,-116 597.5,-110 603.5,-104 609.5,-104 609.5,-104 756.5,-104 756.5,-104 762.5,-104 768.5,-110 768.5,-116 768.5,-116 768.5,-175 768.5,-175 768.5,-181 762.5,-187 756.5,-187\"/>\n",
       "<text text-anchor=\"middle\" x=\"683\" y=\"-171.8\" font-family=\"Helvetica,sans-Serif\" font-size=\"14.00\" fill=\"#000000\">sepal length (cm) &lt;= 7.05</text>\n",
       "<text text-anchor=\"middle\" x=\"683\" y=\"-156.8\" font-family=\"Helvetica,sans-Serif\" font-size=\"14.00\" fill=\"#000000\">gini = 0.39</text>\n",
       "<text text-anchor=\"middle\" x=\"683\" y=\"-141.8\" font-family=\"Helvetica,sans-Serif\" font-size=\"14.00\" fill=\"#000000\">samples = 49</text>\n",
       "<text text-anchor=\"middle\" x=\"683\" y=\"-126.8\" font-family=\"Helvetica,sans-Serif\" font-size=\"14.00\" fill=\"#000000\">value = [0, 13, 36]</text>\n",
       "<text text-anchor=\"middle\" x=\"683\" y=\"-111.8\" font-family=\"Helvetica,sans-Serif\" font-size=\"14.00\" fill=\"#000000\">class = virginica</text>\n",
       "</g>\n",
       "<!-- 6&#45;&gt;10 -->\n",
       "<g id=\"edge10\" class=\"edge\">\n",
       "<title>6&#45;&gt;10</title>\n",
       "<path fill=\"none\" stroke=\"#000000\" d=\"M565.9553,-222.8796C580.6166,-213.1868 596.3336,-202.7961 611.3401,-192.8752\"/>\n",
       "<polygon fill=\"#000000\" stroke=\"#000000\" points=\"613.6687,-195.5315 620.0803,-187.0969 609.8082,-189.6922 613.6687,-195.5315\"/>\n",
       "</g>\n",
       "<!-- 8 -->\n",
       "<g id=\"node9\" class=\"node\">\n",
       "<title>8</title>\n",
       "<path fill=\"#65eb9d\" stroke=\"#000000\" d=\"M424.5,-68C424.5,-68 327.5,-68 327.5,-68 321.5,-68 315.5,-62 315.5,-56 315.5,-56 315.5,-12 315.5,-12 315.5,-6 321.5,0 327.5,0 327.5,0 424.5,0 424.5,0 430.5,0 436.5,-6 436.5,-12 436.5,-12 436.5,-56 436.5,-56 436.5,-62 430.5,-68 424.5,-68\"/>\n",
       "<text text-anchor=\"middle\" x=\"376\" y=\"-52.8\" font-family=\"Helvetica,sans-Serif\" font-size=\"14.00\" fill=\"#000000\">gini = 0.298</text>\n",
       "<text text-anchor=\"middle\" x=\"376\" y=\"-37.8\" font-family=\"Helvetica,sans-Serif\" font-size=\"14.00\" fill=\"#000000\">samples = 22</text>\n",
       "<text text-anchor=\"middle\" x=\"376\" y=\"-22.8\" font-family=\"Helvetica,sans-Serif\" font-size=\"14.00\" fill=\"#000000\">value = [0, 18, 4]</text>\n",
       "<text text-anchor=\"middle\" x=\"376\" y=\"-7.8\" font-family=\"Helvetica,sans-Serif\" font-size=\"14.00\" fill=\"#000000\">class = versicolor</text>\n",
       "</g>\n",
       "<!-- 7&#45;&gt;8 -->\n",
       "<g id=\"edge8\" class=\"edge\">\n",
       "<title>7&#45;&gt;8</title>\n",
       "<path fill=\"none\" stroke=\"#000000\" d=\"M451.3164,-103.9815C441.2273,-94.607 430.519,-84.6572 420.4399,-75.2921\"/>\n",
       "<polygon fill=\"#000000\" stroke=\"#000000\" points=\"422.5839,-72.5065 412.8757,-68.2637 417.8191,-77.6346 422.5839,-72.5065\"/>\n",
       "</g>\n",
       "<!-- 9 -->\n",
       "<g id=\"node10\" class=\"node\">\n",
       "<title>9</title>\n",
       "<path fill=\"#e58139\" stroke=\"#000000\" d=\"M553,-68C553,-68 467,-68 467,-68 461,-68 455,-62 455,-56 455,-56 455,-12 455,-12 455,-6 461,0 467,0 467,0 553,0 553,0 559,0 565,-6 565,-12 565,-12 565,-56 565,-56 565,-62 559,-68 553,-68\"/>\n",
       "<text text-anchor=\"middle\" x=\"510\" y=\"-52.8\" font-family=\"Helvetica,sans-Serif\" font-size=\"14.00\" fill=\"#000000\">gini = 0.0</text>\n",
       "<text text-anchor=\"middle\" x=\"510\" y=\"-37.8\" font-family=\"Helvetica,sans-Serif\" font-size=\"14.00\" fill=\"#000000\">samples = 3</text>\n",
       "<text text-anchor=\"middle\" x=\"510\" y=\"-22.8\" font-family=\"Helvetica,sans-Serif\" font-size=\"14.00\" fill=\"#000000\">value = [3, 0, 0]</text>\n",
       "<text text-anchor=\"middle\" x=\"510\" y=\"-7.8\" font-family=\"Helvetica,sans-Serif\" font-size=\"14.00\" fill=\"#000000\">class = setosa</text>\n",
       "</g>\n",
       "<!-- 7&#45;&gt;9 -->\n",
       "<g id=\"edge9\" class=\"edge\">\n",
       "<title>7&#45;&gt;9</title>\n",
       "<path fill=\"none\" stroke=\"#000000\" d=\"M501.2131,-103.9815C502.2632,-95.618 503.3708,-86.7965 504.4325,-78.3409\"/>\n",
       "<polygon fill=\"#000000\" stroke=\"#000000\" points=\"507.9247,-78.6218 505.6978,-68.2637 500.9792,-77.7497 507.9247,-78.6218\"/>\n",
       "</g>\n",
       "<!-- 11 -->\n",
       "<g id=\"node12\" class=\"node\">\n",
       "<title>11</title>\n",
       "<path fill=\"#c3a0f3\" stroke=\"#000000\" d=\"M720.5,-68C720.5,-68 619.5,-68 619.5,-68 613.5,-68 607.5,-62 607.5,-56 607.5,-56 607.5,-12 607.5,-12 607.5,-6 613.5,0 619.5,0 619.5,0 720.5,0 720.5,0 726.5,0 732.5,-6 732.5,-12 732.5,-12 732.5,-56 732.5,-56 732.5,-62 726.5,-68 720.5,-68\"/>\n",
       "<text text-anchor=\"middle\" x=\"670\" y=\"-52.8\" font-family=\"Helvetica,sans-Serif\" font-size=\"14.00\" fill=\"#000000\">gini = 0.45</text>\n",
       "<text text-anchor=\"middle\" x=\"670\" y=\"-37.8\" font-family=\"Helvetica,sans-Serif\" font-size=\"14.00\" fill=\"#000000\">samples = 38</text>\n",
       "<text text-anchor=\"middle\" x=\"670\" y=\"-22.8\" font-family=\"Helvetica,sans-Serif\" font-size=\"14.00\" fill=\"#000000\">value = [0, 13, 25]</text>\n",
       "<text text-anchor=\"middle\" x=\"670\" y=\"-7.8\" font-family=\"Helvetica,sans-Serif\" font-size=\"14.00\" fill=\"#000000\">class = virginica</text>\n",
       "</g>\n",
       "<!-- 10&#45;&gt;11 -->\n",
       "<g id=\"edge11\" class=\"edge\">\n",
       "<title>10&#45;&gt;11</title>\n",
       "<path fill=\"none\" stroke=\"#000000\" d=\"M678.1593,-103.9815C677.1842,-95.618 676.1557,-86.7965 675.1698,-78.3409\"/>\n",
       "<polygon fill=\"#000000\" stroke=\"#000000\" points=\"678.6295,-77.791 673.9949,-68.2637 671.6766,-78.6017 678.6295,-77.791\"/>\n",
       "</g>\n",
       "<!-- 12 -->\n",
       "<g id=\"node13\" class=\"node\">\n",
       "<title>12</title>\n",
       "<path fill=\"#8139e5\" stroke=\"#000000\" d=\"M855.5,-68C855.5,-68 762.5,-68 762.5,-68 756.5,-68 750.5,-62 750.5,-56 750.5,-56 750.5,-12 750.5,-12 750.5,-6 756.5,0 762.5,0 762.5,0 855.5,0 855.5,0 861.5,0 867.5,-6 867.5,-12 867.5,-12 867.5,-56 867.5,-56 867.5,-62 861.5,-68 855.5,-68\"/>\n",
       "<text text-anchor=\"middle\" x=\"809\" y=\"-52.8\" font-family=\"Helvetica,sans-Serif\" font-size=\"14.00\" fill=\"#000000\">gini = 0.0</text>\n",
       "<text text-anchor=\"middle\" x=\"809\" y=\"-37.8\" font-family=\"Helvetica,sans-Serif\" font-size=\"14.00\" fill=\"#000000\">samples = 11</text>\n",
       "<text text-anchor=\"middle\" x=\"809\" y=\"-22.8\" font-family=\"Helvetica,sans-Serif\" font-size=\"14.00\" fill=\"#000000\">value = [0, 0, 11]</text>\n",
       "<text text-anchor=\"middle\" x=\"809\" y=\"-7.8\" font-family=\"Helvetica,sans-Serif\" font-size=\"14.00\" fill=\"#000000\">class = virginica</text>\n",
       "</g>\n",
       "<!-- 10&#45;&gt;12 -->\n",
       "<g id=\"edge12\" class=\"edge\">\n",
       "<title>10&#45;&gt;12</title>\n",
       "<path fill=\"none\" stroke=\"#000000\" d=\"M729.9177,-103.9815C740.6152,-94.5151 751.9756,-84.462 762.6492,-75.0168\"/>\n",
       "<polygon fill=\"#000000\" stroke=\"#000000\" points=\"765.1111,-77.5118 770.2805,-68.2637 760.4722,-72.2696 765.1111,-77.5118\"/>\n",
       "</g>\n",
       "</g>\n",
       "</svg>\n"
      ],
      "text/plain": [
       "<graphviz.files.Source at 0x7f8e803a8510>"
      ]
     },
     "execution_count": 18,
     "metadata": {},
     "output_type": "execute_result"
    }
   ],
   "source": [
    "from sklearn.tree import export_graphviz\n",
    "import graphviz\n",
    "\n",
    "# We load iris data again to retrieve features and classes names\n",
    "iris = load_iris()\n",
    "\n",
    "# We export the tree in graphviz format \n",
    "dot_data = export_graphviz(dt_regul,\n",
    "                           out_file=None,\n",
    "                           feature_names=iris.feature_names[:2],  \n",
    "                           class_names=iris.target_names,  \n",
    "                           filled=True, rounded=True)\n",
    "\n",
    "# We load the tree again with graphviz library in order to display it\n",
    "graph = graphviz.Source(dot_data)\n",
    "graph"
   ]
  },
  {
   "cell_type": "markdown",
   "metadata": {
    "slideshow": {
     "slide_type": "subslide"
    }
   },
   "source": [
    "### Interpretability"
   ]
  },
  {
   "cell_type": "markdown",
   "metadata": {
    "slideshow": {
     "slide_type": "fragment"
    }
   },
   "source": [
    "Interpretability is quite easy with trees, using the `.feature_importances_` attribute.\n",
    "\n",
    "The feature importance is computed as the disorder reduction brought by each feature in the tree."
   ]
  },
  {
   "cell_type": "code",
   "execution_count": 19,
   "metadata": {
    "ExecuteTime": {
     "end_time": "2019-10-21T09:20:48.384326Z",
     "start_time": "2019-10-21T09:20:48.378616Z"
    },
    "slideshow": {
     "slide_type": "fragment"
    }
   },
   "outputs": [
    {
     "data": {
      "text/plain": [
       "array([0.81721868, 0.18278132])"
      ]
     },
     "execution_count": 19,
     "metadata": {},
     "output_type": "execute_result"
    }
   ],
   "source": [
    "dt_regul.feature_importances_"
   ]
  },
  {
   "cell_type": "markdown",
   "metadata": {
    "slideshow": {
     "slide_type": "subslide"
    }
   },
   "source": [
    "One can also plot it as a bar chart:"
   ]
  },
  {
   "cell_type": "code",
   "execution_count": 23,
   "metadata": {
    "ExecuteTime": {
     "end_time": "2019-07-18T13:28:02.288516Z",
     "start_time": "2019-07-18T13:28:02.145275Z"
    },
    "slideshow": {
     "slide_type": "fragment"
    }
   },
   "outputs": [
    {
     "data": {
      "text/plain": [
       "Text(0.5, 1.0, 'Features importance')"
      ]
     },
     "execution_count": 23,
     "metadata": {},
     "output_type": "execute_result"
    },
    {
     "data": {
      "image/png": "[encoded data removed]",
      "text/plain": [
       "<Figure size 432x288 with 1 Axes>"
      ]
     },
     "metadata": {
      "needs_background": "light"
     },
     "output_type": "display_data"
    }
   ],
   "source": [
    "plt.bar(iris.feature_names[:2], dt_regul.feature_importances_)\n",
    "plt.title('Features importance')"
   ]
  },
  {
   "cell_type": "markdown",
   "metadata": {
    "slideshow": {
     "slide_type": "slide"
    }
   },
   "source": [
    "## III. Decision trees for regression"
   ]
  },
  {
   "cell_type": "markdown",
   "metadata": {
    "slideshow": {
     "slide_type": "fragment"
    }
   },
   "source": [
    "Decision trees can be used for regression too.\n",
    "\n",
    "Instead a predicting the most represented class in a leaf, the tree will now **predict the average values in a leaf**.\n",
    "\n",
    "In order to do so, we just have to change one thing: the disorder measurement."
   ]
  },
  {
   "cell_type": "markdown",
   "metadata": {
    "slideshow": {
     "slide_type": "subslide"
    }
   },
   "source": [
    "## III.1. Loss for regression"
   ]
  },
  {
   "cell_type": "markdown",
   "metadata": {
    "slideshow": {
     "slide_type": "fragment"
    }
   },
   "source": [
    "The algorithm still has to find the split that minimizes a loss.\n",
    "\n",
    "Instead of computing the Gini impurity or the Entropy loss, we will compute the Mean Squared Error (yes, not original).\n",
    "\n",
    "\n",
    "Thus, the loss function we now be the following:\n",
    "$$\n",
    "\\mathcal{L} = \\frac{m_{left}}{m} MSE_{left} + \\frac{m_{right}}{m}MSE_{right}\n",
    "$$\n",
    "\n",
    "Where $MSE$ stands for mean squared error."
   ]
  },
  {
   "cell_type": "markdown",
   "metadata": {
    "slideshow": {
     "slide_type": "fragment"
    }
   },
   "source": [
    "Let's take an example to illustrate:\n",
    "\n",
    "![](images/split_regression.png)"
   ]
  },
  {
   "cell_type": "markdown",
   "metadata": {
    "slideshow": {
     "slide_type": "subslide"
    }
   },
   "source": [
    "On this example, the loss would be the following:\n",
    "$$\n",
    "\\mathcal{L} = \\frac{3}{10} 0.66 + \\frac{7}{10} 4.98 \\simeq 3.67\n",
    "$$\n",
    "\n",
    "And if we stopped here (because a max depth of 1 for example):\n",
    "- the left leaf would predict 16\n",
    "- the right leaf would predict 13.1"
   ]
  },
  {
   "cell_type": "markdown",
   "metadata": {
    "slideshow": {
     "slide_type": "subslide"
    }
   },
   "source": [
    "## III.2. Implementation"
   ]
  },
  {
   "cell_type": "markdown",
   "metadata": {
    "slideshow": {
     "slide_type": "fragment"
    }
   },
   "source": [
    "Decision trees for regression are also available in scikit-learn, with the following signature:\n",
    "```python\n",
    "class sklearn.tree.DecisionTreeRegressor(*, criterion='mse', splitter='best', max_depth=None, min_samples_split=2, min_samples_leaf=1, min_weight_fraction_leaf=0.0, max_features=None, random_state=None, max_leaf_nodes=None, min_impurity_decrease=0.0, min_impurity_split=None, presort='deprecated', ccp_alpha=0.0)\n",
    "```"
   ]
  },
  {
   "cell_type": "markdown",
   "metadata": {
    "slideshow": {
     "slide_type": "fragment"
    }
   },
   "source": [
    "As you can see, most of the hyperparameters are similar to the ones for classification trees, like `max_depth` or `min_samples_split`.\n",
    "\n",
    "Now the criterion takes as values:\n",
    "- `mse` for mean squared error\n",
    "- `mae` for mean absolute error\n",
    "- `friedman_mse` for Friedman MSE, a weighted MSE (see [here](https://datascience.stackexchange.com/questions/66062/what-is-the-difference-between-freidman-mse-and-mse) for more details)"
   ]
  }
 ],
 "metadata": {
  "celltoolbar": "Slideshow",
  "kernelspec": {
   "display_name": "Python 3",
   "language": "python",
   "name": "python3"
  },
  "language_info": {
   "codemirror_mode": {
    "name": "ipython",
    "version": 3
   },
   "file_extension": ".py",
   "mimetype": "text/x-python",
   "name": "python",
   "nbconvert_exporter": "python",
   "pygments_lexer": "ipython3",
   "version": "3.7.4"
  }
 },
 "nbformat": 4,
 "nbformat_minor": 2
}
