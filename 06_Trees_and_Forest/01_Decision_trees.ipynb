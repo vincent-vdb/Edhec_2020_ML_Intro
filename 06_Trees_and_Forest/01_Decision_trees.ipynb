{
 "cells": [
  {
   "cell_type": "markdown",
   "metadata": {},
   "source": [
    "- Trees basics: node, leaf\n",
    "- Entropy and gini\n",
    "- Classification with trees\n",
    "- Limits of trees"
   ]
  },
  {
   "cell_type": "code",
   "execution_count": null,
   "metadata": {},
   "outputs": [],
   "source": []
  },
  {
   "cell_type": "code",
   "execution_count": null,
   "metadata": {},
   "outputs": [],
   "source": []
  },
  {
   "cell_type": "markdown",
   "metadata": {
    "slideshow": {
     "slide_type": "-"
    }
   },
   "source": [
    "## Trees & Forests 🌳🌳🌳"
   ]
  },
  {
   "cell_type": "markdown",
   "metadata": {
    "slideshow": {
     "slide_type": "-"
    }
   },
   "source": [
    "---"
   ]
  },
  {
   "cell_type": "markdown",
   "metadata": {
    "slideshow": {
     "slide_type": "-"
    }
   },
   "source": [
    "![](https://alliance2030.ca/wp-content/uploads/2019/01/michael-benz-258430-unsplash-1200x675-c-default.jpg)"
   ]
  },
  {
   "cell_type": "markdown",
   "metadata": {
    "slideshow": {
     "slide_type": "-"
    }
   },
   "source": [
    "---"
   ]
  },
  {
   "cell_type": "markdown",
   "metadata": {
    "slideshow": {
     "slide_type": "slide"
    }
   },
   "source": [
    "Today we will explore a new **classification** machine learning algorithm (supervised for categorical data) called **Decision Trees**. 🌳\n",
    "\n",
    "It is:\n",
    "- one of the oldest ML algorithm\n",
    "- extremely robust\n",
    "- quite intuitive\n",
    "\n",
    "We will also discover an extension of the Decision Trees: the **Random Forests** 🌳🌳🌳\n",
    "\n",
    "Let's dig in!"
   ]
  },
  {
   "cell_type": "markdown",
   "metadata": {
    "slideshow": {
     "slide_type": "-"
    }
   },
   "source": [
    "---"
   ]
  },
  {
   "cell_type": "markdown",
   "metadata": {
    "slideshow": {
     "slide_type": "slide"
    }
   },
   "source": [
    "# I. Trees Intuition"
   ]
  },
  {
   "cell_type": "markdown",
   "metadata": {
    "slideshow": {
     "slide_type": "subslide"
    }
   },
   "source": [
    "## I.1. Linearly separable data?"
   ]
  },
  {
   "cell_type": "markdown",
   "metadata": {
    "slideshow": {
     "slide_type": "fragment"
    }
   },
   "source": [
    "Let's take this example of a kitesurfer who is interested in two things before pumping his kite:\n",
    "- it should be sunny ⛱\n",
    "- it should be windy! 💨 "
   ]
  },
  {
   "cell_type": "markdown",
   "metadata": {
    "slideshow": {
     "slide_type": "fragment"
    }
   },
   "source": [
    "Let's plot that data on a 2D chart, and for each tuple (Wind strength, Temperature) let's draw a point representing if YES or NO the kiter should pump his kite. "
   ]
  },
  {
   "cell_type": "markdown",
   "metadata": {},
   "source": [
    "<p align=\"center\">\n",
    "<img src=\"https://drive.google.com/uc?export=view&id=1CzUK8T2fMxGSQDeOogeUws2-Yl7tVo6M\">\n",
    "</p>"
   ]
  },
  {
   "cell_type": "markdown",
   "metadata": {
    "slideshow": {
     "slide_type": "fragment"
    }
   },
   "source": [
    "Is this data linearly separable? Explain."
   ]
  },
  {
   "cell_type": "markdown",
   "metadata": {
    "slideshow": {
     "slide_type": "fragment"
    }
   },
   "source": [
    "Nope! It's not linearly separable - as you cannot draw a line splitting effectively the data points."
   ]
  },
  {
   "cell_type": "markdown",
   "metadata": {
    "slideshow": {
     "slide_type": "fragment"
    }
   },
   "source": [
    "Decision trees allow us to ask **multiple linear questions**, one after the other."
   ]
  },
  {
   "cell_type": "markdown",
   "metadata": {},
   "source": [
    "<p align=\"center\">\n",
    "<img src=\"https://drive.google.com/uc?export=view&id=1Xu7naCNA4McFww11uUqAVvtqFNNArnlS\">\n",
    "</p>"
   ]
  },
  {
   "cell_type": "markdown",
   "metadata": {},
   "source": [
    "<p align=\"center\">\n",
    "<img src=\"https://drive.google.com/uc?export=view&id=1DxwQGeMRqTuJmhV4HYAeoD85bFx_vp0Y\" width=\"350\">\n",
    "</p>"
   ]
  },
  {
   "cell_type": "markdown",
   "metadata": {
    "slideshow": {
     "slide_type": "subslide"
    }
   },
   "source": [
    "## I.2. Let's construct a more complex decision tree"
   ]
  },
  {
   "cell_type": "markdown",
   "metadata": {
    "slideshow": {
     "slide_type": "fragment"
    }
   },
   "source": [
    "Let's take a problem a bit more complex and see how would look our decision tree.\n",
    "\n",
    "<img src=\"https://drive.google.com/uc?export=view&id=1am_borVWERNA0BvOgsIy2HPqwJexAdD7\">\n",
    "\n",
    "We begin with every point in the training set at the top of the tree. These training points have labels — the red points represent students that didn't get an A on a test and the green points represent students that did get an A on a test .\n",
    "\n",
    "We then decide to split the data into smaller groups based on a feature. For example, that feature could be something like their average grade in the class. Students with an A average would go into one set, students with a B average would go into another subset, and so on.\n",
    "\n",
    "Once we have these subsets, we repeat the process — we split the data in each subset again on a different feature.\n",
    "\n",
    "Eventually, we reach a point where we decide to stop splitting the data into smaller groups. We've reached a leaf of the tree. We can now count the labels of the data in that leaf. If an unlabeled point reaches that leaf, it will be classified as the majority label."
   ]
  },
  {
   "cell_type": "markdown",
   "metadata": {
    "slideshow": {
     "slide_type": "subslide"
    }
   },
   "source": [
    "## I.3. Nodes"
   ]
  },
  {
   "cell_type": "markdown",
   "metadata": {
    "slideshow": {
     "slide_type": "subslide"
    }
   },
   "source": [
    "- First node (with first split) is called the **root node**\n",
    "- **Decision node** is a node with two or more branches (above a split)\n",
    "- **Leaf node** carries the final classification prediction 🍂"
   ]
  },
  {
   "cell_type": "markdown",
   "metadata": {
    "slideshow": {
     "slide_type": "-"
    }
   },
   "source": [
    "---"
   ]
  },
  {
   "cell_type": "markdown",
   "metadata": {
    "slideshow": {
     "slide_type": "slide"
    }
   },
   "source": [
    "# II. Implementation with scikit-learn"
   ]
  },
  {
   "cell_type": "markdown",
   "metadata": {
    "slideshow": {
     "slide_type": "subslide"
    }
   },
   "source": [
    "## II.1. Coding a decision tree"
   ]
  },
  {
   "cell_type": "code",
   "execution_count": 1,
   "metadata": {
    "ExecuteTime": {
     "end_time": "2019-10-21T09:20:33.180039Z",
     "start_time": "2019-10-21T09:20:33.112411Z"
    },
    "slideshow": {
     "slide_type": "fragment"
    }
   },
   "outputs": [],
   "source": [
    "from sklearn.datasets import load_iris\n",
    "X, y = load_iris(return_X_y=True)\n",
    "X_small = X[:,:2] # We keep only 2 features for visualisation purposes"
   ]
  },
  {
   "cell_type": "code",
   "execution_count": 2,
   "metadata": {
    "ExecuteTime": {
     "end_time": "2019-10-21T09:20:33.654252Z",
     "start_time": "2019-10-21T09:20:33.650191Z"
    },
    "slideshow": {
     "slide_type": "fragment"
    }
   },
   "outputs": [
    {
     "name": "stdout",
     "output_type": "stream",
     "text": [
      "X_small.shape=(150, 2)\n",
      "y.shape=(150,)\n"
     ]
    }
   ],
   "source": [
    "print(\"X_small.shape={}\".format(X_small.shape))\n",
    "print(\"y.shape={}\".format(y.shape))"
   ]
  },
  {
   "cell_type": "code",
   "execution_count": 3,
   "metadata": {
    "ExecuteTime": {
     "end_time": "2019-07-18T13:27:29.298238Z",
     "start_time": "2019-07-18T13:27:29.182069Z"
    },
    "slideshow": {
     "slide_type": "fragment"
    }
   },
   "outputs": [
    {
     "data": {
      "text/plain": [
       "<Figure size 1000x800 with 1 Axes>"
      ]
     },
     "metadata": {},
     "output_type": "display_data"
    }
   ],
   "source": [
    "import matplotlib\n",
    "from matplotlib import pyplot as plt\n",
    "\n",
    "# Create figure to draw chart\n",
    "plt.figure(2, figsize=(10, 8))\n",
    "\n",
    "# Plot the training points\n",
    "plt.scatter(X_small[:, 0], X_small[:, 1], c=y, cmap=plt.cm.Set1, edgecolor='k')\n",
    "\n",
    "# Format chart\n",
    "plt.xlabel('Sepal length')\n",
    "plt.ylabel('Sepal width')\n",
    "plt.xticks(())\n",
    "plt.yticks(())\n",
    "\n",
    "plt.show()"
   ]
  },
  {
   "cell_type": "markdown",
   "metadata": {
    "slideshow": {
     "slide_type": "subslide"
    }
   },
   "source": [
    "We start by importing the proper method `DecisionTreeClassifier` from `sklearn` and to instanciate our Decision Tree classifier."
   ]
  },
  {
   "cell_type": "code",
   "execution_count": 4,
   "metadata": {
    "ExecuteTime": {
     "end_time": "2019-10-21T09:20:37.687187Z",
     "start_time": "2019-10-21T09:20:37.683586Z"
    },
    "slideshow": {
     "slide_type": "fragment"
    }
   },
   "outputs": [],
   "source": [
    "from sklearn.tree import DecisionTreeClassifier\n",
    "dt = DecisionTreeClassifier() # Per default, criterion=\"gini\"; you could specify criterion=\"entropy\""
   ]
  },
  {
   "cell_type": "markdown",
   "metadata": {
    "slideshow": {
     "slide_type": "fragment"
    }
   },
   "source": [
    "Then we fit our model as usual"
   ]
  },
  {
   "cell_type": "code",
   "execution_count": 5,
   "metadata": {
    "ExecuteTime": {
     "end_time": "2019-10-21T09:20:38.302937Z",
     "start_time": "2019-10-21T09:20:38.298477Z"
    }
   },
   "outputs": [],
   "source": [
    "from sklearn.model_selection import train_test_split\n",
    "X_train, X_test, y_train, y_test = train_test_split(X_small, y, random_state=0)"
   ]
  },
  {
   "cell_type": "code",
   "execution_count": 6,
   "metadata": {
    "ExecuteTime": {
     "end_time": "2019-10-21T09:20:39.360967Z",
     "start_time": "2019-10-21T09:20:39.343383Z"
    },
    "scrolled": true,
    "slideshow": {
     "slide_type": "fragment"
    }
   },
   "outputs": [
    {
     "data": {
      "text/plain": [
       "DecisionTreeClassifier(class_weight=None, criterion='gini', max_depth=None,\n",
       "                       max_features=None, max_leaf_nodes=None,\n",
       "                       min_impurity_decrease=0.0, min_impurity_split=None,\n",
       "                       min_samples_leaf=1, min_samples_split=2,\n",
       "                       min_weight_fraction_leaf=0.0, presort=False,\n",
       "                       random_state=None, splitter='best')"
      ]
     },
     "execution_count": 6,
     "metadata": {},
     "output_type": "execute_result"
    }
   ],
   "source": [
    "dt.fit(X_train, y_train)"
   ]
  },
  {
   "cell_type": "markdown",
   "metadata": {
    "slideshow": {
     "slide_type": "subslide"
    }
   },
   "source": [
    "Finally we can retrieve predictions based on our model"
   ]
  },
  {
   "cell_type": "code",
   "execution_count": 7,
   "metadata": {
    "ExecuteTime": {
     "end_time": "2019-10-21T09:20:41.606752Z",
     "start_time": "2019-10-21T09:20:41.601348Z"
    },
    "scrolled": true,
    "slideshow": {
     "slide_type": "fragment"
    }
   },
   "outputs": [],
   "source": [
    "y_pred = dt.predict(X_test)"
   ]
  },
  {
   "cell_type": "markdown",
   "metadata": {
    "slideshow": {
     "slide_type": "subslide"
    }
   },
   "source": [
    "And retrieve a score (accuracy) of our model "
   ]
  },
  {
   "cell_type": "code",
   "execution_count": 8,
   "metadata": {
    "ExecuteTime": {
     "end_time": "2019-10-21T09:20:42.205720Z",
     "start_time": "2019-10-21T09:20:42.197796Z"
    },
    "scrolled": false,
    "slideshow": {
     "slide_type": "fragment"
    }
   },
   "outputs": [
    {
     "name": "stdout",
     "output_type": "stream",
     "text": [
      "Model has an accuracy of 63.1578947368421%\n"
     ]
    }
   ],
   "source": [
    "from sklearn.metrics import accuracy_score\n",
    "\n",
    "acc = accuracy_score(y_test, y_pred)\n",
    "\n",
    "print(\"Model has an accuracy of {}%\".format(acc*100))"
   ]
  },
  {
   "cell_type": "markdown",
   "metadata": {
    "slideshow": {
     "slide_type": "subslide"
    }
   },
   "source": [
    "We can get a better understanding of our model by plotting the decision boundaries"
   ]
  },
  {
   "cell_type": "code",
   "execution_count": 9,
   "metadata": {
    "ExecuteTime": {
     "end_time": "2019-07-18T13:27:36.663849Z",
     "start_time": "2019-07-18T13:27:36.480478Z"
    },
    "scrolled": false,
    "slideshow": {
     "slide_type": "fragment"
    }
   },
   "outputs": [
    {
     "data": {
      "image/png": "[encoded data removed]",
      "text/plain": [
       "<Figure size 720x576 with 1 Axes>"
      ]
     },
     "metadata": {},
     "output_type": "display_data"
    }
   ],
   "source": [
    "import numpy as np\n",
    "from matplotlib import pyplot as plt\n",
    "\n",
    "# Create figure to draw chart\n",
    "plt.figure(2, figsize=(10, 8))\n",
    "\n",
    "# We create a grid of points contained within [x_min, x_max]x[y_min, y_max] with step h=0.02\n",
    "x_min, x_max = X[:, 0].min() - .5, X[:, 0].max() + .5\n",
    "y_min, y_max = X[:, 1].min() - .5, X[:, 1].max() + .5\n",
    "h = .02  # step size of the grid\n",
    "xx, yy = np.meshgrid(np.arange(x_min, x_max, h), np.arange(y_min, y_max, h))\n",
    "\n",
    "# Retrieve predictions for each point of the grid\n",
    "Z_dt = dt.predict(np.c_[xx.ravel(), yy.ravel()])\n",
    "Z_dt = Z_dt.reshape(xx.shape)\n",
    "\n",
    "# Plot the decision boundary (label predicted assigned to a color)\n",
    "plt.pcolormesh(xx, yy, Z_dt, cmap=plt.cm.Paired)\n",
    "\n",
    "# Plot also the training points\n",
    "plt.scatter(X_train[:, 0], X_train[:, 1], c=y_train, edgecolors='k', cmap=plt.cm.Paired)\n",
    "\n",
    "# Format chart\n",
    "plt.xlabel('Sepal length')\n",
    "plt.ylabel('Sepal width')\n",
    "plt.xticks(())\n",
    "plt.yticks(())\n",
    "plt.show()"
   ]
  },
  {
   "cell_type": "markdown",
   "metadata": {
    "slideshow": {
     "slide_type": "subslide"
    }
   },
   "source": [
    "## II.2. Visualizing our tree"
   ]
  },
  {
   "cell_type": "markdown",
   "metadata": {
    "slideshow": {
     "slide_type": "subslide"
    }
   },
   "source": [
    "`sklearn` even allows us to visualize the tree. By exporting it to graphviz format and opening it with another library called `graphviz` (you will need to install it by running `pip install graphviz`)."
   ]
  },
  {
   "cell_type": "code",
   "execution_count": 11,
   "metadata": {
    "ExecuteTime": {
     "end_time": "2019-07-18T13:27:39.818668Z",
     "start_time": "2019-07-18T13:27:39.681369Z"
    },
    "scrolled": false,
    "slideshow": {
     "slide_type": "fragment"
    }
   },
   "outputs": [
    {
     "data": {
      "image/svg+xml": [
       "<?xml version=\"1.0\" encoding=\"UTF-8\" standalone=\"no\"?>\n",
       "<!DOCTYPE svg PUBLIC \"-//W3C//DTD SVG 1.1//EN\"\n",
       " \"http://www.w3.org/Graphics/SVG/1.1/DTD/svg11.dtd\">\n",
       "<!-- Generated by graphviz version 2.40.1 (20161225.0304)\n",
       " -->\n",
       "<!-- Title: Tree Pages: 1 -->\n",
       "<svg width=\"1983pt\" height=\"1440pt\"\n",
       " viewBox=\"0.00 0.00 1983.48 1440.00\" xmlns=\"http://www.w3.org/2000/svg\" xmlns:xlink=\"http://www.w3.org/1999/xlink\">\n",
       "<g id=\"graph0\" class=\"graph\" transform=\"scale(1 1) rotate(0) translate(4 1436)\">\n",
       "<title>Tree</title>\n",
       "<polygon fill=\"#ffffff\" stroke=\"transparent\" points=\"-4,4 -4,-1436 1979.479,-1436 1979.479,4 -4,4\"/>\n",
       "<!-- 0 -->\n",
       "<g id=\"node1\" class=\"node\">\n",
       "<title>0</title>\n",
       "<path fill=\"#f8f4fe\" stroke=\"#000000\" d=\"M697.1354,-1432C697.1354,-1432 546.6195,-1432 546.6195,-1432 540.6195,-1432 534.6195,-1426 534.6195,-1420 534.6195,-1420 534.6195,-1366 534.6195,-1366 534.6195,-1360 540.6195,-1354 546.6195,-1354 546.6195,-1354 697.1354,-1354 697.1354,-1354 703.1354,-1354 709.1354,-1360 709.1354,-1366 709.1354,-1366 709.1354,-1420 709.1354,-1420 709.1354,-1426 703.1354,-1432 697.1354,-1432\"/>\n",
       "<text text-anchor=\"middle\" x=\"621.8774\" y=\"-1416.8\" font-family=\"Helvetica,sans-Serif\" font-size=\"14.00\" fill=\"#000000\">sepal length (cm) &lt;= 5.45</text>\n",
       "<text text-anchor=\"middle\" x=\"621.8774\" y=\"-1402.8\" font-family=\"Helvetica,sans-Serif\" font-size=\"14.00\" fill=\"#000000\">gini = 0.665</text>\n",
       "<text text-anchor=\"middle\" x=\"621.8774\" y=\"-1388.8\" font-family=\"Helvetica,sans-Serif\" font-size=\"14.00\" fill=\"#000000\">samples = 112</text>\n",
       "<text text-anchor=\"middle\" x=\"621.8774\" y=\"-1374.8\" font-family=\"Helvetica,sans-Serif\" font-size=\"14.00\" fill=\"#000000\">value = [37, 34, 41]</text>\n",
       "<text text-anchor=\"middle\" x=\"621.8774\" y=\"-1360.8\" font-family=\"Helvetica,sans-Serif\" font-size=\"14.00\" fill=\"#000000\">class = virginica</text>\n",
       "</g>\n",
       "<!-- 1 -->\n",
       "<g id=\"node2\" class=\"node\">\n",
       "<title>1</title>\n",
       "<path fill=\"#e88f50\" stroke=\"#000000\" d=\"M598.6736,-1318C598.6736,-1318 453.0813,-1318 453.0813,-1318 447.0813,-1318 441.0813,-1312 441.0813,-1306 441.0813,-1306 441.0813,-1252 441.0813,-1252 441.0813,-1246 447.0813,-1240 453.0813,-1240 453.0813,-1240 598.6736,-1240 598.6736,-1240 604.6736,-1240 610.6736,-1246 610.6736,-1252 610.6736,-1252 610.6736,-1306 610.6736,-1306 610.6736,-1312 604.6736,-1318 598.6736,-1318\"/>\n",
       "<text text-anchor=\"middle\" x=\"525.8774\" y=\"-1302.8\" font-family=\"Helvetica,sans-Serif\" font-size=\"14.00\" fill=\"#000000\">sepal width (cm) &lt;= 2.75</text>\n",
       "<text text-anchor=\"middle\" x=\"525.8774\" y=\"-1288.8\" font-family=\"Helvetica,sans-Serif\" font-size=\"14.00\" fill=\"#000000\">gini = 0.193</text>\n",
       "<text text-anchor=\"middle\" x=\"525.8774\" y=\"-1274.8\" font-family=\"Helvetica,sans-Serif\" font-size=\"14.00\" fill=\"#000000\">samples = 38</text>\n",
       "<text text-anchor=\"middle\" x=\"525.8774\" y=\"-1260.8\" font-family=\"Helvetica,sans-Serif\" font-size=\"14.00\" fill=\"#000000\">value = [34, 3, 1]</text>\n",
       "<text text-anchor=\"middle\" x=\"525.8774\" y=\"-1246.8\" font-family=\"Helvetica,sans-Serif\" font-size=\"14.00\" fill=\"#000000\">class = setosa</text>\n",
       "</g>\n",
       "<!-- 0&#45;&gt;1 -->\n",
       "<g id=\"edge1\" class=\"edge\">\n",
       "<title>0&#45;&gt;1</title>\n",
       "<path fill=\"none\" stroke=\"#000000\" d=\"M588.8397,-1353.7677C581.2973,-1344.8111 573.2074,-1335.2043 565.4236,-1325.9611\"/>\n",
       "<polygon fill=\"#000000\" stroke=\"#000000\" points=\"568.0947,-1323.6993 558.9761,-1318.3046 562.7403,-1328.2083 568.0947,-1323.6993\"/>\n",
       "<text text-anchor=\"middle\" x=\"556.8411\" y=\"-1339.0133\" font-family=\"Helvetica,sans-Serif\" font-size=\"14.00\" fill=\"#000000\">True</text>\n",
       "</g>\n",
       "<!-- 10 -->\n",
       "<g id=\"node11\" class=\"node\">\n",
       "<title>10</title>\n",
       "<path fill=\"#e5d6fa\" stroke=\"#000000\" d=\"M861.1354,-1318C861.1354,-1318 710.6195,-1318 710.6195,-1318 704.6195,-1318 698.6195,-1312 698.6195,-1306 698.6195,-1306 698.6195,-1252 698.6195,-1252 698.6195,-1246 704.6195,-1240 710.6195,-1240 710.6195,-1240 861.1354,-1240 861.1354,-1240 867.1354,-1240 873.1354,-1246 873.1354,-1252 873.1354,-1252 873.1354,-1306 873.1354,-1306 873.1354,-1312 867.1354,-1318 861.1354,-1318\"/>\n",
       "<text text-anchor=\"middle\" x=\"785.8774\" y=\"-1302.8\" font-family=\"Helvetica,sans-Serif\" font-size=\"14.00\" fill=\"#000000\">sepal length (cm) &lt;= 5.95</text>\n",
       "<text text-anchor=\"middle\" x=\"785.8774\" y=\"-1288.8\" font-family=\"Helvetica,sans-Serif\" font-size=\"14.00\" fill=\"#000000\">gini = 0.531</text>\n",
       "<text text-anchor=\"middle\" x=\"785.8774\" y=\"-1274.8\" font-family=\"Helvetica,sans-Serif\" font-size=\"14.00\" fill=\"#000000\">samples = 74</text>\n",
       "<text text-anchor=\"middle\" x=\"785.8774\" y=\"-1260.8\" font-family=\"Helvetica,sans-Serif\" font-size=\"14.00\" fill=\"#000000\">value = [3, 31, 40]</text>\n",
       "<text text-anchor=\"middle\" x=\"785.8774\" y=\"-1246.8\" font-family=\"Helvetica,sans-Serif\" font-size=\"14.00\" fill=\"#000000\">class = virginica</text>\n",
       "</g>\n",
       "<!-- 0&#45;&gt;10 -->\n",
       "<g id=\"edge10\" class=\"edge\">\n",
       "<title>0&#45;&gt;10</title>\n",
       "<path fill=\"none\" stroke=\"#000000\" d=\"M678.3169,-1353.7677C692.1812,-1344.1303 707.1286,-1333.7401 721.3418,-1323.8601\"/>\n",
       "<polygon fill=\"#000000\" stroke=\"#000000\" points=\"723.3984,-1326.6931 729.6118,-1318.1115 719.403,-1320.9453 723.3984,-1326.6931\"/>\n",
       "<text text-anchor=\"middle\" x=\"725.1864\" y=\"-1338.5167\" font-family=\"Helvetica,sans-Serif\" font-size=\"14.00\" fill=\"#000000\">False</text>\n",
       "</g>\n",
       "<!-- 2 -->\n",
       "<g id=\"node3\" class=\"node\">\n",
       "<title>2</title>\n",
       "<path fill=\"#9cf2c0\" stroke=\"#000000\" d=\"M435.3491,-1204C435.3491,-1204 292.4058,-1204 292.4058,-1204 286.4058,-1204 280.4058,-1198 280.4058,-1192 280.4058,-1192 280.4058,-1138 280.4058,-1138 280.4058,-1132 286.4058,-1126 292.4058,-1126 292.4058,-1126 435.3491,-1126 435.3491,-1126 441.3491,-1126 447.3491,-1132 447.3491,-1138 447.3491,-1138 447.3491,-1192 447.3491,-1192 447.3491,-1198 441.3491,-1204 435.3491,-1204\"/>\n",
       "<text text-anchor=\"middle\" x=\"363.8774\" y=\"-1188.8\" font-family=\"Helvetica,sans-Serif\" font-size=\"14.00\" fill=\"#000000\">sepal length (cm) &lt;= 4.7</text>\n",
       "<text text-anchor=\"middle\" x=\"363.8774\" y=\"-1174.8\" font-family=\"Helvetica,sans-Serif\" font-size=\"14.00\" fill=\"#000000\">gini = 0.56</text>\n",
       "<text text-anchor=\"middle\" x=\"363.8774\" y=\"-1160.8\" font-family=\"Helvetica,sans-Serif\" font-size=\"14.00\" fill=\"#000000\">samples = 5</text>\n",
       "<text text-anchor=\"middle\" x=\"363.8774\" y=\"-1146.8\" font-family=\"Helvetica,sans-Serif\" font-size=\"14.00\" fill=\"#000000\">value = [1, 3, 1]</text>\n",
       "<text text-anchor=\"middle\" x=\"363.8774\" y=\"-1132.8\" font-family=\"Helvetica,sans-Serif\" font-size=\"14.00\" fill=\"#000000\">class = versicolor</text>\n",
       "</g>\n",
       "<!-- 1&#45;&gt;2 -->\n",
       "<g id=\"edge2\" class=\"edge\">\n",
       "<title>1&#45;&gt;2</title>\n",
       "<path fill=\"none\" stroke=\"#000000\" d=\"M470.1262,-1239.7677C456.5591,-1230.2204 441.9419,-1219.9342 428.0199,-1210.1373\"/>\n",
       "<polygon fill=\"#000000\" stroke=\"#000000\" points=\"429.6492,-1207.0041 419.4569,-1204.1115 425.6207,-1212.7288 429.6492,-1207.0041\"/>\n",
       "</g>\n",
       "<!-- 9 -->\n",
       "<g id=\"node10\" class=\"node\">\n",
       "<title>9</title>\n",
       "<path fill=\"#e58139\" stroke=\"#000000\" d=\"M573.7837,-1197C573.7837,-1197 477.9712,-1197 477.9712,-1197 471.9712,-1197 465.9712,-1191 465.9712,-1185 465.9712,-1185 465.9712,-1145 465.9712,-1145 465.9712,-1139 471.9712,-1133 477.9712,-1133 477.9712,-1133 573.7837,-1133 573.7837,-1133 579.7837,-1133 585.7837,-1139 585.7837,-1145 585.7837,-1145 585.7837,-1185 585.7837,-1185 585.7837,-1191 579.7837,-1197 573.7837,-1197\"/>\n",
       "<text text-anchor=\"middle\" x=\"525.8774\" y=\"-1181.8\" font-family=\"Helvetica,sans-Serif\" font-size=\"14.00\" fill=\"#000000\">gini = 0.0</text>\n",
       "<text text-anchor=\"middle\" x=\"525.8774\" y=\"-1167.8\" font-family=\"Helvetica,sans-Serif\" font-size=\"14.00\" fill=\"#000000\">samples = 33</text>\n",
       "<text text-anchor=\"middle\" x=\"525.8774\" y=\"-1153.8\" font-family=\"Helvetica,sans-Serif\" font-size=\"14.00\" fill=\"#000000\">value = [33, 0, 0]</text>\n",
       "<text text-anchor=\"middle\" x=\"525.8774\" y=\"-1139.8\" font-family=\"Helvetica,sans-Serif\" font-size=\"14.00\" fill=\"#000000\">class = setosa</text>\n",
       "</g>\n",
       "<!-- 1&#45;&gt;9 -->\n",
       "<g id=\"edge9\" class=\"edge\">\n",
       "<title>1&#45;&gt;9</title>\n",
       "<path fill=\"none\" stroke=\"#000000\" d=\"M525.8774,-1239.7677C525.8774,-1229.3338 525.8774,-1218.0174 525.8774,-1207.4215\"/>\n",
       "<polygon fill=\"#000000\" stroke=\"#000000\" points=\"529.3775,-1207.1252 525.8774,-1197.1252 522.3775,-1207.1252 529.3775,-1207.1252\"/>\n",
       "</g>\n",
       "<!-- 3 -->\n",
       "<g id=\"node4\" class=\"node\">\n",
       "<title>3</title>\n",
       "<path fill=\"#e58139\" stroke=\"#000000\" d=\"M246.9976,-1083C246.9976,-1083 158.7573,-1083 158.7573,-1083 152.7573,-1083 146.7573,-1077 146.7573,-1071 146.7573,-1071 146.7573,-1031 146.7573,-1031 146.7573,-1025 152.7573,-1019 158.7573,-1019 158.7573,-1019 246.9976,-1019 246.9976,-1019 252.9976,-1019 258.9976,-1025 258.9976,-1031 258.9976,-1031 258.9976,-1071 258.9976,-1071 258.9976,-1077 252.9976,-1083 246.9976,-1083\"/>\n",
       "<text text-anchor=\"middle\" x=\"202.8774\" y=\"-1067.8\" font-family=\"Helvetica,sans-Serif\" font-size=\"14.00\" fill=\"#000000\">gini = 0.0</text>\n",
       "<text text-anchor=\"middle\" x=\"202.8774\" y=\"-1053.8\" font-family=\"Helvetica,sans-Serif\" font-size=\"14.00\" fill=\"#000000\">samples = 1</text>\n",
       "<text text-anchor=\"middle\" x=\"202.8774\" y=\"-1039.8\" font-family=\"Helvetica,sans-Serif\" font-size=\"14.00\" fill=\"#000000\">value = [1, 0, 0]</text>\n",
       "<text text-anchor=\"middle\" x=\"202.8774\" y=\"-1025.8\" font-family=\"Helvetica,sans-Serif\" font-size=\"14.00\" fill=\"#000000\">class = setosa</text>\n",
       "</g>\n",
       "<!-- 2&#45;&gt;3 -->\n",
       "<g id=\"edge3\" class=\"edge\">\n",
       "<title>2&#45;&gt;3</title>\n",
       "<path fill=\"none\" stroke=\"#000000\" d=\"M308.4704,-1125.7677C291.7394,-1113.9209 273.4016,-1100.9364 256.7709,-1089.1606\"/>\n",
       "<polygon fill=\"#000000\" stroke=\"#000000\" points=\"258.4311,-1086.0476 248.2472,-1083.1252 254.3859,-1091.7604 258.4311,-1086.0476\"/>\n",
       "</g>\n",
       "<!-- 4 -->\n",
       "<g id=\"node5\" class=\"node\">\n",
       "<title>4</title>\n",
       "<path fill=\"#7beeab\" stroke=\"#000000\" d=\"M439.1354,-1090C439.1354,-1090 288.6195,-1090 288.6195,-1090 282.6195,-1090 276.6195,-1084 276.6195,-1078 276.6195,-1078 276.6195,-1024 276.6195,-1024 276.6195,-1018 282.6195,-1012 288.6195,-1012 288.6195,-1012 439.1354,-1012 439.1354,-1012 445.1354,-1012 451.1354,-1018 451.1354,-1024 451.1354,-1024 451.1354,-1078 451.1354,-1078 451.1354,-1084 445.1354,-1090 439.1354,-1090\"/>\n",
       "<text text-anchor=\"middle\" x=\"363.8774\" y=\"-1074.8\" font-family=\"Helvetica,sans-Serif\" font-size=\"14.00\" fill=\"#000000\">sepal length (cm) &lt;= 4.95</text>\n",
       "<text text-anchor=\"middle\" x=\"363.8774\" y=\"-1060.8\" font-family=\"Helvetica,sans-Serif\" font-size=\"14.00\" fill=\"#000000\">gini = 0.375</text>\n",
       "<text text-anchor=\"middle\" x=\"363.8774\" y=\"-1046.8\" font-family=\"Helvetica,sans-Serif\" font-size=\"14.00\" fill=\"#000000\">samples = 4</text>\n",
       "<text text-anchor=\"middle\" x=\"363.8774\" y=\"-1032.8\" font-family=\"Helvetica,sans-Serif\" font-size=\"14.00\" fill=\"#000000\">value = [0, 3, 1]</text>\n",
       "<text text-anchor=\"middle\" x=\"363.8774\" y=\"-1018.8\" font-family=\"Helvetica,sans-Serif\" font-size=\"14.00\" fill=\"#000000\">class = versicolor</text>\n",
       "</g>\n",
       "<!-- 2&#45;&gt;4 -->\n",
       "<g id=\"edge4\" class=\"edge\">\n",
       "<title>2&#45;&gt;4</title>\n",
       "<path fill=\"none\" stroke=\"#000000\" d=\"M363.8774,-1125.7677C363.8774,-1117.6172 363.8774,-1108.9283 363.8774,-1100.4649\"/>\n",
       "<polygon fill=\"#000000\" stroke=\"#000000\" points=\"367.3775,-1100.3046 363.8774,-1090.3046 360.3775,-1100.3047 367.3775,-1100.3046\"/>\n",
       "</g>\n",
       "<!-- 5 -->\n",
       "<g id=\"node6\" class=\"node\">\n",
       "<title>5</title>\n",
       "<path fill=\"#ffffff\" stroke=\"#000000\" d=\"M271.6736,-976C271.6736,-976 126.0813,-976 126.0813,-976 120.0813,-976 114.0813,-970 114.0813,-964 114.0813,-964 114.0813,-910 114.0813,-910 114.0813,-904 120.0813,-898 126.0813,-898 126.0813,-898 271.6736,-898 271.6736,-898 277.6736,-898 283.6736,-904 283.6736,-910 283.6736,-910 283.6736,-964 283.6736,-964 283.6736,-970 277.6736,-976 271.6736,-976\"/>\n",
       "<text text-anchor=\"middle\" x=\"198.8774\" y=\"-960.8\" font-family=\"Helvetica,sans-Serif\" font-size=\"14.00\" fill=\"#000000\">sepal width (cm) &lt;= 2.45</text>\n",
       "<text text-anchor=\"middle\" x=\"198.8774\" y=\"-946.8\" font-family=\"Helvetica,sans-Serif\" font-size=\"14.00\" fill=\"#000000\">gini = 0.5</text>\n",
       "<text text-anchor=\"middle\" x=\"198.8774\" y=\"-932.8\" font-family=\"Helvetica,sans-Serif\" font-size=\"14.00\" fill=\"#000000\">samples = 2</text>\n",
       "<text text-anchor=\"middle\" x=\"198.8774\" y=\"-918.8\" font-family=\"Helvetica,sans-Serif\" font-size=\"14.00\" fill=\"#000000\">value = [0, 1, 1]</text>\n",
       "<text text-anchor=\"middle\" x=\"198.8774\" y=\"-904.8\" font-family=\"Helvetica,sans-Serif\" font-size=\"14.00\" fill=\"#000000\">class = versicolor</text>\n",
       "</g>\n",
       "<!-- 4&#45;&gt;5 -->\n",
       "<g id=\"edge5\" class=\"edge\">\n",
       "<title>4&#45;&gt;5</title>\n",
       "<path fill=\"none\" stroke=\"#000000\" d=\"M307.0938,-1011.7677C293.145,-1002.1303 278.1065,-991.7401 263.8066,-981.8601\"/>\n",
       "<polygon fill=\"#000000\" stroke=\"#000000\" points=\"265.703,-978.9163 255.4861,-976.1115 261.7239,-984.6754 265.703,-978.9163\"/>\n",
       "</g>\n",
       "<!-- 8 -->\n",
       "<g id=\"node9\" class=\"node\">\n",
       "<title>8</title>\n",
       "<path fill=\"#39e581\" stroke=\"#000000\" d=\"M413.6326,-969C413.6326,-969 314.1223,-969 314.1223,-969 308.1223,-969 302.1223,-963 302.1223,-957 302.1223,-957 302.1223,-917 302.1223,-917 302.1223,-911 308.1223,-905 314.1223,-905 314.1223,-905 413.6326,-905 413.6326,-905 419.6326,-905 425.6326,-911 425.6326,-917 425.6326,-917 425.6326,-957 425.6326,-957 425.6326,-963 419.6326,-969 413.6326,-969\"/>\n",
       "<text text-anchor=\"middle\" x=\"363.8774\" y=\"-953.8\" font-family=\"Helvetica,sans-Serif\" font-size=\"14.00\" fill=\"#000000\">gini = 0.0</text>\n",
       "<text text-anchor=\"middle\" x=\"363.8774\" y=\"-939.8\" font-family=\"Helvetica,sans-Serif\" font-size=\"14.00\" fill=\"#000000\">samples = 2</text>\n",
       "<text text-anchor=\"middle\" x=\"363.8774\" y=\"-925.8\" font-family=\"Helvetica,sans-Serif\" font-size=\"14.00\" fill=\"#000000\">value = [0, 2, 0]</text>\n",
       "<text text-anchor=\"middle\" x=\"363.8774\" y=\"-911.8\" font-family=\"Helvetica,sans-Serif\" font-size=\"14.00\" fill=\"#000000\">class = versicolor</text>\n",
       "</g>\n",
       "<!-- 4&#45;&gt;8 -->\n",
       "<g id=\"edge8\" class=\"edge\">\n",
       "<title>4&#45;&gt;8</title>\n",
       "<path fill=\"none\" stroke=\"#000000\" d=\"M363.8774,-1011.7677C363.8774,-1001.3338 363.8774,-990.0174 363.8774,-979.4215\"/>\n",
       "<polygon fill=\"#000000\" stroke=\"#000000\" points=\"367.3775,-979.1252 363.8774,-969.1252 360.3775,-979.1252 367.3775,-979.1252\"/>\n",
       "</g>\n",
       "<!-- 6 -->\n",
       "<g id=\"node7\" class=\"node\">\n",
       "<title>6</title>\n",
       "<path fill=\"#39e581\" stroke=\"#000000\" d=\"M111.6326,-855C111.6326,-855 12.1223,-855 12.1223,-855 6.1223,-855 .1223,-849 .1223,-843 .1223,-843 .1223,-803 .1223,-803 .1223,-797 6.1223,-791 12.1223,-791 12.1223,-791 111.6326,-791 111.6326,-791 117.6326,-791 123.6326,-797 123.6326,-803 123.6326,-803 123.6326,-843 123.6326,-843 123.6326,-849 117.6326,-855 111.6326,-855\"/>\n",
       "<text text-anchor=\"middle\" x=\"61.8774\" y=\"-839.8\" font-family=\"Helvetica,sans-Serif\" font-size=\"14.00\" fill=\"#000000\">gini = 0.0</text>\n",
       "<text text-anchor=\"middle\" x=\"61.8774\" y=\"-825.8\" font-family=\"Helvetica,sans-Serif\" font-size=\"14.00\" fill=\"#000000\">samples = 1</text>\n",
       "<text text-anchor=\"middle\" x=\"61.8774\" y=\"-811.8\" font-family=\"Helvetica,sans-Serif\" font-size=\"14.00\" fill=\"#000000\">value = [0, 1, 0]</text>\n",
       "<text text-anchor=\"middle\" x=\"61.8774\" y=\"-797.8\" font-family=\"Helvetica,sans-Serif\" font-size=\"14.00\" fill=\"#000000\">class = versicolor</text>\n",
       "</g>\n",
       "<!-- 5&#45;&gt;6 -->\n",
       "<g id=\"edge6\" class=\"edge\">\n",
       "<title>5&#45;&gt;6</title>\n",
       "<path fill=\"none\" stroke=\"#000000\" d=\"M151.7298,-897.7677C137.7541,-886.1383 122.4609,-873.4125 108.5175,-861.81\"/>\n",
       "<polygon fill=\"#000000\" stroke=\"#000000\" points=\"110.4096,-858.8312 100.484,-855.1252 105.9321,-864.2119 110.4096,-858.8312\"/>\n",
       "</g>\n",
       "<!-- 7 -->\n",
       "<g id=\"node8\" class=\"node\">\n",
       "<title>7</title>\n",
       "<path fill=\"#8139e5\" stroke=\"#000000\" d=\"M244.5807,-855C244.5807,-855 153.1741,-855 153.1741,-855 147.1741,-855 141.1741,-849 141.1741,-843 141.1741,-843 141.1741,-803 141.1741,-803 141.1741,-797 147.1741,-791 153.1741,-791 153.1741,-791 244.5807,-791 244.5807,-791 250.5807,-791 256.5807,-797 256.5807,-803 256.5807,-803 256.5807,-843 256.5807,-843 256.5807,-849 250.5807,-855 244.5807,-855\"/>\n",
       "<text text-anchor=\"middle\" x=\"198.8774\" y=\"-839.8\" font-family=\"Helvetica,sans-Serif\" font-size=\"14.00\" fill=\"#000000\">gini = 0.0</text>\n",
       "<text text-anchor=\"middle\" x=\"198.8774\" y=\"-825.8\" font-family=\"Helvetica,sans-Serif\" font-size=\"14.00\" fill=\"#000000\">samples = 1</text>\n",
       "<text text-anchor=\"middle\" x=\"198.8774\" y=\"-811.8\" font-family=\"Helvetica,sans-Serif\" font-size=\"14.00\" fill=\"#000000\">value = [0, 0, 1]</text>\n",
       "<text text-anchor=\"middle\" x=\"198.8774\" y=\"-797.8\" font-family=\"Helvetica,sans-Serif\" font-size=\"14.00\" fill=\"#000000\">class = virginica</text>\n",
       "</g>\n",
       "<!-- 5&#45;&gt;7 -->\n",
       "<g id=\"edge7\" class=\"edge\">\n",
       "<title>5&#45;&gt;7</title>\n",
       "<path fill=\"none\" stroke=\"#000000\" d=\"M198.8774,-897.7677C198.8774,-887.3338 198.8774,-876.0174 198.8774,-865.4215\"/>\n",
       "<polygon fill=\"#000000\" stroke=\"#000000\" points=\"202.3775,-865.1252 198.8774,-855.1252 195.3775,-865.1252 202.3775,-865.1252\"/>\n",
       "</g>\n",
       "<!-- 11 -->\n",
       "<g id=\"node12\" class=\"node\">\n",
       "<title>11</title>\n",
       "<path fill=\"#7beeab\" stroke=\"#000000\" d=\"M858.6736,-1204C858.6736,-1204 713.0813,-1204 713.0813,-1204 707.0813,-1204 701.0813,-1198 701.0813,-1192 701.0813,-1192 701.0813,-1138 701.0813,-1138 701.0813,-1132 707.0813,-1126 713.0813,-1126 713.0813,-1126 858.6736,-1126 858.6736,-1126 864.6736,-1126 870.6736,-1132 870.6736,-1138 870.6736,-1138 870.6736,-1192 870.6736,-1192 870.6736,-1198 864.6736,-1204 858.6736,-1204\"/>\n",
       "<text text-anchor=\"middle\" x=\"785.8774\" y=\"-1188.8\" font-family=\"Helvetica,sans-Serif\" font-size=\"14.00\" fill=\"#000000\">sepal width (cm) &lt;= 3.35</text>\n",
       "<text text-anchor=\"middle\" x=\"785.8774\" y=\"-1174.8\" font-family=\"Helvetica,sans-Serif\" font-size=\"14.00\" fill=\"#000000\">gini = 0.442</text>\n",
       "<text text-anchor=\"middle\" x=\"785.8774\" y=\"-1160.8\" font-family=\"Helvetica,sans-Serif\" font-size=\"14.00\" fill=\"#000000\">samples = 25</text>\n",
       "<text text-anchor=\"middle\" x=\"785.8774\" y=\"-1146.8\" font-family=\"Helvetica,sans-Serif\" font-size=\"14.00\" fill=\"#000000\">value = [3, 18, 4]</text>\n",
       "<text text-anchor=\"middle\" x=\"785.8774\" y=\"-1132.8\" font-family=\"Helvetica,sans-Serif\" font-size=\"14.00\" fill=\"#000000\">class = versicolor</text>\n",
       "</g>\n",
       "<!-- 10&#45;&gt;11 -->\n",
       "<g id=\"edge11\" class=\"edge\">\n",
       "<title>10&#45;&gt;11</title>\n",
       "<path fill=\"none\" stroke=\"#000000\" d=\"M785.8774,-1239.7677C785.8774,-1231.6172 785.8774,-1222.9283 785.8774,-1214.4649\"/>\n",
       "<polygon fill=\"#000000\" stroke=\"#000000\" points=\"789.3775,-1214.3046 785.8774,-1204.3046 782.3775,-1214.3047 789.3775,-1214.3046\"/>\n",
       "</g>\n",
       "<!-- 26 -->\n",
       "<g id=\"node27\" class=\"node\">\n",
       "<title>26</title>\n",
       "<path fill=\"#ae80ee\" stroke=\"#000000\" d=\"M1121.1354,-1204C1121.1354,-1204 970.6195,-1204 970.6195,-1204 964.6195,-1204 958.6195,-1198 958.6195,-1192 958.6195,-1192 958.6195,-1138 958.6195,-1138 958.6195,-1132 964.6195,-1126 970.6195,-1126 970.6195,-1126 1121.1354,-1126 1121.1354,-1126 1127.1354,-1126 1133.1354,-1132 1133.1354,-1138 1133.1354,-1138 1133.1354,-1192 1133.1354,-1192 1133.1354,-1198 1127.1354,-1204 1121.1354,-1204\"/>\n",
       "<text text-anchor=\"middle\" x=\"1045.8774\" y=\"-1188.8\" font-family=\"Helvetica,sans-Serif\" font-size=\"14.00\" fill=\"#000000\">sepal length (cm) &lt;= 7.05</text>\n",
       "<text text-anchor=\"middle\" x=\"1045.8774\" y=\"-1174.8\" font-family=\"Helvetica,sans-Serif\" font-size=\"14.00\" fill=\"#000000\">gini = 0.39</text>\n",
       "<text text-anchor=\"middle\" x=\"1045.8774\" y=\"-1160.8\" font-family=\"Helvetica,sans-Serif\" font-size=\"14.00\" fill=\"#000000\">samples = 49</text>\n",
       "<text text-anchor=\"middle\" x=\"1045.8774\" y=\"-1146.8\" font-family=\"Helvetica,sans-Serif\" font-size=\"14.00\" fill=\"#000000\">value = [0, 13, 36]</text>\n",
       "<text text-anchor=\"middle\" x=\"1045.8774\" y=\"-1132.8\" font-family=\"Helvetica,sans-Serif\" font-size=\"14.00\" fill=\"#000000\">class = virginica</text>\n",
       "</g>\n",
       "<!-- 10&#45;&gt;26 -->\n",
       "<g id=\"edge26\" class=\"edge\">\n",
       "<title>10&#45;&gt;26</title>\n",
       "<path fill=\"none\" stroke=\"#000000\" d=\"M873.177,-1240.7225C897.5082,-1230.0542 924.0844,-1218.4016 948.9345,-1207.5057\"/>\n",
       "<polygon fill=\"#000000\" stroke=\"#000000\" points=\"950.6129,-1210.5916 958.3658,-1203.3705 947.8019,-1204.1807 950.6129,-1210.5916\"/>\n",
       "</g>\n",
       "<!-- 12 -->\n",
       "<g id=\"node13\" class=\"node\">\n",
       "<title>12</title>\n",
       "<path fill=\"#65eb9d\" stroke=\"#000000\" d=\"M701.1354,-1090C701.1354,-1090 550.6195,-1090 550.6195,-1090 544.6195,-1090 538.6195,-1084 538.6195,-1078 538.6195,-1078 538.6195,-1024 538.6195,-1024 538.6195,-1018 544.6195,-1012 550.6195,-1012 550.6195,-1012 701.1354,-1012 701.1354,-1012 707.1354,-1012 713.1354,-1018 713.1354,-1024 713.1354,-1024 713.1354,-1078 713.1354,-1078 713.1354,-1084 707.1354,-1090 701.1354,-1090\"/>\n",
       "<text text-anchor=\"middle\" x=\"625.8774\" y=\"-1074.8\" font-family=\"Helvetica,sans-Serif\" font-size=\"14.00\" fill=\"#000000\">sepal length (cm) &lt;= 5.75</text>\n",
       "<text text-anchor=\"middle\" x=\"625.8774\" y=\"-1060.8\" font-family=\"Helvetica,sans-Serif\" font-size=\"14.00\" fill=\"#000000\">gini = 0.298</text>\n",
       "<text text-anchor=\"middle\" x=\"625.8774\" y=\"-1046.8\" font-family=\"Helvetica,sans-Serif\" font-size=\"14.00\" fill=\"#000000\">samples = 22</text>\n",
       "<text text-anchor=\"middle\" x=\"625.8774\" y=\"-1032.8\" font-family=\"Helvetica,sans-Serif\" font-size=\"14.00\" fill=\"#000000\">value = [0, 18, 4]</text>\n",
       "<text text-anchor=\"middle\" x=\"625.8774\" y=\"-1018.8\" font-family=\"Helvetica,sans-Serif\" font-size=\"14.00\" fill=\"#000000\">class = versicolor</text>\n",
       "</g>\n",
       "<!-- 11&#45;&gt;12 -->\n",
       "<g id=\"edge12\" class=\"edge\">\n",
       "<title>11&#45;&gt;12</title>\n",
       "<path fill=\"none\" stroke=\"#000000\" d=\"M730.8145,-1125.7677C717.4149,-1116.2204 702.9781,-1105.9342 689.228,-1096.1373\"/>\n",
       "<polygon fill=\"#000000\" stroke=\"#000000\" points=\"690.9459,-1093.0638 680.7707,-1090.1115 686.884,-1098.7647 690.9459,-1093.0638\"/>\n",
       "</g>\n",
       "<!-- 25 -->\n",
       "<g id=\"node26\" class=\"node\">\n",
       "<title>25</title>\n",
       "<path fill=\"#e58139\" stroke=\"#000000\" d=\"M830.9976,-1083C830.9976,-1083 742.7573,-1083 742.7573,-1083 736.7573,-1083 730.7573,-1077 730.7573,-1071 730.7573,-1071 730.7573,-1031 730.7573,-1031 730.7573,-1025 736.7573,-1019 742.7573,-1019 742.7573,-1019 830.9976,-1019 830.9976,-1019 836.9976,-1019 842.9976,-1025 842.9976,-1031 842.9976,-1031 842.9976,-1071 842.9976,-1071 842.9976,-1077 836.9976,-1083 830.9976,-1083\"/>\n",
       "<text text-anchor=\"middle\" x=\"786.8774\" y=\"-1067.8\" font-family=\"Helvetica,sans-Serif\" font-size=\"14.00\" fill=\"#000000\">gini = 0.0</text>\n",
       "<text text-anchor=\"middle\" x=\"786.8774\" y=\"-1053.8\" font-family=\"Helvetica,sans-Serif\" font-size=\"14.00\" fill=\"#000000\">samples = 3</text>\n",
       "<text text-anchor=\"middle\" x=\"786.8774\" y=\"-1039.8\" font-family=\"Helvetica,sans-Serif\" font-size=\"14.00\" fill=\"#000000\">value = [3, 0, 0]</text>\n",
       "<text text-anchor=\"middle\" x=\"786.8774\" y=\"-1025.8\" font-family=\"Helvetica,sans-Serif\" font-size=\"14.00\" fill=\"#000000\">class = setosa</text>\n",
       "</g>\n",
       "<!-- 11&#45;&gt;25 -->\n",
       "<g id=\"edge25\" class=\"edge\">\n",
       "<title>11&#45;&gt;25</title>\n",
       "<path fill=\"none\" stroke=\"#000000\" d=\"M786.2216,-1125.7677C786.3131,-1115.3338 786.4124,-1104.0174 786.5053,-1093.4215\"/>\n",
       "<polygon fill=\"#000000\" stroke=\"#000000\" points=\"790.0077,-1093.1555 786.5956,-1083.1252 783.008,-1093.0941 790.0077,-1093.1555\"/>\n",
       "</g>\n",
       "<!-- 13 -->\n",
       "<g id=\"node14\" class=\"node\">\n",
       "<title>13</title>\n",
       "<path fill=\"#48e78b\" stroke=\"#000000\" d=\"M601.6736,-976C601.6736,-976 456.0813,-976 456.0813,-976 450.0813,-976 444.0813,-970 444.0813,-964 444.0813,-964 444.0813,-910 444.0813,-910 444.0813,-904 450.0813,-898 456.0813,-898 456.0813,-898 601.6736,-898 601.6736,-898 607.6736,-898 613.6736,-904 613.6736,-910 613.6736,-910 613.6736,-964 613.6736,-964 613.6736,-970 607.6736,-976 601.6736,-976\"/>\n",
       "<text text-anchor=\"middle\" x=\"528.8774\" y=\"-960.8\" font-family=\"Helvetica,sans-Serif\" font-size=\"14.00\" fill=\"#000000\">sepal width (cm) &lt;= 2.55</text>\n",
       "<text text-anchor=\"middle\" x=\"528.8774\" y=\"-946.8\" font-family=\"Helvetica,sans-Serif\" font-size=\"14.00\" fill=\"#000000\">gini = 0.133</text>\n",
       "<text text-anchor=\"middle\" x=\"528.8774\" y=\"-932.8\" font-family=\"Helvetica,sans-Serif\" font-size=\"14.00\" fill=\"#000000\">samples = 14</text>\n",
       "<text text-anchor=\"middle\" x=\"528.8774\" y=\"-918.8\" font-family=\"Helvetica,sans-Serif\" font-size=\"14.00\" fill=\"#000000\">value = [0, 13, 1]</text>\n",
       "<text text-anchor=\"middle\" x=\"528.8774\" y=\"-904.8\" font-family=\"Helvetica,sans-Serif\" font-size=\"14.00\" fill=\"#000000\">class = versicolor</text>\n",
       "</g>\n",
       "<!-- 12&#45;&gt;13 -->\n",
       "<g id=\"edge13\" class=\"edge\">\n",
       "<title>12&#45;&gt;13</title>\n",
       "<path fill=\"none\" stroke=\"#000000\" d=\"M592.4955,-1011.7677C584.8746,-1002.8111 576.7004,-993.2043 568.8356,-983.9611\"/>\n",
       "<polygon fill=\"#000000\" stroke=\"#000000\" points=\"571.4669,-981.6526 562.3209,-976.3046 566.1356,-986.1889 571.4669,-981.6526\"/>\n",
       "</g>\n",
       "<!-- 18 -->\n",
       "<g id=\"node19\" class=\"node\">\n",
       "<title>18</title>\n",
       "<path fill=\"#b0f5cd\" stroke=\"#000000\" d=\"M788.6736,-976C788.6736,-976 643.0813,-976 643.0813,-976 637.0813,-976 631.0813,-970 631.0813,-964 631.0813,-964 631.0813,-910 631.0813,-910 631.0813,-904 637.0813,-898 643.0813,-898 643.0813,-898 788.6736,-898 788.6736,-898 794.6736,-898 800.6736,-904 800.6736,-910 800.6736,-910 800.6736,-964 800.6736,-964 800.6736,-970 794.6736,-976 788.6736,-976\"/>\n",
       "<text text-anchor=\"middle\" x=\"715.8774\" y=\"-960.8\" font-family=\"Helvetica,sans-Serif\" font-size=\"14.00\" fill=\"#000000\">sepal width (cm) &lt;= 2.65</text>\n",
       "<text text-anchor=\"middle\" x=\"715.8774\" y=\"-946.8\" font-family=\"Helvetica,sans-Serif\" font-size=\"14.00\" fill=\"#000000\">gini = 0.469</text>\n",
       "<text text-anchor=\"middle\" x=\"715.8774\" y=\"-932.8\" font-family=\"Helvetica,sans-Serif\" font-size=\"14.00\" fill=\"#000000\">samples = 8</text>\n",
       "<text text-anchor=\"middle\" x=\"715.8774\" y=\"-918.8\" font-family=\"Helvetica,sans-Serif\" font-size=\"14.00\" fill=\"#000000\">value = [0, 5, 3]</text>\n",
       "<text text-anchor=\"middle\" x=\"715.8774\" y=\"-904.8\" font-family=\"Helvetica,sans-Serif\" font-size=\"14.00\" fill=\"#000000\">class = versicolor</text>\n",
       "</g>\n",
       "<!-- 12&#45;&gt;18 -->\n",
       "<g id=\"edge18\" class=\"edge\">\n",
       "<title>12&#45;&gt;18</title>\n",
       "<path fill=\"none\" stroke=\"#000000\" d=\"M656.8503,-1011.7677C663.8506,-1002.9007 671.354,-993.3964 678.5839,-984.2385\"/>\n",
       "<polygon fill=\"#000000\" stroke=\"#000000\" points=\"681.3981,-986.3223 684.8475,-976.3046 675.9039,-981.9847 681.3981,-986.3223\"/>\n",
       "</g>\n",
       "<!-- 14 -->\n",
       "<g id=\"node15\" class=\"node\">\n",
       "<title>14</title>\n",
       "<path fill=\"#61ea9a\" stroke=\"#000000\" d=\"M437.1354,-862C437.1354,-862 286.6195,-862 286.6195,-862 280.6195,-862 274.6195,-856 274.6195,-850 274.6195,-850 274.6195,-796 274.6195,-796 274.6195,-790 280.6195,-784 286.6195,-784 286.6195,-784 437.1354,-784 437.1354,-784 443.1354,-784 449.1354,-790 449.1354,-796 449.1354,-796 449.1354,-850 449.1354,-850 449.1354,-856 443.1354,-862 437.1354,-862\"/>\n",
       "<text text-anchor=\"middle\" x=\"361.8774\" y=\"-846.8\" font-family=\"Helvetica,sans-Serif\" font-size=\"14.00\" fill=\"#000000\">sepal length (cm) &lt;= 5.65</text>\n",
       "<text text-anchor=\"middle\" x=\"361.8774\" y=\"-832.8\" font-family=\"Helvetica,sans-Serif\" font-size=\"14.00\" fill=\"#000000\">gini = 0.278</text>\n",
       "<text text-anchor=\"middle\" x=\"361.8774\" y=\"-818.8\" font-family=\"Helvetica,sans-Serif\" font-size=\"14.00\" fill=\"#000000\">samples = 6</text>\n",
       "<text text-anchor=\"middle\" x=\"361.8774\" y=\"-804.8\" font-family=\"Helvetica,sans-Serif\" font-size=\"14.00\" fill=\"#000000\">value = [0, 5, 1]</text>\n",
       "<text text-anchor=\"middle\" x=\"361.8774\" y=\"-790.8\" font-family=\"Helvetica,sans-Serif\" font-size=\"14.00\" fill=\"#000000\">class = versicolor</text>\n",
       "</g>\n",
       "<!-- 13&#45;&gt;14 -->\n",
       "<g id=\"edge14\" class=\"edge\">\n",
       "<title>13&#45;&gt;14</title>\n",
       "<path fill=\"none\" stroke=\"#000000\" d=\"M471.4055,-897.7677C457.2877,-888.1303 442.0669,-877.7401 427.5936,-867.8601\"/>\n",
       "<polygon fill=\"#000000\" stroke=\"#000000\" points=\"429.4047,-864.8588 419.1723,-862.1115 425.4581,-870.6402 429.4047,-864.8588\"/>\n",
       "</g>\n",
       "<!-- 17 -->\n",
       "<g id=\"node18\" class=\"node\">\n",
       "<title>17</title>\n",
       "<path fill=\"#39e581\" stroke=\"#000000\" d=\"M578.6326,-855C578.6326,-855 479.1223,-855 479.1223,-855 473.1223,-855 467.1223,-849 467.1223,-843 467.1223,-843 467.1223,-803 467.1223,-803 467.1223,-797 473.1223,-791 479.1223,-791 479.1223,-791 578.6326,-791 578.6326,-791 584.6326,-791 590.6326,-797 590.6326,-803 590.6326,-803 590.6326,-843 590.6326,-843 590.6326,-849 584.6326,-855 578.6326,-855\"/>\n",
       "<text text-anchor=\"middle\" x=\"528.8774\" y=\"-839.8\" font-family=\"Helvetica,sans-Serif\" font-size=\"14.00\" fill=\"#000000\">gini = 0.0</text>\n",
       "<text text-anchor=\"middle\" x=\"528.8774\" y=\"-825.8\" font-family=\"Helvetica,sans-Serif\" font-size=\"14.00\" fill=\"#000000\">samples = 8</text>\n",
       "<text text-anchor=\"middle\" x=\"528.8774\" y=\"-811.8\" font-family=\"Helvetica,sans-Serif\" font-size=\"14.00\" fill=\"#000000\">value = [0, 8, 0]</text>\n",
       "<text text-anchor=\"middle\" x=\"528.8774\" y=\"-797.8\" font-family=\"Helvetica,sans-Serif\" font-size=\"14.00\" fill=\"#000000\">class = versicolor</text>\n",
       "</g>\n",
       "<!-- 13&#45;&gt;17 -->\n",
       "<g id=\"edge17\" class=\"edge\">\n",
       "<title>13&#45;&gt;17</title>\n",
       "<path fill=\"none\" stroke=\"#000000\" d=\"M528.8774,-897.7677C528.8774,-887.3338 528.8774,-876.0174 528.8774,-865.4215\"/>\n",
       "<polygon fill=\"#000000\" stroke=\"#000000\" points=\"532.3775,-865.1252 528.8774,-855.1252 525.3775,-865.1252 532.3775,-865.1252\"/>\n",
       "</g>\n",
       "<!-- 15 -->\n",
       "<g id=\"node16\" class=\"node\">\n",
       "<title>15</title>\n",
       "<path fill=\"#39e581\" stroke=\"#000000\" d=\"M343.6326,-741C343.6326,-741 244.1223,-741 244.1223,-741 238.1223,-741 232.1223,-735 232.1223,-729 232.1223,-729 232.1223,-689 232.1223,-689 232.1223,-683 238.1223,-677 244.1223,-677 244.1223,-677 343.6326,-677 343.6326,-677 349.6326,-677 355.6326,-683 355.6326,-689 355.6326,-689 355.6326,-729 355.6326,-729 355.6326,-735 349.6326,-741 343.6326,-741\"/>\n",
       "<text text-anchor=\"middle\" x=\"293.8774\" y=\"-725.8\" font-family=\"Helvetica,sans-Serif\" font-size=\"14.00\" fill=\"#000000\">gini = 0.0</text>\n",
       "<text text-anchor=\"middle\" x=\"293.8774\" y=\"-711.8\" font-family=\"Helvetica,sans-Serif\" font-size=\"14.00\" fill=\"#000000\">samples = 5</text>\n",
       "<text text-anchor=\"middle\" x=\"293.8774\" y=\"-697.8\" font-family=\"Helvetica,sans-Serif\" font-size=\"14.00\" fill=\"#000000\">value = [0, 5, 0]</text>\n",
       "<text text-anchor=\"middle\" x=\"293.8774\" y=\"-683.8\" font-family=\"Helvetica,sans-Serif\" font-size=\"14.00\" fill=\"#000000\">class = versicolor</text>\n",
       "</g>\n",
       "<!-- 14&#45;&gt;15 -->\n",
       "<g id=\"edge15\" class=\"edge\">\n",
       "<title>14&#45;&gt;15</title>\n",
       "<path fill=\"none\" stroke=\"#000000\" d=\"M338.4757,-783.7677C331.9278,-772.7904 324.7973,-760.8362 318.1976,-749.772\"/>\n",
       "<polygon fill=\"#000000\" stroke=\"#000000\" points=\"321.1685,-747.9204 313.0398,-741.1252 315.1568,-751.5064 321.1685,-747.9204\"/>\n",
       "</g>\n",
       "<!-- 16 -->\n",
       "<g id=\"node17\" class=\"node\">\n",
       "<title>16</title>\n",
       "<path fill=\"#8139e5\" stroke=\"#000000\" d=\"M476.5807,-741C476.5807,-741 385.1741,-741 385.1741,-741 379.1741,-741 373.1741,-735 373.1741,-729 373.1741,-729 373.1741,-689 373.1741,-689 373.1741,-683 379.1741,-677 385.1741,-677 385.1741,-677 476.5807,-677 476.5807,-677 482.5807,-677 488.5807,-683 488.5807,-689 488.5807,-689 488.5807,-729 488.5807,-729 488.5807,-735 482.5807,-741 476.5807,-741\"/>\n",
       "<text text-anchor=\"middle\" x=\"430.8774\" y=\"-725.8\" font-family=\"Helvetica,sans-Serif\" font-size=\"14.00\" fill=\"#000000\">gini = 0.0</text>\n",
       "<text text-anchor=\"middle\" x=\"430.8774\" y=\"-711.8\" font-family=\"Helvetica,sans-Serif\" font-size=\"14.00\" fill=\"#000000\">samples = 1</text>\n",
       "<text text-anchor=\"middle\" x=\"430.8774\" y=\"-697.8\" font-family=\"Helvetica,sans-Serif\" font-size=\"14.00\" fill=\"#000000\">value = [0, 0, 1]</text>\n",
       "<text text-anchor=\"middle\" x=\"430.8774\" y=\"-683.8\" font-family=\"Helvetica,sans-Serif\" font-size=\"14.00\" fill=\"#000000\">class = virginica</text>\n",
       "</g>\n",
       "<!-- 14&#45;&gt;16 -->\n",
       "<g id=\"edge16\" class=\"edge\">\n",
       "<title>14&#45;&gt;16</title>\n",
       "<path fill=\"none\" stroke=\"#000000\" d=\"M385.6233,-783.7677C392.2675,-772.7904 399.5029,-760.8362 406.1996,-749.772\"/>\n",
       "<polygon fill=\"#000000\" stroke=\"#000000\" points=\"409.2494,-751.4925 411.4332,-741.1252 403.2609,-747.8679 409.2494,-751.4925\"/>\n",
       "</g>\n",
       "<!-- 19 -->\n",
       "<g id=\"node20\" class=\"node\">\n",
       "<title>19</title>\n",
       "<path fill=\"#39e581\" stroke=\"#000000\" d=\"M720.6326,-855C720.6326,-855 621.1223,-855 621.1223,-855 615.1223,-855 609.1223,-849 609.1223,-843 609.1223,-843 609.1223,-803 609.1223,-803 609.1223,-797 615.1223,-791 621.1223,-791 621.1223,-791 720.6326,-791 720.6326,-791 726.6326,-791 732.6326,-797 732.6326,-803 732.6326,-803 732.6326,-843 732.6326,-843 732.6326,-849 726.6326,-855 720.6326,-855\"/>\n",
       "<text text-anchor=\"middle\" x=\"670.8774\" y=\"-839.8\" font-family=\"Helvetica,sans-Serif\" font-size=\"14.00\" fill=\"#000000\">gini = 0.0</text>\n",
       "<text text-anchor=\"middle\" x=\"670.8774\" y=\"-825.8\" font-family=\"Helvetica,sans-Serif\" font-size=\"14.00\" fill=\"#000000\">samples = 1</text>\n",
       "<text text-anchor=\"middle\" x=\"670.8774\" y=\"-811.8\" font-family=\"Helvetica,sans-Serif\" font-size=\"14.00\" fill=\"#000000\">value = [0, 1, 0]</text>\n",
       "<text text-anchor=\"middle\" x=\"670.8774\" y=\"-797.8\" font-family=\"Helvetica,sans-Serif\" font-size=\"14.00\" fill=\"#000000\">class = versicolor</text>\n",
       "</g>\n",
       "<!-- 18&#45;&gt;19 -->\n",
       "<g id=\"edge19\" class=\"edge\">\n",
       "<title>18&#45;&gt;19</title>\n",
       "<path fill=\"none\" stroke=\"#000000\" d=\"M700.391,-897.7677C696.1437,-887.0078 691.5258,-875.3093 687.2315,-864.4303\"/>\n",
       "<polygon fill=\"#000000\" stroke=\"#000000\" points=\"690.4857,-863.1417 683.5584,-855.1252 683.9746,-865.7119 690.4857,-863.1417\"/>\n",
       "</g>\n",
       "<!-- 20 -->\n",
       "<g id=\"node21\" class=\"node\">\n",
       "<title>20</title>\n",
       "<path fill=\"#cef8e0\" stroke=\"#000000\" d=\"M900.3879,-862C900.3879,-862 763.3669,-862 763.3669,-862 757.3669,-862 751.3669,-856 751.3669,-850 751.3669,-850 751.3669,-796 751.3669,-796 751.3669,-790 757.3669,-784 763.3669,-784 763.3669,-784 900.3879,-784 900.3879,-784 906.3879,-784 912.3879,-790 912.3879,-796 912.3879,-796 912.3879,-850 912.3879,-850 912.3879,-856 906.3879,-862 900.3879,-862\"/>\n",
       "<text text-anchor=\"middle\" x=\"831.8774\" y=\"-846.8\" font-family=\"Helvetica,sans-Serif\" font-size=\"14.00\" fill=\"#000000\">sepal width (cm) &lt;= 3.1</text>\n",
       "<text text-anchor=\"middle\" x=\"831.8774\" y=\"-832.8\" font-family=\"Helvetica,sans-Serif\" font-size=\"14.00\" fill=\"#000000\">gini = 0.49</text>\n",
       "<text text-anchor=\"middle\" x=\"831.8774\" y=\"-818.8\" font-family=\"Helvetica,sans-Serif\" font-size=\"14.00\" fill=\"#000000\">samples = 7</text>\n",
       "<text text-anchor=\"middle\" x=\"831.8774\" y=\"-804.8\" font-family=\"Helvetica,sans-Serif\" font-size=\"14.00\" fill=\"#000000\">value = [0, 4, 3]</text>\n",
       "<text text-anchor=\"middle\" x=\"831.8774\" y=\"-790.8\" font-family=\"Helvetica,sans-Serif\" font-size=\"14.00\" fill=\"#000000\">class = versicolor</text>\n",
       "</g>\n",
       "<!-- 18&#45;&gt;20 -->\n",
       "<g id=\"edge20\" class=\"edge\">\n",
       "<title>18&#45;&gt;20</title>\n",
       "<path fill=\"none\" stroke=\"#000000\" d=\"M755.7981,-897.7677C765.094,-888.632 775.0784,-878.8198 784.6563,-869.407\"/>\n",
       "<polygon fill=\"#000000\" stroke=\"#000000\" points=\"787.2042,-871.8103 791.8832,-862.3046 782.2977,-866.8177 787.2042,-871.8103\"/>\n",
       "</g>\n",
       "<!-- 21 -->\n",
       "<g id=\"node22\" class=\"node\">\n",
       "<title>21</title>\n",
       "<path fill=\"#ffffff\" stroke=\"#000000\" d=\"M740.1354,-748C740.1354,-748 589.6195,-748 589.6195,-748 583.6195,-748 577.6195,-742 577.6195,-736 577.6195,-736 577.6195,-682 577.6195,-682 577.6195,-676 583.6195,-670 589.6195,-670 589.6195,-670 740.1354,-670 740.1354,-670 746.1354,-670 752.1354,-676 752.1354,-682 752.1354,-682 752.1354,-736 752.1354,-736 752.1354,-742 746.1354,-748 740.1354,-748\"/>\n",
       "<text text-anchor=\"middle\" x=\"664.8774\" y=\"-732.8\" font-family=\"Helvetica,sans-Serif\" font-size=\"14.00\" fill=\"#000000\">sepal length (cm) &lt;= 5.85</text>\n",
       "<text text-anchor=\"middle\" x=\"664.8774\" y=\"-718.8\" font-family=\"Helvetica,sans-Serif\" font-size=\"14.00\" fill=\"#000000\">gini = 0.5</text>\n",
       "<text text-anchor=\"middle\" x=\"664.8774\" y=\"-704.8\" font-family=\"Helvetica,sans-Serif\" font-size=\"14.00\" fill=\"#000000\">samples = 6</text>\n",
       "<text text-anchor=\"middle\" x=\"664.8774\" y=\"-690.8\" font-family=\"Helvetica,sans-Serif\" font-size=\"14.00\" fill=\"#000000\">value = [0, 3, 3]</text>\n",
       "<text text-anchor=\"middle\" x=\"664.8774\" y=\"-676.8\" font-family=\"Helvetica,sans-Serif\" font-size=\"14.00\" fill=\"#000000\">class = versicolor</text>\n",
       "</g>\n",
       "<!-- 20&#45;&gt;21 -->\n",
       "<g id=\"edge21\" class=\"edge\">\n",
       "<title>20&#45;&gt;21</title>\n",
       "<path fill=\"none\" stroke=\"#000000\" d=\"M774.4055,-783.7677C760.2877,-774.1303 745.0669,-763.7401 730.5936,-753.8601\"/>\n",
       "<polygon fill=\"#000000\" stroke=\"#000000\" points=\"732.4047,-750.8588 722.1723,-748.1115 728.4581,-756.6402 732.4047,-750.8588\"/>\n",
       "</g>\n",
       "<!-- 24 -->\n",
       "<g id=\"node25\" class=\"node\">\n",
       "<title>24</title>\n",
       "<path fill=\"#39e581\" stroke=\"#000000\" d=\"M881.6326,-741C881.6326,-741 782.1223,-741 782.1223,-741 776.1223,-741 770.1223,-735 770.1223,-729 770.1223,-729 770.1223,-689 770.1223,-689 770.1223,-683 776.1223,-677 782.1223,-677 782.1223,-677 881.6326,-677 881.6326,-677 887.6326,-677 893.6326,-683 893.6326,-689 893.6326,-689 893.6326,-729 893.6326,-729 893.6326,-735 887.6326,-741 881.6326,-741\"/>\n",
       "<text text-anchor=\"middle\" x=\"831.8774\" y=\"-725.8\" font-family=\"Helvetica,sans-Serif\" font-size=\"14.00\" fill=\"#000000\">gini = 0.0</text>\n",
       "<text text-anchor=\"middle\" x=\"831.8774\" y=\"-711.8\" font-family=\"Helvetica,sans-Serif\" font-size=\"14.00\" fill=\"#000000\">samples = 1</text>\n",
       "<text text-anchor=\"middle\" x=\"831.8774\" y=\"-697.8\" font-family=\"Helvetica,sans-Serif\" font-size=\"14.00\" fill=\"#000000\">value = [0, 1, 0]</text>\n",
       "<text text-anchor=\"middle\" x=\"831.8774\" y=\"-683.8\" font-family=\"Helvetica,sans-Serif\" font-size=\"14.00\" fill=\"#000000\">class = versicolor</text>\n",
       "</g>\n",
       "<!-- 20&#45;&gt;24 -->\n",
       "<g id=\"edge24\" class=\"edge\">\n",
       "<title>20&#45;&gt;24</title>\n",
       "<path fill=\"none\" stroke=\"#000000\" d=\"M831.8774,-783.7677C831.8774,-773.3338 831.8774,-762.0174 831.8774,-751.4215\"/>\n",
       "<polygon fill=\"#000000\" stroke=\"#000000\" points=\"835.3775,-751.1252 831.8774,-741.1252 828.3775,-751.1252 835.3775,-751.1252\"/>\n",
       "</g>\n",
       "<!-- 22 -->\n",
       "<g id=\"node23\" class=\"node\">\n",
       "<title>22</title>\n",
       "<path fill=\"#ffffff\" stroke=\"#000000\" d=\"M643.6326,-627C643.6326,-627 544.1223,-627 544.1223,-627 538.1223,-627 532.1223,-621 532.1223,-615 532.1223,-615 532.1223,-575 532.1223,-575 532.1223,-569 538.1223,-563 544.1223,-563 544.1223,-563 643.6326,-563 643.6326,-563 649.6326,-563 655.6326,-569 655.6326,-575 655.6326,-575 655.6326,-615 655.6326,-615 655.6326,-621 649.6326,-627 643.6326,-627\"/>\n",
       "<text text-anchor=\"middle\" x=\"593.8774\" y=\"-611.8\" font-family=\"Helvetica,sans-Serif\" font-size=\"14.00\" fill=\"#000000\">gini = 0.5</text>\n",
       "<text text-anchor=\"middle\" x=\"593.8774\" y=\"-597.8\" font-family=\"Helvetica,sans-Serif\" font-size=\"14.00\" fill=\"#000000\">samples = 4</text>\n",
       "<text text-anchor=\"middle\" x=\"593.8774\" y=\"-583.8\" font-family=\"Helvetica,sans-Serif\" font-size=\"14.00\" fill=\"#000000\">value = [0, 2, 2]</text>\n",
       "<text text-anchor=\"middle\" x=\"593.8774\" y=\"-569.8\" font-family=\"Helvetica,sans-Serif\" font-size=\"14.00\" fill=\"#000000\">class = versicolor</text>\n",
       "</g>\n",
       "<!-- 21&#45;&gt;22 -->\n",
       "<g id=\"edge22\" class=\"edge\">\n",
       "<title>21&#45;&gt;22</title>\n",
       "<path fill=\"none\" stroke=\"#000000\" d=\"M640.4433,-669.7677C633.6065,-658.7904 626.1614,-646.8362 619.2705,-635.772\"/>\n",
       "<polygon fill=\"#000000\" stroke=\"#000000\" points=\"622.1428,-633.7632 613.8852,-627.1252 616.201,-637.4639 622.1428,-633.7632\"/>\n",
       "</g>\n",
       "<!-- 23 -->\n",
       "<g id=\"node24\" class=\"node\">\n",
       "<title>23</title>\n",
       "<path fill=\"#ffffff\" stroke=\"#000000\" d=\"M785.6326,-627C785.6326,-627 686.1223,-627 686.1223,-627 680.1223,-627 674.1223,-621 674.1223,-615 674.1223,-615 674.1223,-575 674.1223,-575 674.1223,-569 680.1223,-563 686.1223,-563 686.1223,-563 785.6326,-563 785.6326,-563 791.6326,-563 797.6326,-569 797.6326,-575 797.6326,-575 797.6326,-615 797.6326,-615 797.6326,-621 791.6326,-627 785.6326,-627\"/>\n",
       "<text text-anchor=\"middle\" x=\"735.8774\" y=\"-611.8\" font-family=\"Helvetica,sans-Serif\" font-size=\"14.00\" fill=\"#000000\">gini = 0.5</text>\n",
       "<text text-anchor=\"middle\" x=\"735.8774\" y=\"-597.8\" font-family=\"Helvetica,sans-Serif\" font-size=\"14.00\" fill=\"#000000\">samples = 2</text>\n",
       "<text text-anchor=\"middle\" x=\"735.8774\" y=\"-583.8\" font-family=\"Helvetica,sans-Serif\" font-size=\"14.00\" fill=\"#000000\">value = [0, 1, 1]</text>\n",
       "<text text-anchor=\"middle\" x=\"735.8774\" y=\"-569.8\" font-family=\"Helvetica,sans-Serif\" font-size=\"14.00\" fill=\"#000000\">class = versicolor</text>\n",
       "</g>\n",
       "<!-- 21&#45;&gt;23 -->\n",
       "<g id=\"edge23\" class=\"edge\">\n",
       "<title>21&#45;&gt;23</title>\n",
       "<path fill=\"none\" stroke=\"#000000\" d=\"M689.3116,-669.7677C696.1483,-658.7904 703.5935,-646.8362 710.4843,-635.772\"/>\n",
       "<polygon fill=\"#000000\" stroke=\"#000000\" points=\"713.5539,-637.4639 715.8696,-627.1252 707.6121,-633.7632 713.5539,-637.4639\"/>\n",
       "</g>\n",
       "<!-- 27 -->\n",
       "<g id=\"node28\" class=\"node\">\n",
       "<title>27</title>\n",
       "<path fill=\"#c3a0f3\" stroke=\"#000000\" d=\"M1121.1354,-1090C1121.1354,-1090 970.6195,-1090 970.6195,-1090 964.6195,-1090 958.6195,-1084 958.6195,-1078 958.6195,-1078 958.6195,-1024 958.6195,-1024 958.6195,-1018 964.6195,-1012 970.6195,-1012 970.6195,-1012 1121.1354,-1012 1121.1354,-1012 1127.1354,-1012 1133.1354,-1018 1133.1354,-1024 1133.1354,-1024 1133.1354,-1078 1133.1354,-1078 1133.1354,-1084 1127.1354,-1090 1121.1354,-1090\"/>\n",
       "<text text-anchor=\"middle\" x=\"1045.8774\" y=\"-1074.8\" font-family=\"Helvetica,sans-Serif\" font-size=\"14.00\" fill=\"#000000\">sepal length (cm) &lt;= 6.95</text>\n",
       "<text text-anchor=\"middle\" x=\"1045.8774\" y=\"-1060.8\" font-family=\"Helvetica,sans-Serif\" font-size=\"14.00\" fill=\"#000000\">gini = 0.45</text>\n",
       "<text text-anchor=\"middle\" x=\"1045.8774\" y=\"-1046.8\" font-family=\"Helvetica,sans-Serif\" font-size=\"14.00\" fill=\"#000000\">samples = 38</text>\n",
       "<text text-anchor=\"middle\" x=\"1045.8774\" y=\"-1032.8\" font-family=\"Helvetica,sans-Serif\" font-size=\"14.00\" fill=\"#000000\">value = [0, 13, 25]</text>\n",
       "<text text-anchor=\"middle\" x=\"1045.8774\" y=\"-1018.8\" font-family=\"Helvetica,sans-Serif\" font-size=\"14.00\" fill=\"#000000\">class = virginica</text>\n",
       "</g>\n",
       "<!-- 26&#45;&gt;27 -->\n",
       "<g id=\"edge27\" class=\"edge\">\n",
       "<title>26&#45;&gt;27</title>\n",
       "<path fill=\"none\" stroke=\"#000000\" d=\"M1045.8774,-1125.7677C1045.8774,-1117.6172 1045.8774,-1108.9283 1045.8774,-1100.4649\"/>\n",
       "<polygon fill=\"#000000\" stroke=\"#000000\" points=\"1049.3775,-1100.3046 1045.8774,-1090.3046 1042.3775,-1100.3047 1049.3775,-1100.3046\"/>\n",
       "</g>\n",
       "<!-- 66 -->\n",
       "<g id=\"node67\" class=\"node\">\n",
       "<title>66</title>\n",
       "<path fill=\"#8139e5\" stroke=\"#000000\" d=\"M1258.2515,-1083C1258.2515,-1083 1163.5034,-1083 1163.5034,-1083 1157.5034,-1083 1151.5034,-1077 1151.5034,-1071 1151.5034,-1071 1151.5034,-1031 1151.5034,-1031 1151.5034,-1025 1157.5034,-1019 1163.5034,-1019 1163.5034,-1019 1258.2515,-1019 1258.2515,-1019 1264.2515,-1019 1270.2515,-1025 1270.2515,-1031 1270.2515,-1031 1270.2515,-1071 1270.2515,-1071 1270.2515,-1077 1264.2515,-1083 1258.2515,-1083\"/>\n",
       "<text text-anchor=\"middle\" x=\"1210.8774\" y=\"-1067.8\" font-family=\"Helvetica,sans-Serif\" font-size=\"14.00\" fill=\"#000000\">gini = 0.0</text>\n",
       "<text text-anchor=\"middle\" x=\"1210.8774\" y=\"-1053.8\" font-family=\"Helvetica,sans-Serif\" font-size=\"14.00\" fill=\"#000000\">samples = 11</text>\n",
       "<text text-anchor=\"middle\" x=\"1210.8774\" y=\"-1039.8\" font-family=\"Helvetica,sans-Serif\" font-size=\"14.00\" fill=\"#000000\">value = [0, 0, 11]</text>\n",
       "<text text-anchor=\"middle\" x=\"1210.8774\" y=\"-1025.8\" font-family=\"Helvetica,sans-Serif\" font-size=\"14.00\" fill=\"#000000\">class = virginica</text>\n",
       "</g>\n",
       "<!-- 26&#45;&gt;66 -->\n",
       "<g id=\"edge66\" class=\"edge\">\n",
       "<title>26&#45;&gt;66</title>\n",
       "<path fill=\"none\" stroke=\"#000000\" d=\"M1102.6611,-1125.7677C1119.965,-1113.8122 1138.9461,-1100.698 1156.1137,-1088.8368\"/>\n",
       "<polygon fill=\"#000000\" stroke=\"#000000\" points=\"1158.1426,-1091.6891 1164.3804,-1083.1252 1154.1636,-1085.93 1158.1426,-1091.6891\"/>\n",
       "</g>\n",
       "<!-- 28 -->\n",
       "<g id=\"node29\" class=\"node\">\n",
       "<title>28</title>\n",
       "<path fill=\"#bd98f1\" stroke=\"#000000\" d=\"M1114.3879,-976C1114.3879,-976 977.3669,-976 977.3669,-976 971.3669,-976 965.3669,-970 965.3669,-964 965.3669,-964 965.3669,-910 965.3669,-910 965.3669,-904 971.3669,-898 977.3669,-898 977.3669,-898 1114.3879,-898 1114.3879,-898 1120.3879,-898 1126.3879,-904 1126.3879,-910 1126.3879,-910 1126.3879,-964 1126.3879,-964 1126.3879,-970 1120.3879,-976 1114.3879,-976\"/>\n",
       "<text text-anchor=\"middle\" x=\"1045.8774\" y=\"-960.8\" font-family=\"Helvetica,sans-Serif\" font-size=\"14.00\" fill=\"#000000\">sepal width (cm) &lt;= 2.4</text>\n",
       "<text text-anchor=\"middle\" x=\"1045.8774\" y=\"-946.8\" font-family=\"Helvetica,sans-Serif\" font-size=\"14.00\" fill=\"#000000\">gini = 0.438</text>\n",
       "<text text-anchor=\"middle\" x=\"1045.8774\" y=\"-932.8\" font-family=\"Helvetica,sans-Serif\" font-size=\"14.00\" fill=\"#000000\">samples = 37</text>\n",
       "<text text-anchor=\"middle\" x=\"1045.8774\" y=\"-918.8\" font-family=\"Helvetica,sans-Serif\" font-size=\"14.00\" fill=\"#000000\">value = [0, 12, 25]</text>\n",
       "<text text-anchor=\"middle\" x=\"1045.8774\" y=\"-904.8\" font-family=\"Helvetica,sans-Serif\" font-size=\"14.00\" fill=\"#000000\">class = virginica</text>\n",
       "</g>\n",
       "<!-- 27&#45;&gt;28 -->\n",
       "<g id=\"edge28\" class=\"edge\">\n",
       "<title>27&#45;&gt;28</title>\n",
       "<path fill=\"none\" stroke=\"#000000\" d=\"M1045.8774,-1011.7677C1045.8774,-1003.6172 1045.8774,-994.9283 1045.8774,-986.4649\"/>\n",
       "<polygon fill=\"#000000\" stroke=\"#000000\" points=\"1049.3775,-986.3046 1045.8774,-976.3046 1042.3775,-986.3047 1049.3775,-986.3046\"/>\n",
       "</g>\n",
       "<!-- 65 -->\n",
       "<g id=\"node66\" class=\"node\">\n",
       "<title>65</title>\n",
       "<path fill=\"#39e581\" stroke=\"#000000\" d=\"M1256.6326,-969C1256.6326,-969 1157.1223,-969 1157.1223,-969 1151.1223,-969 1145.1223,-963 1145.1223,-957 1145.1223,-957 1145.1223,-917 1145.1223,-917 1145.1223,-911 1151.1223,-905 1157.1223,-905 1157.1223,-905 1256.6326,-905 1256.6326,-905 1262.6326,-905 1268.6326,-911 1268.6326,-917 1268.6326,-917 1268.6326,-957 1268.6326,-957 1268.6326,-963 1262.6326,-969 1256.6326,-969\"/>\n",
       "<text text-anchor=\"middle\" x=\"1206.8774\" y=\"-953.8\" font-family=\"Helvetica,sans-Serif\" font-size=\"14.00\" fill=\"#000000\">gini = 0.0</text>\n",
       "<text text-anchor=\"middle\" x=\"1206.8774\" y=\"-939.8\" font-family=\"Helvetica,sans-Serif\" font-size=\"14.00\" fill=\"#000000\">samples = 1</text>\n",
       "<text text-anchor=\"middle\" x=\"1206.8774\" y=\"-925.8\" font-family=\"Helvetica,sans-Serif\" font-size=\"14.00\" fill=\"#000000\">value = [0, 1, 0]</text>\n",
       "<text text-anchor=\"middle\" x=\"1206.8774\" y=\"-911.8\" font-family=\"Helvetica,sans-Serif\" font-size=\"14.00\" fill=\"#000000\">class = versicolor</text>\n",
       "</g>\n",
       "<!-- 27&#45;&gt;65 -->\n",
       "<g id=\"edge65\" class=\"edge\">\n",
       "<title>27&#45;&gt;65</title>\n",
       "<path fill=\"none\" stroke=\"#000000\" d=\"M1101.2845,-1011.7677C1118.0155,-999.9209 1136.3533,-986.9364 1152.984,-975.1606\"/>\n",
       "<polygon fill=\"#000000\" stroke=\"#000000\" points=\"1155.369,-977.7604 1161.5076,-969.1252 1151.3238,-972.0476 1155.369,-977.7604\"/>\n",
       "</g>\n",
       "<!-- 29 -->\n",
       "<g id=\"node30\" class=\"node\">\n",
       "<title>29</title>\n",
       "<path fill=\"#9cf2c0\" stroke=\"#000000\" d=\"M1117.3491,-862C1117.3491,-862 974.4058,-862 974.4058,-862 968.4058,-862 962.4058,-856 962.4058,-850 962.4058,-850 962.4058,-796 962.4058,-796 962.4058,-790 968.4058,-784 974.4058,-784 974.4058,-784 1117.3491,-784 1117.3491,-784 1123.3491,-784 1129.3491,-790 1129.3491,-796 1129.3491,-796 1129.3491,-850 1129.3491,-850 1129.3491,-856 1123.3491,-862 1117.3491,-862\"/>\n",
       "<text text-anchor=\"middle\" x=\"1045.8774\" y=\"-846.8\" font-family=\"Helvetica,sans-Serif\" font-size=\"14.00\" fill=\"#000000\">sepal length (cm) &lt;= 6.1</text>\n",
       "<text text-anchor=\"middle\" x=\"1045.8774\" y=\"-832.8\" font-family=\"Helvetica,sans-Serif\" font-size=\"14.00\" fill=\"#000000\">gini = 0.444</text>\n",
       "<text text-anchor=\"middle\" x=\"1045.8774\" y=\"-818.8\" font-family=\"Helvetica,sans-Serif\" font-size=\"14.00\" fill=\"#000000\">samples = 3</text>\n",
       "<text text-anchor=\"middle\" x=\"1045.8774\" y=\"-804.8\" font-family=\"Helvetica,sans-Serif\" font-size=\"14.00\" fill=\"#000000\">value = [0, 2, 1]</text>\n",
       "<text text-anchor=\"middle\" x=\"1045.8774\" y=\"-790.8\" font-family=\"Helvetica,sans-Serif\" font-size=\"14.00\" fill=\"#000000\">class = versicolor</text>\n",
       "</g>\n",
       "<!-- 28&#45;&gt;29 -->\n",
       "<g id=\"edge29\" class=\"edge\">\n",
       "<title>28&#45;&gt;29</title>\n",
       "<path fill=\"none\" stroke=\"#000000\" d=\"M1045.8774,-897.7677C1045.8774,-889.6172 1045.8774,-880.9283 1045.8774,-872.4649\"/>\n",
       "<polygon fill=\"#000000\" stroke=\"#000000\" points=\"1049.3775,-872.3046 1045.8774,-862.3046 1042.3775,-872.3047 1049.3775,-872.3046\"/>\n",
       "</g>\n",
       "<!-- 32 -->\n",
       "<g id=\"node33\" class=\"node\">\n",
       "<title>32</title>\n",
       "<path fill=\"#b58bf0\" stroke=\"#000000\" d=\"M1342.1354,-862C1342.1354,-862 1191.6195,-862 1191.6195,-862 1185.6195,-862 1179.6195,-856 1179.6195,-850 1179.6195,-850 1179.6195,-796 1179.6195,-796 1179.6195,-790 1185.6195,-784 1191.6195,-784 1191.6195,-784 1342.1354,-784 1342.1354,-784 1348.1354,-784 1354.1354,-790 1354.1354,-796 1354.1354,-796 1354.1354,-850 1354.1354,-850 1354.1354,-856 1348.1354,-862 1342.1354,-862\"/>\n",
       "<text text-anchor=\"middle\" x=\"1266.8774\" y=\"-846.8\" font-family=\"Helvetica,sans-Serif\" font-size=\"14.00\" fill=\"#000000\">sepal length (cm) &lt;= 6.15</text>\n",
       "<text text-anchor=\"middle\" x=\"1266.8774\" y=\"-832.8\" font-family=\"Helvetica,sans-Serif\" font-size=\"14.00\" fill=\"#000000\">gini = 0.415</text>\n",
       "<text text-anchor=\"middle\" x=\"1266.8774\" y=\"-818.8\" font-family=\"Helvetica,sans-Serif\" font-size=\"14.00\" fill=\"#000000\">samples = 34</text>\n",
       "<text text-anchor=\"middle\" x=\"1266.8774\" y=\"-804.8\" font-family=\"Helvetica,sans-Serif\" font-size=\"14.00\" fill=\"#000000\">value = [0, 10, 24]</text>\n",
       "<text text-anchor=\"middle\" x=\"1266.8774\" y=\"-790.8\" font-family=\"Helvetica,sans-Serif\" font-size=\"14.00\" fill=\"#000000\">class = virginica</text>\n",
       "</g>\n",
       "<!-- 28&#45;&gt;32 -->\n",
       "<g id=\"edge32\" class=\"edge\">\n",
       "<title>28&#45;&gt;32</title>\n",
       "<path fill=\"none\" stroke=\"#000000\" d=\"M1121.6239,-897.9272C1141.128,-887.8662 1162.2404,-876.9757 1182.1676,-866.6965\"/>\n",
       "<polygon fill=\"#000000\" stroke=\"#000000\" points=\"1183.9472,-869.7168 1191.23,-862.0218 1180.7381,-863.4957 1183.9472,-869.7168\"/>\n",
       "</g>\n",
       "<!-- 30 -->\n",
       "<g id=\"node31\" class=\"node\">\n",
       "<title>30</title>\n",
       "<path fill=\"#8139e5\" stroke=\"#000000\" d=\"M1014.5807,-741C1014.5807,-741 923.1741,-741 923.1741,-741 917.1741,-741 911.1741,-735 911.1741,-729 911.1741,-729 911.1741,-689 911.1741,-689 911.1741,-683 917.1741,-677 923.1741,-677 923.1741,-677 1014.5807,-677 1014.5807,-677 1020.5807,-677 1026.5807,-683 1026.5807,-689 1026.5807,-689 1026.5807,-729 1026.5807,-729 1026.5807,-735 1020.5807,-741 1014.5807,-741\"/>\n",
       "<text text-anchor=\"middle\" x=\"968.8774\" y=\"-725.8\" font-family=\"Helvetica,sans-Serif\" font-size=\"14.00\" fill=\"#000000\">gini = 0.0</text>\n",
       "<text text-anchor=\"middle\" x=\"968.8774\" y=\"-711.8\" font-family=\"Helvetica,sans-Serif\" font-size=\"14.00\" fill=\"#000000\">samples = 1</text>\n",
       "<text text-anchor=\"middle\" x=\"968.8774\" y=\"-697.8\" font-family=\"Helvetica,sans-Serif\" font-size=\"14.00\" fill=\"#000000\">value = [0, 0, 1]</text>\n",
       "<text text-anchor=\"middle\" x=\"968.8774\" y=\"-683.8\" font-family=\"Helvetica,sans-Serif\" font-size=\"14.00\" fill=\"#000000\">class = virginica</text>\n",
       "</g>\n",
       "<!-- 29&#45;&gt;30 -->\n",
       "<g id=\"edge30\" class=\"edge\">\n",
       "<title>29&#45;&gt;30</title>\n",
       "<path fill=\"none\" stroke=\"#000000\" d=\"M1019.3784,-783.7677C1011.8905,-772.6817 1003.7297,-760.5994 996.1946,-749.4436\"/>\n",
       "<polygon fill=\"#000000\" stroke=\"#000000\" points=\"999.0737,-747.453 990.576,-741.1252 993.2729,-751.3711 999.0737,-747.453\"/>\n",
       "</g>\n",
       "<!-- 31 -->\n",
       "<g id=\"node32\" class=\"node\">\n",
       "<title>31</title>\n",
       "<path fill=\"#39e581\" stroke=\"#000000\" d=\"M1155.6326,-741C1155.6326,-741 1056.1223,-741 1056.1223,-741 1050.1223,-741 1044.1223,-735 1044.1223,-729 1044.1223,-729 1044.1223,-689 1044.1223,-689 1044.1223,-683 1050.1223,-677 1056.1223,-677 1056.1223,-677 1155.6326,-677 1155.6326,-677 1161.6326,-677 1167.6326,-683 1167.6326,-689 1167.6326,-689 1167.6326,-729 1167.6326,-729 1167.6326,-735 1161.6326,-741 1155.6326,-741\"/>\n",
       "<text text-anchor=\"middle\" x=\"1105.8774\" y=\"-725.8\" font-family=\"Helvetica,sans-Serif\" font-size=\"14.00\" fill=\"#000000\">gini = 0.0</text>\n",
       "<text text-anchor=\"middle\" x=\"1105.8774\" y=\"-711.8\" font-family=\"Helvetica,sans-Serif\" font-size=\"14.00\" fill=\"#000000\">samples = 2</text>\n",
       "<text text-anchor=\"middle\" x=\"1105.8774\" y=\"-697.8\" font-family=\"Helvetica,sans-Serif\" font-size=\"14.00\" fill=\"#000000\">value = [0, 2, 0]</text>\n",
       "<text text-anchor=\"middle\" x=\"1105.8774\" y=\"-683.8\" font-family=\"Helvetica,sans-Serif\" font-size=\"14.00\" fill=\"#000000\">class = versicolor</text>\n",
       "</g>\n",
       "<!-- 29&#45;&gt;31 -->\n",
       "<g id=\"edge31\" class=\"edge\">\n",
       "<title>29&#45;&gt;31</title>\n",
       "<path fill=\"none\" stroke=\"#000000\" d=\"M1066.526,-783.7677C1072.2464,-772.8991 1078.4707,-761.0729 1084.2454,-750.1009\"/>\n",
       "<polygon fill=\"#000000\" stroke=\"#000000\" points=\"1087.4091,-751.6045 1088.9694,-741.1252 1081.2147,-748.3443 1087.4091,-751.6045\"/>\n",
       "</g>\n",
       "<!-- 33 -->\n",
       "<g id=\"node34\" class=\"node\">\n",
       "<title>33</title>\n",
       "<path fill=\"#9cf2c0\" stroke=\"#000000\" d=\"M1335.3879,-748C1335.3879,-748 1198.3669,-748 1198.3669,-748 1192.3669,-748 1186.3669,-742 1186.3669,-736 1186.3669,-736 1186.3669,-682 1186.3669,-682 1186.3669,-676 1192.3669,-670 1198.3669,-670 1198.3669,-670 1335.3879,-670 1335.3879,-670 1341.3879,-670 1347.3879,-676 1347.3879,-682 1347.3879,-682 1347.3879,-736 1347.3879,-736 1347.3879,-742 1341.3879,-748 1335.3879,-748\"/>\n",
       "<text text-anchor=\"middle\" x=\"1266.8774\" y=\"-732.8\" font-family=\"Helvetica,sans-Serif\" font-size=\"14.00\" fill=\"#000000\">sepal width (cm) &lt;= 3.2</text>\n",
       "<text text-anchor=\"middle\" x=\"1266.8774\" y=\"-718.8\" font-family=\"Helvetica,sans-Serif\" font-size=\"14.00\" fill=\"#000000\">gini = 0.444</text>\n",
       "<text text-anchor=\"middle\" x=\"1266.8774\" y=\"-704.8\" font-family=\"Helvetica,sans-Serif\" font-size=\"14.00\" fill=\"#000000\">samples = 3</text>\n",
       "<text text-anchor=\"middle\" x=\"1266.8774\" y=\"-690.8\" font-family=\"Helvetica,sans-Serif\" font-size=\"14.00\" fill=\"#000000\">value = [0, 2, 1]</text>\n",
       "<text text-anchor=\"middle\" x=\"1266.8774\" y=\"-676.8\" font-family=\"Helvetica,sans-Serif\" font-size=\"14.00\" fill=\"#000000\">class = versicolor</text>\n",
       "</g>\n",
       "<!-- 32&#45;&gt;33 -->\n",
       "<g id=\"edge33\" class=\"edge\">\n",
       "<title>32&#45;&gt;33</title>\n",
       "<path fill=\"none\" stroke=\"#000000\" d=\"M1266.8774,-783.7677C1266.8774,-775.6172 1266.8774,-766.9283 1266.8774,-758.4649\"/>\n",
       "<polygon fill=\"#000000\" stroke=\"#000000\" points=\"1270.3775,-758.3046 1266.8774,-748.3046 1263.3775,-758.3047 1270.3775,-758.3046\"/>\n",
       "</g>\n",
       "<!-- 38 -->\n",
       "<g id=\"node39\" class=\"node\">\n",
       "<title>38</title>\n",
       "<path fill=\"#ad7eee\" stroke=\"#000000\" d=\"M1522.6736,-748C1522.6736,-748 1377.0813,-748 1377.0813,-748 1371.0813,-748 1365.0813,-742 1365.0813,-736 1365.0813,-736 1365.0813,-682 1365.0813,-682 1365.0813,-676 1371.0813,-670 1377.0813,-670 1377.0813,-670 1522.6736,-670 1522.6736,-670 1528.6736,-670 1534.6736,-676 1534.6736,-682 1534.6736,-682 1534.6736,-736 1534.6736,-736 1534.6736,-742 1528.6736,-748 1522.6736,-748\"/>\n",
       "<text text-anchor=\"middle\" x=\"1449.8774\" y=\"-732.8\" font-family=\"Helvetica,sans-Serif\" font-size=\"14.00\" fill=\"#000000\">sepal width (cm) &lt;= 3.15</text>\n",
       "<text text-anchor=\"middle\" x=\"1449.8774\" y=\"-718.8\" font-family=\"Helvetica,sans-Serif\" font-size=\"14.00\" fill=\"#000000\">gini = 0.383</text>\n",
       "<text text-anchor=\"middle\" x=\"1449.8774\" y=\"-704.8\" font-family=\"Helvetica,sans-Serif\" font-size=\"14.00\" fill=\"#000000\">samples = 31</text>\n",
       "<text text-anchor=\"middle\" x=\"1449.8774\" y=\"-690.8\" font-family=\"Helvetica,sans-Serif\" font-size=\"14.00\" fill=\"#000000\">value = [0, 8, 23]</text>\n",
       "<text text-anchor=\"middle\" x=\"1449.8774\" y=\"-676.8\" font-family=\"Helvetica,sans-Serif\" font-size=\"14.00\" fill=\"#000000\">class = virginica</text>\n",
       "</g>\n",
       "<!-- 32&#45;&gt;38 -->\n",
       "<g id=\"edge38\" class=\"edge\">\n",
       "<title>32&#45;&gt;38</title>\n",
       "<path fill=\"none\" stroke=\"#000000\" d=\"M1329.5996,-783.9272C1345.3136,-774.1381 1362.2883,-763.5637 1378.3931,-753.5312\"/>\n",
       "<polygon fill=\"#000000\" stroke=\"#000000\" points=\"1380.6,-756.28 1387.2372,-748.0218 1376.8988,-750.3386 1380.6,-756.28\"/>\n",
       "</g>\n",
       "<!-- 34 -->\n",
       "<g id=\"node35\" class=\"node\">\n",
       "<title>34</title>\n",
       "<path fill=\"#ffffff\" stroke=\"#000000\" d=\"M1175.1354,-634C1175.1354,-634 1024.6195,-634 1024.6195,-634 1018.6195,-634 1012.6195,-628 1012.6195,-622 1012.6195,-622 1012.6195,-568 1012.6195,-568 1012.6195,-562 1018.6195,-556 1024.6195,-556 1024.6195,-556 1175.1354,-556 1175.1354,-556 1181.1354,-556 1187.1354,-562 1187.1354,-568 1187.1354,-568 1187.1354,-622 1187.1354,-622 1187.1354,-628 1181.1354,-634 1175.1354,-634\"/>\n",
       "<text text-anchor=\"middle\" x=\"1099.8774\" y=\"-618.8\" font-family=\"Helvetica,sans-Serif\" font-size=\"14.00\" fill=\"#000000\">sepal length (cm) &lt;= 6.05</text>\n",
       "<text text-anchor=\"middle\" x=\"1099.8774\" y=\"-604.8\" font-family=\"Helvetica,sans-Serif\" font-size=\"14.00\" fill=\"#000000\">gini = 0.5</text>\n",
       "<text text-anchor=\"middle\" x=\"1099.8774\" y=\"-590.8\" font-family=\"Helvetica,sans-Serif\" font-size=\"14.00\" fill=\"#000000\">samples = 2</text>\n",
       "<text text-anchor=\"middle\" x=\"1099.8774\" y=\"-576.8\" font-family=\"Helvetica,sans-Serif\" font-size=\"14.00\" fill=\"#000000\">value = [0, 1, 1]</text>\n",
       "<text text-anchor=\"middle\" x=\"1099.8774\" y=\"-562.8\" font-family=\"Helvetica,sans-Serif\" font-size=\"14.00\" fill=\"#000000\">class = versicolor</text>\n",
       "</g>\n",
       "<!-- 33&#45;&gt;34 -->\n",
       "<g id=\"edge34\" class=\"edge\">\n",
       "<title>33&#45;&gt;34</title>\n",
       "<path fill=\"none\" stroke=\"#000000\" d=\"M1209.4055,-669.7677C1195.2877,-660.1303 1180.0669,-649.7401 1165.5936,-639.8601\"/>\n",
       "<polygon fill=\"#000000\" stroke=\"#000000\" points=\"1167.4047,-636.8588 1157.1723,-634.1115 1163.4581,-642.6402 1167.4047,-636.8588\"/>\n",
       "</g>\n",
       "<!-- 37 -->\n",
       "<g id=\"node38\" class=\"node\">\n",
       "<title>37</title>\n",
       "<path fill=\"#39e581\" stroke=\"#000000\" d=\"M1316.6326,-627C1316.6326,-627 1217.1223,-627 1217.1223,-627 1211.1223,-627 1205.1223,-621 1205.1223,-615 1205.1223,-615 1205.1223,-575 1205.1223,-575 1205.1223,-569 1211.1223,-563 1217.1223,-563 1217.1223,-563 1316.6326,-563 1316.6326,-563 1322.6326,-563 1328.6326,-569 1328.6326,-575 1328.6326,-575 1328.6326,-615 1328.6326,-615 1328.6326,-621 1322.6326,-627 1316.6326,-627\"/>\n",
       "<text text-anchor=\"middle\" x=\"1266.8774\" y=\"-611.8\" font-family=\"Helvetica,sans-Serif\" font-size=\"14.00\" fill=\"#000000\">gini = 0.0</text>\n",
       "<text text-anchor=\"middle\" x=\"1266.8774\" y=\"-597.8\" font-family=\"Helvetica,sans-Serif\" font-size=\"14.00\" fill=\"#000000\">samples = 1</text>\n",
       "<text text-anchor=\"middle\" x=\"1266.8774\" y=\"-583.8\" font-family=\"Helvetica,sans-Serif\" font-size=\"14.00\" fill=\"#000000\">value = [0, 1, 0]</text>\n",
       "<text text-anchor=\"middle\" x=\"1266.8774\" y=\"-569.8\" font-family=\"Helvetica,sans-Serif\" font-size=\"14.00\" fill=\"#000000\">class = versicolor</text>\n",
       "</g>\n",
       "<!-- 33&#45;&gt;37 -->\n",
       "<g id=\"edge37\" class=\"edge\">\n",
       "<title>33&#45;&gt;37</title>\n",
       "<path fill=\"none\" stroke=\"#000000\" d=\"M1266.8774,-669.7677C1266.8774,-659.3338 1266.8774,-648.0174 1266.8774,-637.4215\"/>\n",
       "<polygon fill=\"#000000\" stroke=\"#000000\" points=\"1270.3775,-637.1252 1266.8774,-627.1252 1263.3775,-637.1252 1270.3775,-637.1252\"/>\n",
       "</g>\n",
       "<!-- 35 -->\n",
       "<g id=\"node36\" class=\"node\">\n",
       "<title>35</title>\n",
       "<path fill=\"#8139e5\" stroke=\"#000000\" d=\"M1009.5807,-513C1009.5807,-513 918.1741,-513 918.1741,-513 912.1741,-513 906.1741,-507 906.1741,-501 906.1741,-501 906.1741,-461 906.1741,-461 906.1741,-455 912.1741,-449 918.1741,-449 918.1741,-449 1009.5807,-449 1009.5807,-449 1015.5807,-449 1021.5807,-455 1021.5807,-461 1021.5807,-461 1021.5807,-501 1021.5807,-501 1021.5807,-507 1015.5807,-513 1009.5807,-513\"/>\n",
       "<text text-anchor=\"middle\" x=\"963.8774\" y=\"-497.8\" font-family=\"Helvetica,sans-Serif\" font-size=\"14.00\" fill=\"#000000\">gini = 0.0</text>\n",
       "<text text-anchor=\"middle\" x=\"963.8774\" y=\"-483.8\" font-family=\"Helvetica,sans-Serif\" font-size=\"14.00\" fill=\"#000000\">samples = 1</text>\n",
       "<text text-anchor=\"middle\" x=\"963.8774\" y=\"-469.8\" font-family=\"Helvetica,sans-Serif\" font-size=\"14.00\" fill=\"#000000\">value = [0, 0, 1]</text>\n",
       "<text text-anchor=\"middle\" x=\"963.8774\" y=\"-455.8\" font-family=\"Helvetica,sans-Serif\" font-size=\"14.00\" fill=\"#000000\">class = virginica</text>\n",
       "</g>\n",
       "<!-- 34&#45;&gt;35 -->\n",
       "<g id=\"edge35\" class=\"edge\">\n",
       "<title>34&#45;&gt;35</title>\n",
       "<path fill=\"none\" stroke=\"#000000\" d=\"M1053.074,-555.7677C1039.2003,-544.1383 1024.0187,-531.4125 1010.1771,-519.81\"/>\n",
       "<polygon fill=\"#000000\" stroke=\"#000000\" points=\"1012.1144,-516.8669 1002.2022,-513.1252 1007.6176,-522.2315 1012.1144,-516.8669\"/>\n",
       "</g>\n",
       "<!-- 36 -->\n",
       "<g id=\"node37\" class=\"node\">\n",
       "<title>36</title>\n",
       "<path fill=\"#39e581\" stroke=\"#000000\" d=\"M1150.6326,-513C1150.6326,-513 1051.1223,-513 1051.1223,-513 1045.1223,-513 1039.1223,-507 1039.1223,-501 1039.1223,-501 1039.1223,-461 1039.1223,-461 1039.1223,-455 1045.1223,-449 1051.1223,-449 1051.1223,-449 1150.6326,-449 1150.6326,-449 1156.6326,-449 1162.6326,-455 1162.6326,-461 1162.6326,-461 1162.6326,-501 1162.6326,-501 1162.6326,-507 1156.6326,-513 1150.6326,-513\"/>\n",
       "<text text-anchor=\"middle\" x=\"1100.8774\" y=\"-497.8\" font-family=\"Helvetica,sans-Serif\" font-size=\"14.00\" fill=\"#000000\">gini = 0.0</text>\n",
       "<text text-anchor=\"middle\" x=\"1100.8774\" y=\"-483.8\" font-family=\"Helvetica,sans-Serif\" font-size=\"14.00\" fill=\"#000000\">samples = 1</text>\n",
       "<text text-anchor=\"middle\" x=\"1100.8774\" y=\"-469.8\" font-family=\"Helvetica,sans-Serif\" font-size=\"14.00\" fill=\"#000000\">value = [0, 1, 0]</text>\n",
       "<text text-anchor=\"middle\" x=\"1100.8774\" y=\"-455.8\" font-family=\"Helvetica,sans-Serif\" font-size=\"14.00\" fill=\"#000000\">class = versicolor</text>\n",
       "</g>\n",
       "<!-- 34&#45;&gt;36 -->\n",
       "<g id=\"edge36\" class=\"edge\">\n",
       "<title>34&#45;&gt;36</title>\n",
       "<path fill=\"none\" stroke=\"#000000\" d=\"M1100.2216,-555.7677C1100.3131,-545.3338 1100.4124,-534.0174 1100.5053,-523.4215\"/>\n",
       "<polygon fill=\"#000000\" stroke=\"#000000\" points=\"1104.0077,-523.1555 1100.5956,-513.1252 1097.008,-523.0941 1104.0077,-523.1555\"/>\n",
       "</g>\n",
       "<!-- 39 -->\n",
       "<g id=\"node40\" class=\"node\">\n",
       "<title>39</title>\n",
       "<path fill=\"#bc95f1\" stroke=\"#000000\" d=\"M1524.1354,-634C1524.1354,-634 1373.6195,-634 1373.6195,-634 1367.6195,-634 1361.6195,-628 1361.6195,-622 1361.6195,-622 1361.6195,-568 1361.6195,-568 1361.6195,-562 1367.6195,-556 1373.6195,-556 1373.6195,-556 1524.1354,-556 1524.1354,-556 1530.1354,-556 1536.1354,-562 1536.1354,-568 1536.1354,-568 1536.1354,-622 1536.1354,-622 1536.1354,-628 1530.1354,-634 1524.1354,-634\"/>\n",
       "<text text-anchor=\"middle\" x=\"1448.8774\" y=\"-618.8\" font-family=\"Helvetica,sans-Serif\" font-size=\"14.00\" fill=\"#000000\">sepal length (cm) &lt;= 6.55</text>\n",
       "<text text-anchor=\"middle\" x=\"1448.8774\" y=\"-604.8\" font-family=\"Helvetica,sans-Serif\" font-size=\"14.00\" fill=\"#000000\">gini = 0.434</text>\n",
       "<text text-anchor=\"middle\" x=\"1448.8774\" y=\"-590.8\" font-family=\"Helvetica,sans-Serif\" font-size=\"14.00\" fill=\"#000000\">samples = 22</text>\n",
       "<text text-anchor=\"middle\" x=\"1448.8774\" y=\"-576.8\" font-family=\"Helvetica,sans-Serif\" font-size=\"14.00\" fill=\"#000000\">value = [0, 7, 15]</text>\n",
       "<text text-anchor=\"middle\" x=\"1448.8774\" y=\"-562.8\" font-family=\"Helvetica,sans-Serif\" font-size=\"14.00\" fill=\"#000000\">class = virginica</text>\n",
       "</g>\n",
       "<!-- 38&#45;&gt;39 -->\n",
       "<g id=\"edge39\" class=\"edge\">\n",
       "<title>38&#45;&gt;39</title>\n",
       "<path fill=\"none\" stroke=\"#000000\" d=\"M1449.5333,-669.7677C1449.4618,-661.6172 1449.3856,-652.9283 1449.3113,-644.4649\"/>\n",
       "<polygon fill=\"#000000\" stroke=\"#000000\" points=\"1452.8099,-644.2735 1449.2222,-634.3046 1445.8102,-644.335 1452.8099,-644.2735\"/>\n",
       "</g>\n",
       "<!-- 60 -->\n",
       "<g id=\"node61\" class=\"node\">\n",
       "<title>60</title>\n",
       "<path fill=\"#9152e8\" stroke=\"#000000\" d=\"M1833.1354,-634C1833.1354,-634 1682.6195,-634 1682.6195,-634 1676.6195,-634 1670.6195,-628 1670.6195,-622 1670.6195,-622 1670.6195,-568 1670.6195,-568 1670.6195,-562 1676.6195,-556 1682.6195,-556 1682.6195,-556 1833.1354,-556 1833.1354,-556 1839.1354,-556 1845.1354,-562 1845.1354,-568 1845.1354,-568 1845.1354,-622 1845.1354,-622 1845.1354,-628 1839.1354,-634 1833.1354,-634\"/>\n",
       "<text text-anchor=\"middle\" x=\"1757.8774\" y=\"-618.8\" font-family=\"Helvetica,sans-Serif\" font-size=\"14.00\" fill=\"#000000\">sepal length (cm) &lt;= 6.35</text>\n",
       "<text text-anchor=\"middle\" x=\"1757.8774\" y=\"-604.8\" font-family=\"Helvetica,sans-Serif\" font-size=\"14.00\" fill=\"#000000\">gini = 0.198</text>\n",
       "<text text-anchor=\"middle\" x=\"1757.8774\" y=\"-590.8\" font-family=\"Helvetica,sans-Serif\" font-size=\"14.00\" fill=\"#000000\">samples = 9</text>\n",
       "<text text-anchor=\"middle\" x=\"1757.8774\" y=\"-576.8\" font-family=\"Helvetica,sans-Serif\" font-size=\"14.00\" fill=\"#000000\">value = [0, 1, 8]</text>\n",
       "<text text-anchor=\"middle\" x=\"1757.8774\" y=\"-562.8\" font-family=\"Helvetica,sans-Serif\" font-size=\"14.00\" fill=\"#000000\">class = virginica</text>\n",
       "</g>\n",
       "<!-- 38&#45;&gt;60 -->\n",
       "<g id=\"edge60\" class=\"edge\">\n",
       "<title>38&#45;&gt;60</title>\n",
       "<path fill=\"none\" stroke=\"#000000\" d=\"M1534.8551,-677.5472C1573.9231,-663.087 1620.4634,-645.861 1660.8972,-630.8953\"/>\n",
       "<polygon fill=\"#000000\" stroke=\"#000000\" points=\"1662.3338,-634.0957 1670.4971,-627.3421 1659.9039,-627.5309 1662.3338,-634.0957\"/>\n",
       "</g>\n",
       "<!-- 40 -->\n",
       "<g id=\"node41\" class=\"node\">\n",
       "<title>40</title>\n",
       "<path fill=\"#9d65eb\" stroke=\"#000000\" d=\"M1331.3879,-520C1331.3879,-520 1194.3669,-520 1194.3669,-520 1188.3669,-520 1182.3669,-514 1182.3669,-508 1182.3669,-508 1182.3669,-454 1182.3669,-454 1182.3669,-448 1188.3669,-442 1194.3669,-442 1194.3669,-442 1331.3879,-442 1331.3879,-442 1337.3879,-442 1343.3879,-448 1343.3879,-454 1343.3879,-454 1343.3879,-508 1343.3879,-508 1343.3879,-514 1337.3879,-520 1331.3879,-520\"/>\n",
       "<text text-anchor=\"middle\" x=\"1262.8774\" y=\"-504.8\" font-family=\"Helvetica,sans-Serif\" font-size=\"14.00\" fill=\"#000000\">sepal width (cm) &lt;= 2.6</text>\n",
       "<text text-anchor=\"middle\" x=\"1262.8774\" y=\"-490.8\" font-family=\"Helvetica,sans-Serif\" font-size=\"14.00\" fill=\"#000000\">gini = 0.298</text>\n",
       "<text text-anchor=\"middle\" x=\"1262.8774\" y=\"-476.8\" font-family=\"Helvetica,sans-Serif\" font-size=\"14.00\" fill=\"#000000\">samples = 11</text>\n",
       "<text text-anchor=\"middle\" x=\"1262.8774\" y=\"-462.8\" font-family=\"Helvetica,sans-Serif\" font-size=\"14.00\" fill=\"#000000\">value = [0, 2, 9]</text>\n",
       "<text text-anchor=\"middle\" x=\"1262.8774\" y=\"-448.8\" font-family=\"Helvetica,sans-Serif\" font-size=\"14.00\" fill=\"#000000\">class = virginica</text>\n",
       "</g>\n",
       "<!-- 39&#45;&gt;40 -->\n",
       "<g id=\"edge40\" class=\"edge\">\n",
       "<title>39&#45;&gt;40</title>\n",
       "<path fill=\"none\" stroke=\"#000000\" d=\"M1385.127,-555.9272C1369.0076,-546.0475 1351.5829,-535.3678 1335.0792,-525.2527\"/>\n",
       "<polygon fill=\"#000000\" stroke=\"#000000\" points=\"1336.8996,-522.2633 1326.5446,-520.0218 1333.2416,-528.2316 1336.8996,-522.2633\"/>\n",
       "</g>\n",
       "<!-- 49 -->\n",
       "<g id=\"node50\" class=\"node\">\n",
       "<title>49</title>\n",
       "<path fill=\"#eadefb\" stroke=\"#000000\" d=\"M1524.1354,-520C1524.1354,-520 1373.6195,-520 1373.6195,-520 1367.6195,-520 1361.6195,-514 1361.6195,-508 1361.6195,-508 1361.6195,-454 1361.6195,-454 1361.6195,-448 1367.6195,-442 1373.6195,-442 1373.6195,-442 1524.1354,-442 1524.1354,-442 1530.1354,-442 1536.1354,-448 1536.1354,-454 1536.1354,-454 1536.1354,-508 1536.1354,-508 1536.1354,-514 1530.1354,-520 1524.1354,-520\"/>\n",
       "<text text-anchor=\"middle\" x=\"1448.8774\" y=\"-504.8\" font-family=\"Helvetica,sans-Serif\" font-size=\"14.00\" fill=\"#000000\">sepal length (cm) &lt;= 6.65</text>\n",
       "<text text-anchor=\"middle\" x=\"1448.8774\" y=\"-490.8\" font-family=\"Helvetica,sans-Serif\" font-size=\"14.00\" fill=\"#000000\">gini = 0.496</text>\n",
       "<text text-anchor=\"middle\" x=\"1448.8774\" y=\"-476.8\" font-family=\"Helvetica,sans-Serif\" font-size=\"14.00\" fill=\"#000000\">samples = 11</text>\n",
       "<text text-anchor=\"middle\" x=\"1448.8774\" y=\"-462.8\" font-family=\"Helvetica,sans-Serif\" font-size=\"14.00\" fill=\"#000000\">value = [0, 5, 6]</text>\n",
       "<text text-anchor=\"middle\" x=\"1448.8774\" y=\"-448.8\" font-family=\"Helvetica,sans-Serif\" font-size=\"14.00\" fill=\"#000000\">class = virginica</text>\n",
       "</g>\n",
       "<!-- 39&#45;&gt;49 -->\n",
       "<g id=\"edge49\" class=\"edge\">\n",
       "<title>39&#45;&gt;49</title>\n",
       "<path fill=\"none\" stroke=\"#000000\" d=\"M1448.8774,-555.7677C1448.8774,-547.6172 1448.8774,-538.9283 1448.8774,-530.4649\"/>\n",
       "<polygon fill=\"#000000\" stroke=\"#000000\" points=\"1452.3775,-530.3046 1448.8774,-520.3046 1445.3775,-530.3047 1452.3775,-530.3046\"/>\n",
       "</g>\n",
       "<!-- 41 -->\n",
       "<g id=\"node42\" class=\"node\">\n",
       "<title>41</title>\n",
       "<path fill=\"#ffffff\" stroke=\"#000000\" d=\"M1147.6326,-399C1147.6326,-399 1048.1223,-399 1048.1223,-399 1042.1223,-399 1036.1223,-393 1036.1223,-387 1036.1223,-387 1036.1223,-347 1036.1223,-347 1036.1223,-341 1042.1223,-335 1048.1223,-335 1048.1223,-335 1147.6326,-335 1147.6326,-335 1153.6326,-335 1159.6326,-341 1159.6326,-347 1159.6326,-347 1159.6326,-387 1159.6326,-387 1159.6326,-393 1153.6326,-399 1147.6326,-399\"/>\n",
       "<text text-anchor=\"middle\" x=\"1097.8774\" y=\"-383.8\" font-family=\"Helvetica,sans-Serif\" font-size=\"14.00\" fill=\"#000000\">gini = 0.5</text>\n",
       "<text text-anchor=\"middle\" x=\"1097.8774\" y=\"-369.8\" font-family=\"Helvetica,sans-Serif\" font-size=\"14.00\" fill=\"#000000\">samples = 2</text>\n",
       "<text text-anchor=\"middle\" x=\"1097.8774\" y=\"-355.8\" font-family=\"Helvetica,sans-Serif\" font-size=\"14.00\" fill=\"#000000\">value = [0, 1, 1]</text>\n",
       "<text text-anchor=\"middle\" x=\"1097.8774\" y=\"-341.8\" font-family=\"Helvetica,sans-Serif\" font-size=\"14.00\" fill=\"#000000\">class = versicolor</text>\n",
       "</g>\n",
       "<!-- 40&#45;&gt;41 -->\n",
       "<g id=\"edge41\" class=\"edge\">\n",
       "<title>40&#45;&gt;41</title>\n",
       "<path fill=\"none\" stroke=\"#000000\" d=\"M1206.0938,-441.7677C1188.7898,-429.8122 1169.8088,-416.698 1152.6412,-404.8368\"/>\n",
       "<polygon fill=\"#000000\" stroke=\"#000000\" points=\"1154.5913,-401.93 1144.3744,-399.1252 1150.6122,-407.6891 1154.5913,-401.93\"/>\n",
       "</g>\n",
       "<!-- 42 -->\n",
       "<g id=\"node43\" class=\"node\">\n",
       "<title>42</title>\n",
       "<path fill=\"#9152e8\" stroke=\"#000000\" d=\"M1335.6736,-406C1335.6736,-406 1190.0813,-406 1190.0813,-406 1184.0813,-406 1178.0813,-400 1178.0813,-394 1178.0813,-394 1178.0813,-340 1178.0813,-340 1178.0813,-334 1184.0813,-328 1190.0813,-328 1190.0813,-328 1335.6736,-328 1335.6736,-328 1341.6736,-328 1347.6736,-334 1347.6736,-340 1347.6736,-340 1347.6736,-394 1347.6736,-394 1347.6736,-400 1341.6736,-406 1335.6736,-406\"/>\n",
       "<text text-anchor=\"middle\" x=\"1262.8774\" y=\"-390.8\" font-family=\"Helvetica,sans-Serif\" font-size=\"14.00\" fill=\"#000000\">sepal width (cm) &lt;= 2.85</text>\n",
       "<text text-anchor=\"middle\" x=\"1262.8774\" y=\"-376.8\" font-family=\"Helvetica,sans-Serif\" font-size=\"14.00\" fill=\"#000000\">gini = 0.198</text>\n",
       "<text text-anchor=\"middle\" x=\"1262.8774\" y=\"-362.8\" font-family=\"Helvetica,sans-Serif\" font-size=\"14.00\" fill=\"#000000\">samples = 9</text>\n",
       "<text text-anchor=\"middle\" x=\"1262.8774\" y=\"-348.8\" font-family=\"Helvetica,sans-Serif\" font-size=\"14.00\" fill=\"#000000\">value = [0, 1, 8]</text>\n",
       "<text text-anchor=\"middle\" x=\"1262.8774\" y=\"-334.8\" font-family=\"Helvetica,sans-Serif\" font-size=\"14.00\" fill=\"#000000\">class = virginica</text>\n",
       "</g>\n",
       "<!-- 40&#45;&gt;42 -->\n",
       "<g id=\"edge42\" class=\"edge\">\n",
       "<title>40&#45;&gt;42</title>\n",
       "<path fill=\"none\" stroke=\"#000000\" d=\"M1262.8774,-441.7677C1262.8774,-433.6172 1262.8774,-424.9283 1262.8774,-416.4649\"/>\n",
       "<polygon fill=\"#000000\" stroke=\"#000000\" points=\"1266.3775,-416.3046 1262.8774,-406.3046 1259.3775,-416.3047 1266.3775,-416.3046\"/>\n",
       "</g>\n",
       "<!-- 43 -->\n",
       "<g id=\"node44\" class=\"node\">\n",
       "<title>43</title>\n",
       "<path fill=\"#8139e5\" stroke=\"#000000\" d=\"M1228.5807,-285C1228.5807,-285 1137.1741,-285 1137.1741,-285 1131.1741,-285 1125.1741,-279 1125.1741,-273 1125.1741,-273 1125.1741,-233 1125.1741,-233 1125.1741,-227 1131.1741,-221 1137.1741,-221 1137.1741,-221 1228.5807,-221 1228.5807,-221 1234.5807,-221 1240.5807,-227 1240.5807,-233 1240.5807,-233 1240.5807,-273 1240.5807,-273 1240.5807,-279 1234.5807,-285 1228.5807,-285\"/>\n",
       "<text text-anchor=\"middle\" x=\"1182.8774\" y=\"-269.8\" font-family=\"Helvetica,sans-Serif\" font-size=\"14.00\" fill=\"#000000\">gini = 0.0</text>\n",
       "<text text-anchor=\"middle\" x=\"1182.8774\" y=\"-255.8\" font-family=\"Helvetica,sans-Serif\" font-size=\"14.00\" fill=\"#000000\">samples = 4</text>\n",
       "<text text-anchor=\"middle\" x=\"1182.8774\" y=\"-241.8\" font-family=\"Helvetica,sans-Serif\" font-size=\"14.00\" fill=\"#000000\">value = [0, 0, 4]</text>\n",
       "<text text-anchor=\"middle\" x=\"1182.8774\" y=\"-227.8\" font-family=\"Helvetica,sans-Serif\" font-size=\"14.00\" fill=\"#000000\">class = virginica</text>\n",
       "</g>\n",
       "<!-- 42&#45;&gt;43 -->\n",
       "<g id=\"edge43\" class=\"edge\">\n",
       "<title>42&#45;&gt;43</title>\n",
       "<path fill=\"none\" stroke=\"#000000\" d=\"M1235.346,-327.7677C1227.5664,-316.6817 1219.0876,-304.5994 1211.2589,-293.4436\"/>\n",
       "<polygon fill=\"#000000\" stroke=\"#000000\" points=\"1214.0307,-291.3003 1205.4214,-285.1252 1208.3008,-295.3213 1214.0307,-291.3003\"/>\n",
       "</g>\n",
       "<!-- 44 -->\n",
       "<g id=\"node45\" class=\"node\">\n",
       "<title>44</title>\n",
       "<path fill=\"#a06aec\" stroke=\"#000000\" d=\"M1421.1354,-292C1421.1354,-292 1270.6195,-292 1270.6195,-292 1264.6195,-292 1258.6195,-286 1258.6195,-280 1258.6195,-280 1258.6195,-226 1258.6195,-226 1258.6195,-220 1264.6195,-214 1270.6195,-214 1270.6195,-214 1421.1354,-214 1421.1354,-214 1427.1354,-214 1433.1354,-220 1433.1354,-226 1433.1354,-226 1433.1354,-280 1433.1354,-280 1433.1354,-286 1427.1354,-292 1421.1354,-292\"/>\n",
       "<text text-anchor=\"middle\" x=\"1345.8774\" y=\"-276.8\" font-family=\"Helvetica,sans-Serif\" font-size=\"14.00\" fill=\"#000000\">sepal length (cm) &lt;= 6.45</text>\n",
       "<text text-anchor=\"middle\" x=\"1345.8774\" y=\"-262.8\" font-family=\"Helvetica,sans-Serif\" font-size=\"14.00\" fill=\"#000000\">gini = 0.32</text>\n",
       "<text text-anchor=\"middle\" x=\"1345.8774\" y=\"-248.8\" font-family=\"Helvetica,sans-Serif\" font-size=\"14.00\" fill=\"#000000\">samples = 5</text>\n",
       "<text text-anchor=\"middle\" x=\"1345.8774\" y=\"-234.8\" font-family=\"Helvetica,sans-Serif\" font-size=\"14.00\" fill=\"#000000\">value = [0, 1, 4]</text>\n",
       "<text text-anchor=\"middle\" x=\"1345.8774\" y=\"-220.8\" font-family=\"Helvetica,sans-Serif\" font-size=\"14.00\" fill=\"#000000\">class = virginica</text>\n",
       "</g>\n",
       "<!-- 42&#45;&gt;44 -->\n",
       "<g id=\"edge44\" class=\"edge\">\n",
       "<title>42&#45;&gt;44</title>\n",
       "<path fill=\"none\" stroke=\"#000000\" d=\"M1291.4413,-327.7677C1297.8319,-318.9903 1304.6772,-309.5883 1311.2824,-300.5161\"/>\n",
       "<polygon fill=\"#000000\" stroke=\"#000000\" points=\"1314.2044,-302.4491 1317.2609,-292.3046 1308.5454,-298.3289 1314.2044,-302.4491\"/>\n",
       "</g>\n",
       "<!-- 45 -->\n",
       "<g id=\"node46\" class=\"node\">\n",
       "<title>45</title>\n",
       "<path fill=\"#ffffff\" stroke=\"#000000\" d=\"M1340.1354,-178C1340.1354,-178 1189.6195,-178 1189.6195,-178 1183.6195,-178 1177.6195,-172 1177.6195,-166 1177.6195,-166 1177.6195,-112 1177.6195,-112 1177.6195,-106 1183.6195,-100 1189.6195,-100 1189.6195,-100 1340.1354,-100 1340.1354,-100 1346.1354,-100 1352.1354,-106 1352.1354,-112 1352.1354,-112 1352.1354,-166 1352.1354,-166 1352.1354,-172 1346.1354,-178 1340.1354,-178\"/>\n",
       "<text text-anchor=\"middle\" x=\"1264.8774\" y=\"-162.8\" font-family=\"Helvetica,sans-Serif\" font-size=\"14.00\" fill=\"#000000\">sepal length (cm) &lt;= 6.35</text>\n",
       "<text text-anchor=\"middle\" x=\"1264.8774\" y=\"-148.8\" font-family=\"Helvetica,sans-Serif\" font-size=\"14.00\" fill=\"#000000\">gini = 0.5</text>\n",
       "<text text-anchor=\"middle\" x=\"1264.8774\" y=\"-134.8\" font-family=\"Helvetica,sans-Serif\" font-size=\"14.00\" fill=\"#000000\">samples = 2</text>\n",
       "<text text-anchor=\"middle\" x=\"1264.8774\" y=\"-120.8\" font-family=\"Helvetica,sans-Serif\" font-size=\"14.00\" fill=\"#000000\">value = [0, 1, 1]</text>\n",
       "<text text-anchor=\"middle\" x=\"1264.8774\" y=\"-106.8\" font-family=\"Helvetica,sans-Serif\" font-size=\"14.00\" fill=\"#000000\">class = versicolor</text>\n",
       "</g>\n",
       "<!-- 44&#45;&gt;45 -->\n",
       "<g id=\"edge45\" class=\"edge\">\n",
       "<title>44&#45;&gt;45</title>\n",
       "<path fill=\"none\" stroke=\"#000000\" d=\"M1318.0018,-213.7677C1311.7653,-204.9903 1305.0849,-195.5883 1298.6389,-186.5161\"/>\n",
       "<polygon fill=\"#000000\" stroke=\"#000000\" points=\"1301.4497,-184.4292 1292.8044,-178.3046 1295.7434,-188.4837 1301.4497,-184.4292\"/>\n",
       "</g>\n",
       "<!-- 48 -->\n",
       "<g id=\"node49\" class=\"node\">\n",
       "<title>48</title>\n",
       "<path fill=\"#8139e5\" stroke=\"#000000\" d=\"M1473.5807,-171C1473.5807,-171 1382.1741,-171 1382.1741,-171 1376.1741,-171 1370.1741,-165 1370.1741,-159 1370.1741,-159 1370.1741,-119 1370.1741,-119 1370.1741,-113 1376.1741,-107 1382.1741,-107 1382.1741,-107 1473.5807,-107 1473.5807,-107 1479.5807,-107 1485.5807,-113 1485.5807,-119 1485.5807,-119 1485.5807,-159 1485.5807,-159 1485.5807,-165 1479.5807,-171 1473.5807,-171\"/>\n",
       "<text text-anchor=\"middle\" x=\"1427.8774\" y=\"-155.8\" font-family=\"Helvetica,sans-Serif\" font-size=\"14.00\" fill=\"#000000\">gini = 0.0</text>\n",
       "<text text-anchor=\"middle\" x=\"1427.8774\" y=\"-141.8\" font-family=\"Helvetica,sans-Serif\" font-size=\"14.00\" fill=\"#000000\">samples = 3</text>\n",
       "<text text-anchor=\"middle\" x=\"1427.8774\" y=\"-127.8\" font-family=\"Helvetica,sans-Serif\" font-size=\"14.00\" fill=\"#000000\">value = [0, 0, 3]</text>\n",
       "<text text-anchor=\"middle\" x=\"1427.8774\" y=\"-113.8\" font-family=\"Helvetica,sans-Serif\" font-size=\"14.00\" fill=\"#000000\">class = virginica</text>\n",
       "</g>\n",
       "<!-- 44&#45;&gt;48 -->\n",
       "<g id=\"edge48\" class=\"edge\">\n",
       "<title>44&#45;&gt;48</title>\n",
       "<path fill=\"none\" stroke=\"#000000\" d=\"M1374.0972,-213.7677C1382.0713,-202.6817 1390.7621,-190.5994 1398.7864,-179.4436\"/>\n",
       "<polygon fill=\"#000000\" stroke=\"#000000\" points=\"1401.7718,-181.287 1404.7698,-171.1252 1396.0892,-177.1995 1401.7718,-181.287\"/>\n",
       "</g>\n",
       "<!-- 46 -->\n",
       "<g id=\"node47\" class=\"node\">\n",
       "<title>46</title>\n",
       "<path fill=\"#8139e5\" stroke=\"#000000\" d=\"M1185.5807,-64C1185.5807,-64 1094.1741,-64 1094.1741,-64 1088.1741,-64 1082.1741,-58 1082.1741,-52 1082.1741,-52 1082.1741,-12 1082.1741,-12 1082.1741,-6 1088.1741,0 1094.1741,0 1094.1741,0 1185.5807,0 1185.5807,0 1191.5807,0 1197.5807,-6 1197.5807,-12 1197.5807,-12 1197.5807,-52 1197.5807,-52 1197.5807,-58 1191.5807,-64 1185.5807,-64\"/>\n",
       "<text text-anchor=\"middle\" x=\"1139.8774\" y=\"-48.8\" font-family=\"Helvetica,sans-Serif\" font-size=\"14.00\" fill=\"#000000\">gini = 0.0</text>\n",
       "<text text-anchor=\"middle\" x=\"1139.8774\" y=\"-34.8\" font-family=\"Helvetica,sans-Serif\" font-size=\"14.00\" fill=\"#000000\">samples = 1</text>\n",
       "<text text-anchor=\"middle\" x=\"1139.8774\" y=\"-20.8\" font-family=\"Helvetica,sans-Serif\" font-size=\"14.00\" fill=\"#000000\">value = [0, 0, 1]</text>\n",
       "<text text-anchor=\"middle\" x=\"1139.8774\" y=\"-6.8\" font-family=\"Helvetica,sans-Serif\" font-size=\"14.00\" fill=\"#000000\">class = virginica</text>\n",
       "</g>\n",
       "<!-- 45&#45;&gt;46 -->\n",
       "<g id=\"edge46\" class=\"edge\">\n",
       "<title>45&#45;&gt;46</title>\n",
       "<path fill=\"none\" stroke=\"#000000\" d=\"M1219.0418,-99.7647C1208.0524,-90.3577 1196.3214,-80.316 1185.3485,-70.9232\"/>\n",
       "<polygon fill=\"#000000\" stroke=\"#000000\" points=\"1187.3869,-68.0609 1177.514,-64.2169 1182.8348,-73.3787 1187.3869,-68.0609\"/>\n",
       "</g>\n",
       "<!-- 47 -->\n",
       "<g id=\"node48\" class=\"node\">\n",
       "<title>47</title>\n",
       "<path fill=\"#39e581\" stroke=\"#000000\" d=\"M1326.6326,-64C1326.6326,-64 1227.1223,-64 1227.1223,-64 1221.1223,-64 1215.1223,-58 1215.1223,-52 1215.1223,-52 1215.1223,-12 1215.1223,-12 1215.1223,-6 1221.1223,0 1227.1223,0 1227.1223,0 1326.6326,0 1326.6326,0 1332.6326,0 1338.6326,-6 1338.6326,-12 1338.6326,-12 1338.6326,-52 1338.6326,-52 1338.6326,-58 1332.6326,-64 1326.6326,-64\"/>\n",
       "<text text-anchor=\"middle\" x=\"1276.8774\" y=\"-48.8\" font-family=\"Helvetica,sans-Serif\" font-size=\"14.00\" fill=\"#000000\">gini = 0.0</text>\n",
       "<text text-anchor=\"middle\" x=\"1276.8774\" y=\"-34.8\" font-family=\"Helvetica,sans-Serif\" font-size=\"14.00\" fill=\"#000000\">samples = 1</text>\n",
       "<text text-anchor=\"middle\" x=\"1276.8774\" y=\"-20.8\" font-family=\"Helvetica,sans-Serif\" font-size=\"14.00\" fill=\"#000000\">value = [0, 1, 0]</text>\n",
       "<text text-anchor=\"middle\" x=\"1276.8774\" y=\"-6.8\" font-family=\"Helvetica,sans-Serif\" font-size=\"14.00\" fill=\"#000000\">class = versicolor</text>\n",
       "</g>\n",
       "<!-- 45&#45;&gt;47 -->\n",
       "<g id=\"edge47\" class=\"edge\">\n",
       "<title>45&#45;&gt;47</title>\n",
       "<path fill=\"none\" stroke=\"#000000\" d=\"M1269.2777,-99.7647C1270.2097,-91.4537 1271.1974,-82.6472 1272.1413,-74.2305\"/>\n",
       "<polygon fill=\"#000000\" stroke=\"#000000\" points=\"1275.6279,-74.5447 1273.2643,-64.2169 1268.6715,-73.7645 1275.6279,-74.5447\"/>\n",
       "</g>\n",
       "<!-- 50 -->\n",
       "<g id=\"node51\" class=\"node\">\n",
       "<title>50</title>\n",
       "<path fill=\"#39e581\" stroke=\"#000000\" d=\"M1477.6326,-399C1477.6326,-399 1378.1223,-399 1378.1223,-399 1372.1223,-399 1366.1223,-393 1366.1223,-387 1366.1223,-387 1366.1223,-347 1366.1223,-347 1366.1223,-341 1372.1223,-335 1378.1223,-335 1378.1223,-335 1477.6326,-335 1477.6326,-335 1483.6326,-335 1489.6326,-341 1489.6326,-347 1489.6326,-347 1489.6326,-387 1489.6326,-387 1489.6326,-393 1483.6326,-399 1477.6326,-399\"/>\n",
       "<text text-anchor=\"middle\" x=\"1427.8774\" y=\"-383.8\" font-family=\"Helvetica,sans-Serif\" font-size=\"14.00\" fill=\"#000000\">gini = 0.0</text>\n",
       "<text text-anchor=\"middle\" x=\"1427.8774\" y=\"-369.8\" font-family=\"Helvetica,sans-Serif\" font-size=\"14.00\" fill=\"#000000\">samples = 2</text>\n",
       "<text text-anchor=\"middle\" x=\"1427.8774\" y=\"-355.8\" font-family=\"Helvetica,sans-Serif\" font-size=\"14.00\" fill=\"#000000\">value = [0, 2, 0]</text>\n",
       "<text text-anchor=\"middle\" x=\"1427.8774\" y=\"-341.8\" font-family=\"Helvetica,sans-Serif\" font-size=\"14.00\" fill=\"#000000\">class = versicolor</text>\n",
       "</g>\n",
       "<!-- 49&#45;&gt;50 -->\n",
       "<g id=\"edge50\" class=\"edge\">\n",
       "<title>49&#45;&gt;50</title>\n",
       "<path fill=\"none\" stroke=\"#000000\" d=\"M1441.6504,-441.7677C1439.7084,-431.2251 1437.6004,-419.7816 1435.631,-409.0907\"/>\n",
       "<polygon fill=\"#000000\" stroke=\"#000000\" points=\"1439.049,-408.3256 1433.7952,-399.1252 1432.1649,-409.5938 1439.049,-408.3256\"/>\n",
       "</g>\n",
       "<!-- 51 -->\n",
       "<g id=\"node52\" class=\"node\">\n",
       "<title>51</title>\n",
       "<path fill=\"#c09cf2\" stroke=\"#000000\" d=\"M1665.6736,-406C1665.6736,-406 1520.0813,-406 1520.0813,-406 1514.0813,-406 1508.0813,-400 1508.0813,-394 1508.0813,-394 1508.0813,-340 1508.0813,-340 1508.0813,-334 1514.0813,-328 1520.0813,-328 1520.0813,-328 1665.6736,-328 1665.6736,-328 1671.6736,-328 1677.6736,-334 1677.6736,-340 1677.6736,-340 1677.6736,-394 1677.6736,-394 1677.6736,-400 1671.6736,-406 1665.6736,-406\"/>\n",
       "<text text-anchor=\"middle\" x=\"1592.8774\" y=\"-390.8\" font-family=\"Helvetica,sans-Serif\" font-size=\"14.00\" fill=\"#000000\">sepal width (cm) &lt;= 2.75</text>\n",
       "<text text-anchor=\"middle\" x=\"1592.8774\" y=\"-376.8\" font-family=\"Helvetica,sans-Serif\" font-size=\"14.00\" fill=\"#000000\">gini = 0.444</text>\n",
       "<text text-anchor=\"middle\" x=\"1592.8774\" y=\"-362.8\" font-family=\"Helvetica,sans-Serif\" font-size=\"14.00\" fill=\"#000000\">samples = 9</text>\n",
       "<text text-anchor=\"middle\" x=\"1592.8774\" y=\"-348.8\" font-family=\"Helvetica,sans-Serif\" font-size=\"14.00\" fill=\"#000000\">value = [0, 3, 6]</text>\n",
       "<text text-anchor=\"middle\" x=\"1592.8774\" y=\"-334.8\" font-family=\"Helvetica,sans-Serif\" font-size=\"14.00\" fill=\"#000000\">class = virginica</text>\n",
       "</g>\n",
       "<!-- 49&#45;&gt;51 -->\n",
       "<g id=\"edge51\" class=\"edge\">\n",
       "<title>49&#45;&gt;51</title>\n",
       "<path fill=\"none\" stroke=\"#000000\" d=\"M1498.4341,-441.7677C1510.3133,-432.3633 1523.0981,-422.242 1535.3059,-412.5775\"/>\n",
       "<polygon fill=\"#000000\" stroke=\"#000000\" points=\"1537.5615,-415.2559 1543.2295,-406.3046 1533.2165,-409.7675 1537.5615,-415.2559\"/>\n",
       "</g>\n",
       "<!-- 52 -->\n",
       "<g id=\"node53\" class=\"node\">\n",
       "<title>52</title>\n",
       "<path fill=\"#8139e5\" stroke=\"#000000\" d=\"M1556.5807,-285C1556.5807,-285 1465.1741,-285 1465.1741,-285 1459.1741,-285 1453.1741,-279 1453.1741,-273 1453.1741,-273 1453.1741,-233 1453.1741,-233 1453.1741,-227 1459.1741,-221 1465.1741,-221 1465.1741,-221 1556.5807,-221 1556.5807,-221 1562.5807,-221 1568.5807,-227 1568.5807,-233 1568.5807,-233 1568.5807,-273 1568.5807,-273 1568.5807,-279 1562.5807,-285 1556.5807,-285\"/>\n",
       "<text text-anchor=\"middle\" x=\"1510.8774\" y=\"-269.8\" font-family=\"Helvetica,sans-Serif\" font-size=\"14.00\" fill=\"#000000\">gini = 0.0</text>\n",
       "<text text-anchor=\"middle\" x=\"1510.8774\" y=\"-255.8\" font-family=\"Helvetica,sans-Serif\" font-size=\"14.00\" fill=\"#000000\">samples = 1</text>\n",
       "<text text-anchor=\"middle\" x=\"1510.8774\" y=\"-241.8\" font-family=\"Helvetica,sans-Serif\" font-size=\"14.00\" fill=\"#000000\">value = [0, 0, 1]</text>\n",
       "<text text-anchor=\"middle\" x=\"1510.8774\" y=\"-227.8\" font-family=\"Helvetica,sans-Serif\" font-size=\"14.00\" fill=\"#000000\">class = virginica</text>\n",
       "</g>\n",
       "<!-- 51&#45;&gt;52 -->\n",
       "<g id=\"edge52\" class=\"edge\">\n",
       "<title>51&#45;&gt;52</title>\n",
       "<path fill=\"none\" stroke=\"#000000\" d=\"M1564.6577,-327.7677C1556.6836,-316.6817 1547.9928,-304.5994 1539.9685,-293.4436\"/>\n",
       "<polygon fill=\"#000000\" stroke=\"#000000\" points=\"1542.6657,-291.1995 1533.985,-285.1252 1536.9831,-295.287 1542.6657,-291.1995\"/>\n",
       "</g>\n",
       "<!-- 53 -->\n",
       "<g id=\"node54\" class=\"node\">\n",
       "<title>53</title>\n",
       "<path fill=\"#cdb0f5\" stroke=\"#000000\" d=\"M1749.1354,-292C1749.1354,-292 1598.6195,-292 1598.6195,-292 1592.6195,-292 1586.6195,-286 1586.6195,-280 1586.6195,-280 1586.6195,-226 1586.6195,-226 1586.6195,-220 1592.6195,-214 1598.6195,-214 1598.6195,-214 1749.1354,-214 1749.1354,-214 1755.1354,-214 1761.1354,-220 1761.1354,-226 1761.1354,-226 1761.1354,-280 1761.1354,-280 1761.1354,-286 1755.1354,-292 1749.1354,-292\"/>\n",
       "<text text-anchor=\"middle\" x=\"1673.8774\" y=\"-276.8\" font-family=\"Helvetica,sans-Serif\" font-size=\"14.00\" fill=\"#000000\">sepal length (cm) &lt;= 6.75</text>\n",
       "<text text-anchor=\"middle\" x=\"1673.8774\" y=\"-262.8\" font-family=\"Helvetica,sans-Serif\" font-size=\"14.00\" fill=\"#000000\">gini = 0.469</text>\n",
       "<text text-anchor=\"middle\" x=\"1673.8774\" y=\"-248.8\" font-family=\"Helvetica,sans-Serif\" font-size=\"14.00\" fill=\"#000000\">samples = 8</text>\n",
       "<text text-anchor=\"middle\" x=\"1673.8774\" y=\"-234.8\" font-family=\"Helvetica,sans-Serif\" font-size=\"14.00\" fill=\"#000000\">value = [0, 3, 5]</text>\n",
       "<text text-anchor=\"middle\" x=\"1673.8774\" y=\"-220.8\" font-family=\"Helvetica,sans-Serif\" font-size=\"14.00\" fill=\"#000000\">class = virginica</text>\n",
       "</g>\n",
       "<!-- 51&#45;&gt;53 -->\n",
       "<g id=\"edge53\" class=\"edge\">\n",
       "<title>51&#45;&gt;53</title>\n",
       "<path fill=\"none\" stroke=\"#000000\" d=\"M1620.753,-327.7677C1626.9896,-318.9903 1633.67,-309.5883 1640.116,-300.5161\"/>\n",
       "<polygon fill=\"#000000\" stroke=\"#000000\" points=\"1643.0115,-302.4837 1645.9505,-292.3046 1637.3052,-298.4292 1643.0115,-302.4837\"/>\n",
       "</g>\n",
       "<!-- 54 -->\n",
       "<g id=\"node55\" class=\"node\">\n",
       "<title>54</title>\n",
       "<path fill=\"#ffffff\" stroke=\"#000000\" d=\"M1661.6736,-178C1661.6736,-178 1516.0813,-178 1516.0813,-178 1510.0813,-178 1504.0813,-172 1504.0813,-166 1504.0813,-166 1504.0813,-112 1504.0813,-112 1504.0813,-106 1510.0813,-100 1516.0813,-100 1516.0813,-100 1661.6736,-100 1661.6736,-100 1667.6736,-100 1673.6736,-106 1673.6736,-112 1673.6736,-112 1673.6736,-166 1673.6736,-166 1673.6736,-172 1667.6736,-178 1661.6736,-178\"/>\n",
       "<text text-anchor=\"middle\" x=\"1588.8774\" y=\"-162.8\" font-family=\"Helvetica,sans-Serif\" font-size=\"14.00\" fill=\"#000000\">sepal width (cm) &lt;= 3.05</text>\n",
       "<text text-anchor=\"middle\" x=\"1588.8774\" y=\"-148.8\" font-family=\"Helvetica,sans-Serif\" font-size=\"14.00\" fill=\"#000000\">gini = 0.5</text>\n",
       "<text text-anchor=\"middle\" x=\"1588.8774\" y=\"-134.8\" font-family=\"Helvetica,sans-Serif\" font-size=\"14.00\" fill=\"#000000\">samples = 4</text>\n",
       "<text text-anchor=\"middle\" x=\"1588.8774\" y=\"-120.8\" font-family=\"Helvetica,sans-Serif\" font-size=\"14.00\" fill=\"#000000\">value = [0, 2, 2]</text>\n",
       "<text text-anchor=\"middle\" x=\"1588.8774\" y=\"-106.8\" font-family=\"Helvetica,sans-Serif\" font-size=\"14.00\" fill=\"#000000\">class = versicolor</text>\n",
       "</g>\n",
       "<!-- 53&#45;&gt;54 -->\n",
       "<g id=\"edge54\" class=\"edge\">\n",
       "<title>53&#45;&gt;54</title>\n",
       "<path fill=\"none\" stroke=\"#000000\" d=\"M1644.6253,-213.7677C1638.0807,-204.9903 1631.0705,-195.5883 1624.3061,-186.5161\"/>\n",
       "<polygon fill=\"#000000\" stroke=\"#000000\" points=\"1626.967,-184.2294 1618.1835,-178.3046 1621.3551,-188.4136 1626.967,-184.2294\"/>\n",
       "</g>\n",
       "<!-- 57 -->\n",
       "<g id=\"node58\" class=\"node\">\n",
       "<title>57</title>\n",
       "<path fill=\"#ab7bee\" stroke=\"#000000\" d=\"M1848.6736,-178C1848.6736,-178 1703.0813,-178 1703.0813,-178 1697.0813,-178 1691.0813,-172 1691.0813,-166 1691.0813,-166 1691.0813,-112 1691.0813,-112 1691.0813,-106 1697.0813,-100 1703.0813,-100 1703.0813,-100 1848.6736,-100 1848.6736,-100 1854.6736,-100 1860.6736,-106 1860.6736,-112 1860.6736,-112 1860.6736,-166 1860.6736,-166 1860.6736,-172 1854.6736,-178 1848.6736,-178\"/>\n",
       "<text text-anchor=\"middle\" x=\"1775.8774\" y=\"-162.8\" font-family=\"Helvetica,sans-Serif\" font-size=\"14.00\" fill=\"#000000\">sepal width (cm) &lt;= 3.05</text>\n",
       "<text text-anchor=\"middle\" x=\"1775.8774\" y=\"-148.8\" font-family=\"Helvetica,sans-Serif\" font-size=\"14.00\" fill=\"#000000\">gini = 0.375</text>\n",
       "<text text-anchor=\"middle\" x=\"1775.8774\" y=\"-134.8\" font-family=\"Helvetica,sans-Serif\" font-size=\"14.00\" fill=\"#000000\">samples = 4</text>\n",
       "<text text-anchor=\"middle\" x=\"1775.8774\" y=\"-120.8\" font-family=\"Helvetica,sans-Serif\" font-size=\"14.00\" fill=\"#000000\">value = [0, 1, 3]</text>\n",
       "<text text-anchor=\"middle\" x=\"1775.8774\" y=\"-106.8\" font-family=\"Helvetica,sans-Serif\" font-size=\"14.00\" fill=\"#000000\">class = virginica</text>\n",
       "</g>\n",
       "<!-- 53&#45;&gt;57 -->\n",
       "<g id=\"edge57\" class=\"edge\">\n",
       "<title>53&#45;&gt;57</title>\n",
       "<path fill=\"none\" stroke=\"#000000\" d=\"M1708.9801,-213.7677C1716.9938,-204.8111 1725.5894,-195.2043 1733.8596,-185.9611\"/>\n",
       "<polygon fill=\"#000000\" stroke=\"#000000\" points=\"1736.6505,-188.0909 1740.7101,-178.3046 1731.4338,-183.4233 1736.6505,-188.0909\"/>\n",
       "</g>\n",
       "<!-- 55 -->\n",
       "<g id=\"node56\" class=\"node\">\n",
       "<title>55</title>\n",
       "<path fill=\"#ffffff\" stroke=\"#000000\" d=\"M1512.6326,-64C1512.6326,-64 1413.1223,-64 1413.1223,-64 1407.1223,-64 1401.1223,-58 1401.1223,-52 1401.1223,-52 1401.1223,-12 1401.1223,-12 1401.1223,-6 1407.1223,0 1413.1223,0 1413.1223,0 1512.6326,0 1512.6326,0 1518.6326,0 1524.6326,-6 1524.6326,-12 1524.6326,-12 1524.6326,-52 1524.6326,-52 1524.6326,-58 1518.6326,-64 1512.6326,-64\"/>\n",
       "<text text-anchor=\"middle\" x=\"1462.8774\" y=\"-48.8\" font-family=\"Helvetica,sans-Serif\" font-size=\"14.00\" fill=\"#000000\">gini = 0.5</text>\n",
       "<text text-anchor=\"middle\" x=\"1462.8774\" y=\"-34.8\" font-family=\"Helvetica,sans-Serif\" font-size=\"14.00\" fill=\"#000000\">samples = 2</text>\n",
       "<text text-anchor=\"middle\" x=\"1462.8774\" y=\"-20.8\" font-family=\"Helvetica,sans-Serif\" font-size=\"14.00\" fill=\"#000000\">value = [0, 1, 1]</text>\n",
       "<text text-anchor=\"middle\" x=\"1462.8774\" y=\"-6.8\" font-family=\"Helvetica,sans-Serif\" font-size=\"14.00\" fill=\"#000000\">class = versicolor</text>\n",
       "</g>\n",
       "<!-- 54&#45;&gt;55 -->\n",
       "<g id=\"edge55\" class=\"edge\">\n",
       "<title>54&#45;&gt;55</title>\n",
       "<path fill=\"none\" stroke=\"#000000\" d=\"M1542.6752,-99.7647C1531.5978,-90.3577 1519.7729,-80.316 1508.7123,-70.9232\"/>\n",
       "<polygon fill=\"#000000\" stroke=\"#000000\" points=\"1510.703,-68.022 1500.8151,-64.2169 1506.1719,-73.3577 1510.703,-68.022\"/>\n",
       "</g>\n",
       "<!-- 56 -->\n",
       "<g id=\"node57\" class=\"node\">\n",
       "<title>56</title>\n",
       "<path fill=\"#ffffff\" stroke=\"#000000\" d=\"M1654.6326,-64C1654.6326,-64 1555.1223,-64 1555.1223,-64 1549.1223,-64 1543.1223,-58 1543.1223,-52 1543.1223,-52 1543.1223,-12 1543.1223,-12 1543.1223,-6 1549.1223,0 1555.1223,0 1555.1223,0 1654.6326,0 1654.6326,0 1660.6326,0 1666.6326,-6 1666.6326,-12 1666.6326,-12 1666.6326,-52 1666.6326,-52 1666.6326,-58 1660.6326,-64 1654.6326,-64\"/>\n",
       "<text text-anchor=\"middle\" x=\"1604.8774\" y=\"-48.8\" font-family=\"Helvetica,sans-Serif\" font-size=\"14.00\" fill=\"#000000\">gini = 0.5</text>\n",
       "<text text-anchor=\"middle\" x=\"1604.8774\" y=\"-34.8\" font-family=\"Helvetica,sans-Serif\" font-size=\"14.00\" fill=\"#000000\">samples = 2</text>\n",
       "<text text-anchor=\"middle\" x=\"1604.8774\" y=\"-20.8\" font-family=\"Helvetica,sans-Serif\" font-size=\"14.00\" fill=\"#000000\">value = [0, 1, 1]</text>\n",
       "<text text-anchor=\"middle\" x=\"1604.8774\" y=\"-6.8\" font-family=\"Helvetica,sans-Serif\" font-size=\"14.00\" fill=\"#000000\">class = versicolor</text>\n",
       "</g>\n",
       "<!-- 54&#45;&gt;56 -->\n",
       "<g id=\"edge56\" class=\"edge\">\n",
       "<title>54&#45;&gt;56</title>\n",
       "<path fill=\"none\" stroke=\"#000000\" d=\"M1594.7444,-99.7647C1595.9872,-91.4537 1597.304,-82.6472 1598.5626,-74.2305\"/>\n",
       "<polygon fill=\"#000000\" stroke=\"#000000\" points=\"1602.0425,-74.6246 1600.06,-64.2169 1595.1195,-73.5893 1602.0425,-74.6246\"/>\n",
       "</g>\n",
       "<!-- 58 -->\n",
       "<g id=\"node59\" class=\"node\">\n",
       "<title>58</title>\n",
       "<path fill=\"#8139e5\" stroke=\"#000000\" d=\"M1809.5807,-64C1809.5807,-64 1718.1741,-64 1718.1741,-64 1712.1741,-64 1706.1741,-58 1706.1741,-52 1706.1741,-52 1706.1741,-12 1706.1741,-12 1706.1741,-6 1712.1741,0 1718.1741,0 1718.1741,0 1809.5807,0 1809.5807,0 1815.5807,0 1821.5807,-6 1821.5807,-12 1821.5807,-12 1821.5807,-52 1821.5807,-52 1821.5807,-58 1815.5807,-64 1809.5807,-64\"/>\n",
       "<text text-anchor=\"middle\" x=\"1763.8774\" y=\"-48.8\" font-family=\"Helvetica,sans-Serif\" font-size=\"14.00\" fill=\"#000000\">gini = 0.0</text>\n",
       "<text text-anchor=\"middle\" x=\"1763.8774\" y=\"-34.8\" font-family=\"Helvetica,sans-Serif\" font-size=\"14.00\" fill=\"#000000\">samples = 1</text>\n",
       "<text text-anchor=\"middle\" x=\"1763.8774\" y=\"-20.8\" font-family=\"Helvetica,sans-Serif\" font-size=\"14.00\" fill=\"#000000\">value = [0, 0, 1]</text>\n",
       "<text text-anchor=\"middle\" x=\"1763.8774\" y=\"-6.8\" font-family=\"Helvetica,sans-Serif\" font-size=\"14.00\" fill=\"#000000\">class = virginica</text>\n",
       "</g>\n",
       "<!-- 57&#45;&gt;58 -->\n",
       "<g id=\"edge58\" class=\"edge\">\n",
       "<title>57&#45;&gt;58</title>\n",
       "<path fill=\"none\" stroke=\"#000000\" d=\"M1771.4772,-99.7647C1770.5451,-91.4537 1769.5575,-82.6472 1768.6136,-74.2305\"/>\n",
       "<polygon fill=\"#000000\" stroke=\"#000000\" points=\"1772.0833,-73.7645 1767.4905,-64.2169 1765.127,-74.5447 1772.0833,-73.7645\"/>\n",
       "</g>\n",
       "<!-- 59 -->\n",
       "<g id=\"node60\" class=\"node\">\n",
       "<title>59</title>\n",
       "<path fill=\"#c09cf2\" stroke=\"#000000\" d=\"M1942.5807,-64C1942.5807,-64 1851.1741,-64 1851.1741,-64 1845.1741,-64 1839.1741,-58 1839.1741,-52 1839.1741,-52 1839.1741,-12 1839.1741,-12 1839.1741,-6 1845.1741,0 1851.1741,0 1851.1741,0 1942.5807,0 1942.5807,0 1948.5807,0 1954.5807,-6 1954.5807,-12 1954.5807,-12 1954.5807,-52 1954.5807,-52 1954.5807,-58 1948.5807,-64 1942.5807,-64\"/>\n",
       "<text text-anchor=\"middle\" x=\"1896.8774\" y=\"-48.8\" font-family=\"Helvetica,sans-Serif\" font-size=\"14.00\" fill=\"#000000\">gini = 0.444</text>\n",
       "<text text-anchor=\"middle\" x=\"1896.8774\" y=\"-34.8\" font-family=\"Helvetica,sans-Serif\" font-size=\"14.00\" fill=\"#000000\">samples = 3</text>\n",
       "<text text-anchor=\"middle\" x=\"1896.8774\" y=\"-20.8\" font-family=\"Helvetica,sans-Serif\" font-size=\"14.00\" fill=\"#000000\">value = [0, 1, 2]</text>\n",
       "<text text-anchor=\"middle\" x=\"1896.8774\" y=\"-6.8\" font-family=\"Helvetica,sans-Serif\" font-size=\"14.00\" fill=\"#000000\">class = virginica</text>\n",
       "</g>\n",
       "<!-- 57&#45;&gt;59 -->\n",
       "<g id=\"edge59\" class=\"edge\">\n",
       "<title>57&#45;&gt;59</title>\n",
       "<path fill=\"none\" stroke=\"#000000\" d=\"M1820.2463,-99.7647C1830.8841,-90.3577 1842.2397,-80.316 1852.8615,-70.9232\"/>\n",
       "<polygon fill=\"#000000\" stroke=\"#000000\" points=\"1855.2727,-73.4632 1860.4453,-64.2169 1850.6355,-68.2194 1855.2727,-73.4632\"/>\n",
       "</g>\n",
       "<!-- 61 -->\n",
       "<g id=\"node62\" class=\"node\">\n",
       "<title>61</title>\n",
       "<path fill=\"#c09cf2\" stroke=\"#000000\" d=\"M1830.6736,-520C1830.6736,-520 1685.0813,-520 1685.0813,-520 1679.0813,-520 1673.0813,-514 1673.0813,-508 1673.0813,-508 1673.0813,-454 1673.0813,-454 1673.0813,-448 1679.0813,-442 1685.0813,-442 1685.0813,-442 1830.6736,-442 1830.6736,-442 1836.6736,-442 1842.6736,-448 1842.6736,-454 1842.6736,-454 1842.6736,-508 1842.6736,-508 1842.6736,-514 1836.6736,-520 1830.6736,-520\"/>\n",
       "<text text-anchor=\"middle\" x=\"1757.8774\" y=\"-504.8\" font-family=\"Helvetica,sans-Serif\" font-size=\"14.00\" fill=\"#000000\">sepal width (cm) &lt;= 3.35</text>\n",
       "<text text-anchor=\"middle\" x=\"1757.8774\" y=\"-490.8\" font-family=\"Helvetica,sans-Serif\" font-size=\"14.00\" fill=\"#000000\">gini = 0.444</text>\n",
       "<text text-anchor=\"middle\" x=\"1757.8774\" y=\"-476.8\" font-family=\"Helvetica,sans-Serif\" font-size=\"14.00\" fill=\"#000000\">samples = 3</text>\n",
       "<text text-anchor=\"middle\" x=\"1757.8774\" y=\"-462.8\" font-family=\"Helvetica,sans-Serif\" font-size=\"14.00\" fill=\"#000000\">value = [0, 1, 2]</text>\n",
       "<text text-anchor=\"middle\" x=\"1757.8774\" y=\"-448.8\" font-family=\"Helvetica,sans-Serif\" font-size=\"14.00\" fill=\"#000000\">class = virginica</text>\n",
       "</g>\n",
       "<!-- 60&#45;&gt;61 -->\n",
       "<g id=\"edge61\" class=\"edge\">\n",
       "<title>60&#45;&gt;61</title>\n",
       "<path fill=\"none\" stroke=\"#000000\" d=\"M1757.8774,-555.7677C1757.8774,-547.6172 1757.8774,-538.9283 1757.8774,-530.4649\"/>\n",
       "<polygon fill=\"#000000\" stroke=\"#000000\" points=\"1761.3775,-530.3046 1757.8774,-520.3046 1754.3775,-530.3047 1761.3775,-530.3046\"/>\n",
       "</g>\n",
       "<!-- 64 -->\n",
       "<g id=\"node65\" class=\"node\">\n",
       "<title>64</title>\n",
       "<path fill=\"#8139e5\" stroke=\"#000000\" d=\"M1963.5807,-513C1963.5807,-513 1872.1741,-513 1872.1741,-513 1866.1741,-513 1860.1741,-507 1860.1741,-501 1860.1741,-501 1860.1741,-461 1860.1741,-461 1860.1741,-455 1866.1741,-449 1872.1741,-449 1872.1741,-449 1963.5807,-449 1963.5807,-449 1969.5807,-449 1975.5807,-455 1975.5807,-461 1975.5807,-461 1975.5807,-501 1975.5807,-501 1975.5807,-507 1969.5807,-513 1963.5807,-513\"/>\n",
       "<text text-anchor=\"middle\" x=\"1917.8774\" y=\"-497.8\" font-family=\"Helvetica,sans-Serif\" font-size=\"14.00\" fill=\"#000000\">gini = 0.0</text>\n",
       "<text text-anchor=\"middle\" x=\"1917.8774\" y=\"-483.8\" font-family=\"Helvetica,sans-Serif\" font-size=\"14.00\" fill=\"#000000\">samples = 6</text>\n",
       "<text text-anchor=\"middle\" x=\"1917.8774\" y=\"-469.8\" font-family=\"Helvetica,sans-Serif\" font-size=\"14.00\" fill=\"#000000\">value = [0, 0, 6]</text>\n",
       "<text text-anchor=\"middle\" x=\"1917.8774\" y=\"-455.8\" font-family=\"Helvetica,sans-Serif\" font-size=\"14.00\" fill=\"#000000\">class = virginica</text>\n",
       "</g>\n",
       "<!-- 60&#45;&gt;64 -->\n",
       "<g id=\"edge64\" class=\"edge\">\n",
       "<title>60&#45;&gt;64</title>\n",
       "<path fill=\"none\" stroke=\"#000000\" d=\"M1812.9404,-555.7677C1829.5674,-543.9209 1847.7913,-530.9364 1864.3187,-519.1606\"/>\n",
       "<polygon fill=\"#000000\" stroke=\"#000000\" points=\"1866.6762,-521.7785 1872.7894,-513.1252 1862.6142,-516.0775 1866.6762,-521.7785\"/>\n",
       "</g>\n",
       "<!-- 62 -->\n",
       "<g id=\"node63\" class=\"node\">\n",
       "<title>62</title>\n",
       "<path fill=\"#39e581\" stroke=\"#000000\" d=\"M1807.6326,-399C1807.6326,-399 1708.1223,-399 1708.1223,-399 1702.1223,-399 1696.1223,-393 1696.1223,-387 1696.1223,-387 1696.1223,-347 1696.1223,-347 1696.1223,-341 1702.1223,-335 1708.1223,-335 1708.1223,-335 1807.6326,-335 1807.6326,-335 1813.6326,-335 1819.6326,-341 1819.6326,-347 1819.6326,-347 1819.6326,-387 1819.6326,-387 1819.6326,-393 1813.6326,-399 1807.6326,-399\"/>\n",
       "<text text-anchor=\"middle\" x=\"1757.8774\" y=\"-383.8\" font-family=\"Helvetica,sans-Serif\" font-size=\"14.00\" fill=\"#000000\">gini = 0.0</text>\n",
       "<text text-anchor=\"middle\" x=\"1757.8774\" y=\"-369.8\" font-family=\"Helvetica,sans-Serif\" font-size=\"14.00\" fill=\"#000000\">samples = 1</text>\n",
       "<text text-anchor=\"middle\" x=\"1757.8774\" y=\"-355.8\" font-family=\"Helvetica,sans-Serif\" font-size=\"14.00\" fill=\"#000000\">value = [0, 1, 0]</text>\n",
       "<text text-anchor=\"middle\" x=\"1757.8774\" y=\"-341.8\" font-family=\"Helvetica,sans-Serif\" font-size=\"14.00\" fill=\"#000000\">class = versicolor</text>\n",
       "</g>\n",
       "<!-- 61&#45;&gt;62 -->\n",
       "<g id=\"edge62\" class=\"edge\">\n",
       "<title>61&#45;&gt;62</title>\n",
       "<path fill=\"none\" stroke=\"#000000\" d=\"M1757.8774,-441.7677C1757.8774,-431.3338 1757.8774,-420.0174 1757.8774,-409.4215\"/>\n",
       "<polygon fill=\"#000000\" stroke=\"#000000\" points=\"1761.3775,-409.1252 1757.8774,-399.1252 1754.3775,-409.1252 1761.3775,-409.1252\"/>\n",
       "</g>\n",
       "<!-- 63 -->\n",
       "<g id=\"node64\" class=\"node\">\n",
       "<title>63</title>\n",
       "<path fill=\"#8139e5\" stroke=\"#000000\" d=\"M1940.5807,-399C1940.5807,-399 1849.1741,-399 1849.1741,-399 1843.1741,-399 1837.1741,-393 1837.1741,-387 1837.1741,-387 1837.1741,-347 1837.1741,-347 1837.1741,-341 1843.1741,-335 1849.1741,-335 1849.1741,-335 1940.5807,-335 1940.5807,-335 1946.5807,-335 1952.5807,-341 1952.5807,-347 1952.5807,-347 1952.5807,-387 1952.5807,-387 1952.5807,-393 1946.5807,-399 1940.5807,-399\"/>\n",
       "<text text-anchor=\"middle\" x=\"1894.8774\" y=\"-383.8\" font-family=\"Helvetica,sans-Serif\" font-size=\"14.00\" fill=\"#000000\">gini = 0.0</text>\n",
       "<text text-anchor=\"middle\" x=\"1894.8774\" y=\"-369.8\" font-family=\"Helvetica,sans-Serif\" font-size=\"14.00\" fill=\"#000000\">samples = 2</text>\n",
       "<text text-anchor=\"middle\" x=\"1894.8774\" y=\"-355.8\" font-family=\"Helvetica,sans-Serif\" font-size=\"14.00\" fill=\"#000000\">value = [0, 0, 2]</text>\n",
       "<text text-anchor=\"middle\" x=\"1894.8774\" y=\"-341.8\" font-family=\"Helvetica,sans-Serif\" font-size=\"14.00\" fill=\"#000000\">class = virginica</text>\n",
       "</g>\n",
       "<!-- 61&#45;&gt;63 -->\n",
       "<g id=\"edge63\" class=\"edge\">\n",
       "<title>61&#45;&gt;63</title>\n",
       "<path fill=\"none\" stroke=\"#000000\" d=\"M1805.0251,-441.7677C1819.0008,-430.1383 1834.294,-417.4125 1848.2374,-405.81\"/>\n",
       "<polygon fill=\"#000000\" stroke=\"#000000\" points=\"1850.8227,-408.2119 1856.2708,-399.1252 1846.3453,-402.8312 1850.8227,-408.2119\"/>\n",
       "</g>\n",
       "</g>\n",
       "</svg>\n"
      ],
      "text/plain": [
       "<graphviz.files.Source at 0x10f4cae48>"
      ]
     },
     "execution_count": 11,
     "metadata": {},
     "output_type": "execute_result"
    }
   ],
   "source": [
    "from sklearn.tree import export_graphviz\n",
    "import graphviz\n",
    "\n",
    "# We load iris data again to retrieve features and classes names\n",
    "iris = load_iris()\n",
    "\n",
    "# We export the tree in graphviz format \n",
    "dot_data = export_graphviz(dt,\n",
    "                           out_file=None,\n",
    "                           feature_names=iris.feature_names[:2],  \n",
    "                           class_names=iris.target_names,  \n",
    "                           filled=True, rounded=True)\n",
    "\n",
    "# We load the tree again with graphviz library in order to display it\n",
    "graph = graphviz.Source(dot_data)\n",
    "graph"
   ]
  },
  {
   "cell_type": "markdown",
   "metadata": {
    "slideshow": {
     "slide_type": "subslide"
    }
   },
   "source": [
    "## II.3. Interpretability"
   ]
  },
  {
   "cell_type": "markdown",
   "metadata": {
    "slideshow": {
     "slide_type": "subslide"
    }
   },
   "source": [
    "With trees, it becomes very easy to inspect and understand important features in our model decision. \n",
    "\n",
    "You just have to inspect `feature_importances_` attribute! "
   ]
  },
  {
   "cell_type": "code",
   "execution_count": 10,
   "metadata": {
    "ExecuteTime": {
     "end_time": "2019-10-21T09:20:48.384326Z",
     "start_time": "2019-10-21T09:20:48.378616Z"
    }
   },
   "outputs": [
    {
     "name": "stdout",
     "output_type": "stream",
     "text": [
      "[0.74427196 0.25572804]\n"
     ]
    }
   ],
   "source": [
    "print(dt.feature_importances_)"
   ]
  },
  {
   "cell_type": "markdown",
   "metadata": {
    "slideshow": {
     "slide_type": "subslide"
    }
   },
   "source": [
    "Or if you want to make it more visual 🙂"
   ]
  },
  {
   "cell_type": "code",
   "execution_count": 13,
   "metadata": {
    "ExecuteTime": {
     "end_time": "2019-07-18T13:28:02.288516Z",
     "start_time": "2019-07-18T13:28:02.145275Z"
    }
   },
   "outputs": [
    {
     "data": {
      "image/png": "[encoded data removed]",
      "text/plain": [
       "<Figure size 432x288 with 1 Axes>"
      ]
     },
     "metadata": {
      "needs_background": "light"
     },
     "output_type": "display_data"
    },
    {
     "name": "stdout",
     "output_type": "stream",
     "text": [
      "sepal length (cm) - 0.745\n",
      "sepal width (cm) - 0.255\n"
     ]
    }
   ],
   "source": [
    "# Feature importances\n",
    "features = iris.feature_names[:2]\n",
    "importances = dt.feature_importances_\n",
    "indices = np.argsort(importances)[::-1]\n",
    "num_features = len(importances)\n",
    "\n",
    "# Plot the feature importances of the tree\n",
    "plt.figure()\n",
    "plt.title(\"Feature importances\")\n",
    "plt.bar(range(num_features), importances[indices], color=\"g\", align=\"center\")\n",
    "plt.xticks(range(num_features), [features[i] for i in indices], rotation='45')\n",
    "plt.xlim([-1, num_features])\n",
    "plt.show()\n",
    "\n",
    "# Print values\n",
    "for i in indices:\n",
    "    print (\"{0} - {1:.3f}\".format(features[i], importances[i]))"
   ]
  },
  {
   "cell_type": "markdown",
   "metadata": {
    "slideshow": {
     "slide_type": "subslide"
    }
   },
   "source": [
    "## II.4. Impact and meaning of parameters"
   ]
  },
  {
   "cell_type": "markdown",
   "metadata": {
    "slideshow": {
     "slide_type": "subslide"
    }
   },
   "source": [
    "- **criterion**: The function to measure the quality of a split. For example `Gini Impurity` or `Entropy` \n",
    "\n",
    "\n",
    "- **max_depth**: The maximum depth of the tree\n",
    "\n",
    "\n",
    "- **min_samples_split**: The minimum number of samples required to split an internal node\n",
    "\n",
    "\n",
    "- **min_samples_leaf**: The minimum number of samples required to be at a leaf node.\n",
    "\n",
    " \n",
    "- **min_weight_fraction_leaf** : The minimum weighted fraction of the sum total of weights (of all\n",
    "    the input samples) required to be at a leaf node. Samples have\n",
    "    equal weight when sample_weight is not provided.\n",
    "    \n",
    "\n",
    "- **max_features**: The number of features to consider when looking for the best split.\n",
    "\n",
    "\n",
    "    Note: the search for a split does not stop until at least one\n",
    "    valid partition of the node samples is found, even if it requires to\n",
    "    effectively inspect more than ``max_features`` features.\n",
    "    \n",
    "\n",
    "- **max_leaf_nodes** : Grow a tree with ``max_leaf_nodes`` in best-first fashion.\n",
    "    Best nodes are defined as relative reduction in impurity.\n",
    "    If None then unlimited number of leaf nodes.\n",
    "    \n",
    "\n",
    "- **min_impurity_decrease**: A node will be split if this split induces a decrease of the impurity\n",
    "    greater than or equal to this value."
   ]
  },
  {
   "cell_type": "markdown",
   "metadata": {
    "slideshow": {
     "slide_type": "-"
    }
   },
   "source": [
    "---"
   ]
  },
  {
   "cell_type": "markdown",
   "metadata": {
    "slideshow": {
     "slide_type": "slide"
    }
   },
   "source": [
    "# III. How is the tree constructed?"
   ]
  },
  {
   "cell_type": "markdown",
   "metadata": {
    "slideshow": {
     "slide_type": "subslide"
    }
   },
   "source": [
    "## III.1. Greedy algorithm"
   ]
  },
  {
   "cell_type": "markdown",
   "metadata": {},
   "source": [
    "We construct our tree using a **greedy algorithm**. It means that it does not look ahead and chooses to split the data based on the best possible feature given the current dataset."
   ]
  },
  {
   "cell_type": "markdown",
   "metadata": {},
   "source": [
    "At a given step, the model computes a \"measure of disorder\" of our dataset, and attemps to \"reduce this disorder\". It tries to reduce this disorder by splitting our dataset based on 1 feature.\n",
    "\n",
    "In order to know which feature to split on, the algorithm needs tro try them all."
   ]
  },
  {
   "cell_type": "markdown",
   "metadata": {},
   "source": [
    "We can choose different \"measures of disorder\" when building our tree: the most common are **Entropy** or **Gini Impurity**. We define them below."
   ]
  },
  {
   "cell_type": "markdown",
   "metadata": {},
   "source": [
    "> 📚 **Resources**: Splitting on a discrete variable is straightforward. If you are wondering how the algorithm splits on a continuous variable, [check this link](https://datascience.stackexchange.com/questions/24339/how-is-a-splitting-point-chosen-for-continuous-variables-in-decision-trees)"
   ]
  },
  {
   "cell_type": "markdown",
   "metadata": {
    "slideshow": {
     "slide_type": "subslide"
    }
   },
   "source": [
    "## III.2. Entropy"
   ]
  },
  {
   "cell_type": "markdown",
   "metadata": {
    "slideshow": {
     "slide_type": "subslide"
    }
   },
   "source": [
    "### III.2.A. Definition"
   ]
  },
  {
   "cell_type": "markdown",
   "metadata": {},
   "source": [
    "The **Entropy** is a **measure of randomness (or unpredictability)** in the dataset.\n",
    "\n",
    "We define the **Entropy of a dataset** like this: \n",
    "![](https://chart.apis.google.com/chart?cht=tx&chl=E%3D-%5Csum_ip_i%5Clog_2p_i%20%2C)\n",
    "\n",
    "where $p_i$ corresponds to the ratios of elements of each label `i` in the set"
   ]
  },
  {
   "cell_type": "markdown",
   "metadata": {},
   "source": [
    "If you chart the **Binary Entropy function** (the Entropy for a random variable `X` that can take one out of 2 values (`a` and `b` for example) using the formula above for every possible value of `p(X=a)`, it looks like this: \n",
    "\n",
    "<p align=\"center\">\n",
    "<img src=\"https://i.stack.imgur.com/OUgcx.png\">\n",
    "</p>\n",
    "\n",
    "> 🔦 **Hint**: It reaches its maximum when the probability is p=1/2, meaning that $p(X=a)=0.5$ or similarly $p(X=b)=0.5$ having a 50%/50% chance of being either a or b (uncertainty is at a maximum). The entropy function is at zero minimum when probability is p=1 or p=0 with complete certainty ( $p(X=a)=1$ or $p(X=a)=0$ respectively, latter implies $p(X=b)=1$ )."
   ]
  },
  {
   "cell_type": "markdown",
   "metadata": {
    "slideshow": {
     "slide_type": "subslide"
    }
   },
   "source": [
    "### III.2.B. Illustration"
   ]
  },
  {
   "cell_type": "markdown",
   "metadata": {},
   "source": [
    "<img src=\"https://drive.google.com/uc?export=view&id=1mGOOvmwCiBTxZCMeJ2h6ja14Frh1fM0c\">"
   ]
  },
  {
   "cell_type": "markdown",
   "metadata": {},
   "source": [
    "At each step, we can compute the Entropy of our splitted dataset by computing the **weighted mean of Entropy** of all subsets:\n",
    "\n",
    "![](https://chart.apis.google.com/chart?cht=tx&chl=E_%7B%5Crm%20split%7D%3D%5Cfrac%7BN_1%7D%7BN%7DE_1%2B%5Cfrac%7BN_2%7D%7BN%7DE_2)"
   ]
  },
  {
   "cell_type": "markdown",
   "metadata": {},
   "source": [
    "Splitting our dataset into two subsets \"with less randomness\" reduces our entropy."
   ]
  },
  {
   "cell_type": "markdown",
   "metadata": {
    "slideshow": {
     "slide_type": "subslide"
    }
   },
   "source": [
    "## III.2. Gini Impurity"
   ]
  },
  {
   "cell_type": "markdown",
   "metadata": {
    "slideshow": {
     "slide_type": "subslide"
    }
   },
   "source": [
    "Instead of computing **Entropy** at each split, we could also compute another \"measure of disorder\" called the **Gini Impurity**:\n",
    "\n",
    "It is defined as such:\n",
    "\n",
    "$$\n",
    "I_{{G}}(f)=\\sum _{{i=1}}^{{m}}f_{i}(1-f_{i})=\\sum _{{i=1}}^{{m}}(f_{i}-{f_{i}}^{2})=\\sum _{{i=1}}^{m}f_{i}-\\sum _{{i=1}}^{{m}}{f_{i}}^{2}=1-\\sum _{{i=1}}^{{m}}{f_{i}}^{{2}}\n",
    "$$\n",
    "\n",
    "In other words, to find the Gini impurity, **start at 1 and subtract the squared proportion of each label in the set**. Gini impurity is a measure of how often a randomly chosen element from the set would be incorrectly labeled if it was randomly labeled according to the distribution of labels in the subset."
   ]
  },
  {
   "cell_type": "markdown",
   "metadata": {},
   "source": [
    "<p align=\"center\">\n",
    "<img src=\"https://drive.google.com/uc?export=view&id=1vGvHB-oPksgqCEI78jSUPwNU9d2AGV4v\" width=\"500\">\n",
    "</p>"
   ]
  },
  {
   "cell_type": "markdown",
   "metadata": {},
   "source": [
    "*Should you use Gini or Entropy?*\n",
    "- Your performance will almost never change whether you use Gini impurity or Entropy.\n",
    "- Entropy might be a little slower to compute"
   ]
  },
  {
   "cell_type": "markdown",
   "metadata": {
    "slideshow": {
     "slide_type": "subslide"
    }
   },
   "source": [
    "## III.3. (Weighted) Information Gain"
   ]
  },
  {
   "cell_type": "markdown",
   "metadata": {
    "slideshow": {
     "slide_type": "slide"
    }
   },
   "source": [
    "Finally, given the \"measure of disorder\" (Entropy or Gini Impurity) of a parent dataset and of children datasets, we can compute the **Information Gain** which corresponds of the  **measure of the decrease** of our \"measure of disorder\"  after the data split."
   ]
  },
  {
   "cell_type": "markdown",
   "metadata": {
    "slideshow": {
     "slide_type": "slide"
    }
   },
   "source": [
    "As its name indicates, it represents the increase of knowledge when performing the split."
   ]
  },
  {
   "cell_type": "markdown",
   "metadata": {
    "slideshow": {
     "slide_type": "slide"
    }
   },
   "source": [
    "But we actually prefer to use the **Weighted Information Gain**, which takes into account the size of the subsets created.\n",
    "\n",
    "If the data before the split contained 20 items and one of the resulting splits contained 2 items, then the weighted impurity of that subset would be 2/20 * impurity.\n",
    "\n",
    "By doing so we are lowering the importance of the impurity of sets with few elements."
   ]
  },
  {
   "cell_type": "markdown",
   "metadata": {},
   "source": [
    "<p align=\"center\">\n",
    "<img src=\"https://drive.google.com/uc?export=view&id=1OTY2LCK_ZF9gogmxH9Bqmn4ner_3VlZE\" width=\"500\">\n",
    "</p>"
   ]
  },
  {
   "cell_type": "markdown",
   "metadata": {},
   "source": [
    "We have reached the **base case** (or **leaf node** 🍂) when **splitting on every feature results in the largest information gain**."
   ]
  },
  {
   "cell_type": "markdown",
   "metadata": {
    "slideshow": {
     "slide_type": "slide"
    }
   },
   "source": [
    "> 📚 **Resources**: \n",
    "- [What is Entropy and Information Gain](https://stackoverflow.com/questions/1859554/what-is-entropy-and-information-gain)\n",
    "- [A Simple Explanation of Entropy in Decision Trees](https://bricaud.github.io/personal-blog/entropy-in-decision-trees/)"
   ]
  },
  {
   "cell_type": "code",
   "execution_count": null,
   "metadata": {},
   "outputs": [],
   "source": []
  }
 ],
 "metadata": {
  "kernelspec": {
   "display_name": "Python 3",
   "language": "python",
   "name": "python3"
  },
  "language_info": {
   "codemirror_mode": {
    "name": "ipython",
    "version": 3
   },
   "file_extension": ".py",
   "mimetype": "text/x-python",
   "name": "python",
   "nbconvert_exporter": "python",
   "pygments_lexer": "ipython3",
   "version": "3.7.4"
  }
 },
 "nbformat": 4,
 "nbformat_minor": 2
}
