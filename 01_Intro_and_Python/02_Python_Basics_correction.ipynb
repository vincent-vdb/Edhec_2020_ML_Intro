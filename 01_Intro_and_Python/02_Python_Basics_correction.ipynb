{
 "cells": [
  {
   "cell_type": "markdown",
   "metadata": {
    "slideshow": {
     "slide_type": "subslide"
    }
   },
   "source": [
    "**Exercise**\n",
    "\n",
    "Define a variable of each type: an int, a float, a boolean and a string and display them.\n"
   ]
  },
  {
   "cell_type": "code",
   "execution_count": 1,
   "metadata": {},
   "outputs": [
    {
     "name": "stdout",
     "output_type": "stream",
     "text": [
      "1 2.0 True Hello\n"
     ]
    }
   ],
   "source": [
    "a = 1\n",
    "b = 2.\n",
    "c = True\n",
    "d = \"Hello\"\n",
    "print(a, b, c, d)"
   ]
  },
  {
   "cell_type": "markdown",
   "metadata": {
    "slideshow": {
     "slide_type": "subslide"
    }
   },
   "source": [
    "**Exercise:**\n",
    "    \n",
    "Implement a code that returns `True` when a year is a leap year (i.e. bissextile year)"
   ]
  },
  {
   "cell_type": "code",
   "execution_count": 2,
   "metadata": {
    "slideshow": {
     "slide_type": "-"
    }
   },
   "outputs": [
    {
     "name": "stdout",
     "output_type": "stream",
     "text": [
      "This is a leap year\n"
     ]
    }
   ],
   "source": [
    "year = 2020\n",
    "\n",
    "if year%4 != 0:\n",
    "    print('This is a common year')\n",
    "elif year%100 != 0:\n",
    "    print('This is a leap year')\n",
    "elif year%400 != 0:\n",
    "    print('This is a common year')\n",
    "else:\n",
    "    print('This is a leap year')"
   ]
  },
  {
   "cell_type": "markdown",
   "metadata": {
    "slideshow": {
     "slide_type": "subslide"
    }
   },
   "source": [
    "**Exercise :**\n",
    "    \n",
    "From a list of values in celsius degrees `[0, 10, 20, 35]`, create a list of fahrenheits degrees, given the conversion formula:`Farenheit = (9/5*celsius+32)`"
   ]
  },
  {
   "cell_type": "code",
   "execution_count": 3,
   "metadata": {},
   "outputs": [
    {
     "name": "stdout",
     "output_type": "stream",
     "text": [
      "[32.0, 50.0, 68.0, 95.0]\n"
     ]
    }
   ],
   "source": [
    "celsius = [0, 10, 20, 35]\n",
    "farenheit = [9/5*c+32 for c in celsius]\n",
    "print(farenheit)"
   ]
  },
  {
   "cell_type": "markdown",
   "metadata": {
    "slideshow": {
     "slide_type": "subslide"
    }
   },
   "source": [
    "**Exercise:**\n",
    "\n",
    "Implement a dict of list of cities as values, and countries as keys. Access an element of a list of the dict, and display the city in upper case."
   ]
  },
  {
   "cell_type": "code",
   "execution_count": 4,
   "metadata": {},
   "outputs": [
    {
     "data": {
      "text/plain": [
       "'BOSTON'"
      ]
     },
     "execution_count": 4,
     "metadata": {},
     "output_type": "execute_result"
    }
   ],
   "source": [
    "cities = {'France': ['Paris', 'Lyon', 'Toulouse'],\n",
    "          'USA': ['Boston', 'NYC', 'San Francisco'],\n",
    "          'Japan': ['Tokyo', 'Kyoto', 'Nara']}\n",
    "\n",
    "cities['USA'][0].upper()"
   ]
  },
  {
   "cell_type": "markdown",
   "metadata": {
    "slideshow": {
     "slide_type": "subslide"
    }
   },
   "source": [
    "**Exercise:**\n",
    "\n",
    "Write a function that computes the factorial of an integer iteratively, and another recursively."
   ]
  },
  {
   "cell_type": "code",
   "execution_count": 5,
   "metadata": {},
   "outputs": [
    {
     "name": "stdout",
     "output_type": "stream",
     "text": [
      "24\n",
      "24\n"
     ]
    }
   ],
   "source": [
    "def fact_iter(n):\n",
    "    output = 1\n",
    "    for i in range(1, n+1):\n",
    "        output = output*i\n",
    "    return output\n",
    "\n",
    "def fact_recur(n):\n",
    "    if n == 0 or n == 1:\n",
    "        return 1\n",
    "    else:\n",
    "        return fact_recur(n-1)\n",
    "\n",
    "print(fact_iter(4))\n",
    "print(fact_iter(4))"
   ]
  },
  {
   "cell_type": "markdown",
   "metadata": {
    "slideshow": {
     "slide_type": "subslide"
    }
   },
   "source": [
    "**Exercise:**\n",
    "\n",
    "Define a `BankAccount` class, allowing to instantiate objects such as `account1`, `account2`.\n",
    "\n",
    "The constructor has two attributes, `name` and `balance`, with respective default values `'Bill'` and `0`.\n",
    "\n",
    "Implement three methods:\n",
    "\n",
    "- `deposit(amount)` allows to add amount to the balance\n",
    "- `withdrawal(amount)` allows to remove amount to the balance\n",
    "- `display_balance()` allows to display the balance, with a warning in case of negative balance"
   ]
  },
  {
   "cell_type": "code",
   "execution_count": 6,
   "metadata": {},
   "outputs": [
    {
     "name": "stdout",
     "output_type": "stream",
     "text": [
      "Warning: negative balance\n",
      "Your current balance is -400\n"
     ]
    }
   ],
   "source": [
    "class BankAccount:\n",
    "    def __init__(self, name='Bill', balance=0):\n",
    "        self.name = name\n",
    "        self.balance = balance\n",
    "    \n",
    "    def deposit(self, amount):\n",
    "        self.balance += amount\n",
    "        \n",
    "    def withdrawal(self, amount):\n",
    "        self.balance -= amount\n",
    "    \n",
    "    def display_balance(self):\n",
    "        if self.balance < 0:\n",
    "            print('Warning: negative balance')\n",
    "        print('Your current balance is', self.balance)\n",
    "\n",
    "account1 = BankAccount('John Doe', 100)\n",
    "account1.withdrawal(500)\n",
    "account1.display_balance()"
   ]
  }
 ],
 "metadata": {
  "celltoolbar": "Slideshow",
  "kernelspec": {
   "display_name": "Python 3",
   "language": "python",
   "name": "python3"
  },
  "language_info": {
   "codemirror_mode": {
    "name": "ipython",
    "version": 3
   },
   "file_extension": ".py",
   "mimetype": "text/x-python",
   "name": "python",
   "nbconvert_exporter": "python",
   "pygments_lexer": "ipython3",
   "version": "3.7.4"
  }
 },
 "nbformat": 4,
 "nbformat_minor": 2
}
