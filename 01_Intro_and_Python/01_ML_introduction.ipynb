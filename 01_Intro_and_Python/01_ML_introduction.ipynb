{
 "cells": [
  {
   "cell_type": "markdown",
   "metadata": {
    "slideshow": {
     "slide_type": "slide"
    }
   },
   "source": [
    "# Machine Learning Introduction"
   ]
  },
  {
   "cell_type": "markdown",
   "metadata": {},
   "source": [
    "![](images/wordcloud.png)"
   ]
  },
  {
   "cell_type": "markdown",
   "metadata": {
    "slideshow": {
     "slide_type": "subslide"
    }
   },
   "source": [
    "## Your teacher"
   ]
  },
  {
   "cell_type": "markdown",
   "metadata": {
    "slideshow": {
     "slide_type": "fragment"
    }
   },
   "source": [
    "Vincent Vandenbussche: vandenbussche.vincent@gmail.com\n",
    "\n",
    "- PhD in Physics defended in 2014\n",
    "- Experience in large companies: GE Healthcare, Renault, L'Oréal\n",
    "- Experience in academic research: CNRS, CEA\n",
    "- Experience in startups: Easyrecrue, Suricog, Adventure Conseil...\n",
    "- Responsible of the Deep Learning course at Mines Paristech engineering school\n",
    "- Executive trainings: Orange, LCL, EDF...\n",
    "- Founded a startup: Vivadata, a data science bootcamp"
   ]
  },
  {
   "cell_type": "markdown",
   "metadata": {
    "slideshow": {
     "slide_type": "subslide"
    }
   },
   "source": [
    "## Course overview"
   ]
  },
  {
   "cell_type": "markdown",
   "metadata": {
    "slideshow": {
     "slide_type": "fragment"
    }
   },
   "source": [
    "Introduction to Machine Learning:\n",
    "- Global introduction\n",
    "- Python and Scientific computing basics\n",
    "- Data viz & preparation\n",
    "- Logistic Regression & other classification models overview\n",
    "- Regression & regularization\n",
    "- Model evaluation & optimization\n",
    "- Trees and Random Forest\n",
    "- Boosting methods\n",
    "\n",
    "If we have enough time:\n",
    "- Imbalanced Datasets & anomaly detection\n",
    "\n",
    "Remote work:\n",
    "- Practical exercises: classification and regression"
   ]
  },
  {
   "cell_type": "markdown",
   "metadata": {
    "slideshow": {
     "slide_type": "subslide"
    }
   },
   "source": [
    "### Pedagogical choices\n",
    "\n",
    "This course has a **very hands on approach**. It comes with pros and cons."
   ]
  },
  {
   "cell_type": "markdown",
   "metadata": {
    "slideshow": {
     "slide_type": "fragment"
    }
   },
   "source": [
    "Pros:\n",
    "- You will be able to reuse all the algorithms we see\n",
    "- You will see most of the parts of a machine learning project\n",
    "- You will understand better what is a machine learning project\n",
    "- You will be able to communicate more easily with data scientists/analysts"
   ]
  },
  {
   "cell_type": "markdown",
   "metadata": {
    "slideshow": {
     "slide_type": "fragment"
    }
   },
   "source": [
    "Cons:\n",
    "- We will have to begin with some coding basics in Python\n",
    "- We will spend time talking about painful aspects of a machine learning project\n",
    "- You will need to code a bit"
   ]
  },
  {
   "cell_type": "markdown",
   "metadata": {
    "slideshow": {
     "slide_type": "subslide"
    }
   },
   "source": [
    "## Evaluation"
   ]
  },
  {
   "cell_type": "markdown",
   "metadata": {
    "slideshow": {
     "slide_type": "fragment"
    }
   },
   "source": [
    "\n",
    "2 short in-class exams for continuous control with multiple choice questions:\n",
    "- November 26th\n",
    "- December 14th\n",
    "\n",
    "One final exam:\n",
    "- December 18th (TBC)"
   ]
  },
  {
   "cell_type": "markdown",
   "metadata": {
    "slideshow": {
     "slide_type": "slide"
    }
   },
   "source": [
    "# I. What is Machine Learning (ML)?"
   ]
  },
  {
   "cell_type": "markdown",
   "metadata": {
    "slideshow": {
     "slide_type": "fragment"
    }
   },
   "source": [
    "## Let's have quizz: ML or not ML?"
   ]
  },
  {
   "cell_type": "markdown",
   "metadata": {
    "slideshow": {
     "slide_type": "subslide"
    }
   },
   "source": [
    "- Google Translate\n",
    "![](images/translate.png)"
   ]
  },
  {
   "cell_type": "markdown",
   "metadata": {
    "slideshow": {
     "slide_type": "subslide"
    }
   },
   "source": [
    "- Netflix movie recommendation\n",
    "![](images/Netflix.jpg)"
   ]
  },
  {
   "cell_type": "markdown",
   "metadata": {
    "slideshow": {
     "slide_type": "subslide"
    }
   },
   "source": [
    "- Uber driver selection\n",
    "![](images/uber.png)"
   ]
  },
  {
   "cell_type": "markdown",
   "metadata": {
    "slideshow": {
     "slide_type": "subslide"
    }
   },
   "source": [
    "- Face recognition\n",
    "![](images/faceID.jpg)"
   ]
  },
  {
   "cell_type": "markdown",
   "metadata": {
    "slideshow": {
     "slide_type": "subslide"
    }
   },
   "source": [
    "- Siri / Google Home / Amazon Alexa...\n",
    "![](images/echo-home.jpg)"
   ]
  },
  {
   "cell_type": "markdown",
   "metadata": {
    "slideshow": {
     "slide_type": "subslide"
    }
   },
   "source": [
    "- Chatbots\n",
    "![](images/chatbot.jpg)"
   ]
  },
  {
   "cell_type": "markdown",
   "metadata": {
    "slideshow": {
     "slide_type": "subslide"
    }
   },
   "source": [
    "## A.I. vs Machine Learning vs Deep Learning"
   ]
  },
  {
   "cell_type": "markdown",
   "metadata": {
    "slideshow": {
     "slide_type": "fragment"
    }
   },
   "source": [
    "![](images/ai_ml_dl.png)"
   ]
  },
  {
   "cell_type": "markdown",
   "metadata": {
    "slideshow": {
     "slide_type": "slide"
    }
   },
   "source": [
    "# II. A brief history of Machine Learning\n",
    "\n",
    "A non exhaustive timeline"
   ]
  },
  {
   "cell_type": "markdown",
   "metadata": {
    "slideshow": {
     "slide_type": "fragment"
    }
   },
   "source": [
    "### Alan Turing\n",
    "\n",
    "<center>\n",
    "<img src=\"https://drive.google.com/uc?export=view&id=16I3OtO2dgcy7zHW0nvcRYQNyLWewAWXm\">\n",
    "</center>\n",
    "\n",
    "Turing is widely considered to be the **father of theoretical computer science and artificial intelligence**."
   ]
  },
  {
   "cell_type": "markdown",
   "metadata": {
    "slideshow": {
     "slide_type": "subslide"
    }
   },
   "source": [
    "In 1950 Alan Turing published a landmark paper in which he speculated about the possibility of creating machines that think. \n",
    "\n",
    "If a machine could carry on a conversation that was indistinguishable from a conversation with a human being, then it was reasonable to say that the machine was \"thinking\".\n",
    "\n",
    "The [Turing Test](https://en.wikipedia.org/wiki/Turing_test) was the first serious proposal in the **philosophy of artificial intelligence**. \n"
   ]
  },
  {
   "cell_type": "markdown",
   "metadata": {
    "slideshow": {
     "slide_type": "subslide"
    }
   },
   "source": [
    "### Walter Pitts & Warren McCulloch\n",
    "\n",
    "<center>\n",
    "<img src=\"https://drive.google.com/uc?export=view&id=1bD4ITkBz0y69JXppGhCZ42lgxDp-oxo5\" width=\"400\">\n",
    "</center>\n",
    "\n",
    "Inspired by work in neurology, **Walter Pitts** and **Warren McCulloch** analyzed networks of idealized artificial neurons and showed how they might perform simple logical functions.\n",
    "\n",
    "They were the first to describe what later researchers would call a **neural network**."
   ]
  },
  {
   "cell_type": "markdown",
   "metadata": {
    "slideshow": {
     "slide_type": "subslide"
    }
   },
   "source": [
    "### Marvin Minsky\n",
    "\n",
    "<center>\n",
    "<img src=\"https://drive.google.com/uc?export=view&id=1_4Yg4RPJqqfNIIy7hfSeWH1De1TgYUZ8\" width=\"200\">\n",
    "</center>\n",
    "\n",
    "One of the students inspired by Pitts and McCulloch was a young **Marvin Minsky**, then a 24-year-old graduate student.\n",
    "\n",
    "In 1951 (with Dean Edmonds) he built the first **neural net machine**, the SNARC. With the SNARC, Minksky built a  first ANN (Artificial Neural Network) that could simulate a rat finding its way through a maze.\n",
    "\n",
    "At that time, Minsky’s work and theory went largely unnoticed by the public and was rejected by most AI researchers until computing power had reached a level where results could be clearly demonstrated."
   ]
  },
  {
   "cell_type": "markdown",
   "metadata": {
    "slideshow": {
     "slide_type": "subslide"
    }
   },
   "source": [
    "But also many more names like:\n",
    "- Arthur Samuel\n",
    "- Geoffrey Hinton\n",
    "- Frank Rosenblatt\n",
    "- ..."
   ]
  },
  {
   "cell_type": "markdown",
   "metadata": {
    "slideshow": {
     "slide_type": "subslide"
    }
   },
   "source": [
    "### A brief timeline of the A.I. field\n",
    "\n",
    "A.I. has a long history behind it, with a series of successes and of failures and disappointments (see [A.I. winter](https://en.wikipedia.org/wiki/AI_winter) for example). \n",
    "\n",
    "![](https://drive.google.com/uc?export=view&id=1kUh0wO82soPDiXzGo8TEevfgzSkGZlto)"
   ]
  },
  {
   "cell_type": "markdown",
   "metadata": {
    "slideshow": {
     "slide_type": "subslide"
    }
   },
   "source": [
    "\n",
    "> The history behind A.I. is long and fascinating. Check [History of AI on Wikipedia](https://en.wikipedia.org/wiki/History_of_artificial_intelligence) to dig deeper.\n"
   ]
  },
  {
   "cell_type": "markdown",
   "metadata": {
    "slideshow": {
     "slide_type": "fragment"
    }
   },
   "source": [
    " Most ideas are pretty old, so why is everybody using ML now?"
   ]
  },
  {
   "cell_type": "markdown",
   "metadata": {
    "slideshow": {
     "slide_type": "subslide"
    }
   },
   "source": [
    "## The current AI hype"
   ]
  },
  {
   "cell_type": "markdown",
   "metadata": {
    "slideshow": {
     "slide_type": "fragment"
    }
   },
   "source": [
    "Probably several main reasons:\n",
    "- Increase of computing power\n",
    "- Exponential increase of the data available\n",
    "\n",
    "![](images/data_amount_evolution.png)"
   ]
  },
  {
   "cell_type": "markdown",
   "metadata": {
    "slideshow": {
     "slide_type": "subslide"
    }
   },
   "source": [
    "- Active research field with exponential [increase of papers](https://web.media.mit.edu/~mrfrank/papers/nmi2019.pdf)\n",
    "![](images/ai_paper_evol.png)\n",
    "\n",
    "- Better and wider access to knowledge and tools (scikit-learn, tensorflow, MOOCs, bootcamps...)"
   ]
  },
  {
   "cell_type": "markdown",
   "metadata": {
    "slideshow": {
     "slide_type": "subslide"
    }
   },
   "source": [
    "## Some examples of ML applications"
   ]
  },
  {
   "cell_type": "markdown",
   "metadata": {
    "slideshow": {
     "slide_type": "subslide"
    }
   },
   "source": [
    "### 🚙 Autonomous driving\n",
    "\n",
    "![](https://drive.google.com/uc?export=view&id=1lDltwLk02Am5bsINiqk4u33oABQfawcA)"
   ]
  },
  {
   "cell_type": "markdown",
   "metadata": {
    "slideshow": {
     "slide_type": "subslide"
    }
   },
   "source": [
    "### 🚙 Autonomous driving\n",
    "\n",
    "![](https://drive.google.com/uc?export=view&id=1gdJKYzGMtA3KSOD2JS8s53Wp3pzfDwVr)"
   ]
  },
  {
   "cell_type": "markdown",
   "metadata": {
    "slideshow": {
     "slide_type": "subslide"
    }
   },
   "source": [
    "### 🌆 Smart City\n",
    "\n",
    "<center>\n",
    "<img src=\"https://drive.google.com/uc?export=view&id=1D7JgBRhPLk-83ozMeDVh30mxWlsV3RnT\">\n",
    "</center>"
   ]
  },
  {
   "cell_type": "markdown",
   "metadata": {
    "slideshow": {
     "slide_type": "subslide"
    }
   },
   "source": [
    "### 🔬 Health\n",
    "\n",
    "<center>\n",
    "<img src=\"https://drive.google.com/uc?export=view&id=1hn0rFBFMpE1PqpjTrl61xMnbbGmQ8hss\" width=\"70%\">\n",
    "</center>"
   ]
  },
  {
   "cell_type": "markdown",
   "metadata": {
    "slideshow": {
     "slide_type": "subslide"
    }
   },
   "source": [
    "### 🏪 Amazon cashierless stores\n",
    "\n",
    "<center>\n",
    "<img src=\"https://drive.google.com/uc?export=view&id=1RQ1rBiICTtyRTvsAHMcj_0Zu-xb4CKrL\">\n",
    "</center>"
   ]
  },
  {
   "cell_type": "markdown",
   "metadata": {
    "slideshow": {
     "slide_type": "subslide"
    }
   },
   "source": [
    "### 🎙 Home Assistants\n",
    "\n",
    "![](https://drive.google.com/uc?export=view&id=1RpkMLUsAyIgzJvdGnUi7d5UUEcajEY4G)"
   ]
  },
  {
   "cell_type": "markdown",
   "metadata": {
    "slideshow": {
     "slide_type": "fragment"
    }
   },
   "source": [
    "..."
   ]
  },
  {
   "cell_type": "markdown",
   "metadata": {
    "slideshow": {
     "slide_type": "-"
    }
   },
   "source": [
    "___"
   ]
  },
  {
   "cell_type": "markdown",
   "metadata": {
    "slideshow": {
     "slide_type": "slide"
    }
   },
   "source": [
    "# III. The ML paradigm"
   ]
  },
  {
   "cell_type": "markdown",
   "metadata": {
    "slideshow": {
     "slide_type": "fragment"
    }
   },
   "source": [
    "## Think like a ML algorithm"
   ]
  },
  {
   "cell_type": "markdown",
   "metadata": {
    "slideshow": {
     "slide_type": "subslide"
    }
   },
   "source": [
    "Let's play a game and think like a ML algorithm.\n",
    "\n",
    "Here is a bunch of logos:\n",
    "\n",
    "![](images/Famous-Logos.jpg)"
   ]
  },
  {
   "cell_type": "markdown",
   "metadata": {
    "slideshow": {
     "slide_type": "subslide"
    }
   },
   "source": [
    "Using some labeled data (`Yes` ✅ or `No` ❌), let's guess the rule:\n",
    "![](images/logos_half_classified.png)"
   ]
  },
  {
   "cell_type": "markdown",
   "metadata": {
    "slideshow": {
     "slide_type": "subslide"
    }
   },
   "source": [
    "Here is the fully labeled dataset:\n",
    "![](images/logos_classified.png)"
   ]
  },
  {
   "cell_type": "markdown",
   "metadata": {
    "slideshow": {
     "slide_type": "subslide"
    }
   },
   "source": [
    "Using Machine Learning is a change of paradigm:"
   ]
  },
  {
   "cell_type": "markdown",
   "metadata": {
    "slideshow": {
     "slide_type": "fragment"
    }
   },
   "source": [
    "![](images/ml_paradigm.png)"
   ]
  },
  {
   "cell_type": "markdown",
   "metadata": {
    "slideshow": {
     "slide_type": "subslide"
    }
   },
   "source": [
    "## How to use a Machine Learning model"
   ]
  },
  {
   "cell_type": "markdown",
   "metadata": {
    "slideshow": {
     "slide_type": "fragment"
    }
   },
   "source": [
    "<center>\n",
    "    <img src=\"images/ml-logic.png\" width=\"600\">\n",
    "</center>"
   ]
  },
  {
   "cell_type": "markdown",
   "metadata": {
    "slideshow": {
     "slide_type": "subslide"
    }
   },
   "source": [
    "## There are many Machine Learning problems "
   ]
  },
  {
   "cell_type": "markdown",
   "metadata": {
    "slideshow": {
     "slide_type": "fragment"
    }
   },
   "source": [
    "Machine Learning problems can be categorized in different categories. \n",
    "\n",
    "In general, a machine learning problem considers a set of `m` samples of data and then tries to predict properties of unknown data. If each sample is more than a single number and, for instance, a multi-dimensional entry (aka multivariate data), it is said to have several **features**.\n",
    "\n",
    "Learning problems fall mainly into a few categories:\n",
    "- Supervised learning\n",
    "- Unsupervised learning\n",
    "- Reinforcement learning"
   ]
  },
  {
   "cell_type": "markdown",
   "metadata": {
    "slideshow": {
     "slide_type": "subslide"
    }
   },
   "source": [
    "### Supervised learning\n",
    "\n",
    "The data comes with additional attributes (called **labels**) that we want to predict. A supervised learning problem can be either:\n",
    " \n",
    " \n",
    " - **Classification**: samples belong to two or more classes and we want to learn from already labeled data how to predict the class of unlabeled data.\n",
    " \n",
    " > An example of a classification problem would be handwritten character recognition. Classification can be seen as a discrete form of supervised learning.\n",
    " \n",
    " - **Regression**: if the output consists of one or more continuous variables, then the task is called regression.\n",
    " \n",
    " > An example of a regression problem would be the prediction of the price of a house as a function of surface and location."
   ]
  },
  {
   "cell_type": "markdown",
   "metadata": {
    "slideshow": {
     "slide_type": "subslide"
    }
   },
   "source": [
    "### Unsupervised learning\n",
    " \n",
    "The training data consists of a set of input vectors without any corresponding labels.\n",
    "\n",
    "There are several applications in unsupervised learning, among which:\n",
    "- **Clustering**: to discover groups of similar examples within the data\n",
    "> For example in market segmentation\n",
    "\n",
    "- **Dimensionality reduction** to project the data from a high-dimensional space down to two or three dimensions for the purpose of visualization, interpretation, or further processing\n",
    "> For example in financial trading to analyse stock markets behaviors\n",
    "\n",
    "- But also: anomaly detection, association learning, data compression, latent variables, denoising..."
   ]
  },
  {
   "cell_type": "markdown",
   "metadata": {
    "slideshow": {
     "slide_type": "subslide"
    }
   },
   "source": [
    "![](https://drive.google.com/uc?export=view&id=1YW1fZEV-a3n4EavCf4EwjQiEaqoG5IZX)"
   ]
  },
  {
   "cell_type": "markdown",
   "metadata": {
    "slideshow": {
     "slide_type": "subslide"
    }
   },
   "source": [
    "> In this course we will focus on supervised learning"
   ]
  },
  {
   "cell_type": "markdown",
   "metadata": {
    "slideshow": {
     "slide_type": "slide"
    }
   },
   "source": [
    "# IV. How to run a ML Project"
   ]
  },
  {
   "cell_type": "markdown",
   "metadata": {
    "slideshow": {
     "slide_type": "fragment"
    }
   },
   "source": [
    "A machine learning problem - or product - is quite different than a regular one.\n",
    "\n",
    "There are at least several necessary steps, let's review them now."
   ]
  },
  {
   "cell_type": "markdown",
   "metadata": {
    "slideshow": {
     "slide_type": "subslide"
    }
   },
   "source": [
    "### 1. Define goals and constraints"
   ]
  },
  {
   "cell_type": "markdown",
   "metadata": {
    "slideshow": {
     "slide_type": "fragment"
    }
   },
   "source": [
    "- Which question do we want to answer?\n",
    "- Which hypothesis can we formulate?\n",
    "- What data is required? Labeled or not?\n",
    "- Do we have the data?"
   ]
  },
  {
   "cell_type": "markdown",
   "metadata": {
    "slideshow": {
     "slide_type": "fragment"
    }
   },
   "source": [
    "**Example**: \n",
    "- We want to build a SPAM detector\n",
    "- We can assume we don't expect attachment with the emails\n",
    "- We want it to be accurate for 85 % of the received emails\n",
    "- We need it to be fast (real time)\n",
    "- We do not have any labelled data"
   ]
  },
  {
   "cell_type": "markdown",
   "metadata": {
    "slideshow": {
     "slide_type": "subslide"
    }
   },
   "source": [
    "### 2. Collect data"
   ]
  },
  {
   "cell_type": "markdown",
   "metadata": {
    "slideshow": {
     "slide_type": "fragment"
    }
   },
   "source": [
    "Data is what brings power to models. If you don't have good data, don't expect to build a great ML models.\n",
    "\n",
    "There are many ways to collect data:\n",
    "- Open data: [Kaggle datasets](https://www.kaggle.com/datasets), [Google dataset research](datasetsearch.research.google.com)...\n",
    "- APIs \n",
    "- Scrapping (With tools such as Beautiful Soup, Scrapy, etc...)\n",
    "- Internal databases (SQL, NoSQL...)"
   ]
  },
  {
   "cell_type": "markdown",
   "metadata": {
    "slideshow": {
     "slide_type": "subslide"
    }
   },
   "source": [
    "### 3. Understand and prepare data"
   ]
  },
  {
   "cell_type": "markdown",
   "metadata": {
    "slideshow": {
     "slide_type": "fragment"
    }
   },
   "source": [
    "- How to deal with incorrect or missing data?\n",
    "- What are the relevant features of your data?\n",
    "- Is your data correlated?\n",
    "- Can you create new features?\n",
    "- ..."
   ]
  },
  {
   "cell_type": "markdown",
   "metadata": {
    "slideshow": {
     "slide_type": "subslide"
    }
   },
   "source": [
    "### 4. Train and optimize your ML model"
   ]
  },
  {
   "cell_type": "markdown",
   "metadata": {
    "slideshow": {
     "slide_type": "fragment"
    }
   },
   "source": [
    "- Train several models\n",
    "- Optimize them"
   ]
  },
  {
   "cell_type": "markdown",
   "metadata": {
    "slideshow": {
     "slide_type": "subslide"
    }
   },
   "source": [
    "### 5. Evaluate your model"
   ]
  },
  {
   "cell_type": "markdown",
   "metadata": {
    "slideshow": {
     "slide_type": "fragment"
    }
   },
   "source": [
    "- Evaluate and pick the best in your constraints\n",
    "- If the evaluation is not good enough, iterate!"
   ]
  },
  {
   "cell_type": "markdown",
   "metadata": {
    "slideshow": {
     "slide_type": "subslide"
    }
   },
   "source": [
    "### 6. Deploy your model"
   ]
  },
  {
   "cell_type": "markdown",
   "metadata": {
    "slideshow": {
     "slide_type": "fragment"
    }
   },
   "source": [
    "Deploy your model for your customers. There are many ways to deploy a model:\n",
    "- Locally\n",
    "- On servers\n",
    "- Serverless architecture"
   ]
  },
  {
   "cell_type": "markdown",
   "metadata": {
    "slideshow": {
     "slide_type": "subslide"
    }
   },
   "source": [
    "## How much time does it take?"
   ]
  },
  {
   "cell_type": "markdown",
   "metadata": {
    "slideshow": {
     "slide_type": "fragment"
    }
   },
   "source": [
    "According to you, how much time would be spent on each task:\n",
    "- defining the problem\n",
    "- collecting data\n",
    "- cleaning/preparing data\n",
    "- training and optimizing model\n",
    "- model evaluation\n",
    "- model deployment"
   ]
  },
  {
   "cell_type": "markdown",
   "metadata": {
    "slideshow": {
     "slide_type": "subslide"
    }
   },
   "source": [
    "Time spent on each task estimation (which is higly dependant on the project!):\n",
    "- defining the problem ~ 15 %\n",
    "- collecting data ~ 25 %\n",
    "- exploring & preparing data ~ 25 %\n",
    "- training & optimizing model ~ 15 %\n",
    "- model evaluation ~ 5 %\n",
    "- explaining the solution ~ 10 %\n",
    "- model deployment ~ 5 %"
   ]
  },
  {
   "cell_type": "markdown",
   "metadata": {
    "slideshow": {
     "slide_type": "fragment"
    }
   },
   "source": [
    "Bonus:\n",
    "- model maintenance & monitoring"
   ]
  },
  {
   "cell_type": "markdown",
   "metadata": {
    "slideshow": {
     "slide_type": "subslide"
    }
   },
   "source": [
    "> The idea here is: you do **not** spend much time modeling data and training fancy models!"
   ]
  },
  {
   "cell_type": "markdown",
   "metadata": {
    "slideshow": {
     "slide_type": "slide"
    }
   },
   "source": [
    "# V. Current status of Machine Learning and limits"
   ]
  },
  {
   "cell_type": "markdown",
   "metadata": {
    "slideshow": {
     "slide_type": "fragment"
    }
   },
   "source": [
    "ML is pretty everywhere... but mainly overestimated."
   ]
  },
  {
   "cell_type": "markdown",
   "metadata": {
    "slideshow": {
     "slide_type": "subslide"
    }
   },
   "source": [
    "What ML **can do**:\n",
    "- Outperform humans on very specific tasks (with huge amount of data)\n",
    "- Automatize many painful, repetitive tasks\n",
    "- Define rules for a given problem\n",
    "- ..."
   ]
  },
  {
   "cell_type": "markdown",
   "metadata": {
    "slideshow": {
     "slide_type": "fragment"
    }
   },
   "source": [
    "What ML **can not** do:\n",
    "- Generalize well\n",
    "- Learn from only a few examples\n",
    "- Give the reasons of its decisions (interpretability)\n",
    "- Work for various, different tasks\n",
    "- ..."
   ]
  }
 ],
 "metadata": {
  "celltoolbar": "Slideshow",
  "kernelspec": {
   "display_name": "Python 3",
   "language": "python",
   "name": "python3"
  },
  "language_info": {
   "codemirror_mode": {
    "name": "ipython",
    "version": 3
   },
   "file_extension": ".py",
   "mimetype": "text/x-python",
   "name": "python",
   "nbconvert_exporter": "python",
   "pygments_lexer": "ipython3",
   "version": "3.7.4"
  }
 },
 "nbformat": 4,
 "nbformat_minor": 2
}
