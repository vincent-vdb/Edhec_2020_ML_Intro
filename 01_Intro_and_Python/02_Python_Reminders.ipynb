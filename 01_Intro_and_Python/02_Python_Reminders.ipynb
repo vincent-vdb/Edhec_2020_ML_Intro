{
 "cells": [
  {
   "cell_type": "markdown",
   "metadata": {
    "slideshow": {
     "slide_type": "slide"
    }
   },
   "source": [
    "# Python reminders"
   ]
  },
  {
   "cell_type": "markdown",
   "metadata": {
    "slideshow": {
     "slide_type": "fragment"
    }
   },
   "source": [
    "## Introduction"
   ]
  },
  {
   "cell_type": "markdown",
   "metadata": {
    "slideshow": {
     "slide_type": "slide"
    }
   },
   "source": [
    "# I. Notebooks and colab introduction"
   ]
  },
  {
   "cell_type": "markdown",
   "metadata": {
    "slideshow": {
     "slide_type": "subslide"
    }
   },
   "source": [
    "Notebooks offer an interactive coding experience:\n",
    "- They are getting very popular in data science\n",
    "- Jupyter notebook are a really common tool for a data scientist\n",
    "- Google colab offer a seamless, online and free experience that works pretty well\n",
    "\n",
    "On the other hand, notebooks are **not** made for production level code and deployment!"
   ]
  },
  {
   "cell_type": "markdown",
   "metadata": {
    "slideshow": {
     "slide_type": "fragment"
    }
   },
   "source": [
    "If you want to install jupyter notebook, the easier way is to download and install the anaconda suite (either on windows, mac or linux) : http://docs.anaconda.com/anaconda/install/\n",
    "\n"
   ]
  },
  {
   "cell_type": "markdown",
   "metadata": {
    "slideshow": {
     "slide_type": "fragment"
    }
   },
   "source": [
    "Otherwise, you can just use Google Colab:\n",
    "\n",
    "http://colab.research.google.com\n",
    "\n",
    "Colab can be used jointly with Google Drive to store data and notebooks."
   ]
  },
  {
   "cell_type": "markdown",
   "metadata": {
    "slideshow": {
     "slide_type": "subslide"
    }
   },
   "source": [
    "Once on colab, one can choose to open a new notebook (and sign in with a google account if not already done):\n",
    "\n",
    "![](images/colab_first_page.png)"
   ]
  },
  {
   "cell_type": "markdown",
   "metadata": {
    "slideshow": {
     "slide_type": "subslide"
    }
   },
   "source": [
    "Then, here are a few useful things to get started:\n",
    "- The filename (default *Untitled0.ipynb*) can be changed by clicking on it\n",
    "- You can add code cell and text cells\n",
    "- A cell is executed by clicking on play, or typing `Shift + Enter`\n",
    "- Bash commands can be executed with a leading `!`: e.g. `!ls`\n",
    "- One can enable the GPU by clicking `Edit -> Notebook settings -> Hardware Accelerator: select GPU -> Save`\n"
   ]
  },
  {
   "cell_type": "markdown",
   "metadata": {
    "slideshow": {
     "slide_type": "subslide"
    }
   },
   "source": [
    "Finally, files can be uploaded in the notebook environment using the UI:\n",
    "\n",
    "![](images/colab_upload_files_box.png)"
   ]
  },
  {
   "cell_type": "markdown",
   "metadata": {
    "slideshow": {
     "slide_type": "fragment"
    }
   },
   "source": [
    "Or code:\n",
    "```python\n",
    "from google.colab import files\n",
    "uploaded = files.upload()\n",
    "```"
   ]
  },
  {
   "cell_type": "markdown",
   "metadata": {
    "slideshow": {
     "slide_type": "slide"
    }
   },
   "source": [
    "# II. Python basic variables and operations"
   ]
  },
  {
   "cell_type": "markdown",
   "metadata": {
    "slideshow": {
     "slide_type": "fragment"
    }
   },
   "source": [
    "## Why Python?"
   ]
  },
  {
   "cell_type": "markdown",
   "metadata": {
    "slideshow": {
     "slide_type": "fragment"
    }
   },
   "source": [
    "![](images/popular_languages.jpg)"
   ]
  },
  {
   "cell_type": "markdown",
   "metadata": {
    "slideshow": {
     "slide_type": "fragment"
    }
   },
   "source": [
    "## II.1 Main types of variables\n",
    "\n",
    "The four basic types:\n",
    "- int: integer\n",
    "- float: real number\n",
    "- boolean: True or False\n",
    "- string: caracters defined with quotes\n",
    "\n",
    "No need to declare the type of variable, Python will 'guess' it.\n"
   ]
  },
  {
   "cell_type": "code",
   "execution_count": 1,
   "metadata": {
    "slideshow": {
     "slide_type": "fragment"
    }
   },
   "outputs": [
    {
     "name": "stdout",
     "output_type": "stream",
     "text": [
      "<class 'int'>\n"
     ]
    }
   ],
   "source": [
    "variable = 44\n",
    "print(type(variable))"
   ]
  },
  {
   "cell_type": "markdown",
   "metadata": {
    "slideshow": {
     "slide_type": "subslide"
    }
   },
   "source": [
    "**Exercise**\n",
    "\n",
    "Define a variable of each type: an int, a float, a boolean and a string and display them.\n"
   ]
  },
  {
   "cell_type": "code",
   "execution_count": null,
   "metadata": {},
   "outputs": [],
   "source": []
  },
  {
   "cell_type": "markdown",
   "metadata": {
    "slideshow": {
     "slide_type": "subslide"
    }
   },
   "source": [
    "## Strings\n",
    "\n",
    "### 3 equivalents codes:"
   ]
  },
  {
   "cell_type": "code",
   "execution_count": 2,
   "metadata": {
    "slideshow": {
     "slide_type": "fragment"
    }
   },
   "outputs": [
    {
     "name": "stdout",
     "output_type": "stream",
     "text": [
      "Python Python Python\n"
     ]
    }
   ],
   "source": [
    "print(\"Python\",'Python',\"\"\"Python\"\"\")"
   ]
  },
  {
   "cell_type": "markdown",
   "metadata": {
    "slideshow": {
     "slide_type": "fragment"
    }
   },
   "source": [
    "Some examples of operations on strings: "
   ]
  },
  {
   "cell_type": "code",
   "execution_count": 3,
   "metadata": {
    "slideshow": {
     "slide_type": "fragment"
    }
   },
   "outputs": [
    {
     "name": "stdout",
     "output_type": "stream",
     "text": [
      "6 python PYTHON Python\n"
     ]
    }
   ],
   "source": [
    "string1=\"Python\"\n",
    "print(len(string1), string1.lower(), string1.upper(), str(string1))"
   ]
  },
  {
   "cell_type": "markdown",
   "metadata": {
    "slideshow": {
     "slide_type": "subslide"
    }
   },
   "source": [
    "## II.2 Basic mathematical operations\n",
    "\n",
    "- +\n",
    "- -\n",
    "- *\n",
    "- /\n",
    "- ** (power)\n",
    "- % (modulo)"
   ]
  },
  {
   "cell_type": "markdown",
   "metadata": {
    "slideshow": {
     "slide_type": "subslide"
    }
   },
   "source": [
    "## Boolean operators\n",
    "\n",
    "- `not`, `and` et `or`"
   ]
  },
  {
   "cell_type": "markdown",
   "metadata": {
    "slideshow": {
     "slide_type": "fragment"
    }
   },
   "source": [
    "**Exercise**\n",
    "\n",
    "Guess the output of the following boolean operations:\n",
    "- `not True`\n",
    "- `True or False`\n",
    "- `True and False`\n",
    "- `not True and False`\n",
    "- `not True or False`"
   ]
  },
  {
   "cell_type": "code",
   "execution_count": null,
   "metadata": {},
   "outputs": [],
   "source": []
  },
  {
   "cell_type": "markdown",
   "metadata": {
    "slideshow": {
     "slide_type": "subslide"
    }
   },
   "source": [
    "## Type casting\n",
    "\n",
    "One can convert a type to another:"
   ]
  },
  {
   "cell_type": "code",
   "execution_count": 4,
   "metadata": {
    "slideshow": {
     "slide_type": "fragment"
    }
   },
   "outputs": [
    {
     "name": "stdout",
     "output_type": "stream",
     "text": [
      "<class 'float'>\n"
     ]
    }
   ],
   "source": [
    "print(type(float(42)))"
   ]
  },
  {
   "cell_type": "code",
   "execution_count": 5,
   "metadata": {
    "slideshow": {
     "slide_type": "fragment"
    }
   },
   "outputs": [
    {
     "name": "stdout",
     "output_type": "stream",
     "text": [
      "<class 'bool'>\n",
      "<class 'bool'>\n"
     ]
    }
   ],
   "source": [
    "print(type(bool('True')))\n",
    "print(type(bool(0)))"
   ]
  },
  {
   "cell_type": "markdown",
   "metadata": {
    "slideshow": {
     "slide_type": "subslide"
    }
   },
   "source": [
    "# II.3 Conditions and loops"
   ]
  },
  {
   "cell_type": "markdown",
   "metadata": {
    "slideshow": {
     "slide_type": "fragment"
    }
   },
   "source": [
    "## If condition\n",
    "\n",
    "Conditions in Python are defined as follows:"
   ]
  },
  {
   "cell_type": "code",
   "execution_count": 6,
   "metadata": {
    "slideshow": {
     "slide_type": "fragment"
    }
   },
   "outputs": [
    {
     "name": "stdout",
     "output_type": "stream",
     "text": [
      "It's True\n"
     ]
    }
   ],
   "source": [
    "bool1 = True\n",
    "if bool1 is True:\n",
    "    print(\"It's True\")\n",
    "elif bool1 is False:\n",
    "    print(\"It's False\")\n",
    "else:\n",
    "    print(\"It's not a boolean\")\n"
   ]
  },
  {
   "cell_type": "markdown",
   "metadata": {
    "slideshow": {
     "slide_type": "fragment"
    }
   },
   "source": [
    "- For equality testing, the operator is ==, others are <, <=, >, >=, !=\n",
    "- Indentation is really important\n"
   ]
  },
  {
   "cell_type": "markdown",
   "metadata": {
    "slideshow": {
     "slide_type": "subslide"
    }
   },
   "source": [
    "**Exercise:**\n",
    "    \n",
    "Implement a code that returns `True` when a year is a leap year (i.e. bissextile year)"
   ]
  },
  {
   "cell_type": "code",
   "execution_count": null,
   "metadata": {
    "slideshow": {
     "slide_type": "-"
    }
   },
   "outputs": [],
   "source": []
  },
  {
   "cell_type": "markdown",
   "metadata": {
    "slideshow": {
     "slide_type": "subslide"
    }
   },
   "source": [
    "## for loop\n",
    "\n",
    "-  `for` loops in Python iterate on list elements\n",
    "- Structure is the following:\n",
    "```Python\n",
    "for value in sequence:\n",
    "    instructions\n",
    "```\n",
    "- One can use `break` to stop a loop\n",
    "- `continue` to go to the next loop iteration"
   ]
  },
  {
   "cell_type": "code",
   "execution_count": 7,
   "metadata": {
    "slideshow": {
     "slide_type": "fragment"
    }
   },
   "outputs": [
    {
     "name": "stdout",
     "output_type": "stream",
     "text": [
      "a\n",
      "b\n",
      "c\n"
     ]
    }
   ],
   "source": [
    "for char in [\"a\",\"b\",\"c\"]:\n",
    "    print(char)"
   ]
  },
  {
   "cell_type": "markdown",
   "metadata": {
    "slideshow": {
     "slide_type": "subslide"
    }
   },
   "source": [
    "Use of `range(n)` creates a list of values from 0 to n-1:"
   ]
  },
  {
   "cell_type": "code",
   "execution_count": 8,
   "metadata": {
    "slideshow": {
     "slide_type": "fragment"
    }
   },
   "outputs": [
    {
     "name": "stdout",
     "output_type": "stream",
     "text": [
      "[0, 1, 2, 3, 4]\n"
     ]
    }
   ],
   "source": [
    "print(list(range(5)))"
   ]
  },
  {
   "cell_type": "markdown",
   "metadata": {
    "slideshow": {
     "slide_type": "slide"
    }
   },
   "source": [
    "# III. Object collections\n",
    "\n",
    "There are three main object collections in Python\n",
    "- tuples: indexed immutable list of values defined by `( )`\n",
    "- listes: indexed mutable list of values defined by `[ ]`\n",
    "- dictionnaries: key-value pairs defined by `{ }` \n",
    "\n",
    "    \n",
    "No matter the object, one has to use `[ ]` to access an element of the structure"
   ]
  },
  {
   "cell_type": "markdown",
   "metadata": {
    "slideshow": {
     "slide_type": "subslide"
    }
   },
   "source": [
    "## III.1 Tuples\n",
    "\n",
    "- Tuples are defined with `()`\n",
    "- Once created, a tuple can not be modified."
   ]
  },
  {
   "cell_type": "code",
   "execution_count": 9,
   "metadata": {
    "slideshow": {
     "slide_type": "fragment"
    }
   },
   "outputs": [
    {
     "name": "stdout",
     "output_type": "stream",
     "text": [
      "length: 4\n",
      "tup2 (3, 5)\n"
     ]
    }
   ],
   "source": [
    "# Tuple defitnion\n",
    "tup = (1,3,5,7)\n",
    "# Print its length\n",
    "print(\"length:\", len(tup))\n",
    "# One can get the values using []\n",
    "tup2 = tup[1:3]\n",
    "print(\"tup2\", tup2)"
   ]
  },
  {
   "cell_type": "markdown",
   "metadata": {
    "slideshow": {
     "slide_type": "subslide"
    }
   },
   "source": [
    "## III.2 Lists\n",
    "\n",
    "A list is mutable and of dynamic length, defined with `[ ]`\n",
    "\n",
    "Many methods on list exist, e.g.:\n",
    "- `.append()`\t\t\tadd a value at the end of the list\n",
    "- `.insert(i,val)`\t\tinsert a value `val` at index `i`\n",
    "- `.pop(i)`\t\t\t    remove value at index `i`\n",
    "- `.reverse()`\t\t\treverse a list\n",
    "- `val in list`         return `True` if `val` is in `list`\n",
    "- `.index(val)`         return the first index of `val` if any\n",
    "- `.count(val)`         return the number of count of `val`\n",
    "- `.remove(val)`        remove `val` from the list (only first occurence)\n",
    "\n",
    "To remove an element of a list, one can also use `del`\n"
   ]
  },
  {
   "cell_type": "markdown",
   "metadata": {
    "slideshow": {
     "slide_type": "subslide"
    }
   },
   "source": [
    "## List Comprehension\n",
    "\n",
    "Lists can be defined with more flexibility:"
   ]
  },
  {
   "cell_type": "code",
   "execution_count": 10,
   "metadata": {
    "slideshow": {
     "slide_type": "fragment"
    }
   },
   "outputs": [
    {
     "data": {
      "text/plain": [
       "[0, 4, 16, 36, 64, 100, 144, 196, 256, 324]"
      ]
     },
     "execution_count": 10,
     "metadata": {},
     "output_type": "execute_result"
    }
   ],
   "source": [
    "listinit=list(range(0,20,2))\n",
    "res = [x**2 for x in listinit if (x % 2 == 0)]\n",
    "res"
   ]
  },
  {
   "cell_type": "markdown",
   "metadata": {
    "slideshow": {
     "slide_type": "subslide"
    }
   },
   "source": [
    "**Exercise :**\n",
    "    \n",
    "From a list of values in celsius degrees `[0, 10, 20, 35]`, create a list of fahrenheits degrees, given the conversion formula:`Farenheit = (9/5*celsius+32)`"
   ]
  },
  {
   "cell_type": "code",
   "execution_count": null,
   "metadata": {},
   "outputs": [],
   "source": []
  },
  {
   "cell_type": "markdown",
   "metadata": {
    "slideshow": {
     "slide_type": "subslide"
    }
   },
   "source": [
    "## Strings: a specific kind of lists\n",
    "\n",
    "A string is just a list with specific methods (`.upper()`, `.find()`, `.count()`, `.replace()`...)\n",
    "\n",
    "One can convert a string into a list:\n",
    "- Character by character: `list(str)`\n",
    "- With separators: `.split(sep)`\n",
    "- And reverse the operation: `sep.join(list)`"
   ]
  },
  {
   "cell_type": "markdown",
   "metadata": {
    "slideshow": {
     "slide_type": "subslide"
    }
   },
   "source": [
    "## III.3 The dictionaries\n",
    "\n",
    "It's a collection of non ordered object with pairs of \"key – value\""
   ]
  },
  {
   "cell_type": "code",
   "execution_count": 11,
   "metadata": {
    "slideshow": {
     "slide_type": "fragment"
    }
   },
   "outputs": [
    {
     "name": "stdout",
     "output_type": "stream",
     "text": [
      "5\n"
     ]
    }
   ],
   "source": [
    "my_dic = {'Paris':5, 'Lyon':2, 'Bordeaux':1}\n",
    "print(my_dic['Paris'])"
   ]
  },
  {
   "cell_type": "markdown",
   "metadata": {},
   "source": [
    "One can get the keys and values:"
   ]
  },
  {
   "cell_type": "code",
   "execution_count": 12,
   "metadata": {
    "slideshow": {
     "slide_type": "fragment"
    }
   },
   "outputs": [
    {
     "name": "stdout",
     "output_type": "stream",
     "text": [
      "dict_keys(['Paris', 'Lyon', 'Bordeaux'])\n",
      "dict_values([5, 2, 1])\n"
     ]
    }
   ],
   "source": [
    "print(my_dic.keys())\n",
    "print(my_dic.values())"
   ]
  },
  {
   "cell_type": "markdown",
   "metadata": {
    "slideshow": {
     "slide_type": "subslide"
    }
   },
   "source": [
    "**Exercise:**\n",
    "\n",
    "Implement a dict of list of cities as values, and countries as keys. Access an element of a list of the dict, and display the city in upper case."
   ]
  },
  {
   "cell_type": "code",
   "execution_count": null,
   "metadata": {},
   "outputs": [],
   "source": []
  },
  {
   "cell_type": "markdown",
   "metadata": {
    "slideshow": {
     "slide_type": "subslide"
    }
   },
   "source": [
    "## Dictionary comprehension\n",
    "\n",
    "Just like list comprehension, one can do dictionary comprehension:"
   ]
  },
  {
   "cell_type": "code",
   "execution_count": 13,
   "metadata": {
    "slideshow": {
     "slide_type": "fragment"
    }
   },
   "outputs": [
    {
     "name": "stdout",
     "output_type": "stream",
     "text": [
      "{'a': 1, 'b': 2, 'c': 3, 'd': 4, 'e': 5}\n"
     ]
    }
   ],
   "source": [
    "keys = ['a', 'b', 'c', 'd', 'e']\n",
    "dico_comp = {key:value+1 for (key, value) in zip(keys, range(len(keys)))} \n",
    "print(dico_comp)"
   ]
  },
  {
   "cell_type": "markdown",
   "metadata": {
    "slideshow": {
     "slide_type": "slide"
    }
   },
   "source": [
    "# IV. Functions \n",
    "\n",
    "- Les niveaux d’une fonction dépendent de l’indentation\n",
    "- They are defined with `def function():` then indendation\n",
    "- Function can return a value with `return` \n",
    "- Documentation is within a doctring: `\"\"\"` \n"
   ]
  },
  {
   "cell_type": "code",
   "execution_count": 14,
   "metadata": {
    "slideshow": {
     "slide_type": "fragment"
    }
   },
   "outputs": [],
   "source": [
    "def return_product(val1, val2):\n",
    "    \"\"\"This function returns the product of val1 with val2\"\"\"\n",
    "    return val1*val2"
   ]
  },
  {
   "cell_type": "markdown",
   "metadata": {
    "slideshow": {
     "slide_type": "subslide"
    }
   },
   "source": [
    "A function can have several arguments, including optional ones, with default values:"
   ]
  },
  {
   "cell_type": "code",
   "execution_count": 15,
   "metadata": {
    "slideshow": {
     "slide_type": "fragment"
    }
   },
   "outputs": [],
   "source": [
    "def test(a, b, c=3):\n",
    "    return a+b+c"
   ]
  },
  {
   "cell_type": "markdown",
   "metadata": {
    "slideshow": {
     "slide_type": "fragment"
    }
   },
   "source": [
    "What will return:\n",
    "- test(2,3)\n",
    "- test(2,3,4)"
   ]
  },
  {
   "cell_type": "markdown",
   "metadata": {
    "slideshow": {
     "slide_type": "subslide"
    }
   },
   "source": [
    "One can have undefine number of arguments using `*args`:"
   ]
  },
  {
   "cell_type": "code",
   "execution_count": 16,
   "metadata": {
    "slideshow": {
     "slide_type": "fragment"
    }
   },
   "outputs": [],
   "source": [
    "def test2(a, b, *args):\n",
    "    val=0\n",
    "    for i in args:\n",
    "        val+=i\n",
    "    return a+b+val"
   ]
  },
  {
   "cell_type": "markdown",
   "metadata": {
    "slideshow": {
     "slide_type": "fragment"
    }
   },
   "source": [
    "What will return:\n",
    "- test2(2,4,6,8)\n",
    "- test2(2,4)"
   ]
  },
  {
   "cell_type": "markdown",
   "metadata": {
    "slideshow": {
     "slide_type": "subslide"
    }
   },
   "source": [
    "One can also store options within a dict with `**kwargs`:"
   ]
  },
  {
   "cell_type": "code",
   "execution_count": 17,
   "metadata": {
    "slideshow": {
     "slide_type": "fragment"
    }
   },
   "outputs": [],
   "source": [
    "def test3(a, b, *args, w=1, **kwargs):\n",
    "    x=0\n",
    "    for val in args:\n",
    "        x+=val\n",
    "    x+=a\n",
    "    x-=b\n",
    "    x*=w\n",
    "    option1=kwargs.get('option1',False)\n",
    "    option2=kwargs.get('option2',False)\n",
    "    if option1 is True and option2 is True:\n",
    "        print(\"Tout est vrai\")\n",
    "        return x\n",
    "    else:\n",
    "        return x/2"
   ]
  },
  {
   "cell_type": "markdown",
   "metadata": {
    "slideshow": {
     "slide_type": "fragment"
    }
   },
   "source": [
    "What will return:\n",
    "- test3(1,2)\n",
    "- test3(1,2,3,4)\n",
    "- test3(1,2,option1=True)\n",
    "- test3(1,2,option1=True,option2=True)\n",
    "- test3(1,2,3,4,w=2,option1=True,option2=True)"
   ]
  },
  {
   "cell_type": "markdown",
   "metadata": {
    "slideshow": {
     "slide_type": "subslide"
    }
   },
   "source": [
    "## Iterative and recursive functions\n",
    "\n",
    "There are two main types functions:\n",
    "- iterative function will basically loop over a set of values, most likely with a `for` or `while` loop\n",
    "- recurvise function will recursively act on a set of values "
   ]
  },
  {
   "cell_type": "markdown",
   "metadata": {
    "slideshow": {
     "slide_type": "subslide"
    }
   },
   "source": [
    "Here is an example of a function, displaying all values from `n` to `0`:"
   ]
  },
  {
   "cell_type": "code",
   "execution_count": 18,
   "metadata": {
    "slideshow": {
     "slide_type": "fragment"
    }
   },
   "outputs": [
    {
     "name": "stdout",
     "output_type": "stream",
     "text": [
      "iterative result\n",
      "3\n",
      "2\n",
      "1\n",
      "0\n"
     ]
    }
   ],
   "source": [
    "def iterative_display(n):\n",
    "    for i in range(n, -1, -1):\n",
    "        print(i)\n",
    "        \n",
    "print(\"iterative result\")\n",
    "iterative_display(3)"
   ]
  },
  {
   "cell_type": "code",
   "execution_count": 19,
   "metadata": {
    "slideshow": {
     "slide_type": "fragment"
    }
   },
   "outputs": [
    {
     "name": "stdout",
     "output_type": "stream",
     "text": [
      "recursive result\n",
      "3\n",
      "2\n",
      "1\n",
      "0\n"
     ]
    }
   ],
   "source": [
    "def recursive_display(n):\n",
    "    print(n)\n",
    "    if n>0:\n",
    "        recursive_display(n-1)\n",
    "\n",
    "print(\"recursive result\")\n",
    "recursive_display(3)"
   ]
  },
  {
   "cell_type": "markdown",
   "metadata": {
    "slideshow": {
     "slide_type": "subslide"
    }
   },
   "source": [
    "**Exercise:**\n",
    "\n",
    "Write a function that computes the factorial of an integer iteratively, and another recursively."
   ]
  },
  {
   "cell_type": "code",
   "execution_count": null,
   "metadata": {},
   "outputs": [],
   "source": []
  },
  {
   "cell_type": "markdown",
   "metadata": {
    "slideshow": {
     "slide_type": "subslide"
    }
   },
   "source": [
    "## Lambda functions\n",
    "\n",
    "- They are usually short functions to simplify code\n",
    "- Most likely called only once\n",
    "- Limited to basic, short instructions\n",
    "- When to use them?\n",
    "    - Inside other functions\n",
    "    - As a parameter of a function"
   ]
  },
  {
   "cell_type": "code",
   "execution_count": 20,
   "metadata": {
    "slideshow": {
     "slide_type": "fragment"
    }
   },
   "outputs": [
    {
     "name": "stdout",
     "output_type": "stream",
     "text": [
      "125\n",
      "125\n"
     ]
    }
   ],
   "source": [
    "f = lambda x:x**3\n",
    "print(f(5))\n",
    "print((lambda x:x**3)(5))"
   ]
  },
  {
   "cell_type": "markdown",
   "metadata": {
    "slideshow": {
     "slide_type": "slide"
    }
   },
   "source": [
    "# V. Classes\n",
    "\n",
    "- Object Oriented Programming is central is Python: all variables are objects\n",
    "- A class is the descrition of an object, and how to build it\n",
    "- An object is called an instance of a class\n",
    "- Classes have attributes (internal variables) and methods (interval functions)\n",
    "\n",
    "Below is an example of class:"
   ]
  },
  {
   "cell_type": "code",
   "execution_count": 21,
   "metadata": {
    "slideshow": {
     "slide_type": "fragment"
    }
   },
   "outputs": [],
   "source": [
    "class MyClass():\n",
    "    # The constructor\n",
    "    def __init__(self, val1=0, val2=0):\n",
    "        # My attributes\n",
    "        self.val1=val1\n",
    "        self.val2=val2\n",
    "    \n",
    "    # A method\n",
    "    def my_method(self, param1):\n",
    "        self.val1 += param1\n",
    "        print(self.val1)"
   ]
  },
  {
   "cell_type": "markdown",
   "metadata": {
    "slideshow": {
     "slide_type": "subslide"
    }
   },
   "source": [
    "Then one can create and interact with objects as follows:"
   ]
  },
  {
   "cell_type": "code",
   "execution_count": 22,
   "metadata": {
    "slideshow": {
     "slide_type": "fragment"
    }
   },
   "outputs": [
    {
     "name": "stdout",
     "output_type": "stream",
     "text": [
      "5\n"
     ]
    }
   ],
   "source": [
    "my_object1 = MyClass(1, 2)\n",
    "my_object2 = MyClass(4, -1)\n",
    "my_object2.my_method(1)"
   ]
  },
  {
   "cell_type": "markdown",
   "metadata": {
    "slideshow": {
     "slide_type": "subslide"
    }
   },
   "source": [
    "**Exercise:**\n",
    "\n",
    "Define a `BankAccount` class, allowing to instantiate objects such as `account1`, `account2`.\n",
    "\n",
    "The constructor has two attributes, `name` and `balance`, with respective default values `'Bill'` and `0`.\n",
    "\n",
    "Implement three methods:\n",
    "- `deposit(amount)` allows to add amount to the balance\n",
    "- `withdrawal(amount)` allows to remove amount to the balance\n",
    "- `display_balance()` allows to display the balance, with a warning in case of negative balance"
   ]
  },
  {
   "cell_type": "code",
   "execution_count": null,
   "metadata": {},
   "outputs": [],
   "source": []
  }
 ],
 "metadata": {
  "celltoolbar": "Slideshow",
  "kernelspec": {
   "display_name": "Python 3",
   "language": "python",
   "name": "python3"
  },
  "language_info": {
   "codemirror_mode": {
    "name": "ipython",
    "version": 3
   },
   "file_extension": ".py",
   "mimetype": "text/x-python",
   "name": "python",
   "nbconvert_exporter": "python",
   "pygments_lexer": "ipython3",
   "version": "3.7.4"
  }
 },
 "nbformat": 4,
 "nbformat_minor": 2
}
